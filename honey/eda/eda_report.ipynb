{
 "cells": [
  {
   "cell_type": "markdown",
   "id": "526da02e",
   "metadata": {},
   "source": [
    "# Baron Honey Co. Raw Honey Market Pricing Analysis  "
   ]
  },
  {
   "cell_type": "markdown",
   "id": "b17aa086",
   "metadata": {},
   "source": [
    "## Table of Contents \n",
    "1. [Introduction](#Introduction)\n",
    "2. [Executive Summary](#Executive-Summary)\n",
    "3. [Import Data](#import-data)\n",
    "4. [Clean Data](#clean-data)\n",
    "5. [Filter Data Set](#Filter-Data-Set)\n",
    "6. [Initial Exploration](#Initial-Exploration)\n",
    "7. [Exploratory Data Analysis](#Exploratory-Data-Analysis)\n",
    "8. [Most Bought Products](#most-bought-products) \n",
    "9. [Most Reviewed Products](#products-with-highest-reviews)\n",
    "10. [Natural Language Processing](#natural-language-processing-analysis)\n",
    "10. [Recommendations](#recommendations)"
   ]
  },
  {
   "cell_type": "markdown",
   "id": "e697bc87",
   "metadata": {},
   "source": [
    "---------------------------------------------------------------------------------------------------------------------------------------------------------------------------"
   ]
  },
  {
   "cell_type": "markdown",
   "id": "d3c263a2",
   "metadata": {},
   "source": [
    "## Introduction"
   ]
  },
  {
   "cell_type": "markdown",
   "id": "f8dac327",
   "metadata": {},
   "source": [
    "- **Business Problem**: Baron Honey Co. is releasing a new raw honey product in the United States and want to know how to competitively price their honey in the current market. \n",
    "- **Business Solution**: \n",
    "    Baron Honey Company is releasing a new raw honey product to market in the United States and in order to set the product's pricing, it must know the pricing of competing honey products. To accomplish this, competing products will be clustered into groups based on how many products they sold last month and a range of descriptive statistics(average price per ounce, average monthly sales, average rating etc.) will be calculated. This process will be repeated for the most reviewed products to find any discernible differences between the two categories. Lastly, Natural Language Processing techniques will be used to find the most used words in the titles and description of the top 10 best selling products. This will allow Baron Honey Co. to write product listings containing popular search words which will increase their page ranking when a customer searches for products. With this information the executives at Baron Honey Co. will be able to competively price their new honey product and write an optimal product listing. \n",
    "\n",
    "- **Dataset Overview**: There will be only one dataset used which was acquired by web scrapping E-commerce websites. This provides the most up-to-date information on the honey market for accurate analysis. "
   ]
  },
  {
   "cell_type": "markdown",
   "id": "bcf430dd",
   "metadata": {},
   "source": [
    "---------------------------------------------------------------------------------------------------------------------------------------------------------------------------"
   ]
  },
  {
   "cell_type": "markdown",
   "id": "56d481de",
   "metadata": {},
   "source": [
    "## Import data "
   ]
  },
  {
   "cell_type": "code",
   "execution_count": 2,
   "id": "bffa23c8",
   "metadata": {},
   "outputs": [],
   "source": [
    "import re\n",
    "from plotly.subplots import make_subplots\n",
    "import plotly.graph_objects as go\n",
    "from wordcloud import WordCloud\n",
    "import sys \n",
    "\n",
    "sys.path.append('../')\n",
    "\n",
    "from data_processing.stats import *\n",
    "from data_processing.database_operations import *\n",
    "from data_processing.cleaning_pipeline import *\n",
    "\n",
    "%load_ext autoreload\n",
    "%autoreload 2"
   ]
  },
  {
   "cell_type": "code",
   "execution_count": 3,
   "id": "2c66a2cd",
   "metadata": {},
   "outputs": [
    {
     "data": {
      "text/html": [
       "<div>\n",
       "<style scoped>\n",
       "    .dataframe tbody tr th:only-of-type {\n",
       "        vertical-align: middle;\n",
       "    }\n",
       "\n",
       "    .dataframe tbody tr th {\n",
       "        vertical-align: top;\n",
       "    }\n",
       "\n",
       "    .dataframe thead th {\n",
       "        text-align: right;\n",
       "    }\n",
       "</style>\n",
       "<table border=\"1\" class=\"dataframe\">\n",
       "  <thead>\n",
       "    <tr style=\"text-align: right;\">\n",
       "      <th></th>\n",
       "      <th>index</th>\n",
       "      <th>title</th>\n",
       "      <th>brand</th>\n",
       "      <th>weight</th>\n",
       "      <th>price</th>\n",
       "      <th>price_per_ounce</th>\n",
       "      <th>product_rating</th>\n",
       "      <th>bought_last_month</th>\n",
       "      <th>num_reviews</th>\n",
       "      <th>product_description</th>\n",
       "      <th>product_upc</th>\n",
       "      <th>date_acquired</th>\n",
       "    </tr>\n",
       "  </thead>\n",
       "  <tbody>\n",
       "    <tr>\n",
       "      <th>0</th>\n",
       "      <td>1</td>\n",
       "      <td>Nate's 100% Pure, Raw &amp; Unfiltered Hon...</td>\n",
       "      <td>Nature Nate's</td>\n",
       "      <td>16.0</td>\n",
       "      <td>7.97</td>\n",
       "      <td>0.50</td>\n",
       "      <td>4.7</td>\n",
       "      <td>10000.0</td>\n",
       "      <td>66010.0</td>\n",
       "      <td>Nate's 100% Pure, Raw &amp; Unfiltered Honey is ...</td>\n",
       "      <td>038778830161</td>\n",
       "      <td>2025-05-15</td>\n",
       "    </tr>\n",
       "    <tr>\n",
       "      <th>1</th>\n",
       "      <td>2</td>\n",
       "      <td>Amazon Grocery, Raw Wildflower Pure Ho...</td>\n",
       "      <td>Amazon Grocery</td>\n",
       "      <td>32.0</td>\n",
       "      <td>11.41</td>\n",
       "      <td>0.36</td>\n",
       "      <td>4.7</td>\n",
       "      <td>10000.0</td>\n",
       "      <td>17839.0</td>\n",
       "      <td>One 2 pound bottle of Raw Wildflower Pure Ho...</td>\n",
       "      <td>842379155444</td>\n",
       "      <td>2025-05-15</td>\n",
       "    </tr>\n",
       "    <tr>\n",
       "      <th>2</th>\n",
       "      <td>3</td>\n",
       "      <td>HONEY FEAST Wildflower Honey - 6 Pound...</td>\n",
       "      <td>Honey Feast</td>\n",
       "      <td>96.0</td>\n",
       "      <td>34.89</td>\n",
       "      <td>0.36</td>\n",
       "      <td>4.5</td>\n",
       "      <td>800.0</td>\n",
       "      <td>555.0</td>\n",
       "      <td>Generous Bulk Offering: Step into the world ...</td>\n",
       "      <td>857598008617</td>\n",
       "      <td>2025-05-15</td>\n",
       "    </tr>\n",
       "    <tr>\n",
       "      <th>3</th>\n",
       "      <td>4</td>\n",
       "      <td>Raw, Unfiltered, Unpasteurized Texas H...</td>\n",
       "      <td>Desert Creek</td>\n",
       "      <td>960.0</td>\n",
       "      <td>254.00</td>\n",
       "      <td>0.26</td>\n",
       "      <td>4.6</td>\n",
       "      <td>100.0</td>\n",
       "      <td>440.0</td>\n",
       "      <td>The perfect bulk size!    Perfectly deliciou...</td>\n",
       "      <td>853550002266</td>\n",
       "      <td>2025-05-15</td>\n",
       "    </tr>\n",
       "    <tr>\n",
       "      <th>4</th>\n",
       "      <td>5</td>\n",
       "      <td>Nate's 100% Pure, Raw &amp; Unfiltered Hon...</td>\n",
       "      <td>Nature Nate's</td>\n",
       "      <td>32.0</td>\n",
       "      <td>13.69</td>\n",
       "      <td>0.43</td>\n",
       "      <td>4.7</td>\n",
       "      <td>30000.0</td>\n",
       "      <td>66010.0</td>\n",
       "      <td>Nate's 100% Pure, Raw &amp; Unfiltered Honey is ...</td>\n",
       "      <td>038778830321</td>\n",
       "      <td>2025-05-15</td>\n",
       "    </tr>\n",
       "  </tbody>\n",
       "</table>\n",
       "</div>"
      ],
      "text/plain": [
       "   index                                              title           brand  \\\n",
       "0      1          Nate's 100% Pure, Raw & Unfiltered Hon...   Nature Nate's   \n",
       "1      2          Amazon Grocery, Raw Wildflower Pure Ho...  Amazon Grocery   \n",
       "2      3          HONEY FEAST Wildflower Honey - 6 Pound...     Honey Feast   \n",
       "3      4          Raw, Unfiltered, Unpasteurized Texas H...    Desert Creek   \n",
       "4      5          Nate's 100% Pure, Raw & Unfiltered Hon...   Nature Nate's   \n",
       "\n",
       "   weight   price  price_per_ounce  product_rating  bought_last_month  \\\n",
       "0    16.0    7.97             0.50             4.7            10000.0   \n",
       "1    32.0   11.41             0.36             4.7            10000.0   \n",
       "2    96.0   34.89             0.36             4.5              800.0   \n",
       "3   960.0  254.00             0.26             4.6              100.0   \n",
       "4    32.0   13.69             0.43             4.7            30000.0   \n",
       "\n",
       "   num_reviews                                product_description  \\\n",
       "0      66010.0    Nate's 100% Pure, Raw & Unfiltered Honey is ...   \n",
       "1      17839.0    One 2 pound bottle of Raw Wildflower Pure Ho...   \n",
       "2        555.0    Generous Bulk Offering: Step into the world ...   \n",
       "3        440.0    The perfect bulk size!    Perfectly deliciou...   \n",
       "4      66010.0    Nate's 100% Pure, Raw & Unfiltered Honey is ...   \n",
       "\n",
       "    product_upc date_acquired  \n",
       "0  038778830161    2025-05-15  \n",
       "1  842379155444    2025-05-15  \n",
       "2  857598008617    2025-05-15  \n",
       "3  853550002266    2025-05-15  \n",
       "4  038778830321    2025-05-15  "
      ]
     },
     "execution_count": 3,
     "metadata": {},
     "output_type": "execute_result"
    }
   ],
   "source": [
    "df = extract_scraped_data(\"clean_data\")\n",
    "df.head()"
   ]
  },
  {
   "cell_type": "markdown",
   "id": "d926b715",
   "metadata": {},
   "source": [
    "## Clean data "
   ]
  },
  {
   "cell_type": "code",
   "execution_count": 279,
   "id": "6b69e9db",
   "metadata": {},
   "outputs": [],
   "source": [
    "# df = cleaning_pipeline(df)\n",
    "# df.head()"
   ]
  },
  {
   "cell_type": "code",
   "execution_count": 280,
   "id": "c22824af",
   "metadata": {},
   "outputs": [],
   "source": [
    "# df.to_csv(\"clean_honey_data.csv\")"
   ]
  },
  {
   "cell_type": "code",
   "execution_count": 281,
   "id": "35bc8bcd",
   "metadata": {},
   "outputs": [],
   "source": [
    "# insert_clean_data(df, 'clean_data')"
   ]
  },
  {
   "cell_type": "markdown",
   "id": "00400e51",
   "metadata": {},
   "source": [
    "## Filter Data Set"
   ]
  },
  {
   "cell_type": "markdown",
   "id": "3f3d02f1",
   "metadata": {},
   "source": [
    "Because Baron Honey Co.'s product is raw honey our analysis will only look at other products that are also listed as \"raw\" by the sellers. "
   ]
  },
  {
   "cell_type": "code",
   "execution_count": 4,
   "id": "349a824e",
   "metadata": {},
   "outputs": [],
   "source": [
    "# Only keep rows that contain mention of Raw Honey in title or description \n",
    "filter_title = (\n",
    "    df['title'].str.contains(r'\\bRaw\\b', case=False, regex=True, na=False) & \n",
    "    df['title'].str.contains(r'\\bHoney\\b', case=False, regex=True, na=False)\n",
    ")\n",
    "\n",
    "filter_desc = (\n",
    "    df['product_description'].str.contains(r'\\bRaw\\b', case=False, regex=True, na=False) & \n",
    "    df['product_description'].str.contains(r'\\bHoney\\b', case=False, regex=True, na=False)\n",
    ")\n",
    "\n",
    "df = df[filter_title | filter_desc]"
   ]
  },
  {
   "cell_type": "markdown",
   "id": "44b0096b",
   "metadata": {},
   "source": [
    "## Initial Exploration"
   ]
  },
  {
   "cell_type": "markdown",
   "id": "0627f283",
   "metadata": {},
   "source": [
    "This section's goal is to understand the characteristics such as data types and distribution of the honey dataset"
   ]
  },
  {
   "cell_type": "code",
   "execution_count": 283,
   "id": "9726560e",
   "metadata": {},
   "outputs": [
    {
     "data": {
      "text/plain": [
       "index                    int64\n",
       "title                   object\n",
       "brand                   object\n",
       "weight                 float64\n",
       "price                  float64\n",
       "price_per_ounce        float64\n",
       "product_rating         float64\n",
       "bought_last_month      float64\n",
       "num_reviews            float64\n",
       "product_description     object\n",
       "product_upc             object\n",
       "date_acquired           object\n",
       "dtype: object"
      ]
     },
     "execution_count": 283,
     "metadata": {},
     "output_type": "execute_result"
    }
   ],
   "source": [
    "df.dtypes"
   ]
  },
  {
   "cell_type": "code",
   "execution_count": 284,
   "id": "af343374",
   "metadata": {},
   "outputs": [
    {
     "data": {
      "text/html": [
       "<div>\n",
       "<style scoped>\n",
       "    .dataframe tbody tr th:only-of-type {\n",
       "        vertical-align: middle;\n",
       "    }\n",
       "\n",
       "    .dataframe tbody tr th {\n",
       "        vertical-align: top;\n",
       "    }\n",
       "\n",
       "    .dataframe thead th {\n",
       "        text-align: right;\n",
       "    }\n",
       "</style>\n",
       "<table border=\"1\" class=\"dataframe\">\n",
       "  <thead>\n",
       "    <tr style=\"text-align: right;\">\n",
       "      <th></th>\n",
       "      <th>index</th>\n",
       "      <th>weight</th>\n",
       "      <th>price</th>\n",
       "      <th>price_per_ounce</th>\n",
       "      <th>product_rating</th>\n",
       "      <th>bought_last_month</th>\n",
       "      <th>num_reviews</th>\n",
       "    </tr>\n",
       "  </thead>\n",
       "  <tbody>\n",
       "    <tr>\n",
       "      <th>count</th>\n",
       "      <td>9791.000000</td>\n",
       "      <td>9092.000000</td>\n",
       "      <td>9565.000000</td>\n",
       "      <td>8958.000000</td>\n",
       "      <td>9431.000000</td>\n",
       "      <td>5660.000000</td>\n",
       "      <td>9431.000000</td>\n",
       "    </tr>\n",
       "    <tr>\n",
       "      <th>mean</th>\n",
       "      <td>6632.898682</td>\n",
       "      <td>29.688677</td>\n",
       "      <td>36.754641</td>\n",
       "      <td>3.689223</td>\n",
       "      <td>4.474298</td>\n",
       "      <td>1325.556537</td>\n",
       "      <td>2642.514368</td>\n",
       "    </tr>\n",
       "    <tr>\n",
       "      <th>std</th>\n",
       "      <td>3744.182708</td>\n",
       "      <td>74.846798</td>\n",
       "      <td>35.668462</td>\n",
       "      <td>9.721017</td>\n",
       "      <td>0.307883</td>\n",
       "      <td>3532.459504</td>\n",
       "      <td>8927.355272</td>\n",
       "    </tr>\n",
       "    <tr>\n",
       "      <th>min</th>\n",
       "      <td>1.000000</td>\n",
       "      <td>1.000000</td>\n",
       "      <td>4.000000</td>\n",
       "      <td>0.180000</td>\n",
       "      <td>2.400000</td>\n",
       "      <td>50.000000</td>\n",
       "      <td>1.000000</td>\n",
       "    </tr>\n",
       "    <tr>\n",
       "      <th>25%</th>\n",
       "      <td>3382.500000</td>\n",
       "      <td>8.820000</td>\n",
       "      <td>15.430000</td>\n",
       "      <td>0.780000</td>\n",
       "      <td>4.400000</td>\n",
       "      <td>100.000000</td>\n",
       "      <td>72.000000</td>\n",
       "    </tr>\n",
       "    <tr>\n",
       "      <th>50%</th>\n",
       "      <td>6649.000000</td>\n",
       "      <td>16.000000</td>\n",
       "      <td>25.000000</td>\n",
       "      <td>1.450000</td>\n",
       "      <td>4.600000</td>\n",
       "      <td>200.000000</td>\n",
       "      <td>332.000000</td>\n",
       "    </tr>\n",
       "    <tr>\n",
       "      <th>75%</th>\n",
       "      <td>9755.500000</td>\n",
       "      <td>24.500000</td>\n",
       "      <td>41.000000</td>\n",
       "      <td>3.060000</td>\n",
       "      <td>4.700000</td>\n",
       "      <td>700.000000</td>\n",
       "      <td>1060.000000</td>\n",
       "    </tr>\n",
       "    <tr>\n",
       "      <th>max</th>\n",
       "      <td>13214.000000</td>\n",
       "      <td>960.000000</td>\n",
       "      <td>298.880000</td>\n",
       "      <td>113.950000</td>\n",
       "      <td>5.000000</td>\n",
       "      <td>30000.000000</td>\n",
       "      <td>66202.000000</td>\n",
       "    </tr>\n",
       "  </tbody>\n",
       "</table>\n",
       "</div>"
      ],
      "text/plain": [
       "              index       weight        price  price_per_ounce  \\\n",
       "count   9791.000000  9092.000000  9565.000000      8958.000000   \n",
       "mean    6632.898682    29.688677    36.754641         3.689223   \n",
       "std     3744.182708    74.846798    35.668462         9.721017   \n",
       "min        1.000000     1.000000     4.000000         0.180000   \n",
       "25%     3382.500000     8.820000    15.430000         0.780000   \n",
       "50%     6649.000000    16.000000    25.000000         1.450000   \n",
       "75%     9755.500000    24.500000    41.000000         3.060000   \n",
       "max    13214.000000   960.000000   298.880000       113.950000   \n",
       "\n",
       "       product_rating  bought_last_month   num_reviews  \n",
       "count     9431.000000        5660.000000   9431.000000  \n",
       "mean         4.474298        1325.556537   2642.514368  \n",
       "std          0.307883        3532.459504   8927.355272  \n",
       "min          2.400000          50.000000      1.000000  \n",
       "25%          4.400000         100.000000     72.000000  \n",
       "50%          4.600000         200.000000    332.000000  \n",
       "75%          4.700000         700.000000   1060.000000  \n",
       "max          5.000000       30000.000000  66202.000000  "
      ]
     },
     "execution_count": 284,
     "metadata": {},
     "output_type": "execute_result"
    }
   ],
   "source": [
    "df.describe()"
   ]
  },
  {
   "cell_type": "code",
   "execution_count": 285,
   "id": "1b4ebbca",
   "metadata": {},
   "outputs": [
    {
     "data": {
      "text/plain": [
       "9791"
      ]
     },
     "execution_count": 285,
     "metadata": {},
     "output_type": "execute_result"
    }
   ],
   "source": [
    "len(df)"
   ]
  },
  {
   "cell_type": "code",
   "execution_count": 286,
   "id": "83c4a6a0",
   "metadata": {},
   "outputs": [
    {
     "data": {
      "text/plain": [
       "index                     0\n",
       "title                     0\n",
       "brand                   161\n",
       "weight                  699\n",
       "price                   226\n",
       "price_per_ounce         833\n",
       "product_rating          360\n",
       "bought_last_month      4131\n",
       "num_reviews             360\n",
       "product_description    2248\n",
       "product_upc            2916\n",
       "date_acquired             0\n",
       "dtype: int64"
      ]
     },
     "execution_count": 286,
     "metadata": {},
     "output_type": "execute_result"
    }
   ],
   "source": [
    "df.isna().sum()"
   ]
  },
  {
   "cell_type": "code",
   "execution_count": 287,
   "id": "60c543eb",
   "metadata": {},
   "outputs": [
    {
     "data": {
      "text/plain": [
       "378"
      ]
     },
     "execution_count": 287,
     "metadata": {},
     "output_type": "execute_result"
    }
   ],
   "source": [
    "# How many unique products are in the data \n",
    "len(df['product_upc'].unique())"
   ]
  },
  {
   "cell_type": "markdown",
   "id": "b71c01ce",
   "metadata": {},
   "source": [
    "## Exploratory Data Analysis "
   ]
  },
  {
   "cell_type": "markdown",
   "id": "5bdb8332",
   "metadata": {},
   "source": [
    "The data will be filtered, analyzed and visualized to answer the question in the business problem statement. The data will first be filtered to exclude Manuka honey products, which originate in New Zealand and are uniquely known for their medicinal healing benefits. Their inclusion in the analysis would skew our data. Because Honey Baron Co.'s new product is a fluid jar of honey, all single serving honey products will also be excluded to ensure the integrity of the data. \n",
    "\n",
    "Afterwards, descriptive statistics such as the average price per ounce(APPO), average sales last month, and average product rating will be computed for each of the-top 5, top 10 and so on-category of products. "
   ]
  },
  {
   "cell_type": "code",
   "execution_count": 288,
   "id": "17967996",
   "metadata": {},
   "outputs": [],
   "source": [
    "# Should we eliminate these outliers?  \n",
    "df = df[df['price_per_ounce'] < 5]"
   ]
  },
  {
   "cell_type": "markdown",
   "id": "844a8d36",
   "metadata": {},
   "source": [
    "### Most Bought Products"
   ]
  },
  {
   "cell_type": "code",
   "execution_count": 289,
   "id": "4794ee08",
   "metadata": {},
   "outputs": [
    {
     "data": {
      "text/html": [
       "<div>\n",
       "<style scoped>\n",
       "    .dataframe tbody tr th:only-of-type {\n",
       "        vertical-align: middle;\n",
       "    }\n",
       "\n",
       "    .dataframe tbody tr th {\n",
       "        vertical-align: top;\n",
       "    }\n",
       "\n",
       "    .dataframe thead th {\n",
       "        text-align: right;\n",
       "    }\n",
       "</style>\n",
       "<table border=\"1\" class=\"dataframe\">\n",
       "  <thead>\n",
       "    <tr style=\"text-align: right;\">\n",
       "      <th></th>\n",
       "      <th>title</th>\n",
       "      <th>brand</th>\n",
       "      <th>price_per_ounce</th>\n",
       "      <th>product_rating</th>\n",
       "      <th>bought_last_month</th>\n",
       "      <th>num_reviews</th>\n",
       "      <th>product_upc</th>\n",
       "      <th>date_acquired</th>\n",
       "    </tr>\n",
       "  </thead>\n",
       "  <tbody>\n",
       "    <tr>\n",
       "      <th>5476</th>\n",
       "      <td>Nate's 100% Pure, Raw &amp; Unfiltered Hon...</td>\n",
       "      <td>Nature Nate's</td>\n",
       "      <td>0.45</td>\n",
       "      <td>4.7</td>\n",
       "      <td>30000.0</td>\n",
       "      <td>66105.0</td>\n",
       "      <td>038778830321</td>\n",
       "      <td>2025-05-20</td>\n",
       "    </tr>\n",
       "    <tr>\n",
       "      <th>4528</th>\n",
       "      <td>Nate's Organic 100% Pure, Raw &amp; Unfilt...</td>\n",
       "      <td>Nature Nate's</td>\n",
       "      <td>0.53</td>\n",
       "      <td>4.6</td>\n",
       "      <td>10000.0</td>\n",
       "      <td>32425.0</td>\n",
       "      <td>038778610329</td>\n",
       "      <td>2025-05-19</td>\n",
       "    </tr>\n",
       "    <tr>\n",
       "      <th>10149</th>\n",
       "      <td>Nate's 100% Pure, Raw &amp; Unfiltered Hon...</td>\n",
       "      <td>Nature Nate's</td>\n",
       "      <td>0.46</td>\n",
       "      <td>4.7</td>\n",
       "      <td>10000.0</td>\n",
       "      <td>66167.0</td>\n",
       "      <td>038778830161</td>\n",
       "      <td>2025-05-22</td>\n",
       "    </tr>\n",
       "    <tr>\n",
       "      <th>9869</th>\n",
       "      <td>Nate's Organic 100% Pure, Raw &amp; Unfilt...</td>\n",
       "      <td>Nature Nate's</td>\n",
       "      <td>0.53</td>\n",
       "      <td>4.6</td>\n",
       "      <td>10000.0</td>\n",
       "      <td>32471.0</td>\n",
       "      <td>038778610169</td>\n",
       "      <td>2025-05-22</td>\n",
       "    </tr>\n",
       "    <tr>\n",
       "      <th>5302</th>\n",
       "      <td>365 by Whole Foods Market, Organic Lig...</td>\n",
       "      <td>365 by Whole Foods Market</td>\n",
       "      <td>0.58</td>\n",
       "      <td>4.7</td>\n",
       "      <td>10000.0</td>\n",
       "      <td>7977.0</td>\n",
       "      <td>099482446123</td>\n",
       "      <td>2025-05-20</td>\n",
       "    </tr>\n",
       "    <tr>\n",
       "      <th>10165</th>\n",
       "      <td>Amazon Grocery, Raw Wildflower Pure Ho...</td>\n",
       "      <td>Amazon Grocery</td>\n",
       "      <td>0.36</td>\n",
       "      <td>4.7</td>\n",
       "      <td>10000.0</td>\n",
       "      <td>17886.0</td>\n",
       "      <td>842379155444</td>\n",
       "      <td>2025-05-23</td>\n",
       "    </tr>\n",
       "    <tr>\n",
       "      <th>1749</th>\n",
       "      <td>Local Hive Wildflower Raw Unfiltered H...</td>\n",
       "      <td>Local Hive Honey</td>\n",
       "      <td>0.77</td>\n",
       "      <td>4.7</td>\n",
       "      <td>5000.0</td>\n",
       "      <td>2161.0</td>\n",
       "      <td>075002120247</td>\n",
       "      <td>2025-05-17</td>\n",
       "    </tr>\n",
       "    <tr>\n",
       "      <th>672</th>\n",
       "      <td>Nate's Georgia 100% Pure, Raw &amp; Unfilt...</td>\n",
       "      <td>Nature Nate's</td>\n",
       "      <td>0.37</td>\n",
       "      <td>4.7</td>\n",
       "      <td>3000.0</td>\n",
       "      <td>3572.0</td>\n",
       "      <td>038778890325</td>\n",
       "      <td>2025-05-17</td>\n",
       "    </tr>\n",
       "    <tr>\n",
       "      <th>8605</th>\n",
       "      <td>365 by Whole Foods Market, Organic Raw...</td>\n",
       "      <td>365 By Whole Foods Market</td>\n",
       "      <td>0.42</td>\n",
       "      <td>4.5</td>\n",
       "      <td>3000.0</td>\n",
       "      <td>4061.0</td>\n",
       "      <td>099482446161</td>\n",
       "      <td>2025-05-22</td>\n",
       "    </tr>\n",
       "    <tr>\n",
       "      <th>8585</th>\n",
       "      <td>Fischer's Clover Honey, 12 Oz – 100% P...</td>\n",
       "      <td>Fischer's</td>\n",
       "      <td>0.41</td>\n",
       "      <td>4.7</td>\n",
       "      <td>3000.0</td>\n",
       "      <td>421.0</td>\n",
       "      <td>011137012125</td>\n",
       "      <td>2025-05-22</td>\n",
       "    </tr>\n",
       "  </tbody>\n",
       "</table>\n",
       "</div>"
      ],
      "text/plain": [
       "                                                   title  \\\n",
       "5476           Nate's 100% Pure, Raw & Unfiltered Hon...   \n",
       "4528           Nate's Organic 100% Pure, Raw & Unfilt...   \n",
       "10149          Nate's 100% Pure, Raw & Unfiltered Hon...   \n",
       "9869           Nate's Organic 100% Pure, Raw & Unfilt...   \n",
       "5302           365 by Whole Foods Market, Organic Lig...   \n",
       "10165          Amazon Grocery, Raw Wildflower Pure Ho...   \n",
       "1749           Local Hive Wildflower Raw Unfiltered H...   \n",
       "672            Nate's Georgia 100% Pure, Raw & Unfilt...   \n",
       "8605           365 by Whole Foods Market, Organic Raw...   \n",
       "8585           Fischer's Clover Honey, 12 Oz – 100% P...   \n",
       "\n",
       "                           brand  price_per_ounce  product_rating  \\\n",
       "5476               Nature Nate's             0.45             4.7   \n",
       "4528               Nature Nate's             0.53             4.6   \n",
       "10149              Nature Nate's             0.46             4.7   \n",
       "9869               Nature Nate's             0.53             4.6   \n",
       "5302   365 by Whole Foods Market             0.58             4.7   \n",
       "10165             Amazon Grocery             0.36             4.7   \n",
       "1749            Local Hive Honey             0.77             4.7   \n",
       "672                Nature Nate's             0.37             4.7   \n",
       "8605   365 By Whole Foods Market             0.42             4.5   \n",
       "8585                   Fischer's             0.41             4.7   \n",
       "\n",
       "       bought_last_month  num_reviews   product_upc date_acquired  \n",
       "5476             30000.0      66105.0  038778830321    2025-05-20  \n",
       "4528             10000.0      32425.0  038778610329    2025-05-19  \n",
       "10149            10000.0      66167.0  038778830161    2025-05-22  \n",
       "9869             10000.0      32471.0  038778610169    2025-05-22  \n",
       "5302             10000.0       7977.0  099482446123    2025-05-20  \n",
       "10165            10000.0      17886.0  842379155444    2025-05-23  \n",
       "1749              5000.0       2161.0  075002120247    2025-05-17  \n",
       "672               3000.0       3572.0  038778890325    2025-05-17  \n",
       "8605              3000.0       4061.0  099482446161    2025-05-22  \n",
       "8585              3000.0        421.0  011137012125    2025-05-22  "
      ]
     },
     "execution_count": 289,
     "metadata": {},
     "output_type": "execute_result"
    }
   ],
   "source": [
    "# Exclude Manuka honey \n",
    "df = df[~df['title'].str.contains(\"[Mm]anuka\")]  \n",
    "df = df[~df['title'].str.contains(\"[Gg]inger [Hh]oney\")]  \n",
    "\n",
    "# Exclude all nan values from the data \n",
    "most_bought = df[df['bought_last_month'].isna() == False] \n",
    "\n",
    "# Exclude all single serving products  \n",
    "exclude_pattern = r'(?i)\\b(?:Straw(?:s)?|Stick(?:s)?|Packet(?:s)?|Single-Serve)\\b'\n",
    "\n",
    "most_bought = most_bought[\n",
    "  ~(most_bought['title'].str.contains(exclude_pattern, na=False) | \n",
    "  most_bought['product_description'].str.contains(exclude_pattern, na=False))\n",
    "]\n",
    "\n",
    "# sort the df by the most sold products \n",
    "most_bought = most_bought.sort_values(by=['bought_last_month'], ascending=False)\n",
    "\n",
    "# Only want to see unique products  \n",
    "most_bought = most_bought.drop_duplicates(subset='product_upc')\n",
    "\n",
    "most_bought[:10][['title', 'brand', 'price_per_ounce', 'product_rating', 'bought_last_month', 'num_reviews', 'product_upc', 'date_acquired']]"
   ]
  },
  {
   "cell_type": "markdown",
   "id": "9b41abcd",
   "metadata": {},
   "source": [
    "- As shown in the chart below, the APPO decreases as a product's popularity increases and the most popular products sell for an average of 49 cents per ounce with monthly sales of 14,000.  "
   ]
  },
  {
   "cell_type": "code",
   "execution_count": 290,
   "id": "cab6457c",
   "metadata": {},
   "outputs": [
    {
     "data": {
      "application/vnd.plotly.v1+json": {
       "config": {
        "plotlyServerURL": "https://plot.ly"
       },
       "data": [
        {
         "alignmentgroup": "True",
         "hovertemplate": "Product Ranking=%{x}<br>APPO=%{y}<extra></extra>",
         "legendgroup": "",
         "marker": {
          "color": "#636efa",
          "pattern": {
           "shape": ""
          }
         },
         "name": "",
         "offsetgroup": "",
         "orientation": "v",
         "showlegend": false,
         "textposition": "auto",
         "type": "bar",
         "x": [
          "Top 5",
          "Top 15",
          "Top 25",
          "Top 50",
          "Top 100"
         ],
         "xaxis": "x",
         "y": [
          0.51,
          0.57,
          1.27,
          0.76,
          0.86
         ],
         "yaxis": "y"
        }
       ],
       "layout": {
        "barmode": "relative",
        "height": 700,
        "legend": {
         "tracegroupgap": 0
        },
        "template": {
         "data": {
          "bar": [
           {
            "error_x": {
             "color": "#2a3f5f"
            },
            "error_y": {
             "color": "#2a3f5f"
            },
            "marker": {
             "line": {
              "color": "#E5ECF6",
              "width": 0.5
             },
             "pattern": {
              "fillmode": "overlay",
              "size": 10,
              "solidity": 0.2
             }
            },
            "type": "bar"
           }
          ],
          "barpolar": [
           {
            "marker": {
             "line": {
              "color": "#E5ECF6",
              "width": 0.5
             },
             "pattern": {
              "fillmode": "overlay",
              "size": 10,
              "solidity": 0.2
             }
            },
            "type": "barpolar"
           }
          ],
          "carpet": [
           {
            "aaxis": {
             "endlinecolor": "#2a3f5f",
             "gridcolor": "white",
             "linecolor": "white",
             "minorgridcolor": "white",
             "startlinecolor": "#2a3f5f"
            },
            "baxis": {
             "endlinecolor": "#2a3f5f",
             "gridcolor": "white",
             "linecolor": "white",
             "minorgridcolor": "white",
             "startlinecolor": "#2a3f5f"
            },
            "type": "carpet"
           }
          ],
          "choropleth": [
           {
            "colorbar": {
             "outlinewidth": 0,
             "ticks": ""
            },
            "type": "choropleth"
           }
          ],
          "contour": [
           {
            "colorbar": {
             "outlinewidth": 0,
             "ticks": ""
            },
            "colorscale": [
             [
              0,
              "#0d0887"
             ],
             [
              0.1111111111111111,
              "#46039f"
             ],
             [
              0.2222222222222222,
              "#7201a8"
             ],
             [
              0.3333333333333333,
              "#9c179e"
             ],
             [
              0.4444444444444444,
              "#bd3786"
             ],
             [
              0.5555555555555556,
              "#d8576b"
             ],
             [
              0.6666666666666666,
              "#ed7953"
             ],
             [
              0.7777777777777778,
              "#fb9f3a"
             ],
             [
              0.8888888888888888,
              "#fdca26"
             ],
             [
              1,
              "#f0f921"
             ]
            ],
            "type": "contour"
           }
          ],
          "contourcarpet": [
           {
            "colorbar": {
             "outlinewidth": 0,
             "ticks": ""
            },
            "type": "contourcarpet"
           }
          ],
          "heatmap": [
           {
            "colorbar": {
             "outlinewidth": 0,
             "ticks": ""
            },
            "colorscale": [
             [
              0,
              "#0d0887"
             ],
             [
              0.1111111111111111,
              "#46039f"
             ],
             [
              0.2222222222222222,
              "#7201a8"
             ],
             [
              0.3333333333333333,
              "#9c179e"
             ],
             [
              0.4444444444444444,
              "#bd3786"
             ],
             [
              0.5555555555555556,
              "#d8576b"
             ],
             [
              0.6666666666666666,
              "#ed7953"
             ],
             [
              0.7777777777777778,
              "#fb9f3a"
             ],
             [
              0.8888888888888888,
              "#fdca26"
             ],
             [
              1,
              "#f0f921"
             ]
            ],
            "type": "heatmap"
           }
          ],
          "heatmapgl": [
           {
            "colorbar": {
             "outlinewidth": 0,
             "ticks": ""
            },
            "colorscale": [
             [
              0,
              "#0d0887"
             ],
             [
              0.1111111111111111,
              "#46039f"
             ],
             [
              0.2222222222222222,
              "#7201a8"
             ],
             [
              0.3333333333333333,
              "#9c179e"
             ],
             [
              0.4444444444444444,
              "#bd3786"
             ],
             [
              0.5555555555555556,
              "#d8576b"
             ],
             [
              0.6666666666666666,
              "#ed7953"
             ],
             [
              0.7777777777777778,
              "#fb9f3a"
             ],
             [
              0.8888888888888888,
              "#fdca26"
             ],
             [
              1,
              "#f0f921"
             ]
            ],
            "type": "heatmapgl"
           }
          ],
          "histogram": [
           {
            "marker": {
             "pattern": {
              "fillmode": "overlay",
              "size": 10,
              "solidity": 0.2
             }
            },
            "type": "histogram"
           }
          ],
          "histogram2d": [
           {
            "colorbar": {
             "outlinewidth": 0,
             "ticks": ""
            },
            "colorscale": [
             [
              0,
              "#0d0887"
             ],
             [
              0.1111111111111111,
              "#46039f"
             ],
             [
              0.2222222222222222,
              "#7201a8"
             ],
             [
              0.3333333333333333,
              "#9c179e"
             ],
             [
              0.4444444444444444,
              "#bd3786"
             ],
             [
              0.5555555555555556,
              "#d8576b"
             ],
             [
              0.6666666666666666,
              "#ed7953"
             ],
             [
              0.7777777777777778,
              "#fb9f3a"
             ],
             [
              0.8888888888888888,
              "#fdca26"
             ],
             [
              1,
              "#f0f921"
             ]
            ],
            "type": "histogram2d"
           }
          ],
          "histogram2dcontour": [
           {
            "colorbar": {
             "outlinewidth": 0,
             "ticks": ""
            },
            "colorscale": [
             [
              0,
              "#0d0887"
             ],
             [
              0.1111111111111111,
              "#46039f"
             ],
             [
              0.2222222222222222,
              "#7201a8"
             ],
             [
              0.3333333333333333,
              "#9c179e"
             ],
             [
              0.4444444444444444,
              "#bd3786"
             ],
             [
              0.5555555555555556,
              "#d8576b"
             ],
             [
              0.6666666666666666,
              "#ed7953"
             ],
             [
              0.7777777777777778,
              "#fb9f3a"
             ],
             [
              0.8888888888888888,
              "#fdca26"
             ],
             [
              1,
              "#f0f921"
             ]
            ],
            "type": "histogram2dcontour"
           }
          ],
          "mesh3d": [
           {
            "colorbar": {
             "outlinewidth": 0,
             "ticks": ""
            },
            "type": "mesh3d"
           }
          ],
          "parcoords": [
           {
            "line": {
             "colorbar": {
              "outlinewidth": 0,
              "ticks": ""
             }
            },
            "type": "parcoords"
           }
          ],
          "pie": [
           {
            "automargin": true,
            "type": "pie"
           }
          ],
          "scatter": [
           {
            "fillpattern": {
             "fillmode": "overlay",
             "size": 10,
             "solidity": 0.2
            },
            "type": "scatter"
           }
          ],
          "scatter3d": [
           {
            "line": {
             "colorbar": {
              "outlinewidth": 0,
              "ticks": ""
             }
            },
            "marker": {
             "colorbar": {
              "outlinewidth": 0,
              "ticks": ""
             }
            },
            "type": "scatter3d"
           }
          ],
          "scattercarpet": [
           {
            "marker": {
             "colorbar": {
              "outlinewidth": 0,
              "ticks": ""
             }
            },
            "type": "scattercarpet"
           }
          ],
          "scattergeo": [
           {
            "marker": {
             "colorbar": {
              "outlinewidth": 0,
              "ticks": ""
             }
            },
            "type": "scattergeo"
           }
          ],
          "scattergl": [
           {
            "marker": {
             "colorbar": {
              "outlinewidth": 0,
              "ticks": ""
             }
            },
            "type": "scattergl"
           }
          ],
          "scattermapbox": [
           {
            "marker": {
             "colorbar": {
              "outlinewidth": 0,
              "ticks": ""
             }
            },
            "type": "scattermapbox"
           }
          ],
          "scatterpolar": [
           {
            "marker": {
             "colorbar": {
              "outlinewidth": 0,
              "ticks": ""
             }
            },
            "type": "scatterpolar"
           }
          ],
          "scatterpolargl": [
           {
            "marker": {
             "colorbar": {
              "outlinewidth": 0,
              "ticks": ""
             }
            },
            "type": "scatterpolargl"
           }
          ],
          "scatterternary": [
           {
            "marker": {
             "colorbar": {
              "outlinewidth": 0,
              "ticks": ""
             }
            },
            "type": "scatterternary"
           }
          ],
          "surface": [
           {
            "colorbar": {
             "outlinewidth": 0,
             "ticks": ""
            },
            "colorscale": [
             [
              0,
              "#0d0887"
             ],
             [
              0.1111111111111111,
              "#46039f"
             ],
             [
              0.2222222222222222,
              "#7201a8"
             ],
             [
              0.3333333333333333,
              "#9c179e"
             ],
             [
              0.4444444444444444,
              "#bd3786"
             ],
             [
              0.5555555555555556,
              "#d8576b"
             ],
             [
              0.6666666666666666,
              "#ed7953"
             ],
             [
              0.7777777777777778,
              "#fb9f3a"
             ],
             [
              0.8888888888888888,
              "#fdca26"
             ],
             [
              1,
              "#f0f921"
             ]
            ],
            "type": "surface"
           }
          ],
          "table": [
           {
            "cells": {
             "fill": {
              "color": "#EBF0F8"
             },
             "line": {
              "color": "white"
             }
            },
            "header": {
             "fill": {
              "color": "#C8D4E3"
             },
             "line": {
              "color": "white"
             }
            },
            "type": "table"
           }
          ]
         },
         "layout": {
          "annotationdefaults": {
           "arrowcolor": "#2a3f5f",
           "arrowhead": 0,
           "arrowwidth": 1
          },
          "autotypenumbers": "strict",
          "coloraxis": {
           "colorbar": {
            "outlinewidth": 0,
            "ticks": ""
           }
          },
          "colorscale": {
           "diverging": [
            [
             0,
             "#8e0152"
            ],
            [
             0.1,
             "#c51b7d"
            ],
            [
             0.2,
             "#de77ae"
            ],
            [
             0.3,
             "#f1b6da"
            ],
            [
             0.4,
             "#fde0ef"
            ],
            [
             0.5,
             "#f7f7f7"
            ],
            [
             0.6,
             "#e6f5d0"
            ],
            [
             0.7,
             "#b8e186"
            ],
            [
             0.8,
             "#7fbc41"
            ],
            [
             0.9,
             "#4d9221"
            ],
            [
             1,
             "#276419"
            ]
           ],
           "sequential": [
            [
             0,
             "#0d0887"
            ],
            [
             0.1111111111111111,
             "#46039f"
            ],
            [
             0.2222222222222222,
             "#7201a8"
            ],
            [
             0.3333333333333333,
             "#9c179e"
            ],
            [
             0.4444444444444444,
             "#bd3786"
            ],
            [
             0.5555555555555556,
             "#d8576b"
            ],
            [
             0.6666666666666666,
             "#ed7953"
            ],
            [
             0.7777777777777778,
             "#fb9f3a"
            ],
            [
             0.8888888888888888,
             "#fdca26"
            ],
            [
             1,
             "#f0f921"
            ]
           ],
           "sequentialminus": [
            [
             0,
             "#0d0887"
            ],
            [
             0.1111111111111111,
             "#46039f"
            ],
            [
             0.2222222222222222,
             "#7201a8"
            ],
            [
             0.3333333333333333,
             "#9c179e"
            ],
            [
             0.4444444444444444,
             "#bd3786"
            ],
            [
             0.5555555555555556,
             "#d8576b"
            ],
            [
             0.6666666666666666,
             "#ed7953"
            ],
            [
             0.7777777777777778,
             "#fb9f3a"
            ],
            [
             0.8888888888888888,
             "#fdca26"
            ],
            [
             1,
             "#f0f921"
            ]
           ]
          },
          "colorway": [
           "#636efa",
           "#EF553B",
           "#00cc96",
           "#ab63fa",
           "#FFA15A",
           "#19d3f3",
           "#FF6692",
           "#B6E880",
           "#FF97FF",
           "#FECB52"
          ],
          "font": {
           "color": "#2a3f5f"
          },
          "geo": {
           "bgcolor": "white",
           "lakecolor": "white",
           "landcolor": "#E5ECF6",
           "showlakes": true,
           "showland": true,
           "subunitcolor": "white"
          },
          "hoverlabel": {
           "align": "left"
          },
          "hovermode": "closest",
          "mapbox": {
           "style": "light"
          },
          "paper_bgcolor": "white",
          "plot_bgcolor": "#E5ECF6",
          "polar": {
           "angularaxis": {
            "gridcolor": "white",
            "linecolor": "white",
            "ticks": ""
           },
           "bgcolor": "#E5ECF6",
           "radialaxis": {
            "gridcolor": "white",
            "linecolor": "white",
            "ticks": ""
           }
          },
          "scene": {
           "xaxis": {
            "backgroundcolor": "#E5ECF6",
            "gridcolor": "white",
            "gridwidth": 2,
            "linecolor": "white",
            "showbackground": true,
            "ticks": "",
            "zerolinecolor": "white"
           },
           "yaxis": {
            "backgroundcolor": "#E5ECF6",
            "gridcolor": "white",
            "gridwidth": 2,
            "linecolor": "white",
            "showbackground": true,
            "ticks": "",
            "zerolinecolor": "white"
           },
           "zaxis": {
            "backgroundcolor": "#E5ECF6",
            "gridcolor": "white",
            "gridwidth": 2,
            "linecolor": "white",
            "showbackground": true,
            "ticks": "",
            "zerolinecolor": "white"
           }
          },
          "shapedefaults": {
           "line": {
            "color": "#2a3f5f"
           }
          },
          "ternary": {
           "aaxis": {
            "gridcolor": "white",
            "linecolor": "white",
            "ticks": ""
           },
           "baxis": {
            "gridcolor": "white",
            "linecolor": "white",
            "ticks": ""
           },
           "bgcolor": "#E5ECF6",
           "caxis": {
            "gridcolor": "white",
            "linecolor": "white",
            "ticks": ""
           }
          },
          "title": {
           "x": 0.05
          },
          "xaxis": {
           "automargin": true,
           "gridcolor": "white",
           "linecolor": "white",
           "ticks": "",
           "title": {
            "standoff": 15
           },
           "zerolinecolor": "white",
           "zerolinewidth": 2
          },
          "yaxis": {
           "automargin": true,
           "gridcolor": "white",
           "linecolor": "white",
           "ticks": "",
           "title": {
            "standoff": 15
           },
           "zerolinecolor": "white",
           "zerolinewidth": 2
          }
         }
        },
        "title": {
         "text": "APPO of Best Selling Products"
        },
        "width": 700,
        "xaxis": {
         "anchor": "y",
         "domain": [
          0,
          1
         ],
         "title": {
          "text": "Product Ranking"
         }
        },
        "yaxis": {
         "anchor": "x",
         "domain": [
          0,
          1
         ],
         "title": {
          "text": "APPO"
         }
        }
       }
      }
     },
     "metadata": {},
     "output_type": "display_data"
    }
   ],
   "source": [
    "appo_data = VisualizeData(\n",
    "    most_bought, \n",
    "    'average price per ounce', \n",
    "    \"APPO of Best Selling Products\", \n",
    "    'Product Ranking',\n",
    "    'APPO',\n",
    "    'bar'\n",
    ")\n",
    "appo_data.main()"
   ]
  },
  {
   "cell_type": "code",
   "execution_count": 291,
   "id": "6cd61e9b",
   "metadata": {},
   "outputs": [
    {
     "data": {
      "application/vnd.plotly.v1+json": {
       "config": {
        "plotlyServerURL": "https://plot.ly"
       },
       "data": [
        {
         "alignmentgroup": "True",
         "hovertemplate": "Product Ranking=%{x}<br>Average Monthly Sales=%{y}<extra></extra>",
         "legendgroup": "",
         "marker": {
          "color": "#636efa",
          "pattern": {
           "shape": ""
          }
         },
         "name": "",
         "offsetgroup": "",
         "orientation": "v",
         "showlegend": false,
         "textposition": "auto",
         "type": "bar",
         "x": [
          "Top 5",
          "Top 15",
          "Top 25",
          "Top 50",
          "Top 100"
         ],
         "xaxis": "x",
         "y": [
          14000,
          2555.56,
          777.78,
          464,
          175.51
         ],
         "yaxis": "y"
        }
       ],
       "layout": {
        "barmode": "relative",
        "height": 700,
        "legend": {
         "tracegroupgap": 0
        },
        "template": {
         "data": {
          "bar": [
           {
            "error_x": {
             "color": "#2a3f5f"
            },
            "error_y": {
             "color": "#2a3f5f"
            },
            "marker": {
             "line": {
              "color": "#E5ECF6",
              "width": 0.5
             },
             "pattern": {
              "fillmode": "overlay",
              "size": 10,
              "solidity": 0.2
             }
            },
            "type": "bar"
           }
          ],
          "barpolar": [
           {
            "marker": {
             "line": {
              "color": "#E5ECF6",
              "width": 0.5
             },
             "pattern": {
              "fillmode": "overlay",
              "size": 10,
              "solidity": 0.2
             }
            },
            "type": "barpolar"
           }
          ],
          "carpet": [
           {
            "aaxis": {
             "endlinecolor": "#2a3f5f",
             "gridcolor": "white",
             "linecolor": "white",
             "minorgridcolor": "white",
             "startlinecolor": "#2a3f5f"
            },
            "baxis": {
             "endlinecolor": "#2a3f5f",
             "gridcolor": "white",
             "linecolor": "white",
             "minorgridcolor": "white",
             "startlinecolor": "#2a3f5f"
            },
            "type": "carpet"
           }
          ],
          "choropleth": [
           {
            "colorbar": {
             "outlinewidth": 0,
             "ticks": ""
            },
            "type": "choropleth"
           }
          ],
          "contour": [
           {
            "colorbar": {
             "outlinewidth": 0,
             "ticks": ""
            },
            "colorscale": [
             [
              0,
              "#0d0887"
             ],
             [
              0.1111111111111111,
              "#46039f"
             ],
             [
              0.2222222222222222,
              "#7201a8"
             ],
             [
              0.3333333333333333,
              "#9c179e"
             ],
             [
              0.4444444444444444,
              "#bd3786"
             ],
             [
              0.5555555555555556,
              "#d8576b"
             ],
             [
              0.6666666666666666,
              "#ed7953"
             ],
             [
              0.7777777777777778,
              "#fb9f3a"
             ],
             [
              0.8888888888888888,
              "#fdca26"
             ],
             [
              1,
              "#f0f921"
             ]
            ],
            "type": "contour"
           }
          ],
          "contourcarpet": [
           {
            "colorbar": {
             "outlinewidth": 0,
             "ticks": ""
            },
            "type": "contourcarpet"
           }
          ],
          "heatmap": [
           {
            "colorbar": {
             "outlinewidth": 0,
             "ticks": ""
            },
            "colorscale": [
             [
              0,
              "#0d0887"
             ],
             [
              0.1111111111111111,
              "#46039f"
             ],
             [
              0.2222222222222222,
              "#7201a8"
             ],
             [
              0.3333333333333333,
              "#9c179e"
             ],
             [
              0.4444444444444444,
              "#bd3786"
             ],
             [
              0.5555555555555556,
              "#d8576b"
             ],
             [
              0.6666666666666666,
              "#ed7953"
             ],
             [
              0.7777777777777778,
              "#fb9f3a"
             ],
             [
              0.8888888888888888,
              "#fdca26"
             ],
             [
              1,
              "#f0f921"
             ]
            ],
            "type": "heatmap"
           }
          ],
          "heatmapgl": [
           {
            "colorbar": {
             "outlinewidth": 0,
             "ticks": ""
            },
            "colorscale": [
             [
              0,
              "#0d0887"
             ],
             [
              0.1111111111111111,
              "#46039f"
             ],
             [
              0.2222222222222222,
              "#7201a8"
             ],
             [
              0.3333333333333333,
              "#9c179e"
             ],
             [
              0.4444444444444444,
              "#bd3786"
             ],
             [
              0.5555555555555556,
              "#d8576b"
             ],
             [
              0.6666666666666666,
              "#ed7953"
             ],
             [
              0.7777777777777778,
              "#fb9f3a"
             ],
             [
              0.8888888888888888,
              "#fdca26"
             ],
             [
              1,
              "#f0f921"
             ]
            ],
            "type": "heatmapgl"
           }
          ],
          "histogram": [
           {
            "marker": {
             "pattern": {
              "fillmode": "overlay",
              "size": 10,
              "solidity": 0.2
             }
            },
            "type": "histogram"
           }
          ],
          "histogram2d": [
           {
            "colorbar": {
             "outlinewidth": 0,
             "ticks": ""
            },
            "colorscale": [
             [
              0,
              "#0d0887"
             ],
             [
              0.1111111111111111,
              "#46039f"
             ],
             [
              0.2222222222222222,
              "#7201a8"
             ],
             [
              0.3333333333333333,
              "#9c179e"
             ],
             [
              0.4444444444444444,
              "#bd3786"
             ],
             [
              0.5555555555555556,
              "#d8576b"
             ],
             [
              0.6666666666666666,
              "#ed7953"
             ],
             [
              0.7777777777777778,
              "#fb9f3a"
             ],
             [
              0.8888888888888888,
              "#fdca26"
             ],
             [
              1,
              "#f0f921"
             ]
            ],
            "type": "histogram2d"
           }
          ],
          "histogram2dcontour": [
           {
            "colorbar": {
             "outlinewidth": 0,
             "ticks": ""
            },
            "colorscale": [
             [
              0,
              "#0d0887"
             ],
             [
              0.1111111111111111,
              "#46039f"
             ],
             [
              0.2222222222222222,
              "#7201a8"
             ],
             [
              0.3333333333333333,
              "#9c179e"
             ],
             [
              0.4444444444444444,
              "#bd3786"
             ],
             [
              0.5555555555555556,
              "#d8576b"
             ],
             [
              0.6666666666666666,
              "#ed7953"
             ],
             [
              0.7777777777777778,
              "#fb9f3a"
             ],
             [
              0.8888888888888888,
              "#fdca26"
             ],
             [
              1,
              "#f0f921"
             ]
            ],
            "type": "histogram2dcontour"
           }
          ],
          "mesh3d": [
           {
            "colorbar": {
             "outlinewidth": 0,
             "ticks": ""
            },
            "type": "mesh3d"
           }
          ],
          "parcoords": [
           {
            "line": {
             "colorbar": {
              "outlinewidth": 0,
              "ticks": ""
             }
            },
            "type": "parcoords"
           }
          ],
          "pie": [
           {
            "automargin": true,
            "type": "pie"
           }
          ],
          "scatter": [
           {
            "fillpattern": {
             "fillmode": "overlay",
             "size": 10,
             "solidity": 0.2
            },
            "type": "scatter"
           }
          ],
          "scatter3d": [
           {
            "line": {
             "colorbar": {
              "outlinewidth": 0,
              "ticks": ""
             }
            },
            "marker": {
             "colorbar": {
              "outlinewidth": 0,
              "ticks": ""
             }
            },
            "type": "scatter3d"
           }
          ],
          "scattercarpet": [
           {
            "marker": {
             "colorbar": {
              "outlinewidth": 0,
              "ticks": ""
             }
            },
            "type": "scattercarpet"
           }
          ],
          "scattergeo": [
           {
            "marker": {
             "colorbar": {
              "outlinewidth": 0,
              "ticks": ""
             }
            },
            "type": "scattergeo"
           }
          ],
          "scattergl": [
           {
            "marker": {
             "colorbar": {
              "outlinewidth": 0,
              "ticks": ""
             }
            },
            "type": "scattergl"
           }
          ],
          "scattermapbox": [
           {
            "marker": {
             "colorbar": {
              "outlinewidth": 0,
              "ticks": ""
             }
            },
            "type": "scattermapbox"
           }
          ],
          "scatterpolar": [
           {
            "marker": {
             "colorbar": {
              "outlinewidth": 0,
              "ticks": ""
             }
            },
            "type": "scatterpolar"
           }
          ],
          "scatterpolargl": [
           {
            "marker": {
             "colorbar": {
              "outlinewidth": 0,
              "ticks": ""
             }
            },
            "type": "scatterpolargl"
           }
          ],
          "scatterternary": [
           {
            "marker": {
             "colorbar": {
              "outlinewidth": 0,
              "ticks": ""
             }
            },
            "type": "scatterternary"
           }
          ],
          "surface": [
           {
            "colorbar": {
             "outlinewidth": 0,
             "ticks": ""
            },
            "colorscale": [
             [
              0,
              "#0d0887"
             ],
             [
              0.1111111111111111,
              "#46039f"
             ],
             [
              0.2222222222222222,
              "#7201a8"
             ],
             [
              0.3333333333333333,
              "#9c179e"
             ],
             [
              0.4444444444444444,
              "#bd3786"
             ],
             [
              0.5555555555555556,
              "#d8576b"
             ],
             [
              0.6666666666666666,
              "#ed7953"
             ],
             [
              0.7777777777777778,
              "#fb9f3a"
             ],
             [
              0.8888888888888888,
              "#fdca26"
             ],
             [
              1,
              "#f0f921"
             ]
            ],
            "type": "surface"
           }
          ],
          "table": [
           {
            "cells": {
             "fill": {
              "color": "#EBF0F8"
             },
             "line": {
              "color": "white"
             }
            },
            "header": {
             "fill": {
              "color": "#C8D4E3"
             },
             "line": {
              "color": "white"
             }
            },
            "type": "table"
           }
          ]
         },
         "layout": {
          "annotationdefaults": {
           "arrowcolor": "#2a3f5f",
           "arrowhead": 0,
           "arrowwidth": 1
          },
          "autotypenumbers": "strict",
          "coloraxis": {
           "colorbar": {
            "outlinewidth": 0,
            "ticks": ""
           }
          },
          "colorscale": {
           "diverging": [
            [
             0,
             "#8e0152"
            ],
            [
             0.1,
             "#c51b7d"
            ],
            [
             0.2,
             "#de77ae"
            ],
            [
             0.3,
             "#f1b6da"
            ],
            [
             0.4,
             "#fde0ef"
            ],
            [
             0.5,
             "#f7f7f7"
            ],
            [
             0.6,
             "#e6f5d0"
            ],
            [
             0.7,
             "#b8e186"
            ],
            [
             0.8,
             "#7fbc41"
            ],
            [
             0.9,
             "#4d9221"
            ],
            [
             1,
             "#276419"
            ]
           ],
           "sequential": [
            [
             0,
             "#0d0887"
            ],
            [
             0.1111111111111111,
             "#46039f"
            ],
            [
             0.2222222222222222,
             "#7201a8"
            ],
            [
             0.3333333333333333,
             "#9c179e"
            ],
            [
             0.4444444444444444,
             "#bd3786"
            ],
            [
             0.5555555555555556,
             "#d8576b"
            ],
            [
             0.6666666666666666,
             "#ed7953"
            ],
            [
             0.7777777777777778,
             "#fb9f3a"
            ],
            [
             0.8888888888888888,
             "#fdca26"
            ],
            [
             1,
             "#f0f921"
            ]
           ],
           "sequentialminus": [
            [
             0,
             "#0d0887"
            ],
            [
             0.1111111111111111,
             "#46039f"
            ],
            [
             0.2222222222222222,
             "#7201a8"
            ],
            [
             0.3333333333333333,
             "#9c179e"
            ],
            [
             0.4444444444444444,
             "#bd3786"
            ],
            [
             0.5555555555555556,
             "#d8576b"
            ],
            [
             0.6666666666666666,
             "#ed7953"
            ],
            [
             0.7777777777777778,
             "#fb9f3a"
            ],
            [
             0.8888888888888888,
             "#fdca26"
            ],
            [
             1,
             "#f0f921"
            ]
           ]
          },
          "colorway": [
           "#636efa",
           "#EF553B",
           "#00cc96",
           "#ab63fa",
           "#FFA15A",
           "#19d3f3",
           "#FF6692",
           "#B6E880",
           "#FF97FF",
           "#FECB52"
          ],
          "font": {
           "color": "#2a3f5f"
          },
          "geo": {
           "bgcolor": "white",
           "lakecolor": "white",
           "landcolor": "#E5ECF6",
           "showlakes": true,
           "showland": true,
           "subunitcolor": "white"
          },
          "hoverlabel": {
           "align": "left"
          },
          "hovermode": "closest",
          "mapbox": {
           "style": "light"
          },
          "paper_bgcolor": "white",
          "plot_bgcolor": "#E5ECF6",
          "polar": {
           "angularaxis": {
            "gridcolor": "white",
            "linecolor": "white",
            "ticks": ""
           },
           "bgcolor": "#E5ECF6",
           "radialaxis": {
            "gridcolor": "white",
            "linecolor": "white",
            "ticks": ""
           }
          },
          "scene": {
           "xaxis": {
            "backgroundcolor": "#E5ECF6",
            "gridcolor": "white",
            "gridwidth": 2,
            "linecolor": "white",
            "showbackground": true,
            "ticks": "",
            "zerolinecolor": "white"
           },
           "yaxis": {
            "backgroundcolor": "#E5ECF6",
            "gridcolor": "white",
            "gridwidth": 2,
            "linecolor": "white",
            "showbackground": true,
            "ticks": "",
            "zerolinecolor": "white"
           },
           "zaxis": {
            "backgroundcolor": "#E5ECF6",
            "gridcolor": "white",
            "gridwidth": 2,
            "linecolor": "white",
            "showbackground": true,
            "ticks": "",
            "zerolinecolor": "white"
           }
          },
          "shapedefaults": {
           "line": {
            "color": "#2a3f5f"
           }
          },
          "ternary": {
           "aaxis": {
            "gridcolor": "white",
            "linecolor": "white",
            "ticks": ""
           },
           "baxis": {
            "gridcolor": "white",
            "linecolor": "white",
            "ticks": ""
           },
           "bgcolor": "#E5ECF6",
           "caxis": {
            "gridcolor": "white",
            "linecolor": "white",
            "ticks": ""
           }
          },
          "title": {
           "x": 0.05
          },
          "xaxis": {
           "automargin": true,
           "gridcolor": "white",
           "linecolor": "white",
           "ticks": "",
           "title": {
            "standoff": 15
           },
           "zerolinecolor": "white",
           "zerolinewidth": 2
          },
          "yaxis": {
           "automargin": true,
           "gridcolor": "white",
           "linecolor": "white",
           "ticks": "",
           "title": {
            "standoff": 15
           },
           "zerolinecolor": "white",
           "zerolinewidth": 2
          }
         }
        },
        "title": {
         "text": "Average Monthly Sales of Top Products"
        },
        "width": 700,
        "xaxis": {
         "anchor": "y",
         "domain": [
          0,
          1
         ],
         "title": {
          "text": "Product Ranking"
         }
        },
        "yaxis": {
         "anchor": "x",
         "domain": [
          0,
          1
         ],
         "title": {
          "text": "Average Monthly Sales"
         }
        }
       }
      }
     },
     "metadata": {},
     "output_type": "display_data"
    }
   ],
   "source": [
    "bought_data = VisualizeData(\n",
    "    most_bought, \n",
    "    'average bought last month', \n",
    "    \"Average Monthly Sales of Top Products\", \n",
    "    'Product Ranking',\n",
    "    'Average Monthly Sales',\n",
    "    'bar'\n",
    ")\n",
    "bought_data.main()"
   ]
  },
  {
   "cell_type": "markdown",
   "id": "05adb696",
   "metadata": {},
   "source": [
    "- The most sold products also coincide with the highest rated products. This is an important metric as the top 5 products have an average of 13,000 more reviews than the top 10, which makes the rating of top 5 products more significant. "
   ]
  },
  {
   "cell_type": "code",
   "execution_count": 292,
   "id": "2c2c83b2",
   "metadata": {},
   "outputs": [
    {
     "data": {
      "application/vnd.plotly.v1+json": {
       "config": {
        "plotlyServerURL": "https://plot.ly"
       },
       "data": [
        {
         "hovertemplate": "Product Ranking=%{x}<br>Average Product Ratin=%{y}<extra></extra>",
         "legendgroup": "",
         "line": {
          "color": "#636efa",
          "dash": "solid"
         },
         "marker": {
          "symbol": "circle"
         },
         "mode": "lines",
         "name": "",
         "orientation": "v",
         "showlegend": false,
         "type": "scatter",
         "x": [
          "Top 5",
          "Top 15",
          "Top 25",
          "Top 50",
          "Top 100"
         ],
         "xaxis": "x",
         "y": [
          4.66,
          4.6,
          4.42,
          4.56,
          4.47
         ],
         "yaxis": "y"
        }
       ],
       "layout": {
        "height": 700,
        "legend": {
         "tracegroupgap": 0
        },
        "template": {
         "data": {
          "bar": [
           {
            "error_x": {
             "color": "#2a3f5f"
            },
            "error_y": {
             "color": "#2a3f5f"
            },
            "marker": {
             "line": {
              "color": "#E5ECF6",
              "width": 0.5
             },
             "pattern": {
              "fillmode": "overlay",
              "size": 10,
              "solidity": 0.2
             }
            },
            "type": "bar"
           }
          ],
          "barpolar": [
           {
            "marker": {
             "line": {
              "color": "#E5ECF6",
              "width": 0.5
             },
             "pattern": {
              "fillmode": "overlay",
              "size": 10,
              "solidity": 0.2
             }
            },
            "type": "barpolar"
           }
          ],
          "carpet": [
           {
            "aaxis": {
             "endlinecolor": "#2a3f5f",
             "gridcolor": "white",
             "linecolor": "white",
             "minorgridcolor": "white",
             "startlinecolor": "#2a3f5f"
            },
            "baxis": {
             "endlinecolor": "#2a3f5f",
             "gridcolor": "white",
             "linecolor": "white",
             "minorgridcolor": "white",
             "startlinecolor": "#2a3f5f"
            },
            "type": "carpet"
           }
          ],
          "choropleth": [
           {
            "colorbar": {
             "outlinewidth": 0,
             "ticks": ""
            },
            "type": "choropleth"
           }
          ],
          "contour": [
           {
            "colorbar": {
             "outlinewidth": 0,
             "ticks": ""
            },
            "colorscale": [
             [
              0,
              "#0d0887"
             ],
             [
              0.1111111111111111,
              "#46039f"
             ],
             [
              0.2222222222222222,
              "#7201a8"
             ],
             [
              0.3333333333333333,
              "#9c179e"
             ],
             [
              0.4444444444444444,
              "#bd3786"
             ],
             [
              0.5555555555555556,
              "#d8576b"
             ],
             [
              0.6666666666666666,
              "#ed7953"
             ],
             [
              0.7777777777777778,
              "#fb9f3a"
             ],
             [
              0.8888888888888888,
              "#fdca26"
             ],
             [
              1,
              "#f0f921"
             ]
            ],
            "type": "contour"
           }
          ],
          "contourcarpet": [
           {
            "colorbar": {
             "outlinewidth": 0,
             "ticks": ""
            },
            "type": "contourcarpet"
           }
          ],
          "heatmap": [
           {
            "colorbar": {
             "outlinewidth": 0,
             "ticks": ""
            },
            "colorscale": [
             [
              0,
              "#0d0887"
             ],
             [
              0.1111111111111111,
              "#46039f"
             ],
             [
              0.2222222222222222,
              "#7201a8"
             ],
             [
              0.3333333333333333,
              "#9c179e"
             ],
             [
              0.4444444444444444,
              "#bd3786"
             ],
             [
              0.5555555555555556,
              "#d8576b"
             ],
             [
              0.6666666666666666,
              "#ed7953"
             ],
             [
              0.7777777777777778,
              "#fb9f3a"
             ],
             [
              0.8888888888888888,
              "#fdca26"
             ],
             [
              1,
              "#f0f921"
             ]
            ],
            "type": "heatmap"
           }
          ],
          "heatmapgl": [
           {
            "colorbar": {
             "outlinewidth": 0,
             "ticks": ""
            },
            "colorscale": [
             [
              0,
              "#0d0887"
             ],
             [
              0.1111111111111111,
              "#46039f"
             ],
             [
              0.2222222222222222,
              "#7201a8"
             ],
             [
              0.3333333333333333,
              "#9c179e"
             ],
             [
              0.4444444444444444,
              "#bd3786"
             ],
             [
              0.5555555555555556,
              "#d8576b"
             ],
             [
              0.6666666666666666,
              "#ed7953"
             ],
             [
              0.7777777777777778,
              "#fb9f3a"
             ],
             [
              0.8888888888888888,
              "#fdca26"
             ],
             [
              1,
              "#f0f921"
             ]
            ],
            "type": "heatmapgl"
           }
          ],
          "histogram": [
           {
            "marker": {
             "pattern": {
              "fillmode": "overlay",
              "size": 10,
              "solidity": 0.2
             }
            },
            "type": "histogram"
           }
          ],
          "histogram2d": [
           {
            "colorbar": {
             "outlinewidth": 0,
             "ticks": ""
            },
            "colorscale": [
             [
              0,
              "#0d0887"
             ],
             [
              0.1111111111111111,
              "#46039f"
             ],
             [
              0.2222222222222222,
              "#7201a8"
             ],
             [
              0.3333333333333333,
              "#9c179e"
             ],
             [
              0.4444444444444444,
              "#bd3786"
             ],
             [
              0.5555555555555556,
              "#d8576b"
             ],
             [
              0.6666666666666666,
              "#ed7953"
             ],
             [
              0.7777777777777778,
              "#fb9f3a"
             ],
             [
              0.8888888888888888,
              "#fdca26"
             ],
             [
              1,
              "#f0f921"
             ]
            ],
            "type": "histogram2d"
           }
          ],
          "histogram2dcontour": [
           {
            "colorbar": {
             "outlinewidth": 0,
             "ticks": ""
            },
            "colorscale": [
             [
              0,
              "#0d0887"
             ],
             [
              0.1111111111111111,
              "#46039f"
             ],
             [
              0.2222222222222222,
              "#7201a8"
             ],
             [
              0.3333333333333333,
              "#9c179e"
             ],
             [
              0.4444444444444444,
              "#bd3786"
             ],
             [
              0.5555555555555556,
              "#d8576b"
             ],
             [
              0.6666666666666666,
              "#ed7953"
             ],
             [
              0.7777777777777778,
              "#fb9f3a"
             ],
             [
              0.8888888888888888,
              "#fdca26"
             ],
             [
              1,
              "#f0f921"
             ]
            ],
            "type": "histogram2dcontour"
           }
          ],
          "mesh3d": [
           {
            "colorbar": {
             "outlinewidth": 0,
             "ticks": ""
            },
            "type": "mesh3d"
           }
          ],
          "parcoords": [
           {
            "line": {
             "colorbar": {
              "outlinewidth": 0,
              "ticks": ""
             }
            },
            "type": "parcoords"
           }
          ],
          "pie": [
           {
            "automargin": true,
            "type": "pie"
           }
          ],
          "scatter": [
           {
            "fillpattern": {
             "fillmode": "overlay",
             "size": 10,
             "solidity": 0.2
            },
            "type": "scatter"
           }
          ],
          "scatter3d": [
           {
            "line": {
             "colorbar": {
              "outlinewidth": 0,
              "ticks": ""
             }
            },
            "marker": {
             "colorbar": {
              "outlinewidth": 0,
              "ticks": ""
             }
            },
            "type": "scatter3d"
           }
          ],
          "scattercarpet": [
           {
            "marker": {
             "colorbar": {
              "outlinewidth": 0,
              "ticks": ""
             }
            },
            "type": "scattercarpet"
           }
          ],
          "scattergeo": [
           {
            "marker": {
             "colorbar": {
              "outlinewidth": 0,
              "ticks": ""
             }
            },
            "type": "scattergeo"
           }
          ],
          "scattergl": [
           {
            "marker": {
             "colorbar": {
              "outlinewidth": 0,
              "ticks": ""
             }
            },
            "type": "scattergl"
           }
          ],
          "scattermapbox": [
           {
            "marker": {
             "colorbar": {
              "outlinewidth": 0,
              "ticks": ""
             }
            },
            "type": "scattermapbox"
           }
          ],
          "scatterpolar": [
           {
            "marker": {
             "colorbar": {
              "outlinewidth": 0,
              "ticks": ""
             }
            },
            "type": "scatterpolar"
           }
          ],
          "scatterpolargl": [
           {
            "marker": {
             "colorbar": {
              "outlinewidth": 0,
              "ticks": ""
             }
            },
            "type": "scatterpolargl"
           }
          ],
          "scatterternary": [
           {
            "marker": {
             "colorbar": {
              "outlinewidth": 0,
              "ticks": ""
             }
            },
            "type": "scatterternary"
           }
          ],
          "surface": [
           {
            "colorbar": {
             "outlinewidth": 0,
             "ticks": ""
            },
            "colorscale": [
             [
              0,
              "#0d0887"
             ],
             [
              0.1111111111111111,
              "#46039f"
             ],
             [
              0.2222222222222222,
              "#7201a8"
             ],
             [
              0.3333333333333333,
              "#9c179e"
             ],
             [
              0.4444444444444444,
              "#bd3786"
             ],
             [
              0.5555555555555556,
              "#d8576b"
             ],
             [
              0.6666666666666666,
              "#ed7953"
             ],
             [
              0.7777777777777778,
              "#fb9f3a"
             ],
             [
              0.8888888888888888,
              "#fdca26"
             ],
             [
              1,
              "#f0f921"
             ]
            ],
            "type": "surface"
           }
          ],
          "table": [
           {
            "cells": {
             "fill": {
              "color": "#EBF0F8"
             },
             "line": {
              "color": "white"
             }
            },
            "header": {
             "fill": {
              "color": "#C8D4E3"
             },
             "line": {
              "color": "white"
             }
            },
            "type": "table"
           }
          ]
         },
         "layout": {
          "annotationdefaults": {
           "arrowcolor": "#2a3f5f",
           "arrowhead": 0,
           "arrowwidth": 1
          },
          "autotypenumbers": "strict",
          "coloraxis": {
           "colorbar": {
            "outlinewidth": 0,
            "ticks": ""
           }
          },
          "colorscale": {
           "diverging": [
            [
             0,
             "#8e0152"
            ],
            [
             0.1,
             "#c51b7d"
            ],
            [
             0.2,
             "#de77ae"
            ],
            [
             0.3,
             "#f1b6da"
            ],
            [
             0.4,
             "#fde0ef"
            ],
            [
             0.5,
             "#f7f7f7"
            ],
            [
             0.6,
             "#e6f5d0"
            ],
            [
             0.7,
             "#b8e186"
            ],
            [
             0.8,
             "#7fbc41"
            ],
            [
             0.9,
             "#4d9221"
            ],
            [
             1,
             "#276419"
            ]
           ],
           "sequential": [
            [
             0,
             "#0d0887"
            ],
            [
             0.1111111111111111,
             "#46039f"
            ],
            [
             0.2222222222222222,
             "#7201a8"
            ],
            [
             0.3333333333333333,
             "#9c179e"
            ],
            [
             0.4444444444444444,
             "#bd3786"
            ],
            [
             0.5555555555555556,
             "#d8576b"
            ],
            [
             0.6666666666666666,
             "#ed7953"
            ],
            [
             0.7777777777777778,
             "#fb9f3a"
            ],
            [
             0.8888888888888888,
             "#fdca26"
            ],
            [
             1,
             "#f0f921"
            ]
           ],
           "sequentialminus": [
            [
             0,
             "#0d0887"
            ],
            [
             0.1111111111111111,
             "#46039f"
            ],
            [
             0.2222222222222222,
             "#7201a8"
            ],
            [
             0.3333333333333333,
             "#9c179e"
            ],
            [
             0.4444444444444444,
             "#bd3786"
            ],
            [
             0.5555555555555556,
             "#d8576b"
            ],
            [
             0.6666666666666666,
             "#ed7953"
            ],
            [
             0.7777777777777778,
             "#fb9f3a"
            ],
            [
             0.8888888888888888,
             "#fdca26"
            ],
            [
             1,
             "#f0f921"
            ]
           ]
          },
          "colorway": [
           "#636efa",
           "#EF553B",
           "#00cc96",
           "#ab63fa",
           "#FFA15A",
           "#19d3f3",
           "#FF6692",
           "#B6E880",
           "#FF97FF",
           "#FECB52"
          ],
          "font": {
           "color": "#2a3f5f"
          },
          "geo": {
           "bgcolor": "white",
           "lakecolor": "white",
           "landcolor": "#E5ECF6",
           "showlakes": true,
           "showland": true,
           "subunitcolor": "white"
          },
          "hoverlabel": {
           "align": "left"
          },
          "hovermode": "closest",
          "mapbox": {
           "style": "light"
          },
          "paper_bgcolor": "white",
          "plot_bgcolor": "#E5ECF6",
          "polar": {
           "angularaxis": {
            "gridcolor": "white",
            "linecolor": "white",
            "ticks": ""
           },
           "bgcolor": "#E5ECF6",
           "radialaxis": {
            "gridcolor": "white",
            "linecolor": "white",
            "ticks": ""
           }
          },
          "scene": {
           "xaxis": {
            "backgroundcolor": "#E5ECF6",
            "gridcolor": "white",
            "gridwidth": 2,
            "linecolor": "white",
            "showbackground": true,
            "ticks": "",
            "zerolinecolor": "white"
           },
           "yaxis": {
            "backgroundcolor": "#E5ECF6",
            "gridcolor": "white",
            "gridwidth": 2,
            "linecolor": "white",
            "showbackground": true,
            "ticks": "",
            "zerolinecolor": "white"
           },
           "zaxis": {
            "backgroundcolor": "#E5ECF6",
            "gridcolor": "white",
            "gridwidth": 2,
            "linecolor": "white",
            "showbackground": true,
            "ticks": "",
            "zerolinecolor": "white"
           }
          },
          "shapedefaults": {
           "line": {
            "color": "#2a3f5f"
           }
          },
          "ternary": {
           "aaxis": {
            "gridcolor": "white",
            "linecolor": "white",
            "ticks": ""
           },
           "baxis": {
            "gridcolor": "white",
            "linecolor": "white",
            "ticks": ""
           },
           "bgcolor": "#E5ECF6",
           "caxis": {
            "gridcolor": "white",
            "linecolor": "white",
            "ticks": ""
           }
          },
          "title": {
           "x": 0.05
          },
          "xaxis": {
           "automargin": true,
           "gridcolor": "white",
           "linecolor": "white",
           "ticks": "",
           "title": {
            "standoff": 15
           },
           "zerolinecolor": "white",
           "zerolinewidth": 2
          },
          "yaxis": {
           "automargin": true,
           "gridcolor": "white",
           "linecolor": "white",
           "ticks": "",
           "title": {
            "standoff": 15
           },
           "zerolinecolor": "white",
           "zerolinewidth": 2
          }
         }
        },
        "title": {
         "text": "Average Product Rating"
        },
        "width": 700,
        "xaxis": {
         "anchor": "y",
         "domain": [
          0,
          1
         ],
         "title": {
          "text": "Product Ranking"
         }
        },
        "yaxis": {
         "anchor": "x",
         "domain": [
          0,
          1
         ],
         "title": {
          "text": "Average Product Ratin"
         }
        }
       }
      }
     },
     "metadata": {},
     "output_type": "display_data"
    }
   ],
   "source": [
    "rating_data = VisualizeData(\n",
    "    most_bought, \n",
    "    'average product rating', \n",
    "    \"Average Product Rating\", \n",
    "    'Product Ranking',\n",
    "    'Average Product Ratin',\n",
    "    'line'\n",
    ")\n",
    "rating_data.main()"
   ]
  },
  {
   "cell_type": "markdown",
   "id": "93258d87",
   "metadata": {},
   "source": [
    "- From the plot below, we can see that no product is able to get to the 5,000 monthly sales mark unless they are priced below 80 cents per ounce.  "
   ]
  },
  {
   "cell_type": "code",
   "execution_count": 293,
   "id": "2e7630d9",
   "metadata": {},
   "outputs": [
    {
     "data": {
      "application/vnd.plotly.v1+json": {
       "config": {
        "plotlyServerURL": "https://plot.ly"
       },
       "data": [
        {
         "customdata": [
          [
           "        Nate's 100% Pure, Raw & Unfiltered Honey - Award-Winning Taste, 32oz. Squeeze Bottle       "
          ],
          [
           "        Nate's Organic 100% Pure, Raw & Unfiltered Honey - USDA Certified Organic - 32oz. Squeeze Bottle       "
          ],
          [
           "        Nate's 100% Pure, Raw & Unfiltered Honey - Award-Winning Taste, 16 oz. Squeeze Bottle       "
          ],
          [
           "        Nate's Organic 100% Pure, Raw & Unfiltered Honey - USDA Certified Organic - 16oz. Squeeze Bottle       "
          ],
          [
           "        365 by Whole Foods Market, Organic Light Amber Wildflower Honey, 12 Ounce       "
          ],
          [
           "        Amazon Grocery, Raw Wildflower Pure Honey, 2 Lb (Previously Amazon Fresh, Packaging May Vary)       "
          ],
          [
           "        Local Hive Wildflower Raw Unfiltered Honey – 16oz, 100% Pure US Honey, Sourced from American Bees and Beekeepers - Natural Sweetener, Ideal for Tea, Baking, and Cooking       "
          ],
          [
           "        Nate's Georgia 100% Pure, Raw & Unfiltered Honey, 32 oz. Squeeze Bottle - All-natural Sweetener       "
          ],
          [
           "        365 by Whole Foods Market, Organic Raw Mountain Forest Honey, 16 Ounce       "
          ],
          [
           "        Fischer's Clover Honey, 12 Oz – 100% Pure, Raw & Unfiltered Honey – Squeezable Bear Bottle – Gluten-Free, Non-GMO – All-Natural Sweetener       "
          ],
          [
           "        Local Hive Clover Raw Unfiltered Honey – 16 oz, 100% Pure US Honey, Sourced from American Bees and Beekeepers - Natural Sweetener, Ideal for Tea, Baking, and Cooking       "
          ],
          [
           "        Nate's 100% Pure, Raw & Unfiltered Honey - Award-Winning Taste, 12oz. Honey Bear Bottle       "
          ],
          [
           "        ChocZero Sugar Free Honey, 1:1 Natural Honey Equivalent, Same Sweetness and Consistency as Raw, Keto Friendly, Vegan (1 Jar, 10.5oz)       "
          ],
          [
           "        Fischer's 100% Pure, Raw & Unfiltered Honey – USA Made Honey, 24 oz – All-Natural Sweetener – Rich Flavor Profile, Packed with Nutrients       "
          ],
          [
           "        Kelley's 100% Organic Raw & Unfiltered Honey, USDA Certified, 24 Oz – All Natural, Flavor-Rich Honey for Fruits, Yogurt, Smoothies, Acai Bowls, Tea – Natural Sugar Substitute       "
          ],
          [
           "        Nate's Florida 100% Pure, Raw & Unfiltered Honey - 32 oz. Squeeze Bottle - All-natural Sweetener       "
          ],
          [
           "        Papa Palermo Honeycomb 100% Edible, All-Natural, Gourmet Raw Honeycomb, No Additives, No Preservatives - 7 oz       "
          ],
          [
           "        Taj Gourmet All Natural Raw Honeycomb 100% Honey Pure Turkish Raw Honey Comb -100% All Natural Edible Honey Combs Raw Edible - Perfect For Healthy Smoothies Honey With Honeycomb, 200g (7.05oz)       "
          ],
          [
           "        HONEY FEAST Wildflower Honey - 6 Pounds (1/2 Gallon) Bulk Honey, All Natural, Unfiltered, Unheated Honey, Perfect for Sweetening & Baking       "
          ],
          [
           "        Jamie's Hive To Table 100% Raw Honeycomb, 12 Oz – All-Natural Pure Georgia Honeycomb, No Additives or Preservatives, Non-GMO       "
          ],
          [
           "        Savannah Bee Company Pure Raw Acacia Honeycomb - All Natural, Edible and Unfiltered Honeycomb - Mini 5.6 Ounce       "
          ],
          [
           "        YS Organic Bee Farms - Healthy Honey (Raw), 14 oz       "
          ],
          [
           "        Bee Harmony American Raw Wildflower Honey, 12 OZ       "
          ],
          [
           "        YS Organic Bee Farms - Healthy Honey (Raw), 14 oz       "
          ],
          [
           "        Local Hive Midwest Raw Unfiltered Honey – 16 oz, 100% Pure US Honey, Sourced from American Bees and Beekeepers - Natural Sweetener, Ideal for Tea, Baking, and Cooking       "
          ],
          [
           "        Bees Knees Raw Honeycomb, 100% Edible, All-Natural Gourmet Honeycomb in Double Sealed Packaging, Acacia Honey Comb with Sweet, Light Flavor, Foodie Gifts, Tea Gifts, Unique Gift Ideas (7 oz)       "
          ],
          [
           "        Local Hive New England Raw Unfiltered Honey – 16 oz, 100% Pure US Honey, Sourced from American Bees and Beekeepers - Natural Sweetener, Ideal for Tea, Baking, and Cooking       "
          ],
          [
           "        Local Hive Florida Raw Unfiltered Honey – 16oz, 100% Pure US Honey, Sourced from American Bees and Beekeepers - Natural Sweetener, Ideal for Tea, Baking, and Cooking       "
          ],
          [
           "        Aunt Sue’s Raw & Unfiltered Wildflower Honey, 32 Ounce (2 LB), Strained Pure Honey       "
          ],
          [
           "        Nate's 100% Pure, Raw & Unfiltered Honey, Award-Winning Taste - 8 oz Squeeze Bottle (4 Pack)       "
          ],
          [
           "        Local Hive North California Raw Unfiltered Honey – 16 oz, 100% Pure US Honey, Sourced from American Bees and Beekeepers - Natural Sweetener, Ideal for Tea, Baking, and Cooking       "
          ],
          [
           "        Local Hive Southern California Raw Unfiltered Honey – 16 oz, 100% Pure US Honey, Sourced from American Bees and Beekeepers - Natural Sweetener, Ideal for Tea, Baking, and Cooking       "
          ],
          [
           "        TJO Bees Raw and Unfiltered Honey (5 LB (80 OZ) Jar)       "
          ],
          [
           "        Oneroot 100% Canadian Flower Honey - 1kg / 2.2lbs, Honey Wildflower Unfiltered, Unheated & Creamed, Nutrient Rich Raw Wildflower With Enzymes, Thick Natural Sweetener       "
          ],
          [
           "        Cox's Honey 100% Pure, Raw Unfiltered Clover Honey, Rich in Nutrients, Family Owned Apiary, 5 lbs Jug       "
          ],
          [
           "        Desert Creek - Raw Honey, Natural Premium and Pure Texas Product - 1 Gallon       "
          ],
          [
           "        Local Hive Texas Raw Unfiltered Honey – 16 oz, 100% Pure US Honey, Sourced from American Bees and Beekeepers - Natural Sweetener, Ideal for Tea, Baking, and Cooking       "
          ],
          [
           "        Raw, Unfiltered, Unpasteurized Texas Honey by Desert Creek Honey 2 lbs (32 oz) Non-GMO, Kosher       "
          ],
          [
           "        Really Raw Honey, 16 oz       "
          ],
          [
           "        Local Hive Rocky Mountain Raw Unfiltered Honey – 16 oz, 100% Pure US Honey, Sourced from American Bees and Beekeepers - Natural Sweetener, Ideal for Tea, Baking, and Cooking       "
          ],
          [
           "        100% Raw Unfiltered Honey With Honeycomb by Pure Southern Honey [1lb] - Authentic, USA - Made Gallberry Honey - Pure Unheated Honey - Non - GMO, Unsweetened, Sugar - Free, Real American Honey With Comb       "
          ],
          [
           "        100% Raw & Unfiltered Wildflower Honey - American Made by Pure Southern Honey (48 Ounce)       "
          ],
          [
           "        Honest Raw Honey, 22oz       "
          ],
          [
           "        Oneroot 100% Canadian Flower Honey - Wildflower Unfiltered, Unheated & Creamed, Nutrient Rich Raw Wildflower Honey With Enzymes, Thick Natural Sweetener (6.6 Pound)       "
          ],
          [
           "        Savannah Bee Company Whipped Honey - All Natural Spreadable Honey       "
          ],
          [
           "        HONEY FEAST Raw Orange Blossom Honey - 6lb Bulk Honey, All Natural, Unfiltered, Unheated Honey from Oranges, Perfect for Sweetening & Baking       "
          ],
          [
           "        Carmichael’s Organic Honey - Premium Quality, USDA Certified Organic, Unpasteurized, Raw, & Unfiltered Honey - Non-GMO, 100% Pure & Natural Sweetener With No Additives or Traces Of Pesticides (32 oz)       "
          ],
          [
           "        Honey Feast - Raw Orange Blossom Honey | from American Organic floral sources | Unfiltered & Pure | Fresh from Florida Superfood | GROUP (3 Pound)       "
          ],
          [
           "        Nate's Texas 100% Pure, Raw & Unfiltered Honey - 32 oz. Squeeze Bottle - All-natural Sweetener       "
          ],
          [
           "        Local Hive Southeast Raw Unfiltered Honey – 16 oz, 100% Pure US Honey, Sourced from American Bees and Beekeepers - Natural Sweetener, Ideal for Tea, Baking, and Cooking       "
          ],
          [
           "        Kelley's Local Texas Honey, 24 oz – 100% Pure, Raw & Unfiltered – All-Natural American Honey for Tea, Smoothies, Yogurt, Toasts or BBQ       "
          ],
          [
           "        Raw Essentials Honey Granules – Natural Sweetness for Oatmeal, Yogurt, Beverages, and Desserts – Non-GMO and Gluten-Free – 9 Ounce Container       "
          ],
          [
           "        Bee Harmony Raw Honey, Organic Brazilian, 12 Ounce       "
          ],
          [
           "        5 lbs. 100% Raw & Unfiltered Gallberry Honey - American Made by Pure Southern Honey       "
          ],
          [
           "        Nate's 100% Pure Raw & Unfiltered Honey and Comb - 16oz. Jar       "
          ],
          [
           "        Sandt's Buckwheat Honey, Unfiltered Raw Honey, Non-GMO Genuine, Pure Honey (2 lbs)       "
          ],
          [
           "        Bee Seasonal Organic & Raw Honey Gift Box - 8 Pack - 14oz.       "
          ],
          [
           "        Local Hive Orange Blossom Raw Unfiltered Honey – 32oz, 100% Pure US Honey, Sourced from American Bees and Beekeepers, Natural Sweetener, Floral Flavor, Ideal for Tea, Baking, and Cooking       "
          ],
          [
           "        Nate's California 100% Pure, Raw & Unfiltered Honey - 32 oz. Squeeze Bottle - All-natural Sweetener       "
          ],
          [
           "        Oneroot 100% Organic Canadian Flower Honey - 17.6 Oz/1.1 Lbs, White Honey Wildflower Unfiltered, Unheated & Creamed, Nutrient Rich Raw Wildflower With Enzymes, Thick Natural Sweetener       "
          ],
          [
           "        Zeigler's Local Georgia Award Winning Honey – All Natural, Pure, Raw, & Unfiltered Georgia Honey, 32 oz Squeeze Bottle – For Tea, Yogurt, Parfaits, Toast, and Cornbread       "
          ],
          [
           "        Zeigler's Florida Local Honey, 32 Oz – 100% Pure, Raw & Unfiltered Honey – All-Natural, Packed with Nutrients – Great with Tea, Yogurt, Cottage Cheese, Sandwiches, Smoothies       "
          ],
          [
           "        Bee Harmony American Raw Wildflower Honey, 12 OZ (Pack of 2 Jars)       "
          ],
          [
           "        Stakich Raw Honey - Pure, Unprocessed, Unheated, Kosher - 5 Pound (80 Ounce)       "
          ],
          [
           "        Honey Feast - Raw Wildflower Honey | from American Organic floral sources | 48 Ounces       "
          ],
          [
           "        Nature's Hollow Sugar Free Honey Substitute: Gluten Free, Vegan, and Keto Honey - Zero Sugar Honey Xylitol Sweetener - Great for Diabetics and Low-Carb - Enjoy Natural Sweetness - 30 Cals Per Serving       "
          ],
          [
           "        Bee Harmony Honey 3 Pack Variety Pack, 36 Ounce (Clover, Wildflower and Orange Blossom)       "
          ],
          [
           "        Fischer's 100% Organic Honey, USDA Certified, 24 Oz – Pure, Raw & Unfiltered Honey – All-Natural Sweetener – Rich Flavor Profile, Packed with Nutrients       "
          ],
          [
           "        Wholesome Sweeteners 16-Ounce Organic Raw Unfiltered Honey Jar, 100% Pure, Fair Trade Certified, Non GMO Project Verified, & Gluten Free, 1 Pack       "
          ],
          [
           "        Oneroot 100% Organic Canadian Flower Honey - 17.6 Oz/1.1 Lbs, White Honey Wildflower Unfiltered, Unheated & Creamed, Nutrient Rich Raw Wildflower With Enzymes, Thick Natural Sweetener       "
          ],
          [
           "        Honey House 100% Raw Clover | Pure & Unfiltered | Premium American-Sourced Natural Sweetener | 12oz Glass Jar | Nutrient-Rich | No Additives       "
          ],
          [
           "        100% Raw Edible Honeycomb by Pure Southern Honey (14 Ounce (Pack of 1))       "
          ],
          [
           "        Jamie's Hive To Table 100% Pure Honey with Honeycomb, 24 Oz – USA Made Raw & Unfiltered Honey – Fresh Edible Honeycomb – All-Natural Sweetener – Rich Flavor Profile, Packed with Nutrients       "
          ],
          [
           "        Breitsamer, Creamy Rapsflower Blossom Honey Jar, 17.6 oz       "
          ],
          [
           "        Nate's 100% Pure, Raw & Unfiltered Honey, No-Drip Sustainable Squeeze Pouch; Purity Guarantee, No Additives, 14 Ounce       "
          ],
          [
           "        Savannah Bee Company Honey - Pure, Natural, Raw Honey       "
          ],
          [
           "        Raw Honey - Pure All Natural Unfiltered & Unpasteurized - McCoy's Honey Florida Orange Blossom Honey 6lb       "
          ],
          [
           "        GloryBee Raw Honey, True Source Certified, USDA Organic, Organic Clover, 186.72 Ounce Bulk Pail       "
          ],
          [
           "        Papa Palermo Honeycomb 100% Edible, All-Natural, Gourmet Raw Honeycomb, No Additives, No Preservatives - 14 oz       "
          ],
          [
           "        YS Eco Bee Farms RAW HONEY - Raw, Unfiltered, Unpasteurized - Kosher 3lbs       "
          ],
          [
           "        BEE HARMONY Organic Eucalyptus Raw Creamed Honey, 12 OZ       "
          ],
          [
           "        Honey Feast Tupelo Honey - Authentic Florida Honey from Black Gum Tupelo & Holly Blend, Pure Raw Honey, 12oz - American Honey from Central Florida Apiary       "
          ],
          [
           "        Sadaf Raw Honey Grade A - Raw Acacia Honey for Cooking, Baking & Food Flavoring - All Natural Sweet Honey - Halal - 15.8 oz Jar       "
          ],
          [
           "        Sandt's Orange Blossom Honey, Unfiltered Raw Honey, Non-GMO Genuine, Pure Honey (2 lbs)       "
          ],
          [
           "        Buzzn Bee Raw Florida Honey - Unpasteurized and Unfiltered (Orange Blossom, 3 Pound)       "
          ],
          [
           "        Carpathian Raw Honey Mountain Flowers | 100% Pure, Unfiltered, Unpasteurized, Ethically Sourced | Glass Jar, 908g       "
          ],
          [
           "        Oregon Growers Wildflower Honey - Raw Unfiltered Pacific Northwest Honey, Organic, Gluten Free, Pure & Natural Raw Honey, Subtle Flavors & Natural Enzymes, Farm Direct Specialty Foods, Flower Honey - 18 Oz (Pack of 1)       "
          ],
          [
           "        Y.S. Eco Bee Farms Raw Honey - 22 oz 2 Pack, Packed by Ilios       "
          ],
          [
           "        Raw, Unfiltered, Unpasteurized Texas Honey by Desert Creek Honey 5 Gallon (60 lbs) Bulk Bucket Non-GMO, Kosher       "
          ],
          [
           "        Stakich Raw Honey - Pure, Unprocessed, Unheated, Kosher - 40 Ounce       "
          ],
          [
           "        Cox's Honey - Bulk Creamed Whipped Honey Raw Unfiltered, 80 oz | 100% Pure Clover Delicious Honey - Product of the USA       "
          ],
          [
           "        Local Hive Southern California Raw Unfiltered Honey – 32 oz, 100% Pure US Honey, Sourced from American Bees and Beekeepers - Natural Sweetener, Ideal for Tea, Baking, and Cooking       "
          ],
          [
           "        HONEY FEAST Bourbon Honey 12oz | Artisanal Small Batch Raw Honey | Exquisite Bourbon-Infused Honey | Ideal for Bourbon Enthusiasts & Gourmets       "
          ],
          [
           "        Savannah Bee Company Whipped Honey - All Natural Spreadable Honey       "
          ],
          [
           "        OneRoot Raw Buckwheat Honey - 500g/17.6oz, Unheated, Unfiltered and Unprocessed Natural Dark Honey, Rich in Antioxidants Pure Buckwheat       "
          ],
          [
           "        Goshen Honey Extremely Raw Buckwheat Dark Honey - Unfiltered, Unprocessed, Pure & Natural from Amish Country in the USA - Rich Flavor for Tea, Cooking, Wellness - Dairy & Gluten Free - 454g/16Oz       "
          ],
          [
           "        Oneroot 100% Canadian Flower Honey - Honey Wildflower Unfiltered, Unheated & Creamed, Nutrient Rich Raw Wildflower Honey With Enzymes, Thick Natural Sweetener (1.1 Pound)       "
          ],
          [
           "        Glorybee, White Clover Honey, US Grade A Honey, 48 oz       "
          ],
          [
           "        Tupelo Honey 32oz - 2 pound -Two pound Jar- from Sleeping Bear Farms Beekeepers in the Florida Apalachicola River Basin       "
          ],
          [
           "        Local Hive Mid Atlantic Raw Unfiltered Honey – 32oz, 100% Pure US Honey, Sourced from American Bees and Beekeepers - Natural Sweetener, Ideal for Tea, Baking, and Cooking       "
          ],
          [
           "        Browning's 40 oz Creamed Raw Clover Honey | 100% Pure, Natural & Unfiltered | Premium Old-Fashioned Honey - Product of the USA       "
          ],
          [
           "        Honey House 100% Raw Creamed | Pure & Natural Unfiltered | Sustainably Sourced from American Bee Farmers | 12 oz Glass Jar | Smooth & Spreadable Texture | Rich in Natural Enzymes & Pollen       "
          ],
          [
           "        Local Hive Southwest Raw Unfiltered Honey – 16 oz, 100% Pure US Honey, Sourced from American Bees and Beekeepers - Natural Sweetener, Ideal for Tea, Baking, and Cooking       "
          ],
          [
           "        Bee Harmony Orange Blossom Raw Honey, 12 OZ (Pack of 2), from California       "
          ],
          [
           "        Heavenly Organics - 100% Organic Raw White Honey - 22 oz.       "
          ],
          [
           "        OneRoot Raw Buckwheat Honey - 500g/17.6oz, Unheated, Unfiltered and Unprocessed Natural Dark Honey, Rich in Antioxidants Pure Buckwheat       "
          ],
          [
           "        Smiley Honey - 100% Tupelo Honey Raw and Unfiltered (16 oz)       "
          ],
          [
           "        Savannah Bee Company Honey - Pure, Natural, Raw Honey       "
          ],
          [
           "        Smiley Honey - 100% Tupelo Honey Raw and Unfiltered (16 oz)       "
          ],
          [
           "        Cinnamon Raw Honey - Untreated Unprocessed Creamy Raw Honey w/Certified Organic Cinnamon - Sleeping Bear Farms       "
          ],
          [
           "        Bee Harmony Organic Raw Honey, 12 OZ (Pack of 2 Jars)       "
          ],
          [
           "        Goshen Honey Extremely Raw Buckwheat Dark Honey - Unfiltered, Unprocessed, Pure & Natural from Amish Country in the USA - Rich Flavor for Tea, Cooking, Wellness - Dairy & Gluten Free - 454g/16Oz       "
          ],
          [
           "        Sue Bee Infusions Naturally Flavored Strawberry Honey, 16 Ounce Sue Bee Strawberry Infused Honey For Waffles, Toast, Salads, Made In USA       "
          ],
          [
           "        TJO Bees Raw and Unfiltered Honey (22 OZ Jar)       "
          ],
          [
           "        Crockett Honey Raw and Unfiltered Arizona Desert Wildflower Honey       "
          ],
          [
           "        Bee Harmony Honey 5 Pack Variety Pack, 60 Ounce (Clover, Wildflower, Orange Blossom, Berry and Blueberry)       "
          ],
          [
           "        Honey Feast Orange Blossom Honey, 12 OZ       "
          ],
          [
           "        Herbal Revolution Fire Cider Apple Cider Vinegar - Certified Organic Non-GMO ACV Infused with Ginger, Horseradish, Hot Peppers, Honey, and More - Made Using Regenerative Farming Practices 16 Oz       "
          ],
          [
           "        Herbal Revolution Fire Cider Apple Cider Vinegar - Certified Organic Non-GMO ACV Infused with Ginger, Horseradish, Hot Peppers, Honey, and More - Made Using Regenerative Farming Practices 8 Oz       "
          ],
          [
           "        Organic Honey In The Raw, 16 oz., Pure Raw Honey Sourced from Brazil, Hand Harvested and Unfiltered, USDA Organic, Non-GMO Project Verified and Kosher       "
          ],
          [
           "        Florida Raw Apiaries | Raw and Unfiltered Wildflower Honey with Comb, 16 Ounce       "
          ],
          [
           "        YS Eco Bee Farms RAW HONEY - Raw, Unfiltered, Unpasteurized - Kosher 3lbs       "
          ],
          [
           "        Savannah Bee Company Honey Sample Set - Artisanal Honey       "
          ],
          [
           "        Dutchman's Gold Raw Honey 6.6 lbs - Unfiltered - Non-pasteurized - Kosher       "
          ],
          [
           "        Y.S. Eco Bee Farms Raw Honey - 22 oz, Packed by Ilios       "
          ],
          [
           "        Wellmade Pure Raw Gourmet Honeycomb | Turkish Honey | All Natural Unfiltered Farm Fresh Honey Comb Piece in Protective Box | No Additives, No Preservatives 14 oz (Pack of 1)       "
          ],
          [
           "        Honest Raw Honey, Pure Natural American Honey, 44 Ounce       "
          ],
          [
           "        Raw Wildflower Honey - Pure, Unadulterated, Clean, Grade A Strained Honey from the Pacific Northwest (20 ounces)       "
          ],
          [
           "        Amorcito Corazón Squeezable Pure Raw Honey 10.6oz (300g)       "
          ],
          [
           "        OneRoot Raw Buckwheat Honey - 3kg / 6.6lb, Unheated, Unfiltered and Unprocessed Natural Dark Honey, Rich in Antioxidants Pure Buckwheat Honey       "
          ],
          [
           "        Raw, Unfiltered, Unpasteurized Texas Honey by Desert Creek Honey 1lb (16oz) Non-GMO, Kosher       "
          ],
          [
           "        Local Hive Utah Raw Unfiltered Honey – 16 oz, 100% Pure US Honey, Sourced from American Bees and Beekeepers - Natural Sweetener, Ideal for Tea, Baking, and Cooking       "
          ],
          [
           "        Savannah Bee Company Whipped Honey - All Natural Spreadable Honey       "
          ],
          [
           "        Raw Essentials Honey Powder - Distinct Honey Flavor - Used in Beverages, Bread and Desserts - 8 Ounce Container       "
          ],
          [
           "        Desert Creek Honey's All Natural, Raw, Premium Honey Bee Pollen, 8 oz       "
          ],
          [
           "        Local Hive Northwest Raw Unfiltered Honey – 16 oz, 100% Pure US Honey, Sourced from American Bees and Beekeepers - Natural Sweetener, Ideal for Tea, Baking, and Cooking       "
          ],
          [
           "        Buzzn Bee Raw Florida Honey - Unpasteurized and Unfiltered (Wildflower, 1.5 Pound)       "
          ],
          [
           "        TAJ Raw Acacia Honey | Fresh From Turkey | 17.6oz (500g)       "
          ],
          [
           "        Local Hive Colorado Raw Unfiltered Honey – 32oz, 100% Pure US Honey, Sourced from American Bees and Beekeepers - Natural Sweetener, Ideal for Tea, Baking, and Cooking       "
          ],
          [
           "        Local Hive Rocky Mountain Raw Unfiltered Honey – 32 oz, 100% Pure US Honey, Sourced from American Bees and Beekeepers - Natural Sweetener, Ideal for Tea, Baking, and Cooking       "
          ],
          [
           "        Mitica Orange Blossom Honey, 7 OZ       "
          ],
          [
           "        Fischer's Hot Honey, 24 Oz – 100% Raw Unfiltered Honey Infused with Hot Pepper – Chefs' Choice – Spicy Kick for Pizza, BBQ, Fried Chicken, Cheese Board, Salads, Cocktails       "
          ],
          [
           "        Sandt's Unfiltered Raw Honey Varietal Bundle - Golden, Clover & Orange Blossom (3 LBS)       "
          ],
          [
           "        TAJ Natural Raw Honeycomb Turkish Honey Comb, 1.25kg (2.75lbs)       "
          ],
          [
           "        Raw Honey - Pure All Natural Unfiltered & Unpasteurized - McCoy's Honey Florida Orange Blossom Honey Jar 16oz       "
          ],
          [
           "        Goshen Honey Extremely Raw Dandelion Honey - Unfiltered, Unprocessed, Pure & Natural from Amish Country in the USA - Rich Flavor for Tea, Cooking, Wellness - Dairy & Gluten Free - 454 g / 16 Oz       "
          ],
          [
           "        Kirkland Signature Kirkland Signature Raw Unfiltered USA Honey (48 OZ/ 3 LBS), 48 oz(Pack of 1)       "
          ],
          [
           "        Honey House Hot Honey Premium Spicy Infused with Chili Peppers | 100% Natural with Natural Spices | Gourmet Sweet & Spicy Condiment for Pizza, Ice Cream, Cheese, Chicken, Veggies and More       "
          ],
          [
           "        Bee Harmony Hungarian Raw Acacia Honey, 12 Ounce       "
          ],
          [
           "        Kevala Organic Raw Oaxaca Honey – 3 lb – 1360 g – Unfiltered - Organic Raw - Sweetener – Pure Honey – Gluten Free       "
          ],
          [
           "        Heavenly Organics – 100% Organic Raw Of Honey of Acadia – 22 Oz.       "
          ],
          [
           "        Peace River Organic Honey 1 KG (Made in Canada)       "
          ],
          [
           "        Breitsamer Sunflower Raw Honey Jar, 17.6 Ounce       "
          ],
          [
           "        WellEatable Eucalyptus Organic Raw Honey from Eucalyptus Flowers, Artisanal Complex Balsamic Honey from Sardinia, Italy - (250gr) 8.8 oz       "
          ],
          [
           "        Aunt Sue's Raw & Unfiltered Organic Honey, 24 Ounce (1.5 LB) From Brazil, Strained Pure Honey       "
          ]
         ],
         "hovertemplate": "Price Per Ounce=%{x}<br>Monthly Sales=%{y}<br>title=%{customdata[0]}<extra></extra>",
         "legendgroup": "",
         "marker": {
          "color": "#636efa",
          "symbol": "circle"
         },
         "mode": "markers",
         "name": "",
         "orientation": "v",
         "showlegend": false,
         "type": "scatter",
         "x": [
          0.45,
          0.53,
          0.46,
          0.53,
          0.58,
          0.36,
          0.77,
          0.37,
          0.42,
          0.41,
          0.78,
          0.56,
          0.86,
          0.38,
          0.6,
          0.38,
          1.43,
          1.7,
          0.36,
          1.67,
          3.06,
          0.79,
          0.87,
          0.8,
          0.78,
          2.14,
          0.39,
          0.35,
          0.78,
          0.62,
          0.7,
          0.7,
          0.5,
          0.99,
          0.41,
          0.36,
          0.78,
          0.43,
          1.02,
          0.78,
          1.16,
          0.56,
          0.56,
          1.87,
          1.5,
          0.45,
          0.5,
          0.56,
          0.5,
          0.39,
          0.44,
          1.33,
          0.96,
          0.45,
          0.81,
          0.94,
          0.18,
          0.7,
          0.45,
          1.59,
          0.59,
          0.47,
          0.75,
          0.62,
          0.5,
          0.71,
          0.83,
          0.59,
          0.62,
          1.59,
          1.44,
          1.19,
          0.5,
          0.78,
          0.51,
          1.25,
          0.57,
          0.42,
          1.28,
          0.7,
          0.96,
          0.79,
          0.63,
          0.94,
          0.69,
          0.71,
          1.11,
          1.45,
          0.26,
          0.75,
          0.49,
          0.7,
          0.83,
          1.5,
          1.64,
          1.19,
          1.47,
          0.55,
          1.34,
          0.7,
          0.56,
          1.63,
          0.78,
          0.99,
          0.72,
          1.64,
          1.75,
          1.21,
          1.75,
          0.71,
          0.87,
          1.19,
          0.84,
          0.65,
          0.49,
          0.83,
          0.83,
          2.31,
          3.12,
          0.71,
          1.37,
          0.56,
          2.39,
          0.52,
          1,
          1,
          0.5,
          1.15,
          0.87,
          0.76,
          0.75,
          0.78,
          1.5,
          1.6,
          1.8,
          0.78,
          0.71,
          0.79,
          0.7,
          0.7,
          1.67,
          0.58,
          0.77,
          1.14,
          1.06,
          1.06,
          0.48,
          1.62,
          1.67,
          0.46,
          0.75,
          0.65,
          0.82,
          2.26,
          0.62
         ],
         "xaxis": "x",
         "y": [
          30000,
          10000,
          10000,
          10000,
          10000,
          10000,
          5000,
          3000,
          3000,
          3000,
          2000,
          2000,
          2000,
          2000,
          1000,
          1000,
          1000,
          900,
          800,
          800,
          700,
          700,
          700,
          700,
          700,
          700,
          700,
          600,
          600,
          600,
          600,
          600,
          600,
          500,
          500,
          500,
          500,
          500,
          500,
          400,
          400,
          400,
          300,
          300,
          300,
          300,
          300,
          300,
          300,
          300,
          300,
          300,
          300,
          300,
          300,
          300,
          300,
          200,
          200,
          200,
          200,
          200,
          200,
          200,
          200,
          200,
          200,
          200,
          200,
          200,
          200,
          200,
          200,
          200,
          200,
          200,
          200,
          200,
          200,
          200,
          200,
          200,
          100,
          100,
          100,
          100,
          100,
          100,
          100,
          100,
          100,
          100,
          100,
          100,
          100,
          100,
          100,
          100,
          100,
          100,
          100,
          100,
          100,
          100,
          100,
          100,
          100,
          100,
          100,
          100,
          100,
          100,
          100,
          100,
          100,
          100,
          100,
          100,
          100,
          100,
          100,
          100,
          100,
          50,
          50,
          50,
          50,
          50,
          50,
          50,
          50,
          50,
          50,
          50,
          50,
          50,
          50,
          50,
          50,
          50,
          50,
          50,
          50,
          50,
          50,
          50,
          50,
          50,
          50,
          50,
          50,
          50,
          50,
          50,
          50
         ],
         "yaxis": "y"
        }
       ],
       "layout": {
        "legend": {
         "tracegroupgap": 0
        },
        "template": {
         "data": {
          "bar": [
           {
            "error_x": {
             "color": "#2a3f5f"
            },
            "error_y": {
             "color": "#2a3f5f"
            },
            "marker": {
             "line": {
              "color": "#E5ECF6",
              "width": 0.5
             },
             "pattern": {
              "fillmode": "overlay",
              "size": 10,
              "solidity": 0.2
             }
            },
            "type": "bar"
           }
          ],
          "barpolar": [
           {
            "marker": {
             "line": {
              "color": "#E5ECF6",
              "width": 0.5
             },
             "pattern": {
              "fillmode": "overlay",
              "size": 10,
              "solidity": 0.2
             }
            },
            "type": "barpolar"
           }
          ],
          "carpet": [
           {
            "aaxis": {
             "endlinecolor": "#2a3f5f",
             "gridcolor": "white",
             "linecolor": "white",
             "minorgridcolor": "white",
             "startlinecolor": "#2a3f5f"
            },
            "baxis": {
             "endlinecolor": "#2a3f5f",
             "gridcolor": "white",
             "linecolor": "white",
             "minorgridcolor": "white",
             "startlinecolor": "#2a3f5f"
            },
            "type": "carpet"
           }
          ],
          "choropleth": [
           {
            "colorbar": {
             "outlinewidth": 0,
             "ticks": ""
            },
            "type": "choropleth"
           }
          ],
          "contour": [
           {
            "colorbar": {
             "outlinewidth": 0,
             "ticks": ""
            },
            "colorscale": [
             [
              0,
              "#0d0887"
             ],
             [
              0.1111111111111111,
              "#46039f"
             ],
             [
              0.2222222222222222,
              "#7201a8"
             ],
             [
              0.3333333333333333,
              "#9c179e"
             ],
             [
              0.4444444444444444,
              "#bd3786"
             ],
             [
              0.5555555555555556,
              "#d8576b"
             ],
             [
              0.6666666666666666,
              "#ed7953"
             ],
             [
              0.7777777777777778,
              "#fb9f3a"
             ],
             [
              0.8888888888888888,
              "#fdca26"
             ],
             [
              1,
              "#f0f921"
             ]
            ],
            "type": "contour"
           }
          ],
          "contourcarpet": [
           {
            "colorbar": {
             "outlinewidth": 0,
             "ticks": ""
            },
            "type": "contourcarpet"
           }
          ],
          "heatmap": [
           {
            "colorbar": {
             "outlinewidth": 0,
             "ticks": ""
            },
            "colorscale": [
             [
              0,
              "#0d0887"
             ],
             [
              0.1111111111111111,
              "#46039f"
             ],
             [
              0.2222222222222222,
              "#7201a8"
             ],
             [
              0.3333333333333333,
              "#9c179e"
             ],
             [
              0.4444444444444444,
              "#bd3786"
             ],
             [
              0.5555555555555556,
              "#d8576b"
             ],
             [
              0.6666666666666666,
              "#ed7953"
             ],
             [
              0.7777777777777778,
              "#fb9f3a"
             ],
             [
              0.8888888888888888,
              "#fdca26"
             ],
             [
              1,
              "#f0f921"
             ]
            ],
            "type": "heatmap"
           }
          ],
          "heatmapgl": [
           {
            "colorbar": {
             "outlinewidth": 0,
             "ticks": ""
            },
            "colorscale": [
             [
              0,
              "#0d0887"
             ],
             [
              0.1111111111111111,
              "#46039f"
             ],
             [
              0.2222222222222222,
              "#7201a8"
             ],
             [
              0.3333333333333333,
              "#9c179e"
             ],
             [
              0.4444444444444444,
              "#bd3786"
             ],
             [
              0.5555555555555556,
              "#d8576b"
             ],
             [
              0.6666666666666666,
              "#ed7953"
             ],
             [
              0.7777777777777778,
              "#fb9f3a"
             ],
             [
              0.8888888888888888,
              "#fdca26"
             ],
             [
              1,
              "#f0f921"
             ]
            ],
            "type": "heatmapgl"
           }
          ],
          "histogram": [
           {
            "marker": {
             "pattern": {
              "fillmode": "overlay",
              "size": 10,
              "solidity": 0.2
             }
            },
            "type": "histogram"
           }
          ],
          "histogram2d": [
           {
            "colorbar": {
             "outlinewidth": 0,
             "ticks": ""
            },
            "colorscale": [
             [
              0,
              "#0d0887"
             ],
             [
              0.1111111111111111,
              "#46039f"
             ],
             [
              0.2222222222222222,
              "#7201a8"
             ],
             [
              0.3333333333333333,
              "#9c179e"
             ],
             [
              0.4444444444444444,
              "#bd3786"
             ],
             [
              0.5555555555555556,
              "#d8576b"
             ],
             [
              0.6666666666666666,
              "#ed7953"
             ],
             [
              0.7777777777777778,
              "#fb9f3a"
             ],
             [
              0.8888888888888888,
              "#fdca26"
             ],
             [
              1,
              "#f0f921"
             ]
            ],
            "type": "histogram2d"
           }
          ],
          "histogram2dcontour": [
           {
            "colorbar": {
             "outlinewidth": 0,
             "ticks": ""
            },
            "colorscale": [
             [
              0,
              "#0d0887"
             ],
             [
              0.1111111111111111,
              "#46039f"
             ],
             [
              0.2222222222222222,
              "#7201a8"
             ],
             [
              0.3333333333333333,
              "#9c179e"
             ],
             [
              0.4444444444444444,
              "#bd3786"
             ],
             [
              0.5555555555555556,
              "#d8576b"
             ],
             [
              0.6666666666666666,
              "#ed7953"
             ],
             [
              0.7777777777777778,
              "#fb9f3a"
             ],
             [
              0.8888888888888888,
              "#fdca26"
             ],
             [
              1,
              "#f0f921"
             ]
            ],
            "type": "histogram2dcontour"
           }
          ],
          "mesh3d": [
           {
            "colorbar": {
             "outlinewidth": 0,
             "ticks": ""
            },
            "type": "mesh3d"
           }
          ],
          "parcoords": [
           {
            "line": {
             "colorbar": {
              "outlinewidth": 0,
              "ticks": ""
             }
            },
            "type": "parcoords"
           }
          ],
          "pie": [
           {
            "automargin": true,
            "type": "pie"
           }
          ],
          "scatter": [
           {
            "fillpattern": {
             "fillmode": "overlay",
             "size": 10,
             "solidity": 0.2
            },
            "type": "scatter"
           }
          ],
          "scatter3d": [
           {
            "line": {
             "colorbar": {
              "outlinewidth": 0,
              "ticks": ""
             }
            },
            "marker": {
             "colorbar": {
              "outlinewidth": 0,
              "ticks": ""
             }
            },
            "type": "scatter3d"
           }
          ],
          "scattercarpet": [
           {
            "marker": {
             "colorbar": {
              "outlinewidth": 0,
              "ticks": ""
             }
            },
            "type": "scattercarpet"
           }
          ],
          "scattergeo": [
           {
            "marker": {
             "colorbar": {
              "outlinewidth": 0,
              "ticks": ""
             }
            },
            "type": "scattergeo"
           }
          ],
          "scattergl": [
           {
            "marker": {
             "colorbar": {
              "outlinewidth": 0,
              "ticks": ""
             }
            },
            "type": "scattergl"
           }
          ],
          "scattermapbox": [
           {
            "marker": {
             "colorbar": {
              "outlinewidth": 0,
              "ticks": ""
             }
            },
            "type": "scattermapbox"
           }
          ],
          "scatterpolar": [
           {
            "marker": {
             "colorbar": {
              "outlinewidth": 0,
              "ticks": ""
             }
            },
            "type": "scatterpolar"
           }
          ],
          "scatterpolargl": [
           {
            "marker": {
             "colorbar": {
              "outlinewidth": 0,
              "ticks": ""
             }
            },
            "type": "scatterpolargl"
           }
          ],
          "scatterternary": [
           {
            "marker": {
             "colorbar": {
              "outlinewidth": 0,
              "ticks": ""
             }
            },
            "type": "scatterternary"
           }
          ],
          "surface": [
           {
            "colorbar": {
             "outlinewidth": 0,
             "ticks": ""
            },
            "colorscale": [
             [
              0,
              "#0d0887"
             ],
             [
              0.1111111111111111,
              "#46039f"
             ],
             [
              0.2222222222222222,
              "#7201a8"
             ],
             [
              0.3333333333333333,
              "#9c179e"
             ],
             [
              0.4444444444444444,
              "#bd3786"
             ],
             [
              0.5555555555555556,
              "#d8576b"
             ],
             [
              0.6666666666666666,
              "#ed7953"
             ],
             [
              0.7777777777777778,
              "#fb9f3a"
             ],
             [
              0.8888888888888888,
              "#fdca26"
             ],
             [
              1,
              "#f0f921"
             ]
            ],
            "type": "surface"
           }
          ],
          "table": [
           {
            "cells": {
             "fill": {
              "color": "#EBF0F8"
             },
             "line": {
              "color": "white"
             }
            },
            "header": {
             "fill": {
              "color": "#C8D4E3"
             },
             "line": {
              "color": "white"
             }
            },
            "type": "table"
           }
          ]
         },
         "layout": {
          "annotationdefaults": {
           "arrowcolor": "#2a3f5f",
           "arrowhead": 0,
           "arrowwidth": 1
          },
          "autotypenumbers": "strict",
          "coloraxis": {
           "colorbar": {
            "outlinewidth": 0,
            "ticks": ""
           }
          },
          "colorscale": {
           "diverging": [
            [
             0,
             "#8e0152"
            ],
            [
             0.1,
             "#c51b7d"
            ],
            [
             0.2,
             "#de77ae"
            ],
            [
             0.3,
             "#f1b6da"
            ],
            [
             0.4,
             "#fde0ef"
            ],
            [
             0.5,
             "#f7f7f7"
            ],
            [
             0.6,
             "#e6f5d0"
            ],
            [
             0.7,
             "#b8e186"
            ],
            [
             0.8,
             "#7fbc41"
            ],
            [
             0.9,
             "#4d9221"
            ],
            [
             1,
             "#276419"
            ]
           ],
           "sequential": [
            [
             0,
             "#0d0887"
            ],
            [
             0.1111111111111111,
             "#46039f"
            ],
            [
             0.2222222222222222,
             "#7201a8"
            ],
            [
             0.3333333333333333,
             "#9c179e"
            ],
            [
             0.4444444444444444,
             "#bd3786"
            ],
            [
             0.5555555555555556,
             "#d8576b"
            ],
            [
             0.6666666666666666,
             "#ed7953"
            ],
            [
             0.7777777777777778,
             "#fb9f3a"
            ],
            [
             0.8888888888888888,
             "#fdca26"
            ],
            [
             1,
             "#f0f921"
            ]
           ],
           "sequentialminus": [
            [
             0,
             "#0d0887"
            ],
            [
             0.1111111111111111,
             "#46039f"
            ],
            [
             0.2222222222222222,
             "#7201a8"
            ],
            [
             0.3333333333333333,
             "#9c179e"
            ],
            [
             0.4444444444444444,
             "#bd3786"
            ],
            [
             0.5555555555555556,
             "#d8576b"
            ],
            [
             0.6666666666666666,
             "#ed7953"
            ],
            [
             0.7777777777777778,
             "#fb9f3a"
            ],
            [
             0.8888888888888888,
             "#fdca26"
            ],
            [
             1,
             "#f0f921"
            ]
           ]
          },
          "colorway": [
           "#636efa",
           "#EF553B",
           "#00cc96",
           "#ab63fa",
           "#FFA15A",
           "#19d3f3",
           "#FF6692",
           "#B6E880",
           "#FF97FF",
           "#FECB52"
          ],
          "font": {
           "color": "#2a3f5f"
          },
          "geo": {
           "bgcolor": "white",
           "lakecolor": "white",
           "landcolor": "#E5ECF6",
           "showlakes": true,
           "showland": true,
           "subunitcolor": "white"
          },
          "hoverlabel": {
           "align": "left"
          },
          "hovermode": "closest",
          "mapbox": {
           "style": "light"
          },
          "paper_bgcolor": "white",
          "plot_bgcolor": "#E5ECF6",
          "polar": {
           "angularaxis": {
            "gridcolor": "white",
            "linecolor": "white",
            "ticks": ""
           },
           "bgcolor": "#E5ECF6",
           "radialaxis": {
            "gridcolor": "white",
            "linecolor": "white",
            "ticks": ""
           }
          },
          "scene": {
           "xaxis": {
            "backgroundcolor": "#E5ECF6",
            "gridcolor": "white",
            "gridwidth": 2,
            "linecolor": "white",
            "showbackground": true,
            "ticks": "",
            "zerolinecolor": "white"
           },
           "yaxis": {
            "backgroundcolor": "#E5ECF6",
            "gridcolor": "white",
            "gridwidth": 2,
            "linecolor": "white",
            "showbackground": true,
            "ticks": "",
            "zerolinecolor": "white"
           },
           "zaxis": {
            "backgroundcolor": "#E5ECF6",
            "gridcolor": "white",
            "gridwidth": 2,
            "linecolor": "white",
            "showbackground": true,
            "ticks": "",
            "zerolinecolor": "white"
           }
          },
          "shapedefaults": {
           "line": {
            "color": "#2a3f5f"
           }
          },
          "ternary": {
           "aaxis": {
            "gridcolor": "white",
            "linecolor": "white",
            "ticks": ""
           },
           "baxis": {
            "gridcolor": "white",
            "linecolor": "white",
            "ticks": ""
           },
           "bgcolor": "#E5ECF6",
           "caxis": {
            "gridcolor": "white",
            "linecolor": "white",
            "ticks": ""
           }
          },
          "title": {
           "x": 0.05
          },
          "xaxis": {
           "automargin": true,
           "gridcolor": "white",
           "linecolor": "white",
           "ticks": "",
           "title": {
            "standoff": 15
           },
           "zerolinecolor": "white",
           "zerolinewidth": 2
          },
          "yaxis": {
           "automargin": true,
           "gridcolor": "white",
           "linecolor": "white",
           "ticks": "",
           "title": {
            "standoff": 15
           },
           "zerolinecolor": "white",
           "zerolinewidth": 2
          }
         }
        },
        "title": {
         "text": "Comparison of Price and Monthly Sales"
        },
        "xaxis": {
         "anchor": "y",
         "domain": [
          0,
          1
         ],
         "title": {
          "text": "Price Per Ounce"
         }
        },
        "yaxis": {
         "anchor": "x",
         "domain": [
          0,
          1
         ],
         "title": {
          "text": "Monthly Sales"
         }
        }
       }
      }
     },
     "metadata": {},
     "output_type": "display_data"
    }
   ],
   "source": [
    "# Scatter plot to see the relationship between price and sales\n",
    "fig = px.scatter(\n",
    "    most_bought, x=most_bought['price_per_ounce'], y=most_bought['bought_last_month'],\n",
    "    title = 'Comparison of Price and Monthly Sales' ,\n",
    "    hover_data=['price_per_ounce', 'bought_last_month', 'title'],\n",
    "    labels={'bought_last_month':\"Monthly Sales\", 'price_per_ounce': 'Price Per Ounce'}\n",
    ")\n",
    "fig.show()"
   ]
  },
  {
   "cell_type": "markdown",
   "id": "4ec1befe",
   "metadata": {},
   "source": [
    "- The most frequent jar size of honey products sold in the top 10 are 16 oz, on the otherhand, the sales volume is dominated by 32 oz honey jars with about 2,400 more monthly sales. Leading to the conclusion that customers will often experiment with buying different 16oz honey products and once they've found a product to meet their standards, they will consistently buy that product in the largest quantity possible.  "
   ]
  },
  {
   "cell_type": "code",
   "execution_count": 294,
   "id": "d0e40979",
   "metadata": {},
   "outputs": [
    {
     "name": "stdout",
     "output_type": "stream",
     "text": [
      "Most sold jar size of products in the top 10:  16.0 oz\n",
      "Sales volume of 16oz jars in the top 10:  3290.0\n",
      "Sales volume of 32oz jars in the top 10:  5700.0\n",
      "Last Month's Average Sales of Top 10 Products:  9400.0\n"
     ]
    }
   ],
   "source": [
    "# Finding out which size is sold most oftent \n",
    "print(\"Most sold jar size of products in the top 10: \", most_bought['weight'][:10].mode()[0], \"oz\")\n",
    "\n",
    "# 16 oz sales volumne \n",
    "print(\"Sales volume of 16oz jars in the top 10: \", most_bought[most_bought['weight'] == 16][:10]['bought_last_month'].mean())\n",
    "\n",
    "# 32 oz sales volumne\n",
    "print(\"Sales volume of 32oz jars in the top 10: \", most_bought[most_bought['weight'] == 32][:10]['bought_last_month'].mean())\n",
    "\n",
    "# Average sales last month for the top 10 \n",
    "print(\"Last Month's Average Sales of Top 10 Products: \", most_bought['bought_last_month'][:10].mean())"
   ]
  },
  {
   "cell_type": "markdown",
   "id": "0dd6996f",
   "metadata": {},
   "source": [
    "### Most Reviewed Products "
   ]
  },
  {
   "cell_type": "markdown",
   "id": "063e9f52",
   "metadata": {},
   "source": [
    "- The goal of this section is to analyze the most reviewed products using the same metrics as earlier to see if any different insights can be gained from the most reviewed honey products on the market. "
   ]
  },
  {
   "cell_type": "code",
   "execution_count": 295,
   "id": "27276373",
   "metadata": {},
   "outputs": [
    {
     "data": {
      "text/html": [
       "<div>\n",
       "<style scoped>\n",
       "    .dataframe tbody tr th:only-of-type {\n",
       "        vertical-align: middle;\n",
       "    }\n",
       "\n",
       "    .dataframe tbody tr th {\n",
       "        vertical-align: top;\n",
       "    }\n",
       "\n",
       "    .dataframe thead th {\n",
       "        text-align: right;\n",
       "    }\n",
       "</style>\n",
       "<table border=\"1\" class=\"dataframe\">\n",
       "  <thead>\n",
       "    <tr style=\"text-align: right;\">\n",
       "      <th></th>\n",
       "      <th>title</th>\n",
       "      <th>brand</th>\n",
       "      <th>price_per_ounce</th>\n",
       "      <th>product_rating</th>\n",
       "      <th>bought_last_month</th>\n",
       "      <th>num_reviews</th>\n",
       "      <th>product_upc</th>\n",
       "      <th>date_acquired</th>\n",
       "    </tr>\n",
       "  </thead>\n",
       "  <tbody>\n",
       "    <tr>\n",
       "      <th>13055</th>\n",
       "      <td>Nate's 100% Pure, Raw &amp; Unfiltered Hon...</td>\n",
       "      <td>Nature Nate's</td>\n",
       "      <td>0.42</td>\n",
       "      <td>4.7</td>\n",
       "      <td>30000.0</td>\n",
       "      <td>66202.0</td>\n",
       "      <td>038778830321</td>\n",
       "      <td>2025-05-24</td>\n",
       "    </tr>\n",
       "    <tr>\n",
       "      <th>13043</th>\n",
       "      <td>Nate's 100% Pure, Raw &amp; Unfiltered Hon...</td>\n",
       "      <td>Nature Nate's</td>\n",
       "      <td>0.45</td>\n",
       "      <td>4.7</td>\n",
       "      <td>10000.0</td>\n",
       "      <td>66202.0</td>\n",
       "      <td>038778830161</td>\n",
       "      <td>2025-05-24</td>\n",
       "    </tr>\n",
       "    <tr>\n",
       "      <th>9347</th>\n",
       "      <td>Nate's 100% Pure, Raw &amp; Unfiltered Hon...</td>\n",
       "      <td>Nature Nate's</td>\n",
       "      <td>0.56</td>\n",
       "      <td>4.7</td>\n",
       "      <td>2000.0</td>\n",
       "      <td>66160.0</td>\n",
       "      <td>038778830130</td>\n",
       "      <td>2025-05-22</td>\n",
       "    </tr>\n",
       "    <tr>\n",
       "      <th>13119</th>\n",
       "      <td>Nate's Organic 100% Pure, Raw &amp; Unfilt...</td>\n",
       "      <td>Nature Nate's</td>\n",
       "      <td>0.53</td>\n",
       "      <td>4.6</td>\n",
       "      <td>10000.0</td>\n",
       "      <td>32494.0</td>\n",
       "      <td>038778610169</td>\n",
       "      <td>2025-05-24</td>\n",
       "    </tr>\n",
       "    <tr>\n",
       "      <th>13062</th>\n",
       "      <td>Nature Nate's 100% Pure USDA Organic R...</td>\n",
       "      <td>Nature Nate's</td>\n",
       "      <td>0.68</td>\n",
       "      <td>4.6</td>\n",
       "      <td>200.0</td>\n",
       "      <td>32494.0</td>\n",
       "      <td>nan</td>\n",
       "      <td>2025-05-24</td>\n",
       "    </tr>\n",
       "    <tr>\n",
       "      <th>13011</th>\n",
       "      <td>Nate's Organic 100% Pure, Raw &amp; Unfilt...</td>\n",
       "      <td>Nature Nate's</td>\n",
       "      <td>0.48</td>\n",
       "      <td>4.6</td>\n",
       "      <td>10000.0</td>\n",
       "      <td>32494.0</td>\n",
       "      <td>038778610329</td>\n",
       "      <td>2025-05-24</td>\n",
       "    </tr>\n",
       "    <tr>\n",
       "      <th>10098</th>\n",
       "      <td>Nature Nate's 100% Pure USDA Organic R...</td>\n",
       "      <td>Nature Nate's</td>\n",
       "      <td>0.68</td>\n",
       "      <td>4.6</td>\n",
       "      <td>200.0</td>\n",
       "      <td>32471.0</td>\n",
       "      <td>None</td>\n",
       "      <td>2025-05-22</td>\n",
       "    </tr>\n",
       "    <tr>\n",
       "      <th>11691</th>\n",
       "      <td>Amazon Grocery, Raw Wildflower Pure Ho...</td>\n",
       "      <td>Amazon Grocery</td>\n",
       "      <td>0.36</td>\n",
       "      <td>4.7</td>\n",
       "      <td>10000.0</td>\n",
       "      <td>17889.0</td>\n",
       "      <td>842379155444</td>\n",
       "      <td>2025-05-24</td>\n",
       "    </tr>\n",
       "    <tr>\n",
       "      <th>8581</th>\n",
       "      <td>365 by Whole Foods Market, Organic Lig...</td>\n",
       "      <td>365 by Whole Foods Market</td>\n",
       "      <td>0.58</td>\n",
       "      <td>4.7</td>\n",
       "      <td>10000.0</td>\n",
       "      <td>7979.0</td>\n",
       "      <td>099482446123</td>\n",
       "      <td>2025-05-22</td>\n",
       "    </tr>\n",
       "    <tr>\n",
       "      <th>30</th>\n",
       "      <td>Nate's Honey Minis - Single-Serve 100%...</td>\n",
       "      <td>Nature Nate's</td>\n",
       "      <td>0.71</td>\n",
       "      <td>4.6</td>\n",
       "      <td>10000.0</td>\n",
       "      <td>6678.0</td>\n",
       "      <td>038778730201</td>\n",
       "      <td>2025-05-15</td>\n",
       "    </tr>\n",
       "  </tbody>\n",
       "</table>\n",
       "</div>"
      ],
      "text/plain": [
       "                                                   title  \\\n",
       "13055          Nate's 100% Pure, Raw & Unfiltered Hon...   \n",
       "13043          Nate's 100% Pure, Raw & Unfiltered Hon...   \n",
       "9347           Nate's 100% Pure, Raw & Unfiltered Hon...   \n",
       "13119          Nate's Organic 100% Pure, Raw & Unfilt...   \n",
       "13062          Nature Nate's 100% Pure USDA Organic R...   \n",
       "13011          Nate's Organic 100% Pure, Raw & Unfilt...   \n",
       "10098          Nature Nate's 100% Pure USDA Organic R...   \n",
       "11691          Amazon Grocery, Raw Wildflower Pure Ho...   \n",
       "8581           365 by Whole Foods Market, Organic Lig...   \n",
       "30             Nate's Honey Minis - Single-Serve 100%...   \n",
       "\n",
       "                           brand  price_per_ounce  product_rating  \\\n",
       "13055              Nature Nate's             0.42             4.7   \n",
       "13043              Nature Nate's             0.45             4.7   \n",
       "9347               Nature Nate's             0.56             4.7   \n",
       "13119              Nature Nate's             0.53             4.6   \n",
       "13062              Nature Nate's             0.68             4.6   \n",
       "13011              Nature Nate's             0.48             4.6   \n",
       "10098              Nature Nate's             0.68             4.6   \n",
       "11691             Amazon Grocery             0.36             4.7   \n",
       "8581   365 by Whole Foods Market             0.58             4.7   \n",
       "30                 Nature Nate's             0.71             4.6   \n",
       "\n",
       "       bought_last_month  num_reviews   product_upc date_acquired  \n",
       "13055            30000.0      66202.0  038778830321    2025-05-24  \n",
       "13043            10000.0      66202.0  038778830161    2025-05-24  \n",
       "9347              2000.0      66160.0  038778830130    2025-05-22  \n",
       "13119            10000.0      32494.0  038778610169    2025-05-24  \n",
       "13062              200.0      32494.0           nan    2025-05-24  \n",
       "13011            10000.0      32494.0  038778610329    2025-05-24  \n",
       "10098              200.0      32471.0          None    2025-05-22  \n",
       "11691            10000.0      17889.0  842379155444    2025-05-24  \n",
       "8581             10000.0       7979.0  099482446123    2025-05-22  \n",
       "30               10000.0       6678.0  038778730201    2025-05-15  "
      ]
     },
     "execution_count": 295,
     "metadata": {},
     "output_type": "execute_result"
    }
   ],
   "source": [
    "# The df should not contain null values \n",
    "highest_reviews = df[df['num_reviews'].isna() == False]\n",
    "\n",
    "# Sort the df by review count, with highest shown first \n",
    "highest_reviews = highest_reviews.sort_values(by=['num_reviews'], ascending=False)\n",
    "\n",
    "# Drop any duplicate products \n",
    "highest_reviews = highest_reviews.drop_duplicates(subset='product_upc')\n",
    "\n",
    "# Display the data \n",
    "highest_reviews[:10][[\n",
    "    'title', 'brand', 'price_per_ounce', 'product_rating', 'bought_last_month', \n",
    "    'num_reviews', 'product_upc', 'date_acquired'\n",
    "]]"
   ]
  },
  {
   "cell_type": "code",
   "execution_count": 296,
   "id": "55c66b95",
   "metadata": {},
   "outputs": [
    {
     "data": {
      "application/vnd.plotly.v1+json": {
       "config": {
        "plotlyServerURL": "https://plot.ly"
       },
       "data": [
        {
         "alignmentgroup": "True",
         "hovertemplate": "Product Ranking=%{x}<br>APPO=%{y}<extra></extra>",
         "legendgroup": "",
         "marker": {
          "color": "#636efa",
          "pattern": {
           "shape": ""
          }
         },
         "name": "",
         "offsetgroup": "",
         "orientation": "v",
         "showlegend": false,
         "textposition": "auto",
         "type": "bar",
         "x": [
          "Top 5",
          "Top 15",
          "Top 25",
          "Top 50",
          "Top 100"
         ],
         "xaxis": "x",
         "y": [
          0.53,
          0.8,
          0.66,
          0.8,
          0.95
         ],
         "yaxis": "y"
        }
       ],
       "layout": {
        "barmode": "relative",
        "height": 700,
        "legend": {
         "tracegroupgap": 0
        },
        "template": {
         "data": {
          "bar": [
           {
            "error_x": {
             "color": "#2a3f5f"
            },
            "error_y": {
             "color": "#2a3f5f"
            },
            "marker": {
             "line": {
              "color": "#E5ECF6",
              "width": 0.5
             },
             "pattern": {
              "fillmode": "overlay",
              "size": 10,
              "solidity": 0.2
             }
            },
            "type": "bar"
           }
          ],
          "barpolar": [
           {
            "marker": {
             "line": {
              "color": "#E5ECF6",
              "width": 0.5
             },
             "pattern": {
              "fillmode": "overlay",
              "size": 10,
              "solidity": 0.2
             }
            },
            "type": "barpolar"
           }
          ],
          "carpet": [
           {
            "aaxis": {
             "endlinecolor": "#2a3f5f",
             "gridcolor": "white",
             "linecolor": "white",
             "minorgridcolor": "white",
             "startlinecolor": "#2a3f5f"
            },
            "baxis": {
             "endlinecolor": "#2a3f5f",
             "gridcolor": "white",
             "linecolor": "white",
             "minorgridcolor": "white",
             "startlinecolor": "#2a3f5f"
            },
            "type": "carpet"
           }
          ],
          "choropleth": [
           {
            "colorbar": {
             "outlinewidth": 0,
             "ticks": ""
            },
            "type": "choropleth"
           }
          ],
          "contour": [
           {
            "colorbar": {
             "outlinewidth": 0,
             "ticks": ""
            },
            "colorscale": [
             [
              0,
              "#0d0887"
             ],
             [
              0.1111111111111111,
              "#46039f"
             ],
             [
              0.2222222222222222,
              "#7201a8"
             ],
             [
              0.3333333333333333,
              "#9c179e"
             ],
             [
              0.4444444444444444,
              "#bd3786"
             ],
             [
              0.5555555555555556,
              "#d8576b"
             ],
             [
              0.6666666666666666,
              "#ed7953"
             ],
             [
              0.7777777777777778,
              "#fb9f3a"
             ],
             [
              0.8888888888888888,
              "#fdca26"
             ],
             [
              1,
              "#f0f921"
             ]
            ],
            "type": "contour"
           }
          ],
          "contourcarpet": [
           {
            "colorbar": {
             "outlinewidth": 0,
             "ticks": ""
            },
            "type": "contourcarpet"
           }
          ],
          "heatmap": [
           {
            "colorbar": {
             "outlinewidth": 0,
             "ticks": ""
            },
            "colorscale": [
             [
              0,
              "#0d0887"
             ],
             [
              0.1111111111111111,
              "#46039f"
             ],
             [
              0.2222222222222222,
              "#7201a8"
             ],
             [
              0.3333333333333333,
              "#9c179e"
             ],
             [
              0.4444444444444444,
              "#bd3786"
             ],
             [
              0.5555555555555556,
              "#d8576b"
             ],
             [
              0.6666666666666666,
              "#ed7953"
             ],
             [
              0.7777777777777778,
              "#fb9f3a"
             ],
             [
              0.8888888888888888,
              "#fdca26"
             ],
             [
              1,
              "#f0f921"
             ]
            ],
            "type": "heatmap"
           }
          ],
          "heatmapgl": [
           {
            "colorbar": {
             "outlinewidth": 0,
             "ticks": ""
            },
            "colorscale": [
             [
              0,
              "#0d0887"
             ],
             [
              0.1111111111111111,
              "#46039f"
             ],
             [
              0.2222222222222222,
              "#7201a8"
             ],
             [
              0.3333333333333333,
              "#9c179e"
             ],
             [
              0.4444444444444444,
              "#bd3786"
             ],
             [
              0.5555555555555556,
              "#d8576b"
             ],
             [
              0.6666666666666666,
              "#ed7953"
             ],
             [
              0.7777777777777778,
              "#fb9f3a"
             ],
             [
              0.8888888888888888,
              "#fdca26"
             ],
             [
              1,
              "#f0f921"
             ]
            ],
            "type": "heatmapgl"
           }
          ],
          "histogram": [
           {
            "marker": {
             "pattern": {
              "fillmode": "overlay",
              "size": 10,
              "solidity": 0.2
             }
            },
            "type": "histogram"
           }
          ],
          "histogram2d": [
           {
            "colorbar": {
             "outlinewidth": 0,
             "ticks": ""
            },
            "colorscale": [
             [
              0,
              "#0d0887"
             ],
             [
              0.1111111111111111,
              "#46039f"
             ],
             [
              0.2222222222222222,
              "#7201a8"
             ],
             [
              0.3333333333333333,
              "#9c179e"
             ],
             [
              0.4444444444444444,
              "#bd3786"
             ],
             [
              0.5555555555555556,
              "#d8576b"
             ],
             [
              0.6666666666666666,
              "#ed7953"
             ],
             [
              0.7777777777777778,
              "#fb9f3a"
             ],
             [
              0.8888888888888888,
              "#fdca26"
             ],
             [
              1,
              "#f0f921"
             ]
            ],
            "type": "histogram2d"
           }
          ],
          "histogram2dcontour": [
           {
            "colorbar": {
             "outlinewidth": 0,
             "ticks": ""
            },
            "colorscale": [
             [
              0,
              "#0d0887"
             ],
             [
              0.1111111111111111,
              "#46039f"
             ],
             [
              0.2222222222222222,
              "#7201a8"
             ],
             [
              0.3333333333333333,
              "#9c179e"
             ],
             [
              0.4444444444444444,
              "#bd3786"
             ],
             [
              0.5555555555555556,
              "#d8576b"
             ],
             [
              0.6666666666666666,
              "#ed7953"
             ],
             [
              0.7777777777777778,
              "#fb9f3a"
             ],
             [
              0.8888888888888888,
              "#fdca26"
             ],
             [
              1,
              "#f0f921"
             ]
            ],
            "type": "histogram2dcontour"
           }
          ],
          "mesh3d": [
           {
            "colorbar": {
             "outlinewidth": 0,
             "ticks": ""
            },
            "type": "mesh3d"
           }
          ],
          "parcoords": [
           {
            "line": {
             "colorbar": {
              "outlinewidth": 0,
              "ticks": ""
             }
            },
            "type": "parcoords"
           }
          ],
          "pie": [
           {
            "automargin": true,
            "type": "pie"
           }
          ],
          "scatter": [
           {
            "fillpattern": {
             "fillmode": "overlay",
             "size": 10,
             "solidity": 0.2
            },
            "type": "scatter"
           }
          ],
          "scatter3d": [
           {
            "line": {
             "colorbar": {
              "outlinewidth": 0,
              "ticks": ""
             }
            },
            "marker": {
             "colorbar": {
              "outlinewidth": 0,
              "ticks": ""
             }
            },
            "type": "scatter3d"
           }
          ],
          "scattercarpet": [
           {
            "marker": {
             "colorbar": {
              "outlinewidth": 0,
              "ticks": ""
             }
            },
            "type": "scattercarpet"
           }
          ],
          "scattergeo": [
           {
            "marker": {
             "colorbar": {
              "outlinewidth": 0,
              "ticks": ""
             }
            },
            "type": "scattergeo"
           }
          ],
          "scattergl": [
           {
            "marker": {
             "colorbar": {
              "outlinewidth": 0,
              "ticks": ""
             }
            },
            "type": "scattergl"
           }
          ],
          "scattermapbox": [
           {
            "marker": {
             "colorbar": {
              "outlinewidth": 0,
              "ticks": ""
             }
            },
            "type": "scattermapbox"
           }
          ],
          "scatterpolar": [
           {
            "marker": {
             "colorbar": {
              "outlinewidth": 0,
              "ticks": ""
             }
            },
            "type": "scatterpolar"
           }
          ],
          "scatterpolargl": [
           {
            "marker": {
             "colorbar": {
              "outlinewidth": 0,
              "ticks": ""
             }
            },
            "type": "scatterpolargl"
           }
          ],
          "scatterternary": [
           {
            "marker": {
             "colorbar": {
              "outlinewidth": 0,
              "ticks": ""
             }
            },
            "type": "scatterternary"
           }
          ],
          "surface": [
           {
            "colorbar": {
             "outlinewidth": 0,
             "ticks": ""
            },
            "colorscale": [
             [
              0,
              "#0d0887"
             ],
             [
              0.1111111111111111,
              "#46039f"
             ],
             [
              0.2222222222222222,
              "#7201a8"
             ],
             [
              0.3333333333333333,
              "#9c179e"
             ],
             [
              0.4444444444444444,
              "#bd3786"
             ],
             [
              0.5555555555555556,
              "#d8576b"
             ],
             [
              0.6666666666666666,
              "#ed7953"
             ],
             [
              0.7777777777777778,
              "#fb9f3a"
             ],
             [
              0.8888888888888888,
              "#fdca26"
             ],
             [
              1,
              "#f0f921"
             ]
            ],
            "type": "surface"
           }
          ],
          "table": [
           {
            "cells": {
             "fill": {
              "color": "#EBF0F8"
             },
             "line": {
              "color": "white"
             }
            },
            "header": {
             "fill": {
              "color": "#C8D4E3"
             },
             "line": {
              "color": "white"
             }
            },
            "type": "table"
           }
          ]
         },
         "layout": {
          "annotationdefaults": {
           "arrowcolor": "#2a3f5f",
           "arrowhead": 0,
           "arrowwidth": 1
          },
          "autotypenumbers": "strict",
          "coloraxis": {
           "colorbar": {
            "outlinewidth": 0,
            "ticks": ""
           }
          },
          "colorscale": {
           "diverging": [
            [
             0,
             "#8e0152"
            ],
            [
             0.1,
             "#c51b7d"
            ],
            [
             0.2,
             "#de77ae"
            ],
            [
             0.3,
             "#f1b6da"
            ],
            [
             0.4,
             "#fde0ef"
            ],
            [
             0.5,
             "#f7f7f7"
            ],
            [
             0.6,
             "#e6f5d0"
            ],
            [
             0.7,
             "#b8e186"
            ],
            [
             0.8,
             "#7fbc41"
            ],
            [
             0.9,
             "#4d9221"
            ],
            [
             1,
             "#276419"
            ]
           ],
           "sequential": [
            [
             0,
             "#0d0887"
            ],
            [
             0.1111111111111111,
             "#46039f"
            ],
            [
             0.2222222222222222,
             "#7201a8"
            ],
            [
             0.3333333333333333,
             "#9c179e"
            ],
            [
             0.4444444444444444,
             "#bd3786"
            ],
            [
             0.5555555555555556,
             "#d8576b"
            ],
            [
             0.6666666666666666,
             "#ed7953"
            ],
            [
             0.7777777777777778,
             "#fb9f3a"
            ],
            [
             0.8888888888888888,
             "#fdca26"
            ],
            [
             1,
             "#f0f921"
            ]
           ],
           "sequentialminus": [
            [
             0,
             "#0d0887"
            ],
            [
             0.1111111111111111,
             "#46039f"
            ],
            [
             0.2222222222222222,
             "#7201a8"
            ],
            [
             0.3333333333333333,
             "#9c179e"
            ],
            [
             0.4444444444444444,
             "#bd3786"
            ],
            [
             0.5555555555555556,
             "#d8576b"
            ],
            [
             0.6666666666666666,
             "#ed7953"
            ],
            [
             0.7777777777777778,
             "#fb9f3a"
            ],
            [
             0.8888888888888888,
             "#fdca26"
            ],
            [
             1,
             "#f0f921"
            ]
           ]
          },
          "colorway": [
           "#636efa",
           "#EF553B",
           "#00cc96",
           "#ab63fa",
           "#FFA15A",
           "#19d3f3",
           "#FF6692",
           "#B6E880",
           "#FF97FF",
           "#FECB52"
          ],
          "font": {
           "color": "#2a3f5f"
          },
          "geo": {
           "bgcolor": "white",
           "lakecolor": "white",
           "landcolor": "#E5ECF6",
           "showlakes": true,
           "showland": true,
           "subunitcolor": "white"
          },
          "hoverlabel": {
           "align": "left"
          },
          "hovermode": "closest",
          "mapbox": {
           "style": "light"
          },
          "paper_bgcolor": "white",
          "plot_bgcolor": "#E5ECF6",
          "polar": {
           "angularaxis": {
            "gridcolor": "white",
            "linecolor": "white",
            "ticks": ""
           },
           "bgcolor": "#E5ECF6",
           "radialaxis": {
            "gridcolor": "white",
            "linecolor": "white",
            "ticks": ""
           }
          },
          "scene": {
           "xaxis": {
            "backgroundcolor": "#E5ECF6",
            "gridcolor": "white",
            "gridwidth": 2,
            "linecolor": "white",
            "showbackground": true,
            "ticks": "",
            "zerolinecolor": "white"
           },
           "yaxis": {
            "backgroundcolor": "#E5ECF6",
            "gridcolor": "white",
            "gridwidth": 2,
            "linecolor": "white",
            "showbackground": true,
            "ticks": "",
            "zerolinecolor": "white"
           },
           "zaxis": {
            "backgroundcolor": "#E5ECF6",
            "gridcolor": "white",
            "gridwidth": 2,
            "linecolor": "white",
            "showbackground": true,
            "ticks": "",
            "zerolinecolor": "white"
           }
          },
          "shapedefaults": {
           "line": {
            "color": "#2a3f5f"
           }
          },
          "ternary": {
           "aaxis": {
            "gridcolor": "white",
            "linecolor": "white",
            "ticks": ""
           },
           "baxis": {
            "gridcolor": "white",
            "linecolor": "white",
            "ticks": ""
           },
           "bgcolor": "#E5ECF6",
           "caxis": {
            "gridcolor": "white",
            "linecolor": "white",
            "ticks": ""
           }
          },
          "title": {
           "x": 0.05
          },
          "xaxis": {
           "automargin": true,
           "gridcolor": "white",
           "linecolor": "white",
           "ticks": "",
           "title": {
            "standoff": 15
           },
           "zerolinecolor": "white",
           "zerolinewidth": 2
          },
          "yaxis": {
           "automargin": true,
           "gridcolor": "white",
           "linecolor": "white",
           "ticks": "",
           "title": {
            "standoff": 15
           },
           "zerolinecolor": "white",
           "zerolinewidth": 2
          }
         }
        },
        "title": {
         "text": "APPO of Most Reviewed Products"
        },
        "width": 700,
        "xaxis": {
         "anchor": "y",
         "domain": [
          0,
          1
         ],
         "title": {
          "text": "Product Ranking"
         }
        },
        "yaxis": {
         "anchor": "x",
         "domain": [
          0,
          1
         ],
         "title": {
          "text": "APPO"
         }
        }
       }
      }
     },
     "metadata": {},
     "output_type": "display_data"
    }
   ],
   "source": [
    "data = VisualizeData(\n",
    "    highest_reviews, \n",
    "    'average price per ounce', \n",
    "    \"APPO of Most Reviewed Products\", \n",
    "    'Product Ranking',\n",
    "    'APPO',\n",
    "    'bar'\n",
    ")\n",
    "data.main()"
   ]
  },
  {
   "cell_type": "code",
   "execution_count": 297,
   "id": "95efdd9c",
   "metadata": {},
   "outputs": [
    {
     "data": {
      "application/vnd.plotly.v1+json": {
       "config": {
        "plotlyServerURL": "https://plot.ly"
       },
       "data": [
        {
         "alignmentgroup": "True",
         "hovertemplate": "Product Ranking=%{x}<br>Monthly Sales=%{y}<extra></extra>",
         "legendgroup": "",
         "marker": {
          "color": "#636efa",
          "pattern": {
           "shape": ""
          }
         },
         "name": "",
         "offsetgroup": "",
         "orientation": "v",
         "showlegend": false,
         "textposition": "auto",
         "type": "bar",
         "x": [
          "Top 5",
          "Top 15",
          "Top 25",
          "Top 50",
          "Top 100"
         ],
         "xaxis": "x",
         "y": [
          10440,
          3822.22,
          1275,
          600,
          245.35
         ],
         "yaxis": "y"
        }
       ],
       "layout": {
        "barmode": "relative",
        "height": 700,
        "legend": {
         "tracegroupgap": 0
        },
        "template": {
         "data": {
          "bar": [
           {
            "error_x": {
             "color": "#2a3f5f"
            },
            "error_y": {
             "color": "#2a3f5f"
            },
            "marker": {
             "line": {
              "color": "#E5ECF6",
              "width": 0.5
             },
             "pattern": {
              "fillmode": "overlay",
              "size": 10,
              "solidity": 0.2
             }
            },
            "type": "bar"
           }
          ],
          "barpolar": [
           {
            "marker": {
             "line": {
              "color": "#E5ECF6",
              "width": 0.5
             },
             "pattern": {
              "fillmode": "overlay",
              "size": 10,
              "solidity": 0.2
             }
            },
            "type": "barpolar"
           }
          ],
          "carpet": [
           {
            "aaxis": {
             "endlinecolor": "#2a3f5f",
             "gridcolor": "white",
             "linecolor": "white",
             "minorgridcolor": "white",
             "startlinecolor": "#2a3f5f"
            },
            "baxis": {
             "endlinecolor": "#2a3f5f",
             "gridcolor": "white",
             "linecolor": "white",
             "minorgridcolor": "white",
             "startlinecolor": "#2a3f5f"
            },
            "type": "carpet"
           }
          ],
          "choropleth": [
           {
            "colorbar": {
             "outlinewidth": 0,
             "ticks": ""
            },
            "type": "choropleth"
           }
          ],
          "contour": [
           {
            "colorbar": {
             "outlinewidth": 0,
             "ticks": ""
            },
            "colorscale": [
             [
              0,
              "#0d0887"
             ],
             [
              0.1111111111111111,
              "#46039f"
             ],
             [
              0.2222222222222222,
              "#7201a8"
             ],
             [
              0.3333333333333333,
              "#9c179e"
             ],
             [
              0.4444444444444444,
              "#bd3786"
             ],
             [
              0.5555555555555556,
              "#d8576b"
             ],
             [
              0.6666666666666666,
              "#ed7953"
             ],
             [
              0.7777777777777778,
              "#fb9f3a"
             ],
             [
              0.8888888888888888,
              "#fdca26"
             ],
             [
              1,
              "#f0f921"
             ]
            ],
            "type": "contour"
           }
          ],
          "contourcarpet": [
           {
            "colorbar": {
             "outlinewidth": 0,
             "ticks": ""
            },
            "type": "contourcarpet"
           }
          ],
          "heatmap": [
           {
            "colorbar": {
             "outlinewidth": 0,
             "ticks": ""
            },
            "colorscale": [
             [
              0,
              "#0d0887"
             ],
             [
              0.1111111111111111,
              "#46039f"
             ],
             [
              0.2222222222222222,
              "#7201a8"
             ],
             [
              0.3333333333333333,
              "#9c179e"
             ],
             [
              0.4444444444444444,
              "#bd3786"
             ],
             [
              0.5555555555555556,
              "#d8576b"
             ],
             [
              0.6666666666666666,
              "#ed7953"
             ],
             [
              0.7777777777777778,
              "#fb9f3a"
             ],
             [
              0.8888888888888888,
              "#fdca26"
             ],
             [
              1,
              "#f0f921"
             ]
            ],
            "type": "heatmap"
           }
          ],
          "heatmapgl": [
           {
            "colorbar": {
             "outlinewidth": 0,
             "ticks": ""
            },
            "colorscale": [
             [
              0,
              "#0d0887"
             ],
             [
              0.1111111111111111,
              "#46039f"
             ],
             [
              0.2222222222222222,
              "#7201a8"
             ],
             [
              0.3333333333333333,
              "#9c179e"
             ],
             [
              0.4444444444444444,
              "#bd3786"
             ],
             [
              0.5555555555555556,
              "#d8576b"
             ],
             [
              0.6666666666666666,
              "#ed7953"
             ],
             [
              0.7777777777777778,
              "#fb9f3a"
             ],
             [
              0.8888888888888888,
              "#fdca26"
             ],
             [
              1,
              "#f0f921"
             ]
            ],
            "type": "heatmapgl"
           }
          ],
          "histogram": [
           {
            "marker": {
             "pattern": {
              "fillmode": "overlay",
              "size": 10,
              "solidity": 0.2
             }
            },
            "type": "histogram"
           }
          ],
          "histogram2d": [
           {
            "colorbar": {
             "outlinewidth": 0,
             "ticks": ""
            },
            "colorscale": [
             [
              0,
              "#0d0887"
             ],
             [
              0.1111111111111111,
              "#46039f"
             ],
             [
              0.2222222222222222,
              "#7201a8"
             ],
             [
              0.3333333333333333,
              "#9c179e"
             ],
             [
              0.4444444444444444,
              "#bd3786"
             ],
             [
              0.5555555555555556,
              "#d8576b"
             ],
             [
              0.6666666666666666,
              "#ed7953"
             ],
             [
              0.7777777777777778,
              "#fb9f3a"
             ],
             [
              0.8888888888888888,
              "#fdca26"
             ],
             [
              1,
              "#f0f921"
             ]
            ],
            "type": "histogram2d"
           }
          ],
          "histogram2dcontour": [
           {
            "colorbar": {
             "outlinewidth": 0,
             "ticks": ""
            },
            "colorscale": [
             [
              0,
              "#0d0887"
             ],
             [
              0.1111111111111111,
              "#46039f"
             ],
             [
              0.2222222222222222,
              "#7201a8"
             ],
             [
              0.3333333333333333,
              "#9c179e"
             ],
             [
              0.4444444444444444,
              "#bd3786"
             ],
             [
              0.5555555555555556,
              "#d8576b"
             ],
             [
              0.6666666666666666,
              "#ed7953"
             ],
             [
              0.7777777777777778,
              "#fb9f3a"
             ],
             [
              0.8888888888888888,
              "#fdca26"
             ],
             [
              1,
              "#f0f921"
             ]
            ],
            "type": "histogram2dcontour"
           }
          ],
          "mesh3d": [
           {
            "colorbar": {
             "outlinewidth": 0,
             "ticks": ""
            },
            "type": "mesh3d"
           }
          ],
          "parcoords": [
           {
            "line": {
             "colorbar": {
              "outlinewidth": 0,
              "ticks": ""
             }
            },
            "type": "parcoords"
           }
          ],
          "pie": [
           {
            "automargin": true,
            "type": "pie"
           }
          ],
          "scatter": [
           {
            "fillpattern": {
             "fillmode": "overlay",
             "size": 10,
             "solidity": 0.2
            },
            "type": "scatter"
           }
          ],
          "scatter3d": [
           {
            "line": {
             "colorbar": {
              "outlinewidth": 0,
              "ticks": ""
             }
            },
            "marker": {
             "colorbar": {
              "outlinewidth": 0,
              "ticks": ""
             }
            },
            "type": "scatter3d"
           }
          ],
          "scattercarpet": [
           {
            "marker": {
             "colorbar": {
              "outlinewidth": 0,
              "ticks": ""
             }
            },
            "type": "scattercarpet"
           }
          ],
          "scattergeo": [
           {
            "marker": {
             "colorbar": {
              "outlinewidth": 0,
              "ticks": ""
             }
            },
            "type": "scattergeo"
           }
          ],
          "scattergl": [
           {
            "marker": {
             "colorbar": {
              "outlinewidth": 0,
              "ticks": ""
             }
            },
            "type": "scattergl"
           }
          ],
          "scattermapbox": [
           {
            "marker": {
             "colorbar": {
              "outlinewidth": 0,
              "ticks": ""
             }
            },
            "type": "scattermapbox"
           }
          ],
          "scatterpolar": [
           {
            "marker": {
             "colorbar": {
              "outlinewidth": 0,
              "ticks": ""
             }
            },
            "type": "scatterpolar"
           }
          ],
          "scatterpolargl": [
           {
            "marker": {
             "colorbar": {
              "outlinewidth": 0,
              "ticks": ""
             }
            },
            "type": "scatterpolargl"
           }
          ],
          "scatterternary": [
           {
            "marker": {
             "colorbar": {
              "outlinewidth": 0,
              "ticks": ""
             }
            },
            "type": "scatterternary"
           }
          ],
          "surface": [
           {
            "colorbar": {
             "outlinewidth": 0,
             "ticks": ""
            },
            "colorscale": [
             [
              0,
              "#0d0887"
             ],
             [
              0.1111111111111111,
              "#46039f"
             ],
             [
              0.2222222222222222,
              "#7201a8"
             ],
             [
              0.3333333333333333,
              "#9c179e"
             ],
             [
              0.4444444444444444,
              "#bd3786"
             ],
             [
              0.5555555555555556,
              "#d8576b"
             ],
             [
              0.6666666666666666,
              "#ed7953"
             ],
             [
              0.7777777777777778,
              "#fb9f3a"
             ],
             [
              0.8888888888888888,
              "#fdca26"
             ],
             [
              1,
              "#f0f921"
             ]
            ],
            "type": "surface"
           }
          ],
          "table": [
           {
            "cells": {
             "fill": {
              "color": "#EBF0F8"
             },
             "line": {
              "color": "white"
             }
            },
            "header": {
             "fill": {
              "color": "#C8D4E3"
             },
             "line": {
              "color": "white"
             }
            },
            "type": "table"
           }
          ]
         },
         "layout": {
          "annotationdefaults": {
           "arrowcolor": "#2a3f5f",
           "arrowhead": 0,
           "arrowwidth": 1
          },
          "autotypenumbers": "strict",
          "coloraxis": {
           "colorbar": {
            "outlinewidth": 0,
            "ticks": ""
           }
          },
          "colorscale": {
           "diverging": [
            [
             0,
             "#8e0152"
            ],
            [
             0.1,
             "#c51b7d"
            ],
            [
             0.2,
             "#de77ae"
            ],
            [
             0.3,
             "#f1b6da"
            ],
            [
             0.4,
             "#fde0ef"
            ],
            [
             0.5,
             "#f7f7f7"
            ],
            [
             0.6,
             "#e6f5d0"
            ],
            [
             0.7,
             "#b8e186"
            ],
            [
             0.8,
             "#7fbc41"
            ],
            [
             0.9,
             "#4d9221"
            ],
            [
             1,
             "#276419"
            ]
           ],
           "sequential": [
            [
             0,
             "#0d0887"
            ],
            [
             0.1111111111111111,
             "#46039f"
            ],
            [
             0.2222222222222222,
             "#7201a8"
            ],
            [
             0.3333333333333333,
             "#9c179e"
            ],
            [
             0.4444444444444444,
             "#bd3786"
            ],
            [
             0.5555555555555556,
             "#d8576b"
            ],
            [
             0.6666666666666666,
             "#ed7953"
            ],
            [
             0.7777777777777778,
             "#fb9f3a"
            ],
            [
             0.8888888888888888,
             "#fdca26"
            ],
            [
             1,
             "#f0f921"
            ]
           ],
           "sequentialminus": [
            [
             0,
             "#0d0887"
            ],
            [
             0.1111111111111111,
             "#46039f"
            ],
            [
             0.2222222222222222,
             "#7201a8"
            ],
            [
             0.3333333333333333,
             "#9c179e"
            ],
            [
             0.4444444444444444,
             "#bd3786"
            ],
            [
             0.5555555555555556,
             "#d8576b"
            ],
            [
             0.6666666666666666,
             "#ed7953"
            ],
            [
             0.7777777777777778,
             "#fb9f3a"
            ],
            [
             0.8888888888888888,
             "#fdca26"
            ],
            [
             1,
             "#f0f921"
            ]
           ]
          },
          "colorway": [
           "#636efa",
           "#EF553B",
           "#00cc96",
           "#ab63fa",
           "#FFA15A",
           "#19d3f3",
           "#FF6692",
           "#B6E880",
           "#FF97FF",
           "#FECB52"
          ],
          "font": {
           "color": "#2a3f5f"
          },
          "geo": {
           "bgcolor": "white",
           "lakecolor": "white",
           "landcolor": "#E5ECF6",
           "showlakes": true,
           "showland": true,
           "subunitcolor": "white"
          },
          "hoverlabel": {
           "align": "left"
          },
          "hovermode": "closest",
          "mapbox": {
           "style": "light"
          },
          "paper_bgcolor": "white",
          "plot_bgcolor": "#E5ECF6",
          "polar": {
           "angularaxis": {
            "gridcolor": "white",
            "linecolor": "white",
            "ticks": ""
           },
           "bgcolor": "#E5ECF6",
           "radialaxis": {
            "gridcolor": "white",
            "linecolor": "white",
            "ticks": ""
           }
          },
          "scene": {
           "xaxis": {
            "backgroundcolor": "#E5ECF6",
            "gridcolor": "white",
            "gridwidth": 2,
            "linecolor": "white",
            "showbackground": true,
            "ticks": "",
            "zerolinecolor": "white"
           },
           "yaxis": {
            "backgroundcolor": "#E5ECF6",
            "gridcolor": "white",
            "gridwidth": 2,
            "linecolor": "white",
            "showbackground": true,
            "ticks": "",
            "zerolinecolor": "white"
           },
           "zaxis": {
            "backgroundcolor": "#E5ECF6",
            "gridcolor": "white",
            "gridwidth": 2,
            "linecolor": "white",
            "showbackground": true,
            "ticks": "",
            "zerolinecolor": "white"
           }
          },
          "shapedefaults": {
           "line": {
            "color": "#2a3f5f"
           }
          },
          "ternary": {
           "aaxis": {
            "gridcolor": "white",
            "linecolor": "white",
            "ticks": ""
           },
           "baxis": {
            "gridcolor": "white",
            "linecolor": "white",
            "ticks": ""
           },
           "bgcolor": "#E5ECF6",
           "caxis": {
            "gridcolor": "white",
            "linecolor": "white",
            "ticks": ""
           }
          },
          "title": {
           "x": 0.05
          },
          "xaxis": {
           "automargin": true,
           "gridcolor": "white",
           "linecolor": "white",
           "ticks": "",
           "title": {
            "standoff": 15
           },
           "zerolinecolor": "white",
           "zerolinewidth": 2
          },
          "yaxis": {
           "automargin": true,
           "gridcolor": "white",
           "linecolor": "white",
           "ticks": "",
           "title": {
            "standoff": 15
           },
           "zerolinecolor": "white",
           "zerolinewidth": 2
          }
         }
        },
        "title": {
         "text": "Average Monthly Sales of Most Reviewed Honey Products"
        },
        "width": 700,
        "xaxis": {
         "anchor": "y",
         "domain": [
          0,
          1
         ],
         "title": {
          "text": "Product Ranking"
         }
        },
        "yaxis": {
         "anchor": "x",
         "domain": [
          0,
          1
         ],
         "title": {
          "text": "Monthly Sales"
         }
        }
       }
      }
     },
     "metadata": {},
     "output_type": "display_data"
    }
   ],
   "source": [
    "data = VisualizeData(\n",
    "    highest_reviews, \n",
    "    'average bought last month', \n",
    "    \"Average Monthly Sales of Most Reviewed Honey Products\", \n",
    "    'Product Ranking',\n",
    "    'Monthly Sales',\n",
    "    'bar'\n",
    ")\n",
    "data.main()"
   ]
  },
  {
   "cell_type": "code",
   "execution_count": 298,
   "id": "fba2afec",
   "metadata": {},
   "outputs": [
    {
     "data": {
      "application/vnd.plotly.v1+json": {
       "config": {
        "plotlyServerURL": "https://plot.ly"
       },
       "data": [
        {
         "hovertemplate": "Product Ranking=%{x}<br>Average Product Ratin=%{y}<extra></extra>",
         "legendgroup": "",
         "line": {
          "color": "#636efa",
          "dash": "solid"
         },
         "marker": {
          "symbol": "circle"
         },
         "mode": "lines",
         "name": "",
         "orientation": "v",
         "showlegend": false,
         "type": "scatter",
         "x": [
          "Top 5",
          "Top 15",
          "Top 25",
          "Top 50",
          "Top 100"
         ],
         "xaxis": "x",
         "y": [
          4.66,
          4.57,
          4.59,
          4.58,
          4.49
         ],
         "yaxis": "y"
        }
       ],
       "layout": {
        "height": 700,
        "legend": {
         "tracegroupgap": 0
        },
        "template": {
         "data": {
          "bar": [
           {
            "error_x": {
             "color": "#2a3f5f"
            },
            "error_y": {
             "color": "#2a3f5f"
            },
            "marker": {
             "line": {
              "color": "#E5ECF6",
              "width": 0.5
             },
             "pattern": {
              "fillmode": "overlay",
              "size": 10,
              "solidity": 0.2
             }
            },
            "type": "bar"
           }
          ],
          "barpolar": [
           {
            "marker": {
             "line": {
              "color": "#E5ECF6",
              "width": 0.5
             },
             "pattern": {
              "fillmode": "overlay",
              "size": 10,
              "solidity": 0.2
             }
            },
            "type": "barpolar"
           }
          ],
          "carpet": [
           {
            "aaxis": {
             "endlinecolor": "#2a3f5f",
             "gridcolor": "white",
             "linecolor": "white",
             "minorgridcolor": "white",
             "startlinecolor": "#2a3f5f"
            },
            "baxis": {
             "endlinecolor": "#2a3f5f",
             "gridcolor": "white",
             "linecolor": "white",
             "minorgridcolor": "white",
             "startlinecolor": "#2a3f5f"
            },
            "type": "carpet"
           }
          ],
          "choropleth": [
           {
            "colorbar": {
             "outlinewidth": 0,
             "ticks": ""
            },
            "type": "choropleth"
           }
          ],
          "contour": [
           {
            "colorbar": {
             "outlinewidth": 0,
             "ticks": ""
            },
            "colorscale": [
             [
              0,
              "#0d0887"
             ],
             [
              0.1111111111111111,
              "#46039f"
             ],
             [
              0.2222222222222222,
              "#7201a8"
             ],
             [
              0.3333333333333333,
              "#9c179e"
             ],
             [
              0.4444444444444444,
              "#bd3786"
             ],
             [
              0.5555555555555556,
              "#d8576b"
             ],
             [
              0.6666666666666666,
              "#ed7953"
             ],
             [
              0.7777777777777778,
              "#fb9f3a"
             ],
             [
              0.8888888888888888,
              "#fdca26"
             ],
             [
              1,
              "#f0f921"
             ]
            ],
            "type": "contour"
           }
          ],
          "contourcarpet": [
           {
            "colorbar": {
             "outlinewidth": 0,
             "ticks": ""
            },
            "type": "contourcarpet"
           }
          ],
          "heatmap": [
           {
            "colorbar": {
             "outlinewidth": 0,
             "ticks": ""
            },
            "colorscale": [
             [
              0,
              "#0d0887"
             ],
             [
              0.1111111111111111,
              "#46039f"
             ],
             [
              0.2222222222222222,
              "#7201a8"
             ],
             [
              0.3333333333333333,
              "#9c179e"
             ],
             [
              0.4444444444444444,
              "#bd3786"
             ],
             [
              0.5555555555555556,
              "#d8576b"
             ],
             [
              0.6666666666666666,
              "#ed7953"
             ],
             [
              0.7777777777777778,
              "#fb9f3a"
             ],
             [
              0.8888888888888888,
              "#fdca26"
             ],
             [
              1,
              "#f0f921"
             ]
            ],
            "type": "heatmap"
           }
          ],
          "heatmapgl": [
           {
            "colorbar": {
             "outlinewidth": 0,
             "ticks": ""
            },
            "colorscale": [
             [
              0,
              "#0d0887"
             ],
             [
              0.1111111111111111,
              "#46039f"
             ],
             [
              0.2222222222222222,
              "#7201a8"
             ],
             [
              0.3333333333333333,
              "#9c179e"
             ],
             [
              0.4444444444444444,
              "#bd3786"
             ],
             [
              0.5555555555555556,
              "#d8576b"
             ],
             [
              0.6666666666666666,
              "#ed7953"
             ],
             [
              0.7777777777777778,
              "#fb9f3a"
             ],
             [
              0.8888888888888888,
              "#fdca26"
             ],
             [
              1,
              "#f0f921"
             ]
            ],
            "type": "heatmapgl"
           }
          ],
          "histogram": [
           {
            "marker": {
             "pattern": {
              "fillmode": "overlay",
              "size": 10,
              "solidity": 0.2
             }
            },
            "type": "histogram"
           }
          ],
          "histogram2d": [
           {
            "colorbar": {
             "outlinewidth": 0,
             "ticks": ""
            },
            "colorscale": [
             [
              0,
              "#0d0887"
             ],
             [
              0.1111111111111111,
              "#46039f"
             ],
             [
              0.2222222222222222,
              "#7201a8"
             ],
             [
              0.3333333333333333,
              "#9c179e"
             ],
             [
              0.4444444444444444,
              "#bd3786"
             ],
             [
              0.5555555555555556,
              "#d8576b"
             ],
             [
              0.6666666666666666,
              "#ed7953"
             ],
             [
              0.7777777777777778,
              "#fb9f3a"
             ],
             [
              0.8888888888888888,
              "#fdca26"
             ],
             [
              1,
              "#f0f921"
             ]
            ],
            "type": "histogram2d"
           }
          ],
          "histogram2dcontour": [
           {
            "colorbar": {
             "outlinewidth": 0,
             "ticks": ""
            },
            "colorscale": [
             [
              0,
              "#0d0887"
             ],
             [
              0.1111111111111111,
              "#46039f"
             ],
             [
              0.2222222222222222,
              "#7201a8"
             ],
             [
              0.3333333333333333,
              "#9c179e"
             ],
             [
              0.4444444444444444,
              "#bd3786"
             ],
             [
              0.5555555555555556,
              "#d8576b"
             ],
             [
              0.6666666666666666,
              "#ed7953"
             ],
             [
              0.7777777777777778,
              "#fb9f3a"
             ],
             [
              0.8888888888888888,
              "#fdca26"
             ],
             [
              1,
              "#f0f921"
             ]
            ],
            "type": "histogram2dcontour"
           }
          ],
          "mesh3d": [
           {
            "colorbar": {
             "outlinewidth": 0,
             "ticks": ""
            },
            "type": "mesh3d"
           }
          ],
          "parcoords": [
           {
            "line": {
             "colorbar": {
              "outlinewidth": 0,
              "ticks": ""
             }
            },
            "type": "parcoords"
           }
          ],
          "pie": [
           {
            "automargin": true,
            "type": "pie"
           }
          ],
          "scatter": [
           {
            "fillpattern": {
             "fillmode": "overlay",
             "size": 10,
             "solidity": 0.2
            },
            "type": "scatter"
           }
          ],
          "scatter3d": [
           {
            "line": {
             "colorbar": {
              "outlinewidth": 0,
              "ticks": ""
             }
            },
            "marker": {
             "colorbar": {
              "outlinewidth": 0,
              "ticks": ""
             }
            },
            "type": "scatter3d"
           }
          ],
          "scattercarpet": [
           {
            "marker": {
             "colorbar": {
              "outlinewidth": 0,
              "ticks": ""
             }
            },
            "type": "scattercarpet"
           }
          ],
          "scattergeo": [
           {
            "marker": {
             "colorbar": {
              "outlinewidth": 0,
              "ticks": ""
             }
            },
            "type": "scattergeo"
           }
          ],
          "scattergl": [
           {
            "marker": {
             "colorbar": {
              "outlinewidth": 0,
              "ticks": ""
             }
            },
            "type": "scattergl"
           }
          ],
          "scattermapbox": [
           {
            "marker": {
             "colorbar": {
              "outlinewidth": 0,
              "ticks": ""
             }
            },
            "type": "scattermapbox"
           }
          ],
          "scatterpolar": [
           {
            "marker": {
             "colorbar": {
              "outlinewidth": 0,
              "ticks": ""
             }
            },
            "type": "scatterpolar"
           }
          ],
          "scatterpolargl": [
           {
            "marker": {
             "colorbar": {
              "outlinewidth": 0,
              "ticks": ""
             }
            },
            "type": "scatterpolargl"
           }
          ],
          "scatterternary": [
           {
            "marker": {
             "colorbar": {
              "outlinewidth": 0,
              "ticks": ""
             }
            },
            "type": "scatterternary"
           }
          ],
          "surface": [
           {
            "colorbar": {
             "outlinewidth": 0,
             "ticks": ""
            },
            "colorscale": [
             [
              0,
              "#0d0887"
             ],
             [
              0.1111111111111111,
              "#46039f"
             ],
             [
              0.2222222222222222,
              "#7201a8"
             ],
             [
              0.3333333333333333,
              "#9c179e"
             ],
             [
              0.4444444444444444,
              "#bd3786"
             ],
             [
              0.5555555555555556,
              "#d8576b"
             ],
             [
              0.6666666666666666,
              "#ed7953"
             ],
             [
              0.7777777777777778,
              "#fb9f3a"
             ],
             [
              0.8888888888888888,
              "#fdca26"
             ],
             [
              1,
              "#f0f921"
             ]
            ],
            "type": "surface"
           }
          ],
          "table": [
           {
            "cells": {
             "fill": {
              "color": "#EBF0F8"
             },
             "line": {
              "color": "white"
             }
            },
            "header": {
             "fill": {
              "color": "#C8D4E3"
             },
             "line": {
              "color": "white"
             }
            },
            "type": "table"
           }
          ]
         },
         "layout": {
          "annotationdefaults": {
           "arrowcolor": "#2a3f5f",
           "arrowhead": 0,
           "arrowwidth": 1
          },
          "autotypenumbers": "strict",
          "coloraxis": {
           "colorbar": {
            "outlinewidth": 0,
            "ticks": ""
           }
          },
          "colorscale": {
           "diverging": [
            [
             0,
             "#8e0152"
            ],
            [
             0.1,
             "#c51b7d"
            ],
            [
             0.2,
             "#de77ae"
            ],
            [
             0.3,
             "#f1b6da"
            ],
            [
             0.4,
             "#fde0ef"
            ],
            [
             0.5,
             "#f7f7f7"
            ],
            [
             0.6,
             "#e6f5d0"
            ],
            [
             0.7,
             "#b8e186"
            ],
            [
             0.8,
             "#7fbc41"
            ],
            [
             0.9,
             "#4d9221"
            ],
            [
             1,
             "#276419"
            ]
           ],
           "sequential": [
            [
             0,
             "#0d0887"
            ],
            [
             0.1111111111111111,
             "#46039f"
            ],
            [
             0.2222222222222222,
             "#7201a8"
            ],
            [
             0.3333333333333333,
             "#9c179e"
            ],
            [
             0.4444444444444444,
             "#bd3786"
            ],
            [
             0.5555555555555556,
             "#d8576b"
            ],
            [
             0.6666666666666666,
             "#ed7953"
            ],
            [
             0.7777777777777778,
             "#fb9f3a"
            ],
            [
             0.8888888888888888,
             "#fdca26"
            ],
            [
             1,
             "#f0f921"
            ]
           ],
           "sequentialminus": [
            [
             0,
             "#0d0887"
            ],
            [
             0.1111111111111111,
             "#46039f"
            ],
            [
             0.2222222222222222,
             "#7201a8"
            ],
            [
             0.3333333333333333,
             "#9c179e"
            ],
            [
             0.4444444444444444,
             "#bd3786"
            ],
            [
             0.5555555555555556,
             "#d8576b"
            ],
            [
             0.6666666666666666,
             "#ed7953"
            ],
            [
             0.7777777777777778,
             "#fb9f3a"
            ],
            [
             0.8888888888888888,
             "#fdca26"
            ],
            [
             1,
             "#f0f921"
            ]
           ]
          },
          "colorway": [
           "#636efa",
           "#EF553B",
           "#00cc96",
           "#ab63fa",
           "#FFA15A",
           "#19d3f3",
           "#FF6692",
           "#B6E880",
           "#FF97FF",
           "#FECB52"
          ],
          "font": {
           "color": "#2a3f5f"
          },
          "geo": {
           "bgcolor": "white",
           "lakecolor": "white",
           "landcolor": "#E5ECF6",
           "showlakes": true,
           "showland": true,
           "subunitcolor": "white"
          },
          "hoverlabel": {
           "align": "left"
          },
          "hovermode": "closest",
          "mapbox": {
           "style": "light"
          },
          "paper_bgcolor": "white",
          "plot_bgcolor": "#E5ECF6",
          "polar": {
           "angularaxis": {
            "gridcolor": "white",
            "linecolor": "white",
            "ticks": ""
           },
           "bgcolor": "#E5ECF6",
           "radialaxis": {
            "gridcolor": "white",
            "linecolor": "white",
            "ticks": ""
           }
          },
          "scene": {
           "xaxis": {
            "backgroundcolor": "#E5ECF6",
            "gridcolor": "white",
            "gridwidth": 2,
            "linecolor": "white",
            "showbackground": true,
            "ticks": "",
            "zerolinecolor": "white"
           },
           "yaxis": {
            "backgroundcolor": "#E5ECF6",
            "gridcolor": "white",
            "gridwidth": 2,
            "linecolor": "white",
            "showbackground": true,
            "ticks": "",
            "zerolinecolor": "white"
           },
           "zaxis": {
            "backgroundcolor": "#E5ECF6",
            "gridcolor": "white",
            "gridwidth": 2,
            "linecolor": "white",
            "showbackground": true,
            "ticks": "",
            "zerolinecolor": "white"
           }
          },
          "shapedefaults": {
           "line": {
            "color": "#2a3f5f"
           }
          },
          "ternary": {
           "aaxis": {
            "gridcolor": "white",
            "linecolor": "white",
            "ticks": ""
           },
           "baxis": {
            "gridcolor": "white",
            "linecolor": "white",
            "ticks": ""
           },
           "bgcolor": "#E5ECF6",
           "caxis": {
            "gridcolor": "white",
            "linecolor": "white",
            "ticks": ""
           }
          },
          "title": {
           "x": 0.05
          },
          "xaxis": {
           "automargin": true,
           "gridcolor": "white",
           "linecolor": "white",
           "ticks": "",
           "title": {
            "standoff": 15
           },
           "zerolinecolor": "white",
           "zerolinewidth": 2
          },
          "yaxis": {
           "automargin": true,
           "gridcolor": "white",
           "linecolor": "white",
           "ticks": "",
           "title": {
            "standoff": 15
           },
           "zerolinecolor": "white",
           "zerolinewidth": 2
          }
         }
        },
        "title": {
         "text": "Average Rating of Most Reviewed Honey Products"
        },
        "width": 700,
        "xaxis": {
         "anchor": "y",
         "domain": [
          0,
          1
         ],
         "title": {
          "text": "Product Ranking"
         }
        },
        "yaxis": {
         "anchor": "x",
         "domain": [
          0,
          1
         ],
         "title": {
          "text": "Average Product Ratin"
         }
        }
       }
      }
     },
     "metadata": {},
     "output_type": "display_data"
    }
   ],
   "source": [
    "data = VisualizeData(\n",
    "    highest_reviews, \n",
    "    'average product rating', \n",
    "    \"Average Rating of Most Reviewed Honey Products\", \n",
    "    'Product Ranking',\n",
    "    'Average Product Ratin',\n",
    "    'line',\n",
    ")\n",
    "data.main()"
   ]
  },
  {
   "cell_type": "code",
   "execution_count": 299,
   "id": "e9fc8afb",
   "metadata": {},
   "outputs": [
    {
     "data": {
      "application/vnd.plotly.v1+json": {
       "config": {
        "plotlyServerURL": "https://plot.ly"
       },
       "data": [
        {
         "customdata": [
          [
           "        Nate's 100% Pure, Raw & Unfiltered Honey - Award-Winning Taste, 32oz. Squeeze Bottle       ",
           30000
          ],
          [
           "        Nate's 100% Pure, Raw & Unfiltered Honey - Award-Winning Taste, 16 oz. Squeeze Bottle       ",
           10000
          ],
          [
           "        Nate's 100% Pure, Raw & Unfiltered Honey - Award-Winning Taste, 12oz. Honey Bear Bottle       ",
           2000
          ],
          [
           "        Nate's Organic 100% Pure, Raw & Unfiltered Honey - USDA Certified Organic - 16oz. Squeeze Bottle       ",
           10000
          ],
          [
           "        Nature Nate's 100% Pure USDA Organic Raw & Unfiltered Honey, Two 14 oz. No-Drip Sustainable Squeeze Pouches; Purity Guarantee, No Additives       ",
           200
          ],
          [
           "        Nate's Organic 100% Pure, Raw & Unfiltered Honey - USDA Certified Organic - 32oz. Squeeze Bottle       ",
           10000
          ],
          [
           "        Nature Nate's 100% Pure USDA Organic Raw & Unfiltered Honey, Two 14 oz. No-Drip Sustainable Squeeze Pouches; Purity Guarantee, No Additives       ",
           200
          ],
          [
           "        Amazon Grocery, Raw Wildflower Pure Honey, 2 Lb (Previously Amazon Fresh, Packaging May Vary)       ",
           10000
          ],
          [
           "        365 by Whole Foods Market, Organic Light Amber Wildflower Honey, 12 Ounce       ",
           10000
          ],
          [
           "        Nate's Honey Minis - Single-Serve 100% Pure, Raw & Unfiltered Honey – 0.49oz Packets, 20ct box       ",
           10000
          ],
          [
           "        Papa Palermo Honeycomb 100% Edible, All-Natural, Gourmet Raw Honeycomb, No Additives, No Preservatives - 14 oz       ",
           200
          ],
          [
           "        Bees Knees Raw Honeycomb, 100% Edible, All-Natural Gourmet Honeycomb in Double Sealed Packaging, Acacia Honey Comb with Sweet, Light Flavor, Foodie Gifts, Tea Gifts, Unique Gift Ideas (7 oz)       ",
           700
          ],
          [
           "        YS Eco Bee Farms RAW HONEY - Raw, Unfiltered, Unpasteurized - Kosher 3lbs       ",
           200
          ],
          [
           "        YS Eco Bee Farms RAW HONEY - Raw, Unfiltered, Unpasteurized - Kosher 3lbs       ",
           100
          ],
          [
           "        Honey Acres' Raw Unfiltered Honey Straws - USA Honey Sticks (Clover, 50 Count)       ",
           3000
          ],
          [
           "        Wholesome Sweeteners 16-Ounce Organic Raw Unfiltered Honey Jar, 100% Pure, Fair Trade Certified, Non GMO Project Verified, & Gluten Free, 1 Pack       ",
           200
          ],
          [
           "        Wholesome Sweeteners 16-Ounce Organic Raw Unfiltered Honey Bottle, 100% Pure, Fair Trade Certified, Non GMO Project Verified, & Gluten Free, 1 Pack       ",
           null
          ],
          [
           "        Wholesome Sweeteners 16-Ounce Organic Raw Unfiltered Honey Bottle, 100% Pure, Fair Trade Certified, Non GMO Project Verified, & Gluten Free, 1 Pack       ",
           null
          ],
          [
           "        365 by Whole Foods Market, Organic Raw Mountain Forest Honey, 16 Ounce       ",
           3000
          ],
          [
           "        Desert Creek - Raw Honey, Natural Premium and Pure Texas Product - 1 Gallon       ",
           500
          ],
          [
           "        Raw, Unfiltered, Unpasteurized Texas Honey by Desert Creek Honey 1lb (16oz) Non-GMO, Kosher       ",
           50
          ],
          [
           "        Pack of Two 12 oz. Honey Bears Raw, Unfiltered, Unpasteurized Texas Honey by Desert Creek Honey Non-GMO, Kosher       ",
           null
          ],
          [
           "        Taj Gourmet All Natural Raw Honeycomb 100% Honey Pure Turkish Raw Honey Comb -100% All Natural Edible Honey Combs Raw Edible - Perfect For Healthy Smoothies Honey With Honeycomb, 200g (7.05oz)       ",
           900
          ],
          [
           "        Nate's Georgia 100% Pure, Raw & Unfiltered Honey, 32 oz. Squeeze Bottle - All-natural Sweetener       ",
           3000
          ],
          [
           "        Bee Harmony American Raw Wildflower Honey, 12 OZ (Pack of 2 Jars)       ",
           200
          ],
          [
           "        Bee Harmony Berry Blossom American Raw Honey, 12 OZ Each, Pack of 2       ",
           null
          ],
          [
           "        Bee Harmony American Raw Wildflower Honey, 12 OZ       ",
           600
          ],
          [
           "        Bee Harmony Orange Blossom Raw Honey, 12 OZ (Pack of 2), from California       ",
           100
          ],
          [
           "        Bee Harmony Hungarian Raw Acacia Honey, 12 Ounce       ",
           50
          ],
          [
           "        Bee Harmony Raw Clover Honey, 12 OZ (Pack of 2 Jars), Made in the USA       ",
           null
          ],
          [
           "        Nate's Texas 100% Pure, Raw & Unfiltered Honey - 32 oz. Squeeze Bottle - All-natural Sweetener       ",
           300
          ],
          [
           "        Raw, Unfiltered, Unpasteurized Texas Honey by Desert Creek Honey 2 lbs (32 oz) Non-GMO, Kosher       ",
           400
          ],
          [
           "        ChocZero Sugar Free Honey, 1:1 Natural Honey Equivalent, Same Sweetness and Consistency as Raw, Keto Friendly, Vegan (1 Jar, 10.5oz)       ",
           2000
          ],
          [
           "        Local Hive Clover Raw Unfiltered Honey – 16 oz, 100% Pure US Honey, Sourced from American Bees and Beekeepers - Natural Sweetener, Ideal for Tea, Baking, and Cooking       ",
           1000
          ],
          [
           "        Local Hive Wildflower Raw Unfiltered Honey – 16oz, 100% Pure US Honey, Sourced from American Bees and Beekeepers - Natural Sweetener, Ideal for Tea, Baking, and Cooking       ",
           4000
          ],
          [
           "        Local Hive Wildflower & Clover Raw Unfiltered Honey – 12oz (Pack of 2), 100% Pure US Honey, Sourced from American Bees and Beekeepers, Natural Sweetener, Ideal for Tea, Baking, and Cooking       ",
           null
          ],
          [
           "        Local Hive Orange Blossom Raw Unfiltered Honey – 32oz, 100% Pure US Honey, Sourced from American Bees and Beekeepers, Natural Sweetener, Floral Flavor, Ideal for Tea, Baking, and Cooking       ",
           200
          ],
          [
           "        Raw Honey - Pure All Natural Unfiltered & Unpasteurized - McCoy's Honey Florida Orange Blossom Honey 6lb       ",
           200
          ],
          [
           "        Buzzn Bee Raw Florida Honey - Unpasteurized and Unfiltered (Orange Blossom, 3 Pound)       ",
           100
          ],
          [
           "        Sweet Squeeze Raw and Unfiltered Orange Blossom Honey - From Florida's Beekeepers, 12 Pound       ",
           null
          ],
          [
           "        Sweet Squeeze Raw Honey - Unfiltered & Unpasteurized Wildflower Honey From Florida's Beekeepers - 12 Pound (Gallon)       ",
           null
          ],
          [
           "        Buzzn Bee Raw Wildflower Honey - Unfiltered and Unpasteurized - 3 Pound       ",
           null
          ],
          [
           "        Aunt Sue’s Raw & Unfiltered Wildflower Honey, 32 Ounce (2 LB), Strained Pure Honey       ",
           600
          ],
          [
           "        Honest Raw Honey, 22oz       ",
           300
          ],
          [
           "        TJO Bees Raw and Unfiltered Honey (22 OZ Jar)       ",
           100
          ],
          [
           "        TJO Bees Raw and Unfiltered Honey (5 LB (80 OZ) Jar)       ",
           600
          ],
          [
           "        Cox's Honey 100% Pure, Raw Unfiltered Clover Honey, Rich in Nutrients, Family Owned Apiary, 5 lbs Jug       ",
           500
          ],
          [
           "        Nature's Hollow Sugar Free Honey Substitute: Gluten Free, Vegan, and Keto Honey - Zero Sugar Honey Xylitol Sweetener - Great for Diabetics and Low-Carb - Enjoy Natural Sweetness - 30 Cals Per Serving       ",
           200
          ],
          [
           "        OneRoot Raw Buckwheat Honey - 3kg / 6.6lb, Unheated, Unfiltered and Unprocessed Natural Dark Honey, Rich in Antioxidants Pure Buckwheat Honey       ",
           50
          ],
          [
           "        OneRoot Raw Buckwheat Honey - 500g/17.6oz, Unheated, Unfiltered and Unprocessed Natural Dark Honey, Rich in Antioxidants Pure Buckwheat       ",
           100
          ],
          [
           "        OneRoot Raw Buckwheat Honey - 500g/17.6oz, Unheated, Unfiltered and Unprocessed Natural Dark Honey, Rich in Antioxidants Pure Buckwheat       ",
           100
          ],
          [
           "        Local Hive Great Lakes Raw Unfiltered Honey – 16 oz, 100% Pure US Honey, Sourced from American Bees and Beekeepers - Natural Sweetener, Ideal for Tea, Baking, and Cooking       ",
           null
          ],
          [
           "        Local Hive Florida Raw Unfiltered Honey – 16oz, 100% Pure US Honey, Sourced from American Bees and Beekeepers - Natural Sweetener, Ideal for Tea, Baking, and Cooking       ",
           500
          ],
          [
           "        Local Hive Mid Atlantic Raw Unfiltered Honey – 32oz, 100% Pure US Honey, Sourced from American Bees and Beekeepers - Natural Sweetener, Ideal for Tea, Baking, and Cooking       ",
           100
          ],
          [
           "        Local Hive Southeast Raw Unfiltered Honey – 16 oz, 100% Pure US Honey, Sourced from American Bees and Beekeepers - Natural Sweetener, Ideal for Tea, Baking, and Cooking       ",
           300
          ],
          [
           "        Savannah Bee Company Honey - Pure, Natural, Raw Honey       ",
           100
          ],
          [
           "        Savannah Bee Company Honey - Pure, Natural, Raw Honey       ",
           200
          ],
          [
           "        Glorybee, White Clover Honey, US Grade A Honey, 48 oz       ",
           100
          ],
          [
           "        Crockett Honey Raw and Unfiltered Arizona Desert Wildflower Honey       ",
           100
          ],
          [
           "        5 lbs. 100% Raw & Unfiltered Gallberry Honey - American Made by Pure Southern Honey       ",
           200
          ],
          [
           "        100% Raw & Unfiltered Wildflower Honey - American Made by Pure Southern Honey (48 Ounce)       ",
           400
          ],
          [
           "        Stakich Raw Honey - Pure, Unprocessed, Unheated, Kosher - 40 Ounce       ",
           100
          ],
          [
           "        Stakich Raw Honey - Pure, Unprocessed, Unheated, Kosher - 5 Pound (80 Ounce)       ",
           200
          ],
          [
           "        Nate's California 100% Pure, Raw & Unfiltered Honey - 32 oz. Squeeze Bottle - All-natural Sweetener       ",
           200
          ],
          [
           "        Savannah Bee Company Pure Raw Acacia Honeycomb - All Natural, Edible and Unfiltered Honeycomb - Mini 5.6 Ounce       ",
           700
          ],
          [
           "        Honey Feast - Island Honey 12oz - Indulge in Raw & Unfiltered Small Batch Beekeeper's Delight       ",
           null
          ],
          [
           "        HONEY FEAST Bourbon Honey 12oz | Artisanal Small Batch Raw Honey | Exquisite Bourbon-Infused Honey | Ideal for Bourbon Enthusiasts & Gourmets       ",
           100
          ],
          [
           "        Honey Feast Tupelo Honey - Authentic Florida Honey from Black Gum Tupelo & Holly Blend, Pure Raw Honey, 12oz - American Honey from Central Florida Apiary       ",
           200
          ],
          [
           "        Honey Feast Orange Blossom Honey, 12 OZ       ",
           100
          ],
          [
           "        Nate's Florida 100% Pure, Raw & Unfiltered Honey - 32 oz. Squeeze Bottle - All-natural Sweetener       ",
           1000
          ],
          [
           "        Oneroot 100% Canadian Flower Honey - 1kg / 2.2lbs, Honey Wildflower Unfiltered, Unheated & Creamed, Nutrient Rich Raw Wildflower With Enzymes, Thick Natural Sweetener       ",
           500
          ],
          [
           "        Savannah Bee Company Whipped Honey - All Natural Spreadable Honey       ",
           100
          ],
          [
           "        Savannah Bee Company Whipped Honey - All Natural Spreadable Honey       ",
           300
          ],
          [
           "        Savannah Bee Company Whipped Honey - All Natural Spreadable Honey       ",
           50
          ],
          [
           "        Sanniti Fulmer All Natural Hungarian Acacia Honeycomb (7 oz)       ",
           null
          ],
          [
           "        Sandt's Unfiltered Raw Honey Varietal Bundle - Golden, Clover & Orange Blossom (3 LBS)       ",
           null
          ],
          [
           "        Sandt's Unfiltered Raw Honey Varietal Bundle - Buckwheat, Wildflower and Blueberry (3 LBS)       ",
           null
          ],
          [
           "        ARASHAN White Honey – Raw Unfiltered Honey, (15.87 Oz) | Wildflower/Clover Honey From The “Mountains Of Heaven” (Tien Shan, KGZ) | Natural, Wild Honey From Bees | Anti-Aging. (Pack of 1)       ",
           null
          ],
          [
           "        Oneroot 100% Canadian Flower Honey - Wildflower Unfiltered, Unheated & Creamed, Nutrient Rich Raw Wildflower Honey With Enzymes, Thick Natural Sweetener (6.6 Pound)       ",
           200
          ],
          [
           "        YS Organic Bee Farms - Healthy Honey (Raw), 14 oz       ",
           700
          ],
          [
           "        YS Organic Bee Farms - Healthy Honey (Raw), 14 oz       ",
           700
          ],
          [
           "        Goshen Honey Extremely Raw Buckwheat Dark Honey - Unfiltered, Unprocessed, Pure & Natural from Amish Country in the USA - Rich Flavor for Tea, Cooking, Wellness - Dairy & Gluten Free - 454g/16Oz       ",
           100
          ],
          [
           "        Goshen Honey Extremely Raw Buckwheat Dark Honey - Unfiltered, Unprocessed, Pure & Natural from Amish Country in the USA - Rich Flavor for Tea, Cooking, Wellness - Dairy & Gluten Free - 454g/16Oz       ",
           100
          ],
          [
           "        Tupelo Honey 32oz - 2 pound -Two pound Jar- from Sleeping Bear Farms Beekeepers in the Florida Apalachicola River Basin       ",
           100
          ],
          [
           "        Local Hive Midwest Raw Unfiltered Honey – 16 oz, 100% Pure US Honey, Sourced from American Bees and Beekeepers - Natural Sweetener, Ideal for Tea, Baking, and Cooking       ",
           500
          ],
          [
           "        Local Hive Rocky Mountain Raw Unfiltered Honey – 32 oz, 100% Pure US Honey, Sourced from American Bees and Beekeepers - Natural Sweetener, Ideal for Tea, Baking, and Cooking       ",
           50
          ],
          [
           "        Local Hive Southwest Raw Unfiltered Honey – 16 oz, 100% Pure US Honey, Sourced from American Bees and Beekeepers - Natural Sweetener, Ideal for Tea, Baking, and Cooking       ",
           50
          ],
          [
           "        Local Hive Utah Raw Unfiltered Honey – 16 oz, 100% Pure US Honey, Sourced from American Bees and Beekeepers - Natural Sweetener, Ideal for Tea, Baking, and Cooking       ",
           50
          ],
          [
           "        Local Hive Rocky Mountain Raw Unfiltered Honey – 16 oz, 100% Pure US Honey, Sourced from American Bees and Beekeepers - Natural Sweetener, Ideal for Tea, Baking, and Cooking       ",
           400
          ],
          [
           "        Local Hive Texas Raw Unfiltered Honey – 16 oz, 100% Pure US Honey, Sourced from American Bees and Beekeepers - Natural Sweetener, Ideal for Tea, Baking, and Cooking       ",
           400
          ],
          [
           "        Local Hive Colorado Raw Unfiltered Honey – 32oz, 100% Pure US Honey, Sourced from American Bees and Beekeepers - Natural Sweetener, Ideal for Tea, Baking, and Cooking       ",
           50
          ],
          [
           "        Carpathian Raw Honey Mountain Flowers | 100% Pure, Unfiltered, Unpasteurized, Ethically Sourced | Glass Jar, 908g       ",
           100
          ],
          [
           "        Smiley Honey - 100% Tupelo Honey Raw and Unfiltered (16 oz)       ",
           100
          ],
          [
           "        Smiley Honey - 100% Tupelo Honey Raw and Unfiltered (16 oz)       ",
           100
          ],
          [
           "        Sandt's Buckwheat Honey, Unfiltered Raw Honey, Non-GMO Genuine, Pure Honey (2 lbs)       ",
           300
          ],
          [
           "        Breitsamer, Creamy Rapsflower Blossom Honey Jar, 17.6 oz       ",
           100
          ],
          [
           "        Sandt's Orange Blossom Honey, Unfiltered Raw Honey, Non-GMO Genuine, Pure Honey (2 lbs)       ",
           100
          ],
          [
           "        Nate's 100% Pure Raw & Unfiltered Honey and Comb - 16oz. Jar       ",
           200
          ],
          [
           "        Really Raw Honey, 16 oz       ",
           500
          ],
          [
           "        GloryBee Raw Honey, True Source Certified, USDA Organic, Organic Clover, 186.72 Ounce Bulk Pail       ",
           100
          ],
          [
           "        100% Raw Unfiltered Honey With Honeycomb by Pure Southern Honey [1lb] - Authentic, USA - Made Gallberry Honey - Pure Unheated Honey - Non - GMO, Unsweetened, Sugar - Free, Real American Honey With Comb       ",
           400
          ],
          [
           "        Bee Harmony Raw Honey, Organic Brazilian, 12 Ounce       ",
           300
          ],
          [
           "        Cox's Honey - Bulk Creamed Whipped Honey Raw Unfiltered, 80 oz | 100% Pure Clover Delicious Honey - Product of the USA       ",
           100
          ],
          [
           "        Sue Bee Infusions Naturally Flavored Strawberry Honey, 16 Ounce Sue Bee Strawberry Infused Honey For Waffles, Toast, Salads, Made In USA       ",
           100
          ],
          [
           "        Local Hive Northwest Raw Unfiltered Honey – 16 oz, 100% Pure US Honey, Sourced from American Bees and Beekeepers - Natural Sweetener, Ideal for Tea, Baking, and Cooking       ",
           50
          ],
          [
           "        Local Hive Northwest Raw Unfiltered Honey – 32oz, 100% Pure US Honey, Sourced from American Bees and Beekeepers - Natural Sweetener, Ideal for Tea, Baking, and Cooking       ",
           null
          ],
          [
           "        Local Hive Southern California Raw Unfiltered Honey – 32 oz, 100% Pure US Honey, Sourced from American Bees and Beekeepers - Natural Sweetener, Ideal for Tea, Baking, and Cooking       ",
           100
          ],
          [
           "        Local Hive North California Raw Unfiltered Honey – 16 oz, 100% Pure US Honey, Sourced from American Bees and Beekeepers - Natural Sweetener, Ideal for Tea, Baking, and Cooking       ",
           400
          ],
          [
           "        Local Hive Southern California Raw Unfiltered Honey – 16 oz, 100% Pure US Honey, Sourced from American Bees and Beekeepers - Natural Sweetener, Ideal for Tea, Baking, and Cooking       ",
           600
          ],
          [
           "        Carmichael’s Organic Honey - Premium Quality, USDA Certified Organic, Unpasteurized, Raw, & Unfiltered Honey - Non-GMO, 100% Pure & Natural Sweetener With No Additives or Traces Of Pesticides (32 oz)       ",
           300
          ],
          [
           "        Carmichael’s Organic Honey - Premium Quality, USDA Certified Organic, Unpasteurized, Raw, & Unfiltered Honey - Non-GMO, 100% Pure & Natural Sweetener With No Additives or Traces Of Pesticides (16 oz)       ",
           null
          ],
          [
           "        Oneroot 100% Canadian Flower Honey - Honey Wildflower Unfiltered, Unheated & Creamed, Nutrient Rich Raw Wildflower Honey With Enzymes, Thick Natural Sweetener (1.1 Pound)       ",
           100
          ],
          [
           "        Dutchman's Gold Raw Honey 1.1 lbs - Unfiltered - Non-pasteurized       ",
           null
          ],
          [
           "        Dutchman's Gold Raw Honey 6.6 lbs - Unfiltered - Non-pasteurized - Kosher       ",
           50
          ],
          [
           "        Altay Raw Linden Honey - 100% Pure, Unfiltered, Unpasteurized, Ethically Sourced - Glass Jar, 908g / 35.2oz       ",
           null
          ],
          [
           "        Florida Raw Apiaries | Raw and Unfiltered Wildflower Honey with Comb, 16 Ounce       ",
           50
          ],
          [
           "        HONEY FEAST Raw Orange Blossom Honey - 6lb Bulk Honey, All Natural, Unfiltered, Unheated Honey from Oranges, Perfect for Sweetening & Baking       ",
           300
          ],
          [
           "        HONEY FEAST Wildflower Honey - 6 Pounds (1/2 Gallon) Bulk Honey, All Natural, Unfiltered, Unheated Honey, Perfect for Sweetening & Baking       ",
           800
          ],
          [
           "        Bee Harmony Honey 3 Pack Variety Pack, 36 Ounce (Clover, Wildflower and Orange Blossom)       ",
           200
          ],
          [
           "        Bee Harmony Honey 5 Pack Variety Pack, 60 Ounce (Clover, Wildflower, Orange Blossom, Berry and Blueberry)       ",
           100
          ],
          [
           "        Raw Honey - Pure All Natural Unfiltered & Unpasteurized - McCoy's Honey Florida Orange Blossom Honey Jar 16oz       ",
           50
          ],
          [
           "        Oneroot 100% Organic Canadian Flower Honey - 17.6 Oz/1.1 Lbs, White Honey Wildflower Unfiltered, Unheated & Creamed, Nutrient Rich Raw Wildflower With Enzymes, Thick Natural Sweetener       ",
           200
          ],
          [
           "        Oneroot 100% Organic Canadian Flower Honey - 17.6 Oz/1.1 Lbs, White Honey Wildflower Unfiltered, Unheated & Creamed, Nutrient Rich Raw Wildflower With Enzymes, Thick Natural Sweetener       ",
           200
          ],
          [
           "        Kevala Organic Raw Oaxaca Honey – 3 lb – 1360 g – Unfiltered - Organic Raw - Sweetener – Pure Honey – Gluten Free       ",
           50
          ],
          [
           "        Honest Raw Honey, Pure Natural American Honey, 44 Ounce       ",
           50
          ],
          [
           "        Kelley's Local Texas Honey, 24 oz – 100% Pure, Raw & Unfiltered – All-Natural American Honey for Tea, Smoothies, Yogurt, Toasts or BBQ       ",
           300
          ],
          [
           "        Raw, Unfiltered, Unpasteurized Texas Honey by Desert Creek Honey 5 Gallon (60 lbs) Bulk Bucket Non-GMO, Kosher       ",
           100
          ],
          [
           "        Honey Feast - Raw Orange Blossom Honey | from American Organic floral sources | Unfiltered & Pure | Fresh from Florida Superfood | GROUP (3 Pound)       ",
           300
          ],
          [
           "        Honey Feast - Raw Wildflower Honey | from American Organic floral sources | 48 Ounces       ",
           200
          ],
          [
           "        Fischer's Clover Honey, 12 Oz – 100% Pure, Raw & Unfiltered Honey – Squeezable Bear Bottle – Gluten-Free, Non-GMO – All-Natural Sweetener       ",
           3000
          ],
          [
           "        100% Raw Edible Honeycomb by Pure Southern Honey (14 Ounce (Pack of 1))       ",
           200
          ],
          [
           "        Fischer's 100% Pure, Raw & Unfiltered Honey – USA Made Honey, 24 oz – All-Natural Sweetener – Rich Flavor Profile, Packed with Nutrients       ",
           2000
          ],
          [
           "        Savannah Bee Company Honey - Pure, Natural, Raw Honey       ",
           null
          ],
          [
           "        Organic Honey In The Raw, 16 oz., Pure Raw Honey Sourced from Brazil, Hand Harvested and Unfiltered, USDA Organic, Non-GMO Project Verified and Kosher       ",
           100
          ],
          [
           "        ONEROOT Organic Ginseng Infused Honey 300g (10.6oz) - Infusion of 100% Organic Northern Wildflower Raw Honey and Organic Ontario Ginseng       ",
           null
          ],
          [
           "        ONEROOT Organic Cacao Infused Honey 300g (10.6oz) - Infusion of 100% Organic Northern Wildflower Raw Honey and Organic Cacao       ",
           null
          ],
          [
           "        Thyme Honey by Ancient Foods - Organic Honey Raw Unfiltered Authentic Greek Honey from Greece | Organic Thyme Honey | Real Honey from Crete, Greece | 454g (Irini)       ",
           null
          ],
          [
           "        Breitsamer Honig Linden Raw Honey, 17.6 Ounce       ",
           null
          ],
          [
           "        Oregon Growers Wildflower Honey - Raw Unfiltered Pacific Northwest Honey, Organic, Gluten Free, Pure & Natural Raw Honey, Subtle Flavors & Natural Enzymes, Farm Direct Specialty Foods, Flower Honey - 18 Oz (Pack of 1)       ",
           100
          ],
          [
           "        Kirkland Signature Kirkland Signature Raw Unfiltered USA Honey (48 OZ/ 3 LBS), 48 oz(Pack of 1)       ",
           50
          ],
          [
           "        Stakich Cinnamon Enriched Raw Honey - Unprocessed, Unheated - 5 Pound (80 Ounce)       ",
           null
          ],
          [
           "        Aunt Sue's Raw & Unfiltered Organic Honey, 24 Ounce (1.5 LB) From Brazil, Strained Pure Honey       ",
           50
          ],
          [
           "        Aunt Sue's Raw & Unfiltered Organic Honey, 16 Ounce (1 LB) From Brazil, Strained Pure Honey       ",
           null
          ],
          [
           "        Sandt's Wildflower Honey, Unfiltered Raw Honey, Non-GMO Genuine, Pure Honey (2 lbs)       ",
           null
          ],
          [
           "        Drizzle Ginger Shine Raw Honey - All Natural Pure Raw Honey with Organic Ginger, Unfiltered & Unheated, Use in Tea & Coffee, Sugar Substitute, Certified Kosher - 13.2 oz Jar (375 g)       ",
           null
          ],
          [
           "        GreenIVe 1,000mg Organically Grown Hemp Infused Honey Grade A Raw American Honey 12 Ounce Bear (12oz 1,000mg)       ",
           null
          ],
          [
           "        Breitsamer, Golden Selection Honey Jar, 17.6 oz       ",
           null
          ],
          [
           "        GloryBee Raw Pacific Northwest Blackberry Blossom Honey, 18 Ounce       ",
           null
          ],
          [
           "        Halal Honey Extra Strength For Men Raw Organic Honey with Premium Natural Royal Jelly Bee Pollen & 100% Pure (Large Pack of 24 Honey Packets)       ",
           500
          ],
          [
           "        Goshen Honey Extremely Raw Dandelion Honey - Unfiltered, Unprocessed, Pure & Natural from Amish Country in the USA - Rich Flavor for Tea, Cooking, Wellness - Dairy & Gluten Free - 454 g / 16 Oz       ",
           50
          ],
          [
           "        Zeigler's Local Georgia Award Winning Honey – All Natural, Pure, Raw, & Unfiltered Georgia Honey, 32 oz Squeeze Bottle – For Tea, Yogurt, Parfaits, Toast, and Cornbread       ",
           200
          ],
          [
           "        Zeigler's Florida Local Honey, 32 Oz – 100% Pure, Raw & Unfiltered Honey – All-Natural, Packed with Nutrients – Great with Tea, Yogurt, Cottage Cheese, Sandwiches, Smoothies       ",
           200
          ],
          [
           "        Beekeeper Direct Raw Unfiltered Honey - Real Raw Citrus Honey - All Natural Non-GMO Pure Gourmet Honey - Local California Orange, Grapefruit, and Lemon Honey (3lbs Squeeze Bottle)       ",
           null
          ],
          [
           "        BUSY BEE Raw Honey Packets, 40 Packets Total, USA Wildflower Honey To-Go       ",
           900
          ],
          [
           "        Nate's Louisiana 100% Pure, Raw & Unfiltered Honey - 16 oz. Squeeze Bottle - All-natural Sweetener       ",
           null
          ],
          [
           "        BeeFamily - Pure Honey Stick 300g       ",
           100
          ],
          [
           "        Jamie's Hive To Table 100% Pure Honey with Honeycomb, 24 Oz – USA Made Raw & Unfiltered Honey – Fresh Edible Honeycomb – All-Natural Sweetener – Rich Flavor Profile, Packed with Nutrients       ",
           200
          ],
          [
           "        Sandt's Clover Honey, Unfiltered Raw Honey, Non-GMO Genuine, Pure Honey (2 lbs)       ",
           null
          ],
          [
           "        Raw Honey - Pure All Natural Unfiltered & Unpasteurized - McCoy's Honey Florida Orange Blossom Honey 1 Gallon       ",
           null
          ],
          [
           "        Buzzn Bee Raw Florida Honey - Unpasteurized and Unfiltered (Wildflower, 1.5 Pound)       ",
           50
          ],
          [
           "        Herbal Revolution Fire Cider Apple Cider Vinegar - Certified Organic Non-GMO ACV Infused with Ginger, Horseradish, Hot Peppers, Honey, and More - Made Using Regenerative Farming Practices 16 Oz       ",
           100
          ],
          [
           "        Herbal Revolution Fire Cider Apple Cider Vinegar - Certified Organic Non-GMO ACV Infused with Ginger, Horseradish, Hot Peppers, Honey, and More - Made Using Regenerative Farming Practices 8 Oz       ",
           100
          ],
          [
           "        Savannah Bee Company Honey Sample Set - Artisanal Honey       ",
           100
          ],
          [
           "        Drizzle White Raw Honey - All Natural Pure Raw Honey, Unfiltered & Unheated, Use in Tea & Coffee, Sugar Substitute, Certified Kosher - 13.2 oz Jar (375 g)       ",
           null
          ],
          [
           "        Drizzle Golden Raw Honey - All Natural Pure Raw Honey, Unfiltered & Unheated, Use in Tea & Coffee, Sugar Substitute, Certified Kosher - 13.2 oz Jar (375 g)       ",
           null
          ],
          [
           "        Local Hive New England Raw Unfiltered Honey – 16 oz, 100% Pure US Honey, Sourced from American Bees and Beekeepers - Natural Sweetener, Ideal for Tea, Baking, and Cooking       ",
           600
          ],
          [
           "        AR’s Hot-Mild Southern Honey with Chile De Arbol - 100% Pure Wildflower Honey with Real Chile De Arbol, All-Natural Sweet Heat, 12 oz (1 Pack)       ",
           null
          ],
          [
           "        Cinnamon Raw Honey - Untreated Unprocessed Creamy Raw Honey w/Certified Organic Cinnamon - Sleeping Bear Farms       ",
           100
          ],
          [
           "        Drizzle Cinnamon Spiced Raw Honey - All Natural Pure Raw Honey with Organic Cinnamon, Unfiltered & Unheated, Use in Tea & Coffee, Sugar Substitute, Certified Kosher - 13.2 oz Jar (375 g)       ",
           null
          ],
          [
           "        WellEatable Wild Lavender Organic Raw Honey from Wild Lavender Flowers, Artisanal Fruity and Harmonious Sweet Honey from Sardinia, Italy - (250gr) 8.81 Ounce (Pack of 1)       ",
           null
          ],
          [
           "        WellEatable Blackberry Organic Raw Honey from Wild Blackberry Flowers, Artisanal Complex and Fruity Honey from Sardinia, Italy - (250gr) 8.81 Ounce (Pack of 1)       ",
           null
          ],
          [
           "        WellEatable Eucalyptus Organic Raw Honey from Eucalyptus Flowers, Artisanal Complex Balsamic Honey from Sardinia, Italy - (250gr) 8.8 oz       ",
           50
          ],
          [
           "        Dependable Food Raw Honey - 16 oz. Squeeze Bottle - 100% Pure, Raw, All Natural, Wildflower Honey - Hive to Bottle       ",
           null
          ],
          [
           "        Kelley's 100% Organic Raw & Unfiltered Honey, USDA Certified, 24 Oz – All Natural, Flavor-Rich Honey for Fruits, Yogurt, Smoothies, Acai Bowls, Tea – Natural Sugar Substitute       ",
           1000
          ],
          [
           "        Breitsamer, Honig Forest Raw Honey, 17.6 oz       ",
           null
          ],
          [
           "        Mitica Orange Blossom Honey, 7 OZ       ",
           50
          ],
          [
           "        Fischer's 100% Organic Honey, USDA Certified, 24 Oz – Pure, Raw & Unfiltered Honey – All-Natural Sweetener – Rich Flavor Profile, Packed with Nutrients       ",
           200
          ],
          [
           "        Jamie's Hive To Table 100% Raw Honeycomb, 12 Oz – All-Natural Pure Georgia Honeycomb, No Additives or Preservatives, Non-GMO       ",
           800
          ],
          [
           "        Desert Creek Honey's All Natural, Raw, Premium Honey Bee Pollen, 8 oz       ",
           50
          ],
          [
           "        Heavenly Organics 100% Organic Raw White Honey 1 Pack - Size 12 OZ/Jar Lightly Filtered to Preserve Vitamins, Minerals and Enzymes; Made from Wild Beehives & Free Range Bees, Dairy, Nut, Gluten Free,       ",
           null
          ],
          [
           "        You Again Super Honey Clean Energy Gel, Honey & Himalayan Salt | Electrolyte Replenishment Running Fuel | Endurance Workouts & Cycling Gel | Paleo & Carnivore Snack | Gluten-Free | USA Made | 8-Pack       ",
           1000
          ],
          [
           "        I HEART BEES - Allergy Blend Honey - 10 Ounces - Raw and Unfiltered Honey, Kosher Certified       ",
           null
          ],
          [
           "        Bee Seasonal Organic & Raw Honey Gift Box - 8 Pack - 14oz.       ",
           300
          ],
          [
           "        Sandt's Golden Honey, Unfiltered Raw Honey, Non-GMO Genuine, Pure Honey (2 lbs)       ",
           null
          ],
          [
           "        Honey House 100% Raw Clover | Pure & Unfiltered | Premium American-Sourced Natural Sweetener | 12oz Glass Jar | Nutrient-Rich | No Additives       ",
           200
          ],
          [
           "        Breitsamer Sunflower Raw Honey Jar, 17.6 Ounce       ",
           50
          ],
          [
           "        Bee and You Royal Jelly Raw Honey, Propolis Extract, 100% Natural Superfood, Ultra Pure, Immune Support Supplement, Antioxidants, Keto, Paleo, Gluten-Free, 6.7 oz       ",
           null
          ],
          [
           "        Local Hive Chipotle Hot Honey – 9 oz, Sweet & Smoky, Natural Raw Honey with Chipotle Pepper for Dipping, Drizzling, Grilling, Tacos, BBQ, and Marinades       ",
           null
          ],
          [
           "        Stakich GINGER Enriched RAW HONEY - Pure, Unprocessed, Unheated - 5 lb (80 oz)       ",
           null
          ],
          [
           "        MY LAND Thyme Greek Natural Raw Honey Unfiltered (9.5 Ounce (Pack of 1))       ",
           null
          ],
          [
           "        Raw Essentials Honey Granules – Natural Sweetness for Oatmeal, Yogurt, Beverages, and Desserts – Non-GMO and Gluten-Free – 9 Ounce Container       ",
           300
          ],
          [
           "        Pearl Honey Spreads - Organic Matcha Flavored Creamed Raw Honey - Chemical Free, Dairy Free, Soy Free & 100% Naturally Flavored |8.8oz Jar       ",
           null
          ],
          [
           "        Pearl Honey Spreads - Organic Cinnamon Flavored Creamed Raw Honey - Chemical Free, Dairy Free, Soy Free & 100% Naturally Flavored | 8.8oz Jar       ",
           null
          ],
          [
           "        Bee Harmony Lavender Infused Honey, 12 OZ Each, Pack of 2       ",
           null
          ],
          [
           "        Y.S. Eco Bee Farms Raw Honey - 22 oz 2 Pack, Packed by Ilios       ",
           100
          ],
          [
           "        Y.S. Eco Bee Farms Raw Honey - 22 oz, Packed by Ilios       ",
           50
          ],
          [
           "        Goshen Amish Country Honey Extremely Raw LINDEN Honey 100% Natural Domestic Honey with Health Benefits Unfiltered Unprocessed Unheated OU Kosher Certified | 454 G Glass Jar       ",
           null
          ],
          [
           "        Heavenly Organics 100% Organic Raw White Honey 3 Pack - Size 12 Oz/Jar Lightly Filtered to Preserve Vitamins, Minerals and Enzymes; Made from Wild Beehives & Free Range Bees, Dairy, Nut, Gluten Free, Kosher, Chemical , Antibiotic and Glyphosate free       ",
           null
          ],
          [
           "        Heavenly Organics 100% Organic Raw White Honey 2 Pack - Size 12Oz/Jar Lightly Filtered to Preserve Vitamins, Minerals and Enzymes; Made from Wild Beehives & Free Range Bees, Dairy, Nut, Gluten Free, Kosher, Chemical , Antibiotic and Glyphosate free       ",
           null
          ],
          [
           "        2-Pack of Big Island Bees Ohia Lehua Honey, Organic Raw Hawaiian Honey - (Two Large 47 oz Glass Jars)       ",
           null
          ],
          [
           "        Honey Raw Fresh Air Idaho Grade A Light Amber Honey (12 Ounce)       ",
           null
          ],
          [
           "        GLORYBEE Local Washington Raw Honey, 18 OZ       ",
           null
          ],
          [
           "        TAJ Natural Raw Honeycomb Turkish Honey Comb, 1.25kg (2.75lbs)       ",
           50
          ],
          [
           "        Bee Harmony Organic Raw Honey, 12 OZ (Pack of 2 Jars)       ",
           100
          ],
          [
           "        Bee Pollen in Raw Honey - 500 gram       ",
           null
          ],
          [
           "        6-Pack HONEY FEAST Bourbon Honey 12oz | Artisan Raw Honey with Bourbon Infusion | Specialty Flavor for Gourmet Lovers | Distinctive Gift Set       ",
           null
          ],
          [
           "        Heavenly Organics - 100% Organic Raw White Honey - 22 oz.       ",
           100
          ],
          [
           "        Nate's 100% Pure, Raw & Unfiltered Honey, No-Drip Sustainable Squeeze Pouch; Purity Guarantee, No Additives, 14 Ounce       ",
           100
          ],
          [
           "        Sadaf Raw Honey Grade A - Raw Acacia Honey for Cooking, Baking & Food Flavoring - All Natural Sweet Honey - Halal - 15.8 oz Jar       ",
           100
          ],
          [
           "        Heavenly Organics – 100% Organic Raw Of Honey of Acadia – 22 Oz.       ",
           50
          ],
          [
           "        Browning's 40 oz Creamed Raw Clover Honey | 100% Pure, Natural & Unfiltered | Premium Old-Fashioned Honey - Product of the USA       ",
           100
          ],
          [
           "        Banyan Botanicals Turmeric Honey – Organic Honey with Turmeric ­­and Ginger – Delicious Superfood Herbal Honey for Adults & Kids – 8.25 oz – Raw & Unfiltered, Pollinator-Friendly, Sustainably Sourced       ",
           null
          ],
          [
           "        Raw Wildflower Honey - Pure, Unadulterated, Clean, Grade A Strained Honey from the Pacific Northwest (20 ounces)       ",
           50
          ],
          [
           "        Local Hive Honey Bliss Gift Box – 3 x 16oz Bottles (Utah, Colorado & New England), Raw & Unfiltered, 100% Pure US Honey from American Beekeepers - Natural Sweetener, Ideal for Tea, Baking, and Cooking       ",
           null
          ],
          [
           "        TAJ Raw Acacia Honey | Fresh From Turkey | 17.6oz (500g)       ",
           null
          ],
          [
           "        Honey House 100% Raw Creamed | Pure & Natural Unfiltered | Sustainably Sourced from American Bee Farmers | 12 oz Glass Jar | Smooth & Spreadable Texture | Rich in Natural Enzymes & Pollen       ",
           100
          ],
          [
           "        Browning's Honey Jug - Pure Raw Clover Honey, Natural Sweetener, Unfiltered and Unpasteurized, Perfect for Cooking, Baking, and Beverages (3 lb Jug)       ",
           null
          ],
          [
           "        Browning's Honey Jug - Pure Raw Clover Honey, Natural Sweetener, Unfiltered and Unpasteurized, Perfect for Cooking, Baking, and Beverages (5 lb Jug)       ",
           null
          ],
          [
           "        Amorcito Corazón Squeezable Pure Raw Honey 10.6oz (300g)       ",
           50
          ],
          [
           "        Fischer's Hot Honey, 24 Oz – 100% Raw Unfiltered Honey Infused with Hot Pepper – Chefs' Choice – Spicy Kick for Pizza, BBQ, Fried Chicken, Cheese Board, Salads, Cocktails       ",
           50
          ],
          [
           "        Lehua Honey in a Tiki Bottle (9oz)       ",
           null
          ],
          [
           "        Peace River Organic Honey 1 KG (Made in Canada)       ",
           50
          ],
          [
           "        Mowi Wowi Hemp Honey Straws - Stress Relief, Better Sleep, Improved Mood - 100% USA-Sourced, Raw, Unfiltered Honey, Nature’s Superfood- Infused with Hemp Oil, Vegan, Non-GMO, Pack of 10       ",
           null
          ],
          [
           "        BUSY BEE Honey Bears, California Raw Honey, 12 OZ (Pack of 2)       ",
           null
          ],
          [
           "        Honey House Pure Raw Clover & Smooth Creamed Combo | 100% Natural, Unfiltered, Additive-Free | Premium American Bee Farm | Perfect for Cooking, Spreading & Sweetening | 2-pack       ",
           null
          ],
          [
           "        Honey House Hot Honey Premium Spicy Infused with Chili Peppers | 100% Natural with Natural Spices | Gourmet Sweet & Spicy Condiment for Pizza, Ice Cream, Cheese, Chicken, Veggies and More       ",
           50
          ],
          [
           "        Honey House 100% Raw Creamed | Pure & Natural Unfiltered | Sustainably Sourced from American Bee Farmers | 12 oz Glass Jar | Smooth & Spreadable Texture | Natural Enzymes & Pollen - (2 Pack)       ",
           null
          ],
          [
           "        Busy Bee Creamed Raw Unfiltered Honey, 12 OZ (Pack of 2), Made in the USA       ",
           null
          ],
          [
           "        Herbal Revolution Elderberry Tonic - Certified Organic Non-GMO Apple Cider Vinegar Infused with Cinnamon Bark, Raw Honey, Ginger & More - Made Using Regenerative Farming Practices - 8 Oz       ",
           null
          ],
          [
           "        Selby Family Honey - Pure Raw Wyoming Clover, 16 Oz, Pack of 1       ",
           null
          ],
          [
           "        Selby Family Honey - Pure Raw Wyoming Clover, 16 Oz, Pack of 3       ",
           null
          ],
          [
           "        Selby Family Honey - Pure Raw Wyoming Clover, 16 Oz, Pack of 2       ",
           null
          ],
          [
           "        Raw Essentials Honey Powder - Distinct Honey Flavor - Used in Beverages, Bread and Desserts - 8 Ounce Container       ",
           50
          ],
          [
           "        Local Hive Sweet & Heat Sampler - Original Hot Honey, Organic Hive 12oz, Local Hive 12oz Clover Honey, and Original Hot Sauce - ideal for drizzling, cooking, and elevating every bite       ",
           null
          ],
          [
           "        Bonjour Pure Raw Honey Comb, All Natural With No Preservatives or Additives, Harvested From the High Mountains of Anatolia, Rich in Vitamins and Antioxidants (Pack of 1) 16 oz (1Lb)       ",
           null
          ],
          [
           "        Cloister Honey Whipped Honey - Key Lime (9 oz) | Hand Crafted | Raw Artisan Honey | 100% Pure, Raw & Unfiltered | All Natural | Made in USA |       ",
           null
          ],
          [
           "        Cloister Honey Whipped Honey - Cinnamon (9 oz) | Hand Crafted | Raw Artisan Honey | 100% Pure, Raw & Unfiltered | All Natural | Made in USA |       ",
           null
          ],
          [
           "        Cloister Honey Trios - Citrus (3 x 3 oz) | Hand Crafted | Raw Artisan Honey | 100% Pure, Raw & Unfiltered | All Natural | Made in USA |       ",
           null
          ],
          [
           "        Cloister Honey Trios - Fan Favorite (3 x 3 oz) | Hand Crafted | Raw Artisan Honey | 100% Pure, Raw & Unfiltered | All Natural | Made in USA |       ",
           null
          ],
          [
           "        Cloister Honey Whipped Honey - Tangerine (9 oz) | Hand Crafted | Raw Artisan Honey | 100% Pure, Raw & Unfiltered | All Natural | Made in USA |       ",
           null
          ],
          [
           "        Cloister Honey Whipped Honey - Grapefruit (9 oz) | Hand Crafted | Raw Artisan Honey | 100% Pure, Raw & Unfiltered | All Natural | Made in USA |       ",
           null
          ],
          [
           "        Cloister Honey Trios - Home Bar (3 x 3 oz) | Hand Crafted | Raw Artisan Honey | 100% Pure, Raw & Unfiltered | All Natural | Made in USA |       ",
           null
          ],
          [
           "        Cloister Honey Whipped Honey - Ghost Pepper (9 oz) | Hand Crafted | Raw Artisan Honey | 100% Pure, Raw & Unfiltered | All Natural | Made in USA |       ",
           null
          ],
          [
           "        Cloister Honey Whipped Honey - Lavender (9 oz) | Hand Crafted | Raw Artisan Honey | 100% Pure, Raw & Unfiltered | All Natural | Made in USA |       ",
           null
          ],
          [
           "        Cloister Honey Whipped Honey - Pumpkin Spice (9 oz) | Hand Crafted | Raw Artisan Honey | 100% Pure, Raw & Unfiltered | All Natural | Made in USA |       ",
           null
          ],
          [
           "        Ellora Farms, Organic Raw Greek Honey, Wild Thyme, Pure Superfood, 2025 Paris Gold Medal, Certified Kosher traceable beehives, 450 grams Gift pack (Royal Reserve)       ",
           null
          ],
          [
           "        Hawaii Honey Pouch 8oz | Easy Squeeze Energy Boosting | 3 Enzymes Strong       ",
           null
          ],
          [
           "        Cloister Honey Infused Honey - Chipotle (12 oz) | Hand Crafted | Raw Artisan Honey | 100% Pure, Raw & Unfiltered | All Natural | Made in USA |       ",
           null
          ],
          [
           "        TOPANGA Topanga Honey Bear-Clover, 12 OZ       ",
           null
          ],
          [
           "        K&A HONEY Organic Bracatinga Honey | USDA Certified Organic | Award-Winning 100% Pure Honeydew | Rich in Antioxidants & Minerals | Natural Sugar Alternative | 8.47 oz       ",
           null
          ],
          [
           "        Wellmade Pure Raw Gourmet Honeycomb | Turkish Honey | All Natural Unfiltered Farm Fresh Honey Comb Piece in Protective Box | No Additives, No Preservatives 14 oz (Pack of 1)       ",
           50
          ],
          [
           "        Real Raw American Honey, 32oz by Desert Creek. Non-GMO, Kosher, Go Texan Certified. Zero additivies.       ",
           null
          ],
          [
           "        BEE HARMONY Organic Eucalyptus Raw Creamed Honey, 12 OZ       ",
           200
          ],
          [
           "        Ellora Farms, 100% Raw Greek Honey, Single Origin Unfiltered Superfood, Traceable beehives, (16 oz) 1 Lbs. Gift pack (Large, Royal Reserve)       ",
           null
          ],
          [
           "        HONEY FEAST Raw Orange Blossom Honey - 2 Gallons Bulk, All Natural, Unfiltered, Unheated, Easy to Handle & Economical       ",
           null
          ],
          [
           "        HONEY FEAST Wildflower Honey - 2-Gallon Bulk Size, All Natural, Unfiltered, Unheated, Perfect for Sweetening & Baking       ",
           null
          ],
          [
           "        HONEY FEAST Bulk Allergy Blend Honey - 2-Gallon Bucket, Vast American Honey, Florida Crafted, Raw & Unfiltered, High Pollen Content, Directly from Central Florida Beekeepers       ",
           null
          ],
          [
           "        Honey House Hot Honey | 100% Raw Natural with Real Dried Peppers | Pure & Unfiltered | Sustainably Sourced from American Bee Farmers | Spicy Flavor | 12 oz Glass Jar       ",
           null
          ],
          [
           "        TJ's Pure Honey (1lb), Honey & Things, 100% Natural Wildflower Local Honey From Our Hives In Upstate NY, Unfiltered, Unpasteurized, Raw.       ",
           null
          ],
          [
           "        Heavenly Organics 100% Organic Raw White Honey 3 Pack - Size 12 OZ/Jar Lightly Filtered to Preserve Vitamins, Minerals and Enzymes; Made from Wild Beehives & Free Range Bees, Dairy, Nut, Gluten Free, Kosher, Chemical , Antibiotic and Glyphosate free       ",
           null
          ],
          [
           "        Local Hive Southeast Raw Unfiltered Honey – 32oz, 100% Pure US Honey, Sourced from American Bees and Beekeepers - Natural Sweetener, Ideal for Tea, Baking, and Cooking       ",
           null
          ],
          [
           "        TAJ Honeycomb Turkish Honey Comb, 1.25kg (2.75lbs)       ",
           null
          ],
          [
           "        Golden Harvest Honey Unfiltered Raw Extra Light Wildflower Blend - 100% Pure Honey - Contains Natural Pollen - 3 Pounds       ",
           null
          ],
          [
           "        Honey House Premium Raw Alfalfa | 100% Pure & Unfiltered | Rich in Antioxidants | Sustainably Sourced | Natural Sweetener | Glass Jar       ",
           null
          ]
         ],
         "hovertemplate": "price_per_ounce=%{x}<br>num_reviews=%{y}<br>title=%{customdata[0]}<br>bought_last_month=%{customdata[1]}<extra></extra>",
         "legendgroup": "",
         "marker": {
          "color": "#636efa",
          "symbol": "circle"
         },
         "mode": "markers",
         "name": "",
         "orientation": "v",
         "showlegend": false,
         "type": "scatter",
         "x": [
          0.42,
          0.45,
          0.56,
          0.53,
          0.68,
          0.48,
          0.68,
          0.36,
          0.58,
          0.71,
          1.28,
          2.14,
          0.7,
          0.56,
          0.21,
          0.62,
          0.62,
          0.62,
          0.42,
          0.36,
          0.75,
          0.54,
          1.53,
          0.37,
          0.75,
          0.99,
          0.87,
          0.99,
          1.67,
          0.86,
          0.45,
          0.43,
          0.86,
          0.78,
          0.78,
          1.67,
          0.7,
          0.57,
          0.69,
          0.5,
          0.46,
          0.65,
          0.78,
          0.56,
          0.65,
          0.5,
          0.41,
          0.71,
          0.76,
          1.64,
          1.64,
          0.78,
          0.39,
          0.7,
          0.39,
          1.21,
          1.25,
          0.55,
          0.49,
          0.45,
          0.56,
          0.75,
          0.62,
          0.45,
          2.97,
          0.83,
          0.83,
          0.79,
          0.83,
          0.38,
          0.99,
          1.5,
          1.5,
          1.42,
          1.43,
          0.77,
          0.77,
          1.13,
          1.87,
          0.79,
          0.8,
          1.19,
          1.19,
          1.34,
          0.78,
          0.7,
          0.78,
          0.78,
          0.78,
          0.78,
          0.7,
          0.71,
          1.75,
          1.75,
          0.94,
          0.78,
          0.94,
          0.81,
          1.02,
          0.42,
          1.16,
          0.96,
          0.49,
          0.84,
          0.78,
          0.7,
          0.7,
          0.7,
          0.7,
          0.5,
          0.69,
          1.47,
          1.02,
          0.52,
          0.71,
          1.37,
          0.45,
          0.36,
          0.83,
          0.83,
          1.06,
          1.59,
          1.59,
          0.46,
          0.5,
          0.37,
          0.26,
          0.56,
          0.5,
          0.38,
          1.19,
          0.37,
          1.32,
          0.71,
          1.75,
          1.65,
          2.18,
          1.14,
          1.11,
          0.48,
          0.62,
          0.62,
          0.87,
          0.84,
          1.14,
          1.67,
          0.81,
          1.37,
          1.5,
          1.06,
          0.59,
          0.47,
          0.72,
          0.89,
          0.74,
          0.66,
          0.5,
          0.78,
          0.51,
          0.71,
          2.31,
          3.12,
          2.39,
          1.06,
          1.06,
          0.39,
          1.17,
          0.71,
          1.14,
          2.26,
          2.26,
          2.26,
          0.56,
          0.6,
          1.14,
          1.63,
          0.59,
          1.67,
          1.8,
          1.12,
          3,
          1.59,
          0.18,
          0.78,
          1.37,
          0.82,
          3.43,
          1.22,
          0.87,
          1.89,
          1.33,
          2.25,
          2.04,
          1.02,
          1.45,
          1,
          1.06,
          0.82,
          1.03,
          1.29,
          1.58,
          1.28,
          1.14,
          0.87,
          0.96,
          0.67,
          0.72,
          0.51,
          0.63,
          0.75,
          0.56,
          4.24,
          1.15,
          3.12,
          0.72,
          1.63,
          0.47,
          0.39,
          0.54,
          0.58,
          3.16,
          0.65,
          2,
          0.67,
          1.46,
          1.62,
          1.77,
          0.67,
          2.56,
          1.09,
          0.83,
          0.94,
          1.6,
          1.04,
          0.69,
          1.67,
          1.67,
          2.78,
          2.78,
          1.67,
          1.67,
          2.78,
          1.67,
          1.67,
          1.67,
          2.81,
          1.76,
          1.5,
          0.47,
          3.54,
          1,
          0.44,
          0.96,
          2.81,
          0.39,
          0.32,
          0.32,
          3.21,
          0.65,
          1.02,
          0.7,
          1.13,
          0.55,
          1.22
         ],
         "xaxis": "x",
         "y": [
          66202,
          66202,
          66160,
          32494,
          32494,
          32494,
          32471,
          17889,
          7979,
          6678,
          5887,
          5531,
          4681,
          4680,
          4628,
          4273,
          4272,
          4272,
          4065,
          3902,
          3902,
          3898,
          3636,
          3579,
          3188,
          3188,
          3188,
          3188,
          3186,
          3185,
          2877,
          2753,
          2267,
          2168,
          2168,
          2167,
          2167,
          2165,
          2011,
          2011,
          2011,
          2010,
          1999,
          1701,
          1643,
          1643,
          1614,
          1607,
          1584,
          1584,
          1584,
          1506,
          1506,
          1506,
          1506,
          1458,
          1456,
          1440,
          1352,
          1316,
          1309,
          1296,
          1296,
          1246,
          1234,
          1202,
          1202,
          1201,
          1200,
          1133,
          1130,
          1063,
          1063,
          1063,
          1055,
          1046,
          1045,
          1016,
          1015,
          994,
          994,
          990,
          989,
          982,
          966,
          966,
          966,
          965,
          965,
          965,
          960,
          949,
          918,
          918,
          862,
          848,
          841,
          841,
          814,
          766,
          729,
          712,
          689,
          676,
          670,
          670,
          670,
          670,
          669,
          634,
          630,
          611,
          606,
          606,
          583,
          574,
          566,
          563,
          520,
          519,
          507,
          497,
          497,
          450,
          445,
          444,
          442,
          441,
          441,
          429,
          422,
          418,
          411,
          400,
          384,
          384,
          384,
          378,
          332,
          324,
          315,
          307,
          305,
          290,
          286,
          272,
          264,
          263,
          260,
          251,
          251,
          248,
          235,
          218,
          210,
          207,
          201,
          199,
          186,
          181,
          180,
          180,
          179,
          176,
          176,
          175,
          170,
          161,
          159,
          158,
          158,
          158,
          155,
          154,
          145,
          142,
          138,
          137,
          136,
          134,
          133,
          130,
          129,
          126,
          125,
          121,
          108,
          107,
          103,
          101,
          95,
          95,
          95,
          94,
          94,
          94,
          83,
          79,
          79,
          79,
          75,
          73,
          72,
          72,
          59,
          59,
          53,
          50,
          49,
          49,
          49,
          45,
          44,
          41,
          40,
          39,
          38,
          38,
          38,
          34,
          34,
          34,
          28,
          28,
          27,
          26,
          24,
          23,
          23,
          20,
          20,
          20,
          20,
          19,
          17,
          16,
          16,
          16,
          16,
          16,
          16,
          16,
          16,
          16,
          16,
          15,
          15,
          14,
          13,
          13,
          12,
          12,
          12,
          11,
          10,
          10,
          10,
          9,
          6,
          6,
          5,
          5,
          2,
          1
         ],
         "yaxis": "y"
        }
       ],
       "layout": {
        "legend": {
         "tracegroupgap": 0
        },
        "template": {
         "data": {
          "bar": [
           {
            "error_x": {
             "color": "#2a3f5f"
            },
            "error_y": {
             "color": "#2a3f5f"
            },
            "marker": {
             "line": {
              "color": "#E5ECF6",
              "width": 0.5
             },
             "pattern": {
              "fillmode": "overlay",
              "size": 10,
              "solidity": 0.2
             }
            },
            "type": "bar"
           }
          ],
          "barpolar": [
           {
            "marker": {
             "line": {
              "color": "#E5ECF6",
              "width": 0.5
             },
             "pattern": {
              "fillmode": "overlay",
              "size": 10,
              "solidity": 0.2
             }
            },
            "type": "barpolar"
           }
          ],
          "carpet": [
           {
            "aaxis": {
             "endlinecolor": "#2a3f5f",
             "gridcolor": "white",
             "linecolor": "white",
             "minorgridcolor": "white",
             "startlinecolor": "#2a3f5f"
            },
            "baxis": {
             "endlinecolor": "#2a3f5f",
             "gridcolor": "white",
             "linecolor": "white",
             "minorgridcolor": "white",
             "startlinecolor": "#2a3f5f"
            },
            "type": "carpet"
           }
          ],
          "choropleth": [
           {
            "colorbar": {
             "outlinewidth": 0,
             "ticks": ""
            },
            "type": "choropleth"
           }
          ],
          "contour": [
           {
            "colorbar": {
             "outlinewidth": 0,
             "ticks": ""
            },
            "colorscale": [
             [
              0,
              "#0d0887"
             ],
             [
              0.1111111111111111,
              "#46039f"
             ],
             [
              0.2222222222222222,
              "#7201a8"
             ],
             [
              0.3333333333333333,
              "#9c179e"
             ],
             [
              0.4444444444444444,
              "#bd3786"
             ],
             [
              0.5555555555555556,
              "#d8576b"
             ],
             [
              0.6666666666666666,
              "#ed7953"
             ],
             [
              0.7777777777777778,
              "#fb9f3a"
             ],
             [
              0.8888888888888888,
              "#fdca26"
             ],
             [
              1,
              "#f0f921"
             ]
            ],
            "type": "contour"
           }
          ],
          "contourcarpet": [
           {
            "colorbar": {
             "outlinewidth": 0,
             "ticks": ""
            },
            "type": "contourcarpet"
           }
          ],
          "heatmap": [
           {
            "colorbar": {
             "outlinewidth": 0,
             "ticks": ""
            },
            "colorscale": [
             [
              0,
              "#0d0887"
             ],
             [
              0.1111111111111111,
              "#46039f"
             ],
             [
              0.2222222222222222,
              "#7201a8"
             ],
             [
              0.3333333333333333,
              "#9c179e"
             ],
             [
              0.4444444444444444,
              "#bd3786"
             ],
             [
              0.5555555555555556,
              "#d8576b"
             ],
             [
              0.6666666666666666,
              "#ed7953"
             ],
             [
              0.7777777777777778,
              "#fb9f3a"
             ],
             [
              0.8888888888888888,
              "#fdca26"
             ],
             [
              1,
              "#f0f921"
             ]
            ],
            "type": "heatmap"
           }
          ],
          "heatmapgl": [
           {
            "colorbar": {
             "outlinewidth": 0,
             "ticks": ""
            },
            "colorscale": [
             [
              0,
              "#0d0887"
             ],
             [
              0.1111111111111111,
              "#46039f"
             ],
             [
              0.2222222222222222,
              "#7201a8"
             ],
             [
              0.3333333333333333,
              "#9c179e"
             ],
             [
              0.4444444444444444,
              "#bd3786"
             ],
             [
              0.5555555555555556,
              "#d8576b"
             ],
             [
              0.6666666666666666,
              "#ed7953"
             ],
             [
              0.7777777777777778,
              "#fb9f3a"
             ],
             [
              0.8888888888888888,
              "#fdca26"
             ],
             [
              1,
              "#f0f921"
             ]
            ],
            "type": "heatmapgl"
           }
          ],
          "histogram": [
           {
            "marker": {
             "pattern": {
              "fillmode": "overlay",
              "size": 10,
              "solidity": 0.2
             }
            },
            "type": "histogram"
           }
          ],
          "histogram2d": [
           {
            "colorbar": {
             "outlinewidth": 0,
             "ticks": ""
            },
            "colorscale": [
             [
              0,
              "#0d0887"
             ],
             [
              0.1111111111111111,
              "#46039f"
             ],
             [
              0.2222222222222222,
              "#7201a8"
             ],
             [
              0.3333333333333333,
              "#9c179e"
             ],
             [
              0.4444444444444444,
              "#bd3786"
             ],
             [
              0.5555555555555556,
              "#d8576b"
             ],
             [
              0.6666666666666666,
              "#ed7953"
             ],
             [
              0.7777777777777778,
              "#fb9f3a"
             ],
             [
              0.8888888888888888,
              "#fdca26"
             ],
             [
              1,
              "#f0f921"
             ]
            ],
            "type": "histogram2d"
           }
          ],
          "histogram2dcontour": [
           {
            "colorbar": {
             "outlinewidth": 0,
             "ticks": ""
            },
            "colorscale": [
             [
              0,
              "#0d0887"
             ],
             [
              0.1111111111111111,
              "#46039f"
             ],
             [
              0.2222222222222222,
              "#7201a8"
             ],
             [
              0.3333333333333333,
              "#9c179e"
             ],
             [
              0.4444444444444444,
              "#bd3786"
             ],
             [
              0.5555555555555556,
              "#d8576b"
             ],
             [
              0.6666666666666666,
              "#ed7953"
             ],
             [
              0.7777777777777778,
              "#fb9f3a"
             ],
             [
              0.8888888888888888,
              "#fdca26"
             ],
             [
              1,
              "#f0f921"
             ]
            ],
            "type": "histogram2dcontour"
           }
          ],
          "mesh3d": [
           {
            "colorbar": {
             "outlinewidth": 0,
             "ticks": ""
            },
            "type": "mesh3d"
           }
          ],
          "parcoords": [
           {
            "line": {
             "colorbar": {
              "outlinewidth": 0,
              "ticks": ""
             }
            },
            "type": "parcoords"
           }
          ],
          "pie": [
           {
            "automargin": true,
            "type": "pie"
           }
          ],
          "scatter": [
           {
            "fillpattern": {
             "fillmode": "overlay",
             "size": 10,
             "solidity": 0.2
            },
            "type": "scatter"
           }
          ],
          "scatter3d": [
           {
            "line": {
             "colorbar": {
              "outlinewidth": 0,
              "ticks": ""
             }
            },
            "marker": {
             "colorbar": {
              "outlinewidth": 0,
              "ticks": ""
             }
            },
            "type": "scatter3d"
           }
          ],
          "scattercarpet": [
           {
            "marker": {
             "colorbar": {
              "outlinewidth": 0,
              "ticks": ""
             }
            },
            "type": "scattercarpet"
           }
          ],
          "scattergeo": [
           {
            "marker": {
             "colorbar": {
              "outlinewidth": 0,
              "ticks": ""
             }
            },
            "type": "scattergeo"
           }
          ],
          "scattergl": [
           {
            "marker": {
             "colorbar": {
              "outlinewidth": 0,
              "ticks": ""
             }
            },
            "type": "scattergl"
           }
          ],
          "scattermapbox": [
           {
            "marker": {
             "colorbar": {
              "outlinewidth": 0,
              "ticks": ""
             }
            },
            "type": "scattermapbox"
           }
          ],
          "scatterpolar": [
           {
            "marker": {
             "colorbar": {
              "outlinewidth": 0,
              "ticks": ""
             }
            },
            "type": "scatterpolar"
           }
          ],
          "scatterpolargl": [
           {
            "marker": {
             "colorbar": {
              "outlinewidth": 0,
              "ticks": ""
             }
            },
            "type": "scatterpolargl"
           }
          ],
          "scatterternary": [
           {
            "marker": {
             "colorbar": {
              "outlinewidth": 0,
              "ticks": ""
             }
            },
            "type": "scatterternary"
           }
          ],
          "surface": [
           {
            "colorbar": {
             "outlinewidth": 0,
             "ticks": ""
            },
            "colorscale": [
             [
              0,
              "#0d0887"
             ],
             [
              0.1111111111111111,
              "#46039f"
             ],
             [
              0.2222222222222222,
              "#7201a8"
             ],
             [
              0.3333333333333333,
              "#9c179e"
             ],
             [
              0.4444444444444444,
              "#bd3786"
             ],
             [
              0.5555555555555556,
              "#d8576b"
             ],
             [
              0.6666666666666666,
              "#ed7953"
             ],
             [
              0.7777777777777778,
              "#fb9f3a"
             ],
             [
              0.8888888888888888,
              "#fdca26"
             ],
             [
              1,
              "#f0f921"
             ]
            ],
            "type": "surface"
           }
          ],
          "table": [
           {
            "cells": {
             "fill": {
              "color": "#EBF0F8"
             },
             "line": {
              "color": "white"
             }
            },
            "header": {
             "fill": {
              "color": "#C8D4E3"
             },
             "line": {
              "color": "white"
             }
            },
            "type": "table"
           }
          ]
         },
         "layout": {
          "annotationdefaults": {
           "arrowcolor": "#2a3f5f",
           "arrowhead": 0,
           "arrowwidth": 1
          },
          "autotypenumbers": "strict",
          "coloraxis": {
           "colorbar": {
            "outlinewidth": 0,
            "ticks": ""
           }
          },
          "colorscale": {
           "diverging": [
            [
             0,
             "#8e0152"
            ],
            [
             0.1,
             "#c51b7d"
            ],
            [
             0.2,
             "#de77ae"
            ],
            [
             0.3,
             "#f1b6da"
            ],
            [
             0.4,
             "#fde0ef"
            ],
            [
             0.5,
             "#f7f7f7"
            ],
            [
             0.6,
             "#e6f5d0"
            ],
            [
             0.7,
             "#b8e186"
            ],
            [
             0.8,
             "#7fbc41"
            ],
            [
             0.9,
             "#4d9221"
            ],
            [
             1,
             "#276419"
            ]
           ],
           "sequential": [
            [
             0,
             "#0d0887"
            ],
            [
             0.1111111111111111,
             "#46039f"
            ],
            [
             0.2222222222222222,
             "#7201a8"
            ],
            [
             0.3333333333333333,
             "#9c179e"
            ],
            [
             0.4444444444444444,
             "#bd3786"
            ],
            [
             0.5555555555555556,
             "#d8576b"
            ],
            [
             0.6666666666666666,
             "#ed7953"
            ],
            [
             0.7777777777777778,
             "#fb9f3a"
            ],
            [
             0.8888888888888888,
             "#fdca26"
            ],
            [
             1,
             "#f0f921"
            ]
           ],
           "sequentialminus": [
            [
             0,
             "#0d0887"
            ],
            [
             0.1111111111111111,
             "#46039f"
            ],
            [
             0.2222222222222222,
             "#7201a8"
            ],
            [
             0.3333333333333333,
             "#9c179e"
            ],
            [
             0.4444444444444444,
             "#bd3786"
            ],
            [
             0.5555555555555556,
             "#d8576b"
            ],
            [
             0.6666666666666666,
             "#ed7953"
            ],
            [
             0.7777777777777778,
             "#fb9f3a"
            ],
            [
             0.8888888888888888,
             "#fdca26"
            ],
            [
             1,
             "#f0f921"
            ]
           ]
          },
          "colorway": [
           "#636efa",
           "#EF553B",
           "#00cc96",
           "#ab63fa",
           "#FFA15A",
           "#19d3f3",
           "#FF6692",
           "#B6E880",
           "#FF97FF",
           "#FECB52"
          ],
          "font": {
           "color": "#2a3f5f"
          },
          "geo": {
           "bgcolor": "white",
           "lakecolor": "white",
           "landcolor": "#E5ECF6",
           "showlakes": true,
           "showland": true,
           "subunitcolor": "white"
          },
          "hoverlabel": {
           "align": "left"
          },
          "hovermode": "closest",
          "mapbox": {
           "style": "light"
          },
          "paper_bgcolor": "white",
          "plot_bgcolor": "#E5ECF6",
          "polar": {
           "angularaxis": {
            "gridcolor": "white",
            "linecolor": "white",
            "ticks": ""
           },
           "bgcolor": "#E5ECF6",
           "radialaxis": {
            "gridcolor": "white",
            "linecolor": "white",
            "ticks": ""
           }
          },
          "scene": {
           "xaxis": {
            "backgroundcolor": "#E5ECF6",
            "gridcolor": "white",
            "gridwidth": 2,
            "linecolor": "white",
            "showbackground": true,
            "ticks": "",
            "zerolinecolor": "white"
           },
           "yaxis": {
            "backgroundcolor": "#E5ECF6",
            "gridcolor": "white",
            "gridwidth": 2,
            "linecolor": "white",
            "showbackground": true,
            "ticks": "",
            "zerolinecolor": "white"
           },
           "zaxis": {
            "backgroundcolor": "#E5ECF6",
            "gridcolor": "white",
            "gridwidth": 2,
            "linecolor": "white",
            "showbackground": true,
            "ticks": "",
            "zerolinecolor": "white"
           }
          },
          "shapedefaults": {
           "line": {
            "color": "#2a3f5f"
           }
          },
          "ternary": {
           "aaxis": {
            "gridcolor": "white",
            "linecolor": "white",
            "ticks": ""
           },
           "baxis": {
            "gridcolor": "white",
            "linecolor": "white",
            "ticks": ""
           },
           "bgcolor": "#E5ECF6",
           "caxis": {
            "gridcolor": "white",
            "linecolor": "white",
            "ticks": ""
           }
          },
          "title": {
           "x": 0.05
          },
          "xaxis": {
           "automargin": true,
           "gridcolor": "white",
           "linecolor": "white",
           "ticks": "",
           "title": {
            "standoff": 15
           },
           "zerolinecolor": "white",
           "zerolinewidth": 2
          },
          "yaxis": {
           "automargin": true,
           "gridcolor": "white",
           "linecolor": "white",
           "ticks": "",
           "title": {
            "standoff": 15
           },
           "zerolinecolor": "white",
           "zerolinewidth": 2
          }
         }
        },
        "title": {
         "text": "Comparison of Most Reviewed Products and Price"
        },
        "xaxis": {
         "anchor": "y",
         "domain": [
          0,
          1
         ],
         "title": {
          "text": "price_per_ounce"
         }
        },
        "yaxis": {
         "anchor": "x",
         "domain": [
          0,
          1
         ],
         "title": {
          "text": "num_reviews"
         }
        }
       }
      }
     },
     "metadata": {},
     "output_type": "display_data"
    }
   ],
   "source": [
    "# Scatter plot to show the relationship between reviews & Price \n",
    "fig = px.scatter(\n",
    "    highest_reviews, y=\"num_reviews\", x=\"price_per_ounce\", \n",
    "    title=\"Comparison of Most Reviewed Products and Price\",\n",
    "    hover_data=['title', 'num_reviews', 'price_per_ounce', 'bought_last_month']\n",
    ")\n",
    "fig.show()"
   ]
  },
  {
   "cell_type": "markdown",
   "id": "aa05fcd8",
   "metadata": {},
   "source": [
    "- The same insights that have been drawn from the analysis on the most bought honey products have held up when compared to the most reviewed honey products"
   ]
  },
  {
   "cell_type": "markdown",
   "id": "d623540a",
   "metadata": {},
   "source": [
    "### Products mentioning 3rd party testing "
   ]
  },
  {
   "cell_type": "markdown",
   "id": "fc1492be",
   "metadata": {},
   "source": [
    "Baron Honey Co. will test it's honey for purity and potency, understanding the pricing of similar products will factor in the executives decision making on setting the product price.  "
   ]
  },
  {
   "cell_type": "code",
   "execution_count": 300,
   "id": "136b2acb",
   "metadata": {},
   "outputs": [
    {
     "data": {
      "text/html": [
       "<div>\n",
       "<style scoped>\n",
       "    .dataframe tbody tr th:only-of-type {\n",
       "        vertical-align: middle;\n",
       "    }\n",
       "\n",
       "    .dataframe tbody tr th {\n",
       "        vertical-align: top;\n",
       "    }\n",
       "\n",
       "    .dataframe thead th {\n",
       "        text-align: right;\n",
       "    }\n",
       "</style>\n",
       "<table border=\"1\" class=\"dataframe\">\n",
       "  <thead>\n",
       "    <tr style=\"text-align: right;\">\n",
       "      <th></th>\n",
       "      <th>title</th>\n",
       "      <th>brand</th>\n",
       "      <th>price_per_ounce</th>\n",
       "      <th>product_rating</th>\n",
       "      <th>bought_last_month</th>\n",
       "      <th>num_reviews</th>\n",
       "      <th>product_upc</th>\n",
       "      <th>date_acquired</th>\n",
       "    </tr>\n",
       "  </thead>\n",
       "  <tbody>\n",
       "    <tr>\n",
       "      <th>0</th>\n",
       "      <td>Nate's 100% Pure, Raw &amp; Unfiltered Hon...</td>\n",
       "      <td>Nature Nate's</td>\n",
       "      <td>0.498125</td>\n",
       "      <td>4.7</td>\n",
       "      <td>10000.0</td>\n",
       "      <td>66010.0</td>\n",
       "      <td>038778830161</td>\n",
       "      <td>2025-05-15</td>\n",
       "    </tr>\n",
       "    <tr>\n",
       "      <th>2</th>\n",
       "      <td>HONEY FEAST Wildflower Honey - 6 Pound...</td>\n",
       "      <td>Honey Feast</td>\n",
       "      <td>0.363438</td>\n",
       "      <td>4.5</td>\n",
       "      <td>800.0</td>\n",
       "      <td>555.0</td>\n",
       "      <td>857598008617</td>\n",
       "      <td>2025-05-15</td>\n",
       "    </tr>\n",
       "    <tr>\n",
       "      <th>4</th>\n",
       "      <td>Nate's 100% Pure, Raw &amp; Unfiltered Hon...</td>\n",
       "      <td>Nature Nate's</td>\n",
       "      <td>0.427812</td>\n",
       "      <td>4.7</td>\n",
       "      <td>30000.0</td>\n",
       "      <td>66010.0</td>\n",
       "      <td>038778830321</td>\n",
       "      <td>2025-05-15</td>\n",
       "    </tr>\n",
       "    <tr>\n",
       "      <th>12</th>\n",
       "      <td>Nate's Organic 100% Pure, Raw &amp; Unfilt...</td>\n",
       "      <td>Nature Nate's</td>\n",
       "      <td>0.588750</td>\n",
       "      <td>4.7</td>\n",
       "      <td>10000.0</td>\n",
       "      <td>32383.0</td>\n",
       "      <td>038778610169</td>\n",
       "      <td>2025-05-15</td>\n",
       "    </tr>\n",
       "    <tr>\n",
       "      <th>17</th>\n",
       "      <td>Zeigler's Local Georgia Award Winning ...</td>\n",
       "      <td>ZEIGLER'S</td>\n",
       "      <td>0.592500</td>\n",
       "      <td>4.5</td>\n",
       "      <td>200.0</td>\n",
       "      <td>240.0</td>\n",
       "      <td>034307332328</td>\n",
       "      <td>2025-05-15</td>\n",
       "    </tr>\n",
       "    <tr>\n",
       "      <th>27</th>\n",
       "      <td>Nate's Georgia 100% Pure, Raw &amp; Unfilt...</td>\n",
       "      <td>Nature Nate's</td>\n",
       "      <td>0.374063</td>\n",
       "      <td>4.7</td>\n",
       "      <td>3000.0</td>\n",
       "      <td>3568.0</td>\n",
       "      <td>038778890325</td>\n",
       "      <td>2025-05-15</td>\n",
       "    </tr>\n",
       "    <tr>\n",
       "      <th>30</th>\n",
       "      <td>Nate's Honey Minis - Single-Serve 100%...</td>\n",
       "      <td>Nature Nate's</td>\n",
       "      <td>0.711224</td>\n",
       "      <td>4.6</td>\n",
       "      <td>10000.0</td>\n",
       "      <td>6678.0</td>\n",
       "      <td>038778730201</td>\n",
       "      <td>2025-05-15</td>\n",
       "    </tr>\n",
       "    <tr>\n",
       "      <th>35</th>\n",
       "      <td>Nate's Florida 100% Pure, Raw &amp; Unfilt...</td>\n",
       "      <td>Nature Nate's</td>\n",
       "      <td>0.405000</td>\n",
       "      <td>4.7</td>\n",
       "      <td>1000.0</td>\n",
       "      <td>838.0</td>\n",
       "      <td>038778850329</td>\n",
       "      <td>2025-05-15</td>\n",
       "    </tr>\n",
       "    <tr>\n",
       "      <th>40</th>\n",
       "      <td>Nate's 100% Pure, Raw &amp; Unfiltered Hon...</td>\n",
       "      <td>Nature Nate's</td>\n",
       "      <td>0.624375</td>\n",
       "      <td>4.6</td>\n",
       "      <td>600.0</td>\n",
       "      <td>304.0</td>\n",
       "      <td>None</td>\n",
       "      <td>2025-05-15</td>\n",
       "    </tr>\n",
       "    <tr>\n",
       "      <th>88</th>\n",
       "      <td>Nate's 100% Pure, Raw &amp; Unfiltered Hon...</td>\n",
       "      <td>Nature Nate's</td>\n",
       "      <td>0.565000</td>\n",
       "      <td>4.3</td>\n",
       "      <td>50.0</td>\n",
       "      <td>50.0</td>\n",
       "      <td>038778001097</td>\n",
       "      <td>2025-05-15</td>\n",
       "    </tr>\n",
       "  </tbody>\n",
       "</table>\n",
       "</div>"
      ],
      "text/plain": [
       "                                                title          brand  \\\n",
       "0           Nate's 100% Pure, Raw & Unfiltered Hon...  Nature Nate's   \n",
       "2           HONEY FEAST Wildflower Honey - 6 Pound...    Honey Feast   \n",
       "4           Nate's 100% Pure, Raw & Unfiltered Hon...  Nature Nate's   \n",
       "12          Nate's Organic 100% Pure, Raw & Unfilt...  Nature Nate's   \n",
       "17          Zeigler's Local Georgia Award Winning ...      ZEIGLER'S   \n",
       "27          Nate's Georgia 100% Pure, Raw & Unfilt...  Nature Nate's   \n",
       "30          Nate's Honey Minis - Single-Serve 100%...  Nature Nate's   \n",
       "35          Nate's Florida 100% Pure, Raw & Unfilt...  Nature Nate's   \n",
       "40          Nate's 100% Pure, Raw & Unfiltered Hon...  Nature Nate's   \n",
       "88          Nate's 100% Pure, Raw & Unfiltered Hon...  Nature Nate's   \n",
       "\n",
       "    price_per_ounce  product_rating  bought_last_month  num_reviews  \\\n",
       "0          0.498125             4.7            10000.0      66010.0   \n",
       "2          0.363438             4.5              800.0        555.0   \n",
       "4          0.427812             4.7            30000.0      66010.0   \n",
       "12         0.588750             4.7            10000.0      32383.0   \n",
       "17         0.592500             4.5              200.0        240.0   \n",
       "27         0.374063             4.7             3000.0       3568.0   \n",
       "30         0.711224             4.6            10000.0       6678.0   \n",
       "35         0.405000             4.7             1000.0        838.0   \n",
       "40         0.624375             4.6              600.0        304.0   \n",
       "88         0.565000             4.3               50.0         50.0   \n",
       "\n",
       "     product_upc date_acquired  \n",
       "0   038778830161    2025-05-15  \n",
       "2   857598008617    2025-05-15  \n",
       "4   038778830321    2025-05-15  \n",
       "12  038778610169    2025-05-15  \n",
       "17  034307332328    2025-05-15  \n",
       "27  038778890325    2025-05-15  \n",
       "30  038778730201    2025-05-15  \n",
       "35  038778850329    2025-05-15  \n",
       "40          None    2025-05-15  \n",
       "88  038778001097    2025-05-15  "
      ]
     },
     "execution_count": 300,
     "metadata": {},
     "output_type": "execute_result"
    }
   ],
   "source": [
    "# Filter the df for products that mention testing \n",
    "tested_df = df[(df['title'].str.contains('test')) | (df['product_description'].str.contains('test'))]\n",
    "\n",
    "# Exclude any duplicate products \n",
    "tested_df = tested_df.drop_duplicates(subset='product_upc')\n",
    "\n",
    "# Calculate the price \n",
    "tested_df['price_per_ounce'] = tested_df['price'] / tested_df['weight'] \n",
    "\n",
    "# Display the most important information \n",
    "tested_df[:10][[\n",
    "    'title', 'brand', 'price_per_ounce', 'product_rating', \n",
    "    'bought_last_month', 'num_reviews', 'product_upc', 'date_acquired'\n",
    "]]"
   ]
  },
  {
   "cell_type": "code",
   "execution_count": 301,
   "id": "bc05b0d0",
   "metadata": {},
   "outputs": [
    {
     "name": "stdout",
     "output_type": "stream",
     "text": [
      "Number of tested honey products:  25\n"
     ]
    }
   ],
   "source": [
    "# How many tested products are there \n",
    "print(\"Number of tested honey products: \",len(tested_df['product_upc'].unique()))"
   ]
  },
  {
   "cell_type": "code",
   "execution_count": 302,
   "id": "45690ef8",
   "metadata": {},
   "outputs": [
    {
     "name": "stdout",
     "output_type": "stream",
     "text": [
      "[\"Nature Nate's\" 'Honey Feast' \"ZEIGLER'S\" \"Aunt Sue's\" 'Bee Harmony'\n",
      " 'Beekeeper Direct Honey ESTD 1918' 'Sue Bee' 'Mickelberry Gardens'\n",
      " 'AKSHAR' 'Banyan Botanicals']\n"
     ]
    }
   ],
   "source": [
    "# Showing all the brands that test at least one product \n",
    "print(tested_df['brand'].unique())"
   ]
  },
  {
   "cell_type": "code",
   "execution_count": 303,
   "id": "1ae7322b",
   "metadata": {},
   "outputs": [
    {
     "name": "stdout",
     "output_type": "stream",
     "text": [
      "Number of brands that test at least one product:  10\n"
     ]
    }
   ],
   "source": [
    "# Number of brands that test their products \n",
    "print(\"Number of brands that test at least one product: \", len(tested_df['brand'].unique()))"
   ]
  },
  {
   "cell_type": "code",
   "execution_count": 304,
   "id": "0c3517a8",
   "metadata": {},
   "outputs": [
    {
     "data": {
      "application/vnd.plotly.v1+json": {
       "config": {
        "plotlyServerURL": "https://plot.ly"
       },
       "data": [
        {
         "alignmentgroup": "True",
         "hovertemplate": "Product Ranking=%{x}<br>APPO=%{y}<extra></extra>",
         "legendgroup": "",
         "marker": {
          "color": "#636efa",
          "pattern": {
           "shape": ""
          }
         },
         "name": "",
         "offsetgroup": "",
         "orientation": "v",
         "showlegend": false,
         "textposition": "auto",
         "type": "bar",
         "x": [
          "Top 5",
          "Top 15",
          "Top 25",
          "Top 50",
          "Top 100"
         ],
         "xaxis": "x",
         "y": [
          0.49,
          0.66,
          1.29,
          null,
          null
         ],
         "yaxis": "y"
        }
       ],
       "layout": {
        "barmode": "relative",
        "height": 700,
        "legend": {
         "tracegroupgap": 0
        },
        "template": {
         "data": {
          "bar": [
           {
            "error_x": {
             "color": "#2a3f5f"
            },
            "error_y": {
             "color": "#2a3f5f"
            },
            "marker": {
             "line": {
              "color": "#E5ECF6",
              "width": 0.5
             },
             "pattern": {
              "fillmode": "overlay",
              "size": 10,
              "solidity": 0.2
             }
            },
            "type": "bar"
           }
          ],
          "barpolar": [
           {
            "marker": {
             "line": {
              "color": "#E5ECF6",
              "width": 0.5
             },
             "pattern": {
              "fillmode": "overlay",
              "size": 10,
              "solidity": 0.2
             }
            },
            "type": "barpolar"
           }
          ],
          "carpet": [
           {
            "aaxis": {
             "endlinecolor": "#2a3f5f",
             "gridcolor": "white",
             "linecolor": "white",
             "minorgridcolor": "white",
             "startlinecolor": "#2a3f5f"
            },
            "baxis": {
             "endlinecolor": "#2a3f5f",
             "gridcolor": "white",
             "linecolor": "white",
             "minorgridcolor": "white",
             "startlinecolor": "#2a3f5f"
            },
            "type": "carpet"
           }
          ],
          "choropleth": [
           {
            "colorbar": {
             "outlinewidth": 0,
             "ticks": ""
            },
            "type": "choropleth"
           }
          ],
          "contour": [
           {
            "colorbar": {
             "outlinewidth": 0,
             "ticks": ""
            },
            "colorscale": [
             [
              0,
              "#0d0887"
             ],
             [
              0.1111111111111111,
              "#46039f"
             ],
             [
              0.2222222222222222,
              "#7201a8"
             ],
             [
              0.3333333333333333,
              "#9c179e"
             ],
             [
              0.4444444444444444,
              "#bd3786"
             ],
             [
              0.5555555555555556,
              "#d8576b"
             ],
             [
              0.6666666666666666,
              "#ed7953"
             ],
             [
              0.7777777777777778,
              "#fb9f3a"
             ],
             [
              0.8888888888888888,
              "#fdca26"
             ],
             [
              1,
              "#f0f921"
             ]
            ],
            "type": "contour"
           }
          ],
          "contourcarpet": [
           {
            "colorbar": {
             "outlinewidth": 0,
             "ticks": ""
            },
            "type": "contourcarpet"
           }
          ],
          "heatmap": [
           {
            "colorbar": {
             "outlinewidth": 0,
             "ticks": ""
            },
            "colorscale": [
             [
              0,
              "#0d0887"
             ],
             [
              0.1111111111111111,
              "#46039f"
             ],
             [
              0.2222222222222222,
              "#7201a8"
             ],
             [
              0.3333333333333333,
              "#9c179e"
             ],
             [
              0.4444444444444444,
              "#bd3786"
             ],
             [
              0.5555555555555556,
              "#d8576b"
             ],
             [
              0.6666666666666666,
              "#ed7953"
             ],
             [
              0.7777777777777778,
              "#fb9f3a"
             ],
             [
              0.8888888888888888,
              "#fdca26"
             ],
             [
              1,
              "#f0f921"
             ]
            ],
            "type": "heatmap"
           }
          ],
          "heatmapgl": [
           {
            "colorbar": {
             "outlinewidth": 0,
             "ticks": ""
            },
            "colorscale": [
             [
              0,
              "#0d0887"
             ],
             [
              0.1111111111111111,
              "#46039f"
             ],
             [
              0.2222222222222222,
              "#7201a8"
             ],
             [
              0.3333333333333333,
              "#9c179e"
             ],
             [
              0.4444444444444444,
              "#bd3786"
             ],
             [
              0.5555555555555556,
              "#d8576b"
             ],
             [
              0.6666666666666666,
              "#ed7953"
             ],
             [
              0.7777777777777778,
              "#fb9f3a"
             ],
             [
              0.8888888888888888,
              "#fdca26"
             ],
             [
              1,
              "#f0f921"
             ]
            ],
            "type": "heatmapgl"
           }
          ],
          "histogram": [
           {
            "marker": {
             "pattern": {
              "fillmode": "overlay",
              "size": 10,
              "solidity": 0.2
             }
            },
            "type": "histogram"
           }
          ],
          "histogram2d": [
           {
            "colorbar": {
             "outlinewidth": 0,
             "ticks": ""
            },
            "colorscale": [
             [
              0,
              "#0d0887"
             ],
             [
              0.1111111111111111,
              "#46039f"
             ],
             [
              0.2222222222222222,
              "#7201a8"
             ],
             [
              0.3333333333333333,
              "#9c179e"
             ],
             [
              0.4444444444444444,
              "#bd3786"
             ],
             [
              0.5555555555555556,
              "#d8576b"
             ],
             [
              0.6666666666666666,
              "#ed7953"
             ],
             [
              0.7777777777777778,
              "#fb9f3a"
             ],
             [
              0.8888888888888888,
              "#fdca26"
             ],
             [
              1,
              "#f0f921"
             ]
            ],
            "type": "histogram2d"
           }
          ],
          "histogram2dcontour": [
           {
            "colorbar": {
             "outlinewidth": 0,
             "ticks": ""
            },
            "colorscale": [
             [
              0,
              "#0d0887"
             ],
             [
              0.1111111111111111,
              "#46039f"
             ],
             [
              0.2222222222222222,
              "#7201a8"
             ],
             [
              0.3333333333333333,
              "#9c179e"
             ],
             [
              0.4444444444444444,
              "#bd3786"
             ],
             [
              0.5555555555555556,
              "#d8576b"
             ],
             [
              0.6666666666666666,
              "#ed7953"
             ],
             [
              0.7777777777777778,
              "#fb9f3a"
             ],
             [
              0.8888888888888888,
              "#fdca26"
             ],
             [
              1,
              "#f0f921"
             ]
            ],
            "type": "histogram2dcontour"
           }
          ],
          "mesh3d": [
           {
            "colorbar": {
             "outlinewidth": 0,
             "ticks": ""
            },
            "type": "mesh3d"
           }
          ],
          "parcoords": [
           {
            "line": {
             "colorbar": {
              "outlinewidth": 0,
              "ticks": ""
             }
            },
            "type": "parcoords"
           }
          ],
          "pie": [
           {
            "automargin": true,
            "type": "pie"
           }
          ],
          "scatter": [
           {
            "fillpattern": {
             "fillmode": "overlay",
             "size": 10,
             "solidity": 0.2
            },
            "type": "scatter"
           }
          ],
          "scatter3d": [
           {
            "line": {
             "colorbar": {
              "outlinewidth": 0,
              "ticks": ""
             }
            },
            "marker": {
             "colorbar": {
              "outlinewidth": 0,
              "ticks": ""
             }
            },
            "type": "scatter3d"
           }
          ],
          "scattercarpet": [
           {
            "marker": {
             "colorbar": {
              "outlinewidth": 0,
              "ticks": ""
             }
            },
            "type": "scattercarpet"
           }
          ],
          "scattergeo": [
           {
            "marker": {
             "colorbar": {
              "outlinewidth": 0,
              "ticks": ""
             }
            },
            "type": "scattergeo"
           }
          ],
          "scattergl": [
           {
            "marker": {
             "colorbar": {
              "outlinewidth": 0,
              "ticks": ""
             }
            },
            "type": "scattergl"
           }
          ],
          "scattermapbox": [
           {
            "marker": {
             "colorbar": {
              "outlinewidth": 0,
              "ticks": ""
             }
            },
            "type": "scattermapbox"
           }
          ],
          "scatterpolar": [
           {
            "marker": {
             "colorbar": {
              "outlinewidth": 0,
              "ticks": ""
             }
            },
            "type": "scatterpolar"
           }
          ],
          "scatterpolargl": [
           {
            "marker": {
             "colorbar": {
              "outlinewidth": 0,
              "ticks": ""
             }
            },
            "type": "scatterpolargl"
           }
          ],
          "scatterternary": [
           {
            "marker": {
             "colorbar": {
              "outlinewidth": 0,
              "ticks": ""
             }
            },
            "type": "scatterternary"
           }
          ],
          "surface": [
           {
            "colorbar": {
             "outlinewidth": 0,
             "ticks": ""
            },
            "colorscale": [
             [
              0,
              "#0d0887"
             ],
             [
              0.1111111111111111,
              "#46039f"
             ],
             [
              0.2222222222222222,
              "#7201a8"
             ],
             [
              0.3333333333333333,
              "#9c179e"
             ],
             [
              0.4444444444444444,
              "#bd3786"
             ],
             [
              0.5555555555555556,
              "#d8576b"
             ],
             [
              0.6666666666666666,
              "#ed7953"
             ],
             [
              0.7777777777777778,
              "#fb9f3a"
             ],
             [
              0.8888888888888888,
              "#fdca26"
             ],
             [
              1,
              "#f0f921"
             ]
            ],
            "type": "surface"
           }
          ],
          "table": [
           {
            "cells": {
             "fill": {
              "color": "#EBF0F8"
             },
             "line": {
              "color": "white"
             }
            },
            "header": {
             "fill": {
              "color": "#C8D4E3"
             },
             "line": {
              "color": "white"
             }
            },
            "type": "table"
           }
          ]
         },
         "layout": {
          "annotationdefaults": {
           "arrowcolor": "#2a3f5f",
           "arrowhead": 0,
           "arrowwidth": 1
          },
          "autotypenumbers": "strict",
          "coloraxis": {
           "colorbar": {
            "outlinewidth": 0,
            "ticks": ""
           }
          },
          "colorscale": {
           "diverging": [
            [
             0,
             "#8e0152"
            ],
            [
             0.1,
             "#c51b7d"
            ],
            [
             0.2,
             "#de77ae"
            ],
            [
             0.3,
             "#f1b6da"
            ],
            [
             0.4,
             "#fde0ef"
            ],
            [
             0.5,
             "#f7f7f7"
            ],
            [
             0.6,
             "#e6f5d0"
            ],
            [
             0.7,
             "#b8e186"
            ],
            [
             0.8,
             "#7fbc41"
            ],
            [
             0.9,
             "#4d9221"
            ],
            [
             1,
             "#276419"
            ]
           ],
           "sequential": [
            [
             0,
             "#0d0887"
            ],
            [
             0.1111111111111111,
             "#46039f"
            ],
            [
             0.2222222222222222,
             "#7201a8"
            ],
            [
             0.3333333333333333,
             "#9c179e"
            ],
            [
             0.4444444444444444,
             "#bd3786"
            ],
            [
             0.5555555555555556,
             "#d8576b"
            ],
            [
             0.6666666666666666,
             "#ed7953"
            ],
            [
             0.7777777777777778,
             "#fb9f3a"
            ],
            [
             0.8888888888888888,
             "#fdca26"
            ],
            [
             1,
             "#f0f921"
            ]
           ],
           "sequentialminus": [
            [
             0,
             "#0d0887"
            ],
            [
             0.1111111111111111,
             "#46039f"
            ],
            [
             0.2222222222222222,
             "#7201a8"
            ],
            [
             0.3333333333333333,
             "#9c179e"
            ],
            [
             0.4444444444444444,
             "#bd3786"
            ],
            [
             0.5555555555555556,
             "#d8576b"
            ],
            [
             0.6666666666666666,
             "#ed7953"
            ],
            [
             0.7777777777777778,
             "#fb9f3a"
            ],
            [
             0.8888888888888888,
             "#fdca26"
            ],
            [
             1,
             "#f0f921"
            ]
           ]
          },
          "colorway": [
           "#636efa",
           "#EF553B",
           "#00cc96",
           "#ab63fa",
           "#FFA15A",
           "#19d3f3",
           "#FF6692",
           "#B6E880",
           "#FF97FF",
           "#FECB52"
          ],
          "font": {
           "color": "#2a3f5f"
          },
          "geo": {
           "bgcolor": "white",
           "lakecolor": "white",
           "landcolor": "#E5ECF6",
           "showlakes": true,
           "showland": true,
           "subunitcolor": "white"
          },
          "hoverlabel": {
           "align": "left"
          },
          "hovermode": "closest",
          "mapbox": {
           "style": "light"
          },
          "paper_bgcolor": "white",
          "plot_bgcolor": "#E5ECF6",
          "polar": {
           "angularaxis": {
            "gridcolor": "white",
            "linecolor": "white",
            "ticks": ""
           },
           "bgcolor": "#E5ECF6",
           "radialaxis": {
            "gridcolor": "white",
            "linecolor": "white",
            "ticks": ""
           }
          },
          "scene": {
           "xaxis": {
            "backgroundcolor": "#E5ECF6",
            "gridcolor": "white",
            "gridwidth": 2,
            "linecolor": "white",
            "showbackground": true,
            "ticks": "",
            "zerolinecolor": "white"
           },
           "yaxis": {
            "backgroundcolor": "#E5ECF6",
            "gridcolor": "white",
            "gridwidth": 2,
            "linecolor": "white",
            "showbackground": true,
            "ticks": "",
            "zerolinecolor": "white"
           },
           "zaxis": {
            "backgroundcolor": "#E5ECF6",
            "gridcolor": "white",
            "gridwidth": 2,
            "linecolor": "white",
            "showbackground": true,
            "ticks": "",
            "zerolinecolor": "white"
           }
          },
          "shapedefaults": {
           "line": {
            "color": "#2a3f5f"
           }
          },
          "ternary": {
           "aaxis": {
            "gridcolor": "white",
            "linecolor": "white",
            "ticks": ""
           },
           "baxis": {
            "gridcolor": "white",
            "linecolor": "white",
            "ticks": ""
           },
           "bgcolor": "#E5ECF6",
           "caxis": {
            "gridcolor": "white",
            "linecolor": "white",
            "ticks": ""
           }
          },
          "title": {
           "x": 0.05
          },
          "xaxis": {
           "automargin": true,
           "gridcolor": "white",
           "linecolor": "white",
           "ticks": "",
           "title": {
            "standoff": 15
           },
           "zerolinecolor": "white",
           "zerolinewidth": 2
          },
          "yaxis": {
           "automargin": true,
           "gridcolor": "white",
           "linecolor": "white",
           "ticks": "",
           "title": {
            "standoff": 15
           },
           "zerolinecolor": "white",
           "zerolinewidth": 2
          }
         }
        },
        "title": {
         "text": "APPO of Tested Honey Products"
        },
        "width": 700,
        "xaxis": {
         "anchor": "y",
         "domain": [
          0,
          1
         ],
         "title": {
          "text": "Product Ranking"
         }
        },
        "yaxis": {
         "anchor": "x",
         "domain": [
          0,
          1
         ],
         "title": {
          "text": "APPO"
         }
        }
       }
      }
     },
     "metadata": {},
     "output_type": "display_data"
    }
   ],
   "source": [
    "data = VisualizeData(\n",
    "    tested_df, \n",
    "    'average price per ounce', \n",
    "    \"APPO of Tested Honey Products\", \n",
    "    'Product Ranking',\n",
    "    'APPO',\n",
    "    'bar'\n",
    ")\n",
    "data.main()"
   ]
  },
  {
   "cell_type": "code",
   "execution_count": 305,
   "id": "415d635e",
   "metadata": {},
   "outputs": [
    {
     "data": {
      "application/vnd.plotly.v1+json": {
       "config": {
        "plotlyServerURL": "https://plot.ly"
       },
       "data": [
        {
         "alignmentgroup": "True",
         "hovertemplate": "Product Ranking=%{x}<br>Monthly Sales=%{y}<extra></extra>",
         "legendgroup": "",
         "marker": {
          "color": "#636efa",
          "pattern": {
           "shape": ""
          }
         },
         "name": "",
         "offsetgroup": "",
         "orientation": "v",
         "showlegend": false,
         "textposition": "auto",
         "type": "bar",
         "x": [
          "Top 5",
          "Top 15",
          "Top 25",
          "Top 50",
          "Top 100"
         ],
         "xaxis": "x",
         "y": [
          10200,
          1656.25,
          4033.33,
          null,
          null
         ],
         "yaxis": "y"
        }
       ],
       "layout": {
        "barmode": "relative",
        "height": 700,
        "legend": {
         "tracegroupgap": 0
        },
        "template": {
         "data": {
          "bar": [
           {
            "error_x": {
             "color": "#2a3f5f"
            },
            "error_y": {
             "color": "#2a3f5f"
            },
            "marker": {
             "line": {
              "color": "#E5ECF6",
              "width": 0.5
             },
             "pattern": {
              "fillmode": "overlay",
              "size": 10,
              "solidity": 0.2
             }
            },
            "type": "bar"
           }
          ],
          "barpolar": [
           {
            "marker": {
             "line": {
              "color": "#E5ECF6",
              "width": 0.5
             },
             "pattern": {
              "fillmode": "overlay",
              "size": 10,
              "solidity": 0.2
             }
            },
            "type": "barpolar"
           }
          ],
          "carpet": [
           {
            "aaxis": {
             "endlinecolor": "#2a3f5f",
             "gridcolor": "white",
             "linecolor": "white",
             "minorgridcolor": "white",
             "startlinecolor": "#2a3f5f"
            },
            "baxis": {
             "endlinecolor": "#2a3f5f",
             "gridcolor": "white",
             "linecolor": "white",
             "minorgridcolor": "white",
             "startlinecolor": "#2a3f5f"
            },
            "type": "carpet"
           }
          ],
          "choropleth": [
           {
            "colorbar": {
             "outlinewidth": 0,
             "ticks": ""
            },
            "type": "choropleth"
           }
          ],
          "contour": [
           {
            "colorbar": {
             "outlinewidth": 0,
             "ticks": ""
            },
            "colorscale": [
             [
              0,
              "#0d0887"
             ],
             [
              0.1111111111111111,
              "#46039f"
             ],
             [
              0.2222222222222222,
              "#7201a8"
             ],
             [
              0.3333333333333333,
              "#9c179e"
             ],
             [
              0.4444444444444444,
              "#bd3786"
             ],
             [
              0.5555555555555556,
              "#d8576b"
             ],
             [
              0.6666666666666666,
              "#ed7953"
             ],
             [
              0.7777777777777778,
              "#fb9f3a"
             ],
             [
              0.8888888888888888,
              "#fdca26"
             ],
             [
              1,
              "#f0f921"
             ]
            ],
            "type": "contour"
           }
          ],
          "contourcarpet": [
           {
            "colorbar": {
             "outlinewidth": 0,
             "ticks": ""
            },
            "type": "contourcarpet"
           }
          ],
          "heatmap": [
           {
            "colorbar": {
             "outlinewidth": 0,
             "ticks": ""
            },
            "colorscale": [
             [
              0,
              "#0d0887"
             ],
             [
              0.1111111111111111,
              "#46039f"
             ],
             [
              0.2222222222222222,
              "#7201a8"
             ],
             [
              0.3333333333333333,
              "#9c179e"
             ],
             [
              0.4444444444444444,
              "#bd3786"
             ],
             [
              0.5555555555555556,
              "#d8576b"
             ],
             [
              0.6666666666666666,
              "#ed7953"
             ],
             [
              0.7777777777777778,
              "#fb9f3a"
             ],
             [
              0.8888888888888888,
              "#fdca26"
             ],
             [
              1,
              "#f0f921"
             ]
            ],
            "type": "heatmap"
           }
          ],
          "heatmapgl": [
           {
            "colorbar": {
             "outlinewidth": 0,
             "ticks": ""
            },
            "colorscale": [
             [
              0,
              "#0d0887"
             ],
             [
              0.1111111111111111,
              "#46039f"
             ],
             [
              0.2222222222222222,
              "#7201a8"
             ],
             [
              0.3333333333333333,
              "#9c179e"
             ],
             [
              0.4444444444444444,
              "#bd3786"
             ],
             [
              0.5555555555555556,
              "#d8576b"
             ],
             [
              0.6666666666666666,
              "#ed7953"
             ],
             [
              0.7777777777777778,
              "#fb9f3a"
             ],
             [
              0.8888888888888888,
              "#fdca26"
             ],
             [
              1,
              "#f0f921"
             ]
            ],
            "type": "heatmapgl"
           }
          ],
          "histogram": [
           {
            "marker": {
             "pattern": {
              "fillmode": "overlay",
              "size": 10,
              "solidity": 0.2
             }
            },
            "type": "histogram"
           }
          ],
          "histogram2d": [
           {
            "colorbar": {
             "outlinewidth": 0,
             "ticks": ""
            },
            "colorscale": [
             [
              0,
              "#0d0887"
             ],
             [
              0.1111111111111111,
              "#46039f"
             ],
             [
              0.2222222222222222,
              "#7201a8"
             ],
             [
              0.3333333333333333,
              "#9c179e"
             ],
             [
              0.4444444444444444,
              "#bd3786"
             ],
             [
              0.5555555555555556,
              "#d8576b"
             ],
             [
              0.6666666666666666,
              "#ed7953"
             ],
             [
              0.7777777777777778,
              "#fb9f3a"
             ],
             [
              0.8888888888888888,
              "#fdca26"
             ],
             [
              1,
              "#f0f921"
             ]
            ],
            "type": "histogram2d"
           }
          ],
          "histogram2dcontour": [
           {
            "colorbar": {
             "outlinewidth": 0,
             "ticks": ""
            },
            "colorscale": [
             [
              0,
              "#0d0887"
             ],
             [
              0.1111111111111111,
              "#46039f"
             ],
             [
              0.2222222222222222,
              "#7201a8"
             ],
             [
              0.3333333333333333,
              "#9c179e"
             ],
             [
              0.4444444444444444,
              "#bd3786"
             ],
             [
              0.5555555555555556,
              "#d8576b"
             ],
             [
              0.6666666666666666,
              "#ed7953"
             ],
             [
              0.7777777777777778,
              "#fb9f3a"
             ],
             [
              0.8888888888888888,
              "#fdca26"
             ],
             [
              1,
              "#f0f921"
             ]
            ],
            "type": "histogram2dcontour"
           }
          ],
          "mesh3d": [
           {
            "colorbar": {
             "outlinewidth": 0,
             "ticks": ""
            },
            "type": "mesh3d"
           }
          ],
          "parcoords": [
           {
            "line": {
             "colorbar": {
              "outlinewidth": 0,
              "ticks": ""
             }
            },
            "type": "parcoords"
           }
          ],
          "pie": [
           {
            "automargin": true,
            "type": "pie"
           }
          ],
          "scatter": [
           {
            "fillpattern": {
             "fillmode": "overlay",
             "size": 10,
             "solidity": 0.2
            },
            "type": "scatter"
           }
          ],
          "scatter3d": [
           {
            "line": {
             "colorbar": {
              "outlinewidth": 0,
              "ticks": ""
             }
            },
            "marker": {
             "colorbar": {
              "outlinewidth": 0,
              "ticks": ""
             }
            },
            "type": "scatter3d"
           }
          ],
          "scattercarpet": [
           {
            "marker": {
             "colorbar": {
              "outlinewidth": 0,
              "ticks": ""
             }
            },
            "type": "scattercarpet"
           }
          ],
          "scattergeo": [
           {
            "marker": {
             "colorbar": {
              "outlinewidth": 0,
              "ticks": ""
             }
            },
            "type": "scattergeo"
           }
          ],
          "scattergl": [
           {
            "marker": {
             "colorbar": {
              "outlinewidth": 0,
              "ticks": ""
             }
            },
            "type": "scattergl"
           }
          ],
          "scattermapbox": [
           {
            "marker": {
             "colorbar": {
              "outlinewidth": 0,
              "ticks": ""
             }
            },
            "type": "scattermapbox"
           }
          ],
          "scatterpolar": [
           {
            "marker": {
             "colorbar": {
              "outlinewidth": 0,
              "ticks": ""
             }
            },
            "type": "scatterpolar"
           }
          ],
          "scatterpolargl": [
           {
            "marker": {
             "colorbar": {
              "outlinewidth": 0,
              "ticks": ""
             }
            },
            "type": "scatterpolargl"
           }
          ],
          "scatterternary": [
           {
            "marker": {
             "colorbar": {
              "outlinewidth": 0,
              "ticks": ""
             }
            },
            "type": "scatterternary"
           }
          ],
          "surface": [
           {
            "colorbar": {
             "outlinewidth": 0,
             "ticks": ""
            },
            "colorscale": [
             [
              0,
              "#0d0887"
             ],
             [
              0.1111111111111111,
              "#46039f"
             ],
             [
              0.2222222222222222,
              "#7201a8"
             ],
             [
              0.3333333333333333,
              "#9c179e"
             ],
             [
              0.4444444444444444,
              "#bd3786"
             ],
             [
              0.5555555555555556,
              "#d8576b"
             ],
             [
              0.6666666666666666,
              "#ed7953"
             ],
             [
              0.7777777777777778,
              "#fb9f3a"
             ],
             [
              0.8888888888888888,
              "#fdca26"
             ],
             [
              1,
              "#f0f921"
             ]
            ],
            "type": "surface"
           }
          ],
          "table": [
           {
            "cells": {
             "fill": {
              "color": "#EBF0F8"
             },
             "line": {
              "color": "white"
             }
            },
            "header": {
             "fill": {
              "color": "#C8D4E3"
             },
             "line": {
              "color": "white"
             }
            },
            "type": "table"
           }
          ]
         },
         "layout": {
          "annotationdefaults": {
           "arrowcolor": "#2a3f5f",
           "arrowhead": 0,
           "arrowwidth": 1
          },
          "autotypenumbers": "strict",
          "coloraxis": {
           "colorbar": {
            "outlinewidth": 0,
            "ticks": ""
           }
          },
          "colorscale": {
           "diverging": [
            [
             0,
             "#8e0152"
            ],
            [
             0.1,
             "#c51b7d"
            ],
            [
             0.2,
             "#de77ae"
            ],
            [
             0.3,
             "#f1b6da"
            ],
            [
             0.4,
             "#fde0ef"
            ],
            [
             0.5,
             "#f7f7f7"
            ],
            [
             0.6,
             "#e6f5d0"
            ],
            [
             0.7,
             "#b8e186"
            ],
            [
             0.8,
             "#7fbc41"
            ],
            [
             0.9,
             "#4d9221"
            ],
            [
             1,
             "#276419"
            ]
           ],
           "sequential": [
            [
             0,
             "#0d0887"
            ],
            [
             0.1111111111111111,
             "#46039f"
            ],
            [
             0.2222222222222222,
             "#7201a8"
            ],
            [
             0.3333333333333333,
             "#9c179e"
            ],
            [
             0.4444444444444444,
             "#bd3786"
            ],
            [
             0.5555555555555556,
             "#d8576b"
            ],
            [
             0.6666666666666666,
             "#ed7953"
            ],
            [
             0.7777777777777778,
             "#fb9f3a"
            ],
            [
             0.8888888888888888,
             "#fdca26"
            ],
            [
             1,
             "#f0f921"
            ]
           ],
           "sequentialminus": [
            [
             0,
             "#0d0887"
            ],
            [
             0.1111111111111111,
             "#46039f"
            ],
            [
             0.2222222222222222,
             "#7201a8"
            ],
            [
             0.3333333333333333,
             "#9c179e"
            ],
            [
             0.4444444444444444,
             "#bd3786"
            ],
            [
             0.5555555555555556,
             "#d8576b"
            ],
            [
             0.6666666666666666,
             "#ed7953"
            ],
            [
             0.7777777777777778,
             "#fb9f3a"
            ],
            [
             0.8888888888888888,
             "#fdca26"
            ],
            [
             1,
             "#f0f921"
            ]
           ]
          },
          "colorway": [
           "#636efa",
           "#EF553B",
           "#00cc96",
           "#ab63fa",
           "#FFA15A",
           "#19d3f3",
           "#FF6692",
           "#B6E880",
           "#FF97FF",
           "#FECB52"
          ],
          "font": {
           "color": "#2a3f5f"
          },
          "geo": {
           "bgcolor": "white",
           "lakecolor": "white",
           "landcolor": "#E5ECF6",
           "showlakes": true,
           "showland": true,
           "subunitcolor": "white"
          },
          "hoverlabel": {
           "align": "left"
          },
          "hovermode": "closest",
          "mapbox": {
           "style": "light"
          },
          "paper_bgcolor": "white",
          "plot_bgcolor": "#E5ECF6",
          "polar": {
           "angularaxis": {
            "gridcolor": "white",
            "linecolor": "white",
            "ticks": ""
           },
           "bgcolor": "#E5ECF6",
           "radialaxis": {
            "gridcolor": "white",
            "linecolor": "white",
            "ticks": ""
           }
          },
          "scene": {
           "xaxis": {
            "backgroundcolor": "#E5ECF6",
            "gridcolor": "white",
            "gridwidth": 2,
            "linecolor": "white",
            "showbackground": true,
            "ticks": "",
            "zerolinecolor": "white"
           },
           "yaxis": {
            "backgroundcolor": "#E5ECF6",
            "gridcolor": "white",
            "gridwidth": 2,
            "linecolor": "white",
            "showbackground": true,
            "ticks": "",
            "zerolinecolor": "white"
           },
           "zaxis": {
            "backgroundcolor": "#E5ECF6",
            "gridcolor": "white",
            "gridwidth": 2,
            "linecolor": "white",
            "showbackground": true,
            "ticks": "",
            "zerolinecolor": "white"
           }
          },
          "shapedefaults": {
           "line": {
            "color": "#2a3f5f"
           }
          },
          "ternary": {
           "aaxis": {
            "gridcolor": "white",
            "linecolor": "white",
            "ticks": ""
           },
           "baxis": {
            "gridcolor": "white",
            "linecolor": "white",
            "ticks": ""
           },
           "bgcolor": "#E5ECF6",
           "caxis": {
            "gridcolor": "white",
            "linecolor": "white",
            "ticks": ""
           }
          },
          "title": {
           "x": 0.05
          },
          "xaxis": {
           "automargin": true,
           "gridcolor": "white",
           "linecolor": "white",
           "ticks": "",
           "title": {
            "standoff": 15
           },
           "zerolinecolor": "white",
           "zerolinewidth": 2
          },
          "yaxis": {
           "automargin": true,
           "gridcolor": "white",
           "linecolor": "white",
           "ticks": "",
           "title": {
            "standoff": 15
           },
           "zerolinecolor": "white",
           "zerolinewidth": 2
          }
         }
        },
        "title": {
         "text": "Average Monthly Sales of Tested Honey Products"
        },
        "width": 700,
        "xaxis": {
         "anchor": "y",
         "domain": [
          0,
          1
         ],
         "title": {
          "text": "Product Ranking"
         }
        },
        "yaxis": {
         "anchor": "x",
         "domain": [
          0,
          1
         ],
         "title": {
          "text": "Monthly Sales"
         }
        }
       }
      }
     },
     "metadata": {},
     "output_type": "display_data"
    }
   ],
   "source": [
    "data = VisualizeData(\n",
    "    tested_df, \n",
    "    'average bought last month', \n",
    "    \"Average Monthly Sales of Tested Honey Products\", \n",
    "    'Product Ranking',\n",
    "    'Monthly Sales',\n",
    "    'bar'\n",
    ")\n",
    "data.main()"
   ]
  },
  {
   "cell_type": "code",
   "execution_count": 306,
   "id": "7634aaa8",
   "metadata": {},
   "outputs": [
    {
     "data": {
      "application/vnd.plotly.v1+json": {
       "config": {
        "plotlyServerURL": "https://plot.ly"
       },
       "data": [
        {
         "customdata": [
          [
           "        Nate's 100% Pure, Raw & Unfiltered Honey - Award-Winning Taste, 16 oz. Squeeze Bottle       "
          ],
          [
           "        HONEY FEAST Wildflower Honey - 6 Pounds (1/2 Gallon) Bulk Honey, All Natural, Unfiltered, Unheated Honey, Perfect for Sweetening & Baking       "
          ],
          [
           "        Nate's 100% Pure, Raw & Unfiltered Honey - Award-Winning Taste, 32oz. Squeeze Bottle       "
          ],
          [
           "        Nate's Organic 100% Pure, Raw & Unfiltered Honey - USDA Certified Organic - 16oz. Squeeze Bottle       "
          ],
          [
           "        Zeigler's Local Georgia Award Winning Honey – All Natural, Pure, Raw, & Unfiltered Georgia Honey, 32 oz Squeeze Bottle – For Tea, Yogurt, Parfaits, Toast, and Cornbread       "
          ],
          [
           "        Nate's Georgia 100% Pure, Raw & Unfiltered Honey, 32 oz. Squeeze Bottle - All-natural Sweetener       "
          ],
          [
           "        Nate's Honey Minis - Single-Serve 100% Pure, Raw & Unfiltered Honey – 0.49oz Packets, 20ct box       "
          ],
          [
           "        Nate's Florida 100% Pure, Raw & Unfiltered Honey - 32 oz. Squeeze Bottle - All-natural Sweetener       "
          ],
          [
           "        Nate's 100% Pure, Raw & Unfiltered Honey, Award-Winning Taste - 8 oz Squeeze Bottle (4 Pack)       "
          ],
          [
           "        Nate's 100% Pure, Raw & Unfiltered Honey, No-Drip Sustainable Squeeze Pouch; Purity Guarantee, No Additives, 14 Ounce       "
          ],
          [
           "        Aunt Sue’s Raw & Unfiltered Wildflower Honey, 32 Ounce (2 LB), Strained Pure Honey       "
          ],
          [
           "        Bee Harmony American Raw Wildflower Honey, 12 OZ       "
          ],
          [
           "        Beekeeper Direct Raw Unfiltered Honey - Real Raw Citrus Honey - All Natural Non-GMO Pure Gourmet Honey - Local California Orange, Grapefruit, and Lemon Honey (3lbs Squeeze Bottle)       "
          ],
          [
           "        Nate's California 100% Pure, Raw & Unfiltered Honey - 32 oz. Squeeze Bottle - All-natural Sweetener       "
          ],
          [
           "        Sue Bee Infusions Naturally Flavored Strawberry Honey, 16 Ounce Sue Bee Strawberry Infused Honey For Waffles, Toast, Salads, Made In USA       "
          ],
          [
           "        Raw Wildflower Honey - Pure, Unadulterated, Clean, Grade A Strained Honey from the Pacific Northwest (20 ounces)       "
          ],
          [
           "        Bee Harmony Berry Blossom American Raw Honey, 12 OZ Each, Pack of 2       "
          ],
          [
           "        Nate's Organic 100% Pure, Raw & Unfiltered Honey - USDA Certified Organic - 32oz. Squeeze Bottle       "
          ],
          [
           "        Akshar Ayurveda - 16 Oz Pure Honey (454 Grams) - All Natural USA Honey - Smooth & Easy to Pour, Stored in Glass Jar - Natural Superfood Ingredient for Cooking, Baking or Eating Raw       "
          ],
          [
           "        Nate's 100% Pure, Raw & Unfiltered Honey - Award-Winning Taste, 12oz. Honey Bear Bottle       "
          ],
          [
           "        Akshar Ayurveda - 8 Oz Pure Honey - All Natural USA Honey - Smooth & Easy to Pour, Stored in Glass Jar - Natural Superfood Ingredient for Cooking, Baking or Eating Raw       "
          ],
          [
           "        Aunt Sue's Raw & Unfiltered Organic Honey, 16 Ounce (1 LB) From Brazil, Strained Pure Honey       "
          ],
          [
           "        Honey Feast - Island Honey 12oz - Indulge in Raw & Unfiltered Small Batch Beekeeper's Delight       "
          ],
          [
           "        Bee Harmony Orange Blossom Raw Honey, 12 OZ (Pack of 2), from California       "
          ],
          [
           "        Banyan Botanicals Turmeric Honey – Organic Honey with Turmeric ­­and Ginger – Delicious Superfood Herbal Honey for Adults & Kids – 8.25 oz – Raw & Unfiltered, Pollinator-Friendly, Sustainably Sourced       "
          ]
         ],
         "hovertemplate": "price_per_ounce=%{x}<br>bought_last_month=%{y}<br>title=%{customdata[0]}<extra></extra>",
         "legendgroup": "",
         "marker": {
          "color": "#636efa",
          "symbol": "circle"
         },
         "mode": "markers",
         "name": "",
         "orientation": "v",
         "showlegend": false,
         "type": "scatter",
         "x": [
          0.498125,
          0.3634375,
          0.4278125,
          0.58875,
          0.5925,
          0.3740625,
          0.7112244897959182,
          0.405,
          0.624375,
          0.5650000000000001,
          0.7809375,
          0.8741666666666666,
          0.71875,
          0.445625,
          0.843125,
          1.1495,
          0.9870833333333334,
          0.5303125,
          0.999375,
          0.5616666666666666,
          1.56125,
          0.874375,
          0.8325,
          0.9870833333333334,
          4.241212121212121
         ],
         "xaxis": "x",
         "y": [
          10000,
          800,
          30000,
          10000,
          200,
          3000,
          10000,
          1000,
          600,
          50,
          600,
          700,
          null,
          200,
          100,
          50,
          null,
          10000,
          null,
          2000,
          null,
          null,
          null,
          100,
          null
         ],
         "yaxis": "y"
        }
       ],
       "layout": {
        "legend": {
         "tracegroupgap": 0
        },
        "template": {
         "data": {
          "bar": [
           {
            "error_x": {
             "color": "#2a3f5f"
            },
            "error_y": {
             "color": "#2a3f5f"
            },
            "marker": {
             "line": {
              "color": "#E5ECF6",
              "width": 0.5
             },
             "pattern": {
              "fillmode": "overlay",
              "size": 10,
              "solidity": 0.2
             }
            },
            "type": "bar"
           }
          ],
          "barpolar": [
           {
            "marker": {
             "line": {
              "color": "#E5ECF6",
              "width": 0.5
             },
             "pattern": {
              "fillmode": "overlay",
              "size": 10,
              "solidity": 0.2
             }
            },
            "type": "barpolar"
           }
          ],
          "carpet": [
           {
            "aaxis": {
             "endlinecolor": "#2a3f5f",
             "gridcolor": "white",
             "linecolor": "white",
             "minorgridcolor": "white",
             "startlinecolor": "#2a3f5f"
            },
            "baxis": {
             "endlinecolor": "#2a3f5f",
             "gridcolor": "white",
             "linecolor": "white",
             "minorgridcolor": "white",
             "startlinecolor": "#2a3f5f"
            },
            "type": "carpet"
           }
          ],
          "choropleth": [
           {
            "colorbar": {
             "outlinewidth": 0,
             "ticks": ""
            },
            "type": "choropleth"
           }
          ],
          "contour": [
           {
            "colorbar": {
             "outlinewidth": 0,
             "ticks": ""
            },
            "colorscale": [
             [
              0,
              "#0d0887"
             ],
             [
              0.1111111111111111,
              "#46039f"
             ],
             [
              0.2222222222222222,
              "#7201a8"
             ],
             [
              0.3333333333333333,
              "#9c179e"
             ],
             [
              0.4444444444444444,
              "#bd3786"
             ],
             [
              0.5555555555555556,
              "#d8576b"
             ],
             [
              0.6666666666666666,
              "#ed7953"
             ],
             [
              0.7777777777777778,
              "#fb9f3a"
             ],
             [
              0.8888888888888888,
              "#fdca26"
             ],
             [
              1,
              "#f0f921"
             ]
            ],
            "type": "contour"
           }
          ],
          "contourcarpet": [
           {
            "colorbar": {
             "outlinewidth": 0,
             "ticks": ""
            },
            "type": "contourcarpet"
           }
          ],
          "heatmap": [
           {
            "colorbar": {
             "outlinewidth": 0,
             "ticks": ""
            },
            "colorscale": [
             [
              0,
              "#0d0887"
             ],
             [
              0.1111111111111111,
              "#46039f"
             ],
             [
              0.2222222222222222,
              "#7201a8"
             ],
             [
              0.3333333333333333,
              "#9c179e"
             ],
             [
              0.4444444444444444,
              "#bd3786"
             ],
             [
              0.5555555555555556,
              "#d8576b"
             ],
             [
              0.6666666666666666,
              "#ed7953"
             ],
             [
              0.7777777777777778,
              "#fb9f3a"
             ],
             [
              0.8888888888888888,
              "#fdca26"
             ],
             [
              1,
              "#f0f921"
             ]
            ],
            "type": "heatmap"
           }
          ],
          "heatmapgl": [
           {
            "colorbar": {
             "outlinewidth": 0,
             "ticks": ""
            },
            "colorscale": [
             [
              0,
              "#0d0887"
             ],
             [
              0.1111111111111111,
              "#46039f"
             ],
             [
              0.2222222222222222,
              "#7201a8"
             ],
             [
              0.3333333333333333,
              "#9c179e"
             ],
             [
              0.4444444444444444,
              "#bd3786"
             ],
             [
              0.5555555555555556,
              "#d8576b"
             ],
             [
              0.6666666666666666,
              "#ed7953"
             ],
             [
              0.7777777777777778,
              "#fb9f3a"
             ],
             [
              0.8888888888888888,
              "#fdca26"
             ],
             [
              1,
              "#f0f921"
             ]
            ],
            "type": "heatmapgl"
           }
          ],
          "histogram": [
           {
            "marker": {
             "pattern": {
              "fillmode": "overlay",
              "size": 10,
              "solidity": 0.2
             }
            },
            "type": "histogram"
           }
          ],
          "histogram2d": [
           {
            "colorbar": {
             "outlinewidth": 0,
             "ticks": ""
            },
            "colorscale": [
             [
              0,
              "#0d0887"
             ],
             [
              0.1111111111111111,
              "#46039f"
             ],
             [
              0.2222222222222222,
              "#7201a8"
             ],
             [
              0.3333333333333333,
              "#9c179e"
             ],
             [
              0.4444444444444444,
              "#bd3786"
             ],
             [
              0.5555555555555556,
              "#d8576b"
             ],
             [
              0.6666666666666666,
              "#ed7953"
             ],
             [
              0.7777777777777778,
              "#fb9f3a"
             ],
             [
              0.8888888888888888,
              "#fdca26"
             ],
             [
              1,
              "#f0f921"
             ]
            ],
            "type": "histogram2d"
           }
          ],
          "histogram2dcontour": [
           {
            "colorbar": {
             "outlinewidth": 0,
             "ticks": ""
            },
            "colorscale": [
             [
              0,
              "#0d0887"
             ],
             [
              0.1111111111111111,
              "#46039f"
             ],
             [
              0.2222222222222222,
              "#7201a8"
             ],
             [
              0.3333333333333333,
              "#9c179e"
             ],
             [
              0.4444444444444444,
              "#bd3786"
             ],
             [
              0.5555555555555556,
              "#d8576b"
             ],
             [
              0.6666666666666666,
              "#ed7953"
             ],
             [
              0.7777777777777778,
              "#fb9f3a"
             ],
             [
              0.8888888888888888,
              "#fdca26"
             ],
             [
              1,
              "#f0f921"
             ]
            ],
            "type": "histogram2dcontour"
           }
          ],
          "mesh3d": [
           {
            "colorbar": {
             "outlinewidth": 0,
             "ticks": ""
            },
            "type": "mesh3d"
           }
          ],
          "parcoords": [
           {
            "line": {
             "colorbar": {
              "outlinewidth": 0,
              "ticks": ""
             }
            },
            "type": "parcoords"
           }
          ],
          "pie": [
           {
            "automargin": true,
            "type": "pie"
           }
          ],
          "scatter": [
           {
            "fillpattern": {
             "fillmode": "overlay",
             "size": 10,
             "solidity": 0.2
            },
            "type": "scatter"
           }
          ],
          "scatter3d": [
           {
            "line": {
             "colorbar": {
              "outlinewidth": 0,
              "ticks": ""
             }
            },
            "marker": {
             "colorbar": {
              "outlinewidth": 0,
              "ticks": ""
             }
            },
            "type": "scatter3d"
           }
          ],
          "scattercarpet": [
           {
            "marker": {
             "colorbar": {
              "outlinewidth": 0,
              "ticks": ""
             }
            },
            "type": "scattercarpet"
           }
          ],
          "scattergeo": [
           {
            "marker": {
             "colorbar": {
              "outlinewidth": 0,
              "ticks": ""
             }
            },
            "type": "scattergeo"
           }
          ],
          "scattergl": [
           {
            "marker": {
             "colorbar": {
              "outlinewidth": 0,
              "ticks": ""
             }
            },
            "type": "scattergl"
           }
          ],
          "scattermapbox": [
           {
            "marker": {
             "colorbar": {
              "outlinewidth": 0,
              "ticks": ""
             }
            },
            "type": "scattermapbox"
           }
          ],
          "scatterpolar": [
           {
            "marker": {
             "colorbar": {
              "outlinewidth": 0,
              "ticks": ""
             }
            },
            "type": "scatterpolar"
           }
          ],
          "scatterpolargl": [
           {
            "marker": {
             "colorbar": {
              "outlinewidth": 0,
              "ticks": ""
             }
            },
            "type": "scatterpolargl"
           }
          ],
          "scatterternary": [
           {
            "marker": {
             "colorbar": {
              "outlinewidth": 0,
              "ticks": ""
             }
            },
            "type": "scatterternary"
           }
          ],
          "surface": [
           {
            "colorbar": {
             "outlinewidth": 0,
             "ticks": ""
            },
            "colorscale": [
             [
              0,
              "#0d0887"
             ],
             [
              0.1111111111111111,
              "#46039f"
             ],
             [
              0.2222222222222222,
              "#7201a8"
             ],
             [
              0.3333333333333333,
              "#9c179e"
             ],
             [
              0.4444444444444444,
              "#bd3786"
             ],
             [
              0.5555555555555556,
              "#d8576b"
             ],
             [
              0.6666666666666666,
              "#ed7953"
             ],
             [
              0.7777777777777778,
              "#fb9f3a"
             ],
             [
              0.8888888888888888,
              "#fdca26"
             ],
             [
              1,
              "#f0f921"
             ]
            ],
            "type": "surface"
           }
          ],
          "table": [
           {
            "cells": {
             "fill": {
              "color": "#EBF0F8"
             },
             "line": {
              "color": "white"
             }
            },
            "header": {
             "fill": {
              "color": "#C8D4E3"
             },
             "line": {
              "color": "white"
             }
            },
            "type": "table"
           }
          ]
         },
         "layout": {
          "annotationdefaults": {
           "arrowcolor": "#2a3f5f",
           "arrowhead": 0,
           "arrowwidth": 1
          },
          "autotypenumbers": "strict",
          "coloraxis": {
           "colorbar": {
            "outlinewidth": 0,
            "ticks": ""
           }
          },
          "colorscale": {
           "diverging": [
            [
             0,
             "#8e0152"
            ],
            [
             0.1,
             "#c51b7d"
            ],
            [
             0.2,
             "#de77ae"
            ],
            [
             0.3,
             "#f1b6da"
            ],
            [
             0.4,
             "#fde0ef"
            ],
            [
             0.5,
             "#f7f7f7"
            ],
            [
             0.6,
             "#e6f5d0"
            ],
            [
             0.7,
             "#b8e186"
            ],
            [
             0.8,
             "#7fbc41"
            ],
            [
             0.9,
             "#4d9221"
            ],
            [
             1,
             "#276419"
            ]
           ],
           "sequential": [
            [
             0,
             "#0d0887"
            ],
            [
             0.1111111111111111,
             "#46039f"
            ],
            [
             0.2222222222222222,
             "#7201a8"
            ],
            [
             0.3333333333333333,
             "#9c179e"
            ],
            [
             0.4444444444444444,
             "#bd3786"
            ],
            [
             0.5555555555555556,
             "#d8576b"
            ],
            [
             0.6666666666666666,
             "#ed7953"
            ],
            [
             0.7777777777777778,
             "#fb9f3a"
            ],
            [
             0.8888888888888888,
             "#fdca26"
            ],
            [
             1,
             "#f0f921"
            ]
           ],
           "sequentialminus": [
            [
             0,
             "#0d0887"
            ],
            [
             0.1111111111111111,
             "#46039f"
            ],
            [
             0.2222222222222222,
             "#7201a8"
            ],
            [
             0.3333333333333333,
             "#9c179e"
            ],
            [
             0.4444444444444444,
             "#bd3786"
            ],
            [
             0.5555555555555556,
             "#d8576b"
            ],
            [
             0.6666666666666666,
             "#ed7953"
            ],
            [
             0.7777777777777778,
             "#fb9f3a"
            ],
            [
             0.8888888888888888,
             "#fdca26"
            ],
            [
             1,
             "#f0f921"
            ]
           ]
          },
          "colorway": [
           "#636efa",
           "#EF553B",
           "#00cc96",
           "#ab63fa",
           "#FFA15A",
           "#19d3f3",
           "#FF6692",
           "#B6E880",
           "#FF97FF",
           "#FECB52"
          ],
          "font": {
           "color": "#2a3f5f"
          },
          "geo": {
           "bgcolor": "white",
           "lakecolor": "white",
           "landcolor": "#E5ECF6",
           "showlakes": true,
           "showland": true,
           "subunitcolor": "white"
          },
          "hoverlabel": {
           "align": "left"
          },
          "hovermode": "closest",
          "mapbox": {
           "style": "light"
          },
          "paper_bgcolor": "white",
          "plot_bgcolor": "#E5ECF6",
          "polar": {
           "angularaxis": {
            "gridcolor": "white",
            "linecolor": "white",
            "ticks": ""
           },
           "bgcolor": "#E5ECF6",
           "radialaxis": {
            "gridcolor": "white",
            "linecolor": "white",
            "ticks": ""
           }
          },
          "scene": {
           "xaxis": {
            "backgroundcolor": "#E5ECF6",
            "gridcolor": "white",
            "gridwidth": 2,
            "linecolor": "white",
            "showbackground": true,
            "ticks": "",
            "zerolinecolor": "white"
           },
           "yaxis": {
            "backgroundcolor": "#E5ECF6",
            "gridcolor": "white",
            "gridwidth": 2,
            "linecolor": "white",
            "showbackground": true,
            "ticks": "",
            "zerolinecolor": "white"
           },
           "zaxis": {
            "backgroundcolor": "#E5ECF6",
            "gridcolor": "white",
            "gridwidth": 2,
            "linecolor": "white",
            "showbackground": true,
            "ticks": "",
            "zerolinecolor": "white"
           }
          },
          "shapedefaults": {
           "line": {
            "color": "#2a3f5f"
           }
          },
          "ternary": {
           "aaxis": {
            "gridcolor": "white",
            "linecolor": "white",
            "ticks": ""
           },
           "baxis": {
            "gridcolor": "white",
            "linecolor": "white",
            "ticks": ""
           },
           "bgcolor": "#E5ECF6",
           "caxis": {
            "gridcolor": "white",
            "linecolor": "white",
            "ticks": ""
           }
          },
          "title": {
           "x": 0.05
          },
          "xaxis": {
           "automargin": true,
           "gridcolor": "white",
           "linecolor": "white",
           "ticks": "",
           "title": {
            "standoff": 15
           },
           "zerolinecolor": "white",
           "zerolinewidth": 2
          },
          "yaxis": {
           "automargin": true,
           "gridcolor": "white",
           "linecolor": "white",
           "ticks": "",
           "title": {
            "standoff": 15
           },
           "zerolinecolor": "white",
           "zerolinewidth": 2
          }
         }
        },
        "title": {
         "text": "Comparison of Most Reviewed Products and Price"
        },
        "xaxis": {
         "anchor": "y",
         "domain": [
          0,
          1
         ],
         "title": {
          "text": "price_per_ounce"
         }
        },
        "yaxis": {
         "anchor": "x",
         "domain": [
          0,
          1
         ],
         "title": {
          "text": "bought_last_month"
         }
        }
       }
      }
     },
     "metadata": {},
     "output_type": "display_data"
    }
   ],
   "source": [
    "# Scatter plot to show the relationship between reviews & Price \n",
    "fig = px.scatter(\n",
    "    tested_df, y=\"bought_last_month\", x=\"price_per_ounce\", \n",
    "    title=\"Comparison of Most Reviewed Products and Price\",\n",
    "    hover_data=['title', 'bought_last_month', 'price_per_ounce']\n",
    ")\n",
    "fig.show()"
   ]
  },
  {
   "cell_type": "markdown",
   "id": "92b5d536",
   "metadata": {},
   "source": [
    "### Natural Language Processing Analysis"
   ]
  },
  {
   "cell_type": "markdown",
   "id": "8ef45087",
   "metadata": {},
   "source": [
    "The internet utilizes search engines to sift through the river of information and find similar products to what the person initially searched. Analyzing the words used by competitors in their listing title and description will give Baron Honey Co. insight in determining what key words should be included in their product listing."
   ]
  },
  {
   "cell_type": "code",
   "execution_count": 307,
   "id": "c7b39e8a",
   "metadata": {},
   "outputs": [
    {
     "data": {
      "text/plain": [
       "{'honey': 1.0,\n",
       " 'Raw Unfiltered': 0.55,\n",
       " 'Organic': 0.36,\n",
       " 'sweetener': 0.32,\n",
       " 'Nate Pure': 0.27,\n",
       " 'purity guarantee': 0.27,\n",
       " 'natural': 0.23,\n",
       " 'Nate': 0.18,\n",
       " 'nature': 0.18,\n",
       " 'ingredient': 0.18,\n",
       " 'add': 0.18,\n",
       " 'bottle': 0.18,\n",
       " 'provide': 0.18,\n",
       " 'care': 0.18,\n",
       " 'precision': 0.18,\n",
       " 'make': 0.18,\n",
       " 'BEST': 0.18,\n",
       " 'blend': 0.18,\n",
       " 'crafted': 0.18,\n",
       " 'nature intended': 0.18,\n",
       " 'Every bottle': 0.18,\n",
       " 'uphold strict': 0.18,\n",
       " 'strict testing': 0.18,\n",
       " 'testing standards': 0.18,\n",
       " 'unmatched level': 0.18}"
      ]
     },
     "execution_count": 307,
     "metadata": {},
     "output_type": "execute_result"
    }
   ],
   "source": [
    "# Instantiate an object to create the word cloud \n",
    "wordcloud = WordCloud(\n",
    "    background_color='white',\n",
    "    max_words=25,\n",
    "    height=600,\n",
    "    width=400\n",
    ")\n",
    "\n",
    "# Get the description of top 5 most sold products \n",
    "description = most_bought['product_description'][:5].dropna()\n",
    "\n",
    "# Create a word cloud \n",
    "wordcloud.generate(' '.join(description))\n",
    "\n",
    "# # Save the word cloud as a png \n",
    "# wordcloud.to_file('wordcloud.png')\n",
    "\n",
    "# Save the generated words to a variable \n",
    "wc_words = wordcloud.words_\n",
    "\n",
    "# Iterate the words and round them to two decimals places \n",
    "wc_words = {key: round(value, 2) for key, value in wc_words.items()}\n",
    "wc_words"
   ]
  },
  {
   "cell_type": "code",
   "execution_count": 308,
   "id": "61759270",
   "metadata": {},
   "outputs": [],
   "source": [
    "# Get products that are within 10% of 63 cents PPO \n",
    "popular_cluster = most_bought[(most_bought['price_per_ounce'] > 0.50) & (most_bought['price_per_ounce'] < 0.70)]\n",
    "\n",
    "# Get the description of competitors & drop any null values \n",
    "description_cluster = popular_cluster['product_description'][:10].dropna()"
   ]
  },
  {
   "cell_type": "code",
   "execution_count": 309,
   "id": "81826e3e",
   "metadata": {},
   "outputs": [
    {
     "data": {
      "text/plain": [
       "{'honey': 1.0,\n",
       " 'natural': 0.33,\n",
       " 'organic': 0.28,\n",
       " 'raw': 0.28,\n",
       " 'Raw Unfiltered': 0.19,\n",
       " 'unfiltered honey': 0.19,\n",
       " 'Pure': 0.18,\n",
       " 'flavor': 0.18,\n",
       " 'bottle': 0.16,\n",
       " 'sweetener': 0.14,\n",
       " 'taste': 0.12,\n",
       " 'Georgia': 0.11,\n",
       " 'bee': 0.09,\n",
       " 'gift': 0.09,\n",
       " 'add': 0.07,\n",
       " 'best': 0.07,\n",
       " 'care': 0.07,\n",
       " 'make': 0.07,\n",
       " 'Enjoy': 0.07,\n",
       " 'tea': 0.07,\n",
       " 'yogurt': 0.07,\n",
       " 'vitamins': 0.07,\n",
       " 'enzymes': 0.07,\n",
       " 'rich': 0.07,\n",
       " 'bowl': 0.07}"
      ]
     },
     "execution_count": 309,
     "metadata": {},
     "output_type": "execute_result"
    }
   ],
   "source": [
    "# Instantiate an object to create the word cloud \n",
    "wordcloud_cluster = WordCloud(\n",
    "    background_color='white',\n",
    "    max_words=25,\n",
    "    height=600,\n",
    "    width=400\n",
    ")\n",
    "\n",
    "# Generate a word cloud based on the description \n",
    "wordcloud_cluster.generate(' '.join(description_cluster))\n",
    "\n",
    "# Save the generated words to a variable \n",
    "cluster_words = wordcloud_cluster.words_\n",
    "# Iterate the words and round them to two decimals places \n",
    "cluster_words = {key: round(value, 2) for key, value in cluster_words.items()}\n",
    "cluster_words"
   ]
  },
  {
   "cell_type": "markdown",
   "id": "cd191446",
   "metadata": {},
   "source": [
    "## Recommendations "
   ]
  },
  {
   "cell_type": "markdown",
   "id": "9480dddb",
   "metadata": {},
   "source": [
    "- To make Baron Honey Co. competitive with other popular products on the market, the pricing should be: \n",
    "    - 8 oz jar: 0.73 cents per oz \n",
    "    - 16 oz jar: 0.63 cents per oz \n",
    "    - 32 oz jar: 0.59 cents per oz \n",
    "- Honey stock inventory should have a distribution of 50% 16oz jars, 25% 32oz jars, 25% 8oz jars. Once brand reputation is established the focus should shift to 50% 32oz jars to accomodate repeat customers. \n",
    "- Lower all possible costs, such as shipping, transportation, storage to get APPO price close to 50 cents. This will allow Baron Honey Co. to compete with the top 5 best selling honey products on price and Baron Honey will have the advantage with taste.   \n",
    "- Test Baron Honey's raw honey to understand where it stands on the medicinal rating scale compared to Manuka and other honey products. \n",
    "    - If the honey is highly rated it can then be advertised as such and the price per ounce increased substantially. \n",
    "- To overcome the high initial shipping costs a single serving product should be offered. \n",
    "    - This will increase margins and tap into a new market of long distance athletes, strength athletes, and parents wanting to give their children healthy sweets \n",
    "- Title and description should describe our honey as:\n",
    "    - \"Raw Unfiltered\" \n",
    "    - \"Sweetener\" \n",
    "    - \"Pure\"\n",
    "    - \"Best tasting\"\n",
    "    - \"As Nature Intended\"  "
   ]
  }
 ],
 "metadata": {
  "kernelspec": {
   "display_name": "Python 3",
   "language": "python",
   "name": "python3"
  },
  "language_info": {
   "codemirror_mode": {
    "name": "ipython",
    "version": 3
   },
   "file_extension": ".py",
   "mimetype": "text/x-python",
   "name": "python",
   "nbconvert_exporter": "python",
   "pygments_lexer": "ipython3",
   "version": "3.12.1"
  }
 },
 "nbformat": 4,
 "nbformat_minor": 5
}
