{
 "cells": [
  {
   "cell_type": "code",
   "execution_count": 1,
   "id": "8fa8e9f1",
   "metadata": {},
   "outputs": [],
   "source": [
    "import requests\n",
    "from bs4 import BeautifulSoup\n"
   ]
  },
  {
   "cell_type": "code",
   "execution_count": 2,
   "id": "a9cf142e",
   "metadata": {},
   "outputs": [],
   "source": [
    "HEADERS = {\n",
    "    \"Accept\" : \"*/*\", \n",
    "    \"Accept-Encoding\": \"gzip, deflate, br, zstd\",\n",
    "    \"Accept-Language\": \"en-US,en;q=0.6\",\n",
    "    \"User-Agent\": \"Mozilla/5.0 (Windows NT 10.0; Win64; x64; rv:140.0) Gecko/20100101 Firefox/140.0\",\n",
    "    \"Referer\": \"https://www.amazon.com/\",\n",
    "    \"Connection\": \"keep-alive\",\n",
    "    # \"Cookie\": f\"{COOKIE}\",\n",
    "}"
   ]
  },
  {
   "cell_type": "code",
   "execution_count": null,
   "id": "ea4cdb5c",
   "metadata": {},
   "outputs": [
    {
     "data": {
      "text/plain": [
       "<Response [503]>"
      ]
     },
     "execution_count": 3,
     "metadata": {},
     "output_type": "execute_result"
    }
   ],
   "source": [
    "session = requests.Session()\n",
    "# session.get(\"https://www.amazon.com\")"
   ]
  },
  {
   "cell_type": "code",
   "execution_count": null,
   "id": "4d02a98b",
   "metadata": {},
   "outputs": [],
   "source": [
    "url = \"https://www.amazon.com/dp/B0CW25PQY6\""
   ]
  },
  {
   "cell_type": "code",
   "execution_count": null,
   "id": "2a4068ba",
   "metadata": {},
   "outputs": [],
   "source": [
    "response = session.get(url, headers = HEADERS)\n",
    "soup = BeautifulSoup(response.text, \"html.parser\")"
   ]
  },
  {
   "cell_type": "code",
   "execution_count": 14,
   "id": "09edd112",
   "metadata": {},
   "outputs": [
    {
     "name": "stdout",
     "output_type": "stream",
     "text": [
      "{\"data\":{\"productsSearch\":[{\"groupedBy\":\"NONE\",\"brandName\":\"kroger\",\"description\":\"kroger® clover honey bear\",\"subCommodityCode\":[\"0101400001\"],\"personalized\":false,\"relevanceScore\":28.7,\"searchEngineRank\":1,\"upc\":\"0001111086170\"},{\"groupedBy\":\"NONE\",\"brandName\":\"simple truth\",\"description\":\"simple truth organic™ honey\",\"subCommodityCode\":[\"0101400001\",\"1801200008\"],\"personalized\":false,\"relevanceScore\":24.2137,\"searchEngineRank\":2,\"upc\":\"0001111085437\"},{\"groupedBy\":\"NONE\",\"brandName\":\"simple truth organic\",\"description\":\"simple truth organic® unfiltered raw honey\",\"subCommodityCode\":[\"0101400001\",\"1801200008\"],\"personalized\":false,\"relevanceScore\":21.137558,\"searchEngineRank\":3,\"upc\":\"0001111087978\"},{\"groupedBy\":\"NONE\",\"brandName\":\"carmichael’s honey\",\"description\":\"carmichael's™ 100% pure & raw unfiltered honey\",\"subCommodityCode\":[\"0101400001\",\"1801200008\"],\"personalized\":false,\"relevanceScore\":18.73705,\"searchEngineRank\":4,\"upc\":\"0085136100533\"},{\"groupedBy\":\"NONE\",\"brandName\":\"smart way\",\"description\":\"smart way™ honey\",\"subCommodityCode\":[\"0101400001\"],\"personalized\":false,\"relevanceScore\":18.207615,\"searchEngineRank\":5,\"upc\":\"0001111012316\"},{\"groupedBy\":\"NONE\",\"brandName\":\"carmichael’s honey\",\"description\":\"carmichael’s™ organic honey\",\"subCommodityCode\":[\"0101400001\",\"1801200008\"],\"personalized\":false,\"relevanceScore\":17.9604,\"searchEngineRank\":6,\"upc\":\"0085136100578\"},{\"groupedBy\":\"NONE\",\"brandName\":\"carmichael’s honey\",\"description\":\"carmichael’s honey™ organic raw & unfiltered honey\",\"subCommodityCode\":[\"0101400001\",\"1801200008\"],\"personalized\":false,\"relevanceScore\":17.865223,\"searchEngineRank\":7,\"upc\":\"0085136100577\"},{\"groupedBy\":\"NONE\",\"brandName\":\"kroger\",\"description\":\"kroger® clover honey\",\"subCommodityCode\":[\"0101400001\"],\"personalized\":false,\"relevanceScore\":17.507107,\"searchEngineRank\":8,\"upc\":\"0001111086175\"},{\"groupedBy\":\"6000000000074908\",\"brandName\":\"nature nate's\",\"description\":\"nature nate's® 100% pure raw & unfiltered honey\",\"subCommodityCode\":[\"0101400001\"],\"personalized\":false,\"relevanceScore\":17.507107,\"searchEngineRank\":9,\"upc\":\"0003877883016\"},{\"groupedBy\":\"6000000000074909\",\"brandName\":\"nature nate's\",\"description\":\"nature nate's® 100% pure organic raw & unfiltered honey\",\"subCommodityCode\":[\"0101400001\",\"1801200008\"],\"personalized\":false,\"relevanceScore\":17.368523,\"searchEngineRank\":10,\"upc\":\"0003877861016\"},{\"groupedBy\":\"NONE\",\"brandName\":\"simple truth\",\"description\":\"simple truth® raw honey manuka monofloral\",\"subCommodityCode\":[\"0101400001\",\"1801200008\"],\"personalized\":false,\"relevanceScore\":17.345678,\"searchEngineRank\":11,\"upc\":\"0001111009185\"},{\"groupedBy\":\"NONE\",\"brandName\":\"local hive\",\"description\":\"local hive™ 100% raw & unfiltered us wildflower honey\",\"subCommodityCode\":[\"0101400001\"],\"personalized\":false,\"relevanceScore\":16.848476,\"searchEngineRank\":18,\"upc\":\"0007500223024\",\"placementId\":\"KO_gcp-us-east1_8f756df4-8313-443e-876f-40558356d33e\"},{\"groupedBy\":\"NONE\",\"brandName\":\"kelley's honey\",\"description\":\"kelley's honey raw & unfiltered local texas honey\",\"subCommodityCode\":[\"0101400001\"],\"personalized\":false,\"relevanceScore\":17.31472,\"searchEngineRank\":12,\"upc\":\"0069824600024\"},{\"groupedBy\":\"6000000000074909\",\"brandName\":\"nature nate's\",\"description\":\"nature nate's® 100% organic raw & unfiltered honey\",\"subCommodityCode\":[\"0101400001\",\"1801200008\"],\"personalized\":false,\"relevanceScore\":17.299994,\"searchEngineRank\":13,\"upc\":\"0003877861032\"},{\"groupedBy\":\"NONE\",\"brandName\":\"kroger\",\"description\":\"kroger® clover honey bear\",\"subCommodityCode\":[\"0101400001\"],\"personalized\":false,\"relevanceScore\":17.065483,\"searchEngineRank\":14,\"upc\":\"0001111086181\"},{\"groupedBy\":\"NONE\",\"brandName\":\"local hive\",\"description\":\"local hive™ 100% raw & unfiltered us clover honey\",\"subCommodityCode\":[\"0101400001\"],\"personalized\":false,\"relevanceScore\":16.787563,\"searchEngineRank\":20,\"upc\":\"0007500222048\",\"placementId\":\"KO_gcp-us-east1_1a605c49-fa3c-4a93-b48d-859e7589ad01\"},{\"groupedBy\":\"6000000000074908\",\"brandName\":\"nature nate's\",\"description\":\"nature nate's® 100% pure raw & unfiltered honey\",\"subCommodityCode\":[\"0101400001\"],\"personalized\":false,\"relevanceScore\":16.93604,\"searchEngineRank\":15,\"upc\":\"0003877883013\"},{\"groupedBy\":\"NONE\",\"brandName\":\"kroger\",\"description\":\"kroger® clover honey\",\"subCommodityCode\":[\"0101400001\"],\"personalized\":false,\"relevanceScore\":16.886547,\"searchEngineRank\":16,\"upc\":\"0001111086182\"},{\"groupedBy\":\"NONE\",\"brandName\":\"aunt sue's\",\"description\":\"aunt sue's® raw & unfiltered pure wildflower honey\",\"subCommodityCode\":[\"0101400001\"],\"personalized\":false,\"relevanceScore\":16.863705,\"searchEngineRank\":17,\"upc\":\"0001870000020\"},{\"groupedBy\":\"6000000000074908\",\"brandName\":\"nature nate's\",\"description\":\"nature nate's® 100% pure raw & unfiltered honey\",\"subCommodityCode\":[\"0101400001\"],\"personalized\":false,\"relevanceScore\":16.810406,\"searchEngineRank\":19,\"upc\":\"0003877883032\"},{\"groupedBy\":\"NONE\",\"brandName\":\"private selection\",\"description\":\"private selection® raw honey wildflower\",\"subCommodityCode\":[\"0101400001\"],\"personalized\":false,\"relevanceScore\":16.760914,\"searchEngineRank\":21,\"upc\":\"0001111084378\"},{\"groupedBy\":\"NONE\",\"brandName\":\"kroger\",\"description\":\"kroger® whipped clover honey\",\"subCommodityCode\":[\"0101400001\"],\"personalized\":false,\"relevanceScore\":16.745686,\"searchEngineRank\":22,\"upc\":\"0001111083889\"},{\"groupedBy\":\"NONE\",\"brandName\":\"private selection\",\"description\":\"private selection® raw honey clover\",\"subCommodityCode\":[\"0101400001\"],\"personalized\":false,\"relevanceScore\":16.741879,\"searchEngineRank\":23,\"upc\":\"0001111084386\"},{\"groupedBy\":\"NONE\",\"brandName\":\"busy bee\",\"description\":\"busy bee® raw honey bear\",\"subCommodityCode\":[\"0101400001\"],\"personalized\":false,\"relevanceScore\":16.738071,\"searchEngineRank\":24,\"upc\":\"0007329918002\"}]},\"meta\":{\"productsSearch\":{\"page\":{\"offset\":0,\"size\":50,\"hasMore\":false},\"sort\":[],\"totalCount\":673,\"promotions\":[],\"searchConfigurationId\":\"ha_default_svs_orb\",\"searchWorkflow\":\"Heuristic\",\"id\":\"ddfda389-0c67-4a31-aa1c-96b3b1649a75\",\"availableCount\":250,\"facets\":{\"priceRange\":[{\"name\":\"Price Range\",\"minPrice\":0.5,\"maxPrice\":33.99}],\"fulfillmentMethods\":[{\"name\":\"Pickup\",\"slug\":\"pickup\"}],\"moreOptions\":[]}}}}\n"
     ]
    }
   ],
   "source": [
    "import requests\n",
    "\n",
    "url = \"https://www.kroger.com/atlas/v1/search/v1/products-search?filter.query=honey&filter.fulfillmentMethods=IN_STORE&filter.fulfillmentMethods=PICKUP&filter.fulfillmentMethods=DELIVERY&page.size=50\"\n",
    "\n",
    "headers = {\n",
    "  'User-Agent': 'Mozilla/5.0 (Windows NT 10.0; Win64; x64; rv:140.0) Gecko/20100101 Firefox/140.0',\n",
    "  'Accept': 'application/json, text/plain, */*',\n",
    "  'Accept-Language': 'en-US,en;q=0.5',\n",
    "  'Accept-Encoding': 'gzip, deflate, br, zstd',\n",
    "  'X-AB-Test': '[{\"testID\":\"5e3a72\",\"testOrigin\":\"d3\",\"testVersion\":\"A\"},{\"testID\":\"a37eed\",\"testOrigin\":\"a8\",\"testVersion\":\"B\"},{\"testID\":\"5388ca\",\"testOrigin\":\"cb\",\"testVersion\":\"B\"},{\"testID\":\"a86cff\",\"testOrigin\":\"fb\",\"testVersion\":\"B\"},{\"testID\":\"75976e\",\"testOrigin\":\"89\",\"testVersion\":\"A\"},{\"testID\":\"bef652\",\"testOrigin\":\"b1\",\"testVersion\":\"A\"}]',\n",
    "  'X-Kroger-Channel': 'WEB',\n",
    "  'x-laf-object': '[{\"modality\":{\"type\":\"PICKUP\",\"handoffLocation\":{\"storeId\":\"03400375\",\"facilityId\":\"14258\"},\"handoffAddress\":{\"address\":{\"addressLines\":[\"11565 S Highway 6\"],\"cityTown\":\"Sugar Land\",\"name\":\"West Airport\",\"postalCode\":\"77498\",\"stateProvince\":\"TX\",\"residential\":false,\"countryCode\":\"US\"},\"location\":{\"lat\":29.6479694,\"lng\":-95.6494359}}},\"sources\":[{\"storeId\":\"03400375\",\"facilityId\":\"14258\"}],\"assortmentKeys\":[\"03400375\"],\"listingKeys\":[\"03400375\"]}]',\n",
    "  'x-dtpc': '41$262547948_437h38vUIGLFCLKRPGPUHRGSNNICPJQOUCTUOIC-0e0',\n",
    "  'x-dtreferer': 'https://www.kroger.com/search?query=honey&',\n",
    "  'Connection': 'keep-alive',\n",
    "  'Referer': 'https://www.kroger.com/search?query=honey&page=2',\n",
    "  'Cookie': '_abck=80CFDF62AB551F43DA998B1417E4E31A~-1~YAAQbcpNF4+fzK+XAQAA2lc61w6c1mJgdE2sVDP3e2yZuFppxVYa03X/hh1vBsFc9ujfS14ACUSk4SMFYcze5MqdtDnZF/Tg+qlpR06T/MePV1qIbBc1qVNBO/kOTtdu7SBT/Mqu9UQd9txcgPkJGhejA+QCDWRXF/7CqtiDmplQDpjmbUCgXISX9m3UlK9QgK2dz0XzXw5UsQ45N47CPhnjcQW54nldtObbrgzdPZrb9FtcFDo8JzAhG6HY5sj5BgP6FNxwWR0t0lqUdHxRZ5O1fGhMHs1y/ns82OP65p67N0BFCozgpnQcveZFNGcqrLjWtdjZRogTsPITCtr31gfMVutXH9wSTAJa3zgyTveLwvRq3cE0wXXXWqPk3u8cq+TfrRNfcz/ud/LLbrb933D6wo0J3MpSZ3y8dXNkn7vyOTdM25Vw4rF+1sjCsDVXv9iOGKETl2+lnEJlQCVyVV2ft5PxmV+mg+Q56+WImZynrAKvjANpm2MFJFNq5liFbQPVB/y3jn7cw7Ns1PySk478mundRP3tlUJhhoR+2wzVGbXBWKyTObGjd/AFYVA9oIM6DsYhI22Ki3FxrT4O8v3qGsod/YMD+zkDXLIDXBGSYA2KXIOjyNVVz+hQuzWZL+SxzFvwMPeXWCjB+zbyRJw1rBblnKsvcFa/gY1W9ZctJblmiOL3cV6uKHW8OhX8pYQfX43A3LtqPZXte6+Vzl0PgmUvU7jrBk3xvjUdhj4V2TM4/CKyf+amBR8UigB3ZyRYgjxVUgtOPU28tbFYJnp+TdRSEJrOuFggIghPrH9Bd38NLE12sSCNs44fWo64kIoMF38DpDKrQbujVhuQTcHkcVPoPcuaYZA1esWTr+ekmDVxwoNUT88dW9gBgL2VE0Arpfd1lQv6msnqzgOIMaP4DWZxDbXvT4m1EwKtaQBo8/yDuU7npCqtgG1MBWYT2UUZoSW6TlmPOmKK16o9VSI=~-1~-1~1751666146; s_ecid=MCMID%7C15958755977817203438482478641497459934; x-active-modality={\"type\":\"PICKUP\",\"locationId\":\"03400375\",\"source\":\"FALLBACK_ACTIVE_MODALITY_COOKIE\",\"createdDate\":1748704783702}; dtCookie=v_4_srv_41_sn_0EEC15BCFD96BCEBC502DB5793A17B18_perc_100000_ol_0_mul_1_app-3A81222ad3b2deb1ef_1_rcs-3Acss_0; sid=08de5513-d70f-37ca-aa6c-63e0744251b5; akaalb_KT_Digital_BannerSites=~op=KT_Digital_BannerSites_KCVG_Weighted:cdc|KT_Digital_BannerSites_KCVG:hdc|KT_Digital_BannerSites_Legacy:kcvg|~rv=62~m=cdc:0|hdc:0|kcvg:0|~os=49d9e32c4b6129ccff2e66f9d0390271~id=0a38e6fbf18e9ffb28c6bde3ceffed33; dtSa=-; firstPageViewTriggered=false; AMCVS_371C27E253DB0F910A490D4E%40AdobeOrg=1; rxvt=1751664416456|1751662547952; dtPC=41$262547948_437h38vUIGLFCLKRPGPUHRGSNNICPJQOUCTUOIC-0e0; s_sq=krgrglobalprod%3D%2526pid%253Dhttps%25253A%25252F%25252Fwww.kroger.com%25252F%2526oid%253Dfunction%252528%252529%25257B%25255Bnativecode%25255D%25257D%2526oidt%253D2%2526ot%253DSUBMIT%26krgrmobileprod%3D%2526pid%253Dhttps%25253A%25252F%25252Fwww.kroger.com%25252F%2526oid%253Dfunction%252528%252529%25257B%25255Bnativecode%25255D%25257D%2526oidt%253D2%2526ot%253DSUBMIT; serverFlavor=never; origin=lvdc; abTest=d2_01d5d1_A; pid=d7e389a3-5360-d566-75cd-287e538a6739; AKA_A2=A; bm_ss=ab8e18ef4e; bm_s=YAAQbcpNF1mczK+XAQAA+ls51wP2EgizyWt9W7SzVTqVVQiRFsiKgAusgXxdQrZAb9XtUOngtDOqpbEwJUlaxoTJgZxbGLINGLBTFXOisSgFEIgjNtGWXsmbSvd53YKq6WkVsq8YR3g+Ndypliq58sQFh3LHeLbHePBkp+UkB4BBsJ/B9mQnjukIwu8EetfiqnlMjA4gXuR+J8Qeau8aoXczwoVc6km0za0JGfOjpXHxfRahMxVslmd6SxsvfDWKM6HoSewdaf34ADUxdy6UIueEGDA+wIECuQ2FQv+uPGGWGF0csalc322gjAnDBZfKeT5ccNV5hsAJ6VgbBu8R4omlgXq3kfWwTUlHO6/93q21SzFywXALoqsOLqM4aJwbr8jZQyyDRhiCRTBNw46lsvnTp/psz1k/w+qxCTecoH0F2OV4dliDObQJ0NV3A3d3UDVh8RRJ7e0YdK8cLJ5iZfZ6HhBuwmcFgS8dHWoGX20F+X4Yxx1P6RizB844aa4DJVGKIfgUSNp7S4H1JQ/ncIMFhuN257kevOHSU4TSPtdg9JH5+l487EeD/yK0XiEBBVSJAowCwOY=; bm_so=F07B285917891403DD7B176C945D58B5BD73EED22549F472FC93393DF31C1D0B~YAAQbcpNFxCczK+XAQAAaks51wQp+EkEwHCde6clUmL7EYX6rPtLlXpmxHvmS6uqE0XPRsc+CeEKSxskxYYXl7HFtitBQ2Fse83dX1feXftXB9HaiaX6Uhj+N44iZvZeiswaaYERKrFShPdNgVcSxiZH3/cIFYbPSCPAg9WMMpgXOOARYGyCa4PHVv6tpYuW0hg3948YWFFBfHXVZiSFxGlAGjr/OwGT9kJdCmrIKUpcrqS+Jd3cG/OKVFOY3vnStsRVz6Pv6RWASqtkeHxmur5AUHRwSdKwunGRIUZRwuvb3tjCLjaYFTelOPS84Tl+CYed9a9rdjMmGU6brWATdwRVKQHnJ9C4FmXGDpv/0/BCAx0sq7V8Zl2au4anBF19k1GkYX6KpZ8p2wfAs/Fng5aLyV/xw3PeJVPZ9BJzp/eTZqzW12rlx/ODKoNzDbUWJPJIzuADduqQXvl87B58; bm_sz=5565DDD26540E613D017B4DCF6A10D8E~YAAQbcpNFz+czK+XAQAAUFI51xzGvrMZUGZiLa3ZI6aGSXMuDcdW0s11pZpxuB1QPmsU/UnEH7H6BQcKCJZuM3K+FnCWkSdLQgkJd/ypPmfa3UHvgiu37R8ORSXsWwOdv+V+zwv09d5xLjWuk+myXVZw3AS6V3cFBpZcn5vYv5PXaMGEGLHfq9QVjdClWlrRIRokG5loZH8EYYy7xbDBKE0bPWZZqu+Da+bwjF/ajA8kEzrxy6mcFr+KMO61P1dE1OVVOrUVtSyak/AE+ehbZzD5LH0dAYX44Z03vpkAu22SFljdWrv20y99dS/Kn58dG/9g1hYsx+qak+1OiRRRxUEh5xJDN59vi/YpP1dh90sm3UmDA9KOsf6iBmvMWMjMFAI+Wf8axnMPvCpwU3vFlgcvYgytrG8KS7g6kwFLt2xgHQ==~3616834~3225153; rxVisitor=17487047853198CQAF3I2RRNR7UEUQEKBD3TAJ4CE050P; ak_bmsc=5889E7AD2B0043F1B50127D20505AFC6~000000000000000000000000000000~YAAQbcpNF0mczK+XAQAAZ1U51xyRN6qGUIeu2koRxXfD6HnlS6Vc92bRS5k8cauk1C5QcSW9tBn5tR1h2WXjWkqHjH56JZ5VS4f8hp8F1K+1AL/KM8nyRdPTc/8zOFSX1tKQptfrYh/9KzkTYdl6j9u9OpzHrOBrV96KP4zi5NnqHmEhIsD4cCMuZXITAIo5jI/P9Sg0XPDQmGFtTKrfgH1lnk3xr41sqqWn3ntvPeYV6PYMotb4MZl+astEkoDBnjoIt7Hn3PTP9rqZuOyOxO2XI/+VGCaoVGhKQbkwKJYnKmXgyDi2NN30fiyQOmlHWV3kLxckWCnq0iZv1Cca8uaXqckUX/BXMltrloOU4hL6OnKMuf81tdT3lSAEXtn05KwlnnzM94mmHqMBqd9lWd9T2JwObVcsTnMvEQAi/irVm7qdoKsWM9f9VXA8BqVVutdcXte2wviWJBIcHA==; AMCV_371C27E253DB0F910A490D4E%40AdobeOrg=179643557%7CMCMID%7C15958755977817203438482478641497459934%7CMCIDTS%7C20274%7CMCAID%7CNONE%7CMCOPTOUT-1751669801s%7CNONE%7CvVersion%7C5.5.0; bm_lso=F07B285917891403DD7B176C945D58B5BD73EED22549F472FC93393DF31C1D0B~YAAQbcpNFxCczK+XAQAAaks51wQp+EkEwHCde6clUmL7EYX6rPtLlXpmxHvmS6uqE0XPRsc+CeEKSxskxYYXl7HFtitBQ2Fse83dX1feXftXB9HaiaX6Uhj+N44iZvZeiswaaYERKrFShPdNgVcSxiZH3/cIFYbPSCPAg9WMMpgXOOARYGyCa4PHVv6tpYuW0hg3948YWFFBfHXVZiSFxGlAGjr/OwGT9kJdCmrIKUpcrqS+Jd3cG/OKVFOY3vnStsRVz6Pv6RWASqtkeHxmur5AUHRwSdKwunGRIUZRwuvb3tjCLjaYFTelOPS84Tl+CYed9a9rdjMmGU6brWATdwRVKQHnJ9C4FmXGDpv/0/BCAx0sq7V8Zl2au4anBF19k1GkYX6KpZ8p2wfAs/Fng5aLyV/xw3PeJVPZ9BJzp/eTZqzW12rlx/ODKoNzDbUWJPJIzuADduqQXvl87B58^1751662548530; bm_sv=F13F7D8D39AE34149EE8A9C83D2585B7~YAAQbcpNF3uczK+XAQAAoWk51xxSFSslMbmi+4+Jv9ZIWrrZB69nAXW3/2Uf2NwVlQoLn0nCm8NCyYCUgUOLG6o5cVqryQVAEHRMhVPEZ9KbIhROVbveJVH6h2OyBt06cj7SoSSgVYVWmGaH9hxGF4ay9Y060KY7UcNhGRmY88qD/Adql1RUrMIcLlOk3eSkh1MPgA4F7brA/ebwrlbprCUqOf4gCpQyOfE8WdPifNhA0PqkVV4jP8y83L+xBYz1gw==~1; DD_guid=null; DD_modStore=03400375; _fbp=fb.1.1751662549730.1474588137; OptanonConsent=isGpcEnabled=1&datestamp=Fri+Jul+04+2025+15%3A55%3A50+GMT-0500+(Central+Daylight+Time)&version=202505.2.0&hosts=&groups=BG1355%3A0%2CC0004%3A0%2CBG1356%3A0%2CC0001%3A1%2CC0003%3A0%2CC0002%3A0%2CBG1357%3A0%2CC0008%3A0%2CBG1455%3A0%2CC0009%3A0; gpcBanner=true; _abck=80CFDF62AB551F43DA998B1417E4E31A~-1~YAAQi2zNF3RA/q2XAQAAHOM71w7mY2IkQLUPFuZkFSM5D5Xih2/AZwWlB7uXTITtCc2VNQu3rXJ/p0Sti4Sznq3rnrR0JH4lMrdbIachslAUoK/2NQB+GiC+II/0oA9XDfx9UMb3ep25lHLH0hT2q7gjCOzO2qT/npNbClWaOWjLD7E1fGZ1lU2IuJwRHLNyZW9FFIT3DJnRxto90BPsvfO2OZwgpUNOBAzRiVRiaUh2Lp6UfFeqrwePoKv7zHSIIrWLMuclnPOSK4hqwNGU9Qf8nY5Upkt43hE9WiZKpaAJoc5wrK7XB3HbQEWhaVYB5QGm0BxanzQRFrljsX8Ky5ubkyNBTR76foFG42BvK+FVxdZdq+HHYnSKoqmO3BF79q/PSzz8yzy0PiaSJJePSPrQhS5WhVoiS8Fk04d0aKD/R75+Q89zwr5auu20P67gLb2eAjPe7xO5mUkZGpiNEWH4Yh26EQlitLWndMMWrCU5xfxmNngb/0HA8WxChPCGqyQls0dqxUHbEyTkqkiCks3sY4SYyoun3Q3Of9eL2XnVSCl3Kyhny+aBikdkOFeJWjhmILPQ5Im9sVPX7Jq58DbqaqPoJbWXDlqzjtdlNXpFEZsJ0nL/EJyrUNxn/cC9Afq+CjR2SCnFAWEYhFpHIrZDKQqIbwEL8M98NjUlM9QU8JUUzJHBo6BJubdUN6FNBFH9LPTsbEnv2fLwV0cXoSN5X6K2vh6Yls8THf7yBBEk/hOn0nFhsml1Ynv2xlOcaA1YdzFdGReAQHLKRaNTm4yWwSeU9X7D21q73oLUsHit/fXNjTuOztQo+1WzHH3V8HiRSiIju7RhCnvtmfns92y9cxagIPeFUyn1JHWPXY49N5sJHL9TEfqksyC3CWEHVz9Xy88c/lCM9naX1JyGVyfljm53e8kPPCb/33MSXIJBepwrET4M/panao6XJ4LyqyeaDcO76LBbUNp/UT44NP/bUznUf0YwVxlLv93ClhPXg/Zgf5dI7p2hYoHX/GGP1yUu/b7KFAT85SuSx1z2NvpN~0~-1~1751666146; bm_s=YAAQi2zNF+Ex/q2XAQAAvxI71wPzlNI3ieH6gfSCnGrJ5S2PfSEof+6RI/wpHcqb1Na5NlhQu/kgq7QkEjjy7Bf1UrqBqKJV1cuxT4IFrSymOxaU+TMl7cB82LB/MIMTd34wjJE7RAfu8w37UoG5csuY6kVpcWUNXDqiK/OnVshPHdU5pJISyIovaiskdy/81EvFG2GCdTxw0wjf1i5IDoFppTTcdWOcc313FPozK3JgGwo9ljKqEqd8hsB1tGewelr2+gA/hfzKdJB+4Qc5EMBRfvIXwGAHbvEEoXJqfKqrzDEBDxtbVQ9ArI3bYtXEK6MgieXt8Qq7jBXs08Pw0P0Tem/eDWRFh6FyVbD/NnQpdN8O+rH1sqAdb8DWzzgjdCxxkK8xPjq2I/hWTgC7HtMKse/ZDWM1W7rZ+aY/aq2bXD66PCWe8sv6aq5TnIeJQjSXwlwscTIp9kfRx45cZC8Qj57qdCaYlyNJKUVxoxFwRFSSC0yW8D/MP5oEWePSTnDV3tPlYsCKRj2cwM5UkW1lrZ+pkdvjYwDlqhb0oqBYNTf18EuYhzCemnY9vIpwwOJp99JWRmo=; bm_sv=F13F7D8D39AE34149EE8A9C83D2585B7~YAAQi2zNF3VA/q2XAQAAHOM71xy7rACiIXupb8y7gwWoMFEj//KSk0GotLx7akCJpJe5vgB2/LBU7ddRx02DDILuCCFas5IfDtO0wVkWBsNz7w9qA9HZg1hnoh9WwAo7ll6Cw7oC0Vm7+K2jmM1KqqEFTJO6Wnn06itt4KarpBDi94ULWKt+YC2yvXnYNzfBXKPnxmbojqwsdNy1duliAAlg5SR2tPWwOelP9OdftbsEmO68iXbQG+V1JryoraTl1g==~1; bm_sz=5565DDD26540E613D017B4DCF6A10D8E~YAAQi2zNF3ZA/q2XAQAAHOM71xwJ9o1J74qx/PeEqv/0qVAEhfjD/rYTSr+Nv/lM3qDiLzc2r4YWO6lnIymeOSE5Y2D1qzwx/CxewjpmxDbXFQKgOnd9zUGqFOnxHJqG+PXpDcZx7GNYIFZtuDMoWsJIpEP6SPUlFzbn6pAp+QsPC4TuItOydgVUw9Qdq81rhNbJKfM3XmxrWfEUfS7HobYV0ybdh/W0gruNKZVXnbTZFXESKminUdX35yEG9SsSIqoJJE0i0mvk38IJWEIGNgbB6SFe4ahubhjWMlYS+571Xpl9gqVDpTQXKiOWzFZ1fTMGS8YSXNZKpj9/dqGa6N3MyQZ4jy7VXB/JEAE+820dHEYjzJLvJZSuJgI1hzyRZtR3X+e5FQ89g1WP65SkheJm6edK7s91BqrR2lsemF4JkhOf1gX+JWrEbg==~3616834~3225153',\n",
    "  'Sec-Fetch-Dest': 'empty',\n",
    "  'Sec-Fetch-Mode': 'cors',\n",
    "  'Sec-Fetch-Site': 'same-origin',\n",
    "  'Sec-GPC': '1',\n",
    "  'Priority': 'u=0',\n",
    "  'TE': 'trailers'\n",
    "}\n",
    "\n",
    "response = requests.request(\"GET\", url, headers=headers)\n",
    "\n",
    "print(response.text)\n"
   ]
  },
  {
   "cell_type": "code",
   "execution_count": 1,
   "id": "56c93b79",
   "metadata": {},
   "outputs": [],
   "source": [
    "import requests\n",
    "import json\n",
    "\n",
    "def get_product_upcs():\n",
    "    url = \"https://www.kroger.com/atlas/v1/search/v1/products-search?filter.query=honey&filter.fulfillmentMethods=IN_STORE&filter.fulfillmentMethods=PICKUP&filter.fulfillmentMethods=DELIVERY&page.size=50\"\n",
    "\n",
    "    headers = {\n",
    "        'User-Agent': 'Mozilla/5.0 (Windows NT 10.0; Win64; x64; rv:140.0) Gecko/20100101 Firefox/140.0',\n",
    "        'Accept': 'application/json, text/plain, */*',\n",
    "        'Accept-Language': 'en-US,en;q=0.5',\n",
    "        'Accept-Encoding': 'gzip, deflate, br, zstd',\n",
    "        'X-AB-Test': '[{\"testID\":\"5e3a72\",\"testOrigin\":\"d3\",\"testVersion\":\"A\"},{\"testID\":\"a37eed\",\"testOrigin\":\"a8\",\"testVersion\":\"B\"},{\"testID\":\"5388ca\",\"testOrigin\":\"cb\",\"testVersion\":\"B\"},{\"testID\":\"a86cff\",\"testOrigin\":\"fb\",\"testVersion\":\"B\"},{\"testID\":\"75976e\",\"testOrigin\":\"89\",\"testVersion\":\"A\"},{\"testID\":\"bef652\",\"testOrigin\":\"b1\",\"testVersion\":\"A\"}]',\n",
    "        'X-Kroger-Channel': 'WEB',\n",
    "        'x-laf-object': '[{\"modality\":{\"type\":\"PICKUP\",\"handoffLocation\":{\"storeId\":\"03400375\",\"facilityId\":\"14258\"},\"handoffAddress\":{\"address\":{\"addressLines\":[\"11565 S Highway 6\"],\"cityTown\":\"Sugar Land\",\"name\":\"West Airport\",\"postalCode\":\"77498\",\"stateProvince\":\"TX\",\"residential\":false,\"countryCode\":\"US\"},\"location\":{\"lat\":29.6479694,\"lng\":-95.6494359}}},\"sources\":[{\"storeId\":\"03400375\",\"facilityId\":\"14258\"}],\"assortmentKeys\":[\"03400375\"],\"listingKeys\":[\"03400375\"]}]',\n",
    "        'x-dtpc': '41$262547948_437h38vUIGLFCLKRPGPUHRGSNNICPJQOUCTUOIC-0e0',\n",
    "        'x-dtreferer': 'https://www.kroger.com/search?query=honey&',\n",
    "        'Connection': 'keep-alive',\n",
    "        'Referer': 'https://www.kroger.com/search?query=honey&page=2',\n",
    "        'Cookie': '_abck=80CFDF62AB551F43DA998B1417E4E31A~-1~YAAQbcpNF4+fzK+XAQAA2lc61w6c1mJgdE2sVDP3e2yZuFppxVYa03X/hh1vBsFc9ujfS14ACUSk4SMFYcze5MqdtDnZF/Tg+qlpR06T/MePV1qIbBc1qVNBO/kOTtdu7SBT/Mqu9UQd9txcgPkJGhejA+QCDWRXF/7CqtiDmplQDpjmbUCgXISX9m3UlK9QgK2dz0XzXw5UsQ45N47CPhnjcQW54nldtObbrgzdPZrb9FtcFDo8JzAhG6HY5sj5BgP6FNxwWR0t0lqUdHxRZ5O1fGhMHs1y/ns82OP65p67N0BFCozgpnQcveZFNGcqrLjWtdjZRogTsPITCtr31gfMVutXH9wSTAJa3zgyTveLwvRq3cE0wXXXWqPk3u8cq+TfrRNfcz/ud/LLbrb933D6wo0J3MpSZ3y8dXNkn7vyOTdM25Vw4rF+1sjCsDVXv9iOGKETl2+lnEJlQCVyVV2ft5PxmV+mg+Q56+WImZynrAKvjANpm2MFJFNq5liFbQPVB/y3jn7cw7Ns1PySk478mundRP3tlUJhhoR+2wzVGbXBWKyTObGjd/AFYVA9oIM6DsYhI22Ki3FxrT4O8v3qGsod/YMD+zkDXLIDXBGSYA2KXIOjyNVVz+hQuzWZL+SxzFvwMPeXWCjB+zbyRJw1rBblnKsvcFa/gY1W9ZctJblmiOL3cV6uKHW8OhX8pYQfX43A3LtqPZXte6+Vzl0PgmUvU7jrBk3xvjUdhj4V2TM4/CKyf+amBR8UigB3ZyRYgjxVUgtOPU28tbFYJnp+TdRSEJrOuFggIghPrH9Bd38NLE12sSCNs44fWo64kIoMF38DpDKrQbujVhuQTcHkcVPoPcuaYZA1esWTr+ekmDVxwoNUT88dW9gBgL2VE0Arpfd1lQv6msnqzgOIMaP4DWZxDbXvT4m1EwKtaQBo8/yDuU7npCqtgG1MBWYT2UUZoSW6TlmPOmKK16o9VSI=~-1~-1~1751666146; s_ecid=MCMID%7C15958755977817203438482478641497459934; x-active-modality={\"type\":\"PICKUP\",\"locationId\":\"03400375\",\"source\":\"FALLBACK_ACTIVE_MODALITY_COOKIE\",\"createdDate\":1748704783702}; dtCookie=v_4_srv_41_sn_0EEC15BCFD96BCEBC502DB5793A17B18_perc_100000_ol_0_mul_1_app-3A81222ad3b2deb1ef_1_rcs-3Acss_0; sid=08de5513-d70f-37ca-aa6c-63e0744251b5; akaalb_KT_Digital_BannerSites=~op=KT_Digital_BannerSites_KCVG_Weighted:cdc|KT_Digital_BannerSites_KCVG:hdc|KT_Digital_BannerSites_Legacy:kcvg|~rv=62~m=cdc:0|hdc:0|kcvg:0|~os=49d9e32c4b6129ccff2e66f9d0390271~id=0a38e6fbf18e9ffb28c6bde3ceffed33; dtSa=-; firstPageViewTriggered=false; AMCVS_371C27E253DB0F910A490D4E%40AdobeOrg=1; rxvt=1751664416456|1751662547952; dtPC=41$262547948_437h38vUIGLFCLKRPGPUHRGSNNICPJQOUCTUOIC-0e0; s_sq=krgrglobalprod%3D%2526pid%253Dhttps%25253A%25252F%25252Fwww.kroger.com%25252F%2526oid%253Dfunction%252528%252529%25257B%25255Bnativecode%25255D%25257D%2526oidt%253D2%2526ot%253DSUBMIT%26krgrmobileprod%3D%2526pid%253Dhttps%25253A%25252F%25252Fwww.kroger.com%25252F%2526oid%253Dfunction%252528%252529%25257B%25255Bnativecode%25255D%25257D%2526oidt%253D2%2526ot%253DSUBMIT; serverFlavor=never; origin=lvdc; abTest=d2_01d5d1_A; pid=d7e389a3-5360-d566-75cd-287e538a6739; AKA_A2=A; bm_ss=ab8e18ef4e; bm_s=YAAQbcpNF1mczK+XAQAA+ls51wP2EgizyWt9W7SzVTqVVQiRFsiKgAusgXxdQrZAb9XtUOngtDOqpbEwJUlaxoTJgZxbGLINGLBTFXOisSgFEIgjNtGWXsmbSvd53YKq6WkVsq8YR3g+Ndypliq58sQFh3LHeLbHePBkp+UkB4BBsJ/B9mQnjukIwu8EetfiqnlMjA4gXuR+J8Qeau8aoXczwoVc6km0za0JGfOjpXHxfRahMxVslmd6SxsvfDWKM6HoSewdaf34ADUxdy6UIueEGDA+wIECuQ2FQv+uPGGWGF0csalc322gjAnDBZfKeT5ccNV5hsAJ6VgbBu8R4omlgXq3kfWwTUlHO6/93q21SzFywXALoqsOLqM4aJwbr8jZQyyDRhiCRTBNw46lsvnTp/psz1k/w+qxCTecoH0F2OV4dliDObQJ0NV3A3d3UDVh8RRJ7e0YdK8cLJ5iZfZ6HhBuwmcFgS8dHWoGX20F+X4Yxx1P6RizB844aa4DJVGKIfgUSNp7S4H1JQ/ncIMFhuN257kevOHSU4TSPtdg9JH5+l487EeD/yK0XiEBBVSJAowCwOY=; bm_so=F07B285917891403DD7B176C945D58B5BD73EED22549F472FC93393DF31C1D0B~YAAQbcpNFxCczK+XAQAAaks51wQp+EkEwHCde6clUmL7EYX6rPtLlXpmxHvmS6uqE0XPRsc+CeEKSxskxYYXl7HFtitBQ2Fse83dX1feXftXB9HaiaX6Uhj+N44iZvZeiswaaYERKrFShPdNgVcSxiZH3/cIFYbPSCPAg9WMMpgXOOARYGyCa4PHVv6tpYuW0hg3948YWFFBfHXVZiSFxGlAGjr/OwGT9kJdCmrIKUpcrqS+Jd3cG/OKVFOY3vnStsRVz6Pv6RWASqtkeHxmur5AUHRwSdKwunGRIUZRwuvb3tjCLjaYFTelOPS84Tl+CYed9a9rdjMmGU6brWATdwRVKQHnJ9C4FmXGDpv/0/BCAx0sq7V8Zl2au4anBF19k1GkYX6KpZ8p2wfAs/Fng5aLyV/xw3PeJVPZ9BJzp/eTZqzW12rlx/ODKoNzDbUWJPJIzuADduqQXvl87B58; bm_sz=5565DDD26540E613D017B4DCF6A10D8E~YAAQbcpNFz+czK+XAQAAUFI51xzGvrMZUGZiLa3ZI6aGSXMuDcdW0s11pZpxuB1QPmsU/UnEH7H6BQcKCJZuM3K+FnCWkSdLQgkJd/ypPmfa3UHvgiu37R8ORSXsWwOdv+V+zwv09d5xLjWuk+myXVZw3AS6V3cFBpZcn5vYv5PXaMGEGLHfq9QVjdClWlrRIRokG5loZH8EYYy7xbDBKE0bPWZZqu+Da+bwjF/ajA8kEzrxy6mcFr+KMO61P1dE1OVVOrUVtSyak/AE+ehbZzD5LH0dAYX44Z03vpkAu22SFljdWrv20y99dS/Kn58dG/9g1hYsx+qak+1OiRRRxUEh5xJDN59vi/YpP1dh90sm3UmDA9KOsf6iBmvMWMjMFAI+Wf8axnMPvCpwU3vFlgcvYgytrG8KS7g6kwFLt2xgHQ==~3616834~3225153; rxVisitor=17487047853198CQAF3I2RRNR7UEUQEKBD3TAJ4CE050P; ak_bmsc=5889E7AD2B0043F1B50127D20505AFC6~000000000000000000000000000000~YAAQbcpNF0mczK+XAQAAZ1U51xyRN6qGUIeu2koRxXfD6HnlS6Vc92bRS5k8cauk1C5QcSW9tBn5tR1h2WXjWkqHjH56JZ5VS4f8hp8F1K+1AL/KM8nyRdPTc/8zOFSX1tKQptfrYh/9KzkTYdl6j9u9OpzHrOBrV96KP4zi5NnqHmEhIsD4cCMuZXITAIo5jI/P9Sg0XPDQmGFtTKrfgH1lnk3xr41sqqWn3ntvPeYV6PYMotb4MZl+astEkoDBnjoIt7Hn3PTP9rqZuOyOxO2XI/+VGCaoVGhKQbkwKJYnKmXgyDi2NN30fiyQOmlHWV3kLxckWCnq0iZv1Cca8uaXqckUX/BXMltrloOU4hL6OnKMuf81tdT3lSAEXtn05KwlnnzM94mmHqMBqd9lWd9T2JwObVcsTnMvEQAi/irVm7qdoKsWM9f9VXA8BqVVutdcXte2wviWJBIcHA==; AMCV_371C27E253DB0F910A490D4E%40AdobeOrg=179643557%7CMCMID%7C15958755977817203438482478641497459934%7CMCIDTS%7C20274%7CMCAID%7CNONE%7CMCOPTOUT-1751669801s%7CNONE%7CvVersion%7C5.5.0; bm_lso=F07B285917891403DD7B176C945D58B5BD73EED22549F472FC93393DF31C1D0B~YAAQbcpNFxCczK+XAQAAaks51wQp+EkEwHCde6clUmL7EYX6rPtLlXpmxHvmS6uqE0XPRsc+CeEKSxskxYYXl7HFtitBQ2Fse83dX1feXftXB9HaiaX6Uhj+N44iZvZeiswaaYERKrFShPdNgVcSxiZH3/cIFYbPSCPAg9WMMpgXOOARYGyCa4PHVv6tpYuW0hg3948YWFFBfHXVZiSFxGlAGjr/OwGT9kJdCmrIKUpcrqS+Jd3cG/OKVFOY3vnStsRVz6Pv6RWASqtkeHxmur5AUHRwSdKwunGRIUZRwuvb3tjCLjaYFTelOPS84Tl+CYed9a9rdjMmGU6brWATdwRVKQHnJ9C4FmXGDpv/0/BCAx0sq7V8Zl2au4anBF19k1GkYX6KpZ8p2wfAs/Fng5aLyV/xw3PeJVPZ9BJzp/eTZqzW12rlx/ODKoNzDbUWJPJIzuADduqQXvl87B58^1751662548530; bm_sv=F13F7D8D39AE34149EE8A9C83D2585B7~YAAQbcpNF3uczK+XAQAAoWk51xxSFSslMbmi+4+Jv9ZIWrrZB69nAXW3/2Uf2NwVlQoLn0nCm8NCyYCUgUOLG6o5cVqryQVAEHRMhVPEZ9KbIhROVbveJVH6h2OyBt06cj7SoSSgVYVWmGaH9hxGF4ay9Y060KY7UcNhGRmY88qD/Adql1RUrMIcLlOk3eSkh1MPgA4F7brA/ebwrlbprCUqOf4gCpQyOfE8WdPifNhA0PqkVV4jP8y83L+xBYz1gw==~1; DD_guid=null; DD_modStore=03400375; _fbp=fb.1.1751662549730.1474588137; OptanonConsent=isGpcEnabled=1&datestamp=Fri+Jul+04+2025+15%3A55%3A50+GMT-0500+(Central+Daylight+Time)&version=202505.2.0&hosts=&groups=BG1355%3A0%2CC0004%3A0%2CBG1356%3A0%2CC0001%3A1%2CC0003%3A0%2CC0002%3A0%2CBG1357%3A0%2CC0008%3A0%2CBG1455%3A0%2CC0009%3A0; gpcBanner=true; _abck=80CFDF62AB551F43DA998B1417E4E31A~-1~YAAQi2zNF3RA/q2XAQAAHOM71w7mY2IkQLUPFuZkFSM5D5Xih2/AZwWlB7uXTITtCc2VNQu3rXJ/p0Sti4Sznq3rnrR0JH4lMrdbIachslAUoK/2NQB+GiC+II/0oA9XDfx9UMb3ep25lHLH0hT2q7gjCOzO2qT/npNbClWaOWjLD7E1fGZ1lU2IuJwRHLNyZW9FFIT3DJnRxto90BPsvfO2OZwgpUNOBAzRiVRiaUh2Lp6UfFeqrwePoKv7zHSIIrWLMuclnPOSK4hqwNGU9Qf8nY5Upkt43hE9WiZKpaAJoc5wrK7XB3HbQEWhaVYB5QGm0BxanzQRFrljsX8Ky5ubkyNBTR76foFG42BvK+FVxdZdq+HHYnSKoqmO3BF79q/PSzz8yzy0PiaSJJePSPrQhS5WhVoiS8Fk04d0aKD/R75+Q89zwr5auu20P67gLb2eAjPe7xO5mUkZGpiNEWH4Yh26EQlitLWndMMWrCU5xfxmNngb/0HA8WxChPCGqyQls0dqxUHbEyTkqkiCks3sY4SYyoun3Q3Of9eL2XnVSCl3Kyhny+aBikdkOFeJWjhmILPQ5Im9sVPX7Jq58DbqaqPoJbWXDlqzjtdlNXpFEZsJ0nL/EJyrUNxn/cC9Afq+CjR2SCnFAWEYhFpHIrZDKQqIbwEL8M98NjUlM9QU8JUUzJHBo6BJubdUN6FNBFH9LPTsbEnv2fLwV0cXoSN5X6K2vh6Yls8THf7yBBEk/hOn0nFhsml1Ynv2xlOcaA1YdzFdGReAQHLKRaNTm4yWwSeU9X7D21q73oLUsHit/fXNjTuOztQo+1WzHH3V8HiRSiIju7RhCnvtmfns92y9cxagIPeFUyn1JHWPXY49N5sJHL9TEfqksyC3CWEHVz9Xy88c/lCM9naX1JyGVyfljm53e8kPPCb/33MSXIJBepwrET4M/panao6XJ4LyqyeaDcO76LBbUNp/UT44NP/bUznUf0YwVxlLv93ClhPXg/Zgf5dI7p2hYoHX/GGP1yUu/b7KFAT85SuSx1z2NvpN~0~-1~1751666146; bm_s=YAAQi2zNF+Ex/q2XAQAAvxI71wPzlNI3ieH6gfSCnGrJ5S2PfSEof+6RI/wpHcqb1Na5NlhQu/kgq7QkEjjy7Bf1UrqBqKJV1cuxT4IFrSymOxaU+TMl7cB82LB/MIMTd34wjJE7RAfu8w37UoG5csuY6kVpcWUNXDqiK/OnVshPHdU5pJISyIovaiskdy/81EvFG2GCdTxw0wjf1i5IDoFppTTcdWOcc313FPozK3JgGwo9ljKqEqd8hsB1tGewelr2+gA/hfzKdJB+4Qc5EMBRfvIXwGAHbvEEoXJqfKqrzDEBDxtbVQ9ArI3bYtXEK6MgieXt8Qq7jBXs08Pw0P0Tem/eDWRFh6FyVbD/NnQpdN8O+rH1sqAdb8DWzzgjdCxxkK8xPjq2I/hWTgC7HtMKse/ZDWM1W7rZ+aY/aq2bXD66PCWe8sv6aq5TnIeJQjSXwlwscTIp9kfRx45cZC8Qj57qdCaYlyNJKUVxoxFwRFSSC0yW8D/MP5oEWePSTnDV3tPlYsCKRj2cwM5UkW1lrZ+pkdvjYwDlqhb0oqBYNTf18EuYhzCemnY9vIpwwOJp99JWRmo=; bm_sv=F13F7D8D39AE34149EE8A9C83D2585B7~YAAQi2zNF3VA/q2XAQAAHOM71xy7rACiIXupb8y7gwWoMFEj//KSk0GotLx7akCJpJe5vgB2/LBU7ddRx02DDILuCCFas5IfDtO0wVkWBsNz7w9qA9HZg1hnoh9WwAo7ll6Cw7oC0Vm7+K2jmM1KqqEFTJO6Wnn06itt4KarpBDi94ULWKt+YC2yvXnYNzfBXKPnxmbojqwsdNy1duliAAlg5SR2tPWwOelP9OdftbsEmO68iXbQG+V1JryoraTl1g==~1; bm_sz=5565DDD26540E613D017B4DCF6A10D8E~YAAQi2zNF3ZA/q2XAQAAHOM71xwJ9o1J74qx/PeEqv/0qVAEhfjD/rYTSr+Nv/lM3qDiLzc2r4YWO6lnIymeOSE5Y2D1qzwx/CxewjpmxDbXFQKgOnd9zUGqFOnxHJqG+PXpDcZx7GNYIFZtuDMoWsJIpEP6SPUlFzbn6pAp+QsPC4TuItOydgVUw9Qdq81rhNbJKfM3XmxrWfEUfS7HobYV0ybdh/W0gruNKZVXnbTZFXESKminUdX35yEG9SsSIqoJJE0i0mvk38IJWEIGNgbB6SFe4ahubhjWMlYS+571Xpl9gqVDpTQXKiOWzFZ1fTMGS8YSXNZKpj9/dqGa6N3MyQZ4jy7VXB/JEAE+820dHEYjzJLvJZSuJgI1hzyRZtR3X+e5FQ89g1WP65SkheJm6edK7s91BqrR2lsemF4JkhOf1gX+JWrEbg==~3616834~3225153',\n",
    "        'Sec-Fetch-Dest': 'empty',\n",
    "        'Sec-Fetch-Mode': 'cors',\n",
    "        'Sec-Fetch-Site': 'same-origin',\n",
    "        'Sec-GPC': '1',\n",
    "        'Priority': 'u=0',\n",
    "        'TE': 'trailers'\n",
    "    }\n",
    "\n",
    "    response = requests.request(\"GET\", url, headers=headers)\n",
    "\n",
    "    data = json.loads(response.text)\n",
    "\n",
    "    base_path = data['data']['productsSearch']\n",
    "    print(base_path)\n",
    "\n",
    "    # product_len = len(base_path)\n",
    "\n",
    "    # product_upcs = []\n",
    "\n",
    "    # for i in range(0,product_len):\n",
    "    #     upc = base_path[i][\"upc\"] \n",
    "    #     product_upcs.append(upc)\n",
    "\n",
    "    # return product_upcs"
   ]
  },
  {
   "cell_type": "code",
   "execution_count": null,
   "id": "f3b8f551",
   "metadata": {},
   "outputs": [],
   "source": [
    "prod = get_product_upcs()\n",
    "print(prod)"
   ]
  },
  {
   "cell_type": "code",
   "execution_count": null,
   "id": "9cc7e496",
   "metadata": {},
   "outputs": [],
   "source": [
    "def get_product_data(product_upcs: list[str]):\n",
    "    url = \"https://www.kroger.com/atlas/v1/product/v2/products?filter.gtin13s=0073753919358&filter.gtin13s=0089266400102&filter.gtin13s=0001111086170&filter.gtin13s=0073753919120&filter.gtin13s=0001111085437&filter.gtin13s=0089266400104&filter.gtin13s=0001111087978&filter.gtin13s=0007218800213&filter.gtin13s=0073753919001&filter.gtin13s=0001111012316&filter.gtin13s=0085136100533&filter.gtin13s=0007500223024&filter.gtin13s=0003877883016&filter.gtin13s=0085136100578&filter.gtin13s=0001111086175&filter.gtin13s=0069824600024&filter.gtin13s=0003877883013&filter.gtin13s=0003877861016&filter.gtin13s=0003877861032&filter.gtin13s=0007500222048&filter.gtin13s=0085136100577&filter.gtin13s=0001111086181&filter.gtin13s=0001111086182&filter.gtin13s=0001111009185&filter.gtin13s=0001251189416&filter.gtin13s=0001870000020&filter.gtin13s=0003877883032&filter.gtin13s=0001111009184&filter.verified=true&projections=items.full%2Coffers.compact%2Cnutrition.label%2CvariantGroupings.compact\"\n",
    "\n",
    "    for i in range(len(product_upcs)/28):\n",
    "        url = f\"https://www.kroger.com/atlas/v1/product/v2/products?filter.gtin13s={i}&filter.gtin13s={i}&filter.gtin13s={i}&filter.gtin13s={i}&filter.gtin13s={i}&filter.gtin13s={i}&filter.gtin13s={i}&filter.gtin13s={i}&filter.gtin13s={i}&filter.gtin13s={i}&filter.gtin13s={i}&filter.gtin13s={i}&filter.gtin13s={i}&filter.gtin13s={i}&filter.gtin13s={i}&filter.gtin13s={i}&filter.gtin13s={i}&filter.gtin13s={i}&filter.gtin13s={i}&filter.gtin13s={i}&filter.gtin13s={i}&filter.gtin13s={i}&filter.gtin13s={i}&filter.gtin13s={i}&filter.gtin13s={i}&filter.gtin13s={i}&filter.gtin13s={i}&filter.gtin13s={i}&filter.verified=true&projections=items.full%2Coffers.compact%2Cnutrition.label%2CvariantGroupings.compact\"\n",
    "\n",
    "        headers = {\n",
    "        'User-Agent': 'Mozilla/5.0 (Windows NT 10.0; Win64; x64; rv:139.0) Gecko/20100101 Firefox/139.0',\n",
    "        'Accept': 'application/json, text/plain, */*',\n",
    "        'Accept-Language': 'en-US,en;q=0.5',\n",
    "        'Accept-Encoding': 'gzip, deflate, br, zstd',\n",
    "        'x-laf-object': '[{\"modality\":{\"type\":\"PICKUP\",\"handoffLocation\":{\"storeId\":\"03400375\",\"facilityId\":\"14258\"},\"handoffAddress\":{\"address\":{\"addressLines\":[\"11565 S Highway 6\"],\"cityTown\":\"Sugar Land\",\"name\":\"West Airport\",\"postalCode\":\"77498\",\"stateProvince\":\"TX\",\"residential\":false,\"countryCode\":\"US\"},\"location\":{\"lat\":29.6479694,\"lng\":-95.6494359}}},\"sources\":[{\"storeId\":\"03400375\",\"facilityId\":\"14258\"}],\"assortmentKeys\":[\"03400375\"],\"listingKeys\":[\"03400375\"]}]',\n",
    "        #   'User-Time-Zone': 'America/Chicago',\n",
    "        'X-Kroger-Channel': 'WEB',\n",
    "        #   'x-call-origin': '{\"component\":\"internal search\",\"page\":\"internal search\"}',\n",
    "        #   'x-modality': '{\"type\":\"PICKUP\",\"locationId\":\"03400375\"}',\n",
    "        #   'x-modality-type': 'PICKUP',\n",
    "        #   'X-Facility-Id': '03400375',\n",
    "        #   'x-ab-test': '[{\"testVersion\":\"A\",\"testID\":\"5e3a72\",\"testOrigin\":\"d3\"},{\"testVersion\":\"A\",\"testID\":\"a37eed\",\"testOrigin\":\"a8\"},{\"testVersion\":\"B\",\"testID\":\"5388ca\",\"testOrigin\":\"cb\"}]',\n",
    "        #   'x-dtpc': '41$304842665_832h35vCCLTCFERMRAPNVBVENRLBRNUMTSASFKB-0e0',\n",
    "        'Connection': 'keep-alive',\n",
    "        'Referer': 'https://www.kroger.com/search?query=honey&searchType=default_search',\n",
    "        #   'Cookie': 'origin=fldc; abTest=cb_5388ca_B|3f_8aae36_A; x-active-modality={\"type\":\"PICKUP\",\"locationId\":\"03400375\",\"source\":\"FALLBACK_ACTIVE_MODALITY_COOKIE\",\"createdDate\":1748704783699}; dtCookie=v_4_srv_41_sn_0EEC15BCFD96BCEBC502DB5793A17B18_perc_100000_ol_0_mul_1_app-3A81222ad3b2deb1ef_1_rcs-3Acss_0; sid=08de5513-d70f-37ca-aa6c-63e0744251b5; pid=aa6c63e0-7442-08de-51b5-5513d70f37ca; AKA_A2=A; akaalb_KT_Digital_BannerSites=~op=KT_Digital_BannerSites_KCVG_Weighted:cdc|KT_Digital_BannerSites_KCVG:hdc|KT_Digital_BannerSites_Legacy:kcvg|~rv=62~m=cdc:0|hdc:0|kcvg:0|~os=49d9e32c4b6129ccff2e66f9d0390271~id=0a38e6fbf18e9ffb28c6bde3ceffed33; bm_ss=ab8e18ef4e; _abck=80CFDF62AB551F43DA998B1417E4E31A~-1~YAAQnffTF7vPntSWAQAAjFjuJg0XQ/DX8YG3ihuRp3c3XwOib8KqV3MNxiihbkrzbmPKVdlDhZwrjSfYJXPAQ8x3LpAExPDtNish/abGhtscHFeYB1cmvqB0TKEIHshNSWy1pA14Ohl6V8FIuo3LKtOpcjgp/vzeSw0PQPjKehWHwXVZsV6P3ES36bJvn/W3qaWwJu4JqDopjw07qnn0sxVxgvvtWzxJic+dgTZ88JZtKXIheFOJG1W8XHWYN4I8pIf9IzczyktuyzMgLwKcZ8NsEIFEyr0ounF1lJoOdl1oN+QL0H2WH8gLWcWGrCqVgIyPMCBf/ewO5qgGrrhIz6BeCVTicT6jd3Ssr4arVZpNLlvmXsHgm1haHYB6SGhQgNMKjIeIsc9qfNJrNm6/29Vhx7Usjh9FD6s4DrZ/fLzWASMZJKFQBCMfCpYYE/WTwMHfPhtS+SBOrYrFzYaGfW6zIfIuEy8yz6S7gWOqP8hM0VOlJaFNqM2ZlC4guj8XWCN2BBDmxPT+o6uUZPKpymP5NMOD++B7OTGU7cq4dARAH6IBlfJ4713bpcspkewkQim7MM7SjiCIvLNmzpNHPH2XCPJXUhyTDxZK3jVQlxy0R1H0oC68wn8Da8LmT8qBArYA+MjGuTsHf5o2m5MKz22qlNnJt9lYH6UEPLc3VoLuklPdJsz+XpcyMV6VVYDujwVbNFQaYQJVX+DM7ppViSLPH/1mt2+4VBr4kS9tqXrb3pdUp53mm4M89xvPpJBGLC+iZVSIiEU4+fFtQx/3XKj8RaCNrr4+83YppLOmw4G4SJ06BbixifuYo7Sjy8CSCgLZpA541C/V2PJjNkjPFp+4fUA3tV7G9tDx1FkBHiTNbREA4K86hDJu52gPP5aEcI3btQJ55refetwQPWngiv3TuXJtTcQ+x8xjbxuuXo1O9UyD8102xTAwfZx4/mMebo4IKKaUKrKmILwTTiDl~-1~-1~1748708385; bm_s=YAAQnffTF7zPntSWAQAAjFjuJgOfCIni1F8q5ogzwwTvSqPPtmV+PPY1QICXzT+oHMLDr8F1ecuvEbltPixIYHdmn3DGTrdKNH2/BRNHjVQ75mah0Q4wKk8LbuaTKvekIvB/FzB6zJMNEWPH68hQjbMPIR1Xdt04DFOEn4rsDzfZ5OTjBquh9shDgl390w0Myn+AT43Qhzn9EUCRxxLFc5pLeHxUI5yVAPeIVK8GCX2TllNBvVL7+aQBexx7e1TXhm/uT6y54FqZOsykNQAbWU+1HWqKT35dXTNOW7KIRiMNJ0hJ2WT0HAiUMh1uXdCEIvUg6zK1/8mGEqV6t3C6PbiQCYUhrKTxxEA+1kbRJGUaS+V66cK1iE76CUNFIV73F+m25kSs6rMEA7PXr5jQHz2HB85uxtw1/dGaAafjoyPWqpY4PNudky2dgQTt4kyXYGkNRcSP4bNzn0xWJtcUpnNJDC5WUDChlwuGMqdVeAsGG3ZuY1WorTr0izmisrSPDTajBEnAAzuc5k66TCiR3k6iW7vl1UXMpD4L5BBk8OJ0rb4qOEv94uO1neZ1Hkgf/UEHLw8tVYPp; bm_so=B5F5F4C03133CB4BD997D08AFF2EE06ABA443ECA86F27D10B20FB84E81680908~YAAQnffTF+bOntSWAQAAfFHuJgP7wkmj/xD1gI4pFAPg+sonzCrksxiAjMOIcCRc2clHNQj35aFgPXad+PNfZA0ofcOasDn5ciE5bE5bVSp8VSzOV8IXgfzV//1ExRoSzoOCGOIRKYRGavUke+/LfDptjJujSNqY/zosUv3hzWXSxxU3FWrKqaEvQ+9/LV0IhHc3yj0S2fBtZJMoqF96vy5biRg+8dwvGgmzq3wcoKFhfqwhBZQ8hvTpZ32kU2m+oKKdECVR0L9K+SGU2gbEDal1juV/6yAvyvozsxsABWM4b1mrwFYlMNmJboPwsFtBP3qnZyqllhkaT9/OmROvQ+fCt8EVx8Jpp39tlQAOvzZulF2XZ0i7hHfYdS2VniRGig5sRW+FVlGTCzZMp65/3LA33pOrg35mMSSOnRltO7fCcy6izS8Nm3y+VHIyw1AFlLrp5hYcMUwlppeOQtxR; bm_sz=D30D5EA1B746A72A19164669F913FF25~YAAQnffTF77PntSWAQAAjFjuJhuWHTt5adPtKdsAJAFMYZp61prLXuulAe8h4g1bcImT5W9G8hyti7XOFJ9VFC1AACqZK3xz8Swf8fLOJyV2o6c6Q7PCCWyXJyNF1aebIon1g3P3wKKhI0eydhhQAAHFPFFUXhIyaa7hB+s3jl2ok0zq9kJ+7SAcLRYqEHGDUT8M/+nDoTFDSvw5CKFvAum2IYzm1bplYTDfUW90uk5dVZyQItT4Jsj3dJ9ZYqL2IOnmEIq0JnARTK6frGZK93EU/pr4ZD7ToeXrZExoRElfneeHU+MFe3Y3UbJiJBb2oWIou/5hPLuv70e53WG8EzwyI92Zlljx0sGbFHLQAdPHRS4ItBfgepnmZcuOhNpwdX7tf7lw8CdervIIrANcYb3eURP64wCm5URjg5ZdThsQBv3AHJY8cpCGWe/gEEx7qrTMBtNJtG0nSnD6FF1r5+cI4yWQYi3DV/N1OH4=~3749700~3224375; rxVisitor=17487047853198CQAF3I2RRNR7UEUQEKBD3TAJ4CE050P; dtPC=41$304842665_832h35vCCLTCFERMRAPNVBVENRLBRNUMTSASFKB-0e0; rxvt=1748706644375|1748704785320; ak_bmsc=E52083389C24CF31AC49BD2D1EC824FA~000000000000000000000000000000~YAAQnffTFw67ntSWAQAABn7tJhs2565E6Y3DmQO6ba/0quYdNOvNkXAMPSKulGWMqm+P3oek6uTkze3iq2Ua2j1b3TyRdF9+InVbxaAKj7ttBqPIZvVkSDMrLtmjQJqb6eWBEgtTZnkzB7N5HB/eTZjUs2mZpw26DTsSui5Qkrx/MnD54Fqu+jVJ/zSnReCZqotRB7vL29XUyFMPP3RKKq1hcBkDwlHsmGWV+czDGM/rolnkiZkJOHiAGUBgvoIGzVZx+FPoSotAgGBtiV+Y0wp4jZZTiJ/rhuztP69BFdevs5AQu5k8saH7IXFVuXMnibGIvYnVWsxu3XGYlJoBxOqX1a45APeD7AXiLBB6Y2zjRJdWCFxO+bpF6JFusI7TBtWD9Q/erC36vU5vBft93BIsrqFlnaixrTSvUnFz0GYdytksjkcT4XFIONZoFDV9tixIi/iE1lZ4/IcG/ftK7UM49d8EWltXByhlmvNsSFKVtGKUhEDPER9VhenTg0LzA0/b8T4oMNq0ucRDaiL1aJc=; dtSa=-; AMCV_371C27E253DB0F910A490D4E%40AdobeOrg=179643557%7CMCIDTS%7C20240%7CMCMID%7C15958755977817203438482478641497459934%7CMCAID%7CNONE%7CMCOPTOUT-1748712043s%7CNONE%7CvVersion%7C5.5.0; bm_sv=B56C8C655D887D6C5106C6589113460D~YAAQnffTF73PntSWAQAAjFjuJhuVf5kTJyimsfxgq0ORsxtftUyxCt9ImJlie/3Ptrl3WlcpwemaZl+/hStbXaaEeNMrgE/6FXK/7xmns1EYKbg7+mlbOu0WDHYjoLj/sBRi0lDVwV6UcapByqK39dWApBcKAoGayTYAIhLAdYLVnMKdd7JDokP2P+q9DpT73QHQSfbmQ/Hq3/ICd/WDuH0quu+I0WBGa1YhnYQqtkI8CdQxQrMgdGFdvv/yXhYR4A==~1; bm_lso=7ABE6CBFC4531B31D18B702B672E5D79DF6125484415FF85C040F0A42B2BCD6F~YAAQnffTF5HFntSWAQAASfntJgODfZ5IOo9aVfuRTJ4uyYa3aWOW73w3wANpkp8CbTKyEGkdZ/IZrs3rW3TftbfXTZ1Mouy1I3PBTzegm4FBpSuYTr0jkiSl6D97j/fhRVMwVs9iQ2byl7v3jHsR+828mZnOkWrzYorUxv2j6hEndTb15FAyDVM3kXkXAWj7qtHJAJI48pFKxqmusZL3yHYmj+bL6a+qANIju9DTd0kkr9TqWLeg76UZtlJAGb1Ynud1D5PJIIdrXpyosCHOyr0ivdeWG3PS6RsnV98TdbRfIyYIKtCUeefFo0NXEPVADIY7eqKo/vv7oZ3v7SFRpEv/w62W4UpE19Bqm3Xl4PoNbWiKseixETsFhE9tTw0Cs2B/nPK+mX07e77Xr9Xfy/W19gwiXyQG05+aMPoglB/8jdcEDInm7/5mCBxUjZVkmeRi3983h4nIJZHwQwuy^1748704823443; firstPageViewTriggered=false; s_ecid=MCMID%7C15958755977817203438482478641497459934; AMCVS_371C27E253DB0F910A490D4E%40AdobeOrg=1; bm_mi=DB054DC4B6D75019BC2A2E733139F8D2~YAAQnffTFye6ntSWAQAAVnbtJhu8HvjZy7PQfhPJVWTrJclpqtUw7QPHTxEZ5NjRnmTF6Gem4hfpVXSsgOX8QnbLlq+B8gIhjpvOy9ta6r4iwLfuf/roIdbKOhSWfdpTaQOglKYyMu+Ers2g4BQe8fS9kvGjZnLLhpXi/bD8RfT+jvedkwlLpLlKBVXoq22ug1/MoaYXGC3mSMUhmjVCRBWa9fBLAzu01NJni6nfKd+prL6MJBY/PepZDergjpbsH1RD7UK0WCULikigGtXd4jgnolBTlsopmumO5GTkG8uS8WdV/tb0UvHqQEieg5tpYGAEbcpeX11SZ0Vd+ouA1chdMI3jsIz5mwlRFhx2jnZ9dwm3tEwFhLtm0A==~1; DD_guid=null; DD_modStore=03400375; _fbp=fb.1.1748704786987.1674675848; OptanonConsent=isGpcEnabled=1&datestamp=Sat+May+31+2025+10%3A20%3A21+GMT-0500+(Central+Daylight+Time)&version=202405.2.0&hosts=&groups=BG1355%3A0%2CC0004%3A0%2CBG1356%3A1%2CC0001%3A1%2CC0003%3A1%2CC0002%3A1%2CBG1357%3A1%2CC0008%3A1%2CBG1455%3A1%2CC0009%3A1&consentId=30960870-821e-4e0b-abbb-9635ee2bc495; gpcBanner=true; s_sq=krgrglobalprod%3D%2526pid%253Dhttps%25253A%25252F%25252Fwww.kroger.com%25252F%2526oid%253Dfunction%252528%252529%25257B%25255Bnativecode%25255D%25257D%2526oidt%253D2%2526ot%253DSUBMIT%26krgrmobileprod%3D%2526pid%253Dhttps%25253A%25252F%25252Fwww.kroger.com%25252F%2526oid%253Dfunction%252528%252529%25257B%25255Bnativecode%25255D%25257D%2526oidt%253D2%2526ot%253DSUBMIT; _abck=80CFDF62AB551F43DA998B1417E4E31A~-1~YAAQm2zNFzHDgiOXAQAAcwnzJg0kLBUlsm2ecOLkFrvSzAbpErcE2icY/RE0ljkIAukKy4NucpFNnMw3CQ1VZo3dcatE9eWQdowHppfK7Vw/XShChFwaWuuCAltZqL69KD8+VKgckpBu0o04HL+XCj8SiJ/RvvEHV1aCdLzOdDnMz9JV5zRVHXFtJopd6OqwcBW8afNpPwp5RBRdLp4R1PBkf9Myuu7lXo4vEUjw74d4lSF/RvS/yQYd23bEMoB6VNL1Rx/Y36PRoG8h3yW42R3LUG2U60j/Yu0JMu/JJ39Q0BvLslUx7Mur3fAjwUsnbXWhAR//+C7847h5G+zb9PTSRwB6JGQw8k5WF8zL5Pu9vo6avxd65XDM3p+dDvfOE7JKI0rKkp0TAeUgZexP0usa4fLJEWFrtG4UGWmL/mJMjePmWqJ9UJcd3qUwTkpyh4tzMq9R2rI0dlPxTdkeoEiIx6HeA/poHCBdnQq4rEG030ElRoxIWtMfeYmkJ3mklceIo3pjEaqBKVzQpvlrf3l9BvEnIJGYVGaYDDhX2kx33V/ZO+PMKbPYLjQ5akosQPqQ5nT5f0yzHvzM5ITFL29/ayrVOzRsJIH+TLogo5wzraQ/TltnJFvKvPW8UWje3yEAeMu6cWrS7GobqNosPdAJUHBIWgUn6QMBmT5OCJ/Y18nt01WJWDXbORBhS72LqfURhxHy+TyeVD9cTXqHspq+4gjU9GorMkDRm27DAyOKZjeni0Nte6KnXJeYl44Mxnsa552GQk93lNa415n1xJZTjOOubSKON6bm2DSS2Al9qvn8kF6W3yDVjA8Mvuf8LdsJtSHfMrBISzWa+RyXa59CJpH+Ph9yf0R64Kh/b/fxIbWnNUK2EMGMtDSqBHMc23kyr72vS7a2XC3frBNKcLrvvT91hnpBLfamQu1kP0wBsn1wm/v2N5Q+LNXytyWXi1Sd8BgmSOFtb7TZsDc=~0~-1~1748708385; bm_s=YAAQm2zNFzLDgiOXAQAAcwnzJgOVrGqhD5sktXfobNcGNu7p0HFFdlcH+FfgOEqrsrhCQ6UlyQxVHjkZahJPjN0DO389r1Xu+Pe1XW+BHNjyY7KJ3so9WGm0x4btHLwDbe83TArasP+VquVBAADKTsqc1RgPcgLO7hUHD3qlg9+iMdsb8SxKu+Ys5zT29KOX1EyAaDMMgVLTRI1bK2toy/QO/bQC9GaGLpl0i9GvVX6Gfpi86M/VypD3CY+Y1e3rp6EIoVk8mvAz7a0uTl9TMBNli15bgPMvaG1b/6sMowtZASCcr0QLKEIaIuVU+qWk1ZHxR8uv5fvaC1lr3oRHZFKSS4C9f3hqN9D1jnzdyCWDYqTIzC4ez4qkNxH9koKdCWACPR/FkohqGuRPMc3J+4mYtfYg5JCkUDJkMJf3+PWYJzfhvY/jixbo/ziRVKsfJC/lSMK/ehsCXKW6l+/r8Vq5uKraQxN/8wgAv8XzJOPkUfW/lwDOMDMqtbKzCcs3ZllwTXeTqRw7XBe+QAgbo7ipCTWJaIWsw025oIbTLUd+ScPzkDQ3bb5I/ZmtC+80mJ/Ib15uby35; bm_sv=B56C8C655D887D6C5106C6589113460D~YAAQm2zNFzPDgiOXAQAAcwnzJhuxW6s3AJcv7TxsRXxRNYJpYwe/O6Vzx6poVRUjtvJs3zqgYUEHH9fuGeJRS9qhWLMpZfcNT1hqQuLL4UmA7Fk+sPzMBT7nsTaxJ6LrYMFtUN+Agms95eQf0PKrFuh03uj+PnU5yMA4UPCoAklEinC0ebLp1QFZV+SXmzUk9HhNx4WjRgNKBQ+8f7Y3DQi/JMjsNlHxd6Yq0mx2a84UBkinzeE8OKF10xUVq3nXwg==~1',\n",
    "        #   'Sec-Fetch-Dest': 'empty',\n",
    "        #   'Sec-Fetch-Mode': 'cors',\n",
    "        #   'Sec-Fetch-Site': 'same-origin',\n",
    "        #   'Sec-GPC': '1',\n",
    "        #   'TE': 'trailers'\n",
    "        }\n",
    "\n",
    "        response = requests.request(\"GET\", url, headers=headers)\n",
    "\n",
    "        data = json.loads(response.text)\n",
    "\n",
    "        print(data)\n",
    "\n",
    "        # print(data['data']['products']) \n",
    "        product_num = 1\n",
    "\n",
    "        original_path = data['data']['products'][product_num]\n",
    "\n",
    "        title = original_path['item']['description']\n",
    "        brand_name = original_path['item']['brand']['name']\n",
    "        product_upc = original_path['item']['upc']\n",
    "        num_reviews = original_path['item']['ratingsAndReviewsAggregate']['numberOfReviews']\n",
    "        rating = original_path['item']['ratingsAndReviewsAggregate']['averageRating']\n",
    "        description = original_path['item']['romanceDescription']\n",
    "        promo_price = original_path['price']['storePrices']['promo']['unitPrice']\n",
    "        promo_price_per_ounce = original_path['price']['storePrices']['promo']['equivalizedUnitPriceString']\n",
    "        promo_expiration = original_path['price']['storePrices']['promo']['expirationDate']['value']\n",
    "        reg_price = original_path['price']['storePrices']['regular']['unitPrice']\n",
    "        reg_price_per_ounce = original_path['price']['storePrices']['regular']['equivalizedUnitPriceString']\n",
    "        inventory_num  = original_path['inventorySummaries'][0]['availableToSell']\n",
    "        inventory_status = original_path['inventorySummaries'][0]['stockLevel']\n",
    "        country_origin = original_path['item']['countriesOfOrigin']\n",
    "        weight = original_path['item']['customerFacingSize']\n",
    "        aisle_number = original_path['location']['locations'][0]['aisle']['number']\n",
    "        aisle_side = original_path['location']['locations'][0]['aisle']['side']\n",
    "        aisle_bay = original_path['location']['locations'][0]['bayInAisle']\n",
    "        aisle_facings = original_path['location']['locations'][0]['numOfFacings']\n",
    "        shelf_num = original_path['location']['locations'][0]['physicalShelfNumber']\n",
    "        shelf_position = original_path['location']['locations'][0]['shelfPositionInBay']\n",
    "        seo_description = original_path['item']['seoDescription']\n",
    "\n",
    "        product_data = {\n",
    "            \"title\": title, \n",
    "            \"brand_name\": brand_name, \n",
    "            \"product_upc\": product_upc,  \n",
    "            \"num_reviews\": num_reviews,  \n",
    "            \"rating\": rating, \n",
    "            \"description\": description, \n",
    "            \"promo_price\": promo_price, \n",
    "            \"promo_price_per_ounce\": promo_price_per_ounce, \n",
    "            \"promo_expiration\": promo_expiration, \n",
    "            \"reg_price\": reg_price, \n",
    "            \"reg_price_per_ounce\": reg_price_per_ounce, \n",
    "            \"inventory_num\": inventory_num,  \n",
    "            \"inventory_status\": inventory_status, \n",
    "            \"country_origin\": country_origin, \n",
    "            \"weight\": weight, \n",
    "            \"aisle_number\": aisle_number,\n",
    "            \"aisle_side\": aisle_side, \n",
    "            \"aisle_bay\": aisle_bay, \n",
    "            \"aisle_facings\": aisle_facings, \n",
    "            \"shelf_num\": shelf_num,  \n",
    "            \"shelf_position\": shelf_position, \n",
    "            \"seo_description\": seo_description,\n",
    "        }"
   ]
  }
 ],
 "metadata": {
  "kernelspec": {
   "display_name": "Python 3",
   "language": "python",
   "name": "python3"
  },
  "language_info": {
   "codemirror_mode": {
    "name": "ipython",
    "version": 3
   },
   "file_extension": ".py",
   "mimetype": "text/x-python",
   "name": "python",
   "nbconvert_exporter": "python",
   "pygments_lexer": "ipython3",
   "version": "3.12.1"
  }
 },
 "nbformat": 4,
 "nbformat_minor": 5
}
