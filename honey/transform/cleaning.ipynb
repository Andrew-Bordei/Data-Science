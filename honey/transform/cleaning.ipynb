{
 "cells": [
  {
   "cell_type": "code",
   "execution_count": 117,
   "id": "c8527100",
   "metadata": {},
   "outputs": [
    {
     "name": "stdout",
     "output_type": "stream",
     "text": [
      "The autoreload extension is already loaded. To reload it, use:\n",
      "  %reload_ext autoreload\n"
     ]
    }
   ],
   "source": [
    "import pandas as pd\n",
    "import numpy as np\n",
    "import cleaning_pipeline as cp\n",
    "\n",
    "%load_ext autoreload\n",
    "%autoreload 2\n",
    "%reload_ext autoreload"
   ]
  },
  {
   "cell_type": "code",
   "execution_count": 118,
   "id": "0ca6c368",
   "metadata": {},
   "outputs": [],
   "source": [
    "df = pd.read_csv(\"new_scrapper_data_new_scraper_data_20250714.csv\")"
   ]
  },
  {
   "cell_type": "code",
   "execution_count": 119,
   "id": "761255ba",
   "metadata": {},
   "outputs": [
    {
     "data": {
      "text/html": [
       "<div>\n",
       "<style scoped>\n",
       "    .dataframe tbody tr th:only-of-type {\n",
       "        vertical-align: middle;\n",
       "    }\n",
       "\n",
       "    .dataframe tbody tr th {\n",
       "        vertical-align: top;\n",
       "    }\n",
       "\n",
       "    .dataframe thead th {\n",
       "        text-align: right;\n",
       "    }\n",
       "</style>\n",
       "<table border=\"1\" class=\"dataframe\">\n",
       "  <thead>\n",
       "    <tr style=\"text-align: right;\">\n",
       "      <th></th>\n",
       "      <th>Unnamed: 0</th>\n",
       "      <th>title</th>\n",
       "      <th>brand</th>\n",
       "      <th>weight</th>\n",
       "      <th>price</th>\n",
       "      <th>product_rating</th>\n",
       "      <th>bought_last_month</th>\n",
       "      <th>num_reviews</th>\n",
       "      <th>description</th>\n",
       "      <th>product_upc</th>\n",
       "      <th>honey_seller_rank</th>\n",
       "      <th>food_rank</th>\n",
       "    </tr>\n",
       "  </thead>\n",
       "  <tbody>\n",
       "    <tr>\n",
       "      <th>0</th>\n",
       "      <td>0</td>\n",
       "      <td>Tupelo Honey 32oz - 2 pound -Two pound...</td>\n",
       "      <td>Sleeping Bear Farms</td>\n",
       "      <td>32 Ounce</td>\n",
       "      <td>43.00</td>\n",
       "      <td>4.7 out of 5 stars</td>\n",
       "      <td>100+ bought in past month</td>\n",
       "      <td>986 ratings</td>\n",
       "      <td>\\n Florida Tupelo honey is one of the rarest ...</td>\n",
       "      <td>080833102324</td>\n",
       "      <td>#243 in Honey</td>\n",
       "      <td>Best Sellers Rank:  #36,137 in Grocery &amp; Gou...</td>\n",
       "    </tr>\n",
       "    <tr>\n",
       "      <th>1</th>\n",
       "      <td>1</td>\n",
       "      <td>Fischer’s 100% Pure, Raw &amp; Unfiltered ...</td>\n",
       "      <td>Fischer's</td>\n",
       "      <td>40.0 Ounce</td>\n",
       "      <td>14.95</td>\n",
       "      <td>4.6 out of 5 stars</td>\n",
       "      <td>2K+ bought in past month</td>\n",
       "      <td>561 ratings</td>\n",
       "      <td>\\n Fischer’s Raw Honey is 100% pure, unproces...</td>\n",
       "      <td>011137040401</td>\n",
       "      <td>#16 in Honey</td>\n",
       "      <td>Best Sellers Rank:  #2,822 in Grocery &amp; Gour...</td>\n",
       "    </tr>\n",
       "    <tr>\n",
       "      <th>2</th>\n",
       "      <td>2</td>\n",
       "      <td>Sue Bee Pure Premium Honey From USA Be...</td>\n",
       "      <td>Sue Bee</td>\n",
       "      <td>240.0 Ounce</td>\n",
       "      <td>87.49</td>\n",
       "      <td>4.6 out of 5 stars</td>\n",
       "      <td>50+ bought in past month</td>\n",
       "      <td>1,335 ratings</td>\n",
       "      <td>NaN</td>\n",
       "      <td>NaN</td>\n",
       "      <td>#65 in Honey</td>\n",
       "      <td>Best Sellers Rank:  #10,515 in Grocery &amp; Gou...</td>\n",
       "    </tr>\n",
       "    <tr>\n",
       "      <th>3</th>\n",
       "      <td>3</td>\n",
       "      <td>Sue Bee Naturally Flavored Vanilla Hon...</td>\n",
       "      <td>Sue Bee</td>\n",
       "      <td>16.0 Fluid Ounces</td>\n",
       "      <td>13.49</td>\n",
       "      <td>4.5 out of 5 stars</td>\n",
       "      <td>100+ bought in past month</td>\n",
       "      <td>688 ratings</td>\n",
       "      <td>NaN</td>\n",
       "      <td>018700000725</td>\n",
       "      <td>#94 in Honey</td>\n",
       "      <td>Best Sellers Rank:  #13,957 in Grocery &amp; Gou...</td>\n",
       "    </tr>\n",
       "    <tr>\n",
       "      <th>4</th>\n",
       "      <td>4</td>\n",
       "      <td>Mike's Hot Honey, America's #1 Brand o...</td>\n",
       "      <td>Mike's Hot Honey</td>\n",
       "      <td>10.0 Ounce</td>\n",
       "      <td>10.99</td>\n",
       "      <td>4.6 out of 5 stars</td>\n",
       "      <td>10K+ bought in past month</td>\n",
       "      <td>42,047 ratings</td>\n",
       "      <td>NaN</td>\n",
       "      <td>860012002351</td>\n",
       "      <td>#3 in Hot Sauce</td>\n",
       "      <td>Best Sellers Rank:  #592 in Grocery &amp; Gourme...</td>\n",
       "    </tr>\n",
       "  </tbody>\n",
       "</table>\n",
       "</div>"
      ],
      "text/plain": [
       "   Unnamed: 0                                              title  \\\n",
       "0           0          Tupelo Honey 32oz - 2 pound -Two pound...   \n",
       "1           1          Fischer’s 100% Pure, Raw & Unfiltered ...   \n",
       "2           2          Sue Bee Pure Premium Honey From USA Be...   \n",
       "3           3          Sue Bee Naturally Flavored Vanilla Hon...   \n",
       "4           4          Mike's Hot Honey, America's #1 Brand o...   \n",
       "\n",
       "                 brand             weight  price      product_rating  \\\n",
       "0  Sleeping Bear Farms           32 Ounce  43.00  4.7 out of 5 stars   \n",
       "1            Fischer's         40.0 Ounce  14.95  4.6 out of 5 stars   \n",
       "2              Sue Bee        240.0 Ounce  87.49  4.6 out of 5 stars   \n",
       "3              Sue Bee  16.0 Fluid Ounces  13.49  4.5 out of 5 stars   \n",
       "4     Mike's Hot Honey         10.0 Ounce  10.99  4.6 out of 5 stars   \n",
       "\n",
       "             bought_last_month     num_reviews  \\\n",
       "0   100+ bought in past month      986 ratings   \n",
       "1    2K+ bought in past month      561 ratings   \n",
       "2    50+ bought in past month    1,335 ratings   \n",
       "3   100+ bought in past month      688 ratings   \n",
       "4   10K+ bought in past month   42,047 ratings   \n",
       "\n",
       "                                         description   product_upc  \\\n",
       "0   \\n Florida Tupelo honey is one of the rarest ...  080833102324   \n",
       "1   \\n Fischer’s Raw Honey is 100% pure, unproces...  011137040401   \n",
       "2                                                NaN           NaN   \n",
       "3                                                NaN  018700000725   \n",
       "4                                                NaN  860012002351   \n",
       "\n",
       "    honey_seller_rank                                          food_rank  \n",
       "0      #243 in Honey     Best Sellers Rank:  #36,137 in Grocery & Gou...  \n",
       "1       #16 in Honey     Best Sellers Rank:  #2,822 in Grocery & Gour...  \n",
       "2       #65 in Honey     Best Sellers Rank:  #10,515 in Grocery & Gou...  \n",
       "3       #94 in Honey     Best Sellers Rank:  #13,957 in Grocery & Gou...  \n",
       "4    #3 in Hot Sauce     Best Sellers Rank:  #592 in Grocery & Gourme...  "
      ]
     },
     "execution_count": 119,
     "metadata": {},
     "output_type": "execute_result"
    }
   ],
   "source": [
    "df.head()"
   ]
  },
  {
   "cell_type": "code",
   "execution_count": 120,
   "id": "3cc22e06",
   "metadata": {},
   "outputs": [
    {
     "data": {
      "text/plain": [
       "(4950, 12)"
      ]
     },
     "execution_count": 120,
     "metadata": {},
     "output_type": "execute_result"
    }
   ],
   "source": [
    "df.shape"
   ]
  },
  {
   "cell_type": "code",
   "execution_count": 121,
   "id": "36360a6d",
   "metadata": {},
   "outputs": [
    {
     "data": {
      "text/plain": [
       "Unnamed: 0              0\n",
       "title                1048\n",
       "brand                1048\n",
       "weight               4554\n",
       "price                1217\n",
       "product_rating       1048\n",
       "bought_last_month    2589\n",
       "num_reviews          1048\n",
       "description          4720\n",
       "product_upc          4601\n",
       "honey_seller_rank    4557\n",
       "food_rank            4587\n",
       "dtype: int64"
      ]
     },
     "execution_count": 121,
     "metadata": {},
     "output_type": "execute_result"
    }
   ],
   "source": [
    "df.isna().sum()"
   ]
  },
  {
   "cell_type": "code",
   "execution_count": 122,
   "id": "535cf489",
   "metadata": {},
   "outputs": [],
   "source": [
    "# df['honey_seller_rank'] = df['honey_seller_rank'].replace({r'[A-Za-z#]|[,]|[&]': ''}, regex=True)"
   ]
  },
  {
   "cell_type": "code",
   "execution_count": 123,
   "id": "87ee7e82",
   "metadata": {},
   "outputs": [],
   "source": [
    "# df['food_rank'] = df['food_rank'].str.split('in').str[0]"
   ]
  },
  {
   "cell_type": "code",
   "execution_count": 124,
   "id": "971d5be9",
   "metadata": {},
   "outputs": [],
   "source": [
    "# df['food_rank'] = df['food_rank'].replace({'[#A-Za-z:(,)?]': ''}, regex=True)"
   ]
  },
  {
   "cell_type": "code",
   "execution_count": 125,
   "id": "049dd29f",
   "metadata": {},
   "outputs": [],
   "source": [
    "# df['food_rank'] = df['food_rank'].str.strip()"
   ]
  },
  {
   "cell_type": "code",
   "execution_count": 126,
   "id": "36cd360b",
   "metadata": {},
   "outputs": [],
   "source": [
    "# df['num_reviews'].str.extract(r'(\\d+)')"
   ]
  },
  {
   "cell_type": "code",
   "execution_count": 127,
   "id": "3e3b7c2e",
   "metadata": {},
   "outputs": [],
   "source": [
    "# df['num_reviews'] = df['num_reviews'].replace({r'[Rr]ating(s)?|[()]|,': ''}, regex=True)"
   ]
  },
  {
   "cell_type": "code",
   "execution_count": 128,
   "id": "9150df7a",
   "metadata": {},
   "outputs": [
    {
     "data": {
      "text/html": [
       "<div>\n",
       "<style scoped>\n",
       "    .dataframe tbody tr th:only-of-type {\n",
       "        vertical-align: middle;\n",
       "    }\n",
       "\n",
       "    .dataframe tbody tr th {\n",
       "        vertical-align: top;\n",
       "    }\n",
       "\n",
       "    .dataframe thead th {\n",
       "        text-align: right;\n",
       "    }\n",
       "</style>\n",
       "<table border=\"1\" class=\"dataframe\">\n",
       "  <thead>\n",
       "    <tr style=\"text-align: right;\">\n",
       "      <th></th>\n",
       "      <th>Unnamed: 0</th>\n",
       "      <th>title</th>\n",
       "      <th>brand</th>\n",
       "      <th>weight</th>\n",
       "      <th>price</th>\n",
       "      <th>product_rating</th>\n",
       "      <th>bought_last_month</th>\n",
       "      <th>num_reviews</th>\n",
       "      <th>description</th>\n",
       "      <th>product_upc</th>\n",
       "      <th>honey_seller_rank</th>\n",
       "      <th>food_rank</th>\n",
       "      <th>price_per_ounce</th>\n",
       "    </tr>\n",
       "  </thead>\n",
       "  <tbody>\n",
       "    <tr>\n",
       "      <th>0</th>\n",
       "      <td>0</td>\n",
       "      <td>Tupelo Honey 32oz - 2 pound -Two pound...</td>\n",
       "      <td>Sleeping Bear Farms</td>\n",
       "      <td>32.0</td>\n",
       "      <td>43.0</td>\n",
       "      <td>4.7</td>\n",
       "      <td>100.0</td>\n",
       "      <td>986.0</td>\n",
       "      <td>\\n Florida Tupelo honey is one of the rarest ...</td>\n",
       "      <td>080833102324</td>\n",
       "      <td>243.0</td>\n",
       "      <td>36137.0</td>\n",
       "      <td>1.34</td>\n",
       "    </tr>\n",
       "    <tr>\n",
       "      <th>1</th>\n",
       "      <td>1</td>\n",
       "      <td>Fischer’s 100% Pure, Raw &amp; Unfiltered ...</td>\n",
       "      <td>Fischer's</td>\n",
       "      <td>40.0</td>\n",
       "      <td>14.95</td>\n",
       "      <td>4.6</td>\n",
       "      <td>2000.0</td>\n",
       "      <td>561.0</td>\n",
       "      <td>\\n Fischer’s Raw Honey is 100% pure, unproces...</td>\n",
       "      <td>011137040401</td>\n",
       "      <td>16.0</td>\n",
       "      <td>2822.0</td>\n",
       "      <td>0.37</td>\n",
       "    </tr>\n",
       "    <tr>\n",
       "      <th>2</th>\n",
       "      <td>2</td>\n",
       "      <td>Sue Bee Pure Premium Honey From USA Be...</td>\n",
       "      <td>Sue Bee</td>\n",
       "      <td>240.0</td>\n",
       "      <td>87.49</td>\n",
       "      <td>4.6</td>\n",
       "      <td>50.0</td>\n",
       "      <td>1.0</td>\n",
       "      <td>None</td>\n",
       "      <td>nan</td>\n",
       "      <td>65.0</td>\n",
       "      <td>10515.0</td>\n",
       "      <td>0.36</td>\n",
       "    </tr>\n",
       "    <tr>\n",
       "      <th>3</th>\n",
       "      <td>3</td>\n",
       "      <td>Sue Bee Naturally Flavored Vanilla Hon...</td>\n",
       "      <td>Sue Bee</td>\n",
       "      <td>16.0</td>\n",
       "      <td>13.49</td>\n",
       "      <td>4.5</td>\n",
       "      <td>100.0</td>\n",
       "      <td>688.0</td>\n",
       "      <td>None</td>\n",
       "      <td>018700000725</td>\n",
       "      <td>94.0</td>\n",
       "      <td>13957.0</td>\n",
       "      <td>0.84</td>\n",
       "    </tr>\n",
       "    <tr>\n",
       "      <th>4</th>\n",
       "      <td>4</td>\n",
       "      <td>Mike's Hot Honey, America's #1 Brand o...</td>\n",
       "      <td>Mike's Hot Honey</td>\n",
       "      <td>10.0</td>\n",
       "      <td>10.99</td>\n",
       "      <td>4.6</td>\n",
       "      <td>10000.0</td>\n",
       "      <td>42.0</td>\n",
       "      <td>None</td>\n",
       "      <td>860012002351</td>\n",
       "      <td>3.0</td>\n",
       "      <td>592.0</td>\n",
       "      <td>1.1</td>\n",
       "    </tr>\n",
       "  </tbody>\n",
       "</table>\n",
       "</div>"
      ],
      "text/plain": [
       "   Unnamed: 0                                              title  \\\n",
       "0           0          Tupelo Honey 32oz - 2 pound -Two pound...   \n",
       "1           1          Fischer’s 100% Pure, Raw & Unfiltered ...   \n",
       "2           2          Sue Bee Pure Premium Honey From USA Be...   \n",
       "3           3          Sue Bee Naturally Flavored Vanilla Hon...   \n",
       "4           4          Mike's Hot Honey, America's #1 Brand o...   \n",
       "\n",
       "                 brand weight  price product_rating bought_last_month  \\\n",
       "0  Sleeping Bear Farms   32.0   43.0            4.7             100.0   \n",
       "1            Fischer's   40.0  14.95            4.6            2000.0   \n",
       "2              Sue Bee  240.0  87.49            4.6              50.0   \n",
       "3              Sue Bee   16.0  13.49            4.5             100.0   \n",
       "4     Mike's Hot Honey   10.0  10.99            4.6           10000.0   \n",
       "\n",
       "  num_reviews                                        description  \\\n",
       "0       986.0   \\n Florida Tupelo honey is one of the rarest ...   \n",
       "1       561.0   \\n Fischer’s Raw Honey is 100% pure, unproces...   \n",
       "2         1.0                                               None   \n",
       "3       688.0                                               None   \n",
       "4        42.0                                               None   \n",
       "\n",
       "    product_upc honey_seller_rank food_rank price_per_ounce  \n",
       "0  080833102324             243.0   36137.0            1.34  \n",
       "1  011137040401              16.0    2822.0            0.37  \n",
       "2           nan              65.0   10515.0            0.36  \n",
       "3  018700000725              94.0   13957.0            0.84  \n",
       "4  860012002351               3.0     592.0             1.1  "
      ]
     },
     "execution_count": 128,
     "metadata": {},
     "output_type": "execute_result"
    }
   ],
   "source": [
    "df = cp.cleaning_pipeline(df)\n",
    "df.head()"
   ]
  },
  {
   "cell_type": "code",
   "execution_count": null,
   "id": "567b9e07",
   "metadata": {},
   "outputs": [],
   "source": []
  }
 ],
 "metadata": {
  "kernelspec": {
   "display_name": "Python 3",
   "language": "python",
   "name": "python3"
  },
  "language_info": {
   "codemirror_mode": {
    "name": "ipython",
    "version": 3
   },
   "file_extension": ".py",
   "mimetype": "text/x-python",
   "name": "python",
   "nbconvert_exporter": "python",
   "pygments_lexer": "ipython3",
   "version": "3.12.1"
  }
 },
 "nbformat": 4,
 "nbformat_minor": 5
}
