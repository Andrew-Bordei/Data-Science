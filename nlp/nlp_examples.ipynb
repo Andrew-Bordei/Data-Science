{
 "cells": [
  {
   "cell_type": "code",
   "execution_count": 28,
   "id": "038e1616",
   "metadata": {},
   "outputs": [],
   "source": [
    "import nltk\n",
    "import spacy"
   ]
  },
  {
   "cell_type": "code",
   "execution_count": 53,
   "id": "a37598f9",
   "metadata": {},
   "outputs": [],
   "source": [
    "# nlp = spacy.load(\"en_core_web_trf\")"
   ]
  },
  {
   "cell_type": "code",
   "execution_count": 30,
   "id": "fd8f49b4",
   "metadata": {},
   "outputs": [],
   "source": [
    "nlp = spacy.load(\"en_core_web_sm\")"
   ]
  },
  {
   "cell_type": "code",
   "execution_count": 43,
   "id": "ff50f189",
   "metadata": {},
   "outputs": [
    {
     "data": {
      "text/plain": [
       "[('tok2vec', <spacy.pipeline.tok2vec.Tok2Vec at 0x1e7fc92bd70>),\n",
       " ('tagger', <spacy.pipeline.tagger.Tagger at 0x1e7fb4bf7d0>),\n",
       " ('parser', <spacy.pipeline.dep_parser.DependencyParser at 0x1e7fc9307b0>),\n",
       " ('attribute_ruler',\n",
       "  <spacy.pipeline.attributeruler.AttributeRuler at 0x1e7fca86190>),\n",
       " ('lemmatizer', <spacy.lang.en.lemmatizer.EnglishLemmatizer at 0x1e7fca6dfd0>),\n",
       " ('ner', <spacy.pipeline.ner.EntityRecognizer at 0x1e7fc930820>)]"
      ]
     },
     "execution_count": 43,
     "metadata": {},
     "output_type": "execute_result"
    }
   ],
   "source": [
    "nlp.pipeline"
   ]
  },
  {
   "cell_type": "code",
   "execution_count": 35,
   "id": "0450fcde",
   "metadata": {},
   "outputs": [],
   "source": [
    "text = nlp(\"I have just finished reading the first poem and it's fascinating\")"
   ]
  },
  {
   "cell_type": "code",
   "execution_count": null,
   "id": "a746cc86",
   "metadata": {},
   "outputs": [],
   "source": [
    "text = nlp(\"Tesla Inc is going to acquire Twitter for $45 billion\")"
   ]
  },
  {
   "cell_type": "code",
   "execution_count": 48,
   "id": "2f81586c",
   "metadata": {},
   "outputs": [],
   "source": [
    "review = nlp(\"\"\"\n",
    "If you're in Houston and searching for some exotic fruits, Linda's Tropical Fruits is the spot to be. \n",
    "Along with their drink varieties. They have so many drink options to choose from. \n",
    "My sister recommended trying their avocado with durian. Yes, you heard that right, avocado with durian! \n",
    "For $8, it was so damn good. The drinks down in Houston is so much cheaper than the north. \n",
    "I get it, high demand but damn, lower cost and better quality in Houston is where to be.\n",
    "\"\"\")"
   ]
  },
  {
   "cell_type": "code",
   "execution_count": 49,
   "id": "a5d61bd7",
   "metadata": {},
   "outputs": [
    {
     "name": "stdout",
     "output_type": "stream",
     "text": [
      "\n",
      " | SPACE\n",
      "If | SCONJ\n",
      "you | PRON\n",
      "'re | AUX\n",
      "in | ADP\n",
      "Houston | PROPN\n",
      "and | CCONJ\n",
      "searching | VERB\n",
      "for | ADP\n",
      "some | DET\n",
      "exotic | ADJ\n",
      "fruits | NOUN\n",
      ", | PUNCT\n",
      "Linda | PROPN\n",
      "'s | PART\n",
      "Tropical | PROPN\n",
      "Fruits | PROPN\n",
      "is | AUX\n",
      "the | DET\n",
      "spot | NOUN\n",
      "to | PART\n",
      "be | AUX\n",
      ". | PUNCT\n",
      "\n",
      " | SPACE\n",
      "Along | ADV\n",
      "with | ADP\n",
      "their | PRON\n",
      "drink | NOUN\n",
      "varieties | NOUN\n",
      ". | PUNCT\n",
      "They | PRON\n",
      "have | VERB\n",
      "so | ADV\n",
      "many | ADJ\n",
      "drink | NOUN\n",
      "options | NOUN\n",
      "to | PART\n",
      "choose | VERB\n",
      "from | ADP\n",
      ". | PUNCT\n",
      "\n",
      " | SPACE\n",
      "My | PRON\n",
      "sister | NOUN\n",
      "recommended | VERB\n",
      "trying | VERB\n",
      "their | PRON\n",
      "avocado | NOUN\n",
      "with | ADP\n",
      "durian | NOUN\n",
      ". | PUNCT\n",
      "Yes | INTJ\n",
      ", | PUNCT\n",
      "you | PRON\n",
      "heard | VERB\n",
      "that | SCONJ\n",
      "right | ADJ\n",
      ", | PUNCT\n",
      "avocado | VERB\n",
      "with | ADP\n",
      "durian | NOUN\n",
      "! | PUNCT\n",
      "\n",
      " | SPACE\n",
      "For | ADP\n",
      "$ | SYM\n",
      "8 | NUM\n",
      ", | PUNCT\n",
      "it | PRON\n",
      "was | AUX\n",
      "so | ADV\n",
      "damn | ADV\n",
      "good | ADJ\n",
      ". | PUNCT\n",
      "The | DET\n",
      "drinks | NOUN\n",
      "down | ADP\n",
      "in | ADP\n",
      "Houston | PROPN\n",
      "is | AUX\n",
      "so | ADV\n",
      "much | ADV\n",
      "cheaper | ADJ\n",
      "than | ADP\n",
      "the | DET\n",
      "north | NOUN\n",
      ". | PUNCT\n",
      "\n",
      " | SPACE\n",
      "I | PRON\n",
      "get | VERB\n",
      "it | PRON\n",
      ", | PUNCT\n",
      "high | ADJ\n",
      "demand | NOUN\n",
      "but | CCONJ\n",
      "damn | INTJ\n",
      ", | PUNCT\n",
      "lower | ADJ\n",
      "cost | NOUN\n",
      "and | CCONJ\n",
      "better | ADJ\n",
      "quality | NOUN\n",
      "in | ADP\n",
      "Houston | PROPN\n",
      "is | AUX\n",
      "where | SCONJ\n",
      "to | PART\n",
      "be | AUX\n",
      ". | PUNCT\n",
      "\n",
      " | SPACE\n"
     ]
    }
   ],
   "source": [
    "# Part of Speech \n",
    "for word in review: \n",
    "    print(word, \"|\", word.pos_)"
   ]
  },
  {
   "cell_type": "code",
   "execution_count": 50,
   "id": "fd27b723",
   "metadata": {},
   "outputs": [
    {
     "name": "stdout",
     "output_type": "stream",
     "text": [
      "you | NP\n",
      "Houston | NP\n",
      "some exotic fruits | NP\n",
      "Linda's Tropical Fruits | NP\n",
      "the spot | NP\n",
      "their drink varieties | NP\n",
      "They | NP\n",
      "so many drink options | NP\n",
      "My sister | NP\n",
      "their avocado | NP\n",
      "durian | NP\n",
      "you | NP\n",
      "durian | NP\n",
      "it | NP\n",
      "The drinks | NP\n",
      "Houston | NP\n",
      "the north | NP\n",
      "I | NP\n",
      "it | NP\n",
      "lower cost | NP\n",
      "better quality | NP\n",
      "Houston | NP\n"
     ]
    }
   ],
   "source": [
    "# Noun chunking \n",
    "for noun in review.noun_chunks:\n",
    "    print(noun.text, \"|\", noun.label_)"
   ]
  },
  {
   "cell_type": "code",
   "execution_count": 51,
   "id": "e40e44ae",
   "metadata": {},
   "outputs": [
    {
     "name": "stdout",
     "output_type": "stream",
     "text": [
      "Houston | GPE\n",
      "Linda | PERSON\n",
      "Tropical Fruits | ORG\n",
      "8 | MONEY\n",
      "Houston | GPE\n",
      "Houston | GPE\n"
     ]
    }
   ],
   "source": [
    "# Named entity recognition \n",
    "for entity in review.ents:\n",
    "    print(entity.text, \"|\", entity.label_)"
   ]
  },
  {
   "cell_type": "code",
   "execution_count": null,
   "id": "6e7365eb",
   "metadata": {},
   "outputs": [],
   "source": []
  }
 ],
 "metadata": {
  "kernelspec": {
   "display_name": "Python 3",
   "language": "python",
   "name": "python3"
  },
  "language_info": {
   "codemirror_mode": {
    "name": "ipython",
    "version": 3
   },
   "file_extension": ".py",
   "mimetype": "text/x-python",
   "name": "python",
   "nbconvert_exporter": "python",
   "pygments_lexer": "ipython3",
   "version": "3.12.1"
  }
 },
 "nbformat": 4,
 "nbformat_minor": 5
}
