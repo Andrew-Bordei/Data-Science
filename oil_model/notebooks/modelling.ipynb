{
 "cells": [
  {
   "cell_type": "code",
   "execution_count": null,
   "metadata": {},
   "outputs": [],
   "source": [
    "from sklearn.linear_model import LinearRegression\n",
    "from sklearn.tree import DecisionTreeRegressor\n",
    "from sklearn.svm import SVR\n",
    "from sklearn.ensemble import RandomForestRegressor\n",
    "import sklearn.metrics\n",
    "import pandas as pd "
   ]
  },
  {
   "cell_type": "code",
   "execution_count": null,
   "metadata": {},
   "outputs": [],
   "source": [
    "y = features_df['crude_price']\n",
    "X = features_df.drop(['crude_price'],axis=1)\n",
    "X = X.dropna(how='any')\n",
    "y = y.dropna(how='any')\n",
    "X_train = X[:math.floor(len(X)*0.8)]\n",
    "X_test = X[math.floor(len(X)*0.8):]\n",
    "y_train = pd.DataFrame(y[:math.floor(len(X)*0.8)])\n",
    "y_test = pd.DataFrame(y[math.floor(len(X)*0.8):])"
   ]
  },
  {
   "cell_type": "code",
   "execution_count": null,
   "metadata": {},
   "outputs": [],
   "source": [
    "# Creating all the models \n",
    "regression = LinearRegression()\n",
    "tree = DecisionTreeRegressor(max_depth=10)\n",
    "random_forest = RandomForestRegressor(max_depth=500)\n",
    "sv_regressor = SVR(kernel='linear')"
   ]
  },
  {
   "cell_type": "code",
   "execution_count": null,
   "metadata": {},
   "outputs": [],
   "source": [
    "# Fitting all the models to the data \n",
    "regression.fit(X_train, y_train)\n",
    "tree.fit(X_train, y_train)\n",
    "random_forest.fit(X_train, y_train)\n",
    "# sv_regressor.fit(X_train, y_train)"
   ]
  },
  {
   "cell_type": "code",
   "execution_count": null,
   "metadata": {},
   "outputs": [],
   "source": [
    "# Making predictions with each model\n",
    "regression_pred = regression.predict(X_test)\n",
    "tree_pred = tree.predict(X_test)\n",
    "random_forest_pred = random_forest.predict(X_test)\n",
    "# sv_regressor_pred = sv_regressor.predict(X_test)"
   ]
  },
  {
   "cell_type": "code",
   "execution_count": null,
   "metadata": {},
   "outputs": [],
   "source": [
    "# Converting the predictions to dataframes to more easily view them\n",
    "regression_pred = pd.DataFrame(regression_pred)\n",
    "tree_pred = pd.DataFrame(tree_pred) \n",
    "random_forest_pred = pd.DataFrame(random_forest_pred)\n",
    "# sv_regressor_pred = pd.DataFrame(sv_regressor_pred)"
   ]
  },
  {
   "cell_type": "code",
   "execution_count": null,
   "metadata": {},
   "outputs": [],
   "source": [
    "# Printing the RMSE values of the models \n",
    "print('Linear Regression RMSE: ',round(sklearn.metrics.root_mean_squared_error(y_test, regression_pred),3))\n",
    "print('Decision Tree RMSE: ',round(sklearn.metrics.root_mean_squared_error(y_test, tree_pred),3))\n",
    "print('Random Forest RMSE: ',round(sklearn.metrics.root_mean_squared_error(y_test, random_forest_pred),3))\n",
    "# print('Support Vector Regressor RMSE: ',round(sklearn.metrics.root_mean_squared_error(y_test, sv_regressor_pred),3))"
   ]
  }
 ],
 "metadata": {
  "language_info": {
   "name": "python"
  }
 },
 "nbformat": 4,
 "nbformat_minor": 2
}
