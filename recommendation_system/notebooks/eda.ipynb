{
 "cells": [
  {
   "cell_type": "markdown",
   "metadata": {},
   "source": [
    "# Exploratory Data Analysis"
   ]
  },
  {
   "cell_type": "markdown",
   "metadata": {},
   "source": [
    "The main objectives of this notebook are: \n",
    "- Explore the dataset through univariate & multivariate analysis \n",
    "- Investigate distribution of data \n",
    "- Extract relevant insights to determine steps for feature engineering"
   ]
  },
  {
   "cell_type": "code",
   "execution_count": 1,
   "metadata": {},
   "outputs": [],
   "source": [
    "%load_ext autoreload\n",
    "%autoreload 2"
   ]
  },
  {
   "cell_type": "code",
   "execution_count": 2,
   "metadata": {},
   "outputs": [],
   "source": [
    "import polars as pl\n",
    "import seaborn as sns\n",
    "import matplotlib.pyplot as plt\n",
    "import plotly.express as px\n",
    "import sys \n",
    "import os \n",
    "from collections import Counter\n",
    "\n",
    "# Manually add path to read from another folder \n",
    "path2add = os.path.normpath(\n",
    "    os.path.abspath(os.path.join(os.path.dirname(\"__file__\"), os.path.pardir, \"utils\"))\n",
    ")\n",
    "if not (path2add in sys.path):\n",
    "    sys.path.append(path2add)\n",
    "\n",
    "from eda import *"
   ]
  },
  {
   "cell_type": "code",
   "execution_count": 3,
   "metadata": {},
   "outputs": [],
   "source": [
    "# df = pl.read_csv(\"../data/cleaned_google_analytics.csv\",ignore_errors=True)\n",
    "df = pl.read_csv(\"../data/google_analytics_data.csv\",ignore_errors=True)"
   ]
  },
  {
   "cell_type": "code",
   "execution_count": 4,
   "metadata": {},
   "outputs": [
    {
     "data": {
      "text/html": [
       "<div><style>\n",
       ".dataframe > thead > tr,\n",
       ".dataframe > tbody > tr {\n",
       "  text-align: right;\n",
       "  white-space: pre-wrap;\n",
       "}\n",
       "</style>\n",
       "<small>shape: (5, 13)</small><table border=\"1\" class=\"dataframe\"><thead><tr><th>date</th><th>visitStartTime</th><th>fullVisitorId</th><th>subContinent</th><th>country</th><th>city</th><th>browser</th><th>operatingSystem</th><th>deviceCategory</th><th>source</th><th>transactionId</th><th>v2ProductName</th><th>v2ProductCategory</th></tr><tr><td>i64</td><td>i64</td><td>i64</td><td>str</td><td>str</td><td>str</td><td>str</td><td>str</td><td>str</td><td>str</td><td>str</td><td>str</td><td>str</td></tr></thead><tbody><tr><td>20170320</td><td>1490013196</td><td>741694360311983889</td><td>&quot;Southern Europe&quot;</td><td>&quot;Spain&quot;</td><td>&quot;not available in demo dataset&quot;</td><td>&quot;Chrome&quot;</td><td>&quot;Windows&quot;</td><td>&quot;desktop&quot;</td><td>&quot;google&quot;</td><td>null</td><td>&quot;YouTube Hard Cover Journal&quot;</td><td>&quot;Home/Shop by Brand/YouTube/&quot;</td></tr><tr><td>20170320</td><td>1490075224</td><td>751716124732042493</td><td>&quot;Northern America&quot;</td><td>&quot;United States&quot;</td><td>&quot;New York&quot;</td><td>&quot;Safari&quot;</td><td>&quot;iOS&quot;</td><td>&quot;mobile&quot;</td><td>&quot;google&quot;</td><td>null</td><td>&quot;Google Alpine Style Backpack&quot;</td><td>&quot;Home/Bags/&quot;</td></tr><tr><td>20170320</td><td>1490069949</td><td>3875753008535006311</td><td>&quot;Northern America&quot;</td><td>&quot;United States&quot;</td><td>&quot;not available in demo dataset&quot;</td><td>&quot;Safari (in-app)&quot;</td><td>&quot;iOS&quot;</td><td>&quot;mobile&quot;</td><td>&quot;m.facebook.com&quot;</td><td>null</td><td>&quot;YouTube Custom Decals&quot;</td><td>&quot;Home/Shop by Brand/YouTube/&quot;</td></tr><tr><td>20170320</td><td>1490030549</td><td>null</td><td>&quot;Southern Europe&quot;</td><td>&quot;Spain&quot;</td><td>&quot;Barcelona&quot;</td><td>&quot;Chrome&quot;</td><td>&quot;Macintosh&quot;</td><td>&quot;desktop&quot;</td><td>&quot;google&quot;</td><td>null</td><td>&quot;Suitcase Organizer Cubes&quot;</td><td>&quot;Home/Bags/&quot;</td></tr><tr><td>20170210</td><td>1486780166</td><td>1321377067218362907</td><td>&quot;Northern America&quot;</td><td>&quot;United States&quot;</td><td>&quot;not available in demo dataset&quot;</td><td>&quot;Chrome&quot;</td><td>&quot;Android&quot;</td><td>&quot;mobile&quot;</td><td>&quot;google&quot;</td><td>null</td><td>&quot;YouTube RFID Journal&quot;</td><td>&quot;Home/Shop by Brand/YouTube/&quot;</td></tr></tbody></table></div>"
      ],
      "text/plain": [
       "shape: (5, 13)\n",
       "┌──────────┬───────────┬───────────┬───────────┬───┬───────────┬───────────┬───────────┬───────────┐\n",
       "│ date     ┆ visitStar ┆ fullVisit ┆ subContin ┆ … ┆ source    ┆ transacti ┆ v2Product ┆ v2Product │\n",
       "│ ---      ┆ tTime     ┆ orId      ┆ ent       ┆   ┆ ---       ┆ onId      ┆ Name      ┆ Category  │\n",
       "│ i64      ┆ ---       ┆ ---       ┆ ---       ┆   ┆ str       ┆ ---       ┆ ---       ┆ ---       │\n",
       "│          ┆ i64       ┆ i64       ┆ str       ┆   ┆           ┆ str       ┆ str       ┆ str       │\n",
       "╞══════════╪═══════════╪═══════════╪═══════════╪═══╪═══════════╪═══════════╪═══════════╪═══════════╡\n",
       "│ 20170320 ┆ 149001319 ┆ 741694360 ┆ Southern  ┆ … ┆ google    ┆ null      ┆ YouTube   ┆ Home/Shop │\n",
       "│          ┆ 6         ┆ 311983889 ┆ Europe    ┆   ┆           ┆           ┆ Hard      ┆ by Brand/ │\n",
       "│          ┆           ┆           ┆           ┆   ┆           ┆           ┆ Cover     ┆ YouTube/  │\n",
       "│          ┆           ┆           ┆           ┆   ┆           ┆           ┆ Journal   ┆           │\n",
       "│ 20170320 ┆ 149007522 ┆ 751716124 ┆ Northern  ┆ … ┆ google    ┆ null      ┆ Google    ┆ Home/Bags │\n",
       "│          ┆ 4         ┆ 732042493 ┆ America   ┆   ┆           ┆           ┆ Alpine    ┆ /         │\n",
       "│          ┆           ┆           ┆           ┆   ┆           ┆           ┆ Style     ┆           │\n",
       "│          ┆           ┆           ┆           ┆   ┆           ┆           ┆ Backpack  ┆           │\n",
       "│ 20170320 ┆ 149006994 ┆ 387575300 ┆ Northern  ┆ … ┆ m.faceboo ┆ null      ┆ YouTube   ┆ Home/Shop │\n",
       "│          ┆ 9         ┆ 853500631 ┆ America   ┆   ┆ k.com     ┆           ┆ Custom    ┆ by Brand/ │\n",
       "│          ┆           ┆ 1         ┆           ┆   ┆           ┆           ┆ Decals    ┆ YouTube/  │\n",
       "│ 20170320 ┆ 149003054 ┆ null      ┆ Southern  ┆ … ┆ google    ┆ null      ┆ Suitcase  ┆ Home/Bags │\n",
       "│          ┆ 9         ┆           ┆ Europe    ┆   ┆           ┆           ┆ Organizer ┆ /         │\n",
       "│          ┆           ┆           ┆           ┆   ┆           ┆           ┆ Cubes     ┆           │\n",
       "│ 20170210 ┆ 148678016 ┆ 132137706 ┆ Northern  ┆ … ┆ google    ┆ null      ┆ YouTube   ┆ Home/Shop │\n",
       "│          ┆ 6         ┆ 721836290 ┆ America   ┆   ┆           ┆           ┆ RFID      ┆ by Brand/ │\n",
       "│          ┆           ┆ 7         ┆           ┆   ┆           ┆           ┆ Journal   ┆ YouTube/  │\n",
       "└──────────┴───────────┴───────────┴───────────┴───┴───────────┴───────────┴───────────┴───────────┘"
      ]
     },
     "execution_count": 4,
     "metadata": {},
     "output_type": "execute_result"
    }
   ],
   "source": [
    "df.head()"
   ]
  },
  {
   "cell_type": "code",
   "execution_count": 5,
   "metadata": {},
   "outputs": [
    {
     "data": {
      "text/plain": [
       "(18608748, 13)"
      ]
     },
     "execution_count": 5,
     "metadata": {},
     "output_type": "execute_result"
    }
   ],
   "source": [
    "df.shape"
   ]
  },
  {
   "cell_type": "code",
   "execution_count": 6,
   "metadata": {},
   "outputs": [
    {
     "data": {
      "text/plain": [
       "['date',\n",
       " 'visitStartTime',\n",
       " 'fullVisitorId',\n",
       " 'subContinent',\n",
       " 'country',\n",
       " 'city',\n",
       " 'browser',\n",
       " 'operatingSystem',\n",
       " 'deviceCategory',\n",
       " 'source',\n",
       " 'transactionId',\n",
       " 'v2ProductName',\n",
       " 'v2ProductCategory']"
      ]
     },
     "execution_count": 6,
     "metadata": {},
     "output_type": "execute_result"
    }
   ],
   "source": [
    "df.columns"
   ]
  },
  {
   "cell_type": "code",
   "execution_count": 7,
   "metadata": {},
   "outputs": [
    {
     "data": {
      "text/plain": [
       "[Int64,\n",
       " Int64,\n",
       " Int64,\n",
       " String,\n",
       " String,\n",
       " String,\n",
       " String,\n",
       " String,\n",
       " String,\n",
       " String,\n",
       " String,\n",
       " String,\n",
       " String]"
      ]
     },
     "execution_count": 7,
     "metadata": {},
     "output_type": "execute_result"
    }
   ],
   "source": [
    "df.dtypes"
   ]
  },
  {
   "cell_type": "code",
   "execution_count": 8,
   "metadata": {},
   "outputs": [
    {
     "data": {
      "text/html": [
       "<div><style>\n",
       ".dataframe > thead > tr,\n",
       ".dataframe > tbody > tr {\n",
       "  text-align: right;\n",
       "  white-space: pre-wrap;\n",
       "}\n",
       "</style>\n",
       "<small>shape: (9, 14)</small><table border=\"1\" class=\"dataframe\"><thead><tr><th>statistic</th><th>date</th><th>visitStartTime</th><th>fullVisitorId</th><th>subContinent</th><th>country</th><th>city</th><th>browser</th><th>operatingSystem</th><th>deviceCategory</th><th>source</th><th>transactionId</th><th>v2ProductName</th><th>v2ProductCategory</th></tr><tr><td>str</td><td>f64</td><td>f64</td><td>f64</td><td>str</td><td>str</td><td>str</td><td>str</td><td>str</td><td>str</td><td>str</td><td>str</td><td>str</td><td>str</td></tr></thead><tbody><tr><td>&quot;count&quot;</td><td>1.8608748e7</td><td>1.8608748e7</td><td>1.7310293e7</td><td>&quot;18608748&quot;</td><td>&quot;18608748&quot;</td><td>&quot;18608748&quot;</td><td>&quot;18608748&quot;</td><td>&quot;18608748&quot;</td><td>&quot;18608748&quot;</td><td>&quot;18608748&quot;</td><td>&quot;74457&quot;</td><td>&quot;18608748&quot;</td><td>&quot;18608748&quot;</td></tr><tr><td>&quot;null_count&quot;</td><td>0.0</td><td>0.0</td><td>1.298455e6</td><td>&quot;0&quot;</td><td>&quot;0&quot;</td><td>&quot;0&quot;</td><td>&quot;0&quot;</td><td>&quot;0&quot;</td><td>&quot;0&quot;</td><td>&quot;0&quot;</td><td>&quot;18534291&quot;</td><td>&quot;0&quot;</td><td>&quot;0&quot;</td></tr><tr><td>&quot;mean&quot;</td><td>2.0165e7</td><td>1.4827e9</td><td>4.1259e18</td><td>null</td><td>null</td><td>null</td><td>null</td><td>null</td><td>null</td><td>null</td><td>null</td><td>null</td><td>null</td></tr><tr><td>&quot;std&quot;</td><td>4692.943408</td><td>9.7233e6</td><td>2.8348e18</td><td>null</td><td>null</td><td>null</td><td>null</td><td>null</td><td>null</td><td>null</td><td>null</td><td>null</td><td>null</td></tr><tr><td>&quot;min&quot;</td><td>2.0160801e7</td><td>1.4700e9</td><td>5.1040e12</td><td>&quot;(not set)&quot;</td><td>&quot;(not set)&quot;</td><td>&quot;&#x27;s Hertogenbosch&quot;</td><td>&quot;(not set)&quot;</td><td>&quot;(not set)&quot;</td><td>&quot;desktop&quot;</td><td>&quot;(direct)&quot;</td><td>&quot;ORD2016080112&quot;</td><td>&quot;1 oz Hand Sanitizer&quot;</td><td>&quot;${escCatTitle}&quot;</td></tr><tr><td>&quot;25%&quot;</td><td>2.0160912e7</td><td>1.4737e9</td><td>1.4003e18</td><td>null</td><td>null</td><td>null</td><td>null</td><td>null</td><td>null</td><td>null</td><td>null</td><td>null</td><td>null</td></tr><tr><td>&quot;50%&quot;</td><td>2.0161205e7</td><td>1.4809e9</td><td>4.0153e18</td><td>null</td><td>null</td><td>null</td><td>null</td><td>null</td><td>null</td><td>null</td><td>null</td><td>null</td><td>null</td></tr><tr><td>&quot;75%&quot;</td><td>2.0170402e7</td><td>1.4911e9</td><td>6.6050e18</td><td>null</td><td>null</td><td>null</td><td>null</td><td>null</td><td>null</td><td>null</td><td>null</td><td>null</td><td>null</td></tr><tr><td>&quot;max&quot;</td><td>2.0170801e7</td><td>1.5017e9</td><td>9.2234e18</td><td>&quot;Western Europe&quot;</td><td>&quot;Åland Islands&quot;</td><td>&quot;not available in demo dataset&quot;</td><td>&quot;osee2unifiedRelease&quot;</td><td>&quot;iOS&quot;</td><td>&quot;tablet&quot;</td><td>&quot;youtube.com&quot;</td><td>&quot;ORD201708012585&quot;</td><td>&quot;YouTube Youth Short Sleeve Tee…</td><td>&quot;YouTube/&quot;</td></tr></tbody></table></div>"
      ],
      "text/plain": [
       "shape: (9, 14)\n",
       "┌───────────┬───────────┬───────────┬───────────┬───┬───────────┬───────────┬───────────┬──────────┐\n",
       "│ statistic ┆ date      ┆ visitStar ┆ fullVisit ┆ … ┆ source    ┆ transacti ┆ v2Product ┆ v2Produc │\n",
       "│ ---       ┆ ---       ┆ tTime     ┆ orId      ┆   ┆ ---       ┆ onId      ┆ Name      ┆ tCategor │\n",
       "│ str       ┆ f64       ┆ ---       ┆ ---       ┆   ┆ str       ┆ ---       ┆ ---       ┆ y        │\n",
       "│           ┆           ┆ f64       ┆ f64       ┆   ┆           ┆ str       ┆ str       ┆ ---      │\n",
       "│           ┆           ┆           ┆           ┆   ┆           ┆           ┆           ┆ str      │\n",
       "╞═══════════╪═══════════╪═══════════╪═══════════╪═══╪═══════════╪═══════════╪═══════════╪══════════╡\n",
       "│ count     ┆ 1.8608748 ┆ 1.8608748 ┆ 1.7310293 ┆ … ┆ 18608748  ┆ 74457     ┆ 18608748  ┆ 18608748 │\n",
       "│           ┆ e7        ┆ e7        ┆ e7        ┆   ┆           ┆           ┆           ┆          │\n",
       "│ null_coun ┆ 0.0       ┆ 0.0       ┆ 1.298455e ┆ … ┆ 0         ┆ 18534291  ┆ 0         ┆ 0        │\n",
       "│ t         ┆           ┆           ┆ 6         ┆   ┆           ┆           ┆           ┆          │\n",
       "│ mean      ┆ 2.0165e7  ┆ 1.4827e9  ┆ 4.1259e18 ┆ … ┆ null      ┆ null      ┆ null      ┆ null     │\n",
       "│ std       ┆ 4692.9434 ┆ 9.7233e6  ┆ 2.8348e18 ┆ … ┆ null      ┆ null      ┆ null      ┆ null     │\n",
       "│           ┆ 08        ┆           ┆           ┆   ┆           ┆           ┆           ┆          │\n",
       "│ min       ┆ 2.0160801 ┆ 1.4700e9  ┆ 5.1040e12 ┆ … ┆ (direct)  ┆ ORD201608 ┆ 1 oz Hand ┆ ${escCat │\n",
       "│           ┆ e7        ┆           ┆           ┆   ┆           ┆ 0112      ┆ Sanitizer ┆ Title}   │\n",
       "│ 25%       ┆ 2.0160912 ┆ 1.4737e9  ┆ 1.4003e18 ┆ … ┆ null      ┆ null      ┆ null      ┆ null     │\n",
       "│           ┆ e7        ┆           ┆           ┆   ┆           ┆           ┆           ┆          │\n",
       "│ 50%       ┆ 2.0161205 ┆ 1.4809e9  ┆ 4.0153e18 ┆ … ┆ null      ┆ null      ┆ null      ┆ null     │\n",
       "│           ┆ e7        ┆           ┆           ┆   ┆           ┆           ┆           ┆          │\n",
       "│ 75%       ┆ 2.0170402 ┆ 1.4911e9  ┆ 6.6050e18 ┆ … ┆ null      ┆ null      ┆ null      ┆ null     │\n",
       "│           ┆ e7        ┆           ┆           ┆   ┆           ┆           ┆           ┆          │\n",
       "│ max       ┆ 2.0170801 ┆ 1.5017e9  ┆ 9.2234e18 ┆ … ┆ youtube.c ┆ ORD201708 ┆ YouTube   ┆ YouTube/ │\n",
       "│           ┆ e7        ┆           ┆           ┆   ┆ om        ┆ 012585    ┆ Youth     ┆          │\n",
       "│           ┆           ┆           ┆           ┆   ┆           ┆           ┆ Short     ┆          │\n",
       "│           ┆           ┆           ┆           ┆   ┆           ┆           ┆ Sleeve    ┆          │\n",
       "│           ┆           ┆           ┆           ┆   ┆           ┆           ┆ Tee…      ┆          │\n",
       "└───────────┴───────────┴───────────┴───────────┴───┴───────────┴───────────┴───────────┴──────────┘"
      ]
     },
     "execution_count": 8,
     "metadata": {},
     "output_type": "execute_result"
    }
   ],
   "source": [
    "df.describe()"
   ]
  },
  {
   "cell_type": "code",
   "execution_count": 9,
   "metadata": {},
   "outputs": [
    {
     "data": {
      "text/html": [
       "<div><style>\n",
       ".dataframe > thead > tr,\n",
       ".dataframe > tbody > tr {\n",
       "  text-align: right;\n",
       "  white-space: pre-wrap;\n",
       "}\n",
       "</style>\n",
       "<small>shape: (1, 13)</small><table border=\"1\" class=\"dataframe\"><thead><tr><th>date</th><th>visitStartTime</th><th>fullVisitorId</th><th>subContinent</th><th>country</th><th>city</th><th>browser</th><th>operatingSystem</th><th>deviceCategory</th><th>source</th><th>transactionId</th><th>v2ProductName</th><th>v2ProductCategory</th></tr><tr><td>u32</td><td>u32</td><td>u32</td><td>u32</td><td>u32</td><td>u32</td><td>u32</td><td>u32</td><td>u32</td><td>u32</td><td>u32</td><td>u32</td><td>u32</td></tr></thead><tbody><tr><td>0</td><td>0</td><td>1298455</td><td>0</td><td>0</td><td>0</td><td>0</td><td>0</td><td>0</td><td>0</td><td>18534291</td><td>0</td><td>0</td></tr></tbody></table></div>"
      ],
      "text/plain": [
       "shape: (1, 13)\n",
       "┌──────┬─────────────┬────────────┬────────────┬───┬────────┬────────────┬────────────┬────────────┐\n",
       "│ date ┆ visitStartT ┆ fullVisito ┆ subContine ┆ … ┆ source ┆ transactio ┆ v2ProductN ┆ v2ProductC │\n",
       "│ ---  ┆ ime         ┆ rId        ┆ nt         ┆   ┆ ---    ┆ nId        ┆ ame        ┆ ategory    │\n",
       "│ u32  ┆ ---         ┆ ---        ┆ ---        ┆   ┆ u32    ┆ ---        ┆ ---        ┆ ---        │\n",
       "│      ┆ u32         ┆ u32        ┆ u32        ┆   ┆        ┆ u32        ┆ u32        ┆ u32        │\n",
       "╞══════╪═════════════╪════════════╪════════════╪═══╪════════╪════════════╪════════════╪════════════╡\n",
       "│ 0    ┆ 0           ┆ 1298455    ┆ 0          ┆ … ┆ 0      ┆ 18534291   ┆ 0          ┆ 0          │\n",
       "└──────┴─────────────┴────────────┴────────────┴───┴────────┴────────────┴────────────┴────────────┘"
      ]
     },
     "execution_count": 9,
     "metadata": {},
     "output_type": "execute_result"
    }
   ],
   "source": [
    "df.select(pl.all().is_null().sum())"
   ]
  },
  {
   "cell_type": "code",
   "execution_count": 10,
   "metadata": {},
   "outputs": [
    {
     "name": "stdout",
     "output_type": "stream",
     "text": [
      "Unique visitors:\n",
      "shape: (1, 1)\n",
      "┌───────────────┐\n",
      "│ fullVisitorId │\n",
      "│ ---           │\n",
      "│ u32           │\n",
      "╞═══════════════╡\n",
      "│ 334653        │\n",
      "└───────────────┘\n"
     ]
    }
   ],
   "source": [
    "# Unique visitors \n",
    "print(\"Unique visitors:\")\n",
    "print(df.select(pl.col('fullVisitorId').n_unique()))"
   ]
  },
  {
   "cell_type": "code",
   "execution_count": 11,
   "metadata": {},
   "outputs": [
    {
     "data": {
      "text/html": [
       "<div><style>\n",
       ".dataframe > thead > tr,\n",
       ".dataframe > tbody > tr {\n",
       "  text-align: right;\n",
       "  white-space: pre-wrap;\n",
       "}\n",
       "</style>\n",
       "<small>shape: (10, 2)</small><table border=\"1\" class=\"dataframe\"><thead><tr><th>city</th><th>count</th></tr><tr><td>str</td><td>u32</td></tr></thead><tbody><tr><td>&quot;not available in demo dataset&quot;</td><td>9879575</td></tr><tr><td>&quot;Mountain View&quot;</td><td>1479141</td></tr><tr><td>&quot;New York&quot;</td><td>968011</td></tr><tr><td>&quot;San Francisco&quot;</td><td>628853</td></tr><tr><td>&quot;Sunnyvale&quot;</td><td>490439</td></tr><tr><td>&quot;(not set)&quot;</td><td>423707</td></tr><tr><td>&quot;San Jose&quot;</td><td>341132</td></tr><tr><td>&quot;Los Angeles&quot;</td><td>275126</td></tr><tr><td>&quot;Chicago&quot;</td><td>260783</td></tr><tr><td>&quot;London&quot;</td><td>177446</td></tr></tbody></table></div>"
      ],
      "text/plain": [
       "shape: (10, 2)\n",
       "┌───────────────────────────────┬─────────┐\n",
       "│ city                          ┆ count   │\n",
       "│ ---                           ┆ ---     │\n",
       "│ str                           ┆ u32     │\n",
       "╞═══════════════════════════════╪═════════╡\n",
       "│ not available in demo dataset ┆ 9879575 │\n",
       "│ Mountain View                 ┆ 1479141 │\n",
       "│ New York                      ┆ 968011  │\n",
       "│ San Francisco                 ┆ 628853  │\n",
       "│ Sunnyvale                     ┆ 490439  │\n",
       "│ (not set)                     ┆ 423707  │\n",
       "│ San Jose                      ┆ 341132  │\n",
       "│ Los Angeles                   ┆ 275126  │\n",
       "│ Chicago                       ┆ 260783  │\n",
       "│ London                        ┆ 177446  │\n",
       "└───────────────────────────────┴─────────┘"
      ]
     },
     "execution_count": 11,
     "metadata": {},
     "output_type": "execute_result"
    }
   ],
   "source": [
    "print_popular_stats(df, \"city\")"
   ]
  },
  {
   "cell_type": "code",
   "execution_count": 12,
   "metadata": {},
   "outputs": [
    {
     "name": "stdout",
     "output_type": "stream",
     "text": [
      "Number of transactions:  shape: (1, 1)\n",
      "┌───────────────┐\n",
      "│ transactionId │\n",
      "│ ---           │\n",
      "│ u32           │\n",
      "╞═══════════════╡\n",
      "│ 74457         │\n",
      "└───────────────┘\n"
     ]
    }
   ],
   "source": [
    "# Total transactions \n",
    "print(\"Number of transactions: \",df.select(pl.col(\"transactionId\").is_not_null().sum()))"
   ]
  },
  {
   "cell_type": "code",
   "execution_count": 13,
   "metadata": {},
   "outputs": [
    {
     "data": {
      "application/vnd.plotly.v1+json": {
       "config": {
        "plotlyServerURL": "https://plot.ly"
       },
       "data": [
        {
         "domain": {
          "x": [
           0,
           1
          ],
          "y": [
           0,
           1
          ]
         },
         "hovertemplate": "v2ProductCategory=%{label}<br>count=%{value}<extra></extra>",
         "labels": [
          "Apparel",
          "(not set)",
          "Office",
          "Drinkware",
          "Lifestyle",
          "Bags",
          "Electronics",
          "Headgear",
          "Notebooks & Journals",
          "Waze"
         ],
         "legendgroup": "",
         "name": "",
         "showlegend": true,
         "type": "pie",
         "values": [
          26276,
          16416,
          11064,
          5865,
          4444,
          2968,
          2390,
          1204,
          718,
          568
         ]
        }
       ],
       "layout": {
        "legend": {
         "tracegroupgap": 0
        },
        "template": {
         "data": {
          "bar": [
           {
            "error_x": {
             "color": "#2a3f5f"
            },
            "error_y": {
             "color": "#2a3f5f"
            },
            "marker": {
             "line": {
              "color": "#E5ECF6",
              "width": 0.5
             },
             "pattern": {
              "fillmode": "overlay",
              "size": 10,
              "solidity": 0.2
             }
            },
            "type": "bar"
           }
          ],
          "barpolar": [
           {
            "marker": {
             "line": {
              "color": "#E5ECF6",
              "width": 0.5
             },
             "pattern": {
              "fillmode": "overlay",
              "size": 10,
              "solidity": 0.2
             }
            },
            "type": "barpolar"
           }
          ],
          "carpet": [
           {
            "aaxis": {
             "endlinecolor": "#2a3f5f",
             "gridcolor": "white",
             "linecolor": "white",
             "minorgridcolor": "white",
             "startlinecolor": "#2a3f5f"
            },
            "baxis": {
             "endlinecolor": "#2a3f5f",
             "gridcolor": "white",
             "linecolor": "white",
             "minorgridcolor": "white",
             "startlinecolor": "#2a3f5f"
            },
            "type": "carpet"
           }
          ],
          "choropleth": [
           {
            "colorbar": {
             "outlinewidth": 0,
             "ticks": ""
            },
            "type": "choropleth"
           }
          ],
          "contour": [
           {
            "colorbar": {
             "outlinewidth": 0,
             "ticks": ""
            },
            "colorscale": [
             [
              0,
              "#0d0887"
             ],
             [
              0.1111111111111111,
              "#46039f"
             ],
             [
              0.2222222222222222,
              "#7201a8"
             ],
             [
              0.3333333333333333,
              "#9c179e"
             ],
             [
              0.4444444444444444,
              "#bd3786"
             ],
             [
              0.5555555555555556,
              "#d8576b"
             ],
             [
              0.6666666666666666,
              "#ed7953"
             ],
             [
              0.7777777777777778,
              "#fb9f3a"
             ],
             [
              0.8888888888888888,
              "#fdca26"
             ],
             [
              1,
              "#f0f921"
             ]
            ],
            "type": "contour"
           }
          ],
          "contourcarpet": [
           {
            "colorbar": {
             "outlinewidth": 0,
             "ticks": ""
            },
            "type": "contourcarpet"
           }
          ],
          "heatmap": [
           {
            "colorbar": {
             "outlinewidth": 0,
             "ticks": ""
            },
            "colorscale": [
             [
              0,
              "#0d0887"
             ],
             [
              0.1111111111111111,
              "#46039f"
             ],
             [
              0.2222222222222222,
              "#7201a8"
             ],
             [
              0.3333333333333333,
              "#9c179e"
             ],
             [
              0.4444444444444444,
              "#bd3786"
             ],
             [
              0.5555555555555556,
              "#d8576b"
             ],
             [
              0.6666666666666666,
              "#ed7953"
             ],
             [
              0.7777777777777778,
              "#fb9f3a"
             ],
             [
              0.8888888888888888,
              "#fdca26"
             ],
             [
              1,
              "#f0f921"
             ]
            ],
            "type": "heatmap"
           }
          ],
          "heatmapgl": [
           {
            "colorbar": {
             "outlinewidth": 0,
             "ticks": ""
            },
            "colorscale": [
             [
              0,
              "#0d0887"
             ],
             [
              0.1111111111111111,
              "#46039f"
             ],
             [
              0.2222222222222222,
              "#7201a8"
             ],
             [
              0.3333333333333333,
              "#9c179e"
             ],
             [
              0.4444444444444444,
              "#bd3786"
             ],
             [
              0.5555555555555556,
              "#d8576b"
             ],
             [
              0.6666666666666666,
              "#ed7953"
             ],
             [
              0.7777777777777778,
              "#fb9f3a"
             ],
             [
              0.8888888888888888,
              "#fdca26"
             ],
             [
              1,
              "#f0f921"
             ]
            ],
            "type": "heatmapgl"
           }
          ],
          "histogram": [
           {
            "marker": {
             "pattern": {
              "fillmode": "overlay",
              "size": 10,
              "solidity": 0.2
             }
            },
            "type": "histogram"
           }
          ],
          "histogram2d": [
           {
            "colorbar": {
             "outlinewidth": 0,
             "ticks": ""
            },
            "colorscale": [
             [
              0,
              "#0d0887"
             ],
             [
              0.1111111111111111,
              "#46039f"
             ],
             [
              0.2222222222222222,
              "#7201a8"
             ],
             [
              0.3333333333333333,
              "#9c179e"
             ],
             [
              0.4444444444444444,
              "#bd3786"
             ],
             [
              0.5555555555555556,
              "#d8576b"
             ],
             [
              0.6666666666666666,
              "#ed7953"
             ],
             [
              0.7777777777777778,
              "#fb9f3a"
             ],
             [
              0.8888888888888888,
              "#fdca26"
             ],
             [
              1,
              "#f0f921"
             ]
            ],
            "type": "histogram2d"
           }
          ],
          "histogram2dcontour": [
           {
            "colorbar": {
             "outlinewidth": 0,
             "ticks": ""
            },
            "colorscale": [
             [
              0,
              "#0d0887"
             ],
             [
              0.1111111111111111,
              "#46039f"
             ],
             [
              0.2222222222222222,
              "#7201a8"
             ],
             [
              0.3333333333333333,
              "#9c179e"
             ],
             [
              0.4444444444444444,
              "#bd3786"
             ],
             [
              0.5555555555555556,
              "#d8576b"
             ],
             [
              0.6666666666666666,
              "#ed7953"
             ],
             [
              0.7777777777777778,
              "#fb9f3a"
             ],
             [
              0.8888888888888888,
              "#fdca26"
             ],
             [
              1,
              "#f0f921"
             ]
            ],
            "type": "histogram2dcontour"
           }
          ],
          "mesh3d": [
           {
            "colorbar": {
             "outlinewidth": 0,
             "ticks": ""
            },
            "type": "mesh3d"
           }
          ],
          "parcoords": [
           {
            "line": {
             "colorbar": {
              "outlinewidth": 0,
              "ticks": ""
             }
            },
            "type": "parcoords"
           }
          ],
          "pie": [
           {
            "automargin": true,
            "type": "pie"
           }
          ],
          "scatter": [
           {
            "fillpattern": {
             "fillmode": "overlay",
             "size": 10,
             "solidity": 0.2
            },
            "type": "scatter"
           }
          ],
          "scatter3d": [
           {
            "line": {
             "colorbar": {
              "outlinewidth": 0,
              "ticks": ""
             }
            },
            "marker": {
             "colorbar": {
              "outlinewidth": 0,
              "ticks": ""
             }
            },
            "type": "scatter3d"
           }
          ],
          "scattercarpet": [
           {
            "marker": {
             "colorbar": {
              "outlinewidth": 0,
              "ticks": ""
             }
            },
            "type": "scattercarpet"
           }
          ],
          "scattergeo": [
           {
            "marker": {
             "colorbar": {
              "outlinewidth": 0,
              "ticks": ""
             }
            },
            "type": "scattergeo"
           }
          ],
          "scattergl": [
           {
            "marker": {
             "colorbar": {
              "outlinewidth": 0,
              "ticks": ""
             }
            },
            "type": "scattergl"
           }
          ],
          "scattermapbox": [
           {
            "marker": {
             "colorbar": {
              "outlinewidth": 0,
              "ticks": ""
             }
            },
            "type": "scattermapbox"
           }
          ],
          "scatterpolar": [
           {
            "marker": {
             "colorbar": {
              "outlinewidth": 0,
              "ticks": ""
             }
            },
            "type": "scatterpolar"
           }
          ],
          "scatterpolargl": [
           {
            "marker": {
             "colorbar": {
              "outlinewidth": 0,
              "ticks": ""
             }
            },
            "type": "scatterpolargl"
           }
          ],
          "scatterternary": [
           {
            "marker": {
             "colorbar": {
              "outlinewidth": 0,
              "ticks": ""
             }
            },
            "type": "scatterternary"
           }
          ],
          "surface": [
           {
            "colorbar": {
             "outlinewidth": 0,
             "ticks": ""
            },
            "colorscale": [
             [
              0,
              "#0d0887"
             ],
             [
              0.1111111111111111,
              "#46039f"
             ],
             [
              0.2222222222222222,
              "#7201a8"
             ],
             [
              0.3333333333333333,
              "#9c179e"
             ],
             [
              0.4444444444444444,
              "#bd3786"
             ],
             [
              0.5555555555555556,
              "#d8576b"
             ],
             [
              0.6666666666666666,
              "#ed7953"
             ],
             [
              0.7777777777777778,
              "#fb9f3a"
             ],
             [
              0.8888888888888888,
              "#fdca26"
             ],
             [
              1,
              "#f0f921"
             ]
            ],
            "type": "surface"
           }
          ],
          "table": [
           {
            "cells": {
             "fill": {
              "color": "#EBF0F8"
             },
             "line": {
              "color": "white"
             }
            },
            "header": {
             "fill": {
              "color": "#C8D4E3"
             },
             "line": {
              "color": "white"
             }
            },
            "type": "table"
           }
          ]
         },
         "layout": {
          "annotationdefaults": {
           "arrowcolor": "#2a3f5f",
           "arrowhead": 0,
           "arrowwidth": 1
          },
          "autotypenumbers": "strict",
          "coloraxis": {
           "colorbar": {
            "outlinewidth": 0,
            "ticks": ""
           }
          },
          "colorscale": {
           "diverging": [
            [
             0,
             "#8e0152"
            ],
            [
             0.1,
             "#c51b7d"
            ],
            [
             0.2,
             "#de77ae"
            ],
            [
             0.3,
             "#f1b6da"
            ],
            [
             0.4,
             "#fde0ef"
            ],
            [
             0.5,
             "#f7f7f7"
            ],
            [
             0.6,
             "#e6f5d0"
            ],
            [
             0.7,
             "#b8e186"
            ],
            [
             0.8,
             "#7fbc41"
            ],
            [
             0.9,
             "#4d9221"
            ],
            [
             1,
             "#276419"
            ]
           ],
           "sequential": [
            [
             0,
             "#0d0887"
            ],
            [
             0.1111111111111111,
             "#46039f"
            ],
            [
             0.2222222222222222,
             "#7201a8"
            ],
            [
             0.3333333333333333,
             "#9c179e"
            ],
            [
             0.4444444444444444,
             "#bd3786"
            ],
            [
             0.5555555555555556,
             "#d8576b"
            ],
            [
             0.6666666666666666,
             "#ed7953"
            ],
            [
             0.7777777777777778,
             "#fb9f3a"
            ],
            [
             0.8888888888888888,
             "#fdca26"
            ],
            [
             1,
             "#f0f921"
            ]
           ],
           "sequentialminus": [
            [
             0,
             "#0d0887"
            ],
            [
             0.1111111111111111,
             "#46039f"
            ],
            [
             0.2222222222222222,
             "#7201a8"
            ],
            [
             0.3333333333333333,
             "#9c179e"
            ],
            [
             0.4444444444444444,
             "#bd3786"
            ],
            [
             0.5555555555555556,
             "#d8576b"
            ],
            [
             0.6666666666666666,
             "#ed7953"
            ],
            [
             0.7777777777777778,
             "#fb9f3a"
            ],
            [
             0.8888888888888888,
             "#fdca26"
            ],
            [
             1,
             "#f0f921"
            ]
           ]
          },
          "colorway": [
           "#636efa",
           "#EF553B",
           "#00cc96",
           "#ab63fa",
           "#FFA15A",
           "#19d3f3",
           "#FF6692",
           "#B6E880",
           "#FF97FF",
           "#FECB52"
          ],
          "font": {
           "color": "#2a3f5f"
          },
          "geo": {
           "bgcolor": "white",
           "lakecolor": "white",
           "landcolor": "#E5ECF6",
           "showlakes": true,
           "showland": true,
           "subunitcolor": "white"
          },
          "hoverlabel": {
           "align": "left"
          },
          "hovermode": "closest",
          "mapbox": {
           "style": "light"
          },
          "paper_bgcolor": "white",
          "plot_bgcolor": "#E5ECF6",
          "polar": {
           "angularaxis": {
            "gridcolor": "white",
            "linecolor": "white",
            "ticks": ""
           },
           "bgcolor": "#E5ECF6",
           "radialaxis": {
            "gridcolor": "white",
            "linecolor": "white",
            "ticks": ""
           }
          },
          "scene": {
           "xaxis": {
            "backgroundcolor": "#E5ECF6",
            "gridcolor": "white",
            "gridwidth": 2,
            "linecolor": "white",
            "showbackground": true,
            "ticks": "",
            "zerolinecolor": "white"
           },
           "yaxis": {
            "backgroundcolor": "#E5ECF6",
            "gridcolor": "white",
            "gridwidth": 2,
            "linecolor": "white",
            "showbackground": true,
            "ticks": "",
            "zerolinecolor": "white"
           },
           "zaxis": {
            "backgroundcolor": "#E5ECF6",
            "gridcolor": "white",
            "gridwidth": 2,
            "linecolor": "white",
            "showbackground": true,
            "ticks": "",
            "zerolinecolor": "white"
           }
          },
          "shapedefaults": {
           "line": {
            "color": "#2a3f5f"
           }
          },
          "ternary": {
           "aaxis": {
            "gridcolor": "white",
            "linecolor": "white",
            "ticks": ""
           },
           "baxis": {
            "gridcolor": "white",
            "linecolor": "white",
            "ticks": ""
           },
           "bgcolor": "#E5ECF6",
           "caxis": {
            "gridcolor": "white",
            "linecolor": "white",
            "ticks": ""
           }
          },
          "title": {
           "x": 0.05
          },
          "xaxis": {
           "automargin": true,
           "gridcolor": "white",
           "linecolor": "white",
           "ticks": "",
           "title": {
            "standoff": 15
           },
           "zerolinecolor": "white",
           "zerolinewidth": 2
          },
          "yaxis": {
           "automargin": true,
           "gridcolor": "white",
           "linecolor": "white",
           "ticks": "",
           "title": {
            "standoff": 15
           },
           "zerolinecolor": "white",
           "zerolinewidth": 2
          }
         }
        },
        "title": {
         "text": "Sold Categories"
        }
       }
      }
     },
     "metadata": {},
     "output_type": "display_data"
    }
   ],
   "source": [
    "categories = df.filter(pl.col('transactionId') != 'null').select(pl.col('v2ProductCategory'))\n",
    "categories = categories.select(pl.col(\"v2ProductCategory\").value_counts(sort=True)).unnest(\"v2ProductCategory\")\n",
    "px.pie(categories[:10], values=\"count\", names=\"v2ProductCategory\", title=\"Sold Categories\")"
   ]
  },
  {
   "cell_type": "code",
   "execution_count": 14,
   "metadata": {},
   "outputs": [],
   "source": [
    "pie_categories = df.filter(pl.col('transactionId') != 'null').select(pl.col('v2ProductCategory'))\n",
    "pie_categories = pie_categories.select(pl.col(\"v2ProductCategory\").value_counts(sort=True)).unnest(\"v2ProductCategory\")\n",
    "pie_categories.write_csv(\"../utils/pie_categories.csv\")"
   ]
  },
  {
   "cell_type": "code",
   "execution_count": 15,
   "metadata": {},
   "outputs": [],
   "source": [
    "pie_products=df.filter(pl.col('transactionId') != 'null').select(pl.col('v2ProductName'))\n",
    "pie_products=pie_products.select(pl.col(\"v2ProductName\").value_counts(sort=True)).unnest(\"v2ProductName\")\n",
    "pie_products.write_csv(\"../utils/pie_products.csv\")"
   ]
  },
  {
   "cell_type": "code",
   "execution_count": 16,
   "metadata": {},
   "outputs": [],
   "source": [
    "viewed_products = df.select(pl.col(\"v2ProductName\").value_counts(sort=True)).unnest(\"v2ProductName\")\n",
    "viewed_categories = df.select(pl.col(\"v2ProductCategory\").value_counts(sort=True)).unnest(\"v2ProductCategory\")\n",
    "viewed_products.write_csv(\"../utils/viewed_products.csv\")\n",
    "viewed_categories.write_csv(\"../utils/viewed_categories.csv\")"
   ]
  },
  {
   "cell_type": "code",
   "execution_count": 17,
   "metadata": {},
   "outputs": [
    {
     "data": {
      "image/png": "[encoded data removed]",
      "text/plain": [
       "<Figure size 1200x800 with 1 Axes>"
      ]
     },
     "metadata": {},
     "output_type": "display_data"
    }
   ],
   "source": [
    "country = print_popular_stats(df, \"country\")['country'].to_numpy()\n",
    "count = print_popular_stats(df, \"country\")['count'].to_numpy()\n",
    "bar_plot(country, count,\"Most Popular Countries\")"
   ]
  },
  {
   "cell_type": "code",
   "execution_count": 18,
   "metadata": {},
   "outputs": [
    {
     "data": {
      "image/png": "[encoded data removed]",
      "text/plain": [
       "<Figure size 1200x800 with 1 Axes>"
      ]
     },
     "metadata": {},
     "output_type": "display_data"
    }
   ],
   "source": [
    "source = print_popular_stats(df, \"source\")['source'].to_numpy()\n",
    "count = print_popular_stats(df, \"source\")['count'].to_numpy()\n",
    "bar_plot(source, count,\"Most Popular Sources\")"
   ]
  },
  {
   "cell_type": "code",
   "execution_count": 19,
   "metadata": {},
   "outputs": [
    {
     "data": {
      "image/png": "[encoded data removed]",
      "text/plain": [
       "<Figure size 1200x800 with 1 Axes>"
      ]
     },
     "metadata": {},
     "output_type": "display_data"
    }
   ],
   "source": [
    "device = print_popular_stats(df, \"deviceCategory\")['deviceCategory'].to_numpy()\n",
    "count = print_popular_stats(df, \"deviceCategory\")['count'].to_numpy()\n",
    "bar_plot(device, count,\"Most Popular User Devices\")"
   ]
  },
  {
   "cell_type": "code",
   "execution_count": 20,
   "metadata": {},
   "outputs": [
    {
     "data": {
      "image/png": "[encoded data removed]",
      "text/plain": [
       "<Figure size 1200x800 with 1 Axes>"
      ]
     },
     "metadata": {},
     "output_type": "display_data"
    }
   ],
   "source": [
    "os = print_popular_stats(df, \"operatingSystem\")['operatingSystem'].to_numpy()\n",
    "count = print_popular_stats(df, \"operatingSystem\")['count'].to_numpy()\n",
    "bar_plot(os, count,\"Most Popular Operating System\")"
   ]
  },
  {
   "cell_type": "code",
   "execution_count": 41,
   "metadata": {},
   "outputs": [],
   "source": [
    "daily_visitors=df.group_by(pl.col('date')).agg(pl.col('fullVisitorId').unique().len()).sort(\"date\")"
   ]
  },
  {
   "cell_type": "code",
   "execution_count": 42,
   "metadata": {},
   "outputs": [],
   "source": [
    "daily_visitors = daily_visitors.with_columns(\n",
    "    pl.col(\"date\")\n",
    "    .cast(pl.Utf8)  # Convert to string to parse as date\n",
    "    .str.strptime(pl.Date, format=\"%Y%m%d\")  # Parse as date\n",
    "    .dt.strftime(\"%d-%m-%Y\")  # Format as day-month-year\n",
    "    .alias(\"date\")  # Add a new column with formatted dates\n",
    ")"
   ]
  },
  {
   "cell_type": "code",
   "execution_count": 44,
   "metadata": {},
   "outputs": [],
   "source": [
    "daily_visitors.write_csv(\"../utils/daily_visitors.csv\")"
   ]
  },
  {
   "cell_type": "code",
   "execution_count": 43,
   "metadata": {},
   "outputs": [
    {
     "data": {
      "text/html": [
       "<div><style>\n",
       ".dataframe > thead > tr,\n",
       ".dataframe > tbody > tr {\n",
       "  text-align: right;\n",
       "  white-space: pre-wrap;\n",
       "}\n",
       "</style>\n",
       "<small>shape: (366, 2)</small><table border=\"1\" class=\"dataframe\"><thead><tr><th>date</th><th>fullVisitorId</th></tr><tr><td>str</td><td>u32</td></tr></thead><tbody><tr><td>&quot;01-08-2016&quot;</td><td>837</td></tr><tr><td>&quot;02-08-2016&quot;</td><td>921</td></tr><tr><td>&quot;03-08-2016&quot;</td><td>1084</td></tr><tr><td>&quot;04-08-2016&quot;</td><td>1252</td></tr><tr><td>&quot;05-08-2016&quot;</td><td>1049</td></tr><tr><td>&hellip;</td><td>&hellip;</td></tr><tr><td>&quot;28-07-2017&quot;</td><td>1425</td></tr><tr><td>&quot;29-07-2017&quot;</td><td>1032</td></tr><tr><td>&quot;30-07-2017&quot;</td><td>1174</td></tr><tr><td>&quot;31-07-2017&quot;</td><td>1534</td></tr><tr><td>&quot;01-08-2017&quot;</td><td>1438</td></tr></tbody></table></div>"
      ],
      "text/plain": [
       "shape: (366, 2)\n",
       "┌────────────┬───────────────┐\n",
       "│ date       ┆ fullVisitorId │\n",
       "│ ---        ┆ ---           │\n",
       "│ str        ┆ u32           │\n",
       "╞════════════╪═══════════════╡\n",
       "│ 01-08-2016 ┆ 837           │\n",
       "│ 02-08-2016 ┆ 921           │\n",
       "│ 03-08-2016 ┆ 1084          │\n",
       "│ 04-08-2016 ┆ 1252          │\n",
       "│ 05-08-2016 ┆ 1049          │\n",
       "│ …          ┆ …             │\n",
       "│ 28-07-2017 ┆ 1425          │\n",
       "│ 29-07-2017 ┆ 1032          │\n",
       "│ 30-07-2017 ┆ 1174          │\n",
       "│ 31-07-2017 ┆ 1534          │\n",
       "│ 01-08-2017 ┆ 1438          │\n",
       "└────────────┴───────────────┘"
      ]
     },
     "execution_count": 43,
     "metadata": {},
     "output_type": "execute_result"
    }
   ],
   "source": [
    "daily_visitors"
   ]
  },
  {
   "cell_type": "code",
   "execution_count": 37,
   "metadata": {},
   "outputs": [],
   "source": [
    "daily_purchases=df.filter(pl.col('transactionId') != 'null').group_by(\n",
    "    pl.col('date')).agg(pl.len()).sort(\"date\")"
   ]
  },
  {
   "cell_type": "code",
   "execution_count": 38,
   "metadata": {},
   "outputs": [],
   "source": [
    "daily_purchases = daily_purchases.with_columns(\n",
    "    pl.col(\"date\")\n",
    "    .cast(pl.Utf8)  # Convert to string to parse as date\n",
    "    .str.strptime(pl.Date, format=\"%Y%m%d\")  # Parse as date\n",
    "    .dt.strftime(\"%d-%m-%Y\")  # Format as day-month-year\n",
    "    .alias(\"date\")  # Add a new column with formatted dates\n",
    ")"
   ]
  },
  {
   "cell_type": "code",
   "execution_count": 39,
   "metadata": {},
   "outputs": [
    {
     "data": {
      "text/html": [
       "<div><style>\n",
       ".dataframe > thead > tr,\n",
       ".dataframe > tbody > tr {\n",
       "  text-align: right;\n",
       "  white-space: pre-wrap;\n",
       "}\n",
       "</style>\n",
       "<small>shape: (365, 2)</small><table border=\"1\" class=\"dataframe\"><thead><tr><th>date</th><th>len</th></tr><tr><td>str</td><td>u32</td></tr></thead><tbody><tr><td>&quot;01-08-2016&quot;</td><td>226</td></tr><tr><td>&quot;02-08-2016&quot;</td><td>124</td></tr><tr><td>&quot;04-08-2016&quot;</td><td>78</td></tr><tr><td>&quot;05-08-2016&quot;</td><td>376</td></tr><tr><td>&quot;06-08-2016&quot;</td><td>148</td></tr><tr><td>&hellip;</td><td>&hellip;</td></tr><tr><td>&quot;28-07-2017&quot;</td><td>330</td></tr><tr><td>&quot;29-07-2017&quot;</td><td>150</td></tr><tr><td>&quot;30-07-2017&quot;</td><td>194</td></tr><tr><td>&quot;31-07-2017&quot;</td><td>462</td></tr><tr><td>&quot;01-08-2017&quot;</td><td>396</td></tr></tbody></table></div>"
      ],
      "text/plain": [
       "shape: (365, 2)\n",
       "┌────────────┬─────┐\n",
       "│ date       ┆ len │\n",
       "│ ---        ┆ --- │\n",
       "│ str        ┆ u32 │\n",
       "╞════════════╪═════╡\n",
       "│ 01-08-2016 ┆ 226 │\n",
       "│ 02-08-2016 ┆ 124 │\n",
       "│ 04-08-2016 ┆ 78  │\n",
       "│ 05-08-2016 ┆ 376 │\n",
       "│ 06-08-2016 ┆ 148 │\n",
       "│ …          ┆ …   │\n",
       "│ 28-07-2017 ┆ 330 │\n",
       "│ 29-07-2017 ┆ 150 │\n",
       "│ 30-07-2017 ┆ 194 │\n",
       "│ 31-07-2017 ┆ 462 │\n",
       "│ 01-08-2017 ┆ 396 │\n",
       "└────────────┴─────┘"
      ]
     },
     "execution_count": 39,
     "metadata": {},
     "output_type": "execute_result"
    }
   ],
   "source": [
    "daily_purchases"
   ]
  },
  {
   "cell_type": "code",
   "execution_count": 40,
   "metadata": {},
   "outputs": [],
   "source": [
    "daily_purchases.write_csv(\"../utils/daily_purchases.csv\")"
   ]
  },
  {
   "cell_type": "code",
   "execution_count": null,
   "metadata": {},
   "outputs": [],
   "source": [
    "popular_products = df.filter(pl.col('transactionId') != 'null').group_by(\n",
    "    pl.col('date','v2ProductName')).agg(pl.len()).sort(\"date\",\"len\", descending=[False, True])"
   ]
  },
  {
   "cell_type": "code",
   "execution_count": null,
   "metadata": {},
   "outputs": [
    {
     "ename": "",
     "evalue": "",
     "output_type": "error",
     "traceback": [
      "\u001b[1;31mThe Kernel crashed while executing code in the current cell or a previous cell. \n",
      "\u001b[1;31mPlease review the code in the cell(s) to identify a possible cause of the failure. \n",
      "\u001b[1;31mClick <a href='https://aka.ms/vscodeJupyterKernelCrash'>here</a> for more info. \n",
      "\u001b[1;31mView Jupyter <a href='command:jupyter.viewOutput'>log</a> for further details."
     ]
    }
   ],
   "source": [
    "daily_visitors=df.group_by(pl.col('date')).agg(pl.col('fullVisitorId').unique().len()).sort(\"date\")\n",
    "daily_visitors"
   ]
  },
  {
   "cell_type": "code",
   "execution_count": null,
   "metadata": {},
   "outputs": [
    {
     "data": {
      "text/html": [
       "<div><style>\n",
       ".dataframe > thead > tr,\n",
       ".dataframe > tbody > tr {\n",
       "  text-align: right;\n",
       "  white-space: pre-wrap;\n",
       "}\n",
       "</style>\n",
       "<small>shape: (23_696, 3)</small><table border=\"1\" class=\"dataframe\"><thead><tr><th>date</th><th>v2ProductName</th><th>len</th></tr><tr><td>i64</td><td>str</td><td>u32</td></tr></thead><tbody><tr><td>20160801</td><td>&quot;Google Sunglasses&quot;</td><td>22</td></tr><tr><td>20160801</td><td>&quot;Gift Card - $25.00&quot;</td><td>20</td></tr><tr><td>20160801</td><td>&quot;22 oz Mini Mountain Bottle&quot;</td><td>12</td></tr><tr><td>20160801</td><td>&quot;Engraved Ceramic Google Mug&quot;</td><td>10</td></tr><tr><td>20160801</td><td>&quot;Google Men&#x27;s 100% Cotton Short…</td><td>8</td></tr><tr><td>&hellip;</td><td>&hellip;</td><td>&hellip;</td></tr><tr><td>20170801</td><td>&quot;Android Lunch Kit&quot;</td><td>2</td></tr><tr><td>20170801</td><td>&quot;Spiral Notebook and Pen Set&quot;</td><td>2</td></tr><tr><td>20170801</td><td>&quot;Waze Baby on Board Window Deca…</td><td>2</td></tr><tr><td>20170801</td><td>&quot;YouTube Men&#x27;s Short Sleeve Her…</td><td>2</td></tr><tr><td>20170801</td><td>&quot;Switch Tone Color Crayon Pen&quot;</td><td>2</td></tr></tbody></table></div>"
      ],
      "text/plain": [
       "shape: (23_696, 3)\n",
       "┌──────────┬─────────────────────────────────┬─────┐\n",
       "│ date     ┆ v2ProductName                   ┆ len │\n",
       "│ ---      ┆ ---                             ┆ --- │\n",
       "│ i64      ┆ str                             ┆ u32 │\n",
       "╞══════════╪═════════════════════════════════╪═════╡\n",
       "│ 20160801 ┆ Google Sunglasses               ┆ 22  │\n",
       "│ 20160801 ┆ Gift Card - $25.00              ┆ 20  │\n",
       "│ 20160801 ┆ 22 oz Mini Mountain Bottle      ┆ 12  │\n",
       "│ 20160801 ┆ Engraved Ceramic Google Mug     ┆ 10  │\n",
       "│ 20160801 ┆ Google Men's 100% Cotton Short… ┆ 8   │\n",
       "│ …        ┆ …                               ┆ …   │\n",
       "│ 20170801 ┆ Android Lunch Kit               ┆ 2   │\n",
       "│ 20170801 ┆ Spiral Notebook and Pen Set     ┆ 2   │\n",
       "│ 20170801 ┆ Waze Baby on Board Window Deca… ┆ 2   │\n",
       "│ 20170801 ┆ YouTube Men's Short Sleeve Her… ┆ 2   │\n",
       "│ 20170801 ┆ Switch Tone Color Crayon Pen    ┆ 2   │\n",
       "└──────────┴─────────────────────────────────┴─────┘"
      ]
     },
     "execution_count": 23,
     "metadata": {},
     "output_type": "execute_result"
    }
   ],
   "source": [
    "popular_products"
   ]
  },
  {
   "cell_type": "code",
   "execution_count": null,
   "metadata": {},
   "outputs": [],
   "source": [
    "# popular_categories.top_k(5, by='len')"
   ]
  },
  {
   "cell_type": "code",
   "execution_count": null,
   "metadata": {},
   "outputs": [
    {
     "data": {
      "text/html": [
       "<div><style>\n",
       ".dataframe > thead > tr,\n",
       ".dataframe > tbody > tr {\n",
       "  text-align: right;\n",
       "  white-space: pre-wrap;\n",
       "}\n",
       "</style>\n",
       "<small>shape: (5, 9)</small><table border=\"1\" class=\"dataframe\"><thead><tr><th>fullVisitorId</th><th>country</th><th>city</th><th>browser</th><th>operatingSystem</th><th>deviceCategory</th><th>source</th><th>transactionId</th><th>v2ProductCategory</th></tr><tr><td>i64</td><td>f64</td><td>f64</td><td>f64</td><td>f64</td><td>f64</td><td>f64</td><td>i64</td><td>f64</td></tr></thead><tbody><tr><td>741694360311983889</td><td>0.00003</td><td>0.003105</td><td>0.004717</td><td>0.002803</td><td>0.005017</td><td>0.00231</td><td>0</td><td>0.0</td></tr><tr><td>751716124732042493</td><td>0.005934</td><td>0.01018</td><td>0.001468</td><td>0.00104</td><td>0.001015</td><td>0.00231</td><td>0</td><td>0.0</td></tr><tr><td>3875753008535006311</td><td>0.005934</td><td>0.003105</td><td>0.000491</td><td>0.00104</td><td>0.001015</td><td>0.000824</td><td>0</td><td>0.0</td></tr><tr><td>null</td><td>0.00003</td><td>0.000514</td><td>0.004717</td><td>0.006595</td><td>0.005017</td><td>0.00231</td><td>0</td><td>0.0</td></tr><tr><td>1321377067218362907</td><td>0.005934</td><td>0.003105</td><td>0.004717</td><td>0.001074</td><td>0.001015</td><td>0.00231</td><td>0</td><td>0.0</td></tr></tbody></table></div>"
      ],
      "text/plain": [
       "shape: (5, 9)\n",
       "┌────────────┬──────────┬──────────┬──────────┬───┬────────────┬──────────┬────────────┬───────────┐\n",
       "│ fullVisito ┆ country  ┆ city     ┆ browser  ┆ … ┆ deviceCate ┆ source   ┆ transactio ┆ v2Product │\n",
       "│ rId        ┆ ---      ┆ ---      ┆ ---      ┆   ┆ gory       ┆ ---      ┆ nId        ┆ Category  │\n",
       "│ ---        ┆ f64      ┆ f64      ┆ f64      ┆   ┆ ---        ┆ f64      ┆ ---        ┆ ---       │\n",
       "│ i64        ┆          ┆          ┆          ┆   ┆ f64        ┆          ┆ i64        ┆ f64       │\n",
       "╞════════════╪══════════╪══════════╪══════════╪═══╪════════════╪══════════╪════════════╪═══════════╡\n",
       "│ 7416943603 ┆ 0.00003  ┆ 0.003105 ┆ 0.004717 ┆ … ┆ 0.005017   ┆ 0.00231  ┆ 0          ┆ 0.0       │\n",
       "│ 11983889   ┆          ┆          ┆          ┆   ┆            ┆          ┆            ┆           │\n",
       "│ 7517161247 ┆ 0.005934 ┆ 0.01018  ┆ 0.001468 ┆ … ┆ 0.001015   ┆ 0.00231  ┆ 0          ┆ 0.0       │\n",
       "│ 32042493   ┆          ┆          ┆          ┆   ┆            ┆          ┆            ┆           │\n",
       "│ 3875753008 ┆ 0.005934 ┆ 0.003105 ┆ 0.000491 ┆ … ┆ 0.001015   ┆ 0.000824 ┆ 0          ┆ 0.0       │\n",
       "│ 535006311  ┆          ┆          ┆          ┆   ┆            ┆          ┆            ┆           │\n",
       "│ null       ┆ 0.00003  ┆ 0.000514 ┆ 0.004717 ┆ … ┆ 0.005017   ┆ 0.00231  ┆ 0          ┆ 0.0       │\n",
       "│ 1321377067 ┆ 0.005934 ┆ 0.003105 ┆ 0.004717 ┆ … ┆ 0.001015   ┆ 0.00231  ┆ 0          ┆ 0.0       │\n",
       "│ 218362907  ┆          ┆          ┆          ┆   ┆            ┆          ┆            ┆           │\n",
       "└────────────┴──────────┴──────────┴──────────┴───┴────────────┴──────────┴────────────┴───────────┘"
      ]
     },
     "execution_count": 24,
     "metadata": {},
     "output_type": "execute_result"
    }
   ],
   "source": [
    "encoded_df = pl.read_csv('../data/encoded_df.csv',ignore_errors=True)\n",
    "encoded_df.head()"
   ]
  },
  {
   "cell_type": "code",
   "execution_count": null,
   "metadata": {},
   "outputs": [
    {
     "data": {
      "application/vnd.plotly.v1+json": {
       "config": {
        "plotlyServerURL": "https://plot.ly"
       },
       "data": [
        {
         "coloraxis": "coloraxis",
         "hovertemplate": "x: %{x}<br>y: %{y}<br>color: %{z}<extra></extra>",
         "name": "0",
         "texttemplate": "%{z:.2f}",
         "type": "heatmap",
         "x": [
          "country",
          "city",
          "browser",
          "operatingSystem",
          "deviceCategory",
          "source",
          "transactionId",
          "v2ProductCategory"
         ],
         "xaxis": "x",
         "y": [
          "country",
          "city",
          "browser",
          "operatingSystem",
          "deviceCategory",
          "source",
          "transactionId",
          "v2ProductCategory"
         ],
         "yaxis": "y",
         "z": [
          [
           1,
           0.4885526875489042,
           0.10787422925914364,
           0.22204195184786543,
           0.08851116761834155,
           0.1855072871476921,
           0.04223784173929549,
           0.07157924748317523
          ],
          [
           0.4885526875489042,
           1,
           0.11117702144324879,
           0.21311969760062638,
           0.08878985872214122,
           0.1711677248288735,
           0.04376410196361507,
           0.0668606661458326
          ],
          [
           0.10787422925914364,
           0.11117702144324877,
           0.9999999999999999,
           0.3010645170471127,
           0.38151737045963763,
           0.1228581719909333,
           0.021469491445968936,
           0.03534513887215895
          ],
          [
           0.22204195184786538,
           0.2131196976006264,
           0.3010645170471127,
           0.9999999999999998,
           0.6998408524552306,
           0.17761006757698522,
           0.03908255835685824,
           0.0590449673658854
          ],
          [
           0.08851116761834155,
           0.08878985872214122,
           0.3815173704596377,
           0.6998408524552306,
           1,
           0.08042728418779124,
           0.027403957848118367,
           0.0432249797286836
          ],
          [
           0.1855072871476921,
           0.1711677248288735,
           0.1228581719909333,
           0.17761006757698522,
           0.08042728418779124,
           0.9999999999999998,
           0.03367215344374254,
           0.06423450815855794
          ],
          [
           0.04223784173929549,
           0.04376410196361507,
           0.021469491445968936,
           0.03908255835685824,
           0.027403957848118367,
           0.03367215344374254,
           1,
           0.43212443427896446
          ],
          [
           0.07157924748317523,
           0.06686066614583261,
           0.03534513887215895,
           0.059044967365885395,
           0.043224979728683596,
           0.06423450815855795,
           0.43212443427896446,
           1
          ]
         ]
        }
       ],
       "layout": {
        "coloraxis": {
         "colorscale": [
          [
           0,
           "#0d0887"
          ],
          [
           0.1111111111111111,
           "#46039f"
          ],
          [
           0.2222222222222222,
           "#7201a8"
          ],
          [
           0.3333333333333333,
           "#9c179e"
          ],
          [
           0.4444444444444444,
           "#bd3786"
          ],
          [
           0.5555555555555556,
           "#d8576b"
          ],
          [
           0.6666666666666666,
           "#ed7953"
          ],
          [
           0.7777777777777778,
           "#fb9f3a"
          ],
          [
           0.8888888888888888,
           "#fdca26"
          ],
          [
           1,
           "#f0f921"
          ]
         ]
        },
        "template": {
         "data": {
          "bar": [
           {
            "error_x": {
             "color": "#2a3f5f"
            },
            "error_y": {
             "color": "#2a3f5f"
            },
            "marker": {
             "line": {
              "color": "#E5ECF6",
              "width": 0.5
             },
             "pattern": {
              "fillmode": "overlay",
              "size": 10,
              "solidity": 0.2
             }
            },
            "type": "bar"
           }
          ],
          "barpolar": [
           {
            "marker": {
             "line": {
              "color": "#E5ECF6",
              "width": 0.5
             },
             "pattern": {
              "fillmode": "overlay",
              "size": 10,
              "solidity": 0.2
             }
            },
            "type": "barpolar"
           }
          ],
          "carpet": [
           {
            "aaxis": {
             "endlinecolor": "#2a3f5f",
             "gridcolor": "white",
             "linecolor": "white",
             "minorgridcolor": "white",
             "startlinecolor": "#2a3f5f"
            },
            "baxis": {
             "endlinecolor": "#2a3f5f",
             "gridcolor": "white",
             "linecolor": "white",
             "minorgridcolor": "white",
             "startlinecolor": "#2a3f5f"
            },
            "type": "carpet"
           }
          ],
          "choropleth": [
           {
            "colorbar": {
             "outlinewidth": 0,
             "ticks": ""
            },
            "type": "choropleth"
           }
          ],
          "contour": [
           {
            "colorbar": {
             "outlinewidth": 0,
             "ticks": ""
            },
            "colorscale": [
             [
              0,
              "#0d0887"
             ],
             [
              0.1111111111111111,
              "#46039f"
             ],
             [
              0.2222222222222222,
              "#7201a8"
             ],
             [
              0.3333333333333333,
              "#9c179e"
             ],
             [
              0.4444444444444444,
              "#bd3786"
             ],
             [
              0.5555555555555556,
              "#d8576b"
             ],
             [
              0.6666666666666666,
              "#ed7953"
             ],
             [
              0.7777777777777778,
              "#fb9f3a"
             ],
             [
              0.8888888888888888,
              "#fdca26"
             ],
             [
              1,
              "#f0f921"
             ]
            ],
            "type": "contour"
           }
          ],
          "contourcarpet": [
           {
            "colorbar": {
             "outlinewidth": 0,
             "ticks": ""
            },
            "type": "contourcarpet"
           }
          ],
          "heatmap": [
           {
            "colorbar": {
             "outlinewidth": 0,
             "ticks": ""
            },
            "colorscale": [
             [
              0,
              "#0d0887"
             ],
             [
              0.1111111111111111,
              "#46039f"
             ],
             [
              0.2222222222222222,
              "#7201a8"
             ],
             [
              0.3333333333333333,
              "#9c179e"
             ],
             [
              0.4444444444444444,
              "#bd3786"
             ],
             [
              0.5555555555555556,
              "#d8576b"
             ],
             [
              0.6666666666666666,
              "#ed7953"
             ],
             [
              0.7777777777777778,
              "#fb9f3a"
             ],
             [
              0.8888888888888888,
              "#fdca26"
             ],
             [
              1,
              "#f0f921"
             ]
            ],
            "type": "heatmap"
           }
          ],
          "heatmapgl": [
           {
            "colorbar": {
             "outlinewidth": 0,
             "ticks": ""
            },
            "colorscale": [
             [
              0,
              "#0d0887"
             ],
             [
              0.1111111111111111,
              "#46039f"
             ],
             [
              0.2222222222222222,
              "#7201a8"
             ],
             [
              0.3333333333333333,
              "#9c179e"
             ],
             [
              0.4444444444444444,
              "#bd3786"
             ],
             [
              0.5555555555555556,
              "#d8576b"
             ],
             [
              0.6666666666666666,
              "#ed7953"
             ],
             [
              0.7777777777777778,
              "#fb9f3a"
             ],
             [
              0.8888888888888888,
              "#fdca26"
             ],
             [
              1,
              "#f0f921"
             ]
            ],
            "type": "heatmapgl"
           }
          ],
          "histogram": [
           {
            "marker": {
             "pattern": {
              "fillmode": "overlay",
              "size": 10,
              "solidity": 0.2
             }
            },
            "type": "histogram"
           }
          ],
          "histogram2d": [
           {
            "colorbar": {
             "outlinewidth": 0,
             "ticks": ""
            },
            "colorscale": [
             [
              0,
              "#0d0887"
             ],
             [
              0.1111111111111111,
              "#46039f"
             ],
             [
              0.2222222222222222,
              "#7201a8"
             ],
             [
              0.3333333333333333,
              "#9c179e"
             ],
             [
              0.4444444444444444,
              "#bd3786"
             ],
             [
              0.5555555555555556,
              "#d8576b"
             ],
             [
              0.6666666666666666,
              "#ed7953"
             ],
             [
              0.7777777777777778,
              "#fb9f3a"
             ],
             [
              0.8888888888888888,
              "#fdca26"
             ],
             [
              1,
              "#f0f921"
             ]
            ],
            "type": "histogram2d"
           }
          ],
          "histogram2dcontour": [
           {
            "colorbar": {
             "outlinewidth": 0,
             "ticks": ""
            },
            "colorscale": [
             [
              0,
              "#0d0887"
             ],
             [
              0.1111111111111111,
              "#46039f"
             ],
             [
              0.2222222222222222,
              "#7201a8"
             ],
             [
              0.3333333333333333,
              "#9c179e"
             ],
             [
              0.4444444444444444,
              "#bd3786"
             ],
             [
              0.5555555555555556,
              "#d8576b"
             ],
             [
              0.6666666666666666,
              "#ed7953"
             ],
             [
              0.7777777777777778,
              "#fb9f3a"
             ],
             [
              0.8888888888888888,
              "#fdca26"
             ],
             [
              1,
              "#f0f921"
             ]
            ],
            "type": "histogram2dcontour"
           }
          ],
          "mesh3d": [
           {
            "colorbar": {
             "outlinewidth": 0,
             "ticks": ""
            },
            "type": "mesh3d"
           }
          ],
          "parcoords": [
           {
            "line": {
             "colorbar": {
              "outlinewidth": 0,
              "ticks": ""
             }
            },
            "type": "parcoords"
           }
          ],
          "pie": [
           {
            "automargin": true,
            "type": "pie"
           }
          ],
          "scatter": [
           {
            "fillpattern": {
             "fillmode": "overlay",
             "size": 10,
             "solidity": 0.2
            },
            "type": "scatter"
           }
          ],
          "scatter3d": [
           {
            "line": {
             "colorbar": {
              "outlinewidth": 0,
              "ticks": ""
             }
            },
            "marker": {
             "colorbar": {
              "outlinewidth": 0,
              "ticks": ""
             }
            },
            "type": "scatter3d"
           }
          ],
          "scattercarpet": [
           {
            "marker": {
             "colorbar": {
              "outlinewidth": 0,
              "ticks": ""
             }
            },
            "type": "scattercarpet"
           }
          ],
          "scattergeo": [
           {
            "marker": {
             "colorbar": {
              "outlinewidth": 0,
              "ticks": ""
             }
            },
            "type": "scattergeo"
           }
          ],
          "scattergl": [
           {
            "marker": {
             "colorbar": {
              "outlinewidth": 0,
              "ticks": ""
             }
            },
            "type": "scattergl"
           }
          ],
          "scattermapbox": [
           {
            "marker": {
             "colorbar": {
              "outlinewidth": 0,
              "ticks": ""
             }
            },
            "type": "scattermapbox"
           }
          ],
          "scatterpolar": [
           {
            "marker": {
             "colorbar": {
              "outlinewidth": 0,
              "ticks": ""
             }
            },
            "type": "scatterpolar"
           }
          ],
          "scatterpolargl": [
           {
            "marker": {
             "colorbar": {
              "outlinewidth": 0,
              "ticks": ""
             }
            },
            "type": "scatterpolargl"
           }
          ],
          "scatterternary": [
           {
            "marker": {
             "colorbar": {
              "outlinewidth": 0,
              "ticks": ""
             }
            },
            "type": "scatterternary"
           }
          ],
          "surface": [
           {
            "colorbar": {
             "outlinewidth": 0,
             "ticks": ""
            },
            "colorscale": [
             [
              0,
              "#0d0887"
             ],
             [
              0.1111111111111111,
              "#46039f"
             ],
             [
              0.2222222222222222,
              "#7201a8"
             ],
             [
              0.3333333333333333,
              "#9c179e"
             ],
             [
              0.4444444444444444,
              "#bd3786"
             ],
             [
              0.5555555555555556,
              "#d8576b"
             ],
             [
              0.6666666666666666,
              "#ed7953"
             ],
             [
              0.7777777777777778,
              "#fb9f3a"
             ],
             [
              0.8888888888888888,
              "#fdca26"
             ],
             [
              1,
              "#f0f921"
             ]
            ],
            "type": "surface"
           }
          ],
          "table": [
           {
            "cells": {
             "fill": {
              "color": "#EBF0F8"
             },
             "line": {
              "color": "white"
             }
            },
            "header": {
             "fill": {
              "color": "#C8D4E3"
             },
             "line": {
              "color": "white"
             }
            },
            "type": "table"
           }
          ]
         },
         "layout": {
          "annotationdefaults": {
           "arrowcolor": "#2a3f5f",
           "arrowhead": 0,
           "arrowwidth": 1
          },
          "autotypenumbers": "strict",
          "coloraxis": {
           "colorbar": {
            "outlinewidth": 0,
            "ticks": ""
           }
          },
          "colorscale": {
           "diverging": [
            [
             0,
             "#8e0152"
            ],
            [
             0.1,
             "#c51b7d"
            ],
            [
             0.2,
             "#de77ae"
            ],
            [
             0.3,
             "#f1b6da"
            ],
            [
             0.4,
             "#fde0ef"
            ],
            [
             0.5,
             "#f7f7f7"
            ],
            [
             0.6,
             "#e6f5d0"
            ],
            [
             0.7,
             "#b8e186"
            ],
            [
             0.8,
             "#7fbc41"
            ],
            [
             0.9,
             "#4d9221"
            ],
            [
             1,
             "#276419"
            ]
           ],
           "sequential": [
            [
             0,
             "#0d0887"
            ],
            [
             0.1111111111111111,
             "#46039f"
            ],
            [
             0.2222222222222222,
             "#7201a8"
            ],
            [
             0.3333333333333333,
             "#9c179e"
            ],
            [
             0.4444444444444444,
             "#bd3786"
            ],
            [
             0.5555555555555556,
             "#d8576b"
            ],
            [
             0.6666666666666666,
             "#ed7953"
            ],
            [
             0.7777777777777778,
             "#fb9f3a"
            ],
            [
             0.8888888888888888,
             "#fdca26"
            ],
            [
             1,
             "#f0f921"
            ]
           ],
           "sequentialminus": [
            [
             0,
             "#0d0887"
            ],
            [
             0.1111111111111111,
             "#46039f"
            ],
            [
             0.2222222222222222,
             "#7201a8"
            ],
            [
             0.3333333333333333,
             "#9c179e"
            ],
            [
             0.4444444444444444,
             "#bd3786"
            ],
            [
             0.5555555555555556,
             "#d8576b"
            ],
            [
             0.6666666666666666,
             "#ed7953"
            ],
            [
             0.7777777777777778,
             "#fb9f3a"
            ],
            [
             0.8888888888888888,
             "#fdca26"
            ],
            [
             1,
             "#f0f921"
            ]
           ]
          },
          "colorway": [
           "#636efa",
           "#EF553B",
           "#00cc96",
           "#ab63fa",
           "#FFA15A",
           "#19d3f3",
           "#FF6692",
           "#B6E880",
           "#FF97FF",
           "#FECB52"
          ],
          "font": {
           "color": "#2a3f5f"
          },
          "geo": {
           "bgcolor": "white",
           "lakecolor": "white",
           "landcolor": "#E5ECF6",
           "showlakes": true,
           "showland": true,
           "subunitcolor": "white"
          },
          "hoverlabel": {
           "align": "left"
          },
          "hovermode": "closest",
          "mapbox": {
           "style": "light"
          },
          "paper_bgcolor": "white",
          "plot_bgcolor": "#E5ECF6",
          "polar": {
           "angularaxis": {
            "gridcolor": "white",
            "linecolor": "white",
            "ticks": ""
           },
           "bgcolor": "#E5ECF6",
           "radialaxis": {
            "gridcolor": "white",
            "linecolor": "white",
            "ticks": ""
           }
          },
          "scene": {
           "xaxis": {
            "backgroundcolor": "#E5ECF6",
            "gridcolor": "white",
            "gridwidth": 2,
            "linecolor": "white",
            "showbackground": true,
            "ticks": "",
            "zerolinecolor": "white"
           },
           "yaxis": {
            "backgroundcolor": "#E5ECF6",
            "gridcolor": "white",
            "gridwidth": 2,
            "linecolor": "white",
            "showbackground": true,
            "ticks": "",
            "zerolinecolor": "white"
           },
           "zaxis": {
            "backgroundcolor": "#E5ECF6",
            "gridcolor": "white",
            "gridwidth": 2,
            "linecolor": "white",
            "showbackground": true,
            "ticks": "",
            "zerolinecolor": "white"
           }
          },
          "shapedefaults": {
           "line": {
            "color": "#2a3f5f"
           }
          },
          "ternary": {
           "aaxis": {
            "gridcolor": "white",
            "linecolor": "white",
            "ticks": ""
           },
           "baxis": {
            "gridcolor": "white",
            "linecolor": "white",
            "ticks": ""
           },
           "bgcolor": "#E5ECF6",
           "caxis": {
            "gridcolor": "white",
            "linecolor": "white",
            "ticks": ""
           }
          },
          "title": {
           "x": 0.05
          },
          "xaxis": {
           "automargin": true,
           "gridcolor": "white",
           "linecolor": "white",
           "ticks": "",
           "title": {
            "standoff": 15
           },
           "zerolinecolor": "white",
           "zerolinewidth": 2
          },
          "yaxis": {
           "automargin": true,
           "gridcolor": "white",
           "linecolor": "white",
           "ticks": "",
           "title": {
            "standoff": 15
           },
           "zerolinecolor": "white",
           "zerolinewidth": 2
          }
         }
        },
        "title": {
         "text": "Feature Correlations"
        },
        "xaxis": {
         "anchor": "y",
         "constrain": "domain",
         "domain": [
          0,
          1
         ],
         "scaleanchor": "y"
        },
        "yaxis": {
         "anchor": "x",
         "autorange": "reversed",
         "constrain": "domain",
         "domain": [
          0,
          1
         ]
        }
       }
      }
     },
     "metadata": {},
     "output_type": "display_data"
    }
   ],
   "source": [
    "fig = px.imshow(encoded_df['country':].corr(), x=encoded_df.columns[1:], y=encoded_df.columns[1:], \n",
    "                    text_auto='.2f', title=\"Feature Correlations\")\n",
    "fig.show()"
   ]
  }
 ],
 "metadata": {
  "kernelspec": {
   "display_name": "Python 3",
   "language": "python",
   "name": "python3"
  },
  "language_info": {
   "codemirror_mode": {
    "name": "ipython",
    "version": 3
   },
   "file_extension": ".py",
   "mimetype": "text/x-python",
   "name": "python",
   "nbconvert_exporter": "python",
   "pygments_lexer": "ipython3",
   "version": "3.12.1"
  }
 },
 "nbformat": 4,
 "nbformat_minor": 2
}
