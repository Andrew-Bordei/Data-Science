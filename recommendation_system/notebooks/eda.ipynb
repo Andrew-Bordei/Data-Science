{
 "cells": [
  {
   "cell_type": "markdown",
   "metadata": {},
   "source": [
    "# Exploratory Data Analysis"
   ]
  },
  {
   "cell_type": "markdown",
   "metadata": {},
   "source": [
    "The main objectives of this notebook are: \n",
    "- Explore the clean dataset through univariate & multivariate analysis \n",
    "- Investigate correlations between features\n",
    "- Extract relevant insights to determine steps for feature engineering"
   ]
  },
  {
   "cell_type": "code",
   "execution_count": 24,
   "metadata": {},
   "outputs": [],
   "source": [
    "import polars as pl\n",
    "import seaborn as sns\n",
    "import matplotlib.pyplot as plt"
   ]
  },
  {
   "cell_type": "code",
   "execution_count": 79,
   "metadata": {},
   "outputs": [],
   "source": [
    "df = pl.read_csv(\"../data/events.csv\")\n",
    "category_tree_df = pl.read_csv(\"../data/category_tree.csv\")\n",
    "items_df = pl.read_csv(\"../data/item_properties.csv\")"
   ]
  },
  {
   "cell_type": "code",
   "execution_count": 26,
   "metadata": {},
   "outputs": [
    {
     "data": {
      "text/html": [
       "<div><style>\n",
       ".dataframe > thead > tr,\n",
       ".dataframe > tbody > tr {\n",
       "  text-align: right;\n",
       "  white-space: pre-wrap;\n",
       "}\n",
       "</style>\n",
       "<small>shape: (5, 5)</small><table border=\"1\" class=\"dataframe\"><thead><tr><th>timestamp</th><th>visitorid</th><th>event</th><th>itemid</th><th>transactionid</th></tr><tr><td>i64</td><td>i64</td><td>str</td><td>i64</td><td>str</td></tr></thead><tbody><tr><td>1433221332117</td><td>257597</td><td>&quot;view&quot;</td><td>355908</td><td>null</td></tr><tr><td>1433224214164</td><td>992329</td><td>&quot;view&quot;</td><td>248676</td><td>null</td></tr><tr><td>1433221999827</td><td>111016</td><td>&quot;view&quot;</td><td>318965</td><td>null</td></tr><tr><td>1433221955914</td><td>483717</td><td>&quot;view&quot;</td><td>253185</td><td>null</td></tr><tr><td>1433221337106</td><td>951259</td><td>&quot;view&quot;</td><td>367447</td><td>null</td></tr></tbody></table></div>"
      ],
      "text/plain": [
       "shape: (5, 5)\n",
       "┌───────────────┬───────────┬───────┬────────┬───────────────┐\n",
       "│ timestamp     ┆ visitorid ┆ event ┆ itemid ┆ transactionid │\n",
       "│ ---           ┆ ---       ┆ ---   ┆ ---    ┆ ---           │\n",
       "│ i64           ┆ i64       ┆ str   ┆ i64    ┆ str           │\n",
       "╞═══════════════╪═══════════╪═══════╪════════╪═══════════════╡\n",
       "│ 1433221332117 ┆ 257597    ┆ view  ┆ 355908 ┆ null          │\n",
       "│ 1433224214164 ┆ 992329    ┆ view  ┆ 248676 ┆ null          │\n",
       "│ 1433221999827 ┆ 111016    ┆ view  ┆ 318965 ┆ null          │\n",
       "│ 1433221955914 ┆ 483717    ┆ view  ┆ 253185 ┆ null          │\n",
       "│ 1433221337106 ┆ 951259    ┆ view  ┆ 367447 ┆ null          │\n",
       "└───────────────┴───────────┴───────┴────────┴───────────────┘"
      ]
     },
     "execution_count": 26,
     "metadata": {},
     "output_type": "execute_result"
    }
   ],
   "source": [
    "df.head()"
   ]
  },
  {
   "cell_type": "code",
   "execution_count": 72,
   "metadata": {},
   "outputs": [
    {
     "name": "stdout",
     "output_type": "stream",
     "text": [
      "Unique visitors:\n",
      "shape: (1, 1)\n",
      "┌───────────┐\n",
      "│ visitorid │\n",
      "│ ---       │\n",
      "│ u32       │\n",
      "╞═══════════╡\n",
      "│ 1407580   │\n",
      "└───────────┘\n"
     ]
    }
   ],
   "source": [
    "# Unique visitors \n",
    "print(\"Unique visitors:\")\n",
    "print(df.select(pl.col('visitorid').n_unique()))"
   ]
  },
  {
   "cell_type": "code",
   "execution_count": 73,
   "metadata": {},
   "outputs": [
    {
     "name": "stdout",
     "output_type": "stream",
     "text": [
      "Total visitors:\n",
      "shape: (1, 1)\n",
      "┌───────────┐\n",
      "│ visitorid │\n",
      "│ ---       │\n",
      "│ u32       │\n",
      "╞═══════════╡\n",
      "│ 2756101   │\n",
      "└───────────┘\n"
     ]
    }
   ],
   "source": [
    "# Total visitors \n",
    "print(\"Total visitors:\")\n",
    "print(df.select(pl.col('visitorid').len()))"
   ]
  },
  {
   "cell_type": "code",
   "execution_count": 75,
   "metadata": {},
   "outputs": [
    {
     "data": {
      "text/html": [
       "<div><style>\n",
       ".dataframe > thead > tr,\n",
       ".dataframe > tbody > tr {\n",
       "  text-align: right;\n",
       "  white-space: pre-wrap;\n",
       "}\n",
       "</style>\n",
       "<small>shape: (3, 2)</small><table border=\"1\" class=\"dataframe\"><thead><tr><th>event</th><th>count</th></tr><tr><td>str</td><td>u32</td></tr></thead><tbody><tr><td>&quot;view&quot;</td><td>2664312</td></tr><tr><td>&quot;addtocart&quot;</td><td>69332</td></tr><tr><td>&quot;transaction&quot;</td><td>22457</td></tr></tbody></table></div>"
      ],
      "text/plain": [
       "shape: (3, 2)\n",
       "┌─────────────┬─────────┐\n",
       "│ event       ┆ count   │\n",
       "│ ---         ┆ ---     │\n",
       "│ str         ┆ u32     │\n",
       "╞═════════════╪═════════╡\n",
       "│ view        ┆ 2664312 │\n",
       "│ addtocart   ┆ 69332   │\n",
       "│ transaction ┆ 22457   │\n",
       "└─────────────┴─────────┘"
      ]
     },
     "execution_count": 75,
     "metadata": {},
     "output_type": "execute_result"
    }
   ],
   "source": [
    "df_count = df[\"event\"].value_counts(sort=True)\n",
    "df_count"
   ]
  },
  {
   "cell_type": "code",
   "execution_count": 76,
   "metadata": {},
   "outputs": [
    {
     "name": "stdout",
     "output_type": "stream",
     "text": [
      "Number of transactions:  22457\n",
      "Percent of transactions: 0.815\n"
     ]
    }
   ],
   "source": [
    "# Total transactions \n",
    "print(\"Number of transactions: \",df_count['count'][-1])\n",
    "\n",
    "# Percent of transactions vs all other events \n",
    "print(\"Percent of transactions:\",round((df_count['count'][-1] / df_count['count'].sum())*100,3))"
   ]
  },
  {
   "cell_type": "code",
   "execution_count": 80,
   "metadata": {},
   "outputs": [
    {
     "data": {
      "text/html": [
       "<div><style>\n",
       ".dataframe > thead > tr,\n",
       ".dataframe > tbody > tr {\n",
       "  text-align: right;\n",
       "  white-space: pre-wrap;\n",
       "}\n",
       "</style>\n",
       "<small>shape: (1_669, 2)</small><table border=\"1\" class=\"dataframe\"><thead><tr><th>categoryid</th><th>parentid</th></tr><tr><td>i64</td><td>i64</td></tr></thead><tbody><tr><td>1016</td><td>213</td></tr><tr><td>809</td><td>169</td></tr><tr><td>570</td><td>9</td></tr><tr><td>1691</td><td>885</td></tr><tr><td>536</td><td>1691</td></tr><tr><td>&hellip;</td><td>&hellip;</td></tr><tr><td>49</td><td>1125</td></tr><tr><td>1112</td><td>630</td></tr><tr><td>1336</td><td>745</td></tr><tr><td>689</td><td>207</td></tr><tr><td>761</td><td>395</td></tr></tbody></table></div>"
      ],
      "text/plain": [
       "shape: (1_669, 2)\n",
       "┌────────────┬──────────┐\n",
       "│ categoryid ┆ parentid │\n",
       "│ ---        ┆ ---      │\n",
       "│ i64        ┆ i64      │\n",
       "╞════════════╪══════════╡\n",
       "│ 1016       ┆ 213      │\n",
       "│ 809        ┆ 169      │\n",
       "│ 570        ┆ 9        │\n",
       "│ 1691       ┆ 885      │\n",
       "│ 536        ┆ 1691     │\n",
       "│ …          ┆ …        │\n",
       "│ 49         ┆ 1125     │\n",
       "│ 1112       ┆ 630      │\n",
       "│ 1336       ┆ 745      │\n",
       "│ 689        ┆ 207      │\n",
       "│ 761        ┆ 395      │\n",
       "└────────────┴──────────┘"
      ]
     },
     "execution_count": 80,
     "metadata": {},
     "output_type": "execute_result"
    }
   ],
   "source": [
    "category_tree_df"
   ]
  },
  {
   "cell_type": "markdown",
   "metadata": {},
   "source": [
    "### Univariate Analysis "
   ]
  },
  {
   "cell_type": "code",
   "execution_count": null,
   "metadata": {},
   "outputs": [],
   "source": []
  },
  {
   "cell_type": "markdown",
   "metadata": {},
   "source": [
    "### Multivariate Analysis "
   ]
  },
  {
   "cell_type": "code",
   "execution_count": 43,
   "metadata": {},
   "outputs": [
    {
     "data": {
      "text/plain": [
       "<Axes: xlabel='event', ylabel='count'>"
      ]
     },
     "execution_count": 43,
     "metadata": {},
     "output_type": "execute_result"
    },
    {
     "data": {
      "image/png": "[encoded data removed]",
      "text/plain": [
       "<Figure size 640x480 with 1 Axes>"
      ]
     },
     "metadata": {},
     "output_type": "display_data"
    }
   ],
   "source": [
    "sns.barplot(\n",
    "    y=df_count['count'],\n",
    "    x=df_count['event'], \n",
    "    color='steelblue')"
   ]
  },
  {
   "cell_type": "code",
   "execution_count": 23,
   "metadata": {},
   "outputs": [
    {
     "data": {
      "text/html": [
       "<div><style>\n",
       ".dataframe > thead > tr,\n",
       ".dataframe > tbody > tr {\n",
       "  text-align: right;\n",
       "  white-space: pre-wrap;\n",
       "}\n",
       "</style>\n",
       "<small>shape: (5, 5)</small><table border=\"1\" class=\"dataframe\"><thead><tr><th>timestamp</th><th>visitorid</th><th>event</th><th>itemid</th><th>transactionid</th></tr><tr><td>i64</td><td>i64</td><td>str</td><td>i64</td><td>str</td></tr></thead><tbody><tr><td>1438377176570</td><td>1050575</td><td>&quot;transaction&quot;</td><td>31640</td><td>&quot;8354&quot;</td></tr><tr><td>1438379878779</td><td>861299</td><td>&quot;transaction&quot;</td><td>456602</td><td>&quot;3643&quot;</td></tr><tr><td>1438357730123</td><td>855941</td><td>&quot;transaction&quot;</td><td>235771</td><td>&quot;4385&quot;</td></tr><tr><td>1438355560300</td><td>548772</td><td>&quot;transaction&quot;</td><td>29167</td><td>&quot;13872&quot;</td></tr><tr><td>1438358989163</td><td>1051054</td><td>&quot;transaction&quot;</td><td>312728</td><td>&quot;17579&quot;</td></tr></tbody></table></div>"
      ],
      "text/plain": [
       "shape: (5, 5)\n",
       "┌───────────────┬───────────┬─────────────┬────────┬───────────────┐\n",
       "│ timestamp     ┆ visitorid ┆ event       ┆ itemid ┆ transactionid │\n",
       "│ ---           ┆ ---       ┆ ---         ┆ ---    ┆ ---           │\n",
       "│ i64           ┆ i64       ┆ str         ┆ i64    ┆ str           │\n",
       "╞═══════════════╪═══════════╪═════════════╪════════╪═══════════════╡\n",
       "│ 1438377176570 ┆ 1050575   ┆ transaction ┆ 31640  ┆ 8354          │\n",
       "│ 1438379878779 ┆ 861299    ┆ transaction ┆ 456602 ┆ 3643          │\n",
       "│ 1438357730123 ┆ 855941    ┆ transaction ┆ 235771 ┆ 4385          │\n",
       "│ 1438355560300 ┆ 548772    ┆ transaction ┆ 29167  ┆ 13872         │\n",
       "│ 1438358989163 ┆ 1051054   ┆ transaction ┆ 312728 ┆ 17579         │\n",
       "└───────────────┴───────────┴─────────────┴────────┴───────────────┘"
      ]
     },
     "execution_count": 23,
     "metadata": {},
     "output_type": "execute_result"
    }
   ],
   "source": [
    "purchase_df = df.filter(pl.col('event') == 'transaction')\n",
    "purchase_df.tail()"
   ]
  }
 ],
 "metadata": {
  "kernelspec": {
   "display_name": "Python 3",
   "language": "python",
   "name": "python3"
  },
  "language_info": {
   "codemirror_mode": {
    "name": "ipython",
    "version": 3
   },
   "file_extension": ".py",
   "mimetype": "text/x-python",
   "name": "python",
   "nbconvert_exporter": "python",
   "pygments_lexer": "ipython3",
   "version": "3.12.1"
  }
 },
 "nbformat": 4,
 "nbformat_minor": 2
}
