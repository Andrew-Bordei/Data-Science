{
 "cells": [
  {
   "cell_type": "markdown",
   "metadata": {},
   "source": [
    "# Univariate Analysis "
   ]
  },
  {
   "cell_type": "markdown",
   "metadata": {},
   "source": [
    "The main objectives of this notebook are: \n",
    "- kj"
   ]
  },
  {
   "cell_type": "code",
   "execution_count": 1,
   "metadata": {},
   "outputs": [],
   "source": [
    "import polars as pl\n",
    "import seaborn as sns\n",
    "import matplotlib.pyplot as plt"
   ]
  },
  {
   "cell_type": "code",
   "execution_count": 13,
   "metadata": {},
   "outputs": [],
   "source": [
    "df = pl.read_csv(\"../data/events.csv\")"
   ]
  },
  {
   "cell_type": "code",
   "execution_count": 14,
   "metadata": {},
   "outputs": [
    {
     "data": {
      "text/html": [
       "<div><style>\n",
       ".dataframe > thead > tr,\n",
       ".dataframe > tbody > tr {\n",
       "  text-align: right;\n",
       "  white-space: pre-wrap;\n",
       "}\n",
       "</style>\n",
       "<small>shape: (5, 4)</small><table border=\"1\" class=\"dataframe\"><thead><tr><th>UserId</th><th>ProductId</th><th>Rating</th><th>Timestamp</th></tr><tr><td>str</td><td>str</td><td>f64</td><td>i64</td></tr></thead><tbody><tr><td>&quot;A39HTATAQ9V7YF&quot;</td><td>&quot;0205616461&quot;</td><td>5.0</td><td>1369699200</td></tr><tr><td>&quot;A3JM6GV9MNOF9X&quot;</td><td>&quot;0558925278&quot;</td><td>3.0</td><td>1355443200</td></tr><tr><td>&quot;A1Z513UWSAAO0F&quot;</td><td>&quot;0558925278&quot;</td><td>5.0</td><td>1404691200</td></tr><tr><td>&quot;A1WMRR494NWEWV&quot;</td><td>&quot;0733001998&quot;</td><td>4.0</td><td>1382572800</td></tr><tr><td>&quot;A3IAAVS479H7M7&quot;</td><td>&quot;0737104473&quot;</td><td>1.0</td><td>1274227200</td></tr></tbody></table></div>"
      ],
      "text/plain": [
       "shape: (5, 4)\n",
       "┌────────────────┬────────────┬────────┬────────────┐\n",
       "│ UserId         ┆ ProductId  ┆ Rating ┆ Timestamp  │\n",
       "│ ---            ┆ ---        ┆ ---    ┆ ---        │\n",
       "│ str            ┆ str        ┆ f64    ┆ i64        │\n",
       "╞════════════════╪════════════╪════════╪════════════╡\n",
       "│ A39HTATAQ9V7YF ┆ 0205616461 ┆ 5.0    ┆ 1369699200 │\n",
       "│ A3JM6GV9MNOF9X ┆ 0558925278 ┆ 3.0    ┆ 1355443200 │\n",
       "│ A1Z513UWSAAO0F ┆ 0558925278 ┆ 5.0    ┆ 1404691200 │\n",
       "│ A1WMRR494NWEWV ┆ 0733001998 ┆ 4.0    ┆ 1382572800 │\n",
       "│ A3IAAVS479H7M7 ┆ 0737104473 ┆ 1.0    ┆ 1274227200 │\n",
       "└────────────────┴────────────┴────────┴────────────┘"
      ]
     },
     "execution_count": 14,
     "metadata": {},
     "output_type": "execute_result"
    }
   ],
   "source": [
    "df.head()"
   ]
  },
  {
   "cell_type": "code",
   "execution_count": 4,
   "metadata": {},
   "outputs": [],
   "source": [
    "df_clean = df.drop_nulls()"
   ]
  },
  {
   "cell_type": "code",
   "execution_count": 5,
   "metadata": {},
   "outputs": [
    {
     "data": {
      "text/html": [
       "<div><style>\n",
       ".dataframe > thead > tr,\n",
       ".dataframe > tbody > tr {\n",
       "  text-align: right;\n",
       "  white-space: pre-wrap;\n",
       "}\n",
       "</style>\n",
       "<small>shape: (4_201, 2)</small><table border=\"1\" class=\"dataframe\"><thead><tr><th>brand</th><th>count</th></tr><tr><td>str</td><td>u32</td></tr></thead><tbody><tr><td>&quot;samsung&quot;</td><td>7889245</td></tr><tr><td>&quot;apple&quot;</td><td>6259379</td></tr><tr><td>&quot;xiaomi&quot;</td><td>4638062</td></tr><tr><td>&quot;huawei&quot;</td><td>1410126</td></tr><tr><td>&quot;lucente&quot;</td><td>1185075</td></tr><tr><td>&hellip;</td><td>&hellip;</td></tr><tr><td>&quot;yoobao&quot;</td><td>1</td></tr><tr><td>&quot;build-a-bear&quot;</td><td>1</td></tr><tr><td>&quot;viga&quot;</td><td>1</td></tr><tr><td>&quot;holatoys&quot;</td><td>1</td></tr><tr><td>&quot;zmonday&quot;</td><td>1</td></tr></tbody></table></div>"
      ],
      "text/plain": [
       "shape: (4_201, 2)\n",
       "┌──────────────┬─────────┐\n",
       "│ brand        ┆ count   │\n",
       "│ ---          ┆ ---     │\n",
       "│ str          ┆ u32     │\n",
       "╞══════════════╪═════════╡\n",
       "│ samsung      ┆ 7889245 │\n",
       "│ apple        ┆ 6259379 │\n",
       "│ xiaomi       ┆ 4638062 │\n",
       "│ huawei       ┆ 1410126 │\n",
       "│ lucente      ┆ 1185075 │\n",
       "│ …            ┆ …       │\n",
       "│ yoobao       ┆ 1       │\n",
       "│ build-a-bear ┆ 1       │\n",
       "│ viga         ┆ 1       │\n",
       "│ holatoys     ┆ 1       │\n",
       "│ zmonday      ┆ 1       │\n",
       "└──────────────┴─────────┘"
      ]
     },
     "execution_count": 5,
     "metadata": {},
     "output_type": "execute_result"
    }
   ],
   "source": [
    "brand = df['brand'].value_counts(sort=True)\n",
    "brand = brand[1:]\n",
    "brand"
   ]
  },
  {
   "cell_type": "code",
   "execution_count": 6,
   "metadata": {},
   "outputs": [
    {
     "data": {
      "text/html": [
       "<div><style>\n",
       ".dataframe > thead > tr,\n",
       ".dataframe > tbody > tr {\n",
       "  text-align: right;\n",
       "  white-space: pre-wrap;\n",
       "}\n",
       "</style>\n",
       "<small>shape: (5, 9)</small><table border=\"1\" class=\"dataframe\"><thead><tr><th>event_time</th><th>event_type</th><th>product_id</th><th>category_id</th><th>category_code</th><th>brand</th><th>price</th><th>user_id</th><th>user_session</th></tr><tr><td>str</td><td>str</td><td>i64</td><td>i64</td><td>str</td><td>str</td><td>f64</td><td>i64</td><td>str</td></tr></thead><tbody><tr><td>&quot;2019-11-30 23:58:14 UTC&quot;</td><td>&quot;purchase&quot;</td><td>1004874</td><td>2053013555631882655</td><td>&quot;electronics.smartphone&quot;</td><td>&quot;samsung&quot;</td><td>346.7</td><td>547804983</td><td>&quot;717566cf-ef93-4078-ba8f-169a3a…</td></tr><tr><td>&quot;2019-11-30 23:58:22 UTC&quot;</td><td>&quot;purchase&quot;</td><td>1005130</td><td>2053013555631882655</td><td>&quot;electronics.smartphone&quot;</td><td>&quot;apple&quot;</td><td>1437.02</td><td>515582054</td><td>&quot;829c20b5-696e-4a8a-8a9f-171014…</td></tr><tr><td>&quot;2019-11-30 23:58:57 UTC&quot;</td><td>&quot;purchase&quot;</td><td>1004767</td><td>2053013555631882655</td><td>&quot;electronics.smartphone&quot;</td><td>&quot;samsung&quot;</td><td>235.6</td><td>579876821</td><td>&quot;ca50e291-43f3-4ca2-9e13-20ee6b…</td></tr><tr><td>&quot;2019-11-30 23:59:15 UTC&quot;</td><td>&quot;purchase&quot;</td><td>3701309</td><td>2053013565983425517</td><td>&quot;appliances.environment.vacuum&quot;</td><td>&quot;polaris&quot;</td><td>89.32</td><td>543733099</td><td>&quot;a65116f4-ac53-4a41-ad68-660678…</td></tr><tr><td>&quot;2019-11-30 23:59:44 UTC&quot;</td><td>&quot;purchase&quot;</td><td>26205399</td><td>2053013563693335403</td><td>null</td><td>null</td><td>179.16</td><td>553345124</td><td>&quot;58c692ff-c7a9-4e35-9ec4-58598f…</td></tr></tbody></table></div>"
      ],
      "text/plain": [
       "shape: (5, 9)\n",
       "┌────────────┬────────────┬────────────┬───────────┬───┬─────────┬─────────┬───────────┬───────────┐\n",
       "│ event_time ┆ event_type ┆ product_id ┆ category_ ┆ … ┆ brand   ┆ price   ┆ user_id   ┆ user_sess │\n",
       "│ ---        ┆ ---        ┆ ---        ┆ id        ┆   ┆ ---     ┆ ---     ┆ ---       ┆ ion       │\n",
       "│ str        ┆ str        ┆ i64        ┆ ---       ┆   ┆ str     ┆ f64     ┆ i64       ┆ ---       │\n",
       "│            ┆            ┆            ┆ i64       ┆   ┆         ┆         ┆           ┆ str       │\n",
       "╞════════════╪════════════╪════════════╪═══════════╪═══╪═════════╪═════════╪═══════════╪═══════════╡\n",
       "│ 2019-11-30 ┆ purchase   ┆ 1004874    ┆ 205301355 ┆ … ┆ samsung ┆ 346.7   ┆ 547804983 ┆ 717566cf- │\n",
       "│ 23:58:14   ┆            ┆            ┆ 563188265 ┆   ┆         ┆         ┆           ┆ ef93-4078 │\n",
       "│ UTC        ┆            ┆            ┆ 5         ┆   ┆         ┆         ┆           ┆ -ba8f-169 │\n",
       "│            ┆            ┆            ┆           ┆   ┆         ┆         ┆           ┆ a3a…      │\n",
       "│ 2019-11-30 ┆ purchase   ┆ 1005130    ┆ 205301355 ┆ … ┆ apple   ┆ 1437.02 ┆ 515582054 ┆ 829c20b5- │\n",
       "│ 23:58:22   ┆            ┆            ┆ 563188265 ┆   ┆         ┆         ┆           ┆ 696e-4a8a │\n",
       "│ UTC        ┆            ┆            ┆ 5         ┆   ┆         ┆         ┆           ┆ -8a9f-171 │\n",
       "│            ┆            ┆            ┆           ┆   ┆         ┆         ┆           ┆ 014…      │\n",
       "│ 2019-11-30 ┆ purchase   ┆ 1004767    ┆ 205301355 ┆ … ┆ samsung ┆ 235.6   ┆ 579876821 ┆ ca50e291- │\n",
       "│ 23:58:57   ┆            ┆            ┆ 563188265 ┆   ┆         ┆         ┆           ┆ 43f3-4ca2 │\n",
       "│ UTC        ┆            ┆            ┆ 5         ┆   ┆         ┆         ┆           ┆ -9e13-20e │\n",
       "│            ┆            ┆            ┆           ┆   ┆         ┆         ┆           ┆ e6b…      │\n",
       "│ 2019-11-30 ┆ purchase   ┆ 3701309    ┆ 205301356 ┆ … ┆ polaris ┆ 89.32   ┆ 543733099 ┆ a65116f4- │\n",
       "│ 23:59:15   ┆            ┆            ┆ 598342551 ┆   ┆         ┆         ┆           ┆ ac53-4a41 │\n",
       "│ UTC        ┆            ┆            ┆ 7         ┆   ┆         ┆         ┆           ┆ -ad68-660 │\n",
       "│            ┆            ┆            ┆           ┆   ┆         ┆         ┆           ┆ 678…      │\n",
       "│ 2019-11-30 ┆ purchase   ┆ 26205399   ┆ 205301356 ┆ … ┆ null    ┆ 179.16  ┆ 553345124 ┆ 58c692ff- │\n",
       "│ 23:59:44   ┆            ┆            ┆ 369333540 ┆   ┆         ┆         ┆           ┆ c7a9-4e35 │\n",
       "│ UTC        ┆            ┆            ┆ 3         ┆   ┆         ┆         ┆           ┆ -9ec4-585 │\n",
       "│            ┆            ┆            ┆           ┆   ┆         ┆         ┆           ┆ 98f…      │\n",
       "└────────────┴────────────┴────────────┴───────────┴───┴─────────┴─────────┴───────────┴───────────┘"
      ]
     },
     "execution_count": 6,
     "metadata": {},
     "output_type": "execute_result"
    }
   ],
   "source": [
    "purchase_df = df.filter(pl.col('event_type') == 'purchase')\n",
    "purchase_df.tail()"
   ]
  },
  {
   "cell_type": "code",
   "execution_count": 7,
   "metadata": {},
   "outputs": [
    {
     "name": "stdout",
     "output_type": "stream",
     "text": [
      "shape: (1, 1)\n",
      "┌────────┐\n",
      "│ unique │\n",
      "│ ---    │\n",
      "│ u32    │\n",
      "╞════════╡\n",
      "│ 773214 │\n",
      "└────────┘\n"
     ]
    }
   ],
   "source": [
    "unique_purchases = purchase_df.select(pl.col('user_session').n_unique().alias(\"unique\"))\n",
    "print(unique_purchases)"
   ]
  },
  {
   "cell_type": "code",
   "execution_count": 8,
   "metadata": {},
   "outputs": [
    {
     "data": {
      "text/html": [
       "<div><style>\n",
       ".dataframe > thead > tr,\n",
       ".dataframe > tbody > tr {\n",
       "  text-align: right;\n",
       "  white-space: pre-wrap;\n",
       "}\n",
       "</style>\n",
       "<small>shape: (916_939, 1)</small><table border=\"1\" class=\"dataframe\"><thead><tr><th>user_session</th></tr><tr><td>bool</td></tr></thead><tbody><tr><td>false</td></tr><tr><td>false</td></tr><tr><td>false</td></tr><tr><td>false</td></tr><tr><td>true</td></tr><tr><td>&hellip;</td></tr><tr><td>true</td></tr><tr><td>false</td></tr><tr><td>true</td></tr><tr><td>false</td></tr><tr><td>false</td></tr></tbody></table></div>"
      ],
      "text/plain": [
       "shape: (916_939, 1)\n",
       "┌──────────────┐\n",
       "│ user_session │\n",
       "│ ---          │\n",
       "│ bool         │\n",
       "╞══════════════╡\n",
       "│ false        │\n",
       "│ false        │\n",
       "│ false        │\n",
       "│ false        │\n",
       "│ true         │\n",
       "│ …            │\n",
       "│ true         │\n",
       "│ false        │\n",
       "│ true         │\n",
       "│ false        │\n",
       "│ false        │\n",
       "└──────────────┘"
      ]
     },
     "execution_count": 8,
     "metadata": {},
     "output_type": "execute_result"
    }
   ],
   "source": [
    "purchase_df.select(pl.col('user_session').is_duplicated())"
   ]
  },
  {
   "cell_type": "code",
   "execution_count": 12,
   "metadata": {},
   "outputs": [
    {
     "data": {
      "text/html": [
       "<div><style>\n",
       ".dataframe > thead > tr,\n",
       ".dataframe > tbody > tr {\n",
       "  text-align: right;\n",
       "  white-space: pre-wrap;\n",
       "}\n",
       "</style>\n",
       "<small>shape: (916_939, 1)</small><table border=\"1\" class=\"dataframe\"><thead><tr><th>user_session</th></tr><tr><td>bool</td></tr></thead><tbody><tr><td>true</td></tr><tr><td>true</td></tr><tr><td>true</td></tr><tr><td>true</td></tr><tr><td>false</td></tr><tr><td>&hellip;</td></tr><tr><td>false</td></tr><tr><td>true</td></tr><tr><td>false</td></tr><tr><td>true</td></tr><tr><td>true</td></tr></tbody></table></div>"
      ],
      "text/plain": [
       "shape: (916_939, 1)\n",
       "┌──────────────┐\n",
       "│ user_session │\n",
       "│ ---          │\n",
       "│ bool         │\n",
       "╞══════════════╡\n",
       "│ true         │\n",
       "│ true         │\n",
       "│ true         │\n",
       "│ true         │\n",
       "│ false        │\n",
       "│ …            │\n",
       "│ false        │\n",
       "│ true         │\n",
       "│ false        │\n",
       "│ true         │\n",
       "│ true         │\n",
       "└──────────────┘"
      ]
     },
     "execution_count": 12,
     "metadata": {},
     "output_type": "execute_result"
    }
   ],
   "source": [
    "purchase_df.select(pl.col('user_session').is_unique())"
   ]
  },
  {
   "cell_type": "code",
   "execution_count": null,
   "metadata": {},
   "outputs": [],
   "source": []
  }
 ],
 "metadata": {
  "kernelspec": {
   "display_name": "Python 3",
   "language": "python",
   "name": "python3"
  },
  "language_info": {
   "codemirror_mode": {
    "name": "ipython",
    "version": 3
   },
   "file_extension": ".py",
   "mimetype": "text/x-python",
   "name": "python",
   "nbconvert_exporter": "python",
   "pygments_lexer": "ipython3",
   "version": "3.12.1"
  }
 },
 "nbformat": 4,
 "nbformat_minor": 2
}
