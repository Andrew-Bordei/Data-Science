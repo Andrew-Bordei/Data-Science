{
 "cells": [
  {
   "cell_type": "markdown",
   "metadata": {},
   "source": [
    "# Modelling"
   ]
  },
  {
   "cell_type": "markdown",
   "metadata": {},
   "source": [
    "Where in the future machine learning models(Neural Nets) will be implemented to improve the recommender's accuracy."
   ]
  },
  {
   "cell_type": "code",
   "execution_count": 1,
   "metadata": {},
   "outputs": [],
   "source": [
    "import polars as pl\n",
    "import sys \n",
    "import os \n",
    "\n",
    "# Manually add path to read from another folder \n",
    "path2add = os.path.normpath(\n",
    "    os.path.abspath(os.path.join(os.path.dirname(\"__file__\"), os.path.pardir, \"utils\"))\n",
    ")\n",
    "if not (path2add in sys.path):\n",
    "    sys.path.append(path2add)\n",
    "\n",
    "from modelling import *"
   ]
  },
  {
   "cell_type": "code",
   "execution_count": 4,
   "metadata": {},
   "outputs": [
    {
     "data": {
      "text/html": [
       "<div><style>\n",
       ".dataframe > thead > tr,\n",
       ".dataframe > tbody > tr {\n",
       "  text-align: right;\n",
       "  white-space: pre-wrap;\n",
       "}\n",
       "</style>\n",
       "<small>shape: (5, 13)</small><table border=\"1\" class=\"dataframe\"><thead><tr><th>date</th><th>visitStartTime</th><th>fullVisitorId</th><th>subContinent</th><th>country</th><th>city</th><th>browser</th><th>operatingSystem</th><th>deviceCategory</th><th>source</th><th>transactionId</th><th>v2ProductName</th><th>v2ProductCategory</th></tr><tr><td>i64</td><td>i64</td><td>i64</td><td>str</td><td>str</td><td>str</td><td>str</td><td>str</td><td>str</td><td>str</td><td>str</td><td>str</td><td>str</td></tr></thead><tbody><tr><td>20170731</td><td>1501520683</td><td>2219384770970157334</td><td>&quot;Eastern Europe&quot;</td><td>&quot;Slovakia&quot;</td><td>&quot;not available in demo dataset&quot;</td><td>&quot;Firefox&quot;</td><td>&quot;Windows&quot;</td><td>&quot;desktop&quot;</td><td>&quot;google&quot;</td><td>null</td><td>&quot;Google Lunch Bag&quot;</td><td>&quot;Home/Bags/More Bags/&quot;</td></tr><tr><td>20170731</td><td>1501520683</td><td>2219384770970157334</td><td>&quot;Eastern Europe&quot;</td><td>&quot;Slovakia&quot;</td><td>&quot;not available in demo dataset&quot;</td><td>&quot;Firefox&quot;</td><td>&quot;Windows&quot;</td><td>&quot;desktop&quot;</td><td>&quot;google&quot;</td><td>null</td><td>&quot;Electronics Accessory Pouch&quot;</td><td>&quot;Home/Bags/More Bags/&quot;</td></tr><tr><td>20170731</td><td>1501520683</td><td>2219384770970157334</td><td>&quot;Eastern Europe&quot;</td><td>&quot;Slovakia&quot;</td><td>&quot;not available in demo dataset&quot;</td><td>&quot;Firefox&quot;</td><td>&quot;Windows&quot;</td><td>&quot;desktop&quot;</td><td>&quot;google&quot;</td><td>null</td><td>&quot;Sport Bag&quot;</td><td>&quot;Home/Bags/More Bags/&quot;</td></tr><tr><td>20170731</td><td>1501520683</td><td>2219384770970157334</td><td>&quot;Eastern Europe&quot;</td><td>&quot;Slovakia&quot;</td><td>&quot;not available in demo dataset&quot;</td><td>&quot;Firefox&quot;</td><td>&quot;Windows&quot;</td><td>&quot;desktop&quot;</td><td>&quot;google&quot;</td><td>null</td><td>&quot;Google Slim Utility Travel Bag&quot;</td><td>&quot;Home/Bags/More Bags/&quot;</td></tr><tr><td>20170731</td><td>1501520683</td><td>2219384770970157334</td><td>&quot;Eastern Europe&quot;</td><td>&quot;Slovakia&quot;</td><td>&quot;not available in demo dataset&quot;</td><td>&quot;Firefox&quot;</td><td>&quot;Windows&quot;</td><td>&quot;desktop&quot;</td><td>&quot;google&quot;</td><td>null</td><td>&quot;Suitcase Organizer Cubes&quot;</td><td>&quot;Home/Bags/More Bags/&quot;</td></tr></tbody></table></div>"
      ],
      "text/plain": [
       "shape: (5, 13)\n",
       "┌──────────┬────────────┬────────────┬────────────┬───┬────────┬───────────┬───────────┬───────────┐\n",
       "│ date     ┆ visitStart ┆ fullVisito ┆ subContine ┆ … ┆ source ┆ transacti ┆ v2Product ┆ v2Product │\n",
       "│ ---      ┆ Time       ┆ rId        ┆ nt         ┆   ┆ ---    ┆ onId      ┆ Name      ┆ Category  │\n",
       "│ i64      ┆ ---        ┆ ---        ┆ ---        ┆   ┆ str    ┆ ---       ┆ ---       ┆ ---       │\n",
       "│          ┆ i64        ┆ i64        ┆ str        ┆   ┆        ┆ str       ┆ str       ┆ str       │\n",
       "╞══════════╪════════════╪════════════╪════════════╪═══╪════════╪═══════════╪═══════════╪═══════════╡\n",
       "│ 20170731 ┆ 1501520683 ┆ 2219384770 ┆ Eastern    ┆ … ┆ google ┆ null      ┆ Google    ┆ Home/Bags │\n",
       "│          ┆            ┆ 970157334  ┆ Europe     ┆   ┆        ┆           ┆ Lunch Bag ┆ /More     │\n",
       "│          ┆            ┆            ┆            ┆   ┆        ┆           ┆           ┆ Bags/     │\n",
       "│ 20170731 ┆ 1501520683 ┆ 2219384770 ┆ Eastern    ┆ … ┆ google ┆ null      ┆ Electroni ┆ Home/Bags │\n",
       "│          ┆            ┆ 970157334  ┆ Europe     ┆   ┆        ┆           ┆ cs        ┆ /More     │\n",
       "│          ┆            ┆            ┆            ┆   ┆        ┆           ┆ Accessory ┆ Bags/     │\n",
       "│          ┆            ┆            ┆            ┆   ┆        ┆           ┆ Pouch     ┆           │\n",
       "│ 20170731 ┆ 1501520683 ┆ 2219384770 ┆ Eastern    ┆ … ┆ google ┆ null      ┆ Sport Bag ┆ Home/Bags │\n",
       "│          ┆            ┆ 970157334  ┆ Europe     ┆   ┆        ┆           ┆           ┆ /More     │\n",
       "│          ┆            ┆            ┆            ┆   ┆        ┆           ┆           ┆ Bags/     │\n",
       "│ 20170731 ┆ 1501520683 ┆ 2219384770 ┆ Eastern    ┆ … ┆ google ┆ null      ┆ Google    ┆ Home/Bags │\n",
       "│          ┆            ┆ 970157334  ┆ Europe     ┆   ┆        ┆           ┆ Slim      ┆ /More     │\n",
       "│          ┆            ┆            ┆            ┆   ┆        ┆           ┆ Utility   ┆ Bags/     │\n",
       "│          ┆            ┆            ┆            ┆   ┆        ┆           ┆ Travel    ┆           │\n",
       "│          ┆            ┆            ┆            ┆   ┆        ┆           ┆ Bag       ┆           │\n",
       "│ 20170731 ┆ 1501520683 ┆ 2219384770 ┆ Eastern    ┆ … ┆ google ┆ null      ┆ Suitcase  ┆ Home/Bags │\n",
       "│          ┆            ┆ 970157334  ┆ Europe     ┆   ┆        ┆           ┆ Organizer ┆ /More     │\n",
       "│          ┆            ┆            ┆            ┆   ┆        ┆           ┆ Cubes     ┆ Bags/     │\n",
       "└──────────┴────────────┴────────────┴────────────┴───┴────────┴───────────┴───────────┴───────────┘"
      ]
     },
     "execution_count": 4,
     "metadata": {},
     "output_type": "execute_result"
    }
   ],
   "source": [
    "# importing data \n",
    "df = pl.read_csv(\"../data/google_analytics_data.csv\",ignore_errors=True)\n",
    "df.head()"
   ]
  },
  {
   "cell_type": "code",
   "execution_count": null,
   "metadata": {},
   "outputs": [],
   "source": [
    "# Finds average accuracy across all users \n",
    "# purchasing_visitors=encoded_df.filter(pl.col('transactionId') != 0).select(pl.col('fullVisitorId')).unique()\n",
    "# all_recs = []\n",
    "# for i in purchasing_visitors[\"fullVisitorId\"].to_list():\n",
    "#     prec = recommendation_eval_pipeline(i, user_profiles, encoded_df, entire_data)\n",
    "#     all_recs.append(prec)\n",
    "# np.mean(all_recs)"
   ]
  }
 ],
 "metadata": {
  "kernelspec": {
   "display_name": "Python 3",
   "language": "python",
   "name": "python3"
  },
  "language_info": {
   "codemirror_mode": {
    "name": "ipython",
    "version": 3
   },
   "file_extension": ".py",
   "mimetype": "text/x-python",
   "name": "python",
   "nbconvert_exporter": "python",
   "pygments_lexer": "ipython3",
   "version": "3.12.1"
  }
 },
 "nbformat": 4,
 "nbformat_minor": 2
}
