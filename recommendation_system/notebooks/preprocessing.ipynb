{
 "cells": [
  {
   "cell_type": "markdown",
   "metadata": {},
   "source": [
    "# Dataset Cleaning "
   ]
  },
  {
   "cell_type": "markdown",
   "metadata": {},
   "source": [
    "The main objectives of this notebook are: \n",
    "- Import dataset \n",
    "- Get familiar with the data \n",
    "- Determine if there are data quality issues \n",
    "- Resolve any data quality issues "
   ]
  },
  {
   "cell_type": "code",
   "execution_count": 167,
   "metadata": {},
   "outputs": [
    {
     "name": "stdout",
     "output_type": "stream",
     "text": [
      "The autoreload extension is already loaded. To reload it, use:\n",
      "  %reload_ext autoreload\n"
     ]
    }
   ],
   "source": [
    "%load_ext autoreload\n",
    "%autoreload 2"
   ]
  },
  {
   "cell_type": "code",
   "execution_count": 168,
   "metadata": {},
   "outputs": [],
   "source": [
    "import polars as pl \n",
    "from google.cloud import bigquery\n",
    "import numpy as np \n",
    "from sklearn.metrics.pairwise import cosine_similarity\n",
    "from sklearn.preprocessing import LabelEncoder\n",
    "import sys \n",
    "import os \n",
    "\n",
    "\n",
    "# Manually add path to read from another folder \n",
    "path2add = os.path.normpath(\n",
    "    os.path.abspath(os.path.join(os.path.dirname(\"__file__\"), os.path.pardir, \"utils\"))\n",
    ")\n",
    "if not (path2add in sys.path):\n",
    "    sys.path.append(path2add)\n",
    "\n",
    "from preprocessing import *"
   ]
  },
  {
   "cell_type": "code",
   "execution_count": 169,
   "metadata": {},
   "outputs": [
    {
     "data": {
      "text/plain": [
       "polars.config.Config"
      ]
     },
     "execution_count": 169,
     "metadata": {},
     "output_type": "execute_result"
    }
   ],
   "source": [
    "pl.Config.set_tbl_width_chars(200)"
   ]
  },
  {
   "cell_type": "code",
   "execution_count": 170,
   "metadata": {},
   "outputs": [],
   "source": [
    "# Create client object\n",
    "client = bigquery.Client()"
   ]
  },
  {
   "cell_type": "code",
   "execution_count": 171,
   "metadata": {},
   "outputs": [],
   "source": [
    "QUERY = (\"SELECT `date`, `visitStartTime`, `fullVisitorId`, `geoNetwork`.`subContinent`, `geoNetwork`.`country`,\"\n",
    "        \"`geoNetwork`.`city`,`device`.`browser`, `device`.`operatingSystem`,`device`.`deviceCategory`,\"\n",
    "        \"`trafficSource`.`source`, `h`.`item`.`transactionId`,`hp`.`v2ProductName`,`hp`.`v2ProductCategory` \"\n",
    "        \"FROM `bigquery-public-data.google_analytics_sample.ga_sessions_20170731`, UNNEST(hits) AS h,\"\n",
    "        \"UNNEST(h.product) AS hp;\")"
   ]
  },
  {
   "cell_type": "code",
   "execution_count": 172,
   "metadata": {},
   "outputs": [],
   "source": [
    "import pandas as pd"
   ]
  },
  {
   "cell_type": "code",
   "execution_count": 173,
   "metadata": {},
   "outputs": [],
   "source": [
    "run_query = client.query(QUERY)"
   ]
  },
  {
   "cell_type": "code",
   "execution_count": 174,
   "metadata": {},
   "outputs": [],
   "source": [
    "df = pl.from_arrow(run_query.to_arrow())"
   ]
  },
  {
   "cell_type": "code",
   "execution_count": 175,
   "metadata": {},
   "outputs": [
    {
     "data": {
      "text/html": [
       "<div><style>\n",
       ".dataframe > thead > tr,\n",
       ".dataframe > tbody > tr {\n",
       "  text-align: right;\n",
       "  white-space: pre-wrap;\n",
       "}\n",
       "</style>\n",
       "<small>shape: (5, 13)</small><table border=\"1\" class=\"dataframe\"><thead><tr><th>date</th><th>visitStartTime</th><th>fullVisitorId</th><th>subContinent</th><th>country</th><th>city</th><th>browser</th><th>operatingSystem</th><th>deviceCategory</th><th>source</th><th>transactionId</th><th>v2ProductName</th><th>v2ProductCategory</th></tr><tr><td>str</td><td>i64</td><td>str</td><td>str</td><td>str</td><td>str</td><td>str</td><td>str</td><td>str</td><td>str</td><td>str</td><td>str</td><td>str</td></tr></thead><tbody><tr><td>&quot;20170731&quot;</td><td>1501520683</td><td>&quot;2219384770970157334&quot;</td><td>&quot;Eastern Europe&quot;</td><td>&quot;Slovakia&quot;</td><td>&quot;not available in demo dataset&quot;</td><td>&quot;Firefox&quot;</td><td>&quot;Windows&quot;</td><td>&quot;desktop&quot;</td><td>&quot;google&quot;</td><td>null</td><td>&quot;Google Lunch Bag&quot;</td><td>&quot;Home/Bags/More Bags/&quot;</td></tr><tr><td>&quot;20170731&quot;</td><td>1501520683</td><td>&quot;2219384770970157334&quot;</td><td>&quot;Eastern Europe&quot;</td><td>&quot;Slovakia&quot;</td><td>&quot;not available in demo dataset&quot;</td><td>&quot;Firefox&quot;</td><td>&quot;Windows&quot;</td><td>&quot;desktop&quot;</td><td>&quot;google&quot;</td><td>null</td><td>&quot;Electronics Accessory Pouch&quot;</td><td>&quot;Home/Bags/More Bags/&quot;</td></tr><tr><td>&quot;20170731&quot;</td><td>1501520683</td><td>&quot;2219384770970157334&quot;</td><td>&quot;Eastern Europe&quot;</td><td>&quot;Slovakia&quot;</td><td>&quot;not available in demo dataset&quot;</td><td>&quot;Firefox&quot;</td><td>&quot;Windows&quot;</td><td>&quot;desktop&quot;</td><td>&quot;google&quot;</td><td>null</td><td>&quot;Sport Bag&quot;</td><td>&quot;Home/Bags/More Bags/&quot;</td></tr><tr><td>&quot;20170731&quot;</td><td>1501520683</td><td>&quot;2219384770970157334&quot;</td><td>&quot;Eastern Europe&quot;</td><td>&quot;Slovakia&quot;</td><td>&quot;not available in demo dataset&quot;</td><td>&quot;Firefox&quot;</td><td>&quot;Windows&quot;</td><td>&quot;desktop&quot;</td><td>&quot;google&quot;</td><td>null</td><td>&quot;Google Slim Utility Travel Bag&quot;</td><td>&quot;Home/Bags/More Bags/&quot;</td></tr><tr><td>&quot;20170731&quot;</td><td>1501520683</td><td>&quot;2219384770970157334&quot;</td><td>&quot;Eastern Europe&quot;</td><td>&quot;Slovakia&quot;</td><td>&quot;not available in demo dataset&quot;</td><td>&quot;Firefox&quot;</td><td>&quot;Windows&quot;</td><td>&quot;desktop&quot;</td><td>&quot;google&quot;</td><td>null</td><td>&quot;Suitcase Organizer Cubes&quot;</td><td>&quot;Home/Bags/More Bags/&quot;</td></tr></tbody></table></div>"
      ],
      "text/plain": [
       "shape: (5, 13)\n",
       "┌──────────┬────────────────┬─────────────────────┬────────────────┬───┬────────┬───────────────┬────────────────────────────────┬──────────────────────┐\n",
       "│ date     ┆ visitStartTime ┆ fullVisitorId       ┆ subContinent   ┆ … ┆ source ┆ transactionId ┆ v2ProductName                  ┆ v2ProductCategory    │\n",
       "│ ---      ┆ ---            ┆ ---                 ┆ ---            ┆   ┆ ---    ┆ ---           ┆ ---                            ┆ ---                  │\n",
       "│ str      ┆ i64            ┆ str                 ┆ str            ┆   ┆ str    ┆ str           ┆ str                            ┆ str                  │\n",
       "╞══════════╪════════════════╪═════════════════════╪════════════════╪═══╪════════╪═══════════════╪════════════════════════════════╪══════════════════════╡\n",
       "│ 20170731 ┆ 1501520683     ┆ 2219384770970157334 ┆ Eastern Europe ┆ … ┆ google ┆ null          ┆ Google Lunch Bag               ┆ Home/Bags/More Bags/ │\n",
       "│ 20170731 ┆ 1501520683     ┆ 2219384770970157334 ┆ Eastern Europe ┆ … ┆ google ┆ null          ┆ Electronics Accessory Pouch    ┆ Home/Bags/More Bags/ │\n",
       "│ 20170731 ┆ 1501520683     ┆ 2219384770970157334 ┆ Eastern Europe ┆ … ┆ google ┆ null          ┆ Sport Bag                      ┆ Home/Bags/More Bags/ │\n",
       "│ 20170731 ┆ 1501520683     ┆ 2219384770970157334 ┆ Eastern Europe ┆ … ┆ google ┆ null          ┆ Google Slim Utility Travel Bag ┆ Home/Bags/More Bags/ │\n",
       "│ 20170731 ┆ 1501520683     ┆ 2219384770970157334 ┆ Eastern Europe ┆ … ┆ google ┆ null          ┆ Suitcase Organizer Cubes       ┆ Home/Bags/More Bags/ │\n",
       "└──────────┴────────────────┴─────────────────────┴────────────────┴───┴────────┴───────────────┴────────────────────────────────┴──────────────────────┘"
      ]
     },
     "execution_count": 175,
     "metadata": {},
     "output_type": "execute_result"
    }
   ],
   "source": [
    "df.head()"
   ]
  },
  {
   "cell_type": "code",
   "execution_count": 176,
   "metadata": {},
   "outputs": [
    {
     "data": {
      "text/plain": [
       "(49512, 13)"
      ]
     },
     "execution_count": 176,
     "metadata": {},
     "output_type": "execute_result"
    }
   ],
   "source": [
    "df.shape"
   ]
  },
  {
   "cell_type": "code",
   "execution_count": 177,
   "metadata": {},
   "outputs": [
    {
     "data": {
      "text/plain": [
       "['date',\n",
       " 'visitStartTime',\n",
       " 'fullVisitorId',\n",
       " 'subContinent',\n",
       " 'country',\n",
       " 'city',\n",
       " 'browser',\n",
       " 'operatingSystem',\n",
       " 'deviceCategory',\n",
       " 'source',\n",
       " 'transactionId',\n",
       " 'v2ProductName',\n",
       " 'v2ProductCategory']"
      ]
     },
     "execution_count": 177,
     "metadata": {},
     "output_type": "execute_result"
    }
   ],
   "source": [
    "df.columns"
   ]
  },
  {
   "cell_type": "code",
   "execution_count": 178,
   "metadata": {},
   "outputs": [
    {
     "data": {
      "text/html": [
       "<div><style>\n",
       ".dataframe > thead > tr,\n",
       ".dataframe > tbody > tr {\n",
       "  text-align: right;\n",
       "  white-space: pre-wrap;\n",
       "}\n",
       "</style>\n",
       "<small>shape: (1, 13)</small><table border=\"1\" class=\"dataframe\"><thead><tr><th>date</th><th>visitStartTime</th><th>fullVisitorId</th><th>subContinent</th><th>country</th><th>city</th><th>browser</th><th>operatingSystem</th><th>deviceCategory</th><th>source</th><th>transactionId</th><th>v2ProductName</th><th>v2ProductCategory</th></tr><tr><td>str</td><td>i64</td><td>str</td><td>str</td><td>str</td><td>str</td><td>str</td><td>str</td><td>str</td><td>str</td><td>str</td><td>str</td><td>str</td></tr></thead><tbody><tr><td>&quot;20170731&quot;</td><td>1501504429</td><td>&quot;2173067697636247085&quot;</td><td>&quot;Western Europe&quot;</td><td>&quot;Austria&quot;</td><td>&quot;not available in demo dataset&quot;</td><td>&quot;Chrome&quot;</td><td>&quot;Android&quot;</td><td>&quot;mobile&quot;</td><td>&quot;google&quot;</td><td>null</td><td>&quot;YouTube Twill Cap&quot;</td><td>&quot;Home/Shop by Brand/YouTube/&quot;</td></tr></tbody></table></div>"
      ],
      "text/plain": [
       "shape: (1, 13)\n",
       "┌──────────┬────────────────┬─────────────────────┬────────────────┬───┬────────┬───────────────┬───────────────────┬─────────────────────────────┐\n",
       "│ date     ┆ visitStartTime ┆ fullVisitorId       ┆ subContinent   ┆ … ┆ source ┆ transactionId ┆ v2ProductName     ┆ v2ProductCategory           │\n",
       "│ ---      ┆ ---            ┆ ---                 ┆ ---            ┆   ┆ ---    ┆ ---           ┆ ---               ┆ ---                         │\n",
       "│ str      ┆ i64            ┆ str                 ┆ str            ┆   ┆ str    ┆ str           ┆ str               ┆ str                         │\n",
       "╞══════════╪════════════════╪═════════════════════╪════════════════╪═══╪════════╪═══════════════╪═══════════════════╪═════════════════════════════╡\n",
       "│ 20170731 ┆ 1501504429     ┆ 2173067697636247085 ┆ Western Europe ┆ … ┆ google ┆ null          ┆ YouTube Twill Cap ┆ Home/Shop by Brand/YouTube/ │\n",
       "└──────────┴────────────────┴─────────────────────┴────────────────┴───┴────────┴───────────────┴───────────────────┴─────────────────────────────┘"
      ]
     },
     "execution_count": 178,
     "metadata": {},
     "output_type": "execute_result"
    }
   ],
   "source": [
    "df.sample()"
   ]
  },
  {
   "cell_type": "code",
   "execution_count": 179,
   "metadata": {},
   "outputs": [
    {
     "data": {
      "text/html": [
       "<div><style>\n",
       ".dataframe > thead > tr,\n",
       ".dataframe > tbody > tr {\n",
       "  text-align: right;\n",
       "  white-space: pre-wrap;\n",
       "}\n",
       "</style>\n",
       "<small>shape: (9, 14)</small><table border=\"1\" class=\"dataframe\"><thead><tr><th>statistic</th><th>date</th><th>visitStartTime</th><th>fullVisitorId</th><th>subContinent</th><th>country</th><th>city</th><th>browser</th><th>operatingSystem</th><th>deviceCategory</th><th>source</th><th>transactionId</th><th>v2ProductName</th><th>v2ProductCategory</th></tr><tr><td>str</td><td>str</td><td>f64</td><td>str</td><td>str</td><td>str</td><td>str</td><td>str</td><td>str</td><td>str</td><td>str</td><td>str</td><td>str</td><td>str</td></tr></thead><tbody><tr><td>&quot;count&quot;</td><td>&quot;49512&quot;</td><td>49512.0</td><td>&quot;49512&quot;</td><td>&quot;49512&quot;</td><td>&quot;49512&quot;</td><td>&quot;49512&quot;</td><td>&quot;49512&quot;</td><td>&quot;49512&quot;</td><td>&quot;49512&quot;</td><td>&quot;49512&quot;</td><td>&quot;462&quot;</td><td>&quot;49512&quot;</td><td>&quot;49512&quot;</td></tr><tr><td>&quot;null_count&quot;</td><td>&quot;0&quot;</td><td>0.0</td><td>&quot;0&quot;</td><td>&quot;0&quot;</td><td>&quot;0&quot;</td><td>&quot;0&quot;</td><td>&quot;0&quot;</td><td>&quot;0&quot;</td><td>&quot;0&quot;</td><td>&quot;0&quot;</td><td>&quot;49050&quot;</td><td>&quot;0&quot;</td><td>&quot;0&quot;</td></tr><tr><td>&quot;mean&quot;</td><td>null</td><td>1.5015e9</td><td>null</td><td>null</td><td>null</td><td>null</td><td>null</td><td>null</td><td>null</td><td>null</td><td>null</td><td>null</td><td>null</td></tr><tr><td>&quot;std&quot;</td><td>null</td><td>21502.167394</td><td>null</td><td>null</td><td>null</td><td>null</td><td>null</td><td>null</td><td>null</td><td>null</td><td>null</td><td>null</td><td>null</td></tr><tr><td>&quot;min&quot;</td><td>&quot;20170731&quot;</td><td>1.5015e9</td><td>&quot;0002457163364254438&quot;</td><td>&quot;Australasia&quot;</td><td>&quot;Algeria&quot;</td><td>&quot;(not set)&quot;</td><td>&quot;Amazon Silk&quot;</td><td>&quot;(not set)&quot;</td><td>&quot;desktop&quot;</td><td>&quot;(direct)&quot;</td><td>&quot;ORD201707311786&quot;</td><td>&quot;1 oz Hand Sanitizer&quot;</td><td>&quot;${escCatTitle}&quot;</td></tr><tr><td>&quot;25%&quot;</td><td>null</td><td>1.5015e9</td><td>null</td><td>null</td><td>null</td><td>null</td><td>null</td><td>null</td><td>null</td><td>null</td><td>null</td><td>null</td><td>null</td></tr><tr><td>&quot;50%&quot;</td><td>null</td><td>1.5015e9</td><td>null</td><td>null</td><td>null</td><td>null</td><td>null</td><td>null</td><td>null</td><td>null</td><td>null</td><td>null</td><td>null</td></tr><tr><td>&quot;75%&quot;</td><td>null</td><td>1.5015e9</td><td>null</td><td>null</td><td>null</td><td>null</td><td>null</td><td>null</td><td>null</td><td>null</td><td>null</td><td>null</td><td>null</td></tr><tr><td>&quot;max&quot;</td><td>&quot;20170731&quot;</td><td>1.5016e9</td><td>&quot;9997362993085245352&quot;</td><td>&quot;Western Europe&quot;</td><td>&quot;Vietnam&quot;</td><td>&quot;not available in demo dataset&quot;</td><td>&quot;YaBrowser&quot;</td><td>&quot;iOS&quot;</td><td>&quot;tablet&quot;</td><td>&quot;youtube.com&quot;</td><td>&quot;ORD201707312663&quot;</td><td>&quot;YouTube Youth Short Sleeve Tee…</td><td>&quot;Wearables/Men&#x27;s T-Shirts/&quot;</td></tr></tbody></table></div>"
      ],
      "text/plain": [
       "shape: (9, 14)\n",
       "┌────────────┬──────────┬────────────────┬─────────────────────┬───┬─────────────┬─────────────────┬─────────────────────────────────┬───────────────────────────┐\n",
       "│ statistic  ┆ date     ┆ visitStartTime ┆ fullVisitorId       ┆ … ┆ source      ┆ transactionId   ┆ v2ProductName                   ┆ v2ProductCategory         │\n",
       "│ ---        ┆ ---      ┆ ---            ┆ ---                 ┆   ┆ ---         ┆ ---             ┆ ---                             ┆ ---                       │\n",
       "│ str        ┆ str      ┆ f64            ┆ str                 ┆   ┆ str         ┆ str             ┆ str                             ┆ str                       │\n",
       "╞════════════╪══════════╪════════════════╪═════════════════════╪═══╪═════════════╪═════════════════╪═════════════════════════════════╪═══════════════════════════╡\n",
       "│ count      ┆ 49512    ┆ 49512.0        ┆ 49512               ┆ … ┆ 49512       ┆ 462             ┆ 49512                           ┆ 49512                     │\n",
       "│ null_count ┆ 0        ┆ 0.0            ┆ 0                   ┆ … ┆ 0           ┆ 49050           ┆ 0                               ┆ 0                         │\n",
       "│ mean       ┆ null     ┆ 1.5015e9       ┆ null                ┆ … ┆ null        ┆ null            ┆ null                            ┆ null                      │\n",
       "│ std        ┆ null     ┆ 21502.167394   ┆ null                ┆ … ┆ null        ┆ null            ┆ null                            ┆ null                      │\n",
       "│ min        ┆ 20170731 ┆ 1.5015e9       ┆ 0002457163364254438 ┆ … ┆ (direct)    ┆ ORD201707311786 ┆ 1 oz Hand Sanitizer             ┆ ${escCatTitle}            │\n",
       "│ 25%        ┆ null     ┆ 1.5015e9       ┆ null                ┆ … ┆ null        ┆ null            ┆ null                            ┆ null                      │\n",
       "│ 50%        ┆ null     ┆ 1.5015e9       ┆ null                ┆ … ┆ null        ┆ null            ┆ null                            ┆ null                      │\n",
       "│ 75%        ┆ null     ┆ 1.5015e9       ┆ null                ┆ … ┆ null        ┆ null            ┆ null                            ┆ null                      │\n",
       "│ max        ┆ 20170731 ┆ 1.5016e9       ┆ 9997362993085245352 ┆ … ┆ youtube.com ┆ ORD201707312663 ┆ YouTube Youth Short Sleeve Tee… ┆ Wearables/Men's T-Shirts/ │\n",
       "└────────────┴──────────┴────────────────┴─────────────────────┴───┴─────────────┴─────────────────┴─────────────────────────────────┴───────────────────────────┘"
      ]
     },
     "execution_count": 179,
     "metadata": {},
     "output_type": "execute_result"
    }
   ],
   "source": [
    "df.describe()"
   ]
  },
  {
   "cell_type": "code",
   "execution_count": 180,
   "metadata": {},
   "outputs": [
    {
     "data": {
      "text/html": [
       "<div><style>\n",
       ".dataframe > thead > tr,\n",
       ".dataframe > tbody > tr {\n",
       "  text-align: right;\n",
       "  white-space: pre-wrap;\n",
       "}\n",
       "</style>\n",
       "<small>shape: (1, 13)</small><table border=\"1\" class=\"dataframe\"><thead><tr><th>date</th><th>visitStartTime</th><th>fullVisitorId</th><th>subContinent</th><th>country</th><th>city</th><th>browser</th><th>operatingSystem</th><th>deviceCategory</th><th>source</th><th>transactionId</th><th>v2ProductName</th><th>v2ProductCategory</th></tr><tr><td>u32</td><td>u32</td><td>u32</td><td>u32</td><td>u32</td><td>u32</td><td>u32</td><td>u32</td><td>u32</td><td>u32</td><td>u32</td><td>u32</td><td>u32</td></tr></thead><tbody><tr><td>0</td><td>0</td><td>0</td><td>0</td><td>0</td><td>0</td><td>0</td><td>0</td><td>0</td><td>0</td><td>49050</td><td>0</td><td>0</td></tr></tbody></table></div>"
      ],
      "text/plain": [
       "shape: (1, 13)\n",
       "┌──────┬────────────────┬───────────────┬──────────────┬───┬────────┬───────────────┬───────────────┬───────────────────┐\n",
       "│ date ┆ visitStartTime ┆ fullVisitorId ┆ subContinent ┆ … ┆ source ┆ transactionId ┆ v2ProductName ┆ v2ProductCategory │\n",
       "│ ---  ┆ ---            ┆ ---           ┆ ---          ┆   ┆ ---    ┆ ---           ┆ ---           ┆ ---               │\n",
       "│ u32  ┆ u32            ┆ u32           ┆ u32          ┆   ┆ u32    ┆ u32           ┆ u32           ┆ u32               │\n",
       "╞══════╪════════════════╪═══════════════╪══════════════╪═══╪════════╪═══════════════╪═══════════════╪═══════════════════╡\n",
       "│ 0    ┆ 0              ┆ 0             ┆ 0            ┆ … ┆ 0      ┆ 49050         ┆ 0             ┆ 0                 │\n",
       "└──────┴────────────────┴───────────────┴──────────────┴───┴────────┴───────────────┴───────────────┴───────────────────┘"
      ]
     },
     "execution_count": 180,
     "metadata": {},
     "output_type": "execute_result"
    }
   ],
   "source": [
    "df.select(pl.all().is_null().sum())"
   ]
  },
  {
   "cell_type": "code",
   "execution_count": 181,
   "metadata": {},
   "outputs": [
    {
     "data": {
      "text/html": [
       "<div><style>\n",
       ".dataframe > thead > tr,\n",
       ".dataframe > tbody > tr {\n",
       "  text-align: right;\n",
       "  white-space: pre-wrap;\n",
       "}\n",
       "</style>\n",
       "<small>shape: (462, 13)</small><table border=\"1\" class=\"dataframe\"><thead><tr><th>date</th><th>visitStartTime</th><th>fullVisitorId</th><th>subContinent</th><th>country</th><th>city</th><th>browser</th><th>operatingSystem</th><th>deviceCategory</th><th>source</th><th>transactionId</th><th>v2ProductName</th><th>v2ProductCategory</th></tr><tr><td>str</td><td>i64</td><td>str</td><td>str</td><td>str</td><td>str</td><td>str</td><td>str</td><td>str</td><td>str</td><td>str</td><td>str</td><td>str</td></tr></thead><tbody><tr><td>&quot;20170731&quot;</td><td>1501525374</td><td>&quot;186231215995844689&quot;</td><td>&quot;Northern America&quot;</td><td>&quot;United States&quot;</td><td>&quot;Mountain View&quot;</td><td>&quot;Chrome&quot;</td><td>&quot;Macintosh&quot;</td><td>&quot;desktop&quot;</td><td>&quot;(direct)&quot;</td><td>&quot;ORD201707311786&quot;</td><td>&quot;Google Men&#x27;s Bike Short Sleeve…</td><td>&quot;Apparel&quot;</td></tr><tr><td>&quot;20170731&quot;</td><td>1501525374</td><td>&quot;186231215995844689&quot;</td><td>&quot;Northern America&quot;</td><td>&quot;United States&quot;</td><td>&quot;Mountain View&quot;</td><td>&quot;Chrome&quot;</td><td>&quot;Macintosh&quot;</td><td>&quot;desktop&quot;</td><td>&quot;(direct)&quot;</td><td>&quot;ORD201707311786&quot;</td><td>&quot;Google Men&#x27;s Bike Short Sleeve…</td><td>&quot;Apparel&quot;</td></tr><tr><td>&quot;20170731&quot;</td><td>1501549028</td><td>&quot;0345672699449577691&quot;</td><td>&quot;Northern America&quot;</td><td>&quot;United States&quot;</td><td>&quot;Kirkland&quot;</td><td>&quot;Chrome&quot;</td><td>&quot;Chrome OS&quot;</td><td>&quot;desktop&quot;</td><td>&quot;(direct)&quot;</td><td>&quot;ORD201707312107&quot;</td><td>&quot;Google Blackout Cap&quot;</td><td>&quot;Headgear&quot;</td></tr><tr><td>&quot;20170731&quot;</td><td>1501549028</td><td>&quot;0345672699449577691&quot;</td><td>&quot;Northern America&quot;</td><td>&quot;United States&quot;</td><td>&quot;Kirkland&quot;</td><td>&quot;Chrome&quot;</td><td>&quot;Chrome OS&quot;</td><td>&quot;desktop&quot;</td><td>&quot;(direct)&quot;</td><td>&quot;ORD201707312107&quot;</td><td>&quot;Google Women&#x27;s Vintage Hero Te…</td><td>&quot;Apparel&quot;</td></tr><tr><td>&quot;20170731&quot;</td><td>1501549028</td><td>&quot;0345672699449577691&quot;</td><td>&quot;Northern America&quot;</td><td>&quot;United States&quot;</td><td>&quot;Kirkland&quot;</td><td>&quot;Chrome&quot;</td><td>&quot;Chrome OS&quot;</td><td>&quot;desktop&quot;</td><td>&quot;(direct)&quot;</td><td>&quot;ORD201707312107&quot;</td><td>&quot;Google Men&#x27;s Long &amp; Lean Tee C…</td><td>&quot;Apparel&quot;</td></tr><tr><td>&hellip;</td><td>&hellip;</td><td>&hellip;</td><td>&hellip;</td><td>&hellip;</td><td>&hellip;</td><td>&hellip;</td><td>&hellip;</td><td>&hellip;</td><td>&hellip;</td><td>&hellip;</td><td>&hellip;</td><td>&hellip;</td></tr><tr><td>&quot;20170731&quot;</td><td>1501537217</td><td>&quot;7483600664917507409&quot;</td><td>&quot;Northern America&quot;</td><td>&quot;United States&quot;</td><td>&quot;Mountain View&quot;</td><td>&quot;Chrome&quot;</td><td>&quot;Macintosh&quot;</td><td>&quot;desktop&quot;</td><td>&quot;(direct)&quot;</td><td>&quot;ORD201707312663&quot;</td><td>&quot;Google 25 oz Red Stainless Ste…</td><td>&quot;Drinkware&quot;</td></tr><tr><td>&quot;20170731&quot;</td><td>1501537217</td><td>&quot;7483600664917507409&quot;</td><td>&quot;Northern America&quot;</td><td>&quot;United States&quot;</td><td>&quot;Mountain View&quot;</td><td>&quot;Chrome&quot;</td><td>&quot;Macintosh&quot;</td><td>&quot;desktop&quot;</td><td>&quot;(direct)&quot;</td><td>&quot;ORD201707312663&quot;</td><td>&quot;Android 17oz Stainless Steel S…</td><td>&quot;Drinkware&quot;</td></tr><tr><td>&quot;20170731&quot;</td><td>1501537217</td><td>&quot;7483600664917507409&quot;</td><td>&quot;Northern America&quot;</td><td>&quot;United States&quot;</td><td>&quot;Mountain View&quot;</td><td>&quot;Chrome&quot;</td><td>&quot;Macintosh&quot;</td><td>&quot;desktop&quot;</td><td>&quot;(direct)&quot;</td><td>&quot;ORD201707312663&quot;</td><td>&quot;Android Men&#x27;s Short Sleeve Her…</td><td>&quot;Apparel&quot;</td></tr><tr><td>&quot;20170731&quot;</td><td>1501537217</td><td>&quot;7483600664917507409&quot;</td><td>&quot;Northern America&quot;</td><td>&quot;United States&quot;</td><td>&quot;Mountain View&quot;</td><td>&quot;Chrome&quot;</td><td>&quot;Macintosh&quot;</td><td>&quot;desktop&quot;</td><td>&quot;(direct)&quot;</td><td>&quot;ORD201707312663&quot;</td><td>&quot;Android Men&#x27;s Take Charge Shor…</td><td>&quot;Apparel&quot;</td></tr><tr><td>&quot;20170731&quot;</td><td>1501537217</td><td>&quot;7483600664917507409&quot;</td><td>&quot;Northern America&quot;</td><td>&quot;United States&quot;</td><td>&quot;Mountain View&quot;</td><td>&quot;Chrome&quot;</td><td>&quot;Macintosh&quot;</td><td>&quot;desktop&quot;</td><td>&quot;(direct)&quot;</td><td>&quot;ORD201707312663&quot;</td><td>&quot;Google Women&#x27;s Scoop Neck Tee …</td><td>&quot;Apparel&quot;</td></tr></tbody></table></div>"
      ],
      "text/plain": [
       "shape: (462, 13)\n",
       "┌──────────┬────────────────┬─────────────────────┬──────────────────┬───┬──────────┬─────────────────┬─────────────────────────────────┬───────────────────┐\n",
       "│ date     ┆ visitStartTime ┆ fullVisitorId       ┆ subContinent     ┆ … ┆ source   ┆ transactionId   ┆ v2ProductName                   ┆ v2ProductCategory │\n",
       "│ ---      ┆ ---            ┆ ---                 ┆ ---              ┆   ┆ ---      ┆ ---             ┆ ---                             ┆ ---               │\n",
       "│ str      ┆ i64            ┆ str                 ┆ str              ┆   ┆ str      ┆ str             ┆ str                             ┆ str               │\n",
       "╞══════════╪════════════════╪═════════════════════╪══════════════════╪═══╪══════════╪═════════════════╪═════════════════════════════════╪═══════════════════╡\n",
       "│ 20170731 ┆ 1501525374     ┆ 186231215995844689  ┆ Northern America ┆ … ┆ (direct) ┆ ORD201707311786 ┆ Google Men's Bike Short Sleeve… ┆ Apparel           │\n",
       "│ 20170731 ┆ 1501525374     ┆ 186231215995844689  ┆ Northern America ┆ … ┆ (direct) ┆ ORD201707311786 ┆ Google Men's Bike Short Sleeve… ┆ Apparel           │\n",
       "│ 20170731 ┆ 1501549028     ┆ 0345672699449577691 ┆ Northern America ┆ … ┆ (direct) ┆ ORD201707312107 ┆ Google Blackout Cap             ┆ Headgear          │\n",
       "│ 20170731 ┆ 1501549028     ┆ 0345672699449577691 ┆ Northern America ┆ … ┆ (direct) ┆ ORD201707312107 ┆ Google Women's Vintage Hero Te… ┆ Apparel           │\n",
       "│ 20170731 ┆ 1501549028     ┆ 0345672699449577691 ┆ Northern America ┆ … ┆ (direct) ┆ ORD201707312107 ┆ Google Men's Long & Lean Tee C… ┆ Apparel           │\n",
       "│ …        ┆ …              ┆ …                   ┆ …                ┆ … ┆ …        ┆ …               ┆ …                               ┆ …                 │\n",
       "│ 20170731 ┆ 1501537217     ┆ 7483600664917507409 ┆ Northern America ┆ … ┆ (direct) ┆ ORD201707312663 ┆ Google 25 oz Red Stainless Ste… ┆ Drinkware         │\n",
       "│ 20170731 ┆ 1501537217     ┆ 7483600664917507409 ┆ Northern America ┆ … ┆ (direct) ┆ ORD201707312663 ┆ Android 17oz Stainless Steel S… ┆ Drinkware         │\n",
       "│ 20170731 ┆ 1501537217     ┆ 7483600664917507409 ┆ Northern America ┆ … ┆ (direct) ┆ ORD201707312663 ┆ Android Men's Short Sleeve Her… ┆ Apparel           │\n",
       "│ 20170731 ┆ 1501537217     ┆ 7483600664917507409 ┆ Northern America ┆ … ┆ (direct) ┆ ORD201707312663 ┆ Android Men's Take Charge Shor… ┆ Apparel           │\n",
       "│ 20170731 ┆ 1501537217     ┆ 7483600664917507409 ┆ Northern America ┆ … ┆ (direct) ┆ ORD201707312663 ┆ Google Women's Scoop Neck Tee … ┆ Apparel           │\n",
       "└──────────┴────────────────┴─────────────────────┴──────────────────┴───┴──────────┴─────────────────┴─────────────────────────────────┴───────────────────┘"
      ]
     },
     "execution_count": 181,
     "metadata": {},
     "output_type": "execute_result"
    }
   ],
   "source": [
    "df.filter(pl.col('transactionId') != 'null')"
   ]
  },
  {
   "cell_type": "code",
   "execution_count": 182,
   "metadata": {},
   "outputs": [
    {
     "data": {
      "text/html": [
       "<div><style>\n",
       ".dataframe > thead > tr,\n",
       ".dataframe > tbody > tr {\n",
       "  text-align: right;\n",
       "  white-space: pre-wrap;\n",
       "}\n",
       "</style>\n",
       "<small>shape: (5, 13)</small><table border=\"1\" class=\"dataframe\"><thead><tr><th>date</th><th>visitStartTime</th><th>fullVisitorId</th><th>subContinent</th><th>country</th><th>city</th><th>browser</th><th>operatingSystem</th><th>deviceCategory</th><th>source</th><th>transactionId</th><th>v2ProductName</th><th>v2ProductCategory</th></tr><tr><td>date</td><td>i64</td><td>str</td><td>str</td><td>str</td><td>str</td><td>str</td><td>str</td><td>str</td><td>str</td><td>str</td><td>str</td><td>str</td></tr></thead><tbody><tr><td>2017-07-31</td><td>1501520683</td><td>&quot;2219384770970157334&quot;</td><td>&quot;Eastern Europe&quot;</td><td>&quot;Slovakia&quot;</td><td>&quot;not available in demo dataset&quot;</td><td>&quot;Firefox&quot;</td><td>&quot;Windows&quot;</td><td>&quot;desktop&quot;</td><td>&quot;google&quot;</td><td>null</td><td>&quot;Google Lunch Bag&quot;</td><td>&quot;Home/Bags/More Bags/&quot;</td></tr><tr><td>2017-07-31</td><td>1501520683</td><td>&quot;2219384770970157334&quot;</td><td>&quot;Eastern Europe&quot;</td><td>&quot;Slovakia&quot;</td><td>&quot;not available in demo dataset&quot;</td><td>&quot;Firefox&quot;</td><td>&quot;Windows&quot;</td><td>&quot;desktop&quot;</td><td>&quot;google&quot;</td><td>null</td><td>&quot;Electronics Accessory Pouch&quot;</td><td>&quot;Home/Bags/More Bags/&quot;</td></tr><tr><td>2017-07-31</td><td>1501520683</td><td>&quot;2219384770970157334&quot;</td><td>&quot;Eastern Europe&quot;</td><td>&quot;Slovakia&quot;</td><td>&quot;not available in demo dataset&quot;</td><td>&quot;Firefox&quot;</td><td>&quot;Windows&quot;</td><td>&quot;desktop&quot;</td><td>&quot;google&quot;</td><td>null</td><td>&quot;Sport Bag&quot;</td><td>&quot;Home/Bags/More Bags/&quot;</td></tr><tr><td>2017-07-31</td><td>1501520683</td><td>&quot;2219384770970157334&quot;</td><td>&quot;Eastern Europe&quot;</td><td>&quot;Slovakia&quot;</td><td>&quot;not available in demo dataset&quot;</td><td>&quot;Firefox&quot;</td><td>&quot;Windows&quot;</td><td>&quot;desktop&quot;</td><td>&quot;google&quot;</td><td>null</td><td>&quot;Google Slim Utility Travel Bag&quot;</td><td>&quot;Home/Bags/More Bags/&quot;</td></tr><tr><td>2017-07-31</td><td>1501520683</td><td>&quot;2219384770970157334&quot;</td><td>&quot;Eastern Europe&quot;</td><td>&quot;Slovakia&quot;</td><td>&quot;not available in demo dataset&quot;</td><td>&quot;Firefox&quot;</td><td>&quot;Windows&quot;</td><td>&quot;desktop&quot;</td><td>&quot;google&quot;</td><td>null</td><td>&quot;Suitcase Organizer Cubes&quot;</td><td>&quot;Home/Bags/More Bags/&quot;</td></tr></tbody></table></div>"
      ],
      "text/plain": [
       "shape: (5, 13)\n",
       "┌────────────┬────────────────┬─────────────────────┬────────────────┬───┬────────┬───────────────┬────────────────────────────────┬──────────────────────┐\n",
       "│ date       ┆ visitStartTime ┆ fullVisitorId       ┆ subContinent   ┆ … ┆ source ┆ transactionId ┆ v2ProductName                  ┆ v2ProductCategory    │\n",
       "│ ---        ┆ ---            ┆ ---                 ┆ ---            ┆   ┆ ---    ┆ ---           ┆ ---                            ┆ ---                  │\n",
       "│ date       ┆ i64            ┆ str                 ┆ str            ┆   ┆ str    ┆ str           ┆ str                            ┆ str                  │\n",
       "╞════════════╪════════════════╪═════════════════════╪════════════════╪═══╪════════╪═══════════════╪════════════════════════════════╪══════════════════════╡\n",
       "│ 2017-07-31 ┆ 1501520683     ┆ 2219384770970157334 ┆ Eastern Europe ┆ … ┆ google ┆ null          ┆ Google Lunch Bag               ┆ Home/Bags/More Bags/ │\n",
       "│ 2017-07-31 ┆ 1501520683     ┆ 2219384770970157334 ┆ Eastern Europe ┆ … ┆ google ┆ null          ┆ Electronics Accessory Pouch    ┆ Home/Bags/More Bags/ │\n",
       "│ 2017-07-31 ┆ 1501520683     ┆ 2219384770970157334 ┆ Eastern Europe ┆ … ┆ google ┆ null          ┆ Sport Bag                      ┆ Home/Bags/More Bags/ │\n",
       "│ 2017-07-31 ┆ 1501520683     ┆ 2219384770970157334 ┆ Eastern Europe ┆ … ┆ google ┆ null          ┆ Google Slim Utility Travel Bag ┆ Home/Bags/More Bags/ │\n",
       "│ 2017-07-31 ┆ 1501520683     ┆ 2219384770970157334 ┆ Eastern Europe ┆ … ┆ google ┆ null          ┆ Suitcase Organizer Cubes       ┆ Home/Bags/More Bags/ │\n",
       "└────────────┴────────────────┴─────────────────────┴────────────────┴───┴────────┴───────────────┴────────────────────────────────┴──────────────────────┘"
      ]
     },
     "execution_count": 182,
     "metadata": {},
     "output_type": "execute_result"
    }
   ],
   "source": [
    "df_cleaned = df.with_columns(pl.col('date').str.strptime(pl.Date, format=\"%Y%m%d\"))\n",
    "df_cleaned.head()"
   ]
  },
  {
   "cell_type": "code",
   "execution_count": 183,
   "metadata": {},
   "outputs": [],
   "source": [
    "df_cleaned = df_cleaned.with_columns(pl.when(pl.col('transactionId') != 'null').then(1).otherwise(0).alias(\"transactionId\"))"
   ]
  },
  {
   "cell_type": "markdown",
   "metadata": {},
   "source": [
    "# Encoding the df"
   ]
  },
  {
   "cell_type": "code",
   "execution_count": 184,
   "metadata": {},
   "outputs": [
    {
     "data": {
      "text/html": [
       "<div><style>\n",
       ".dataframe > thead > tr,\n",
       ".dataframe > tbody > tr {\n",
       "  text-align: right;\n",
       "  white-space: pre-wrap;\n",
       "}\n",
       "</style>\n",
       "<small>shape: (49_512, 9)</small><table border=\"1\" class=\"dataframe\"><thead><tr><th>fullVisitorId</th><th>country</th><th>city</th><th>browser</th><th>operatingSystem</th><th>deviceCategory</th><th>source</th><th>transactionId</th><th>v2ProductCategory</th></tr><tr><td>str</td><td>f64</td><td>f64</td><td>f64</td><td>f64</td><td>f64</td><td>f64</td><td>i32</td><td>f64</td></tr></thead><tbody><tr><td>&quot;2219384770970157334&quot;</td><td>0.0</td><td>0.006208</td><td>0.001795</td><td>0.005962</td><td>0.011631</td><td>0.003665</td><td>0</td><td>0.0</td></tr><tr><td>&quot;2219384770970157334&quot;</td><td>0.0</td><td>0.006208</td><td>0.001795</td><td>0.005962</td><td>0.011631</td><td>0.003665</td><td>0</td><td>0.0</td></tr><tr><td>&quot;2219384770970157334&quot;</td><td>0.0</td><td>0.006208</td><td>0.001795</td><td>0.005962</td><td>0.011631</td><td>0.003665</td><td>0</td><td>0.0</td></tr><tr><td>&quot;2219384770970157334&quot;</td><td>0.0</td><td>0.006208</td><td>0.001795</td><td>0.005962</td><td>0.011631</td><td>0.003665</td><td>0</td><td>0.0</td></tr><tr><td>&quot;2219384770970157334&quot;</td><td>0.0</td><td>0.006208</td><td>0.001795</td><td>0.005962</td><td>0.011631</td><td>0.003665</td><td>0</td><td>0.0</td></tr><tr><td>&hellip;</td><td>&hellip;</td><td>&hellip;</td><td>&hellip;</td><td>&hellip;</td><td>&hellip;</td><td>&hellip;</td><td>&hellip;</td><td>&hellip;</td></tr><tr><td>&quot;7483600664917507409&quot;</td><td>0.014312</td><td>0.013889</td><td>0.011785</td><td>0.01692</td><td>0.011631</td><td>0.020215</td><td>1</td><td>0.254777</td></tr><tr><td>&quot;7483600664917507409&quot;</td><td>0.014312</td><td>0.013889</td><td>0.011785</td><td>0.01692</td><td>0.011631</td><td>0.020215</td><td>1</td><td>0.262</td></tr><tr><td>&quot;7483600664917507409&quot;</td><td>0.014312</td><td>0.013889</td><td>0.011785</td><td>0.01692</td><td>0.011631</td><td>0.020215</td><td>1</td><td>0.262</td></tr><tr><td>&quot;7483600664917507409&quot;</td><td>0.014312</td><td>0.013889</td><td>0.011785</td><td>0.01692</td><td>0.011631</td><td>0.020215</td><td>1</td><td>0.262</td></tr><tr><td>&quot;7483600664917507409&quot;</td><td>0.014312</td><td>0.013889</td><td>0.011785</td><td>0.01692</td><td>0.011631</td><td>0.020215</td><td>0</td><td>0.0</td></tr></tbody></table></div>"
      ],
      "text/plain": [
       "shape: (49_512, 9)\n",
       "┌─────────────────────┬──────────┬──────────┬──────────┬───┬────────────────┬──────────┬───────────────┬───────────────────┐\n",
       "│ fullVisitorId       ┆ country  ┆ city     ┆ browser  ┆ … ┆ deviceCategory ┆ source   ┆ transactionId ┆ v2ProductCategory │\n",
       "│ ---                 ┆ ---      ┆ ---      ┆ ---      ┆   ┆ ---            ┆ ---      ┆ ---           ┆ ---               │\n",
       "│ str                 ┆ f64      ┆ f64      ┆ f64      ┆   ┆ f64            ┆ f64      ┆ i32           ┆ f64               │\n",
       "╞═════════════════════╪══════════╪══════════╪══════════╪═══╪════════════════╪══════════╪═══════════════╪═══════════════════╡\n",
       "│ 2219384770970157334 ┆ 0.0      ┆ 0.006208 ┆ 0.001795 ┆ … ┆ 0.011631       ┆ 0.003665 ┆ 0             ┆ 0.0               │\n",
       "│ 2219384770970157334 ┆ 0.0      ┆ 0.006208 ┆ 0.001795 ┆ … ┆ 0.011631       ┆ 0.003665 ┆ 0             ┆ 0.0               │\n",
       "│ 2219384770970157334 ┆ 0.0      ┆ 0.006208 ┆ 0.001795 ┆ … ┆ 0.011631       ┆ 0.003665 ┆ 0             ┆ 0.0               │\n",
       "│ 2219384770970157334 ┆ 0.0      ┆ 0.006208 ┆ 0.001795 ┆ … ┆ 0.011631       ┆ 0.003665 ┆ 0             ┆ 0.0               │\n",
       "│ 2219384770970157334 ┆ 0.0      ┆ 0.006208 ┆ 0.001795 ┆ … ┆ 0.011631       ┆ 0.003665 ┆ 0             ┆ 0.0               │\n",
       "│ …                   ┆ …        ┆ …        ┆ …        ┆ … ┆ …              ┆ …        ┆ …             ┆ …                 │\n",
       "│ 7483600664917507409 ┆ 0.014312 ┆ 0.013889 ┆ 0.011785 ┆ … ┆ 0.011631       ┆ 0.020215 ┆ 1             ┆ 0.254777          │\n",
       "│ 7483600664917507409 ┆ 0.014312 ┆ 0.013889 ┆ 0.011785 ┆ … ┆ 0.011631       ┆ 0.020215 ┆ 1             ┆ 0.262             │\n",
       "│ 7483600664917507409 ┆ 0.014312 ┆ 0.013889 ┆ 0.011785 ┆ … ┆ 0.011631       ┆ 0.020215 ┆ 1             ┆ 0.262             │\n",
       "│ 7483600664917507409 ┆ 0.014312 ┆ 0.013889 ┆ 0.011785 ┆ … ┆ 0.011631       ┆ 0.020215 ┆ 1             ┆ 0.262             │\n",
       "│ 7483600664917507409 ┆ 0.014312 ┆ 0.013889 ┆ 0.011785 ┆ … ┆ 0.011631       ┆ 0.020215 ┆ 0             ┆ 0.0               │\n",
       "└─────────────────────┴──────────┴──────────┴──────────┴───┴────────────────┴──────────┴───────────────┴───────────────────┘"
      ]
     },
     "execution_count": 184,
     "metadata": {},
     "output_type": "execute_result"
    }
   ],
   "source": [
    "encoded_df = target_encoding(df)\n",
    "encoded_df.write_csv('../data/encoded_df.csv')\n",
    "encoded_df"
   ]
  },
  {
   "cell_type": "code",
   "execution_count": 185,
   "metadata": {},
   "outputs": [],
   "source": [
    "# encoded_df = label_encoding(df)\n",
    "# encoded_df"
   ]
  },
  {
   "cell_type": "code",
   "execution_count": 186,
   "metadata": {},
   "outputs": [
    {
     "data": {
      "text/html": [
       "<div><style>\n",
       ".dataframe > thead > tr,\n",
       ".dataframe > tbody > tr {\n",
       "  text-align: right;\n",
       "  white-space: pre-wrap;\n",
       "}\n",
       "</style>\n",
       "<small>shape: (1_641, 9)</small><table border=\"1\" class=\"dataframe\"><thead><tr><th>fullVisitorId</th><th>country</th><th>city</th><th>browser</th><th>operatingSystem</th><th>deviceCategory</th><th>source</th><th>transactionId</th><th>v2ProductCategory</th></tr><tr><td>str</td><td>list[f64]</td><td>list[f64]</td><td>list[f64]</td><td>list[f64]</td><td>list[f64]</td><td>list[f64]</td><td>list[i32]</td><td>list[f64]</td></tr></thead><tbody><tr><td>&quot;856273082667959194&quot;</td><td>[0.014312, 0.014312, … 0.014312]</td><td>[0.014785, 0.014785, … 0.014785]</td><td>[0.011785, 0.011785, … 0.011785]</td><td>[0.01692, 0.01692, … 0.01692]</td><td>[0.011631, 0.011631, … 0.011631]</td><td>[0.020215, 0.020215, … 0.020215]</td><td>[0, 0, … 0]</td><td>[0.0, 0.0, … 0.0]</td></tr><tr><td>&quot;7051248816727707528&quot;</td><td>[0.014312, 0.014312, … 0.014312]</td><td>[0.006208, 0.006208, … 0.006208]</td><td>[0.011785, 0.011785, … 0.011785]</td><td>[0.006482, 0.006482, … 0.006482]</td><td>[0.003792, 0.003792, … 0.003792]</td><td>[0.020215, 0.020215, … 0.020215]</td><td>[0, 0, … 0]</td><td>[0.0, 0.0, … 0.0]</td></tr><tr><td>&quot;7445235885559107095&quot;</td><td>[0.014312, 0.014312, … 0.014312]</td><td>[0.040404, 0.040404, … 0.040404]</td><td>[0.003759, 0.003759, … 0.003759]</td><td>[0.005962, 0.005962, … 0.005962]</td><td>[0.011631, 0.011631, … 0.011631]</td><td>[0.003665, 0.003665, … 0.003665]</td><td>[0, 0, … 1]</td><td>[0.0, 0.0, … 0.25]</td></tr><tr><td>&quot;0418173267353770376&quot;</td><td>[0.0]</td><td>[0.0]</td><td>[0.011785]</td><td>[0.01692]</td><td>[0.011631]</td><td>[0.020215]</td><td>[0]</td><td>[0.0]</td></tr><tr><td>&quot;3781974561839956163&quot;</td><td>[0.0, 0.0, … 0.0]</td><td>[0.006208, 0.006208, … 0.006208]</td><td>[0.011785, 0.011785, … 0.011785]</td><td>[0.005962, 0.005962, … 0.005962]</td><td>[0.011631, 0.011631, … 0.011631]</td><td>[0.003665, 0.003665, … 0.003665]</td><td>[0, 0, … 0]</td><td>[0.0, 0.0, … 0.0]</td></tr><tr><td>&hellip;</td><td>&hellip;</td><td>&hellip;</td><td>&hellip;</td><td>&hellip;</td><td>&hellip;</td><td>&hellip;</td><td>&hellip;</td><td>&hellip;</td></tr><tr><td>&quot;0560109743223224342&quot;</td><td>[0.0, 0.0, … 0.0]</td><td>[0.0, 0.0, … 0.0]</td><td>[0.011785, 0.011785, … 0.011785]</td><td>[0.006482, 0.006482, … 0.006482]</td><td>[0.003792, 0.003792, … 0.003792]</td><td>[0.020215, 0.020215, … 0.020215]</td><td>[0, 0, … 0]</td><td>[0.0, 0.0, … 0.0]</td></tr><tr><td>&quot;2307682084695168667&quot;</td><td>[0.0, 0.0, … 0.0]</td><td>[0.006208, 0.006208, … 0.006208]</td><td>[0.011785, 0.011785, … 0.011785]</td><td>[0.005962, 0.005962, … 0.005962]</td><td>[0.011631, 0.011631, … 0.011631]</td><td>[0.003665, 0.003665, … 0.003665]</td><td>[0, 0, … 0]</td><td>[0.0, 0.0, … 0.0]</td></tr><tr><td>&quot;5382147745779575950&quot;</td><td>[0.014312, 0.014312, … 0.014312]</td><td>[0.013889, 0.013889, … 0.013889]</td><td>[0.000797, 0.000797, … 0.000797]</td><td>[0.000566, 0.000566, … 0.000566]</td><td>[0.003792, 0.003792, … 0.003792]</td><td>[0.003665, 0.003665, … 0.003665]</td><td>[0, 0, … 0]</td><td>[0.0, 0.0, … 0.0]</td></tr><tr><td>&quot;0226924999574625231&quot;</td><td>[0.014312, 0.014312, … 0.014312]</td><td>[0.003949, 0.003949, … 0.003949]</td><td>[0.011785, 0.011785, … 0.011785]</td><td>[0.000566, 0.000566, … 0.000566]</td><td>[0.003792, 0.003792, … 0.003792]</td><td>[0.020215, 0.020215, … 0.020215]</td><td>[0, 0, … 0]</td><td>[0.0, 0.0, … 0.0]</td></tr><tr><td>&quot;4247006097582554528&quot;</td><td>[0.014312, 0.014312, … 0.014312]</td><td>[0.005396, 0.005396, … 0.005396]</td><td>[0.011785, 0.011785, … 0.011785]</td><td>[0.006482, 0.006482, … 0.006482]</td><td>[0.003792, 0.003792, … 0.003792]</td><td>[0.020215, 0.020215, … 0.020215]</td><td>[0, 0, … 0]</td><td>[0.0, 0.0, … 0.0]</td></tr></tbody></table></div>"
      ],
      "text/plain": [
       "shape: (1_641, 9)\n",
       "┌─────────────────────┬───────────────────────────┬──────────────────────────┬──────────────────────────┬───┬──────────────────────────┬──────────────────────────┬───────────────┬────────────────────┐\n",
       "│ fullVisitorId       ┆ country                   ┆ city                     ┆ browser                  ┆ … ┆ deviceCategory           ┆ source                   ┆ transactionId ┆ v2ProductCategory  │\n",
       "│ ---                 ┆ ---                       ┆ ---                      ┆ ---                      ┆   ┆ ---                      ┆ ---                      ┆ ---           ┆ ---                │\n",
       "│ str                 ┆ list[f64]                 ┆ list[f64]                ┆ list[f64]                ┆   ┆ list[f64]                ┆ list[f64]                ┆ list[i32]     ┆ list[f64]          │\n",
       "╞═════════════════════╪═══════════════════════════╪══════════════════════════╪══════════════════════════╪═══╪══════════════════════════╪══════════════════════════╪═══════════════╪════════════════════╡\n",
       "│ 856273082667959194  ┆ [0.014312, 0.014312, …    ┆ [0.014785, 0.014785, …   ┆ [0.011785, 0.011785, …   ┆ … ┆ [0.011631, 0.011631, …   ┆ [0.020215, 0.020215, …   ┆ [0, 0, … 0]   ┆ [0.0, 0.0, … 0.0]  │\n",
       "│                     ┆ 0.01431…                  ┆ 0.01478…                 ┆ 0.01178…                 ┆   ┆ 0.01163…                 ┆ 0.02021…                 ┆               ┆                    │\n",
       "│ 7051248816727707528 ┆ [0.014312, 0.014312, …    ┆ [0.006208, 0.006208, …   ┆ [0.011785, 0.011785, …   ┆ … ┆ [0.003792, 0.003792, …   ┆ [0.020215, 0.020215, …   ┆ [0, 0, … 0]   ┆ [0.0, 0.0, … 0.0]  │\n",
       "│                     ┆ 0.01431…                  ┆ 0.00620…                 ┆ 0.01178…                 ┆   ┆ 0.00379…                 ┆ 0.02021…                 ┆               ┆                    │\n",
       "│ 7445235885559107095 ┆ [0.014312, 0.014312, …    ┆ [0.040404, 0.040404, …   ┆ [0.003759, 0.003759, …   ┆ … ┆ [0.011631, 0.011631, …   ┆ [0.003665, 0.003665, …   ┆ [0, 0, … 1]   ┆ [0.0, 0.0, … 0.25] │\n",
       "│                     ┆ 0.01431…                  ┆ 0.04040…                 ┆ 0.00375…                 ┆   ┆ 0.01163…                 ┆ 0.00366…                 ┆               ┆                    │\n",
       "│ 0418173267353770376 ┆ [0.0]                     ┆ [0.0]                    ┆ [0.011785]               ┆ … ┆ [0.011631]               ┆ [0.020215]               ┆ [0]           ┆ [0.0]              │\n",
       "│ 3781974561839956163 ┆ [0.0, 0.0, … 0.0]         ┆ [0.006208, 0.006208, …   ┆ [0.011785, 0.011785, …   ┆ … ┆ [0.011631, 0.011631, …   ┆ [0.003665, 0.003665, …   ┆ [0, 0, … 0]   ┆ [0.0, 0.0, … 0.0]  │\n",
       "│                     ┆                           ┆ 0.00620…                 ┆ 0.01178…                 ┆   ┆ 0.01163…                 ┆ 0.00366…                 ┆               ┆                    │\n",
       "│ …                   ┆ …                         ┆ …                        ┆ …                        ┆ … ┆ …                        ┆ …                        ┆ …             ┆ …                  │\n",
       "│ 0560109743223224342 ┆ [0.0, 0.0, … 0.0]         ┆ [0.0, 0.0, … 0.0]        ┆ [0.011785, 0.011785, …   ┆ … ┆ [0.003792, 0.003792, …   ┆ [0.020215, 0.020215, …   ┆ [0, 0, … 0]   ┆ [0.0, 0.0, … 0.0]  │\n",
       "│                     ┆                           ┆                          ┆ 0.01178…                 ┆   ┆ 0.00379…                 ┆ 0.02021…                 ┆               ┆                    │\n",
       "│ 2307682084695168667 ┆ [0.0, 0.0, … 0.0]         ┆ [0.006208, 0.006208, …   ┆ [0.011785, 0.011785, …   ┆ … ┆ [0.011631, 0.011631, …   ┆ [0.003665, 0.003665, …   ┆ [0, 0, … 0]   ┆ [0.0, 0.0, … 0.0]  │\n",
       "│                     ┆                           ┆ 0.00620…                 ┆ 0.01178…                 ┆   ┆ 0.01163…                 ┆ 0.00366…                 ┆               ┆                    │\n",
       "│ 5382147745779575950 ┆ [0.014312, 0.014312, …    ┆ [0.013889, 0.013889, …   ┆ [0.000797, 0.000797, …   ┆ … ┆ [0.003792, 0.003792, …   ┆ [0.003665, 0.003665, …   ┆ [0, 0, … 0]   ┆ [0.0, 0.0, … 0.0]  │\n",
       "│                     ┆ 0.01431…                  ┆ 0.01388…                 ┆ 0.00079…                 ┆   ┆ 0.00379…                 ┆ 0.00366…                 ┆               ┆                    │\n",
       "│ 0226924999574625231 ┆ [0.014312, 0.014312, …    ┆ [0.003949, 0.003949, …   ┆ [0.011785, 0.011785, …   ┆ … ┆ [0.003792, 0.003792, …   ┆ [0.020215, 0.020215, …   ┆ [0, 0, … 0]   ┆ [0.0, 0.0, … 0.0]  │\n",
       "│                     ┆ 0.01431…                  ┆ 0.00394…                 ┆ 0.01178…                 ┆   ┆ 0.00379…                 ┆ 0.02021…                 ┆               ┆                    │\n",
       "│ 4247006097582554528 ┆ [0.014312, 0.014312, …    ┆ [0.005396, 0.005396, …   ┆ [0.011785, 0.011785, …   ┆ … ┆ [0.003792, 0.003792, …   ┆ [0.020215, 0.020215, …   ┆ [0, 0, … 0]   ┆ [0.0, 0.0, … 0.0]  │\n",
       "│                     ┆ 0.01431…                  ┆ 0.00539…                 ┆ 0.01178…                 ┆   ┆ 0.00379…                 ┆ 0.02021…                 ┆               ┆                    │\n",
       "└─────────────────────┴───────────────────────────┴──────────────────────────┴──────────────────────────┴───┴──────────────────────────┴──────────────────────────┴───────────────┴────────────────────┘"
      ]
     },
     "execution_count": 186,
     "metadata": {},
     "output_type": "execute_result"
    }
   ],
   "source": [
    "user_profiles = encoded_df.group_by(pl.col('fullVisitorId')).agg(\n",
    "    pl.col('country'), pl.col('city'), \n",
    "    pl.col('browser'),pl.col('operatingSystem'),pl.col('deviceCategory'),\n",
    "    pl.col('source'),pl.col('transactionId'),pl.col('v2ProductCategory')\n",
    ")\n",
    "user_profiles"
   ]
  },
  {
   "cell_type": "code",
   "execution_count": 239,
   "metadata": {},
   "outputs": [
    {
     "data": {
      "text/plain": [
       "0.21583333333333332"
      ]
     },
     "execution_count": 239,
     "metadata": {},
     "output_type": "execute_result"
    }
   ],
   "source": [
    "purchasing_visitors=encoded_df.filter(pl.col('transactionId') != 0).select(pl.col('fullVisitorId')).unique()\n",
    "all_recs = []\n",
    "for i in purchasing_visitors[\"fullVisitorId\"].to_list():\n",
    "    prec = recommendation_eval_pipeline(i, user_profiles, encoded_df, df)\n",
    "    all_recs.append(prec)\n",
    "np.mean(all_recs)"
   ]
  },
  {
   "cell_type": "code",
   "execution_count": 241,
   "metadata": {},
   "outputs": [
    {
     "data": {
      "text/html": [
       "<div><style>\n",
       ".dataframe > thead > tr,\n",
       ".dataframe > tbody > tr {\n",
       "  text-align: right;\n",
       "  white-space: pre-wrap;\n",
       "}\n",
       "</style>\n",
       "<small>shape: (60, 1)</small><table border=\"1\" class=\"dataframe\"><thead><tr><th>fullVisitorId</th></tr><tr><td>str</td></tr></thead><tbody><tr><td>&quot;8530723892127582602&quot;</td></tr><tr><td>&quot;4950411203281265700&quot;</td></tr><tr><td>&quot;7188768914363923661&quot;</td></tr><tr><td>&quot;527426783375720325&quot;</td></tr><tr><td>&quot;7463172420271311409&quot;</td></tr><tr><td>&hellip;</td></tr><tr><td>&quot;4952396078130707023&quot;</td></tr><tr><td>&quot;5687667730920600613&quot;</td></tr><tr><td>&quot;0280589015308186459&quot;</td></tr><tr><td>&quot;186231215995844689&quot;</td></tr><tr><td>&quot;2766162501835274072&quot;</td></tr></tbody></table></div>"
      ],
      "text/plain": [
       "shape: (60, 1)\n",
       "┌─────────────────────┐\n",
       "│ fullVisitorId       │\n",
       "│ ---                 │\n",
       "│ str                 │\n",
       "╞═════════════════════╡\n",
       "│ 8530723892127582602 │\n",
       "│ 4950411203281265700 │\n",
       "│ 7188768914363923661 │\n",
       "│ 527426783375720325  │\n",
       "│ 7463172420271311409 │\n",
       "│ …                   │\n",
       "│ 4952396078130707023 │\n",
       "│ 5687667730920600613 │\n",
       "│ 0280589015308186459 │\n",
       "│ 186231215995844689  │\n",
       "│ 2766162501835274072 │\n",
       "└─────────────────────┘"
      ]
     },
     "execution_count": 241,
     "metadata": {},
     "output_type": "execute_result"
    }
   ],
   "source": [
    "purchasing_visitors"
   ]
  },
  {
   "cell_type": "code",
   "execution_count": 242,
   "metadata": {},
   "outputs": [
    {
     "data": {
      "text/plain": [
       "0.25"
      ]
     },
     "execution_count": 242,
     "metadata": {},
     "output_type": "execute_result"
    }
   ],
   "source": [
    "recommendation_eval_pipeline(\"2766162501835274072\", user_profiles, encoded_df, df)"
   ]
  },
  {
   "cell_type": "code",
   "execution_count": null,
   "metadata": {},
   "outputs": [],
   "source": [
    "df.write_csv(\"../data/cleaned_google_analytics.csv\")"
   ]
  },
  {
   "cell_type": "markdown",
   "metadata": {},
   "source": [
    "### Data Pre-processing Pipeline"
   ]
  },
  {
   "cell_type": "code",
   "execution_count": null,
   "metadata": {},
   "outputs": [],
   "source": [
    "def preprocessing_pipeline(df: pl.DataFrame) -> pl.DataFrame:\n",
    "    \"\"\"\n",
    "    Args:\n",
    "        df : pl.DataFrame\n",
    "\n",
    "    Returns:\n",
    "        pl.DataFrames: pre-processed dataframe\n",
    "    \"\"\"\n",
    "\n",
    "    df = df.with_columns(pl.col('date').str.strptime(pl.Date, format=\"%Y%m%d\"))\n",
    "    encoded_df = encoding(df)\n",
    "    \n",
    "    user_profiles = encoded_df.group_by(pl.col('fullVisitorId')).agg(\n",
    "        pl.col('country'), pl.col('browser'),\n",
    "        pl.col('transactionId'), pl.col('v2ProductName')\n",
    "    )\n",
    "    user_profiles_no_id = user_profiles.drop('fullVisitorId')\n",
    "    user_profiles_no_id = user_profiles_no_id.to_numpy()\n",
    "    active_users = encoded_df.drop('fullVisitorId')\n",
    "    active_users = active_users.to_numpy()\n",
    "\n",
    "    similarities = calculate_similarity(user_profiles, user_profiles_no_id, active_users)\n",
    "    sorted_dict = sorted(similarities.items(), key=lambda x: x[1])\n",
    "\n",
    "    \n",
    "    df.write_csv(\"../data/cleaned_google_analytics.csv\")\n",
    "    return recommendation(df,sorted_dict) "
   ]
  },
  {
   "cell_type": "code",
   "execution_count": null,
   "metadata": {},
   "outputs": [],
   "source": [
    "# preprocessing_pipeline(df)"
   ]
  },
  {
   "cell_type": "markdown",
   "metadata": {},
   "source": [
    "# Conclusions \n",
    "- "
   ]
  }
 ],
 "metadata": {
  "kernelspec": {
   "display_name": "Python 3",
   "language": "python",
   "name": "python3"
  },
  "language_info": {
   "codemirror_mode": {
    "name": "ipython",
    "version": 3
   },
   "file_extension": ".py",
   "mimetype": "text/x-python",
   "name": "python",
   "nbconvert_exporter": "python",
   "pygments_lexer": "ipython3",
   "version": "3.12.1"
  }
 },
 "nbformat": 4,
 "nbformat_minor": 2
}
