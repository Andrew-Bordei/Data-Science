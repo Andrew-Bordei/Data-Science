{
 "cells": [
  {
   "cell_type": "markdown",
   "metadata": {},
   "source": [
    "# Dataset Cleaning "
   ]
  },
  {
   "cell_type": "markdown",
   "metadata": {},
   "source": [
    "The main objectives of this notebook are: \n",
    "- Import dataset \n",
    "- Get familiar with the data \n",
    "- Determine if there are data quality issues \n",
    "- Resolve any data quality issues "
   ]
  },
  {
   "cell_type": "code",
   "execution_count": 17,
   "metadata": {},
   "outputs": [],
   "source": [
    "import polars as pl \n",
    "import polars.selectors as cs "
   ]
  },
  {
   "cell_type": "code",
   "execution_count": 18,
   "metadata": {},
   "outputs": [
    {
     "data": {
      "text/plain": [
       "polars.config.Config"
      ]
     },
     "execution_count": 18,
     "metadata": {},
     "output_type": "execute_result"
    }
   ],
   "source": [
    "pl.Config.set_tbl_width_chars(200)"
   ]
  },
  {
   "cell_type": "code",
   "execution_count": 19,
   "metadata": {},
   "outputs": [],
   "source": [
    "df = pl.read_csv(\"../data/events.csv\")"
   ]
  },
  {
   "cell_type": "code",
   "execution_count": 20,
   "metadata": {},
   "outputs": [
    {
     "data": {
      "text/html": [
       "<div><style>\n",
       ".dataframe > thead > tr,\n",
       ".dataframe > tbody > tr {\n",
       "  text-align: right;\n",
       "  white-space: pre-wrap;\n",
       "}\n",
       "</style>\n",
       "<small>shape: (5, 5)</small><table border=\"1\" class=\"dataframe\"><thead><tr><th>timestamp</th><th>visitorid</th><th>event</th><th>itemid</th><th>transactionid</th></tr><tr><td>i64</td><td>i64</td><td>str</td><td>i64</td><td>str</td></tr></thead><tbody><tr><td>1433221332117</td><td>257597</td><td>&quot;view&quot;</td><td>355908</td><td>null</td></tr><tr><td>1433224214164</td><td>992329</td><td>&quot;view&quot;</td><td>248676</td><td>null</td></tr><tr><td>1433221999827</td><td>111016</td><td>&quot;view&quot;</td><td>318965</td><td>null</td></tr><tr><td>1433221955914</td><td>483717</td><td>&quot;view&quot;</td><td>253185</td><td>null</td></tr><tr><td>1433221337106</td><td>951259</td><td>&quot;view&quot;</td><td>367447</td><td>null</td></tr></tbody></table></div>"
      ],
      "text/plain": [
       "shape: (5, 5)\n",
       "┌───────────────┬───────────┬───────┬────────┬───────────────┐\n",
       "│ timestamp     ┆ visitorid ┆ event ┆ itemid ┆ transactionid │\n",
       "│ ---           ┆ ---       ┆ ---   ┆ ---    ┆ ---           │\n",
       "│ i64           ┆ i64       ┆ str   ┆ i64    ┆ str           │\n",
       "╞═══════════════╪═══════════╪═══════╪════════╪═══════════════╡\n",
       "│ 1433221332117 ┆ 257597    ┆ view  ┆ 355908 ┆ null          │\n",
       "│ 1433224214164 ┆ 992329    ┆ view  ┆ 248676 ┆ null          │\n",
       "│ 1433221999827 ┆ 111016    ┆ view  ┆ 318965 ┆ null          │\n",
       "│ 1433221955914 ┆ 483717    ┆ view  ┆ 253185 ┆ null          │\n",
       "│ 1433221337106 ┆ 951259    ┆ view  ┆ 367447 ┆ null          │\n",
       "└───────────────┴───────────┴───────┴────────┴───────────────┘"
      ]
     },
     "execution_count": 20,
     "metadata": {},
     "output_type": "execute_result"
    }
   ],
   "source": [
    "df.head()"
   ]
  },
  {
   "cell_type": "code",
   "execution_count": 21,
   "metadata": {},
   "outputs": [
    {
     "data": {
      "text/plain": [
       "(2756101, 5)"
      ]
     },
     "execution_count": 21,
     "metadata": {},
     "output_type": "execute_result"
    }
   ],
   "source": [
    "df.shape"
   ]
  },
  {
   "cell_type": "code",
   "execution_count": 22,
   "metadata": {},
   "outputs": [
    {
     "data": {
      "text/plain": [
       "<bound method DataFrame.sample of shape: (2_756_101, 5)\n",
       "┌───────────────┬───────────┬───────┬────────┬───────────────┐\n",
       "│ timestamp     ┆ visitorid ┆ event ┆ itemid ┆ transactionid │\n",
       "│ ---           ┆ ---       ┆ ---   ┆ ---    ┆ ---           │\n",
       "│ i64           ┆ i64       ┆ str   ┆ i64    ┆ str           │\n",
       "╞═══════════════╪═══════════╪═══════╪════════╪═══════════════╡\n",
       "│ 1433221332117 ┆ 257597    ┆ view  ┆ 355908 ┆ null          │\n",
       "│ 1433224214164 ┆ 992329    ┆ view  ┆ 248676 ┆ null          │\n",
       "│ 1433221999827 ┆ 111016    ┆ view  ┆ 318965 ┆ null          │\n",
       "│ 1433221955914 ┆ 483717    ┆ view  ┆ 253185 ┆ null          │\n",
       "│ 1433221337106 ┆ 951259    ┆ view  ┆ 367447 ┆ null          │\n",
       "│ …             ┆ …         ┆ …     ┆ …      ┆ …             │\n",
       "│ 1438398785939 ┆ 591435    ┆ view  ┆ 261427 ┆ null          │\n",
       "│ 1438399813142 ┆ 762376    ┆ view  ┆ 115946 ┆ null          │\n",
       "│ 1438397820527 ┆ 1251746   ┆ view  ┆ 78144  ┆ null          │\n",
       "│ 1438398530703 ┆ 1184451   ┆ view  ┆ 283392 ┆ null          │\n",
       "│ 1438400163914 ┆ 199536    ┆ view  ┆ 152913 ┆ null          │\n",
       "└───────────────┴───────────┴───────┴────────┴───────────────┘>"
      ]
     },
     "execution_count": 22,
     "metadata": {},
     "output_type": "execute_result"
    }
   ],
   "source": [
    "df.sample"
   ]
  },
  {
   "cell_type": "code",
   "execution_count": 23,
   "metadata": {},
   "outputs": [
    {
     "data": {
      "text/plain": [
       "['timestamp', 'visitorid', 'event', 'itemid', 'transactionid']"
      ]
     },
     "execution_count": 23,
     "metadata": {},
     "output_type": "execute_result"
    }
   ],
   "source": [
    "df.columns"
   ]
  },
  {
   "cell_type": "code",
   "execution_count": 25,
   "metadata": {},
   "outputs": [
    {
     "data": {
      "text/html": [
       "<div><style>\n",
       ".dataframe > thead > tr,\n",
       ".dataframe > tbody > tr {\n",
       "  text-align: right;\n",
       "  white-space: pre-wrap;\n",
       "}\n",
       "</style>\n",
       "<small>shape: (2_756_101, 2)</small><table border=\"1\" class=\"dataframe\"><thead><tr><th>event</th><th>itemid</th></tr><tr><td>str</td><td>i64</td></tr></thead><tbody><tr><td>&quot;view&quot;</td><td>355908</td></tr><tr><td>&quot;view&quot;</td><td>248676</td></tr><tr><td>&quot;view&quot;</td><td>318965</td></tr><tr><td>&quot;view&quot;</td><td>253185</td></tr><tr><td>&quot;view&quot;</td><td>367447</td></tr><tr><td>&hellip;</td><td>&hellip;</td></tr><tr><td>&quot;view&quot;</td><td>261427</td></tr><tr><td>&quot;view&quot;</td><td>115946</td></tr><tr><td>&quot;view&quot;</td><td>78144</td></tr><tr><td>&quot;view&quot;</td><td>283392</td></tr><tr><td>&quot;view&quot;</td><td>152913</td></tr></tbody></table></div>"
      ],
      "text/plain": [
       "shape: (2_756_101, 2)\n",
       "┌───────┬────────┐\n",
       "│ event ┆ itemid │\n",
       "│ ---   ┆ ---    │\n",
       "│ str   ┆ i64    │\n",
       "╞═══════╪════════╡\n",
       "│ view  ┆ 355908 │\n",
       "│ view  ┆ 248676 │\n",
       "│ view  ┆ 318965 │\n",
       "│ view  ┆ 253185 │\n",
       "│ view  ┆ 367447 │\n",
       "│ …     ┆ …      │\n",
       "│ view  ┆ 261427 │\n",
       "│ view  ┆ 115946 │\n",
       "│ view  ┆ 78144  │\n",
       "│ view  ┆ 283392 │\n",
       "│ view  ┆ 152913 │\n",
       "└───────┴────────┘"
      ]
     },
     "execution_count": 25,
     "metadata": {},
     "output_type": "execute_result"
    }
   ],
   "source": [
    "df.select(\n",
    "    pl.col('event'),\n",
    "    pl.col('itemid')\n",
    "    )"
   ]
  },
  {
   "cell_type": "code",
   "execution_count": 27,
   "metadata": {},
   "outputs": [
    {
     "data": {
      "text/html": [
       "<div><style>\n",
       ".dataframe > thead > tr,\n",
       ".dataframe > tbody > tr {\n",
       "  text-align: right;\n",
       "  white-space: pre-wrap;\n",
       "}\n",
       "</style>\n",
       "<small>shape: (22_457, 5)</small><table border=\"1\" class=\"dataframe\"><thead><tr><th>timestamp</th><th>visitorid</th><th>event</th><th>itemid</th><th>transactionid</th></tr><tr><td>i64</td><td>i64</td><td>str</td><td>i64</td><td>str</td></tr></thead><tbody><tr><td>1433222276276</td><td>599528</td><td>&quot;transaction&quot;</td><td>356475</td><td>&quot;4000&quot;</td></tr><tr><td>1433193500981</td><td>121688</td><td>&quot;transaction&quot;</td><td>15335</td><td>&quot;11117&quot;</td></tr><tr><td>1433193915008</td><td>552148</td><td>&quot;transaction&quot;</td><td>81345</td><td>&quot;5444&quot;</td></tr><tr><td>1433176736375</td><td>102019</td><td>&quot;transaction&quot;</td><td>150318</td><td>&quot;13556&quot;</td></tr><tr><td>1433174518180</td><td>189384</td><td>&quot;transaction&quot;</td><td>310791</td><td>&quot;7244&quot;</td></tr><tr><td>&hellip;</td><td>&hellip;</td><td>&hellip;</td><td>&hellip;</td><td>&hellip;</td></tr><tr><td>1438377176570</td><td>1050575</td><td>&quot;transaction&quot;</td><td>31640</td><td>&quot;8354&quot;</td></tr><tr><td>1438379878779</td><td>861299</td><td>&quot;transaction&quot;</td><td>456602</td><td>&quot;3643&quot;</td></tr><tr><td>1438357730123</td><td>855941</td><td>&quot;transaction&quot;</td><td>235771</td><td>&quot;4385&quot;</td></tr><tr><td>1438355560300</td><td>548772</td><td>&quot;transaction&quot;</td><td>29167</td><td>&quot;13872&quot;</td></tr><tr><td>1438358989163</td><td>1051054</td><td>&quot;transaction&quot;</td><td>312728</td><td>&quot;17579&quot;</td></tr></tbody></table></div>"
      ],
      "text/plain": [
       "shape: (22_457, 5)\n",
       "┌───────────────┬───────────┬─────────────┬────────┬───────────────┐\n",
       "│ timestamp     ┆ visitorid ┆ event       ┆ itemid ┆ transactionid │\n",
       "│ ---           ┆ ---       ┆ ---         ┆ ---    ┆ ---           │\n",
       "│ i64           ┆ i64       ┆ str         ┆ i64    ┆ str           │\n",
       "╞═══════════════╪═══════════╪═════════════╪════════╪═══════════════╡\n",
       "│ 1433222276276 ┆ 599528    ┆ transaction ┆ 356475 ┆ 4000          │\n",
       "│ 1433193500981 ┆ 121688    ┆ transaction ┆ 15335  ┆ 11117         │\n",
       "│ 1433193915008 ┆ 552148    ┆ transaction ┆ 81345  ┆ 5444          │\n",
       "│ 1433176736375 ┆ 102019    ┆ transaction ┆ 150318 ┆ 13556         │\n",
       "│ 1433174518180 ┆ 189384    ┆ transaction ┆ 310791 ┆ 7244          │\n",
       "│ …             ┆ …         ┆ …           ┆ …      ┆ …             │\n",
       "│ 1438377176570 ┆ 1050575   ┆ transaction ┆ 31640  ┆ 8354          │\n",
       "│ 1438379878779 ┆ 861299    ┆ transaction ┆ 456602 ┆ 3643          │\n",
       "│ 1438357730123 ┆ 855941    ┆ transaction ┆ 235771 ┆ 4385          │\n",
       "│ 1438355560300 ┆ 548772    ┆ transaction ┆ 29167  ┆ 13872         │\n",
       "│ 1438358989163 ┆ 1051054   ┆ transaction ┆ 312728 ┆ 17579         │\n",
       "└───────────────┴───────────┴─────────────┴────────┴───────────────┘"
      ]
     },
     "execution_count": 27,
     "metadata": {},
     "output_type": "execute_result"
    }
   ],
   "source": [
    "df.filter(pl.col('event') == 'transaction')"
   ]
  },
  {
   "cell_type": "code",
   "execution_count": 28,
   "metadata": {},
   "outputs": [
    {
     "data": {
      "text/html": [
       "<div><style>\n",
       ".dataframe > thead > tr,\n",
       ".dataframe > tbody > tr {\n",
       "  text-align: right;\n",
       "  white-space: pre-wrap;\n",
       "}\n",
       "</style>\n",
       "<small>shape: (1, 5)</small><table border=\"1\" class=\"dataframe\"><thead><tr><th>timestamp</th><th>visitorid</th><th>event</th><th>itemid</th><th>transactionid</th></tr><tr><td>u32</td><td>u32</td><td>u32</td><td>u32</td><td>u32</td></tr></thead><tbody><tr><td>0</td><td>0</td><td>0</td><td>0</td><td>2733644</td></tr></tbody></table></div>"
      ],
      "text/plain": [
       "shape: (1, 5)\n",
       "┌───────────┬───────────┬───────┬────────┬───────────────┐\n",
       "│ timestamp ┆ visitorid ┆ event ┆ itemid ┆ transactionid │\n",
       "│ ---       ┆ ---       ┆ ---   ┆ ---    ┆ ---           │\n",
       "│ u32       ┆ u32       ┆ u32   ┆ u32    ┆ u32           │\n",
       "╞═══════════╪═══════════╪═══════╪════════╪═══════════════╡\n",
       "│ 0         ┆ 0         ┆ 0     ┆ 0      ┆ 2733644       │\n",
       "└───────────┴───────────┴───────┴────────┴───────────────┘"
      ]
     },
     "execution_count": 28,
     "metadata": {},
     "output_type": "execute_result"
    }
   ],
   "source": [
    "df.select(pl.all().is_null().sum())"
   ]
  },
  {
   "cell_type": "code",
   "execution_count": null,
   "metadata": {},
   "outputs": [],
   "source": []
  }
 ],
 "metadata": {
  "kernelspec": {
   "display_name": "Python 3",
   "language": "python",
   "name": "python3"
  },
  "language_info": {
   "codemirror_mode": {
    "name": "ipython",
    "version": 3
   },
   "file_extension": ".py",
   "mimetype": "text/x-python",
   "name": "python",
   "nbconvert_exporter": "python",
   "pygments_lexer": "ipython3",
   "version": "3.12.1"
  }
 },
 "nbformat": 4,
 "nbformat_minor": 2
}
