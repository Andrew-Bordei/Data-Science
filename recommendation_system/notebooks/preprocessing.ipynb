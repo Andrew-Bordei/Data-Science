{
 "cells": [
  {
   "cell_type": "markdown",
   "metadata": {},
   "source": [
    "# Dataset Cleaning "
   ]
  },
  {
   "cell_type": "markdown",
   "metadata": {},
   "source": [
    "The main objectives of this notebook are: \n",
    "- Import dataset \n",
    "- Get familiar with the data \n",
    "- Determine if there are data quality issues \n",
    "- Resolve any data quality issues "
   ]
  },
  {
   "cell_type": "code",
   "execution_count": 2,
   "metadata": {},
   "outputs": [],
   "source": [
    "%load_ext autoreload\n",
    "%autoreload 2"
   ]
  },
  {
   "cell_type": "code",
   "execution_count": 3,
   "metadata": {},
   "outputs": [],
   "source": [
    "import polars as pl \n",
    "from google.cloud import bigquery\n",
    "import numpy as np \n",
    "import sys \n",
    "import os \n",
    "\n",
    "\n",
    "# Manually add path to read from another folder \n",
    "path2add = os.path.normpath(\n",
    "    os.path.abspath(os.path.join(os.path.dirname(\"__file__\"), os.path.pardir, \"utils\"))\n",
    ")\n",
    "if not (path2add in sys.path):\n",
    "    sys.path.append(path2add)\n",
    "\n",
    "from preprocessing import *"
   ]
  },
  {
   "cell_type": "code",
   "execution_count": 4,
   "metadata": {},
   "outputs": [
    {
     "data": {
      "text/plain": [
       "polars.config.Config"
      ]
     },
     "execution_count": 4,
     "metadata": {},
     "output_type": "execute_result"
    }
   ],
   "source": [
    "pl.Config.set_tbl_width_chars(200)"
   ]
  },
  {
   "cell_type": "code",
   "execution_count": 5,
   "metadata": {},
   "outputs": [],
   "source": [
    "# Create client object\n",
    "client = bigquery.Client()"
   ]
  },
  {
   "cell_type": "code",
   "execution_count": 6,
   "metadata": {},
   "outputs": [],
   "source": [
    "QUERY = (\"SELECT `date`, `visitStartTime`, `fullVisitorId`, `geoNetwork`.`subContinent`, `geoNetwork`.`country`,\"\n",
    "        \"`geoNetwork`.`city`,`device`.`browser`, `device`.`operatingSystem`,`device`.`deviceCategory`,\"\n",
    "        \"`trafficSource`.`source`, `h`.`item`.`transactionId`,`hp`.`v2ProductName`,`hp`.`v2ProductCategory` \"\n",
    "        \"FROM `bigquery-public-data.google_analytics_sample.ga_sessions_20170731`, UNNEST(hits) AS h,\"\n",
    "        \"UNNEST(h.product) AS hp;\")"
   ]
  },
  {
   "cell_type": "code",
   "execution_count": 7,
   "metadata": {},
   "outputs": [],
   "source": [
    "run_query = client.query(QUERY)"
   ]
  },
  {
   "cell_type": "code",
   "execution_count": 8,
   "metadata": {},
   "outputs": [],
   "source": [
    "df = pl.from_arrow(run_query.to_arrow())"
   ]
  },
  {
   "cell_type": "code",
   "execution_count": 9,
   "metadata": {},
   "outputs": [
    {
     "data": {
      "text/html": [
       "<div><style>\n",
       ".dataframe > thead > tr,\n",
       ".dataframe > tbody > tr {\n",
       "  text-align: right;\n",
       "  white-space: pre-wrap;\n",
       "}\n",
       "</style>\n",
       "<small>shape: (5, 13)</small><table border=\"1\" class=\"dataframe\"><thead><tr><th>date</th><th>visitStartTime</th><th>fullVisitorId</th><th>subContinent</th><th>country</th><th>city</th><th>browser</th><th>operatingSystem</th><th>deviceCategory</th><th>source</th><th>transactionId</th><th>v2ProductName</th><th>v2ProductCategory</th></tr><tr><td>str</td><td>i64</td><td>str</td><td>str</td><td>str</td><td>str</td><td>str</td><td>str</td><td>str</td><td>str</td><td>str</td><td>str</td><td>str</td></tr></thead><tbody><tr><td>&quot;20170731&quot;</td><td>1501520683</td><td>&quot;2219384770970157334&quot;</td><td>&quot;Eastern Europe&quot;</td><td>&quot;Slovakia&quot;</td><td>&quot;not available in demo dataset&quot;</td><td>&quot;Firefox&quot;</td><td>&quot;Windows&quot;</td><td>&quot;desktop&quot;</td><td>&quot;google&quot;</td><td>null</td><td>&quot;Google Lunch Bag&quot;</td><td>&quot;Home/Bags/More Bags/&quot;</td></tr><tr><td>&quot;20170731&quot;</td><td>1501520683</td><td>&quot;2219384770970157334&quot;</td><td>&quot;Eastern Europe&quot;</td><td>&quot;Slovakia&quot;</td><td>&quot;not available in demo dataset&quot;</td><td>&quot;Firefox&quot;</td><td>&quot;Windows&quot;</td><td>&quot;desktop&quot;</td><td>&quot;google&quot;</td><td>null</td><td>&quot;Electronics Accessory Pouch&quot;</td><td>&quot;Home/Bags/More Bags/&quot;</td></tr><tr><td>&quot;20170731&quot;</td><td>1501520683</td><td>&quot;2219384770970157334&quot;</td><td>&quot;Eastern Europe&quot;</td><td>&quot;Slovakia&quot;</td><td>&quot;not available in demo dataset&quot;</td><td>&quot;Firefox&quot;</td><td>&quot;Windows&quot;</td><td>&quot;desktop&quot;</td><td>&quot;google&quot;</td><td>null</td><td>&quot;Sport Bag&quot;</td><td>&quot;Home/Bags/More Bags/&quot;</td></tr><tr><td>&quot;20170731&quot;</td><td>1501520683</td><td>&quot;2219384770970157334&quot;</td><td>&quot;Eastern Europe&quot;</td><td>&quot;Slovakia&quot;</td><td>&quot;not available in demo dataset&quot;</td><td>&quot;Firefox&quot;</td><td>&quot;Windows&quot;</td><td>&quot;desktop&quot;</td><td>&quot;google&quot;</td><td>null</td><td>&quot;Google Slim Utility Travel Bag&quot;</td><td>&quot;Home/Bags/More Bags/&quot;</td></tr><tr><td>&quot;20170731&quot;</td><td>1501520683</td><td>&quot;2219384770970157334&quot;</td><td>&quot;Eastern Europe&quot;</td><td>&quot;Slovakia&quot;</td><td>&quot;not available in demo dataset&quot;</td><td>&quot;Firefox&quot;</td><td>&quot;Windows&quot;</td><td>&quot;desktop&quot;</td><td>&quot;google&quot;</td><td>null</td><td>&quot;Suitcase Organizer Cubes&quot;</td><td>&quot;Home/Bags/More Bags/&quot;</td></tr></tbody></table></div>"
      ],
      "text/plain": [
       "shape: (5, 13)\n",
       "┌──────────┬────────────────┬─────────────────────┬────────────────┬───┬────────┬───────────────┬────────────────────────────────┬──────────────────────┐\n",
       "│ date     ┆ visitStartTime ┆ fullVisitorId       ┆ subContinent   ┆ … ┆ source ┆ transactionId ┆ v2ProductName                  ┆ v2ProductCategory    │\n",
       "│ ---      ┆ ---            ┆ ---                 ┆ ---            ┆   ┆ ---    ┆ ---           ┆ ---                            ┆ ---                  │\n",
       "│ str      ┆ i64            ┆ str                 ┆ str            ┆   ┆ str    ┆ str           ┆ str                            ┆ str                  │\n",
       "╞══════════╪════════════════╪═════════════════════╪════════════════╪═══╪════════╪═══════════════╪════════════════════════════════╪══════════════════════╡\n",
       "│ 20170731 ┆ 1501520683     ┆ 2219384770970157334 ┆ Eastern Europe ┆ … ┆ google ┆ null          ┆ Google Lunch Bag               ┆ Home/Bags/More Bags/ │\n",
       "│ 20170731 ┆ 1501520683     ┆ 2219384770970157334 ┆ Eastern Europe ┆ … ┆ google ┆ null          ┆ Electronics Accessory Pouch    ┆ Home/Bags/More Bags/ │\n",
       "│ 20170731 ┆ 1501520683     ┆ 2219384770970157334 ┆ Eastern Europe ┆ … ┆ google ┆ null          ┆ Sport Bag                      ┆ Home/Bags/More Bags/ │\n",
       "│ 20170731 ┆ 1501520683     ┆ 2219384770970157334 ┆ Eastern Europe ┆ … ┆ google ┆ null          ┆ Google Slim Utility Travel Bag ┆ Home/Bags/More Bags/ │\n",
       "│ 20170731 ┆ 1501520683     ┆ 2219384770970157334 ┆ Eastern Europe ┆ … ┆ google ┆ null          ┆ Suitcase Organizer Cubes       ┆ Home/Bags/More Bags/ │\n",
       "└──────────┴────────────────┴─────────────────────┴────────────────┴───┴────────┴───────────────┴────────────────────────────────┴──────────────────────┘"
      ]
     },
     "execution_count": 9,
     "metadata": {},
     "output_type": "execute_result"
    }
   ],
   "source": [
    "df.head()"
   ]
  },
  {
   "cell_type": "code",
   "execution_count": 10,
   "metadata": {},
   "outputs": [
    {
     "data": {
      "text/plain": [
       "(49512, 13)"
      ]
     },
     "execution_count": 10,
     "metadata": {},
     "output_type": "execute_result"
    }
   ],
   "source": [
    "df.shape"
   ]
  },
  {
   "cell_type": "code",
   "execution_count": 11,
   "metadata": {},
   "outputs": [
    {
     "data": {
      "text/plain": [
       "['date',\n",
       " 'visitStartTime',\n",
       " 'fullVisitorId',\n",
       " 'subContinent',\n",
       " 'country',\n",
       " 'city',\n",
       " 'browser',\n",
       " 'operatingSystem',\n",
       " 'deviceCategory',\n",
       " 'source',\n",
       " 'transactionId',\n",
       " 'v2ProductName',\n",
       " 'v2ProductCategory']"
      ]
     },
     "execution_count": 11,
     "metadata": {},
     "output_type": "execute_result"
    }
   ],
   "source": [
    "df.columns"
   ]
  },
  {
   "cell_type": "code",
   "execution_count": 12,
   "metadata": {},
   "outputs": [
    {
     "data": {
      "text/html": [
       "<div><style>\n",
       ".dataframe > thead > tr,\n",
       ".dataframe > tbody > tr {\n",
       "  text-align: right;\n",
       "  white-space: pre-wrap;\n",
       "}\n",
       "</style>\n",
       "<small>shape: (1, 13)</small><table border=\"1\" class=\"dataframe\"><thead><tr><th>date</th><th>visitStartTime</th><th>fullVisitorId</th><th>subContinent</th><th>country</th><th>city</th><th>browser</th><th>operatingSystem</th><th>deviceCategory</th><th>source</th><th>transactionId</th><th>v2ProductName</th><th>v2ProductCategory</th></tr><tr><td>str</td><td>i64</td><td>str</td><td>str</td><td>str</td><td>str</td><td>str</td><td>str</td><td>str</td><td>str</td><td>str</td><td>str</td><td>str</td></tr></thead><tbody><tr><td>&quot;20170731&quot;</td><td>1501528632</td><td>&quot;526271526505583481&quot;</td><td>&quot;Northern Europe&quot;</td><td>&quot;United Kingdom&quot;</td><td>&quot;London&quot;</td><td>&quot;Chrome&quot;</td><td>&quot;Windows&quot;</td><td>&quot;desktop&quot;</td><td>&quot;google&quot;</td><td>null</td><td>&quot;YouTube Men&#x27;s Vintage Henley&quot;</td><td>&quot;Home/Shop by Brand/YouTube/&quot;</td></tr></tbody></table></div>"
      ],
      "text/plain": [
       "shape: (1, 13)\n",
       "┌──────────┬────────────────┬────────────────────┬─────────────────┬───┬────────┬───────────────┬──────────────────────────────┬─────────────────────────────┐\n",
       "│ date     ┆ visitStartTime ┆ fullVisitorId      ┆ subContinent    ┆ … ┆ source ┆ transactionId ┆ v2ProductName                ┆ v2ProductCategory           │\n",
       "│ ---      ┆ ---            ┆ ---                ┆ ---             ┆   ┆ ---    ┆ ---           ┆ ---                          ┆ ---                         │\n",
       "│ str      ┆ i64            ┆ str                ┆ str             ┆   ┆ str    ┆ str           ┆ str                          ┆ str                         │\n",
       "╞══════════╪════════════════╪════════════════════╪═════════════════╪═══╪════════╪═══════════════╪══════════════════════════════╪═════════════════════════════╡\n",
       "│ 20170731 ┆ 1501528632     ┆ 526271526505583481 ┆ Northern Europe ┆ … ┆ google ┆ null          ┆ YouTube Men's Vintage Henley ┆ Home/Shop by Brand/YouTube/ │\n",
       "└──────────┴────────────────┴────────────────────┴─────────────────┴───┴────────┴───────────────┴──────────────────────────────┴─────────────────────────────┘"
      ]
     },
     "execution_count": 12,
     "metadata": {},
     "output_type": "execute_result"
    }
   ],
   "source": [
    "df.sample()"
   ]
  },
  {
   "cell_type": "code",
   "execution_count": 13,
   "metadata": {},
   "outputs": [
    {
     "data": {
      "text/html": [
       "<div><style>\n",
       ".dataframe > thead > tr,\n",
       ".dataframe > tbody > tr {\n",
       "  text-align: right;\n",
       "  white-space: pre-wrap;\n",
       "}\n",
       "</style>\n",
       "<small>shape: (9, 14)</small><table border=\"1\" class=\"dataframe\"><thead><tr><th>statistic</th><th>date</th><th>visitStartTime</th><th>fullVisitorId</th><th>subContinent</th><th>country</th><th>city</th><th>browser</th><th>operatingSystem</th><th>deviceCategory</th><th>source</th><th>transactionId</th><th>v2ProductName</th><th>v2ProductCategory</th></tr><tr><td>str</td><td>str</td><td>f64</td><td>str</td><td>str</td><td>str</td><td>str</td><td>str</td><td>str</td><td>str</td><td>str</td><td>str</td><td>str</td><td>str</td></tr></thead><tbody><tr><td>&quot;count&quot;</td><td>&quot;49512&quot;</td><td>49512.0</td><td>&quot;49512&quot;</td><td>&quot;49512&quot;</td><td>&quot;49512&quot;</td><td>&quot;49512&quot;</td><td>&quot;49512&quot;</td><td>&quot;49512&quot;</td><td>&quot;49512&quot;</td><td>&quot;49512&quot;</td><td>&quot;462&quot;</td><td>&quot;49512&quot;</td><td>&quot;49512&quot;</td></tr><tr><td>&quot;null_count&quot;</td><td>&quot;0&quot;</td><td>0.0</td><td>&quot;0&quot;</td><td>&quot;0&quot;</td><td>&quot;0&quot;</td><td>&quot;0&quot;</td><td>&quot;0&quot;</td><td>&quot;0&quot;</td><td>&quot;0&quot;</td><td>&quot;0&quot;</td><td>&quot;49050&quot;</td><td>&quot;0&quot;</td><td>&quot;0&quot;</td></tr><tr><td>&quot;mean&quot;</td><td>null</td><td>1.5015e9</td><td>null</td><td>null</td><td>null</td><td>null</td><td>null</td><td>null</td><td>null</td><td>null</td><td>null</td><td>null</td><td>null</td></tr><tr><td>&quot;std&quot;</td><td>null</td><td>21502.167394</td><td>null</td><td>null</td><td>null</td><td>null</td><td>null</td><td>null</td><td>null</td><td>null</td><td>null</td><td>null</td><td>null</td></tr><tr><td>&quot;min&quot;</td><td>&quot;20170731&quot;</td><td>1.5015e9</td><td>&quot;0002457163364254438&quot;</td><td>&quot;Australasia&quot;</td><td>&quot;Algeria&quot;</td><td>&quot;(not set)&quot;</td><td>&quot;Amazon Silk&quot;</td><td>&quot;(not set)&quot;</td><td>&quot;desktop&quot;</td><td>&quot;(direct)&quot;</td><td>&quot;ORD201707311786&quot;</td><td>&quot;1 oz Hand Sanitizer&quot;</td><td>&quot;${escCatTitle}&quot;</td></tr><tr><td>&quot;25%&quot;</td><td>null</td><td>1.5015e9</td><td>null</td><td>null</td><td>null</td><td>null</td><td>null</td><td>null</td><td>null</td><td>null</td><td>null</td><td>null</td><td>null</td></tr><tr><td>&quot;50%&quot;</td><td>null</td><td>1.5015e9</td><td>null</td><td>null</td><td>null</td><td>null</td><td>null</td><td>null</td><td>null</td><td>null</td><td>null</td><td>null</td><td>null</td></tr><tr><td>&quot;75%&quot;</td><td>null</td><td>1.5015e9</td><td>null</td><td>null</td><td>null</td><td>null</td><td>null</td><td>null</td><td>null</td><td>null</td><td>null</td><td>null</td><td>null</td></tr><tr><td>&quot;max&quot;</td><td>&quot;20170731&quot;</td><td>1.5016e9</td><td>&quot;9997362993085245352&quot;</td><td>&quot;Western Europe&quot;</td><td>&quot;Vietnam&quot;</td><td>&quot;not available in demo dataset&quot;</td><td>&quot;YaBrowser&quot;</td><td>&quot;iOS&quot;</td><td>&quot;tablet&quot;</td><td>&quot;youtube.com&quot;</td><td>&quot;ORD201707312663&quot;</td><td>&quot;YouTube Youth Short Sleeve Tee…</td><td>&quot;Wearables/Men&#x27;s T-Shirts/&quot;</td></tr></tbody></table></div>"
      ],
      "text/plain": [
       "shape: (9, 14)\n",
       "┌────────────┬──────────┬────────────────┬─────────────────────┬───┬─────────────┬─────────────────┬─────────────────────────────────┬───────────────────────────┐\n",
       "│ statistic  ┆ date     ┆ visitStartTime ┆ fullVisitorId       ┆ … ┆ source      ┆ transactionId   ┆ v2ProductName                   ┆ v2ProductCategory         │\n",
       "│ ---        ┆ ---      ┆ ---            ┆ ---                 ┆   ┆ ---         ┆ ---             ┆ ---                             ┆ ---                       │\n",
       "│ str        ┆ str      ┆ f64            ┆ str                 ┆   ┆ str         ┆ str             ┆ str                             ┆ str                       │\n",
       "╞════════════╪══════════╪════════════════╪═════════════════════╪═══╪═════════════╪═════════════════╪═════════════════════════════════╪═══════════════════════════╡\n",
       "│ count      ┆ 49512    ┆ 49512.0        ┆ 49512               ┆ … ┆ 49512       ┆ 462             ┆ 49512                           ┆ 49512                     │\n",
       "│ null_count ┆ 0        ┆ 0.0            ┆ 0                   ┆ … ┆ 0           ┆ 49050           ┆ 0                               ┆ 0                         │\n",
       "│ mean       ┆ null     ┆ 1.5015e9       ┆ null                ┆ … ┆ null        ┆ null            ┆ null                            ┆ null                      │\n",
       "│ std        ┆ null     ┆ 21502.167394   ┆ null                ┆ … ┆ null        ┆ null            ┆ null                            ┆ null                      │\n",
       "│ min        ┆ 20170731 ┆ 1.5015e9       ┆ 0002457163364254438 ┆ … ┆ (direct)    ┆ ORD201707311786 ┆ 1 oz Hand Sanitizer             ┆ ${escCatTitle}            │\n",
       "│ 25%        ┆ null     ┆ 1.5015e9       ┆ null                ┆ … ┆ null        ┆ null            ┆ null                            ┆ null                      │\n",
       "│ 50%        ┆ null     ┆ 1.5015e9       ┆ null                ┆ … ┆ null        ┆ null            ┆ null                            ┆ null                      │\n",
       "│ 75%        ┆ null     ┆ 1.5015e9       ┆ null                ┆ … ┆ null        ┆ null            ┆ null                            ┆ null                      │\n",
       "│ max        ┆ 20170731 ┆ 1.5016e9       ┆ 9997362993085245352 ┆ … ┆ youtube.com ┆ ORD201707312663 ┆ YouTube Youth Short Sleeve Tee… ┆ Wearables/Men's T-Shirts/ │\n",
       "└────────────┴──────────┴────────────────┴─────────────────────┴───┴─────────────┴─────────────────┴─────────────────────────────────┴───────────────────────────┘"
      ]
     },
     "execution_count": 13,
     "metadata": {},
     "output_type": "execute_result"
    }
   ],
   "source": [
    "df.describe()"
   ]
  },
  {
   "cell_type": "code",
   "execution_count": 14,
   "metadata": {},
   "outputs": [
    {
     "data": {
      "text/html": [
       "<div><style>\n",
       ".dataframe > thead > tr,\n",
       ".dataframe > tbody > tr {\n",
       "  text-align: right;\n",
       "  white-space: pre-wrap;\n",
       "}\n",
       "</style>\n",
       "<small>shape: (1, 13)</small><table border=\"1\" class=\"dataframe\"><thead><tr><th>date</th><th>visitStartTime</th><th>fullVisitorId</th><th>subContinent</th><th>country</th><th>city</th><th>browser</th><th>operatingSystem</th><th>deviceCategory</th><th>source</th><th>transactionId</th><th>v2ProductName</th><th>v2ProductCategory</th></tr><tr><td>u32</td><td>u32</td><td>u32</td><td>u32</td><td>u32</td><td>u32</td><td>u32</td><td>u32</td><td>u32</td><td>u32</td><td>u32</td><td>u32</td><td>u32</td></tr></thead><tbody><tr><td>0</td><td>0</td><td>0</td><td>0</td><td>0</td><td>0</td><td>0</td><td>0</td><td>0</td><td>0</td><td>49050</td><td>0</td><td>0</td></tr></tbody></table></div>"
      ],
      "text/plain": [
       "shape: (1, 13)\n",
       "┌──────┬────────────────┬───────────────┬──────────────┬───┬────────┬───────────────┬───────────────┬───────────────────┐\n",
       "│ date ┆ visitStartTime ┆ fullVisitorId ┆ subContinent ┆ … ┆ source ┆ transactionId ┆ v2ProductName ┆ v2ProductCategory │\n",
       "│ ---  ┆ ---            ┆ ---           ┆ ---          ┆   ┆ ---    ┆ ---           ┆ ---           ┆ ---               │\n",
       "│ u32  ┆ u32            ┆ u32           ┆ u32          ┆   ┆ u32    ┆ u32           ┆ u32           ┆ u32               │\n",
       "╞══════╪════════════════╪═══════════════╪══════════════╪═══╪════════╪═══════════════╪═══════════════╪═══════════════════╡\n",
       "│ 0    ┆ 0              ┆ 0             ┆ 0            ┆ … ┆ 0      ┆ 49050         ┆ 0             ┆ 0                 │\n",
       "└──────┴────────────────┴───────────────┴──────────────┴───┴────────┴───────────────┴───────────────┴───────────────────┘"
      ]
     },
     "execution_count": 14,
     "metadata": {},
     "output_type": "execute_result"
    }
   ],
   "source": [
    "df.select(pl.all().is_null().sum())"
   ]
  },
  {
   "cell_type": "code",
   "execution_count": 15,
   "metadata": {},
   "outputs": [
    {
     "data": {
      "text/html": [
       "<div><style>\n",
       ".dataframe > thead > tr,\n",
       ".dataframe > tbody > tr {\n",
       "  text-align: right;\n",
       "  white-space: pre-wrap;\n",
       "}\n",
       "</style>\n",
       "<small>shape: (462, 13)</small><table border=\"1\" class=\"dataframe\"><thead><tr><th>date</th><th>visitStartTime</th><th>fullVisitorId</th><th>subContinent</th><th>country</th><th>city</th><th>browser</th><th>operatingSystem</th><th>deviceCategory</th><th>source</th><th>transactionId</th><th>v2ProductName</th><th>v2ProductCategory</th></tr><tr><td>str</td><td>i64</td><td>str</td><td>str</td><td>str</td><td>str</td><td>str</td><td>str</td><td>str</td><td>str</td><td>str</td><td>str</td><td>str</td></tr></thead><tbody><tr><td>&quot;20170731&quot;</td><td>1501525374</td><td>&quot;186231215995844689&quot;</td><td>&quot;Northern America&quot;</td><td>&quot;United States&quot;</td><td>&quot;Mountain View&quot;</td><td>&quot;Chrome&quot;</td><td>&quot;Macintosh&quot;</td><td>&quot;desktop&quot;</td><td>&quot;(direct)&quot;</td><td>&quot;ORD201707311786&quot;</td><td>&quot;Google Men&#x27;s Bike Short Sleeve…</td><td>&quot;Apparel&quot;</td></tr><tr><td>&quot;20170731&quot;</td><td>1501525374</td><td>&quot;186231215995844689&quot;</td><td>&quot;Northern America&quot;</td><td>&quot;United States&quot;</td><td>&quot;Mountain View&quot;</td><td>&quot;Chrome&quot;</td><td>&quot;Macintosh&quot;</td><td>&quot;desktop&quot;</td><td>&quot;(direct)&quot;</td><td>&quot;ORD201707311786&quot;</td><td>&quot;Google Men&#x27;s Bike Short Sleeve…</td><td>&quot;Apparel&quot;</td></tr><tr><td>&quot;20170731&quot;</td><td>1501549028</td><td>&quot;0345672699449577691&quot;</td><td>&quot;Northern America&quot;</td><td>&quot;United States&quot;</td><td>&quot;Kirkland&quot;</td><td>&quot;Chrome&quot;</td><td>&quot;Chrome OS&quot;</td><td>&quot;desktop&quot;</td><td>&quot;(direct)&quot;</td><td>&quot;ORD201707312107&quot;</td><td>&quot;Google Blackout Cap&quot;</td><td>&quot;Headgear&quot;</td></tr><tr><td>&quot;20170731&quot;</td><td>1501549028</td><td>&quot;0345672699449577691&quot;</td><td>&quot;Northern America&quot;</td><td>&quot;United States&quot;</td><td>&quot;Kirkland&quot;</td><td>&quot;Chrome&quot;</td><td>&quot;Chrome OS&quot;</td><td>&quot;desktop&quot;</td><td>&quot;(direct)&quot;</td><td>&quot;ORD201707312107&quot;</td><td>&quot;Google Women&#x27;s Vintage Hero Te…</td><td>&quot;Apparel&quot;</td></tr><tr><td>&quot;20170731&quot;</td><td>1501549028</td><td>&quot;0345672699449577691&quot;</td><td>&quot;Northern America&quot;</td><td>&quot;United States&quot;</td><td>&quot;Kirkland&quot;</td><td>&quot;Chrome&quot;</td><td>&quot;Chrome OS&quot;</td><td>&quot;desktop&quot;</td><td>&quot;(direct)&quot;</td><td>&quot;ORD201707312107&quot;</td><td>&quot;Google Men&#x27;s Long &amp; Lean Tee C…</td><td>&quot;Apparel&quot;</td></tr><tr><td>&hellip;</td><td>&hellip;</td><td>&hellip;</td><td>&hellip;</td><td>&hellip;</td><td>&hellip;</td><td>&hellip;</td><td>&hellip;</td><td>&hellip;</td><td>&hellip;</td><td>&hellip;</td><td>&hellip;</td><td>&hellip;</td></tr><tr><td>&quot;20170731&quot;</td><td>1501537217</td><td>&quot;7483600664917507409&quot;</td><td>&quot;Northern America&quot;</td><td>&quot;United States&quot;</td><td>&quot;Mountain View&quot;</td><td>&quot;Chrome&quot;</td><td>&quot;Macintosh&quot;</td><td>&quot;desktop&quot;</td><td>&quot;(direct)&quot;</td><td>&quot;ORD201707312663&quot;</td><td>&quot;Google 25 oz Red Stainless Ste…</td><td>&quot;Drinkware&quot;</td></tr><tr><td>&quot;20170731&quot;</td><td>1501537217</td><td>&quot;7483600664917507409&quot;</td><td>&quot;Northern America&quot;</td><td>&quot;United States&quot;</td><td>&quot;Mountain View&quot;</td><td>&quot;Chrome&quot;</td><td>&quot;Macintosh&quot;</td><td>&quot;desktop&quot;</td><td>&quot;(direct)&quot;</td><td>&quot;ORD201707312663&quot;</td><td>&quot;Android 17oz Stainless Steel S…</td><td>&quot;Drinkware&quot;</td></tr><tr><td>&quot;20170731&quot;</td><td>1501537217</td><td>&quot;7483600664917507409&quot;</td><td>&quot;Northern America&quot;</td><td>&quot;United States&quot;</td><td>&quot;Mountain View&quot;</td><td>&quot;Chrome&quot;</td><td>&quot;Macintosh&quot;</td><td>&quot;desktop&quot;</td><td>&quot;(direct)&quot;</td><td>&quot;ORD201707312663&quot;</td><td>&quot;Android Men&#x27;s Short Sleeve Her…</td><td>&quot;Apparel&quot;</td></tr><tr><td>&quot;20170731&quot;</td><td>1501537217</td><td>&quot;7483600664917507409&quot;</td><td>&quot;Northern America&quot;</td><td>&quot;United States&quot;</td><td>&quot;Mountain View&quot;</td><td>&quot;Chrome&quot;</td><td>&quot;Macintosh&quot;</td><td>&quot;desktop&quot;</td><td>&quot;(direct)&quot;</td><td>&quot;ORD201707312663&quot;</td><td>&quot;Android Men&#x27;s Take Charge Shor…</td><td>&quot;Apparel&quot;</td></tr><tr><td>&quot;20170731&quot;</td><td>1501537217</td><td>&quot;7483600664917507409&quot;</td><td>&quot;Northern America&quot;</td><td>&quot;United States&quot;</td><td>&quot;Mountain View&quot;</td><td>&quot;Chrome&quot;</td><td>&quot;Macintosh&quot;</td><td>&quot;desktop&quot;</td><td>&quot;(direct)&quot;</td><td>&quot;ORD201707312663&quot;</td><td>&quot;Google Women&#x27;s Scoop Neck Tee …</td><td>&quot;Apparel&quot;</td></tr></tbody></table></div>"
      ],
      "text/plain": [
       "shape: (462, 13)\n",
       "┌──────────┬────────────────┬─────────────────────┬──────────────────┬───┬──────────┬─────────────────┬─────────────────────────────────┬───────────────────┐\n",
       "│ date     ┆ visitStartTime ┆ fullVisitorId       ┆ subContinent     ┆ … ┆ source   ┆ transactionId   ┆ v2ProductName                   ┆ v2ProductCategory │\n",
       "│ ---      ┆ ---            ┆ ---                 ┆ ---              ┆   ┆ ---      ┆ ---             ┆ ---                             ┆ ---               │\n",
       "│ str      ┆ i64            ┆ str                 ┆ str              ┆   ┆ str      ┆ str             ┆ str                             ┆ str               │\n",
       "╞══════════╪════════════════╪═════════════════════╪══════════════════╪═══╪══════════╪═════════════════╪═════════════════════════════════╪═══════════════════╡\n",
       "│ 20170731 ┆ 1501525374     ┆ 186231215995844689  ┆ Northern America ┆ … ┆ (direct) ┆ ORD201707311786 ┆ Google Men's Bike Short Sleeve… ┆ Apparel           │\n",
       "│ 20170731 ┆ 1501525374     ┆ 186231215995844689  ┆ Northern America ┆ … ┆ (direct) ┆ ORD201707311786 ┆ Google Men's Bike Short Sleeve… ┆ Apparel           │\n",
       "│ 20170731 ┆ 1501549028     ┆ 0345672699449577691 ┆ Northern America ┆ … ┆ (direct) ┆ ORD201707312107 ┆ Google Blackout Cap             ┆ Headgear          │\n",
       "│ 20170731 ┆ 1501549028     ┆ 0345672699449577691 ┆ Northern America ┆ … ┆ (direct) ┆ ORD201707312107 ┆ Google Women's Vintage Hero Te… ┆ Apparel           │\n",
       "│ 20170731 ┆ 1501549028     ┆ 0345672699449577691 ┆ Northern America ┆ … ┆ (direct) ┆ ORD201707312107 ┆ Google Men's Long & Lean Tee C… ┆ Apparel           │\n",
       "│ …        ┆ …              ┆ …                   ┆ …                ┆ … ┆ …        ┆ …               ┆ …                               ┆ …                 │\n",
       "│ 20170731 ┆ 1501537217     ┆ 7483600664917507409 ┆ Northern America ┆ … ┆ (direct) ┆ ORD201707312663 ┆ Google 25 oz Red Stainless Ste… ┆ Drinkware         │\n",
       "│ 20170731 ┆ 1501537217     ┆ 7483600664917507409 ┆ Northern America ┆ … ┆ (direct) ┆ ORD201707312663 ┆ Android 17oz Stainless Steel S… ┆ Drinkware         │\n",
       "│ 20170731 ┆ 1501537217     ┆ 7483600664917507409 ┆ Northern America ┆ … ┆ (direct) ┆ ORD201707312663 ┆ Android Men's Short Sleeve Her… ┆ Apparel           │\n",
       "│ 20170731 ┆ 1501537217     ┆ 7483600664917507409 ┆ Northern America ┆ … ┆ (direct) ┆ ORD201707312663 ┆ Android Men's Take Charge Shor… ┆ Apparel           │\n",
       "│ 20170731 ┆ 1501537217     ┆ 7483600664917507409 ┆ Northern America ┆ … ┆ (direct) ┆ ORD201707312663 ┆ Google Women's Scoop Neck Tee … ┆ Apparel           │\n",
       "└──────────┴────────────────┴─────────────────────┴──────────────────┴───┴──────────┴─────────────────┴─────────────────────────────────┴───────────────────┘"
      ]
     },
     "execution_count": 15,
     "metadata": {},
     "output_type": "execute_result"
    }
   ],
   "source": [
    "df.filter(pl.col('transactionId') != 'null')"
   ]
  },
  {
   "cell_type": "code",
   "execution_count": 16,
   "metadata": {},
   "outputs": [
    {
     "data": {
      "text/html": [
       "<div><style>\n",
       ".dataframe > thead > tr,\n",
       ".dataframe > tbody > tr {\n",
       "  text-align: right;\n",
       "  white-space: pre-wrap;\n",
       "}\n",
       "</style>\n",
       "<small>shape: (5, 13)</small><table border=\"1\" class=\"dataframe\"><thead><tr><th>date</th><th>visitStartTime</th><th>fullVisitorId</th><th>subContinent</th><th>country</th><th>city</th><th>browser</th><th>operatingSystem</th><th>deviceCategory</th><th>source</th><th>transactionId</th><th>v2ProductName</th><th>v2ProductCategory</th></tr><tr><td>date</td><td>i64</td><td>str</td><td>str</td><td>str</td><td>str</td><td>str</td><td>str</td><td>str</td><td>str</td><td>str</td><td>str</td><td>str</td></tr></thead><tbody><tr><td>2017-07-31</td><td>1501520683</td><td>&quot;2219384770970157334&quot;</td><td>&quot;Eastern Europe&quot;</td><td>&quot;Slovakia&quot;</td><td>&quot;not available in demo dataset&quot;</td><td>&quot;Firefox&quot;</td><td>&quot;Windows&quot;</td><td>&quot;desktop&quot;</td><td>&quot;google&quot;</td><td>null</td><td>&quot;Google Lunch Bag&quot;</td><td>&quot;Home/Bags/More Bags/&quot;</td></tr><tr><td>2017-07-31</td><td>1501520683</td><td>&quot;2219384770970157334&quot;</td><td>&quot;Eastern Europe&quot;</td><td>&quot;Slovakia&quot;</td><td>&quot;not available in demo dataset&quot;</td><td>&quot;Firefox&quot;</td><td>&quot;Windows&quot;</td><td>&quot;desktop&quot;</td><td>&quot;google&quot;</td><td>null</td><td>&quot;Electronics Accessory Pouch&quot;</td><td>&quot;Home/Bags/More Bags/&quot;</td></tr><tr><td>2017-07-31</td><td>1501520683</td><td>&quot;2219384770970157334&quot;</td><td>&quot;Eastern Europe&quot;</td><td>&quot;Slovakia&quot;</td><td>&quot;not available in demo dataset&quot;</td><td>&quot;Firefox&quot;</td><td>&quot;Windows&quot;</td><td>&quot;desktop&quot;</td><td>&quot;google&quot;</td><td>null</td><td>&quot;Sport Bag&quot;</td><td>&quot;Home/Bags/More Bags/&quot;</td></tr><tr><td>2017-07-31</td><td>1501520683</td><td>&quot;2219384770970157334&quot;</td><td>&quot;Eastern Europe&quot;</td><td>&quot;Slovakia&quot;</td><td>&quot;not available in demo dataset&quot;</td><td>&quot;Firefox&quot;</td><td>&quot;Windows&quot;</td><td>&quot;desktop&quot;</td><td>&quot;google&quot;</td><td>null</td><td>&quot;Google Slim Utility Travel Bag&quot;</td><td>&quot;Home/Bags/More Bags/&quot;</td></tr><tr><td>2017-07-31</td><td>1501520683</td><td>&quot;2219384770970157334&quot;</td><td>&quot;Eastern Europe&quot;</td><td>&quot;Slovakia&quot;</td><td>&quot;not available in demo dataset&quot;</td><td>&quot;Firefox&quot;</td><td>&quot;Windows&quot;</td><td>&quot;desktop&quot;</td><td>&quot;google&quot;</td><td>null</td><td>&quot;Suitcase Organizer Cubes&quot;</td><td>&quot;Home/Bags/More Bags/&quot;</td></tr></tbody></table></div>"
      ],
      "text/plain": [
       "shape: (5, 13)\n",
       "┌────────────┬────────────────┬─────────────────────┬────────────────┬───┬────────┬───────────────┬────────────────────────────────┬──────────────────────┐\n",
       "│ date       ┆ visitStartTime ┆ fullVisitorId       ┆ subContinent   ┆ … ┆ source ┆ transactionId ┆ v2ProductName                  ┆ v2ProductCategory    │\n",
       "│ ---        ┆ ---            ┆ ---                 ┆ ---            ┆   ┆ ---    ┆ ---           ┆ ---                            ┆ ---                  │\n",
       "│ date       ┆ i64            ┆ str                 ┆ str            ┆   ┆ str    ┆ str           ┆ str                            ┆ str                  │\n",
       "╞════════════╪════════════════╪═════════════════════╪════════════════╪═══╪════════╪═══════════════╪════════════════════════════════╪══════════════════════╡\n",
       "│ 2017-07-31 ┆ 1501520683     ┆ 2219384770970157334 ┆ Eastern Europe ┆ … ┆ google ┆ null          ┆ Google Lunch Bag               ┆ Home/Bags/More Bags/ │\n",
       "│ 2017-07-31 ┆ 1501520683     ┆ 2219384770970157334 ┆ Eastern Europe ┆ … ┆ google ┆ null          ┆ Electronics Accessory Pouch    ┆ Home/Bags/More Bags/ │\n",
       "│ 2017-07-31 ┆ 1501520683     ┆ 2219384770970157334 ┆ Eastern Europe ┆ … ┆ google ┆ null          ┆ Sport Bag                      ┆ Home/Bags/More Bags/ │\n",
       "│ 2017-07-31 ┆ 1501520683     ┆ 2219384770970157334 ┆ Eastern Europe ┆ … ┆ google ┆ null          ┆ Google Slim Utility Travel Bag ┆ Home/Bags/More Bags/ │\n",
       "│ 2017-07-31 ┆ 1501520683     ┆ 2219384770970157334 ┆ Eastern Europe ┆ … ┆ google ┆ null          ┆ Suitcase Organizer Cubes       ┆ Home/Bags/More Bags/ │\n",
       "└────────────┴────────────────┴─────────────────────┴────────────────┴───┴────────┴───────────────┴────────────────────────────────┴──────────────────────┘"
      ]
     },
     "execution_count": 16,
     "metadata": {},
     "output_type": "execute_result"
    }
   ],
   "source": [
    "df_cleaned = df.with_columns(pl.col('date').str.strptime(pl.Date, format=\"%Y%m%d\"))\n",
    "df_cleaned.head()"
   ]
  },
  {
   "cell_type": "code",
   "execution_count": 17,
   "metadata": {},
   "outputs": [],
   "source": [
    "df = df.filter(~pl.col('v2ProductCategory').str.contains('origCatName'))"
   ]
  },
  {
   "cell_type": "code",
   "execution_count": 18,
   "metadata": {},
   "outputs": [],
   "source": [
    "df.write_csv('../data/data.csv')"
   ]
  },
  {
   "cell_type": "markdown",
   "metadata": {},
   "source": [
    "# Encoding the df"
   ]
  },
  {
   "cell_type": "code",
   "execution_count": 19,
   "metadata": {},
   "outputs": [],
   "source": [
    "entire_data = pl.read_csv(\"../data/google_analytics_data.csv\",ignore_errors=True)"
   ]
  },
  {
   "cell_type": "code",
   "execution_count": 20,
   "metadata": {},
   "outputs": [
    {
     "data": {
      "text/html": [
       "<div><style>\n",
       ".dataframe > thead > tr,\n",
       ".dataframe > tbody > tr {\n",
       "  text-align: right;\n",
       "  white-space: pre-wrap;\n",
       "}\n",
       "</style>\n",
       "<small>shape: (366, 2)</small><table border=\"1\" class=\"dataframe\"><thead><tr><th>date</th><th>fullVisitorId</th></tr><tr><td>i64</td><td>u32</td></tr></thead><tbody><tr><td>20160801</td><td>837</td></tr><tr><td>20160802</td><td>921</td></tr><tr><td>20160803</td><td>1084</td></tr><tr><td>20160804</td><td>1252</td></tr><tr><td>20160805</td><td>1049</td></tr><tr><td>&hellip;</td><td>&hellip;</td></tr><tr><td>20170728</td><td>1425</td></tr><tr><td>20170729</td><td>1032</td></tr><tr><td>20170730</td><td>1174</td></tr><tr><td>20170731</td><td>1534</td></tr><tr><td>20170801</td><td>1438</td></tr></tbody></table></div>"
      ],
      "text/plain": [
       "shape: (366, 2)\n",
       "┌──────────┬───────────────┐\n",
       "│ date     ┆ fullVisitorId │\n",
       "│ ---      ┆ ---           │\n",
       "│ i64      ┆ u32           │\n",
       "╞══════════╪═══════════════╡\n",
       "│ 20160801 ┆ 837           │\n",
       "│ 20160802 ┆ 921           │\n",
       "│ 20160803 ┆ 1084          │\n",
       "│ 20160804 ┆ 1252          │\n",
       "│ 20160805 ┆ 1049          │\n",
       "│ …        ┆ …             │\n",
       "│ 20170728 ┆ 1425          │\n",
       "│ 20170729 ┆ 1032          │\n",
       "│ 20170730 ┆ 1174          │\n",
       "│ 20170731 ┆ 1534          │\n",
       "│ 20170801 ┆ 1438          │\n",
       "└──────────┴───────────────┘"
      ]
     },
     "execution_count": 20,
     "metadata": {},
     "output_type": "execute_result"
    }
   ],
   "source": [
    "daily_visitors=entire_data.group_by(pl.col('date')).agg(pl.col('fullVisitorId').unique().count()).sort(\"date\")\n",
    "daily_visitors"
   ]
  },
  {
   "cell_type": "code",
   "execution_count": 21,
   "metadata": {},
   "outputs": [
    {
     "data": {
      "text/html": [
       "<div><style>\n",
       ".dataframe > thead > tr,\n",
       ".dataframe > tbody > tr {\n",
       "  text-align: right;\n",
       "  white-space: pre-wrap;\n",
       "}\n",
       "</style>\n",
       "<small>shape: (366, 2)</small><table border=\"1\" class=\"dataframe\"><thead><tr><th>date</th><th>transactionId</th></tr><tr><td>i64</td><td>u32</td></tr></thead><tbody><tr><td>20160801</td><td>226</td></tr><tr><td>20160802</td><td>124</td></tr><tr><td>20160803</td><td>0</td></tr><tr><td>20160804</td><td>78</td></tr><tr><td>20160805</td><td>376</td></tr><tr><td>&hellip;</td><td>&hellip;</td></tr><tr><td>20170728</td><td>330</td></tr><tr><td>20170729</td><td>150</td></tr><tr><td>20170730</td><td>194</td></tr><tr><td>20170731</td><td>462</td></tr><tr><td>20170801</td><td>396</td></tr></tbody></table></div>"
      ],
      "text/plain": [
       "shape: (366, 2)\n",
       "┌──────────┬───────────────┐\n",
       "│ date     ┆ transactionId │\n",
       "│ ---      ┆ ---           │\n",
       "│ i64      ┆ u32           │\n",
       "╞══════════╪═══════════════╡\n",
       "│ 20160801 ┆ 226           │\n",
       "│ 20160802 ┆ 124           │\n",
       "│ 20160803 ┆ 0             │\n",
       "│ 20160804 ┆ 78            │\n",
       "│ 20160805 ┆ 376           │\n",
       "│ …        ┆ …             │\n",
       "│ 20170728 ┆ 330           │\n",
       "│ 20170729 ┆ 150           │\n",
       "│ 20170730 ┆ 194           │\n",
       "│ 20170731 ┆ 462           │\n",
       "│ 20170801 ┆ 396           │\n",
       "└──────────┴───────────────┘"
      ]
     },
     "execution_count": 21,
     "metadata": {},
     "output_type": "execute_result"
    }
   ],
   "source": [
    "daily_purchases=entire_data.group_by(pl.col('date')).agg((pl.col(\"transactionId\") != \"null\").count()).sort(\"date\")\n",
    "daily_purchases"
   ]
  },
  {
   "cell_type": "code",
   "execution_count": 22,
   "metadata": {},
   "outputs": [
    {
     "data": {
      "text/html": [
       "<div><style>\n",
       ".dataframe > thead > tr,\n",
       ".dataframe > tbody > tr {\n",
       "  text-align: right;\n",
       "  white-space: pre-wrap;\n",
       "}\n",
       "</style>\n",
       "<small>shape: (18_608_748, 9)</small><table border=\"1\" class=\"dataframe\"><thead><tr><th>fullVisitorId</th><th>country</th><th>city</th><th>browser</th><th>operatingSystem</th><th>deviceCategory</th><th>source</th><th>transactionId</th><th>v2ProductCategory</th></tr><tr><td>i64</td><td>f64</td><td>f64</td><td>f64</td><td>f64</td><td>f64</td><td>f64</td><td>i32</td><td>f64</td></tr></thead><tbody><tr><td>741694360311983889</td><td>0.00003</td><td>0.003105</td><td>0.004717</td><td>0.002803</td><td>0.005017</td><td>0.00231</td><td>0</td><td>0.0</td></tr><tr><td>751716124732042493</td><td>0.005934</td><td>0.01018</td><td>0.001468</td><td>0.00104</td><td>0.001015</td><td>0.00231</td><td>0</td><td>0.0</td></tr><tr><td>3875753008535006311</td><td>0.005934</td><td>0.003105</td><td>0.000491</td><td>0.00104</td><td>0.001015</td><td>0.000824</td><td>0</td><td>0.0</td></tr><tr><td>null</td><td>0.00003</td><td>0.000514</td><td>0.004717</td><td>0.006595</td><td>0.005017</td><td>0.00231</td><td>0</td><td>0.0</td></tr><tr><td>1321377067218362907</td><td>0.005934</td><td>0.003105</td><td>0.004717</td><td>0.001074</td><td>0.001015</td><td>0.00231</td><td>0</td><td>0.0</td></tr><tr><td>&hellip;</td><td>&hellip;</td><td>&hellip;</td><td>&hellip;</td><td>&hellip;</td><td>&hellip;</td><td>&hellip;</td><td>&hellip;</td><td>&hellip;</td></tr><tr><td>4499955707548721756</td><td>0.005934</td><td>0.011592</td><td>0.004717</td><td>0.00104</td><td>0.001015</td><td>0.00231</td><td>0</td><td>0.0</td></tr><tr><td>7699714430086919615</td><td>0.005934</td><td>0.004581</td><td>0.001468</td><td>0.00104</td><td>0.001015</td><td>0.00231</td><td>0</td><td>0.0</td></tr><tr><td>606143131872088967</td><td>0.000144</td><td>0.0</td><td>0.004717</td><td>0.001074</td><td>0.001015</td><td>0.005561</td><td>0</td><td>0.0</td></tr><tr><td>1935665364061088509</td><td>0.000121</td><td>0.0</td><td>0.004717</td><td>0.006595</td><td>0.005017</td><td>0.00231</td><td>0</td><td>0.0</td></tr><tr><td>7699714430086919615</td><td>0.005934</td><td>0.004581</td><td>0.001468</td><td>0.00104</td><td>0.001015</td><td>0.00231</td><td>0</td><td>0.0</td></tr></tbody></table></div>"
      ],
      "text/plain": [
       "shape: (18_608_748, 9)\n",
       "┌─────────────────────┬──────────┬──────────┬──────────┬───┬────────────────┬──────────┬───────────────┬───────────────────┐\n",
       "│ fullVisitorId       ┆ country  ┆ city     ┆ browser  ┆ … ┆ deviceCategory ┆ source   ┆ transactionId ┆ v2ProductCategory │\n",
       "│ ---                 ┆ ---      ┆ ---      ┆ ---      ┆   ┆ ---            ┆ ---      ┆ ---           ┆ ---               │\n",
       "│ i64                 ┆ f64      ┆ f64      ┆ f64      ┆   ┆ f64            ┆ f64      ┆ i32           ┆ f64               │\n",
       "╞═════════════════════╪══════════╪══════════╪══════════╪═══╪════════════════╪══════════╪═══════════════╪═══════════════════╡\n",
       "│ 741694360311983889  ┆ 0.00003  ┆ 0.003105 ┆ 0.004717 ┆ … ┆ 0.005017       ┆ 0.00231  ┆ 0             ┆ 0.0               │\n",
       "│ 751716124732042493  ┆ 0.005934 ┆ 0.01018  ┆ 0.001468 ┆ … ┆ 0.001015       ┆ 0.00231  ┆ 0             ┆ 0.0               │\n",
       "│ 3875753008535006311 ┆ 0.005934 ┆ 0.003105 ┆ 0.000491 ┆ … ┆ 0.001015       ┆ 0.000824 ┆ 0             ┆ 0.0               │\n",
       "│ null                ┆ 0.00003  ┆ 0.000514 ┆ 0.004717 ┆ … ┆ 0.005017       ┆ 0.00231  ┆ 0             ┆ 0.0               │\n",
       "│ 1321377067218362907 ┆ 0.005934 ┆ 0.003105 ┆ 0.004717 ┆ … ┆ 0.001015       ┆ 0.00231  ┆ 0             ┆ 0.0               │\n",
       "│ …                   ┆ …        ┆ …        ┆ …        ┆ … ┆ …              ┆ …        ┆ …             ┆ …                 │\n",
       "│ 4499955707548721756 ┆ 0.005934 ┆ 0.011592 ┆ 0.004717 ┆ … ┆ 0.001015       ┆ 0.00231  ┆ 0             ┆ 0.0               │\n",
       "│ 7699714430086919615 ┆ 0.005934 ┆ 0.004581 ┆ 0.001468 ┆ … ┆ 0.001015       ┆ 0.00231  ┆ 0             ┆ 0.0               │\n",
       "│ 606143131872088967  ┆ 0.000144 ┆ 0.0      ┆ 0.004717 ┆ … ┆ 0.001015       ┆ 0.005561 ┆ 0             ┆ 0.0               │\n",
       "│ 1935665364061088509 ┆ 0.000121 ┆ 0.0      ┆ 0.004717 ┆ … ┆ 0.005017       ┆ 0.00231  ┆ 0             ┆ 0.0               │\n",
       "│ 7699714430086919615 ┆ 0.005934 ┆ 0.004581 ┆ 0.001468 ┆ … ┆ 0.001015       ┆ 0.00231  ┆ 0             ┆ 0.0               │\n",
       "└─────────────────────┴──────────┴──────────┴──────────┴───┴────────────────┴──────────┴───────────────┴───────────────────┘"
      ]
     },
     "execution_count": 22,
     "metadata": {},
     "output_type": "execute_result"
    }
   ],
   "source": [
    "encoded_df = target_encoding(entire_data)\n",
    "encoded_df.write_csv('../data/encoded_df.csv')\n",
    "encoded_df"
   ]
  },
  {
   "cell_type": "code",
   "execution_count": 23,
   "metadata": {},
   "outputs": [],
   "source": [
    "# encoded_df = label_encoding(df)\n",
    "# encoded_df"
   ]
  },
  {
   "cell_type": "code",
   "execution_count": 24,
   "metadata": {},
   "outputs": [
    {
     "data": {
      "text/html": [
       "<div><style>\n",
       ".dataframe > thead > tr,\n",
       ".dataframe > tbody > tr {\n",
       "  text-align: right;\n",
       "  white-space: pre-wrap;\n",
       "}\n",
       "</style>\n",
       "<small>shape: (334_653, 9)</small><table border=\"1\" class=\"dataframe\"><thead><tr><th>fullVisitorId</th><th>country</th><th>city</th><th>browser</th><th>operatingSystem</th><th>deviceCategory</th><th>source</th><th>transactionId</th><th>v2ProductCategory</th></tr><tr><td>i64</td><td>list[f64]</td><td>list[f64]</td><td>list[f64]</td><td>list[f64]</td><td>list[f64]</td><td>list[f64]</td><td>list[i32]</td><td>list[f64]</td></tr></thead><tbody><tr><td>7513999583179206180</td><td>[0.000139, 0.000139, … 0.000139]</td><td>[0.000143, 0.000143, … 0.000143]</td><td>[0.004717, 0.004717, … 0.004717]</td><td>[0.008721, 0.008721, … 0.008721]</td><td>[0.005017, 0.005017, … 0.005017]</td><td>[0.005561, 0.005561, … 0.005561]</td><td>[0, 0, … 0]</td><td>[0.0, 0.0, … 0.0]</td></tr><tr><td>58179579207013070</td><td>[0.001917, 0.001917, … 0.001917]</td><td>[0.003105, 0.003105, … 0.003105]</td><td>[0.004717, 0.004717, … 0.004717]</td><td>[0.002803, 0.002803, … 0.002803]</td><td>[0.005017, 0.005017, … 0.005017]</td><td>[0.00231, 0.00231, … 0.00231]</td><td>[0, 0, … 0]</td><td>[0.0, 0.0, … 0.0]</td></tr><tr><td>8906589127135298127</td><td>[0.005934, 0.005934, … 0.005934]</td><td>[0.003105, 0.003105, … 0.003105]</td><td>[0.001468, 0.001468, … 0.001468]</td><td>[0.00104, 0.00104, … 0.00104]</td><td>[0.001015, 0.001015, … 0.001015]</td><td>[0.005561, 0.005561, … 0.00231]</td><td>[0, 0, … 0]</td><td>[0.0, 0.0, … 0.0]</td></tr><tr><td>5880261448096819927</td><td>[0.005934, 0.005934, … 0.005934]</td><td>[0.003105, 0.003105, … 0.003105]</td><td>[0.004717, 0.004717, … 0.004717]</td><td>[0.002803, 0.002803, … 0.002803]</td><td>[0.005017, 0.005017, … 0.005017]</td><td>[0.005561, 0.005561, … 0.005561]</td><td>[0, 0, … 0]</td><td>[0.0, 0.0, … 0.0]</td></tr><tr><td>3582635577865598343</td><td>[0.000331, 0.000331, … 0.000331]</td><td>[0.003105, 0.003105, … 0.003105]</td><td>[0.004717, 0.004717, … 0.004717]</td><td>[0.002803, 0.002803, … 0.002803]</td><td>[0.005017, 0.005017, … 0.005017]</td><td>[0.00231, 0.00231, … 0.00231]</td><td>[0, 0, … 0]</td><td>[0.016398, 0.016398, … 0.016398]</td></tr><tr><td>&hellip;</td><td>&hellip;</td><td>&hellip;</td><td>&hellip;</td><td>&hellip;</td><td>&hellip;</td><td>&hellip;</td><td>&hellip;</td><td>&hellip;</td></tr><tr><td>8635504048844388696</td><td>[0.000128, 0.000128, … 0.000128]</td><td>[0.003105, 0.003105, … 0.003105]</td><td>[0.001468, 0.001468, … 0.001468]</td><td>[0.00104, 0.00104, … 0.00104]</td><td>[0.001015, 0.001015, … 0.001015]</td><td>[0.005561, 0.005561, … 0.005561]</td><td>[0, 0, … 0]</td><td>[0.0, 0.0, … 0.0]</td></tr><tr><td>6359330005069703105</td><td>[0.005934, 0.005934, … 0.005934]</td><td>[0.004581, 0.004581, … 0.004581]</td><td>[0.004717, 0.004717, … 0.004717]</td><td>[0.004433, 0.004433, … 0.004433]</td><td>[0.005017, 0.005017, … 0.005017]</td><td>[0.005561, 0.005561, … 0.005561]</td><td>[0, 1, … 0]</td><td>[0.237429, 0.242536, … 0.23826]</td></tr><tr><td>2768671868007492883</td><td>[0.000349, 0.000349, … 0.000349]</td><td>[0.003401, 0.003401, … 0.003401]</td><td>[0.004717, 0.004717, … 0.004717]</td><td>[0.002803, 0.002803, … 0.002803]</td><td>[0.005017, 0.005017, … 0.005017]</td><td>[0.005561, 0.005561, … 0.005561]</td><td>[0, 0, … 0]</td><td>[0.0, 0.0, … 0.0]</td></tr><tr><td>535780506994537509</td><td>[0.000312, 0.000312, … 0.000312]</td><td>[0.003105, 0.003105, … 0.003105]</td><td>[0.002017, 0.002017, … 0.002017]</td><td>[0.006595, 0.006595, … 0.006595]</td><td>[0.005017, 0.005017, … 0.005017]</td><td>[0.005561, 0.005561, … 0.005561]</td><td>[0, 0, … 0]</td><td>[0.0, 0.0, … 0.0]</td></tr><tr><td>1111634188537101513</td><td>[0.0, 0.0, … 0.0]</td><td>[0.003105, 0.003105, … 0.003105]</td><td>[0.004717, 0.004717, … 0.004717]</td><td>[0.006595, 0.006595, … 0.006595]</td><td>[0.005017, 0.005017, … 0.005017]</td><td>[0.00231, 0.00231, … 0.00231]</td><td>[0, 0, … 0]</td><td>[0.0, 0.0, … 0.0]</td></tr></tbody></table></div>"
      ],
      "text/plain": [
       "shape: (334_653, 9)\n",
       "┌─────────────────────┬──────────────────────────┬─────────────────────────┬─────────────────────────┬───┬─────────────────────────┬─────────────────────────┬───────────────┬─────────────────────────┐\n",
       "│ fullVisitorId       ┆ country                  ┆ city                    ┆ browser                 ┆ … ┆ deviceCategory          ┆ source                  ┆ transactionId ┆ v2ProductCategory       │\n",
       "│ ---                 ┆ ---                      ┆ ---                     ┆ ---                     ┆   ┆ ---                     ┆ ---                     ┆ ---           ┆ ---                     │\n",
       "│ i64                 ┆ list[f64]                ┆ list[f64]               ┆ list[f64]               ┆   ┆ list[f64]               ┆ list[f64]               ┆ list[i32]     ┆ list[f64]               │\n",
       "╞═════════════════════╪══════════════════════════╪═════════════════════════╪═════════════════════════╪═══╪═════════════════════════╪═════════════════════════╪═══════════════╪═════════════════════════╡\n",
       "│ 7513999583179206180 ┆ [0.000139, 0.000139, …   ┆ [0.000143, 0.000143, …  ┆ [0.004717, 0.004717, …  ┆ … ┆ [0.005017, 0.005017, …  ┆ [0.005561, 0.005561, …  ┆ [0, 0, … 0]   ┆ [0.0, 0.0, … 0.0]       │\n",
       "│                     ┆ 0.00013…                 ┆ 0.00014…                ┆ 0.00471…                ┆   ┆ 0.00501…                ┆ 0.00556…                ┆               ┆                         │\n",
       "│ 58179579207013070   ┆ [0.001917, 0.001917, …   ┆ [0.003105, 0.003105, …  ┆ [0.004717, 0.004717, …  ┆ … ┆ [0.005017, 0.005017, …  ┆ [0.00231, 0.00231, …    ┆ [0, 0, … 0]   ┆ [0.0, 0.0, … 0.0]       │\n",
       "│                     ┆ 0.00191…                 ┆ 0.00310…                ┆ 0.00471…                ┆   ┆ 0.00501…                ┆ 0.00231]                ┆               ┆                         │\n",
       "│ 8906589127135298127 ┆ [0.005934, 0.005934, …   ┆ [0.003105, 0.003105, …  ┆ [0.001468, 0.001468, …  ┆ … ┆ [0.001015, 0.001015, …  ┆ [0.005561, 0.005561, …  ┆ [0, 0, … 0]   ┆ [0.0, 0.0, … 0.0]       │\n",
       "│                     ┆ 0.00593…                 ┆ 0.00310…                ┆ 0.00146…                ┆   ┆ 0.00101…                ┆ 0.00231…                ┆               ┆                         │\n",
       "│ 5880261448096819927 ┆ [0.005934, 0.005934, …   ┆ [0.003105, 0.003105, …  ┆ [0.004717, 0.004717, …  ┆ … ┆ [0.005017, 0.005017, …  ┆ [0.005561, 0.005561, …  ┆ [0, 0, … 0]   ┆ [0.0, 0.0, … 0.0]       │\n",
       "│                     ┆ 0.00593…                 ┆ 0.00310…                ┆ 0.00471…                ┆   ┆ 0.00501…                ┆ 0.00556…                ┆               ┆                         │\n",
       "│ 3582635577865598343 ┆ [0.000331, 0.000331, …   ┆ [0.003105, 0.003105, …  ┆ [0.004717, 0.004717, …  ┆ … ┆ [0.005017, 0.005017, …  ┆ [0.00231, 0.00231, …    ┆ [0, 0, … 0]   ┆ [0.016398, 0.016398, …  │\n",
       "│                     ┆ 0.00033…                 ┆ 0.00310…                ┆ 0.00471…                ┆   ┆ 0.00501…                ┆ 0.00231]                ┆               ┆ 0.01639…                │\n",
       "│ …                   ┆ …                        ┆ …                       ┆ …                       ┆ … ┆ …                       ┆ …                       ┆ …             ┆ …                       │\n",
       "│ 8635504048844388696 ┆ [0.000128, 0.000128, …   ┆ [0.003105, 0.003105, …  ┆ [0.001468, 0.001468, …  ┆ … ┆ [0.001015, 0.001015, …  ┆ [0.005561, 0.005561, …  ┆ [0, 0, … 0]   ┆ [0.0, 0.0, … 0.0]       │\n",
       "│                     ┆ 0.00012…                 ┆ 0.00310…                ┆ 0.00146…                ┆   ┆ 0.00101…                ┆ 0.00556…                ┆               ┆                         │\n",
       "│ 6359330005069703105 ┆ [0.005934, 0.005934, …   ┆ [0.004581, 0.004581, …  ┆ [0.004717, 0.004717, …  ┆ … ┆ [0.005017, 0.005017, …  ┆ [0.005561, 0.005561, …  ┆ [0, 1, … 0]   ┆ [0.237429, 0.242536, …  │\n",
       "│                     ┆ 0.00593…                 ┆ 0.00458…                ┆ 0.00471…                ┆   ┆ 0.00501…                ┆ 0.00556…                ┆               ┆ 0.23826…                │\n",
       "│ 2768671868007492883 ┆ [0.000349, 0.000349, …   ┆ [0.003401, 0.003401, …  ┆ [0.004717, 0.004717, …  ┆ … ┆ [0.005017, 0.005017, …  ┆ [0.005561, 0.005561, …  ┆ [0, 0, … 0]   ┆ [0.0, 0.0, … 0.0]       │\n",
       "│                     ┆ 0.00034…                 ┆ 0.00340…                ┆ 0.00471…                ┆   ┆ 0.00501…                ┆ 0.00556…                ┆               ┆                         │\n",
       "│ 535780506994537509  ┆ [0.000312, 0.000312, …   ┆ [0.003105, 0.003105, …  ┆ [0.002017, 0.002017, …  ┆ … ┆ [0.005017, 0.005017, …  ┆ [0.005561, 0.005561, …  ┆ [0, 0, … 0]   ┆ [0.0, 0.0, … 0.0]       │\n",
       "│                     ┆ 0.00031…                 ┆ 0.00310…                ┆ 0.00201…                ┆   ┆ 0.00501…                ┆ 0.00556…                ┆               ┆                         │\n",
       "│ 1111634188537101513 ┆ [0.0, 0.0, … 0.0]        ┆ [0.003105, 0.003105, …  ┆ [0.004717, 0.004717, …  ┆ … ┆ [0.005017, 0.005017, …  ┆ [0.00231, 0.00231, …    ┆ [0, 0, … 0]   ┆ [0.0, 0.0, … 0.0]       │\n",
       "│                     ┆                          ┆ 0.00310…                ┆ 0.00471…                ┆   ┆ 0.00501…                ┆ 0.00231]                ┆               ┆                         │\n",
       "└─────────────────────┴──────────────────────────┴─────────────────────────┴─────────────────────────┴───┴─────────────────────────┴─────────────────────────┴───────────────┴─────────────────────────┘"
      ]
     },
     "execution_count": 24,
     "metadata": {},
     "output_type": "execute_result"
    }
   ],
   "source": [
    "user_profiles = encoded_df.group_by(pl.col('fullVisitorId')).agg(\n",
    "    pl.col('country'), pl.col('city'), \n",
    "    pl.col('browser'),pl.col('operatingSystem'),pl.col('deviceCategory'),\n",
    "    pl.col('source'),pl.col('transactionId'),pl.col('v2ProductCategory')\n",
    ")\n",
    "user_profiles"
   ]
  },
  {
   "cell_type": "code",
   "execution_count": 25,
   "metadata": {},
   "outputs": [],
   "source": [
    "# rec_stream = pl.DataFrame(recommendation_eval_pipeline(\"2703137619338184529\",user_profiles, encoded_df, df))\n",
    "# rec_stream.write_csv(\"../data/recommendations.csv\")"
   ]
  },
  {
   "cell_type": "code",
   "execution_count": 26,
   "metadata": {},
   "outputs": [],
   "source": [
    "purchasing_visitors=encoded_df.filter(pl.col('transactionId') != 0).select(pl.col('fullVisitorId')).unique()\n",
    "purchasing_visitors.write_csv(\"../data/purchasing_visitors.csv\")"
   ]
  },
  {
   "cell_type": "code",
   "execution_count": 27,
   "metadata": {},
   "outputs": [],
   "source": [
    "entire_data = entire_data.with_columns(pl.col(\"fullVisitorId\").cast(str))"
   ]
  },
  {
   "cell_type": "code",
   "execution_count": 28,
   "metadata": {},
   "outputs": [
    {
     "data": {
      "text/html": [
       "<div><style>\n",
       ".dataframe > thead > tr,\n",
       ".dataframe > tbody > tr {\n",
       "  text-align: right;\n",
       "  white-space: pre-wrap;\n",
       "}\n",
       "</style>\n",
       "<small>shape: (334_653, 9)</small><table border=\"1\" class=\"dataframe\"><thead><tr><th>fullVisitorId</th><th>country</th><th>city</th><th>browser</th><th>operatingSystem</th><th>deviceCategory</th><th>source</th><th>transactionId</th><th>v2ProductCategory</th></tr><tr><td>str</td><td>list[f64]</td><td>list[f64]</td><td>list[f64]</td><td>list[f64]</td><td>list[f64]</td><td>list[f64]</td><td>list[i32]</td><td>list[f64]</td></tr></thead><tbody><tr><td>&quot;7513999583179206180&quot;</td><td>[0.000139, 0.000139, … 0.000139]</td><td>[0.000143, 0.000143, … 0.000143]</td><td>[0.004717, 0.004717, … 0.004717]</td><td>[0.008721, 0.008721, … 0.008721]</td><td>[0.005017, 0.005017, … 0.005017]</td><td>[0.005561, 0.005561, … 0.005561]</td><td>[0, 0, … 0]</td><td>[0.0, 0.0, … 0.0]</td></tr><tr><td>&quot;58179579207013070&quot;</td><td>[0.001917, 0.001917, … 0.001917]</td><td>[0.003105, 0.003105, … 0.003105]</td><td>[0.004717, 0.004717, … 0.004717]</td><td>[0.002803, 0.002803, … 0.002803]</td><td>[0.005017, 0.005017, … 0.005017]</td><td>[0.00231, 0.00231, … 0.00231]</td><td>[0, 0, … 0]</td><td>[0.0, 0.0, … 0.0]</td></tr><tr><td>&quot;8906589127135298127&quot;</td><td>[0.005934, 0.005934, … 0.005934]</td><td>[0.003105, 0.003105, … 0.003105]</td><td>[0.001468, 0.001468, … 0.001468]</td><td>[0.00104, 0.00104, … 0.00104]</td><td>[0.001015, 0.001015, … 0.001015]</td><td>[0.005561, 0.005561, … 0.00231]</td><td>[0, 0, … 0]</td><td>[0.0, 0.0, … 0.0]</td></tr><tr><td>&quot;5880261448096819927&quot;</td><td>[0.005934, 0.005934, … 0.005934]</td><td>[0.003105, 0.003105, … 0.003105]</td><td>[0.004717, 0.004717, … 0.004717]</td><td>[0.002803, 0.002803, … 0.002803]</td><td>[0.005017, 0.005017, … 0.005017]</td><td>[0.005561, 0.005561, … 0.005561]</td><td>[0, 0, … 0]</td><td>[0.0, 0.0, … 0.0]</td></tr><tr><td>&quot;3582635577865598343&quot;</td><td>[0.000331, 0.000331, … 0.000331]</td><td>[0.003105, 0.003105, … 0.003105]</td><td>[0.004717, 0.004717, … 0.004717]</td><td>[0.002803, 0.002803, … 0.002803]</td><td>[0.005017, 0.005017, … 0.005017]</td><td>[0.00231, 0.00231, … 0.00231]</td><td>[0, 0, … 0]</td><td>[0.016398, 0.016398, … 0.016398]</td></tr><tr><td>&hellip;</td><td>&hellip;</td><td>&hellip;</td><td>&hellip;</td><td>&hellip;</td><td>&hellip;</td><td>&hellip;</td><td>&hellip;</td><td>&hellip;</td></tr><tr><td>&quot;8635504048844388696&quot;</td><td>[0.000128, 0.000128, … 0.000128]</td><td>[0.003105, 0.003105, … 0.003105]</td><td>[0.001468, 0.001468, … 0.001468]</td><td>[0.00104, 0.00104, … 0.00104]</td><td>[0.001015, 0.001015, … 0.001015]</td><td>[0.005561, 0.005561, … 0.005561]</td><td>[0, 0, … 0]</td><td>[0.0, 0.0, … 0.0]</td></tr><tr><td>&quot;6359330005069703105&quot;</td><td>[0.005934, 0.005934, … 0.005934]</td><td>[0.004581, 0.004581, … 0.004581]</td><td>[0.004717, 0.004717, … 0.004717]</td><td>[0.004433, 0.004433, … 0.004433]</td><td>[0.005017, 0.005017, … 0.005017]</td><td>[0.005561, 0.005561, … 0.005561]</td><td>[0, 1, … 0]</td><td>[0.237429, 0.242536, … 0.23826]</td></tr><tr><td>&quot;2768671868007492883&quot;</td><td>[0.000349, 0.000349, … 0.000349]</td><td>[0.003401, 0.003401, … 0.003401]</td><td>[0.004717, 0.004717, … 0.004717]</td><td>[0.002803, 0.002803, … 0.002803]</td><td>[0.005017, 0.005017, … 0.005017]</td><td>[0.005561, 0.005561, … 0.005561]</td><td>[0, 0, … 0]</td><td>[0.0, 0.0, … 0.0]</td></tr><tr><td>&quot;535780506994537509&quot;</td><td>[0.000312, 0.000312, … 0.000312]</td><td>[0.003105, 0.003105, … 0.003105]</td><td>[0.002017, 0.002017, … 0.002017]</td><td>[0.006595, 0.006595, … 0.006595]</td><td>[0.005017, 0.005017, … 0.005017]</td><td>[0.005561, 0.005561, … 0.005561]</td><td>[0, 0, … 0]</td><td>[0.0, 0.0, … 0.0]</td></tr><tr><td>&quot;1111634188537101513&quot;</td><td>[0.0, 0.0, … 0.0]</td><td>[0.003105, 0.003105, … 0.003105]</td><td>[0.004717, 0.004717, … 0.004717]</td><td>[0.006595, 0.006595, … 0.006595]</td><td>[0.005017, 0.005017, … 0.005017]</td><td>[0.00231, 0.00231, … 0.00231]</td><td>[0, 0, … 0]</td><td>[0.0, 0.0, … 0.0]</td></tr></tbody></table></div>"
      ],
      "text/plain": [
       "shape: (334_653, 9)\n",
       "┌─────────────────────┬──────────────────────────┬─────────────────────────┬─────────────────────────┬───┬─────────────────────────┬─────────────────────────┬───────────────┬─────────────────────────┐\n",
       "│ fullVisitorId       ┆ country                  ┆ city                    ┆ browser                 ┆ … ┆ deviceCategory          ┆ source                  ┆ transactionId ┆ v2ProductCategory       │\n",
       "│ ---                 ┆ ---                      ┆ ---                     ┆ ---                     ┆   ┆ ---                     ┆ ---                     ┆ ---           ┆ ---                     │\n",
       "│ str                 ┆ list[f64]                ┆ list[f64]               ┆ list[f64]               ┆   ┆ list[f64]               ┆ list[f64]               ┆ list[i32]     ┆ list[f64]               │\n",
       "╞═════════════════════╪══════════════════════════╪═════════════════════════╪═════════════════════════╪═══╪═════════════════════════╪═════════════════════════╪═══════════════╪═════════════════════════╡\n",
       "│ 7513999583179206180 ┆ [0.000139, 0.000139, …   ┆ [0.000143, 0.000143, …  ┆ [0.004717, 0.004717, …  ┆ … ┆ [0.005017, 0.005017, …  ┆ [0.005561, 0.005561, …  ┆ [0, 0, … 0]   ┆ [0.0, 0.0, … 0.0]       │\n",
       "│                     ┆ 0.00013…                 ┆ 0.00014…                ┆ 0.00471…                ┆   ┆ 0.00501…                ┆ 0.00556…                ┆               ┆                         │\n",
       "│ 58179579207013070   ┆ [0.001917, 0.001917, …   ┆ [0.003105, 0.003105, …  ┆ [0.004717, 0.004717, …  ┆ … ┆ [0.005017, 0.005017, …  ┆ [0.00231, 0.00231, …    ┆ [0, 0, … 0]   ┆ [0.0, 0.0, … 0.0]       │\n",
       "│                     ┆ 0.00191…                 ┆ 0.00310…                ┆ 0.00471…                ┆   ┆ 0.00501…                ┆ 0.00231]                ┆               ┆                         │\n",
       "│ 8906589127135298127 ┆ [0.005934, 0.005934, …   ┆ [0.003105, 0.003105, …  ┆ [0.001468, 0.001468, …  ┆ … ┆ [0.001015, 0.001015, …  ┆ [0.005561, 0.005561, …  ┆ [0, 0, … 0]   ┆ [0.0, 0.0, … 0.0]       │\n",
       "│                     ┆ 0.00593…                 ┆ 0.00310…                ┆ 0.00146…                ┆   ┆ 0.00101…                ┆ 0.00231…                ┆               ┆                         │\n",
       "│ 5880261448096819927 ┆ [0.005934, 0.005934, …   ┆ [0.003105, 0.003105, …  ┆ [0.004717, 0.004717, …  ┆ … ┆ [0.005017, 0.005017, …  ┆ [0.005561, 0.005561, …  ┆ [0, 0, … 0]   ┆ [0.0, 0.0, … 0.0]       │\n",
       "│                     ┆ 0.00593…                 ┆ 0.00310…                ┆ 0.00471…                ┆   ┆ 0.00501…                ┆ 0.00556…                ┆               ┆                         │\n",
       "│ 3582635577865598343 ┆ [0.000331, 0.000331, …   ┆ [0.003105, 0.003105, …  ┆ [0.004717, 0.004717, …  ┆ … ┆ [0.005017, 0.005017, …  ┆ [0.00231, 0.00231, …    ┆ [0, 0, … 0]   ┆ [0.016398, 0.016398, …  │\n",
       "│                     ┆ 0.00033…                 ┆ 0.00310…                ┆ 0.00471…                ┆   ┆ 0.00501…                ┆ 0.00231]                ┆               ┆ 0.01639…                │\n",
       "│ …                   ┆ …                        ┆ …                       ┆ …                       ┆ … ┆ …                       ┆ …                       ┆ …             ┆ …                       │\n",
       "│ 8635504048844388696 ┆ [0.000128, 0.000128, …   ┆ [0.003105, 0.003105, …  ┆ [0.001468, 0.001468, …  ┆ … ┆ [0.001015, 0.001015, …  ┆ [0.005561, 0.005561, …  ┆ [0, 0, … 0]   ┆ [0.0, 0.0, … 0.0]       │\n",
       "│                     ┆ 0.00012…                 ┆ 0.00310…                ┆ 0.00146…                ┆   ┆ 0.00101…                ┆ 0.00556…                ┆               ┆                         │\n",
       "│ 6359330005069703105 ┆ [0.005934, 0.005934, …   ┆ [0.004581, 0.004581, …  ┆ [0.004717, 0.004717, …  ┆ … ┆ [0.005017, 0.005017, …  ┆ [0.005561, 0.005561, …  ┆ [0, 1, … 0]   ┆ [0.237429, 0.242536, …  │\n",
       "│                     ┆ 0.00593…                 ┆ 0.00458…                ┆ 0.00471…                ┆   ┆ 0.00501…                ┆ 0.00556…                ┆               ┆ 0.23826…                │\n",
       "│ 2768671868007492883 ┆ [0.000349, 0.000349, …   ┆ [0.003401, 0.003401, …  ┆ [0.004717, 0.004717, …  ┆ … ┆ [0.005017, 0.005017, …  ┆ [0.005561, 0.005561, …  ┆ [0, 0, … 0]   ┆ [0.0, 0.0, … 0.0]       │\n",
       "│                     ┆ 0.00034…                 ┆ 0.00340…                ┆ 0.00471…                ┆   ┆ 0.00501…                ┆ 0.00556…                ┆               ┆                         │\n",
       "│ 535780506994537509  ┆ [0.000312, 0.000312, …   ┆ [0.003105, 0.003105, …  ┆ [0.002017, 0.002017, …  ┆ … ┆ [0.005017, 0.005017, …  ┆ [0.005561, 0.005561, …  ┆ [0, 0, … 0]   ┆ [0.0, 0.0, … 0.0]       │\n",
       "│                     ┆ 0.00031…                 ┆ 0.00310…                ┆ 0.00201…                ┆   ┆ 0.00501…                ┆ 0.00556…                ┆               ┆                         │\n",
       "│ 1111634188537101513 ┆ [0.0, 0.0, … 0.0]        ┆ [0.003105, 0.003105, …  ┆ [0.004717, 0.004717, …  ┆ … ┆ [0.005017, 0.005017, …  ┆ [0.00231, 0.00231, …    ┆ [0, 0, … 0]   ┆ [0.0, 0.0, … 0.0]       │\n",
       "│                     ┆                          ┆ 0.00310…                ┆ 0.00471…                ┆   ┆ 0.00501…                ┆ 0.00231]                ┆               ┆                         │\n",
       "└─────────────────────┴──────────────────────────┴─────────────────────────┴─────────────────────────┴───┴─────────────────────────┴─────────────────────────┴───────────────┴─────────────────────────┘"
      ]
     },
     "execution_count": 28,
     "metadata": {},
     "output_type": "execute_result"
    }
   ],
   "source": [
    "user_profiles = user_profiles.with_columns(pl.col(\"fullVisitorId\").cast(str))\n",
    "user_profiles"
   ]
  },
  {
   "cell_type": "code",
   "execution_count": 29,
   "metadata": {},
   "outputs": [],
   "source": [
    "encoded_df = encoded_df.with_columns(pl.col(\"fullVisitorId\").cast(str))"
   ]
  },
  {
   "cell_type": "code",
   "execution_count": 30,
   "metadata": {},
   "outputs": [
    {
     "ename": "KeyboardInterrupt",
     "evalue": "",
     "output_type": "error",
     "traceback": [
      "\u001b[1;31m---------------------------------------------------------------------------\u001b[0m",
      "\u001b[1;31mKeyboardInterrupt\u001b[0m                         Traceback (most recent call last)",
      "Cell \u001b[1;32mIn[30], line 4\u001b[0m\n\u001b[0;32m      2\u001b[0m all_recs \u001b[38;5;241m=\u001b[39m []\n\u001b[0;32m      3\u001b[0m \u001b[38;5;28;01mfor\u001b[39;00m i \u001b[38;5;129;01min\u001b[39;00m purchasing_visitors[\u001b[38;5;124m\"\u001b[39m\u001b[38;5;124mfullVisitorId\u001b[39m\u001b[38;5;124m\"\u001b[39m]\u001b[38;5;241m.\u001b[39mto_list():\n\u001b[1;32m----> 4\u001b[0m     prec \u001b[38;5;241m=\u001b[39m \u001b[43mrecommendation_eval_pipeline\u001b[49m\u001b[43m(\u001b[49m\u001b[43mi\u001b[49m\u001b[43m,\u001b[49m\u001b[43m \u001b[49m\u001b[43muser_profiles\u001b[49m\u001b[43m,\u001b[49m\u001b[43m \u001b[49m\u001b[43mencoded_df\u001b[49m\u001b[43m,\u001b[49m\u001b[43m \u001b[49m\u001b[43mentire_data\u001b[49m\u001b[43m)\u001b[49m\n\u001b[0;32m      5\u001b[0m     all_recs\u001b[38;5;241m.\u001b[39mappend(prec)\n\u001b[0;32m      6\u001b[0m np\u001b[38;5;241m.\u001b[39mmean(all_recs)\n",
      "File \u001b[1;32mc:\\Users\\andre\\Desktop\\Code\\Data_Science\\recommendation_system\\utils\\preprocessing.py:164\u001b[0m, in \u001b[0;36mrecommendation_eval_pipeline\u001b[1;34m(active_user, user_profiles, encoded_df, original_df)\u001b[0m\n\u001b[0;32m    153\u001b[0m \u001b[38;5;250m\u001b[39m\u001b[38;5;124;03m\"\"\"\u001b[39;00m\n\u001b[0;32m    154\u001b[0m \u001b[38;5;124;03m\u001b[39;00m\n\u001b[0;32m    155\u001b[0m \u001b[38;5;124;03mArgs:\u001b[39;00m\n\u001b[1;32m   (...)\u001b[0m\n\u001b[0;32m    159\u001b[0m \n\u001b[0;32m    160\u001b[0m \u001b[38;5;124;03m\"\"\"\u001b[39;00m\n\u001b[0;32m    161\u001b[0m actual_bought \u001b[38;5;241m=\u001b[39m original_df\u001b[38;5;241m.\u001b[39mfilter((pl\u001b[38;5;241m.\u001b[39mcol(\u001b[38;5;124m'\u001b[39m\u001b[38;5;124mfullVisitorId\u001b[39m\u001b[38;5;124m'\u001b[39m) \u001b[38;5;241m==\u001b[39m \u001b[38;5;124mf\u001b[39m\u001b[38;5;124m\"\u001b[39m\u001b[38;5;132;01m{\u001b[39;00mactive_user\u001b[38;5;132;01m}\u001b[39;00m\u001b[38;5;124m\"\u001b[39m) \u001b[38;5;241m&\u001b[39m (pl\u001b[38;5;241m.\u001b[39mcol(\u001b[38;5;124m'\u001b[39m\u001b[38;5;124mtransactionId\u001b[39m\u001b[38;5;124m'\u001b[39m) \u001b[38;5;241m!=\u001b[39m \u001b[38;5;124m'\u001b[39m\u001b[38;5;124mnull\u001b[39m\u001b[38;5;124m'\u001b[39m)\n\u001b[0;32m    162\u001b[0m                                    )\u001b[38;5;241m.\u001b[39mselect(pl\u001b[38;5;241m.\u001b[39mcol(\u001b[38;5;124m'\u001b[39m\u001b[38;5;124mv2ProductCategory\u001b[39m\u001b[38;5;124m'\u001b[39m))\u001b[38;5;241m.\u001b[39mto_series()\u001b[38;5;241m.\u001b[39mto_list()\n\u001b[0;32m    163\u001b[0m rec_precision \u001b[38;5;241m=\u001b[39m precision(actual_bought, \n\u001b[1;32m--> 164\u001b[0m                           \u001b[43mrecommendation_pipeline\u001b[49m\u001b[43m(\u001b[49m\u001b[43mactive_user\u001b[49m\u001b[43m,\u001b[49m\u001b[43m \u001b[49m\u001b[43muser_profiles\u001b[49m\u001b[43m,\u001b[49m\u001b[43m \u001b[49m\n\u001b[0;32m    165\u001b[0m \u001b[43m                                                  \u001b[49m\u001b[43mencoded_df\u001b[49m\u001b[43m,\u001b[49m\u001b[43m \u001b[49m\u001b[43moriginal_df\u001b[49m\u001b[43m)\u001b[49m,\u001b[38;5;241m5\u001b[39m)\n\u001b[0;32m    167\u001b[0m \u001b[38;5;28;01mreturn\u001b[39;00m rec_precision\n",
      "File \u001b[1;32mc:\\Users\\andre\\Desktop\\Code\\Data_Science\\recommendation_system\\utils\\preprocessing.py:145\u001b[0m, in \u001b[0;36mrecommendation_pipeline\u001b[1;34m(active_user, user_profiles, encoded_df, original_df)\u001b[0m\n\u001b[0;32m    142\u001b[0m user_profiles_no_id \u001b[38;5;241m=\u001b[39m user_profiles_no_id\u001b[38;5;241m.\u001b[39mto_numpy()\n\u001b[0;32m    144\u001b[0m active_user_data \u001b[38;5;241m=\u001b[39m \u001b[38;5;28mlist\u001b[39m(encoded_df\u001b[38;5;241m.\u001b[39mfilter(pl\u001b[38;5;241m.\u001b[39mcol(\u001b[38;5;124m\"\u001b[39m\u001b[38;5;124mfullVisitorId\u001b[39m\u001b[38;5;124m\"\u001b[39m) \u001b[38;5;241m==\u001b[39m \u001b[38;5;124mf\u001b[39m\u001b[38;5;124m\"\u001b[39m\u001b[38;5;132;01m{\u001b[39;00mactive_user\u001b[38;5;132;01m}\u001b[39;00m\u001b[38;5;124m\"\u001b[39m)\u001b[38;5;241m.\u001b[39mrow(\u001b[38;5;241m-\u001b[39m\u001b[38;5;241m1\u001b[39m))[\u001b[38;5;241m1\u001b[39m:]\n\u001b[1;32m--> 145\u001b[0m similarities \u001b[38;5;241m=\u001b[39m \u001b[43mcalculate_similarity\u001b[49m\u001b[43m(\u001b[49m\u001b[43muser_profiles\u001b[49m\u001b[43m,\u001b[49m\u001b[43m \u001b[49m\u001b[43muser_profiles_no_id\u001b[49m\u001b[43m,\u001b[49m\u001b[43m \u001b[49m\u001b[43mactive_user_data\u001b[49m\u001b[43m)\u001b[49m\n\u001b[0;32m    146\u001b[0m sorted_dict \u001b[38;5;241m=\u001b[39m \u001b[38;5;28msorted\u001b[39m(similarities\u001b[38;5;241m.\u001b[39mitems(), key\u001b[38;5;241m=\u001b[39m\u001b[38;5;28;01mlambda\u001b[39;00m x: x[\u001b[38;5;241m1\u001b[39m])\n\u001b[0;32m    147\u001b[0m rec \u001b[38;5;241m=\u001b[39m recommendation(original_df,sorted_dict)\n",
      "File \u001b[1;32mc:\\Users\\andre\\Desktop\\Code\\Data_Science\\recommendation_system\\utils\\preprocessing.py:76\u001b[0m, in \u001b[0;36mcalculate_similarity\u001b[1;34m(user_profiles, user_profiles_no_id, active_user)\u001b[0m\n\u001b[0;32m     74\u001b[0m \u001b[38;5;28;01mfor\u001b[39;00m i \u001b[38;5;129;01min\u001b[39;00m \u001b[38;5;28mrange\u001b[39m(\u001b[38;5;241m0\u001b[39m,\u001b[38;5;28mlen\u001b[39m(user_profiles)):\n\u001b[0;32m     75\u001b[0m     user_profile_df \u001b[38;5;241m=\u001b[39m np\u001b[38;5;241m.\u001b[39mvstack(user_profiles_no_id[i])\u001b[38;5;241m.\u001b[39mT\n\u001b[1;32m---> 76\u001b[0m     avg_similarity \u001b[38;5;241m=\u001b[39m \u001b[43mcosine_similarity\u001b[49m\u001b[43m(\u001b[49m\u001b[43muser_profile_df\u001b[49m\u001b[43m,\u001b[49m\u001b[43m \u001b[49m\u001b[43m[\u001b[49m\u001b[43mactive_user\u001b[49m\u001b[43m]\u001b[49m\u001b[43m)\u001b[49m\n\u001b[0;32m     77\u001b[0m     avg_similarity \u001b[38;5;241m=\u001b[39m avg_similarity\u001b[38;5;241m.\u001b[39mmean()\n\u001b[0;32m     78\u001b[0m     profile_avg_similarity[\u001b[38;5;124mf\u001b[39m\u001b[38;5;124m'\u001b[39m\u001b[38;5;132;01m{\u001b[39;00muser_profiles[\u001b[38;5;124m'\u001b[39m\u001b[38;5;124mfullVisitorId\u001b[39m\u001b[38;5;124m'\u001b[39m][i]\u001b[38;5;132;01m}\u001b[39;00m\u001b[38;5;124m'\u001b[39m] \u001b[38;5;241m=\u001b[39m avg_similarity\n",
      "File \u001b[1;32mc:\\Users\\andre\\AppData\\Local\\Programs\\Python\\Python312\\Lib\\site-packages\\sklearn\\utils\\_param_validation.py:213\u001b[0m, in \u001b[0;36mvalidate_params.<locals>.decorator.<locals>.wrapper\u001b[1;34m(*args, **kwargs)\u001b[0m\n\u001b[0;32m    207\u001b[0m \u001b[38;5;28;01mtry\u001b[39;00m:\n\u001b[0;32m    208\u001b[0m     \u001b[38;5;28;01mwith\u001b[39;00m config_context(\n\u001b[0;32m    209\u001b[0m         skip_parameter_validation\u001b[38;5;241m=\u001b[39m(\n\u001b[0;32m    210\u001b[0m             prefer_skip_nested_validation \u001b[38;5;129;01mor\u001b[39;00m global_skip_validation\n\u001b[0;32m    211\u001b[0m         )\n\u001b[0;32m    212\u001b[0m     ):\n\u001b[1;32m--> 213\u001b[0m         \u001b[38;5;28;01mreturn\u001b[39;00m \u001b[43mfunc\u001b[49m\u001b[43m(\u001b[49m\u001b[38;5;241;43m*\u001b[39;49m\u001b[43margs\u001b[49m\u001b[43m,\u001b[49m\u001b[43m \u001b[49m\u001b[38;5;241;43m*\u001b[39;49m\u001b[38;5;241;43m*\u001b[39;49m\u001b[43mkwargs\u001b[49m\u001b[43m)\u001b[49m\n\u001b[0;32m    214\u001b[0m \u001b[38;5;28;01mexcept\u001b[39;00m InvalidParameterError \u001b[38;5;28;01mas\u001b[39;00m e:\n\u001b[0;32m    215\u001b[0m     \u001b[38;5;66;03m# When the function is just a wrapper around an estimator, we allow\u001b[39;00m\n\u001b[0;32m    216\u001b[0m     \u001b[38;5;66;03m# the function to delegate validation to the estimator, but we replace\u001b[39;00m\n\u001b[0;32m    217\u001b[0m     \u001b[38;5;66;03m# the name of the estimator by the name of the function in the error\u001b[39;00m\n\u001b[0;32m    218\u001b[0m     \u001b[38;5;66;03m# message to avoid confusion.\u001b[39;00m\n\u001b[0;32m    219\u001b[0m     msg \u001b[38;5;241m=\u001b[39m re\u001b[38;5;241m.\u001b[39msub(\n\u001b[0;32m    220\u001b[0m         \u001b[38;5;124mr\u001b[39m\u001b[38;5;124m\"\u001b[39m\u001b[38;5;124mparameter of \u001b[39m\u001b[38;5;124m\\\u001b[39m\u001b[38;5;124mw+ must be\u001b[39m\u001b[38;5;124m\"\u001b[39m,\n\u001b[0;32m    221\u001b[0m         \u001b[38;5;124mf\u001b[39m\u001b[38;5;124m\"\u001b[39m\u001b[38;5;124mparameter of \u001b[39m\u001b[38;5;132;01m{\u001b[39;00mfunc\u001b[38;5;241m.\u001b[39m\u001b[38;5;18m__qualname__\u001b[39m\u001b[38;5;132;01m}\u001b[39;00m\u001b[38;5;124m must be\u001b[39m\u001b[38;5;124m\"\u001b[39m,\n\u001b[0;32m    222\u001b[0m         \u001b[38;5;28mstr\u001b[39m(e),\n\u001b[0;32m    223\u001b[0m     )\n",
      "File \u001b[1;32mc:\\Users\\andre\\AppData\\Local\\Programs\\Python\\Python312\\Lib\\site-packages\\sklearn\\metrics\\pairwise.py:1670\u001b[0m, in \u001b[0;36mcosine_similarity\u001b[1;34m(X, Y, dense_output)\u001b[0m\n\u001b[0;32m   1666\u001b[0m \u001b[38;5;66;03m# to avoid recursive import\u001b[39;00m\n\u001b[0;32m   1668\u001b[0m X, Y \u001b[38;5;241m=\u001b[39m check_pairwise_arrays(X, Y)\n\u001b[1;32m-> 1670\u001b[0m X_normalized \u001b[38;5;241m=\u001b[39m \u001b[43mnormalize\u001b[49m\u001b[43m(\u001b[49m\u001b[43mX\u001b[49m\u001b[43m,\u001b[49m\u001b[43m \u001b[49m\u001b[43mcopy\u001b[49m\u001b[38;5;241;43m=\u001b[39;49m\u001b[38;5;28;43;01mTrue\u001b[39;49;00m\u001b[43m)\u001b[49m\n\u001b[0;32m   1671\u001b[0m \u001b[38;5;28;01mif\u001b[39;00m X \u001b[38;5;129;01mis\u001b[39;00m Y:\n\u001b[0;32m   1672\u001b[0m     Y_normalized \u001b[38;5;241m=\u001b[39m X_normalized\n",
      "File \u001b[1;32mc:\\Users\\andre\\AppData\\Local\\Programs\\Python\\Python312\\Lib\\site-packages\\sklearn\\utils\\_param_validation.py:186\u001b[0m, in \u001b[0;36mvalidate_params.<locals>.decorator.<locals>.wrapper\u001b[1;34m(*args, **kwargs)\u001b[0m\n\u001b[0;32m    184\u001b[0m global_skip_validation \u001b[38;5;241m=\u001b[39m get_config()[\u001b[38;5;124m\"\u001b[39m\u001b[38;5;124mskip_parameter_validation\u001b[39m\u001b[38;5;124m\"\u001b[39m]\n\u001b[0;32m    185\u001b[0m \u001b[38;5;28;01mif\u001b[39;00m global_skip_validation:\n\u001b[1;32m--> 186\u001b[0m     \u001b[38;5;28;01mreturn\u001b[39;00m \u001b[43mfunc\u001b[49m\u001b[43m(\u001b[49m\u001b[38;5;241;43m*\u001b[39;49m\u001b[43margs\u001b[49m\u001b[43m,\u001b[49m\u001b[43m \u001b[49m\u001b[38;5;241;43m*\u001b[39;49m\u001b[38;5;241;43m*\u001b[39;49m\u001b[43mkwargs\u001b[49m\u001b[43m)\u001b[49m\n\u001b[0;32m    188\u001b[0m func_sig \u001b[38;5;241m=\u001b[39m signature(func)\n\u001b[0;32m    190\u001b[0m \u001b[38;5;66;03m# Map *args/**kwargs to the function signature\u001b[39;00m\n",
      "File \u001b[1;32mc:\\Users\\andre\\AppData\\Local\\Programs\\Python\\Python312\\Lib\\site-packages\\sklearn\\preprocessing\\_data.py:1925\u001b[0m, in \u001b[0;36mnormalize\u001b[1;34m(X, norm, axis, copy, return_norm)\u001b[0m\n\u001b[0;32m   1921\u001b[0m     sparse_format \u001b[38;5;241m=\u001b[39m \u001b[38;5;124m\"\u001b[39m\u001b[38;5;124mcsr\u001b[39m\u001b[38;5;124m\"\u001b[39m\n\u001b[0;32m   1923\u001b[0m xp, _ \u001b[38;5;241m=\u001b[39m get_namespace(X)\n\u001b[1;32m-> 1925\u001b[0m X \u001b[38;5;241m=\u001b[39m \u001b[43mcheck_array\u001b[49m\u001b[43m(\u001b[49m\n\u001b[0;32m   1926\u001b[0m \u001b[43m    \u001b[49m\u001b[43mX\u001b[49m\u001b[43m,\u001b[49m\n\u001b[0;32m   1927\u001b[0m \u001b[43m    \u001b[49m\u001b[43maccept_sparse\u001b[49m\u001b[38;5;241;43m=\u001b[39;49m\u001b[43msparse_format\u001b[49m\u001b[43m,\u001b[49m\n\u001b[0;32m   1928\u001b[0m \u001b[43m    \u001b[49m\u001b[43mcopy\u001b[49m\u001b[38;5;241;43m=\u001b[39;49m\u001b[43mcopy\u001b[49m\u001b[43m,\u001b[49m\n\u001b[0;32m   1929\u001b[0m \u001b[43m    \u001b[49m\u001b[43mestimator\u001b[49m\u001b[38;5;241;43m=\u001b[39;49m\u001b[38;5;124;43m\"\u001b[39;49m\u001b[38;5;124;43mthe normalize function\u001b[39;49m\u001b[38;5;124;43m\"\u001b[39;49m\u001b[43m,\u001b[49m\n\u001b[0;32m   1930\u001b[0m \u001b[43m    \u001b[49m\u001b[43mdtype\u001b[49m\u001b[38;5;241;43m=\u001b[39;49m\u001b[43m_array_api\u001b[49m\u001b[38;5;241;43m.\u001b[39;49m\u001b[43msupported_float_dtypes\u001b[49m\u001b[43m(\u001b[49m\u001b[43mxp\u001b[49m\u001b[43m)\u001b[49m\u001b[43m,\u001b[49m\n\u001b[0;32m   1931\u001b[0m \u001b[43m\u001b[49m\u001b[43m)\u001b[49m\n\u001b[0;32m   1932\u001b[0m \u001b[38;5;28;01mif\u001b[39;00m axis \u001b[38;5;241m==\u001b[39m \u001b[38;5;241m0\u001b[39m:\n\u001b[0;32m   1933\u001b[0m     X \u001b[38;5;241m=\u001b[39m X\u001b[38;5;241m.\u001b[39mT\n",
      "File \u001b[1;32mc:\\Users\\andre\\AppData\\Local\\Programs\\Python\\Python312\\Lib\\site-packages\\sklearn\\utils\\validation.py:1070\u001b[0m, in \u001b[0;36mcheck_array\u001b[1;34m(array, accept_sparse, accept_large_sparse, dtype, order, copy, force_all_finite, ensure_2d, allow_nd, ensure_min_samples, ensure_min_features, estimator, input_name)\u001b[0m\n\u001b[0;32m   1067\u001b[0m \u001b[38;5;28;01mif\u001b[39;00m _is_numpy_namespace(xp):\n\u001b[0;32m   1068\u001b[0m     \u001b[38;5;66;03m# only make a copy if `array` and `array_orig` may share memory`\u001b[39;00m\n\u001b[0;32m   1069\u001b[0m     \u001b[38;5;28;01mif\u001b[39;00m np\u001b[38;5;241m.\u001b[39mmay_share_memory(array, array_orig):\n\u001b[1;32m-> 1070\u001b[0m         array \u001b[38;5;241m=\u001b[39m \u001b[43m_asarray_with_order\u001b[49m\u001b[43m(\u001b[49m\n\u001b[0;32m   1071\u001b[0m \u001b[43m            \u001b[49m\u001b[43marray\u001b[49m\u001b[43m,\u001b[49m\u001b[43m \u001b[49m\u001b[43mdtype\u001b[49m\u001b[38;5;241;43m=\u001b[39;49m\u001b[43mdtype\u001b[49m\u001b[43m,\u001b[49m\u001b[43m \u001b[49m\u001b[43morder\u001b[49m\u001b[38;5;241;43m=\u001b[39;49m\u001b[43morder\u001b[49m\u001b[43m,\u001b[49m\u001b[43m \u001b[49m\u001b[43mcopy\u001b[49m\u001b[38;5;241;43m=\u001b[39;49m\u001b[38;5;28;43;01mTrue\u001b[39;49;00m\u001b[43m,\u001b[49m\u001b[43m \u001b[49m\u001b[43mxp\u001b[49m\u001b[38;5;241;43m=\u001b[39;49m\u001b[43mxp\u001b[49m\n\u001b[0;32m   1072\u001b[0m \u001b[43m        \u001b[49m\u001b[43m)\u001b[49m\n\u001b[0;32m   1073\u001b[0m \u001b[38;5;28;01melse\u001b[39;00m:\n\u001b[0;32m   1074\u001b[0m     \u001b[38;5;66;03m# always make a copy for non-numpy arrays\u001b[39;00m\n\u001b[0;32m   1075\u001b[0m     array \u001b[38;5;241m=\u001b[39m _asarray_with_order(\n\u001b[0;32m   1076\u001b[0m         array, dtype\u001b[38;5;241m=\u001b[39mdtype, order\u001b[38;5;241m=\u001b[39morder, copy\u001b[38;5;241m=\u001b[39m\u001b[38;5;28;01mTrue\u001b[39;00m, xp\u001b[38;5;241m=\u001b[39mxp\n\u001b[0;32m   1077\u001b[0m     )\n",
      "File \u001b[1;32mc:\\Users\\andre\\AppData\\Local\\Programs\\Python\\Python312\\Lib\\site-packages\\sklearn\\utils\\_array_api.py:744\u001b[0m, in \u001b[0;36m_asarray_with_order\u001b[1;34m(array, dtype, order, copy, xp, device)\u001b[0m\n\u001b[0;32m    741\u001b[0m \u001b[38;5;28;01mif\u001b[39;00m _is_numpy_namespace(xp):\n\u001b[0;32m    742\u001b[0m     \u001b[38;5;66;03m# Use NumPy API to support order\u001b[39;00m\n\u001b[0;32m    743\u001b[0m     \u001b[38;5;28;01mif\u001b[39;00m copy \u001b[38;5;129;01mis\u001b[39;00m \u001b[38;5;28;01mTrue\u001b[39;00m:\n\u001b[1;32m--> 744\u001b[0m         array \u001b[38;5;241m=\u001b[39m \u001b[43mnumpy\u001b[49m\u001b[38;5;241;43m.\u001b[39;49m\u001b[43marray\u001b[49m\u001b[43m(\u001b[49m\u001b[43marray\u001b[49m\u001b[43m,\u001b[49m\u001b[43m \u001b[49m\u001b[43morder\u001b[49m\u001b[38;5;241;43m=\u001b[39;49m\u001b[43morder\u001b[49m\u001b[43m,\u001b[49m\u001b[43m \u001b[49m\u001b[43mdtype\u001b[49m\u001b[38;5;241;43m=\u001b[39;49m\u001b[43mdtype\u001b[49m\u001b[43m)\u001b[49m\n\u001b[0;32m    745\u001b[0m     \u001b[38;5;28;01melse\u001b[39;00m:\n\u001b[0;32m    746\u001b[0m         array \u001b[38;5;241m=\u001b[39m numpy\u001b[38;5;241m.\u001b[39masarray(array, order\u001b[38;5;241m=\u001b[39morder, dtype\u001b[38;5;241m=\u001b[39mdtype)\n",
      "\u001b[1;31mKeyboardInterrupt\u001b[0m: "
     ]
    }
   ],
   "source": [
    "purchasing_visitors=encoded_df.filter(pl.col('transactionId') != 0).select(pl.col('fullVisitorId')).unique()\n",
    "all_recs = []\n",
    "for i in purchasing_visitors[\"fullVisitorId\"].to_list():\n",
    "    prec = recommendation_eval_pipeline(i, user_profiles, encoded_df, entire_data)\n",
    "    all_recs.append(prec)\n",
    "np.mean(all_recs)"
   ]
  },
  {
   "cell_type": "code",
   "execution_count": 31,
   "metadata": {},
   "outputs": [
    {
     "ename": "KeyboardInterrupt",
     "evalue": "",
     "output_type": "error",
     "traceback": [
      "\u001b[1;31m---------------------------------------------------------------------------\u001b[0m",
      "\u001b[1;31mKeyboardInterrupt\u001b[0m                         Traceback (most recent call last)",
      "Cell \u001b[1;32mIn[31], line 1\u001b[0m\n\u001b[1;32m----> 1\u001b[0m \u001b[43mrecommendation_eval_pipeline\u001b[49m\u001b[43m(\u001b[49m\u001b[38;5;124;43m\"\u001b[39;49m\u001b[38;5;124;43m2357073894289283929\u001b[39;49m\u001b[38;5;124;43m\"\u001b[39;49m\u001b[43m,\u001b[49m\u001b[43m \u001b[49m\u001b[43muser_profiles\u001b[49m\u001b[43m,\u001b[49m\u001b[43m \u001b[49m\u001b[43mencoded_df\u001b[49m\u001b[43m,\u001b[49m\u001b[43m \u001b[49m\u001b[43mentire_data\u001b[49m\u001b[43m)\u001b[49m\n",
      "File \u001b[1;32mc:\\Users\\andre\\Desktop\\Code\\Data_Science\\recommendation_system\\utils\\preprocessing.py:164\u001b[0m, in \u001b[0;36mrecommendation_eval_pipeline\u001b[1;34m(active_user, user_profiles, encoded_df, original_df)\u001b[0m\n\u001b[0;32m    153\u001b[0m \u001b[38;5;250m\u001b[39m\u001b[38;5;124;03m\"\"\"\u001b[39;00m\n\u001b[0;32m    154\u001b[0m \u001b[38;5;124;03m\u001b[39;00m\n\u001b[0;32m    155\u001b[0m \u001b[38;5;124;03mArgs:\u001b[39;00m\n\u001b[1;32m   (...)\u001b[0m\n\u001b[0;32m    159\u001b[0m \n\u001b[0;32m    160\u001b[0m \u001b[38;5;124;03m\"\"\"\u001b[39;00m\n\u001b[0;32m    161\u001b[0m actual_bought \u001b[38;5;241m=\u001b[39m original_df\u001b[38;5;241m.\u001b[39mfilter((pl\u001b[38;5;241m.\u001b[39mcol(\u001b[38;5;124m'\u001b[39m\u001b[38;5;124mfullVisitorId\u001b[39m\u001b[38;5;124m'\u001b[39m) \u001b[38;5;241m==\u001b[39m \u001b[38;5;124mf\u001b[39m\u001b[38;5;124m\"\u001b[39m\u001b[38;5;132;01m{\u001b[39;00mactive_user\u001b[38;5;132;01m}\u001b[39;00m\u001b[38;5;124m\"\u001b[39m) \u001b[38;5;241m&\u001b[39m (pl\u001b[38;5;241m.\u001b[39mcol(\u001b[38;5;124m'\u001b[39m\u001b[38;5;124mtransactionId\u001b[39m\u001b[38;5;124m'\u001b[39m) \u001b[38;5;241m!=\u001b[39m \u001b[38;5;124m'\u001b[39m\u001b[38;5;124mnull\u001b[39m\u001b[38;5;124m'\u001b[39m)\n\u001b[0;32m    162\u001b[0m                                    )\u001b[38;5;241m.\u001b[39mselect(pl\u001b[38;5;241m.\u001b[39mcol(\u001b[38;5;124m'\u001b[39m\u001b[38;5;124mv2ProductCategory\u001b[39m\u001b[38;5;124m'\u001b[39m))\u001b[38;5;241m.\u001b[39mto_series()\u001b[38;5;241m.\u001b[39mto_list()\n\u001b[0;32m    163\u001b[0m rec_precision \u001b[38;5;241m=\u001b[39m precision(actual_bought, \n\u001b[1;32m--> 164\u001b[0m                           \u001b[43mrecommendation_pipeline\u001b[49m\u001b[43m(\u001b[49m\u001b[43mactive_user\u001b[49m\u001b[43m,\u001b[49m\u001b[43m \u001b[49m\u001b[43muser_profiles\u001b[49m\u001b[43m,\u001b[49m\u001b[43m \u001b[49m\n\u001b[0;32m    165\u001b[0m \u001b[43m                                                  \u001b[49m\u001b[43mencoded_df\u001b[49m\u001b[43m,\u001b[49m\u001b[43m \u001b[49m\u001b[43moriginal_df\u001b[49m\u001b[43m)\u001b[49m,\u001b[38;5;241m5\u001b[39m)\n\u001b[0;32m    167\u001b[0m \u001b[38;5;28;01mreturn\u001b[39;00m rec_precision\n",
      "File \u001b[1;32mc:\\Users\\andre\\Desktop\\Code\\Data_Science\\recommendation_system\\utils\\preprocessing.py:145\u001b[0m, in \u001b[0;36mrecommendation_pipeline\u001b[1;34m(active_user, user_profiles, encoded_df, original_df)\u001b[0m\n\u001b[0;32m    142\u001b[0m user_profiles_no_id \u001b[38;5;241m=\u001b[39m user_profiles_no_id\u001b[38;5;241m.\u001b[39mto_numpy()\n\u001b[0;32m    144\u001b[0m active_user_data \u001b[38;5;241m=\u001b[39m \u001b[38;5;28mlist\u001b[39m(encoded_df\u001b[38;5;241m.\u001b[39mfilter(pl\u001b[38;5;241m.\u001b[39mcol(\u001b[38;5;124m\"\u001b[39m\u001b[38;5;124mfullVisitorId\u001b[39m\u001b[38;5;124m\"\u001b[39m) \u001b[38;5;241m==\u001b[39m \u001b[38;5;124mf\u001b[39m\u001b[38;5;124m\"\u001b[39m\u001b[38;5;132;01m{\u001b[39;00mactive_user\u001b[38;5;132;01m}\u001b[39;00m\u001b[38;5;124m\"\u001b[39m)\u001b[38;5;241m.\u001b[39mrow(\u001b[38;5;241m-\u001b[39m\u001b[38;5;241m1\u001b[39m))[\u001b[38;5;241m1\u001b[39m:]\n\u001b[1;32m--> 145\u001b[0m similarities \u001b[38;5;241m=\u001b[39m \u001b[43mcalculate_similarity\u001b[49m\u001b[43m(\u001b[49m\u001b[43muser_profiles\u001b[49m\u001b[43m,\u001b[49m\u001b[43m \u001b[49m\u001b[43muser_profiles_no_id\u001b[49m\u001b[43m,\u001b[49m\u001b[43m \u001b[49m\u001b[43mactive_user_data\u001b[49m\u001b[43m)\u001b[49m\n\u001b[0;32m    146\u001b[0m sorted_dict \u001b[38;5;241m=\u001b[39m \u001b[38;5;28msorted\u001b[39m(similarities\u001b[38;5;241m.\u001b[39mitems(), key\u001b[38;5;241m=\u001b[39m\u001b[38;5;28;01mlambda\u001b[39;00m x: x[\u001b[38;5;241m1\u001b[39m])\n\u001b[0;32m    147\u001b[0m rec \u001b[38;5;241m=\u001b[39m recommendation(original_df,sorted_dict)\n",
      "File \u001b[1;32mc:\\Users\\andre\\Desktop\\Code\\Data_Science\\recommendation_system\\utils\\preprocessing.py:75\u001b[0m, in \u001b[0;36mcalculate_similarity\u001b[1;34m(user_profiles, user_profiles_no_id, active_user)\u001b[0m\n\u001b[0;32m     73\u001b[0m profile_avg_similarity \u001b[38;5;241m=\u001b[39m {}\n\u001b[0;32m     74\u001b[0m \u001b[38;5;28;01mfor\u001b[39;00m i \u001b[38;5;129;01min\u001b[39;00m \u001b[38;5;28mrange\u001b[39m(\u001b[38;5;241m0\u001b[39m,\u001b[38;5;28mlen\u001b[39m(user_profiles)):\n\u001b[1;32m---> 75\u001b[0m     user_profile_df \u001b[38;5;241m=\u001b[39m \u001b[43mnp\u001b[49m\u001b[38;5;241;43m.\u001b[39;49m\u001b[43mvstack\u001b[49m\u001b[43m(\u001b[49m\u001b[43muser_profiles_no_id\u001b[49m\u001b[43m[\u001b[49m\u001b[43mi\u001b[49m\u001b[43m]\u001b[49m\u001b[43m)\u001b[49m\u001b[38;5;241m.\u001b[39mT\n\u001b[0;32m     76\u001b[0m     avg_similarity \u001b[38;5;241m=\u001b[39m cosine_similarity(user_profile_df, [active_user])\n\u001b[0;32m     77\u001b[0m     avg_similarity \u001b[38;5;241m=\u001b[39m avg_similarity\u001b[38;5;241m.\u001b[39mmean()\n",
      "File \u001b[1;32mc:\\Users\\andre\\AppData\\Local\\Programs\\Python\\Python312\\Lib\\site-packages\\numpy\\core\\shape_base.py:289\u001b[0m, in \u001b[0;36mvstack\u001b[1;34m(tup, dtype, casting)\u001b[0m\n\u001b[0;32m    287\u001b[0m \u001b[38;5;28;01mif\u001b[39;00m \u001b[38;5;129;01mnot\u001b[39;00m \u001b[38;5;28misinstance\u001b[39m(arrs, \u001b[38;5;28mlist\u001b[39m):\n\u001b[0;32m    288\u001b[0m     arrs \u001b[38;5;241m=\u001b[39m [arrs]\n\u001b[1;32m--> 289\u001b[0m \u001b[38;5;28;01mreturn\u001b[39;00m \u001b[43m_nx\u001b[49m\u001b[38;5;241;43m.\u001b[39;49m\u001b[43mconcatenate\u001b[49m\u001b[43m(\u001b[49m\u001b[43marrs\u001b[49m\u001b[43m,\u001b[49m\u001b[43m \u001b[49m\u001b[38;5;241;43m0\u001b[39;49m\u001b[43m,\u001b[49m\u001b[43m \u001b[49m\u001b[43mdtype\u001b[49m\u001b[38;5;241;43m=\u001b[39;49m\u001b[43mdtype\u001b[49m\u001b[43m,\u001b[49m\u001b[43m \u001b[49m\u001b[43mcasting\u001b[49m\u001b[38;5;241;43m=\u001b[39;49m\u001b[43mcasting\u001b[49m\u001b[43m)\u001b[49m\n",
      "\u001b[1;31mKeyboardInterrupt\u001b[0m: "
     ]
    }
   ],
   "source": [
    "recommendation_eval_pipeline(\"2357073894289283929\", user_profiles, encoded_df, entire_data)"
   ]
  },
  {
   "cell_type": "code",
   "execution_count": null,
   "metadata": {},
   "outputs": [],
   "source": [
    "np.savetxt(\"../data/model_accuracy.csv\",all_recs)"
   ]
  },
  {
   "cell_type": "code",
   "execution_count": null,
   "metadata": {},
   "outputs": [],
   "source": [
    "df.write_csv(\"../data/cleaned_google_analytics.csv\")"
   ]
  },
  {
   "cell_type": "code",
   "execution_count": null,
   "metadata": {},
   "outputs": [
    {
     "data": {
      "text/plain": [
       "['Waze', 'Headgear', 'Drinkware', 'Bottles', 'Drinkware']"
      ]
     },
     "execution_count": 84,
     "metadata": {},
     "output_type": "execute_result"
    }
   ],
   "source": [
    "recommendation_pipeline(\"2703137619338184529\", user_profiles, encoded_df, entire_data)"
   ]
  },
  {
   "cell_type": "code",
   "execution_count": null,
   "metadata": {},
   "outputs": [
    {
     "ename": "ComputeError",
     "evalue": "cannot compare string with numeric type (i64)",
     "output_type": "error",
     "traceback": [
      "\u001b[1;31m---------------------------------------------------------------------------\u001b[0m",
      "\u001b[1;31mComputeError\u001b[0m                              Traceback (most recent call last)",
      "Cell \u001b[1;32mIn[13], line 1\u001b[0m\n\u001b[1;32m----> 1\u001b[0m \u001b[43mrecommendation_eval_pipeline\u001b[49m\u001b[43m(\u001b[49m\u001b[38;5;124;43m\"\u001b[39;49m\u001b[38;5;124;43m2703137619338184529\u001b[39;49m\u001b[38;5;124;43m\"\u001b[39;49m\u001b[43m,\u001b[49m\u001b[43m \u001b[49m\u001b[43muser_profiles\u001b[49m\u001b[43m,\u001b[49m\u001b[43m \u001b[49m\u001b[43mencoded_df\u001b[49m\u001b[43m,\u001b[49m\u001b[43m \u001b[49m\u001b[43mentire_data\u001b[49m\u001b[43m)\u001b[49m\n",
      "File \u001b[1;32mc:\\Users\\andre\\Desktop\\Code\\Data_Science\\recommendation_system\\utils\\preprocessing.py:162\u001b[0m, in \u001b[0;36mrecommendation_eval_pipeline\u001b[1;34m(active_user, user_profiles, encoded_df, original_df)\u001b[0m\n\u001b[0;32m    152\u001b[0m \u001b[38;5;28;01mdef\u001b[39;00m \u001b[38;5;21mrecommendation_eval_pipeline\u001b[39m(active_user: \u001b[38;5;28mstr\u001b[39m, user_profiles: pl\u001b[38;5;241m.\u001b[39mDataFrame, \n\u001b[0;32m    153\u001b[0m                                  encoded_df: pl\u001b[38;5;241m.\u001b[39mDataFrame, original_df: pl\u001b[38;5;241m.\u001b[39mDataFrame) \u001b[38;5;241m-\u001b[39m\u001b[38;5;241m>\u001b[39m \u001b[38;5;28mfloat\u001b[39m:\n\u001b[0;32m    154\u001b[0m \u001b[38;5;250m    \u001b[39m\u001b[38;5;124;03m\"\"\"\u001b[39;00m\n\u001b[0;32m    155\u001b[0m \u001b[38;5;124;03m    \u001b[39;00m\n\u001b[0;32m    156\u001b[0m \u001b[38;5;124;03m    Args:\u001b[39;00m\n\u001b[1;32m   (...)\u001b[0m\n\u001b[0;32m    160\u001b[0m \n\u001b[0;32m    161\u001b[0m \u001b[38;5;124;03m    \"\"\"\u001b[39;00m\n\u001b[1;32m--> 162\u001b[0m     actual_bought \u001b[38;5;241m=\u001b[39m \u001b[43moriginal_df\u001b[49m\u001b[38;5;241;43m.\u001b[39;49m\u001b[43mfilter\u001b[49m\u001b[43m(\u001b[49m\u001b[43m(\u001b[49m\u001b[43mpl\u001b[49m\u001b[38;5;241;43m.\u001b[39;49m\u001b[43mcol\u001b[49m\u001b[43m(\u001b[49m\u001b[38;5;124;43m'\u001b[39;49m\u001b[38;5;124;43mfullVisitorId\u001b[39;49m\u001b[38;5;124;43m'\u001b[39;49m\u001b[43m)\u001b[49m\u001b[43m \u001b[49m\u001b[38;5;241;43m==\u001b[39;49m\u001b[43m \u001b[49m\u001b[38;5;124;43mf\u001b[39;49m\u001b[38;5;124;43m\"\u001b[39;49m\u001b[38;5;132;43;01m{\u001b[39;49;00m\u001b[43mactive_user\u001b[49m\u001b[38;5;132;43;01m}\u001b[39;49;00m\u001b[38;5;124;43m\"\u001b[39;49m\u001b[43m)\u001b[49m\u001b[43m \u001b[49m\u001b[38;5;241;43m&\u001b[39;49m\u001b[43m \u001b[49m\u001b[43m(\u001b[49m\u001b[43mpl\u001b[49m\u001b[38;5;241;43m.\u001b[39;49m\u001b[43mcol\u001b[49m\u001b[43m(\u001b[49m\u001b[38;5;124;43m'\u001b[39;49m\u001b[38;5;124;43mtransactionId\u001b[39;49m\u001b[38;5;124;43m'\u001b[39;49m\u001b[43m)\u001b[49m\u001b[43m \u001b[49m\u001b[38;5;241;43m!=\u001b[39;49m\u001b[43m \u001b[49m\u001b[38;5;124;43m'\u001b[39;49m\u001b[38;5;124;43mnull\u001b[39;49m\u001b[38;5;124;43m'\u001b[39;49m\u001b[43m)\u001b[49m\n\u001b[0;32m    163\u001b[0m \u001b[43m                                       \u001b[49m\u001b[43m)\u001b[49m\u001b[38;5;241m.\u001b[39mselect(pl\u001b[38;5;241m.\u001b[39mcol(\u001b[38;5;124m'\u001b[39m\u001b[38;5;124mv2ProductCategory\u001b[39m\u001b[38;5;124m'\u001b[39m))\u001b[38;5;241m.\u001b[39mto_series()\u001b[38;5;241m.\u001b[39mto_list()\n\u001b[0;32m    164\u001b[0m     rec_precision \u001b[38;5;241m=\u001b[39m precision(actual_bought, \n\u001b[0;32m    165\u001b[0m                               recommendation_pipeline(active_user, user_profiles, \n\u001b[0;32m    166\u001b[0m                                                       encoded_df, original_df),\u001b[38;5;241m5\u001b[39m)\n\u001b[0;32m    168\u001b[0m     \u001b[38;5;28;01mreturn\u001b[39;00m rec_precision\n",
      "File \u001b[1;32mc:\\Users\\andre\\AppData\\Local\\Programs\\Python\\Python312\\Lib\\site-packages\\polars\\dataframe\\frame.py:4769\u001b[0m, in \u001b[0;36mDataFrame.filter\u001b[1;34m(self, *predicates, **constraints)\u001b[0m\n\u001b[0;32m   4615\u001b[0m \u001b[38;5;28;01mdef\u001b[39;00m \u001b[38;5;21mfilter\u001b[39m(\n\u001b[0;32m   4616\u001b[0m     \u001b[38;5;28mself\u001b[39m,\n\u001b[0;32m   4617\u001b[0m     \u001b[38;5;241m*\u001b[39mpredicates: (\n\u001b[1;32m   (...)\u001b[0m\n\u001b[0;32m   4624\u001b[0m     \u001b[38;5;241m*\u001b[39m\u001b[38;5;241m*\u001b[39mconstraints: Any,\n\u001b[0;32m   4625\u001b[0m ) \u001b[38;5;241m-\u001b[39m\u001b[38;5;241m>\u001b[39m DataFrame:\n\u001b[0;32m   4626\u001b[0m \u001b[38;5;250m    \u001b[39m\u001b[38;5;124;03m\"\"\"\u001b[39;00m\n\u001b[0;32m   4627\u001b[0m \u001b[38;5;124;03m    Filter the rows in the DataFrame based on one or more predicate expressions.\u001b[39;00m\n\u001b[0;32m   4628\u001b[0m \n\u001b[1;32m   (...)\u001b[0m\n\u001b[0;32m   4767\u001b[0m \n\u001b[0;32m   4768\u001b[0m \u001b[38;5;124;03m    \"\"\"\u001b[39;00m\n\u001b[1;32m-> 4769\u001b[0m     \u001b[38;5;28;01mreturn\u001b[39;00m \u001b[38;5;28;43mself\u001b[39;49m\u001b[38;5;241;43m.\u001b[39;49m\u001b[43mlazy\u001b[49m\u001b[43m(\u001b[49m\u001b[43m)\u001b[49m\u001b[38;5;241;43m.\u001b[39;49m\u001b[43mfilter\u001b[49m\u001b[43m(\u001b[49m\u001b[38;5;241;43m*\u001b[39;49m\u001b[43mpredicates\u001b[49m\u001b[43m,\u001b[49m\u001b[43m \u001b[49m\u001b[38;5;241;43m*\u001b[39;49m\u001b[38;5;241;43m*\u001b[39;49m\u001b[43mconstraints\u001b[49m\u001b[43m)\u001b[49m\u001b[38;5;241;43m.\u001b[39;49m\u001b[43mcollect\u001b[49m\u001b[43m(\u001b[49m\u001b[43m_eager\u001b[49m\u001b[38;5;241;43m=\u001b[39;49m\u001b[38;5;28;43;01mTrue\u001b[39;49;00m\u001b[43m)\u001b[49m\n",
      "File \u001b[1;32mc:\\Users\\andre\\AppData\\Local\\Programs\\Python\\Python312\\Lib\\site-packages\\polars\\lazyframe\\frame.py:2021\u001b[0m, in \u001b[0;36mLazyFrame.collect\u001b[1;34m(self, type_coercion, predicate_pushdown, projection_pushdown, simplify_expression, slice_pushdown, comm_subplan_elim, comm_subexpr_elim, cluster_with_columns, collapse_joins, no_optimization, streaming, engine, background, _eager, **_kwargs)\u001b[0m\n\u001b[0;32m   2019\u001b[0m \u001b[38;5;66;03m# Only for testing purposes\u001b[39;00m\n\u001b[0;32m   2020\u001b[0m callback \u001b[38;5;241m=\u001b[39m _kwargs\u001b[38;5;241m.\u001b[39mget(\u001b[38;5;124m\"\u001b[39m\u001b[38;5;124mpost_opt_callback\u001b[39m\u001b[38;5;124m\"\u001b[39m, callback)\n\u001b[1;32m-> 2021\u001b[0m \u001b[38;5;28;01mreturn\u001b[39;00m wrap_df(\u001b[43mldf\u001b[49m\u001b[38;5;241;43m.\u001b[39;49m\u001b[43mcollect\u001b[49m\u001b[43m(\u001b[49m\u001b[43mcallback\u001b[49m\u001b[43m)\u001b[49m)\n",
      "\u001b[1;31mComputeError\u001b[0m: cannot compare string with numeric type (i64)"
     ]
    }
   ],
   "source": [
    "recommendation_eval_pipeline(\"2703137619338184529\", user_profiles, encoded_df, entire_data)"
   ]
  },
  {
   "cell_type": "markdown",
   "metadata": {},
   "source": [
    "### Data Pre-processing Pipeline"
   ]
  },
  {
   "cell_type": "code",
   "execution_count": null,
   "metadata": {},
   "outputs": [],
   "source": [
    "def preprocessing_pipeline(df: pl.DataFrame) -> pl.DataFrame:\n",
    "    \"\"\"\n",
    "    Args:\n",
    "        df : pl.DataFrame\n",
    "\n",
    "    Returns:\n",
    "        pl.DataFrames: pre-processed dataframe\n",
    "    \"\"\"\n",
    "    df = df.with_columns(pl.col('date').str.strptime(pl.Date, format=\"%Y%m%d\"))\n",
    "    encoded_df = encoding(df)\n",
    "    \n",
    "    user_profiles = encoded_df.group_by(pl.col('fullVisitorId')).agg(\n",
    "        pl.col('country'), pl.col('browser'),\n",
    "        pl.col('transactionId'), pl.col('v2ProductName')\n",
    "    )\n",
    "    user_profiles_no_id = user_profiles.drop('fullVisitorId')\n",
    "    user_profiles_no_id = user_profiles_no_id.to_numpy()\n",
    "    active_users = encoded_df.drop('fullVisitorId')\n",
    "    active_users = active_users.to_numpy()\n",
    "\n",
    "    similarities = calculate_similarity(user_profiles, user_profiles_no_id, active_users)\n",
    "    sorted_dict = sorted(similarities.items(), key=lambda x: x[1])\n",
    "\n",
    "    \n",
    "    df.write_csv(\"../data/cleaned_google_analytics.csv\")\n",
    "    return recommendation(df,sorted_dict) "
   ]
  },
  {
   "cell_type": "code",
   "execution_count": null,
   "metadata": {},
   "outputs": [],
   "source": [
    "# preprocessing_pipeline(df)"
   ]
  },
  {
   "cell_type": "markdown",
   "metadata": {},
   "source": [
    "# Conclusions \n",
    "- "
   ]
  }
 ],
 "metadata": {
  "kernelspec": {
   "display_name": "Python 3",
   "language": "python",
   "name": "python3"
  },
  "language_info": {
   "codemirror_mode": {
    "name": "ipython",
    "version": 3
   },
   "file_extension": ".py",
   "mimetype": "text/x-python",
   "name": "python",
   "nbconvert_exporter": "python",
   "pygments_lexer": "ipython3",
   "version": "3.12.1"
  }
 },
 "nbformat": 4,
 "nbformat_minor": 2
}
