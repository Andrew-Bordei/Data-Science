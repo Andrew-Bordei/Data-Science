{
 "cells": [
  {
   "cell_type": "markdown",
   "metadata": {},
   "source": [
    "# Dataset Cleaning "
   ]
  },
  {
   "cell_type": "markdown",
   "metadata": {},
   "source": [
    "The main objectives of this notebook are: \n",
    "- Import dataset \n",
    "- Get familiar with the data \n",
    "- Determine if there are data quality issues \n",
    "- Resolve any data quality issues "
   ]
  },
  {
   "cell_type": "code",
   "execution_count": 61,
   "metadata": {},
   "outputs": [
    {
     "name": "stdout",
     "output_type": "stream",
     "text": [
      "The autoreload extension is already loaded. To reload it, use:\n",
      "  %reload_ext autoreload\n"
     ]
    }
   ],
   "source": [
    "%load_ext autoreload\n",
    "%autoreload 2"
   ]
  },
  {
   "cell_type": "code",
   "execution_count": 90,
   "metadata": {},
   "outputs": [],
   "source": [
    "import polars as pl \n",
    "from google.cloud import bigquery\n",
    "import numpy as np \n",
    "import sys \n",
    "import os \n",
    "\n",
    "\n",
    "# Manually add path to read from another folder \n",
    "path2add = os.path.normpath(\n",
    "    os.path.abspath(os.path.join(os.path.dirname(\"__file__\"), os.path.pardir, \"utils\"))\n",
    ")\n",
    "if not (path2add in sys.path):\n",
    "    sys.path.append(path2add)\n",
    "\n",
    "from preprocessing import *"
   ]
  },
  {
   "cell_type": "code",
   "execution_count": 91,
   "metadata": {},
   "outputs": [
    {
     "data": {
      "text/plain": [
       "polars.config.Config"
      ]
     },
     "execution_count": 91,
     "metadata": {},
     "output_type": "execute_result"
    }
   ],
   "source": [
    "pl.Config.set_tbl_width_chars(200)"
   ]
  },
  {
   "cell_type": "code",
   "execution_count": 92,
   "metadata": {},
   "outputs": [],
   "source": [
    "# Create client object\n",
    "client = bigquery.Client()"
   ]
  },
  {
   "cell_type": "code",
   "execution_count": 93,
   "metadata": {},
   "outputs": [],
   "source": [
    "QUERY = (\"SELECT `date`, `visitStartTime`, `fullVisitorId`, `geoNetwork`.`subContinent`, `geoNetwork`.`country`,\"\n",
    "        \"`geoNetwork`.`city`,`device`.`browser`, `device`.`operatingSystem`,`device`.`deviceCategory`,\"\n",
    "        \"`trafficSource`.`source`, `h`.`item`.`transactionId`,`hp`.`v2ProductName`,`hp`.`v2ProductCategory` \"\n",
    "        \"FROM `bigquery-public-data.google_analytics_sample.ga_sessions_20170731`, UNNEST(hits) AS h,\"\n",
    "        \"UNNEST(h.product) AS hp;\")"
   ]
  },
  {
   "cell_type": "code",
   "execution_count": 94,
   "metadata": {},
   "outputs": [],
   "source": [
    "run_query = client.query(QUERY)"
   ]
  },
  {
   "cell_type": "code",
   "execution_count": 95,
   "metadata": {},
   "outputs": [],
   "source": [
    "df = pl.from_arrow(run_query.to_arrow())"
   ]
  },
  {
   "cell_type": "code",
   "execution_count": 69,
   "metadata": {},
   "outputs": [
    {
     "data": {
      "text/html": [
       "<div><style>\n",
       ".dataframe > thead > tr,\n",
       ".dataframe > tbody > tr {\n",
       "  text-align: right;\n",
       "  white-space: pre-wrap;\n",
       "}\n",
       "</style>\n",
       "<small>shape: (5, 13)</small><table border=\"1\" class=\"dataframe\"><thead><tr><th>date</th><th>visitStartTime</th><th>fullVisitorId</th><th>subContinent</th><th>country</th><th>city</th><th>browser</th><th>operatingSystem</th><th>deviceCategory</th><th>source</th><th>transactionId</th><th>v2ProductName</th><th>v2ProductCategory</th></tr><tr><td>str</td><td>i64</td><td>str</td><td>str</td><td>str</td><td>str</td><td>str</td><td>str</td><td>str</td><td>str</td><td>str</td><td>str</td><td>str</td></tr></thead><tbody><tr><td>&quot;20170731&quot;</td><td>1501520683</td><td>&quot;2219384770970157334&quot;</td><td>&quot;Eastern Europe&quot;</td><td>&quot;Slovakia&quot;</td><td>&quot;not available in demo dataset&quot;</td><td>&quot;Firefox&quot;</td><td>&quot;Windows&quot;</td><td>&quot;desktop&quot;</td><td>&quot;google&quot;</td><td>null</td><td>&quot;Google Lunch Bag&quot;</td><td>&quot;Home/Bags/More Bags/&quot;</td></tr><tr><td>&quot;20170731&quot;</td><td>1501520683</td><td>&quot;2219384770970157334&quot;</td><td>&quot;Eastern Europe&quot;</td><td>&quot;Slovakia&quot;</td><td>&quot;not available in demo dataset&quot;</td><td>&quot;Firefox&quot;</td><td>&quot;Windows&quot;</td><td>&quot;desktop&quot;</td><td>&quot;google&quot;</td><td>null</td><td>&quot;Electronics Accessory Pouch&quot;</td><td>&quot;Home/Bags/More Bags/&quot;</td></tr><tr><td>&quot;20170731&quot;</td><td>1501520683</td><td>&quot;2219384770970157334&quot;</td><td>&quot;Eastern Europe&quot;</td><td>&quot;Slovakia&quot;</td><td>&quot;not available in demo dataset&quot;</td><td>&quot;Firefox&quot;</td><td>&quot;Windows&quot;</td><td>&quot;desktop&quot;</td><td>&quot;google&quot;</td><td>null</td><td>&quot;Sport Bag&quot;</td><td>&quot;Home/Bags/More Bags/&quot;</td></tr><tr><td>&quot;20170731&quot;</td><td>1501520683</td><td>&quot;2219384770970157334&quot;</td><td>&quot;Eastern Europe&quot;</td><td>&quot;Slovakia&quot;</td><td>&quot;not available in demo dataset&quot;</td><td>&quot;Firefox&quot;</td><td>&quot;Windows&quot;</td><td>&quot;desktop&quot;</td><td>&quot;google&quot;</td><td>null</td><td>&quot;Google Slim Utility Travel Bag&quot;</td><td>&quot;Home/Bags/More Bags/&quot;</td></tr><tr><td>&quot;20170731&quot;</td><td>1501520683</td><td>&quot;2219384770970157334&quot;</td><td>&quot;Eastern Europe&quot;</td><td>&quot;Slovakia&quot;</td><td>&quot;not available in demo dataset&quot;</td><td>&quot;Firefox&quot;</td><td>&quot;Windows&quot;</td><td>&quot;desktop&quot;</td><td>&quot;google&quot;</td><td>null</td><td>&quot;Suitcase Organizer Cubes&quot;</td><td>&quot;Home/Bags/More Bags/&quot;</td></tr></tbody></table></div>"
      ],
      "text/plain": [
       "shape: (5, 13)\n",
       "┌──────────┬────────────────┬─────────────────────┬────────────────┬───┬────────┬───────────────┬────────────────────────────────┬──────────────────────┐\n",
       "│ date     ┆ visitStartTime ┆ fullVisitorId       ┆ subContinent   ┆ … ┆ source ┆ transactionId ┆ v2ProductName                  ┆ v2ProductCategory    │\n",
       "│ ---      ┆ ---            ┆ ---                 ┆ ---            ┆   ┆ ---    ┆ ---           ┆ ---                            ┆ ---                  │\n",
       "│ str      ┆ i64            ┆ str                 ┆ str            ┆   ┆ str    ┆ str           ┆ str                            ┆ str                  │\n",
       "╞══════════╪════════════════╪═════════════════════╪════════════════╪═══╪════════╪═══════════════╪════════════════════════════════╪══════════════════════╡\n",
       "│ 20170731 ┆ 1501520683     ┆ 2219384770970157334 ┆ Eastern Europe ┆ … ┆ google ┆ null          ┆ Google Lunch Bag               ┆ Home/Bags/More Bags/ │\n",
       "│ 20170731 ┆ 1501520683     ┆ 2219384770970157334 ┆ Eastern Europe ┆ … ┆ google ┆ null          ┆ Electronics Accessory Pouch    ┆ Home/Bags/More Bags/ │\n",
       "│ 20170731 ┆ 1501520683     ┆ 2219384770970157334 ┆ Eastern Europe ┆ … ┆ google ┆ null          ┆ Sport Bag                      ┆ Home/Bags/More Bags/ │\n",
       "│ 20170731 ┆ 1501520683     ┆ 2219384770970157334 ┆ Eastern Europe ┆ … ┆ google ┆ null          ┆ Google Slim Utility Travel Bag ┆ Home/Bags/More Bags/ │\n",
       "│ 20170731 ┆ 1501520683     ┆ 2219384770970157334 ┆ Eastern Europe ┆ … ┆ google ┆ null          ┆ Suitcase Organizer Cubes       ┆ Home/Bags/More Bags/ │\n",
       "└──────────┴────────────────┴─────────────────────┴────────────────┴───┴────────┴───────────────┴────────────────────────────────┴──────────────────────┘"
      ]
     },
     "execution_count": 69,
     "metadata": {},
     "output_type": "execute_result"
    }
   ],
   "source": [
    "df.head()"
   ]
  },
  {
   "cell_type": "code",
   "execution_count": 70,
   "metadata": {},
   "outputs": [
    {
     "data": {
      "text/plain": [
       "(49512, 13)"
      ]
     },
     "execution_count": 70,
     "metadata": {},
     "output_type": "execute_result"
    }
   ],
   "source": [
    "df.shape"
   ]
  },
  {
   "cell_type": "code",
   "execution_count": 71,
   "metadata": {},
   "outputs": [
    {
     "data": {
      "text/plain": [
       "['date',\n",
       " 'visitStartTime',\n",
       " 'fullVisitorId',\n",
       " 'subContinent',\n",
       " 'country',\n",
       " 'city',\n",
       " 'browser',\n",
       " 'operatingSystem',\n",
       " 'deviceCategory',\n",
       " 'source',\n",
       " 'transactionId',\n",
       " 'v2ProductName',\n",
       " 'v2ProductCategory']"
      ]
     },
     "execution_count": 71,
     "metadata": {},
     "output_type": "execute_result"
    }
   ],
   "source": [
    "df.columns"
   ]
  },
  {
   "cell_type": "code",
   "execution_count": 72,
   "metadata": {},
   "outputs": [
    {
     "data": {
      "text/html": [
       "<div><style>\n",
       ".dataframe > thead > tr,\n",
       ".dataframe > tbody > tr {\n",
       "  text-align: right;\n",
       "  white-space: pre-wrap;\n",
       "}\n",
       "</style>\n",
       "<small>shape: (1, 13)</small><table border=\"1\" class=\"dataframe\"><thead><tr><th>date</th><th>visitStartTime</th><th>fullVisitorId</th><th>subContinent</th><th>country</th><th>city</th><th>browser</th><th>operatingSystem</th><th>deviceCategory</th><th>source</th><th>transactionId</th><th>v2ProductName</th><th>v2ProductCategory</th></tr><tr><td>str</td><td>i64</td><td>str</td><td>str</td><td>str</td><td>str</td><td>str</td><td>str</td><td>str</td><td>str</td><td>str</td><td>str</td><td>str</td></tr></thead><tbody><tr><td>&quot;20170731&quot;</td><td>1501550646</td><td>&quot;1681975491896946073&quot;</td><td>&quot;Northern America&quot;</td><td>&quot;United States&quot;</td><td>&quot;not available in demo dataset&quot;</td><td>&quot;Chrome&quot;</td><td>&quot;Windows&quot;</td><td>&quot;desktop&quot;</td><td>&quot;google&quot;</td><td>null</td><td>&quot;Google Men&#x27;s Vintage Badge Tee…</td><td>&quot;Home/Apparel/Men&#x27;s/Men&#x27;s-T-Shi…</td></tr></tbody></table></div>"
      ],
      "text/plain": [
       "shape: (1, 13)\n",
       "┌──────────┬────────────────┬─────────────────────┬──────────────────┬───┬────────┬───────────────┬─────────────────────────────────┬─────────────────────────────────┐\n",
       "│ date     ┆ visitStartTime ┆ fullVisitorId       ┆ subContinent     ┆ … ┆ source ┆ transactionId ┆ v2ProductName                   ┆ v2ProductCategory               │\n",
       "│ ---      ┆ ---            ┆ ---                 ┆ ---              ┆   ┆ ---    ┆ ---           ┆ ---                             ┆ ---                             │\n",
       "│ str      ┆ i64            ┆ str                 ┆ str              ┆   ┆ str    ┆ str           ┆ str                             ┆ str                             │\n",
       "╞══════════╪════════════════╪═════════════════════╪══════════════════╪═══╪════════╪═══════════════╪═════════════════════════════════╪═════════════════════════════════╡\n",
       "│ 20170731 ┆ 1501550646     ┆ 1681975491896946073 ┆ Northern America ┆ … ┆ google ┆ null          ┆ Google Men's Vintage Badge Tee… ┆ Home/Apparel/Men's/Men's-T-Shi… │\n",
       "└──────────┴────────────────┴─────────────────────┴──────────────────┴───┴────────┴───────────────┴─────────────────────────────────┴─────────────────────────────────┘"
      ]
     },
     "execution_count": 72,
     "metadata": {},
     "output_type": "execute_result"
    }
   ],
   "source": [
    "df.sample()"
   ]
  },
  {
   "cell_type": "code",
   "execution_count": 73,
   "metadata": {},
   "outputs": [
    {
     "data": {
      "text/html": [
       "<div><style>\n",
       ".dataframe > thead > tr,\n",
       ".dataframe > tbody > tr {\n",
       "  text-align: right;\n",
       "  white-space: pre-wrap;\n",
       "}\n",
       "</style>\n",
       "<small>shape: (9, 14)</small><table border=\"1\" class=\"dataframe\"><thead><tr><th>statistic</th><th>date</th><th>visitStartTime</th><th>fullVisitorId</th><th>subContinent</th><th>country</th><th>city</th><th>browser</th><th>operatingSystem</th><th>deviceCategory</th><th>source</th><th>transactionId</th><th>v2ProductName</th><th>v2ProductCategory</th></tr><tr><td>str</td><td>str</td><td>f64</td><td>str</td><td>str</td><td>str</td><td>str</td><td>str</td><td>str</td><td>str</td><td>str</td><td>str</td><td>str</td><td>str</td></tr></thead><tbody><tr><td>&quot;count&quot;</td><td>&quot;49512&quot;</td><td>49512.0</td><td>&quot;49512&quot;</td><td>&quot;49512&quot;</td><td>&quot;49512&quot;</td><td>&quot;49512&quot;</td><td>&quot;49512&quot;</td><td>&quot;49512&quot;</td><td>&quot;49512&quot;</td><td>&quot;49512&quot;</td><td>&quot;462&quot;</td><td>&quot;49512&quot;</td><td>&quot;49512&quot;</td></tr><tr><td>&quot;null_count&quot;</td><td>&quot;0&quot;</td><td>0.0</td><td>&quot;0&quot;</td><td>&quot;0&quot;</td><td>&quot;0&quot;</td><td>&quot;0&quot;</td><td>&quot;0&quot;</td><td>&quot;0&quot;</td><td>&quot;0&quot;</td><td>&quot;0&quot;</td><td>&quot;49050&quot;</td><td>&quot;0&quot;</td><td>&quot;0&quot;</td></tr><tr><td>&quot;mean&quot;</td><td>null</td><td>1.5015e9</td><td>null</td><td>null</td><td>null</td><td>null</td><td>null</td><td>null</td><td>null</td><td>null</td><td>null</td><td>null</td><td>null</td></tr><tr><td>&quot;std&quot;</td><td>null</td><td>21502.167394</td><td>null</td><td>null</td><td>null</td><td>null</td><td>null</td><td>null</td><td>null</td><td>null</td><td>null</td><td>null</td><td>null</td></tr><tr><td>&quot;min&quot;</td><td>&quot;20170731&quot;</td><td>1.5015e9</td><td>&quot;0002457163364254438&quot;</td><td>&quot;Australasia&quot;</td><td>&quot;Algeria&quot;</td><td>&quot;(not set)&quot;</td><td>&quot;Amazon Silk&quot;</td><td>&quot;(not set)&quot;</td><td>&quot;desktop&quot;</td><td>&quot;(direct)&quot;</td><td>&quot;ORD201707311786&quot;</td><td>&quot;1 oz Hand Sanitizer&quot;</td><td>&quot;${escCatTitle}&quot;</td></tr><tr><td>&quot;25%&quot;</td><td>null</td><td>1.5015e9</td><td>null</td><td>null</td><td>null</td><td>null</td><td>null</td><td>null</td><td>null</td><td>null</td><td>null</td><td>null</td><td>null</td></tr><tr><td>&quot;50%&quot;</td><td>null</td><td>1.5015e9</td><td>null</td><td>null</td><td>null</td><td>null</td><td>null</td><td>null</td><td>null</td><td>null</td><td>null</td><td>null</td><td>null</td></tr><tr><td>&quot;75%&quot;</td><td>null</td><td>1.5015e9</td><td>null</td><td>null</td><td>null</td><td>null</td><td>null</td><td>null</td><td>null</td><td>null</td><td>null</td><td>null</td><td>null</td></tr><tr><td>&quot;max&quot;</td><td>&quot;20170731&quot;</td><td>1.5016e9</td><td>&quot;9997362993085245352&quot;</td><td>&quot;Western Europe&quot;</td><td>&quot;Vietnam&quot;</td><td>&quot;not available in demo dataset&quot;</td><td>&quot;YaBrowser&quot;</td><td>&quot;iOS&quot;</td><td>&quot;tablet&quot;</td><td>&quot;youtube.com&quot;</td><td>&quot;ORD201707312663&quot;</td><td>&quot;YouTube Youth Short Sleeve Tee…</td><td>&quot;Wearables/Men&#x27;s T-Shirts/&quot;</td></tr></tbody></table></div>"
      ],
      "text/plain": [
       "shape: (9, 14)\n",
       "┌────────────┬──────────┬────────────────┬─────────────────────┬───┬─────────────┬─────────────────┬─────────────────────────────────┬───────────────────────────┐\n",
       "│ statistic  ┆ date     ┆ visitStartTime ┆ fullVisitorId       ┆ … ┆ source      ┆ transactionId   ┆ v2ProductName                   ┆ v2ProductCategory         │\n",
       "│ ---        ┆ ---      ┆ ---            ┆ ---                 ┆   ┆ ---         ┆ ---             ┆ ---                             ┆ ---                       │\n",
       "│ str        ┆ str      ┆ f64            ┆ str                 ┆   ┆ str         ┆ str             ┆ str                             ┆ str                       │\n",
       "╞════════════╪══════════╪════════════════╪═════════════════════╪═══╪═════════════╪═════════════════╪═════════════════════════════════╪═══════════════════════════╡\n",
       "│ count      ┆ 49512    ┆ 49512.0        ┆ 49512               ┆ … ┆ 49512       ┆ 462             ┆ 49512                           ┆ 49512                     │\n",
       "│ null_count ┆ 0        ┆ 0.0            ┆ 0                   ┆ … ┆ 0           ┆ 49050           ┆ 0                               ┆ 0                         │\n",
       "│ mean       ┆ null     ┆ 1.5015e9       ┆ null                ┆ … ┆ null        ┆ null            ┆ null                            ┆ null                      │\n",
       "│ std        ┆ null     ┆ 21502.167394   ┆ null                ┆ … ┆ null        ┆ null            ┆ null                            ┆ null                      │\n",
       "│ min        ┆ 20170731 ┆ 1.5015e9       ┆ 0002457163364254438 ┆ … ┆ (direct)    ┆ ORD201707311786 ┆ 1 oz Hand Sanitizer             ┆ ${escCatTitle}            │\n",
       "│ 25%        ┆ null     ┆ 1.5015e9       ┆ null                ┆ … ┆ null        ┆ null            ┆ null                            ┆ null                      │\n",
       "│ 50%        ┆ null     ┆ 1.5015e9       ┆ null                ┆ … ┆ null        ┆ null            ┆ null                            ┆ null                      │\n",
       "│ 75%        ┆ null     ┆ 1.5015e9       ┆ null                ┆ … ┆ null        ┆ null            ┆ null                            ┆ null                      │\n",
       "│ max        ┆ 20170731 ┆ 1.5016e9       ┆ 9997362993085245352 ┆ … ┆ youtube.com ┆ ORD201707312663 ┆ YouTube Youth Short Sleeve Tee… ┆ Wearables/Men's T-Shirts/ │\n",
       "└────────────┴──────────┴────────────────┴─────────────────────┴───┴─────────────┴─────────────────┴─────────────────────────────────┴───────────────────────────┘"
      ]
     },
     "execution_count": 73,
     "metadata": {},
     "output_type": "execute_result"
    }
   ],
   "source": [
    "df.describe()"
   ]
  },
  {
   "cell_type": "code",
   "execution_count": 74,
   "metadata": {},
   "outputs": [
    {
     "data": {
      "text/html": [
       "<div><style>\n",
       ".dataframe > thead > tr,\n",
       ".dataframe > tbody > tr {\n",
       "  text-align: right;\n",
       "  white-space: pre-wrap;\n",
       "}\n",
       "</style>\n",
       "<small>shape: (1, 13)</small><table border=\"1\" class=\"dataframe\"><thead><tr><th>date</th><th>visitStartTime</th><th>fullVisitorId</th><th>subContinent</th><th>country</th><th>city</th><th>browser</th><th>operatingSystem</th><th>deviceCategory</th><th>source</th><th>transactionId</th><th>v2ProductName</th><th>v2ProductCategory</th></tr><tr><td>u32</td><td>u32</td><td>u32</td><td>u32</td><td>u32</td><td>u32</td><td>u32</td><td>u32</td><td>u32</td><td>u32</td><td>u32</td><td>u32</td><td>u32</td></tr></thead><tbody><tr><td>0</td><td>0</td><td>0</td><td>0</td><td>0</td><td>0</td><td>0</td><td>0</td><td>0</td><td>0</td><td>49050</td><td>0</td><td>0</td></tr></tbody></table></div>"
      ],
      "text/plain": [
       "shape: (1, 13)\n",
       "┌──────┬────────────────┬───────────────┬──────────────┬───┬────────┬───────────────┬───────────────┬───────────────────┐\n",
       "│ date ┆ visitStartTime ┆ fullVisitorId ┆ subContinent ┆ … ┆ source ┆ transactionId ┆ v2ProductName ┆ v2ProductCategory │\n",
       "│ ---  ┆ ---            ┆ ---           ┆ ---          ┆   ┆ ---    ┆ ---           ┆ ---           ┆ ---               │\n",
       "│ u32  ┆ u32            ┆ u32           ┆ u32          ┆   ┆ u32    ┆ u32           ┆ u32           ┆ u32               │\n",
       "╞══════╪════════════════╪═══════════════╪══════════════╪═══╪════════╪═══════════════╪═══════════════╪═══════════════════╡\n",
       "│ 0    ┆ 0              ┆ 0             ┆ 0            ┆ … ┆ 0      ┆ 49050         ┆ 0             ┆ 0                 │\n",
       "└──────┴────────────────┴───────────────┴──────────────┴───┴────────┴───────────────┴───────────────┴───────────────────┘"
      ]
     },
     "execution_count": 74,
     "metadata": {},
     "output_type": "execute_result"
    }
   ],
   "source": [
    "df.select(pl.all().is_null().sum())"
   ]
  },
  {
   "cell_type": "code",
   "execution_count": 75,
   "metadata": {},
   "outputs": [
    {
     "data": {
      "text/html": [
       "<div><style>\n",
       ".dataframe > thead > tr,\n",
       ".dataframe > tbody > tr {\n",
       "  text-align: right;\n",
       "  white-space: pre-wrap;\n",
       "}\n",
       "</style>\n",
       "<small>shape: (462, 13)</small><table border=\"1\" class=\"dataframe\"><thead><tr><th>date</th><th>visitStartTime</th><th>fullVisitorId</th><th>subContinent</th><th>country</th><th>city</th><th>browser</th><th>operatingSystem</th><th>deviceCategory</th><th>source</th><th>transactionId</th><th>v2ProductName</th><th>v2ProductCategory</th></tr><tr><td>str</td><td>i64</td><td>str</td><td>str</td><td>str</td><td>str</td><td>str</td><td>str</td><td>str</td><td>str</td><td>str</td><td>str</td><td>str</td></tr></thead><tbody><tr><td>&quot;20170731&quot;</td><td>1501525374</td><td>&quot;186231215995844689&quot;</td><td>&quot;Northern America&quot;</td><td>&quot;United States&quot;</td><td>&quot;Mountain View&quot;</td><td>&quot;Chrome&quot;</td><td>&quot;Macintosh&quot;</td><td>&quot;desktop&quot;</td><td>&quot;(direct)&quot;</td><td>&quot;ORD201707311786&quot;</td><td>&quot;Google Men&#x27;s Bike Short Sleeve…</td><td>&quot;Apparel&quot;</td></tr><tr><td>&quot;20170731&quot;</td><td>1501525374</td><td>&quot;186231215995844689&quot;</td><td>&quot;Northern America&quot;</td><td>&quot;United States&quot;</td><td>&quot;Mountain View&quot;</td><td>&quot;Chrome&quot;</td><td>&quot;Macintosh&quot;</td><td>&quot;desktop&quot;</td><td>&quot;(direct)&quot;</td><td>&quot;ORD201707311786&quot;</td><td>&quot;Google Men&#x27;s Bike Short Sleeve…</td><td>&quot;Apparel&quot;</td></tr><tr><td>&quot;20170731&quot;</td><td>1501549028</td><td>&quot;0345672699449577691&quot;</td><td>&quot;Northern America&quot;</td><td>&quot;United States&quot;</td><td>&quot;Kirkland&quot;</td><td>&quot;Chrome&quot;</td><td>&quot;Chrome OS&quot;</td><td>&quot;desktop&quot;</td><td>&quot;(direct)&quot;</td><td>&quot;ORD201707312107&quot;</td><td>&quot;Google Blackout Cap&quot;</td><td>&quot;Headgear&quot;</td></tr><tr><td>&quot;20170731&quot;</td><td>1501549028</td><td>&quot;0345672699449577691&quot;</td><td>&quot;Northern America&quot;</td><td>&quot;United States&quot;</td><td>&quot;Kirkland&quot;</td><td>&quot;Chrome&quot;</td><td>&quot;Chrome OS&quot;</td><td>&quot;desktop&quot;</td><td>&quot;(direct)&quot;</td><td>&quot;ORD201707312107&quot;</td><td>&quot;Google Women&#x27;s Vintage Hero Te…</td><td>&quot;Apparel&quot;</td></tr><tr><td>&quot;20170731&quot;</td><td>1501549028</td><td>&quot;0345672699449577691&quot;</td><td>&quot;Northern America&quot;</td><td>&quot;United States&quot;</td><td>&quot;Kirkland&quot;</td><td>&quot;Chrome&quot;</td><td>&quot;Chrome OS&quot;</td><td>&quot;desktop&quot;</td><td>&quot;(direct)&quot;</td><td>&quot;ORD201707312107&quot;</td><td>&quot;Google Men&#x27;s Long &amp; Lean Tee C…</td><td>&quot;Apparel&quot;</td></tr><tr><td>&hellip;</td><td>&hellip;</td><td>&hellip;</td><td>&hellip;</td><td>&hellip;</td><td>&hellip;</td><td>&hellip;</td><td>&hellip;</td><td>&hellip;</td><td>&hellip;</td><td>&hellip;</td><td>&hellip;</td><td>&hellip;</td></tr><tr><td>&quot;20170731&quot;</td><td>1501537217</td><td>&quot;7483600664917507409&quot;</td><td>&quot;Northern America&quot;</td><td>&quot;United States&quot;</td><td>&quot;Mountain View&quot;</td><td>&quot;Chrome&quot;</td><td>&quot;Macintosh&quot;</td><td>&quot;desktop&quot;</td><td>&quot;(direct)&quot;</td><td>&quot;ORD201707312663&quot;</td><td>&quot;Google 25 oz Red Stainless Ste…</td><td>&quot;Drinkware&quot;</td></tr><tr><td>&quot;20170731&quot;</td><td>1501537217</td><td>&quot;7483600664917507409&quot;</td><td>&quot;Northern America&quot;</td><td>&quot;United States&quot;</td><td>&quot;Mountain View&quot;</td><td>&quot;Chrome&quot;</td><td>&quot;Macintosh&quot;</td><td>&quot;desktop&quot;</td><td>&quot;(direct)&quot;</td><td>&quot;ORD201707312663&quot;</td><td>&quot;Android 17oz Stainless Steel S…</td><td>&quot;Drinkware&quot;</td></tr><tr><td>&quot;20170731&quot;</td><td>1501537217</td><td>&quot;7483600664917507409&quot;</td><td>&quot;Northern America&quot;</td><td>&quot;United States&quot;</td><td>&quot;Mountain View&quot;</td><td>&quot;Chrome&quot;</td><td>&quot;Macintosh&quot;</td><td>&quot;desktop&quot;</td><td>&quot;(direct)&quot;</td><td>&quot;ORD201707312663&quot;</td><td>&quot;Android Men&#x27;s Short Sleeve Her…</td><td>&quot;Apparel&quot;</td></tr><tr><td>&quot;20170731&quot;</td><td>1501537217</td><td>&quot;7483600664917507409&quot;</td><td>&quot;Northern America&quot;</td><td>&quot;United States&quot;</td><td>&quot;Mountain View&quot;</td><td>&quot;Chrome&quot;</td><td>&quot;Macintosh&quot;</td><td>&quot;desktop&quot;</td><td>&quot;(direct)&quot;</td><td>&quot;ORD201707312663&quot;</td><td>&quot;Android Men&#x27;s Take Charge Shor…</td><td>&quot;Apparel&quot;</td></tr><tr><td>&quot;20170731&quot;</td><td>1501537217</td><td>&quot;7483600664917507409&quot;</td><td>&quot;Northern America&quot;</td><td>&quot;United States&quot;</td><td>&quot;Mountain View&quot;</td><td>&quot;Chrome&quot;</td><td>&quot;Macintosh&quot;</td><td>&quot;desktop&quot;</td><td>&quot;(direct)&quot;</td><td>&quot;ORD201707312663&quot;</td><td>&quot;Google Women&#x27;s Scoop Neck Tee …</td><td>&quot;Apparel&quot;</td></tr></tbody></table></div>"
      ],
      "text/plain": [
       "shape: (462, 13)\n",
       "┌──────────┬────────────────┬─────────────────────┬──────────────────┬───┬──────────┬─────────────────┬─────────────────────────────────┬───────────────────┐\n",
       "│ date     ┆ visitStartTime ┆ fullVisitorId       ┆ subContinent     ┆ … ┆ source   ┆ transactionId   ┆ v2ProductName                   ┆ v2ProductCategory │\n",
       "│ ---      ┆ ---            ┆ ---                 ┆ ---              ┆   ┆ ---      ┆ ---             ┆ ---                             ┆ ---               │\n",
       "│ str      ┆ i64            ┆ str                 ┆ str              ┆   ┆ str      ┆ str             ┆ str                             ┆ str               │\n",
       "╞══════════╪════════════════╪═════════════════════╪══════════════════╪═══╪══════════╪═════════════════╪═════════════════════════════════╪═══════════════════╡\n",
       "│ 20170731 ┆ 1501525374     ┆ 186231215995844689  ┆ Northern America ┆ … ┆ (direct) ┆ ORD201707311786 ┆ Google Men's Bike Short Sleeve… ┆ Apparel           │\n",
       "│ 20170731 ┆ 1501525374     ┆ 186231215995844689  ┆ Northern America ┆ … ┆ (direct) ┆ ORD201707311786 ┆ Google Men's Bike Short Sleeve… ┆ Apparel           │\n",
       "│ 20170731 ┆ 1501549028     ┆ 0345672699449577691 ┆ Northern America ┆ … ┆ (direct) ┆ ORD201707312107 ┆ Google Blackout Cap             ┆ Headgear          │\n",
       "│ 20170731 ┆ 1501549028     ┆ 0345672699449577691 ┆ Northern America ┆ … ┆ (direct) ┆ ORD201707312107 ┆ Google Women's Vintage Hero Te… ┆ Apparel           │\n",
       "│ 20170731 ┆ 1501549028     ┆ 0345672699449577691 ┆ Northern America ┆ … ┆ (direct) ┆ ORD201707312107 ┆ Google Men's Long & Lean Tee C… ┆ Apparel           │\n",
       "│ …        ┆ …              ┆ …                   ┆ …                ┆ … ┆ …        ┆ …               ┆ …                               ┆ …                 │\n",
       "│ 20170731 ┆ 1501537217     ┆ 7483600664917507409 ┆ Northern America ┆ … ┆ (direct) ┆ ORD201707312663 ┆ Google 25 oz Red Stainless Ste… ┆ Drinkware         │\n",
       "│ 20170731 ┆ 1501537217     ┆ 7483600664917507409 ┆ Northern America ┆ … ┆ (direct) ┆ ORD201707312663 ┆ Android 17oz Stainless Steel S… ┆ Drinkware         │\n",
       "│ 20170731 ┆ 1501537217     ┆ 7483600664917507409 ┆ Northern America ┆ … ┆ (direct) ┆ ORD201707312663 ┆ Android Men's Short Sleeve Her… ┆ Apparel           │\n",
       "│ 20170731 ┆ 1501537217     ┆ 7483600664917507409 ┆ Northern America ┆ … ┆ (direct) ┆ ORD201707312663 ┆ Android Men's Take Charge Shor… ┆ Apparel           │\n",
       "│ 20170731 ┆ 1501537217     ┆ 7483600664917507409 ┆ Northern America ┆ … ┆ (direct) ┆ ORD201707312663 ┆ Google Women's Scoop Neck Tee … ┆ Apparel           │\n",
       "└──────────┴────────────────┴─────────────────────┴──────────────────┴───┴──────────┴─────────────────┴─────────────────────────────────┴───────────────────┘"
      ]
     },
     "execution_count": 75,
     "metadata": {},
     "output_type": "execute_result"
    }
   ],
   "source": [
    "df.filter(pl.col('transactionId') != 'null')"
   ]
  },
  {
   "cell_type": "code",
   "execution_count": 76,
   "metadata": {},
   "outputs": [
    {
     "data": {
      "text/html": [
       "<div><style>\n",
       ".dataframe > thead > tr,\n",
       ".dataframe > tbody > tr {\n",
       "  text-align: right;\n",
       "  white-space: pre-wrap;\n",
       "}\n",
       "</style>\n",
       "<small>shape: (5, 13)</small><table border=\"1\" class=\"dataframe\"><thead><tr><th>date</th><th>visitStartTime</th><th>fullVisitorId</th><th>subContinent</th><th>country</th><th>city</th><th>browser</th><th>operatingSystem</th><th>deviceCategory</th><th>source</th><th>transactionId</th><th>v2ProductName</th><th>v2ProductCategory</th></tr><tr><td>date</td><td>i64</td><td>str</td><td>str</td><td>str</td><td>str</td><td>str</td><td>str</td><td>str</td><td>str</td><td>str</td><td>str</td><td>str</td></tr></thead><tbody><tr><td>2017-07-31</td><td>1501520683</td><td>&quot;2219384770970157334&quot;</td><td>&quot;Eastern Europe&quot;</td><td>&quot;Slovakia&quot;</td><td>&quot;not available in demo dataset&quot;</td><td>&quot;Firefox&quot;</td><td>&quot;Windows&quot;</td><td>&quot;desktop&quot;</td><td>&quot;google&quot;</td><td>null</td><td>&quot;Google Lunch Bag&quot;</td><td>&quot;Home/Bags/More Bags/&quot;</td></tr><tr><td>2017-07-31</td><td>1501520683</td><td>&quot;2219384770970157334&quot;</td><td>&quot;Eastern Europe&quot;</td><td>&quot;Slovakia&quot;</td><td>&quot;not available in demo dataset&quot;</td><td>&quot;Firefox&quot;</td><td>&quot;Windows&quot;</td><td>&quot;desktop&quot;</td><td>&quot;google&quot;</td><td>null</td><td>&quot;Electronics Accessory Pouch&quot;</td><td>&quot;Home/Bags/More Bags/&quot;</td></tr><tr><td>2017-07-31</td><td>1501520683</td><td>&quot;2219384770970157334&quot;</td><td>&quot;Eastern Europe&quot;</td><td>&quot;Slovakia&quot;</td><td>&quot;not available in demo dataset&quot;</td><td>&quot;Firefox&quot;</td><td>&quot;Windows&quot;</td><td>&quot;desktop&quot;</td><td>&quot;google&quot;</td><td>null</td><td>&quot;Sport Bag&quot;</td><td>&quot;Home/Bags/More Bags/&quot;</td></tr><tr><td>2017-07-31</td><td>1501520683</td><td>&quot;2219384770970157334&quot;</td><td>&quot;Eastern Europe&quot;</td><td>&quot;Slovakia&quot;</td><td>&quot;not available in demo dataset&quot;</td><td>&quot;Firefox&quot;</td><td>&quot;Windows&quot;</td><td>&quot;desktop&quot;</td><td>&quot;google&quot;</td><td>null</td><td>&quot;Google Slim Utility Travel Bag&quot;</td><td>&quot;Home/Bags/More Bags/&quot;</td></tr><tr><td>2017-07-31</td><td>1501520683</td><td>&quot;2219384770970157334&quot;</td><td>&quot;Eastern Europe&quot;</td><td>&quot;Slovakia&quot;</td><td>&quot;not available in demo dataset&quot;</td><td>&quot;Firefox&quot;</td><td>&quot;Windows&quot;</td><td>&quot;desktop&quot;</td><td>&quot;google&quot;</td><td>null</td><td>&quot;Suitcase Organizer Cubes&quot;</td><td>&quot;Home/Bags/More Bags/&quot;</td></tr></tbody></table></div>"
      ],
      "text/plain": [
       "shape: (5, 13)\n",
       "┌────────────┬────────────────┬─────────────────────┬────────────────┬───┬────────┬───────────────┬────────────────────────────────┬──────────────────────┐\n",
       "│ date       ┆ visitStartTime ┆ fullVisitorId       ┆ subContinent   ┆ … ┆ source ┆ transactionId ┆ v2ProductName                  ┆ v2ProductCategory    │\n",
       "│ ---        ┆ ---            ┆ ---                 ┆ ---            ┆   ┆ ---    ┆ ---           ┆ ---                            ┆ ---                  │\n",
       "│ date       ┆ i64            ┆ str                 ┆ str            ┆   ┆ str    ┆ str           ┆ str                            ┆ str                  │\n",
       "╞════════════╪════════════════╪═════════════════════╪════════════════╪═══╪════════╪═══════════════╪════════════════════════════════╪══════════════════════╡\n",
       "│ 2017-07-31 ┆ 1501520683     ┆ 2219384770970157334 ┆ Eastern Europe ┆ … ┆ google ┆ null          ┆ Google Lunch Bag               ┆ Home/Bags/More Bags/ │\n",
       "│ 2017-07-31 ┆ 1501520683     ┆ 2219384770970157334 ┆ Eastern Europe ┆ … ┆ google ┆ null          ┆ Electronics Accessory Pouch    ┆ Home/Bags/More Bags/ │\n",
       "│ 2017-07-31 ┆ 1501520683     ┆ 2219384770970157334 ┆ Eastern Europe ┆ … ┆ google ┆ null          ┆ Sport Bag                      ┆ Home/Bags/More Bags/ │\n",
       "│ 2017-07-31 ┆ 1501520683     ┆ 2219384770970157334 ┆ Eastern Europe ┆ … ┆ google ┆ null          ┆ Google Slim Utility Travel Bag ┆ Home/Bags/More Bags/ │\n",
       "│ 2017-07-31 ┆ 1501520683     ┆ 2219384770970157334 ┆ Eastern Europe ┆ … ┆ google ┆ null          ┆ Suitcase Organizer Cubes       ┆ Home/Bags/More Bags/ │\n",
       "└────────────┴────────────────┴─────────────────────┴────────────────┴───┴────────┴───────────────┴────────────────────────────────┴──────────────────────┘"
      ]
     },
     "execution_count": 76,
     "metadata": {},
     "output_type": "execute_result"
    }
   ],
   "source": [
    "df_cleaned = df.with_columns(pl.col('date').str.strptime(pl.Date, format=\"%Y%m%d\"))\n",
    "df_cleaned.head()"
   ]
  },
  {
   "cell_type": "code",
   "execution_count": 77,
   "metadata": {},
   "outputs": [],
   "source": [
    "df = df.filter(~pl.col('v2ProductCategory').str.contains('origCatName'))"
   ]
  },
  {
   "cell_type": "code",
   "execution_count": 87,
   "metadata": {},
   "outputs": [],
   "source": [
    "df.write_csv('../data/data.csv')"
   ]
  },
  {
   "cell_type": "markdown",
   "metadata": {},
   "source": [
    "# Encoding the df"
   ]
  },
  {
   "cell_type": "code",
   "execution_count": 78,
   "metadata": {},
   "outputs": [
    {
     "data": {
      "text/html": [
       "<div><style>\n",
       ".dataframe > thead > tr,\n",
       ".dataframe > tbody > tr {\n",
       "  text-align: right;\n",
       "  white-space: pre-wrap;\n",
       "}\n",
       "</style>\n",
       "<small>shape: (49_441, 9)</small><table border=\"1\" class=\"dataframe\"><thead><tr><th>fullVisitorId</th><th>country</th><th>city</th><th>browser</th><th>operatingSystem</th><th>deviceCategory</th><th>source</th><th>transactionId</th><th>v2ProductCategory</th></tr><tr><td>str</td><td>f64</td><td>f64</td><td>f64</td><td>f64</td><td>f64</td><td>f64</td><td>i32</td><td>f64</td></tr></thead><tbody><tr><td>&quot;2219384770970157334&quot;</td><td>0.0</td><td>0.005886</td><td>0.001795</td><td>0.00545</td><td>0.01104</td><td>0.003369</td><td>0</td><td>0.0</td></tr><tr><td>&quot;2219384770970157334&quot;</td><td>0.0</td><td>0.005886</td><td>0.001795</td><td>0.00545</td><td>0.01104</td><td>0.003369</td><td>0</td><td>0.0</td></tr><tr><td>&quot;2219384770970157334&quot;</td><td>0.0</td><td>0.005886</td><td>0.001795</td><td>0.00545</td><td>0.01104</td><td>0.003369</td><td>0</td><td>0.0</td></tr><tr><td>&quot;2219384770970157334&quot;</td><td>0.0</td><td>0.005886</td><td>0.001795</td><td>0.00545</td><td>0.01104</td><td>0.003369</td><td>0</td><td>0.0</td></tr><tr><td>&quot;2219384770970157334&quot;</td><td>0.0</td><td>0.005886</td><td>0.001795</td><td>0.00545</td><td>0.01104</td><td>0.003369</td><td>0</td><td>0.0</td></tr><tr><td>&hellip;</td><td>&hellip;</td><td>&hellip;</td><td>&hellip;</td><td>&hellip;</td><td>&hellip;</td><td>&hellip;</td><td>&hellip;</td><td>&hellip;</td></tr><tr><td>&quot;7483600664917507409&quot;</td><td>0.013646</td><td>0.012644</td><td>0.011229</td><td>0.016248</td><td>0.01104</td><td>0.019489</td><td>1</td><td>0.254777</td></tr><tr><td>&quot;7483600664917507409&quot;</td><td>0.013646</td><td>0.012644</td><td>0.011229</td><td>0.016248</td><td>0.01104</td><td>0.019489</td><td>1</td><td>0.262</td></tr><tr><td>&quot;7483600664917507409&quot;</td><td>0.013646</td><td>0.012644</td><td>0.011229</td><td>0.016248</td><td>0.01104</td><td>0.019489</td><td>1</td><td>0.262</td></tr><tr><td>&quot;7483600664917507409&quot;</td><td>0.013646</td><td>0.012644</td><td>0.011229</td><td>0.016248</td><td>0.01104</td><td>0.019489</td><td>1</td><td>0.262</td></tr><tr><td>&quot;7483600664917507409&quot;</td><td>0.013646</td><td>0.012644</td><td>0.011229</td><td>0.016248</td><td>0.01104</td><td>0.019489</td><td>0</td><td>0.0</td></tr></tbody></table></div>"
      ],
      "text/plain": [
       "shape: (49_441, 9)\n",
       "┌─────────────────────┬──────────┬──────────┬──────────┬───┬────────────────┬──────────┬───────────────┬───────────────────┐\n",
       "│ fullVisitorId       ┆ country  ┆ city     ┆ browser  ┆ … ┆ deviceCategory ┆ source   ┆ transactionId ┆ v2ProductCategory │\n",
       "│ ---                 ┆ ---      ┆ ---      ┆ ---      ┆   ┆ ---            ┆ ---      ┆ ---           ┆ ---               │\n",
       "│ str                 ┆ f64      ┆ f64      ┆ f64      ┆   ┆ f64            ┆ f64      ┆ i32           ┆ f64               │\n",
       "╞═════════════════════╪══════════╪══════════╪══════════╪═══╪════════════════╪══════════╪═══════════════╪═══════════════════╡\n",
       "│ 2219384770970157334 ┆ 0.0      ┆ 0.005886 ┆ 0.001795 ┆ … ┆ 0.01104        ┆ 0.003369 ┆ 0             ┆ 0.0               │\n",
       "│ 2219384770970157334 ┆ 0.0      ┆ 0.005886 ┆ 0.001795 ┆ … ┆ 0.01104        ┆ 0.003369 ┆ 0             ┆ 0.0               │\n",
       "│ 2219384770970157334 ┆ 0.0      ┆ 0.005886 ┆ 0.001795 ┆ … ┆ 0.01104        ┆ 0.003369 ┆ 0             ┆ 0.0               │\n",
       "│ 2219384770970157334 ┆ 0.0      ┆ 0.005886 ┆ 0.001795 ┆ … ┆ 0.01104        ┆ 0.003369 ┆ 0             ┆ 0.0               │\n",
       "│ 2219384770970157334 ┆ 0.0      ┆ 0.005886 ┆ 0.001795 ┆ … ┆ 0.01104        ┆ 0.003369 ┆ 0             ┆ 0.0               │\n",
       "│ …                   ┆ …        ┆ …        ┆ …        ┆ … ┆ …              ┆ …        ┆ …             ┆ …                 │\n",
       "│ 7483600664917507409 ┆ 0.013646 ┆ 0.012644 ┆ 0.011229 ┆ … ┆ 0.01104        ┆ 0.019489 ┆ 1             ┆ 0.254777          │\n",
       "│ 7483600664917507409 ┆ 0.013646 ┆ 0.012644 ┆ 0.011229 ┆ … ┆ 0.01104        ┆ 0.019489 ┆ 1             ┆ 0.262             │\n",
       "│ 7483600664917507409 ┆ 0.013646 ┆ 0.012644 ┆ 0.011229 ┆ … ┆ 0.01104        ┆ 0.019489 ┆ 1             ┆ 0.262             │\n",
       "│ 7483600664917507409 ┆ 0.013646 ┆ 0.012644 ┆ 0.011229 ┆ … ┆ 0.01104        ┆ 0.019489 ┆ 1             ┆ 0.262             │\n",
       "│ 7483600664917507409 ┆ 0.013646 ┆ 0.012644 ┆ 0.011229 ┆ … ┆ 0.01104        ┆ 0.019489 ┆ 0             ┆ 0.0               │\n",
       "└─────────────────────┴──────────┴──────────┴──────────┴───┴────────────────┴──────────┴───────────────┴───────────────────┘"
      ]
     },
     "execution_count": 78,
     "metadata": {},
     "output_type": "execute_result"
    }
   ],
   "source": [
    "encoded_df = target_encoding(df)\n",
    "encoded_df.write_csv('../data/encoded_df.csv')\n",
    "encoded_df"
   ]
  },
  {
   "cell_type": "code",
   "execution_count": 79,
   "metadata": {},
   "outputs": [],
   "source": [
    "# encoded_df = label_encoding(df)\n",
    "# encoded_df"
   ]
  },
  {
   "cell_type": "code",
   "execution_count": null,
   "metadata": {},
   "outputs": [
    {
     "data": {
      "text/html": [
       "<div><style>\n",
       ".dataframe > thead > tr,\n",
       ".dataframe > tbody > tr {\n",
       "  text-align: right;\n",
       "  white-space: pre-wrap;\n",
       "}\n",
       "</style>\n",
       "<small>shape: (1_641, 9)</small><table border=\"1\" class=\"dataframe\"><thead><tr><th>fullVisitorId</th><th>country</th><th>city</th><th>browser</th><th>operatingSystem</th><th>deviceCategory</th><th>source</th><th>transactionId</th><th>v2ProductCategory</th></tr><tr><td>str</td><td>list[f64]</td><td>list[f64]</td><td>list[f64]</td><td>list[f64]</td><td>list[f64]</td><td>list[f64]</td><td>list[i32]</td><td>list[f64]</td></tr></thead><tbody><tr><td>&quot;5683129422872914929&quot;</td><td>[0.013646, 0.013646, … 0.013646]</td><td>[0.005886, 0.005886, … 0.005886]</td><td>[0.011229, 0.011229, … 0.011229]</td><td>[0.016248, 0.016248, … 0.016248]</td><td>[0.01104, 0.01104, … 0.01104]</td><td>[0.019489, 0.019489, … 0.019489]</td><td>[0, 0, … 0]</td><td>[0.0, 0.0, … 0.0]</td></tr><tr><td>&quot;0996099586204064564&quot;</td><td>[0.013646, 0.013646, … 0.013646]</td><td>[0.005886, 0.005886, … 0.005886]</td><td>[0.003759, 0.003759, … 0.003759]</td><td>[0.00545, 0.00545, … 0.00545]</td><td>[0.01104, 0.01104, … 0.01104]</td><td>[0.003369, 0.003369, … 0.003369]</td><td>[0, 0, … 0]</td><td>[0.0, 0.0, … 0.0]</td></tr><tr><td>&quot;3094733780828697908&quot;</td><td>[0.0, 0.0, … 0.0]</td><td>[0.005886, 0.005886, … 0.005886]</td><td>[0.000797, 0.000797, … 0.000797]</td><td>[0.016248, 0.016248, … 0.016248]</td><td>[0.01104, 0.01104, … 0.01104]</td><td>[0.003369, 0.003369, … 0.003369]</td><td>[0, 0, … 0]</td><td>[0.0, 0.0, … 0.0]</td></tr><tr><td>&quot;8568947535596419848&quot;</td><td>[0.013646, 0.013646, … 0.013646]</td><td>[0.001715, 0.001715, … 0.001715]</td><td>[0.011229, 0.011229, … 0.011229]</td><td>[0.00545, 0.00545, … 0.00545]</td><td>[0.01104, 0.01104, … 0.01104]</td><td>[0.003369, 0.003369, … 0.003369]</td><td>[0, 0, … 0]</td><td>[0.0, 0.0, … 0.0]</td></tr><tr><td>&quot;9975858819833819527&quot;</td><td>[0.0, 0.0, … 0.0]</td><td>[0.005886, 0.005886, … 0.005886]</td><td>[0.011229, 0.011229, … 0.011229]</td><td>[0.00545, 0.00545, … 0.00545]</td><td>[0.01104, 0.01104, … 0.01104]</td><td>[0.003369, 0.003369, … 0.003369]</td><td>[0, 0, … 0]</td><td>[0.0, 0.0, … 0.0]</td></tr><tr><td>&hellip;</td><td>&hellip;</td><td>&hellip;</td><td>&hellip;</td><td>&hellip;</td><td>&hellip;</td><td>&hellip;</td><td>&hellip;</td><td>&hellip;</td></tr><tr><td>&quot;2981325201816358942&quot;</td><td>[0.013646, 0.013646, … 0.013646]</td><td>[0.005886, 0.005886, … 0.005886]</td><td>[0.011229, 0.011229, … 0.011229]</td><td>[0.00545, 0.00545, … 0.00545]</td><td>[0.01104, 0.01104, … 0.01104]</td><td>[0.003369, 0.003369, … 0.003369]</td><td>[0, 0, … 1]</td><td>[0.0, 0.0, … 0.25]</td></tr><tr><td>&quot;563473372515552520&quot;</td><td>[0.0, 0.0, … 0.0]</td><td>[0.0, 0.0, … 0.0]</td><td>[0.000797, 0.000797, … 0.000797]</td><td>[0.016248, 0.016248, … 0.016248]</td><td>[0.01104, 0.01104, … 0.01104]</td><td>[0.019489, 0.019489, … 0.019489]</td><td>[0, 0, … 0]</td><td>[0.0, 0.0, … 0.0]</td></tr><tr><td>&quot;574914352744840877&quot;</td><td>[0.0, 0.0, … 0.0]</td><td>[0.005886, 0.005886, … 0.005886]</td><td>[0.000797, 0.000797, … 0.000797]</td><td>[0.000566, 0.000566, … 0.000566]</td><td>[0.003792, 0.003792, … 0.003792]</td><td>[0.003369, 0.003369, … 0.003369]</td><td>[0, 0, … 0]</td><td>[0.0, 0.0, … 0.0]</td></tr><tr><td>&quot;2257994473064423615&quot;</td><td>[0.013646, 0.013646, … 0.013646]</td><td>[0.012644, 0.012644, … 0.012644]</td><td>[0.011229, 0.011229, … 0.011229]</td><td>[0.016248, 0.016248, … 0.016248]</td><td>[0.01104, 0.01104, … 0.01104]</td><td>[0.019489, 0.019489, … 0.019489]</td><td>[0, 0, … 0]</td><td>[0.0, 0.0, … 0.0]</td></tr><tr><td>&quot;9530536315613357862&quot;</td><td>[0.013646, 0.013646, … 0.013646]</td><td>[0.005886, 0.005886, … 0.005886]</td><td>[0.011229, 0.011229, … 0.011229]</td><td>[0.016248, 0.016248, … 0.016248]</td><td>[0.01104, 0.01104, … 0.01104]</td><td>[0.019489, 0.019489, … 0.019489]</td><td>[0, 0, … 0]</td><td>[0.0, 0.0, … 0.0]</td></tr></tbody></table></div>"
      ],
      "text/plain": [
       "shape: (1_641, 9)\n",
       "┌─────────────────────┬───────────────────────────┬──────────────────────────┬──────────────────────────┬───┬──────────────────────────┬──────────────────────────┬───────────────┬────────────────────┐\n",
       "│ fullVisitorId       ┆ country                   ┆ city                     ┆ browser                  ┆ … ┆ deviceCategory           ┆ source                   ┆ transactionId ┆ v2ProductCategory  │\n",
       "│ ---                 ┆ ---                       ┆ ---                      ┆ ---                      ┆   ┆ ---                      ┆ ---                      ┆ ---           ┆ ---                │\n",
       "│ str                 ┆ list[f64]                 ┆ list[f64]                ┆ list[f64]                ┆   ┆ list[f64]                ┆ list[f64]                ┆ list[i32]     ┆ list[f64]          │\n",
       "╞═════════════════════╪═══════════════════════════╪══════════════════════════╪══════════════════════════╪═══╪══════════════════════════╪══════════════════════════╪═══════════════╪════════════════════╡\n",
       "│ 5683129422872914929 ┆ [0.013646, 0.013646, …    ┆ [0.005886, 0.005886, …   ┆ [0.011229, 0.011229, …   ┆ … ┆ [0.01104, 0.01104, …     ┆ [0.019489, 0.019489, …   ┆ [0, 0, … 0]   ┆ [0.0, 0.0, … 0.0]  │\n",
       "│                     ┆ 0.01364…                  ┆ 0.00588…                 ┆ 0.01122…                 ┆   ┆ 0.01104]                 ┆ 0.01948…                 ┆               ┆                    │\n",
       "│ 0996099586204064564 ┆ [0.013646, 0.013646, …    ┆ [0.005886, 0.005886, …   ┆ [0.003759, 0.003759, …   ┆ … ┆ [0.01104, 0.01104, …     ┆ [0.003369, 0.003369, …   ┆ [0, 0, … 0]   ┆ [0.0, 0.0, … 0.0]  │\n",
       "│                     ┆ 0.01364…                  ┆ 0.00588…                 ┆ 0.00375…                 ┆   ┆ 0.01104]                 ┆ 0.00336…                 ┆               ┆                    │\n",
       "│ 3094733780828697908 ┆ [0.0, 0.0, … 0.0]         ┆ [0.005886, 0.005886, …   ┆ [0.000797, 0.000797, …   ┆ … ┆ [0.01104, 0.01104, …     ┆ [0.003369, 0.003369, …   ┆ [0, 0, … 0]   ┆ [0.0, 0.0, … 0.0]  │\n",
       "│                     ┆                           ┆ 0.00588…                 ┆ 0.00079…                 ┆   ┆ 0.01104]                 ┆ 0.00336…                 ┆               ┆                    │\n",
       "│ 8568947535596419848 ┆ [0.013646, 0.013646, …    ┆ [0.001715, 0.001715, …   ┆ [0.011229, 0.011229, …   ┆ … ┆ [0.01104, 0.01104, …     ┆ [0.003369, 0.003369, …   ┆ [0, 0, … 0]   ┆ [0.0, 0.0, … 0.0]  │\n",
       "│                     ┆ 0.01364…                  ┆ 0.00171…                 ┆ 0.01122…                 ┆   ┆ 0.01104]                 ┆ 0.00336…                 ┆               ┆                    │\n",
       "│ 9975858819833819527 ┆ [0.0, 0.0, … 0.0]         ┆ [0.005886, 0.005886, …   ┆ [0.011229, 0.011229, …   ┆ … ┆ [0.01104, 0.01104, …     ┆ [0.003369, 0.003369, …   ┆ [0, 0, … 0]   ┆ [0.0, 0.0, … 0.0]  │\n",
       "│                     ┆                           ┆ 0.00588…                 ┆ 0.01122…                 ┆   ┆ 0.01104]                 ┆ 0.00336…                 ┆               ┆                    │\n",
       "│ …                   ┆ …                         ┆ …                        ┆ …                        ┆ … ┆ …                        ┆ …                        ┆ …             ┆ …                  │\n",
       "│ 2981325201816358942 ┆ [0.013646, 0.013646, …    ┆ [0.005886, 0.005886, …   ┆ [0.011229, 0.011229, …   ┆ … ┆ [0.01104, 0.01104, …     ┆ [0.003369, 0.003369, …   ┆ [0, 0, … 1]   ┆ [0.0, 0.0, … 0.25] │\n",
       "│                     ┆ 0.01364…                  ┆ 0.00588…                 ┆ 0.01122…                 ┆   ┆ 0.01104]                 ┆ 0.00336…                 ┆               ┆                    │\n",
       "│ 563473372515552520  ┆ [0.0, 0.0, … 0.0]         ┆ [0.0, 0.0, … 0.0]        ┆ [0.000797, 0.000797, …   ┆ … ┆ [0.01104, 0.01104, …     ┆ [0.019489, 0.019489, …   ┆ [0, 0, … 0]   ┆ [0.0, 0.0, … 0.0]  │\n",
       "│                     ┆                           ┆                          ┆ 0.00079…                 ┆   ┆ 0.01104]                 ┆ 0.01948…                 ┆               ┆                    │\n",
       "│ 574914352744840877  ┆ [0.0, 0.0, … 0.0]         ┆ [0.005886, 0.005886, …   ┆ [0.000797, 0.000797, …   ┆ … ┆ [0.003792, 0.003792, …   ┆ [0.003369, 0.003369, …   ┆ [0, 0, … 0]   ┆ [0.0, 0.0, … 0.0]  │\n",
       "│                     ┆                           ┆ 0.00588…                 ┆ 0.00079…                 ┆   ┆ 0.00379…                 ┆ 0.00336…                 ┆               ┆                    │\n",
       "│ 2257994473064423615 ┆ [0.013646, 0.013646, …    ┆ [0.012644, 0.012644, …   ┆ [0.011229, 0.011229, …   ┆ … ┆ [0.01104, 0.01104, …     ┆ [0.019489, 0.019489, …   ┆ [0, 0, … 0]   ┆ [0.0, 0.0, … 0.0]  │\n",
       "│                     ┆ 0.01364…                  ┆ 0.01264…                 ┆ 0.01122…                 ┆   ┆ 0.01104]                 ┆ 0.01948…                 ┆               ┆                    │\n",
       "│ 9530536315613357862 ┆ [0.013646, 0.013646, …    ┆ [0.005886, 0.005886, …   ┆ [0.011229, 0.011229, …   ┆ … ┆ [0.01104, 0.01104, …     ┆ [0.019489, 0.019489, …   ┆ [0, 0, … 0]   ┆ [0.0, 0.0, … 0.0]  │\n",
       "│                     ┆ 0.01364…                  ┆ 0.00588…                 ┆ 0.01122…                 ┆   ┆ 0.01104]                 ┆ 0.01948…                 ┆               ┆                    │\n",
       "└─────────────────────┴───────────────────────────┴──────────────────────────┴──────────────────────────┴───┴──────────────────────────┴──────────────────────────┴───────────────┴────────────────────┘"
      ]
     },
     "execution_count": 80,
     "metadata": {},
     "output_type": "execute_result"
    }
   ],
   "source": [
    "user_profiles = encoded_df.group_by(pl.col('fullVisitorId')).agg(\n",
    "    pl.col('country'), pl.col('city'), \n",
    "    pl.col('browser'),pl.col('operatingSystem'),pl.col('deviceCategory'),\n",
    "    pl.col('source'),pl.col('transactionId'),pl.col('v2ProductCategory')\n",
    ")\n",
    "user_profiles"
   ]
  },
  {
   "cell_type": "code",
   "execution_count": 81,
   "metadata": {},
   "outputs": [],
   "source": [
    "# rec_stream = pl.DataFrame(recommendation_eval_pipeline(\"2703137619338184529\",user_profiles, encoded_df, df))\n",
    "# rec_stream.write_csv(\"../data/recommendations.csv\")"
   ]
  },
  {
   "cell_type": "code",
   "execution_count": 82,
   "metadata": {},
   "outputs": [],
   "source": [
    "purchasing_visitors=encoded_df.filter(pl.col('transactionId') != 0).select(pl.col('fullVisitorId')).unique()\n",
    "purchasing_visitors.write_csv(\"../data/purchasing_visitors.csv\")"
   ]
  },
  {
   "cell_type": "code",
   "execution_count": 83,
   "metadata": {},
   "outputs": [
    {
     "ename": "KeyboardInterrupt",
     "evalue": "",
     "output_type": "error",
     "traceback": [
      "\u001b[1;31m---------------------------------------------------------------------------\u001b[0m",
      "\u001b[1;31mKeyboardInterrupt\u001b[0m                         Traceback (most recent call last)",
      "Cell \u001b[1;32mIn[83], line 4\u001b[0m\n\u001b[0;32m      2\u001b[0m all_recs \u001b[38;5;241m=\u001b[39m []\n\u001b[0;32m      3\u001b[0m \u001b[38;5;28;01mfor\u001b[39;00m i \u001b[38;5;129;01min\u001b[39;00m purchasing_visitors[\u001b[38;5;124m\"\u001b[39m\u001b[38;5;124mfullVisitorId\u001b[39m\u001b[38;5;124m\"\u001b[39m]\u001b[38;5;241m.\u001b[39mto_list():\n\u001b[1;32m----> 4\u001b[0m     prec \u001b[38;5;241m=\u001b[39m \u001b[43mrecommendation_eval_pipeline\u001b[49m\u001b[43m(\u001b[49m\u001b[43mi\u001b[49m\u001b[43m,\u001b[49m\u001b[43m \u001b[49m\u001b[43muser_profiles\u001b[49m\u001b[43m,\u001b[49m\u001b[43m \u001b[49m\u001b[43mencoded_df\u001b[49m\u001b[43m,\u001b[49m\u001b[43m \u001b[49m\u001b[43mdf\u001b[49m\u001b[43m)\u001b[49m\n\u001b[0;32m      5\u001b[0m     all_recs\u001b[38;5;241m.\u001b[39mappend(prec)\n\u001b[0;32m      6\u001b[0m np\u001b[38;5;241m.\u001b[39mmean(all_recs)\n",
      "File \u001b[1;32mc:\\Users\\andre\\Desktop\\Code\\Data_Science\\recommendation_system\\utils\\preprocessing.py:174\u001b[0m, in \u001b[0;36mrecommendation_eval_pipeline\u001b[1;34m(active_user, user_profiles, encoded_df, original_df)\u001b[0m\n\u001b[0;32m    170\u001b[0m actual_bought \u001b[38;5;241m=\u001b[39m original_df\u001b[38;5;241m.\u001b[39mfilter((pl\u001b[38;5;241m.\u001b[39mcol(\u001b[38;5;124m'\u001b[39m\u001b[38;5;124mfullVisitorId\u001b[39m\u001b[38;5;124m'\u001b[39m) \u001b[38;5;241m==\u001b[39m \u001b[38;5;124mf\u001b[39m\u001b[38;5;124m\"\u001b[39m\u001b[38;5;132;01m{\u001b[39;00mactive_user\u001b[38;5;132;01m}\u001b[39;00m\u001b[38;5;124m\"\u001b[39m) \u001b[38;5;241m&\u001b[39m (pl\u001b[38;5;241m.\u001b[39mcol(\u001b[38;5;124m'\u001b[39m\u001b[38;5;124mtransactionId\u001b[39m\u001b[38;5;124m'\u001b[39m) \u001b[38;5;241m!=\u001b[39m \u001b[38;5;124m'\u001b[39m\u001b[38;5;124mnull\u001b[39m\u001b[38;5;124m'\u001b[39m)\n\u001b[0;32m    171\u001b[0m                                    )\u001b[38;5;241m.\u001b[39mselect(pl\u001b[38;5;241m.\u001b[39mcol(\u001b[38;5;124m'\u001b[39m\u001b[38;5;124mv2ProductCategory\u001b[39m\u001b[38;5;124m'\u001b[39m))\u001b[38;5;241m.\u001b[39mto_series()\u001b[38;5;241m.\u001b[39mto_list()\n\u001b[0;32m    172\u001b[0m \u001b[38;5;66;03m# rec = recommendation(original_df,sorted_dict)\u001b[39;00m\n\u001b[0;32m    173\u001b[0m rec_precision \u001b[38;5;241m=\u001b[39m precision(actual_bought, \n\u001b[1;32m--> 174\u001b[0m                           \u001b[43mrecommendation_pipeline\u001b[49m\u001b[43m(\u001b[49m\u001b[43mactive_user\u001b[49m\u001b[43m,\u001b[49m\u001b[43m \u001b[49m\u001b[43muser_profiles\u001b[49m\u001b[43m,\u001b[49m\u001b[43m \u001b[49m\n\u001b[0;32m    175\u001b[0m \u001b[43m                                                  \u001b[49m\u001b[43mencoded_df\u001b[49m\u001b[43m,\u001b[49m\u001b[43m \u001b[49m\u001b[43moriginal_df\u001b[49m\u001b[43m)\u001b[49m,\u001b[38;5;241m5\u001b[39m)\n\u001b[0;32m    177\u001b[0m \u001b[38;5;28;01mreturn\u001b[39;00m rec_precision\n",
      "File \u001b[1;32mc:\\Users\\andre\\Desktop\\Code\\Data_Science\\recommendation_system\\utils\\preprocessing.py:146\u001b[0m, in \u001b[0;36mrecommendation_pipeline\u001b[1;34m(active_user, user_profiles, encoded_df, original_df)\u001b[0m\n\u001b[0;32m    143\u001b[0m user_profiles_no_id \u001b[38;5;241m=\u001b[39m user_profiles_no_id\u001b[38;5;241m.\u001b[39mto_numpy()\n\u001b[0;32m    145\u001b[0m active_user_data \u001b[38;5;241m=\u001b[39m \u001b[38;5;28mlist\u001b[39m(encoded_df\u001b[38;5;241m.\u001b[39mfilter(pl\u001b[38;5;241m.\u001b[39mcol(\u001b[38;5;124m'\u001b[39m\u001b[38;5;124mfullVisitorId\u001b[39m\u001b[38;5;124m'\u001b[39m) \u001b[38;5;241m==\u001b[39m \u001b[38;5;124mf\u001b[39m\u001b[38;5;124m\"\u001b[39m\u001b[38;5;132;01m{\u001b[39;00mactive_user\u001b[38;5;132;01m}\u001b[39;00m\u001b[38;5;124m\"\u001b[39m)\u001b[38;5;241m.\u001b[39mrow(\u001b[38;5;241m-\u001b[39m\u001b[38;5;241m1\u001b[39m))[\u001b[38;5;241m1\u001b[39m:]\n\u001b[1;32m--> 146\u001b[0m similarities \u001b[38;5;241m=\u001b[39m \u001b[43mcalculate_similarity\u001b[49m\u001b[43m(\u001b[49m\u001b[43muser_profiles\u001b[49m\u001b[43m,\u001b[49m\u001b[43m \u001b[49m\u001b[43muser_profiles_no_id\u001b[49m\u001b[43m,\u001b[49m\u001b[43m \u001b[49m\u001b[43mactive_user_data\u001b[49m\u001b[43m)\u001b[49m\n\u001b[0;32m    147\u001b[0m sorted_dict \u001b[38;5;241m=\u001b[39m \u001b[38;5;28msorted\u001b[39m(similarities\u001b[38;5;241m.\u001b[39mitems(), key\u001b[38;5;241m=\u001b[39m\u001b[38;5;28;01mlambda\u001b[39;00m x: x[\u001b[38;5;241m1\u001b[39m])\n\u001b[0;32m    148\u001b[0m rec \u001b[38;5;241m=\u001b[39m recommendation(original_df,sorted_dict)\n",
      "File \u001b[1;32mc:\\Users\\andre\\Desktop\\Code\\Data_Science\\recommendation_system\\utils\\preprocessing.py:76\u001b[0m, in \u001b[0;36mcalculate_similarity\u001b[1;34m(user_profiles, user_profiles_no_id, active_user)\u001b[0m\n\u001b[0;32m     74\u001b[0m profile_avg_similarity \u001b[38;5;241m=\u001b[39m {}\n\u001b[0;32m     75\u001b[0m \u001b[38;5;28;01mfor\u001b[39;00m i \u001b[38;5;129;01min\u001b[39;00m \u001b[38;5;28mrange\u001b[39m(\u001b[38;5;241m0\u001b[39m,\u001b[38;5;28mlen\u001b[39m(user_profiles)):\n\u001b[1;32m---> 76\u001b[0m     user_profile_df \u001b[38;5;241m=\u001b[39m \u001b[43mnp\u001b[49m\u001b[38;5;241;43m.\u001b[39;49m\u001b[43mvstack\u001b[49m\u001b[43m(\u001b[49m\u001b[43muser_profiles_no_id\u001b[49m\u001b[43m[\u001b[49m\u001b[43mi\u001b[49m\u001b[43m]\u001b[49m\u001b[43m)\u001b[49m\u001b[38;5;241m.\u001b[39mT\n\u001b[0;32m     77\u001b[0m     avg_similarity \u001b[38;5;241m=\u001b[39m cosine_similarity(user_profile_df, [active_user])\n\u001b[0;32m     78\u001b[0m     avg_similarity \u001b[38;5;241m=\u001b[39m avg_similarity\u001b[38;5;241m.\u001b[39mmean()\n",
      "File \u001b[1;32mc:\\Users\\andre\\AppData\\Local\\Programs\\Python\\Python312\\Lib\\site-packages\\numpy\\core\\shape_base.py:289\u001b[0m, in \u001b[0;36mvstack\u001b[1;34m(tup, dtype, casting)\u001b[0m\n\u001b[0;32m    287\u001b[0m \u001b[38;5;28;01mif\u001b[39;00m \u001b[38;5;129;01mnot\u001b[39;00m \u001b[38;5;28misinstance\u001b[39m(arrs, \u001b[38;5;28mlist\u001b[39m):\n\u001b[0;32m    288\u001b[0m     arrs \u001b[38;5;241m=\u001b[39m [arrs]\n\u001b[1;32m--> 289\u001b[0m \u001b[38;5;28;01mreturn\u001b[39;00m \u001b[43m_nx\u001b[49m\u001b[38;5;241;43m.\u001b[39;49m\u001b[43mconcatenate\u001b[49m\u001b[43m(\u001b[49m\u001b[43marrs\u001b[49m\u001b[43m,\u001b[49m\u001b[43m \u001b[49m\u001b[38;5;241;43m0\u001b[39;49m\u001b[43m,\u001b[49m\u001b[43m \u001b[49m\u001b[43mdtype\u001b[49m\u001b[38;5;241;43m=\u001b[39;49m\u001b[43mdtype\u001b[49m\u001b[43m,\u001b[49m\u001b[43m \u001b[49m\u001b[43mcasting\u001b[49m\u001b[38;5;241;43m=\u001b[39;49m\u001b[43mcasting\u001b[49m\u001b[43m)\u001b[49m\n",
      "\u001b[1;31mKeyboardInterrupt\u001b[0m: "
     ]
    }
   ],
   "source": [
    "purchasing_visitors=encoded_df.filter(pl.col('transactionId') != 0).select(pl.col('fullVisitorId')).unique()\n",
    "all_recs = []\n",
    "for i in purchasing_visitors[\"fullVisitorId\"].to_list():\n",
    "    prec = recommendation_eval_pipeline(i, user_profiles, encoded_df, df)\n",
    "    all_recs.append(prec)\n",
    "np.mean(all_recs)"
   ]
  },
  {
   "cell_type": "code",
   "execution_count": null,
   "metadata": {},
   "outputs": [],
   "source": [
    "np.savetxt(\"../data/model_accuracy.csv\",all_recs)"
   ]
  },
  {
   "cell_type": "code",
   "execution_count": null,
   "metadata": {},
   "outputs": [],
   "source": [
    "df.write_csv(\"../data/cleaned_google_analytics.csv\")"
   ]
  },
  {
   "cell_type": "code",
   "execution_count": 84,
   "metadata": {},
   "outputs": [
    {
     "data": {
      "text/plain": [
       "['Waze', 'Headgear', 'Drinkware', 'Bottles', 'Drinkware']"
      ]
     },
     "execution_count": 84,
     "metadata": {},
     "output_type": "execute_result"
    }
   ],
   "source": [
    "recommendation_pipeline(\"2703137619338184529\", user_profiles, encoded_df, df)"
   ]
  },
  {
   "cell_type": "code",
   "execution_count": 86,
   "metadata": {},
   "outputs": [
    {
     "data": {
      "text/plain": [
       "0.25"
      ]
     },
     "execution_count": 86,
     "metadata": {},
     "output_type": "execute_result"
    }
   ],
   "source": [
    "recommendation_eval_pipeline(\"2703137619338184529\", user_profiles, encoded_df, df)"
   ]
  },
  {
   "cell_type": "markdown",
   "metadata": {},
   "source": [
    "### Data Pre-processing Pipeline"
   ]
  },
  {
   "cell_type": "code",
   "execution_count": null,
   "metadata": {},
   "outputs": [],
   "source": [
    "def preprocessing_pipeline(df: pl.DataFrame) -> pl.DataFrame:\n",
    "    \"\"\"\n",
    "    Args:\n",
    "        df : pl.DataFrame\n",
    "\n",
    "    Returns:\n",
    "        pl.DataFrames: pre-processed dataframe\n",
    "    \"\"\"\n",
    "    df = df.with_columns(pl.col('date').str.strptime(pl.Date, format=\"%Y%m%d\"))\n",
    "    encoded_df = encoding(df)\n",
    "    \n",
    "    user_profiles = encoded_df.group_by(pl.col('fullVisitorId')).agg(\n",
    "        pl.col('country'), pl.col('browser'),\n",
    "        pl.col('transactionId'), pl.col('v2ProductName')\n",
    "    )\n",
    "    user_profiles_no_id = user_profiles.drop('fullVisitorId')\n",
    "    user_profiles_no_id = user_profiles_no_id.to_numpy()\n",
    "    active_users = encoded_df.drop('fullVisitorId')\n",
    "    active_users = active_users.to_numpy()\n",
    "\n",
    "    similarities = calculate_similarity(user_profiles, user_profiles_no_id, active_users)\n",
    "    sorted_dict = sorted(similarities.items(), key=lambda x: x[1])\n",
    "\n",
    "    \n",
    "    df.write_csv(\"../data/cleaned_google_analytics.csv\")\n",
    "    return recommendation(df,sorted_dict) "
   ]
  },
  {
   "cell_type": "code",
   "execution_count": null,
   "metadata": {},
   "outputs": [],
   "source": [
    "# preprocessing_pipeline(df)"
   ]
  },
  {
   "cell_type": "markdown",
   "metadata": {},
   "source": [
    "# Conclusions \n",
    "- "
   ]
  }
 ],
 "metadata": {
  "kernelspec": {
   "display_name": "Python 3",
   "language": "python",
   "name": "python3"
  },
  "language_info": {
   "codemirror_mode": {
    "name": "ipython",
    "version": 3
   },
   "file_extension": ".py",
   "mimetype": "text/x-python",
   "name": "python",
   "nbconvert_exporter": "python",
   "pygments_lexer": "ipython3",
   "version": "3.12.1"
  }
 },
 "nbformat": 4,
 "nbformat_minor": 2
}
