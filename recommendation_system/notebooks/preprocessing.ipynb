{
 "cells": [
  {
   "cell_type": "markdown",
   "metadata": {},
   "source": [
    "# Dataset Cleaning "
   ]
  },
  {
   "cell_type": "markdown",
   "metadata": {},
   "source": [
    "The main objectives of this notebook are: \n",
    "- Import dataset \n",
    "- Get familiar with the data \n",
    "- Determine if there are data quality issues \n",
    "- Resolve any data quality issues "
   ]
  },
  {
   "cell_type": "code",
   "execution_count": 169,
   "metadata": {},
   "outputs": [],
   "source": [
    "import polars as pl \n",
    "import polars.selectors as cs \n",
    "from google.cloud import bigquery\n",
    "import numpy as np "
   ]
  },
  {
   "cell_type": "code",
   "execution_count": 170,
   "metadata": {},
   "outputs": [
    {
     "data": {
      "text/plain": [
       "polars.config.Config"
      ]
     },
     "execution_count": 170,
     "metadata": {},
     "output_type": "execute_result"
    }
   ],
   "source": [
    "pl.Config.set_tbl_width_chars(200)"
   ]
  },
  {
   "cell_type": "code",
   "execution_count": 171,
   "metadata": {},
   "outputs": [],
   "source": [
    "# Create client object\n",
    "client = bigquery.Client()"
   ]
  },
  {
   "cell_type": "code",
   "execution_count": 172,
   "metadata": {},
   "outputs": [],
   "source": [
    "QUERY = (\"SELECT `date`, `visitStartTime`, `fullVisitorId`, `geoNetwork`.`subContinent`, `geoNetwork`.`country`,\"\n",
    "        \"`geoNetwork`.`city`,`device`.`browser`, `device`.`operatingSystem`,`device`.`deviceCategory`,\"\n",
    "        \"`trafficSource`.`source`, `h`.`item`.`transactionId`,`hp`.`v2ProductName`,`hp`.`v2ProductCategory` \"\n",
    "        \"FROM `bigquery-public-data.google_analytics_sample.ga_sessions_20170731`, UNNEST(hits) AS h,\"\n",
    "        \"UNNEST(h.product) AS hp;\")"
   ]
  },
  {
   "cell_type": "code",
   "execution_count": 173,
   "metadata": {},
   "outputs": [],
   "source": [
    "run_query = client.query(QUERY)"
   ]
  },
  {
   "cell_type": "code",
   "execution_count": 174,
   "metadata": {},
   "outputs": [],
   "source": [
    "df = pl.from_arrow(run_query.to_arrow())"
   ]
  },
  {
   "cell_type": "code",
   "execution_count": 175,
   "metadata": {},
   "outputs": [
    {
     "data": {
      "text/html": [
       "<div><style>\n",
       ".dataframe > thead > tr,\n",
       ".dataframe > tbody > tr {\n",
       "  text-align: right;\n",
       "  white-space: pre-wrap;\n",
       "}\n",
       "</style>\n",
       "<small>shape: (5, 13)</small><table border=\"1\" class=\"dataframe\"><thead><tr><th>date</th><th>visitStartTime</th><th>fullVisitorId</th><th>subContinent</th><th>country</th><th>city</th><th>browser</th><th>operatingSystem</th><th>deviceCategory</th><th>source</th><th>transactionId</th><th>v2ProductName</th><th>v2ProductCategory</th></tr><tr><td>str</td><td>i64</td><td>str</td><td>str</td><td>str</td><td>str</td><td>str</td><td>str</td><td>str</td><td>str</td><td>str</td><td>str</td><td>str</td></tr></thead><tbody><tr><td>&quot;20170731&quot;</td><td>1501520683</td><td>&quot;2219384770970157334&quot;</td><td>&quot;Eastern Europe&quot;</td><td>&quot;Slovakia&quot;</td><td>&quot;not available in demo dataset&quot;</td><td>&quot;Firefox&quot;</td><td>&quot;Windows&quot;</td><td>&quot;desktop&quot;</td><td>&quot;google&quot;</td><td>null</td><td>&quot;Google Lunch Bag&quot;</td><td>&quot;Home/Bags/More Bags/&quot;</td></tr><tr><td>&quot;20170731&quot;</td><td>1501520683</td><td>&quot;2219384770970157334&quot;</td><td>&quot;Eastern Europe&quot;</td><td>&quot;Slovakia&quot;</td><td>&quot;not available in demo dataset&quot;</td><td>&quot;Firefox&quot;</td><td>&quot;Windows&quot;</td><td>&quot;desktop&quot;</td><td>&quot;google&quot;</td><td>null</td><td>&quot;Electronics Accessory Pouch&quot;</td><td>&quot;Home/Bags/More Bags/&quot;</td></tr><tr><td>&quot;20170731&quot;</td><td>1501520683</td><td>&quot;2219384770970157334&quot;</td><td>&quot;Eastern Europe&quot;</td><td>&quot;Slovakia&quot;</td><td>&quot;not available in demo dataset&quot;</td><td>&quot;Firefox&quot;</td><td>&quot;Windows&quot;</td><td>&quot;desktop&quot;</td><td>&quot;google&quot;</td><td>null</td><td>&quot;Sport Bag&quot;</td><td>&quot;Home/Bags/More Bags/&quot;</td></tr><tr><td>&quot;20170731&quot;</td><td>1501520683</td><td>&quot;2219384770970157334&quot;</td><td>&quot;Eastern Europe&quot;</td><td>&quot;Slovakia&quot;</td><td>&quot;not available in demo dataset&quot;</td><td>&quot;Firefox&quot;</td><td>&quot;Windows&quot;</td><td>&quot;desktop&quot;</td><td>&quot;google&quot;</td><td>null</td><td>&quot;Google Slim Utility Travel Bag&quot;</td><td>&quot;Home/Bags/More Bags/&quot;</td></tr><tr><td>&quot;20170731&quot;</td><td>1501520683</td><td>&quot;2219384770970157334&quot;</td><td>&quot;Eastern Europe&quot;</td><td>&quot;Slovakia&quot;</td><td>&quot;not available in demo dataset&quot;</td><td>&quot;Firefox&quot;</td><td>&quot;Windows&quot;</td><td>&quot;desktop&quot;</td><td>&quot;google&quot;</td><td>null</td><td>&quot;Suitcase Organizer Cubes&quot;</td><td>&quot;Home/Bags/More Bags/&quot;</td></tr></tbody></table></div>"
      ],
      "text/plain": [
       "shape: (5, 13)\n",
       "┌──────────┬────────────────┬─────────────────────┬────────────────┬───┬────────┬───────────────┬────────────────────────────────┬──────────────────────┐\n",
       "│ date     ┆ visitStartTime ┆ fullVisitorId       ┆ subContinent   ┆ … ┆ source ┆ transactionId ┆ v2ProductName                  ┆ v2ProductCategory    │\n",
       "│ ---      ┆ ---            ┆ ---                 ┆ ---            ┆   ┆ ---    ┆ ---           ┆ ---                            ┆ ---                  │\n",
       "│ str      ┆ i64            ┆ str                 ┆ str            ┆   ┆ str    ┆ str           ┆ str                            ┆ str                  │\n",
       "╞══════════╪════════════════╪═════════════════════╪════════════════╪═══╪════════╪═══════════════╪════════════════════════════════╪══════════════════════╡\n",
       "│ 20170731 ┆ 1501520683     ┆ 2219384770970157334 ┆ Eastern Europe ┆ … ┆ google ┆ null          ┆ Google Lunch Bag               ┆ Home/Bags/More Bags/ │\n",
       "│ 20170731 ┆ 1501520683     ┆ 2219384770970157334 ┆ Eastern Europe ┆ … ┆ google ┆ null          ┆ Electronics Accessory Pouch    ┆ Home/Bags/More Bags/ │\n",
       "│ 20170731 ┆ 1501520683     ┆ 2219384770970157334 ┆ Eastern Europe ┆ … ┆ google ┆ null          ┆ Sport Bag                      ┆ Home/Bags/More Bags/ │\n",
       "│ 20170731 ┆ 1501520683     ┆ 2219384770970157334 ┆ Eastern Europe ┆ … ┆ google ┆ null          ┆ Google Slim Utility Travel Bag ┆ Home/Bags/More Bags/ │\n",
       "│ 20170731 ┆ 1501520683     ┆ 2219384770970157334 ┆ Eastern Europe ┆ … ┆ google ┆ null          ┆ Suitcase Organizer Cubes       ┆ Home/Bags/More Bags/ │\n",
       "└──────────┴────────────────┴─────────────────────┴────────────────┴───┴────────┴───────────────┴────────────────────────────────┴──────────────────────┘"
      ]
     },
     "execution_count": 175,
     "metadata": {},
     "output_type": "execute_result"
    }
   ],
   "source": [
    "df.head()"
   ]
  },
  {
   "cell_type": "code",
   "execution_count": 176,
   "metadata": {},
   "outputs": [
    {
     "data": {
      "text/plain": [
       "(49512, 13)"
      ]
     },
     "execution_count": 176,
     "metadata": {},
     "output_type": "execute_result"
    }
   ],
   "source": [
    "df.shape"
   ]
  },
  {
   "cell_type": "code",
   "execution_count": 177,
   "metadata": {},
   "outputs": [
    {
     "data": {
      "text/plain": [
       "['date',\n",
       " 'visitStartTime',\n",
       " 'fullVisitorId',\n",
       " 'subContinent',\n",
       " 'country',\n",
       " 'city',\n",
       " 'browser',\n",
       " 'operatingSystem',\n",
       " 'deviceCategory',\n",
       " 'source',\n",
       " 'transactionId',\n",
       " 'v2ProductName',\n",
       " 'v2ProductCategory']"
      ]
     },
     "execution_count": 177,
     "metadata": {},
     "output_type": "execute_result"
    }
   ],
   "source": [
    "df.columns"
   ]
  },
  {
   "cell_type": "code",
   "execution_count": 178,
   "metadata": {},
   "outputs": [
    {
     "data": {
      "text/html": [
       "<div><style>\n",
       ".dataframe > thead > tr,\n",
       ".dataframe > tbody > tr {\n",
       "  text-align: right;\n",
       "  white-space: pre-wrap;\n",
       "}\n",
       "</style>\n",
       "<small>shape: (1, 13)</small><table border=\"1\" class=\"dataframe\"><thead><tr><th>date</th><th>visitStartTime</th><th>fullVisitorId</th><th>subContinent</th><th>country</th><th>city</th><th>browser</th><th>operatingSystem</th><th>deviceCategory</th><th>source</th><th>transactionId</th><th>v2ProductName</th><th>v2ProductCategory</th></tr><tr><td>str</td><td>i64</td><td>str</td><td>str</td><td>str</td><td>str</td><td>str</td><td>str</td><td>str</td><td>str</td><td>str</td><td>str</td><td>str</td></tr></thead><tbody><tr><td>&quot;20170731&quot;</td><td>1501541120</td><td>&quot;11577526465501235&quot;</td><td>&quot;Northern America&quot;</td><td>&quot;United States&quot;</td><td>&quot;not available in demo dataset&quot;</td><td>&quot;Chrome&quot;</td><td>&quot;Windows&quot;</td><td>&quot;desktop&quot;</td><td>&quot;(direct)&quot;</td><td>null</td><td>&quot;Android Men&#x27;s Vintage Tank&quot;</td><td>&quot;Home/Apparel/Men&#x27;s/Men&#x27;s-T-Shi…</td></tr></tbody></table></div>"
      ],
      "text/plain": [
       "shape: (1, 13)\n",
       "┌──────────┬────────────────┬───────────────────┬──────────────────┬───┬──────────┬───────────────┬────────────────────────────┬─────────────────────────────────┐\n",
       "│ date     ┆ visitStartTime ┆ fullVisitorId     ┆ subContinent     ┆ … ┆ source   ┆ transactionId ┆ v2ProductName              ┆ v2ProductCategory               │\n",
       "│ ---      ┆ ---            ┆ ---               ┆ ---              ┆   ┆ ---      ┆ ---           ┆ ---                        ┆ ---                             │\n",
       "│ str      ┆ i64            ┆ str               ┆ str              ┆   ┆ str      ┆ str           ┆ str                        ┆ str                             │\n",
       "╞══════════╪════════════════╪═══════════════════╪══════════════════╪═══╪══════════╪═══════════════╪════════════════════════════╪═════════════════════════════════╡\n",
       "│ 20170731 ┆ 1501541120     ┆ 11577526465501235 ┆ Northern America ┆ … ┆ (direct) ┆ null          ┆ Android Men's Vintage Tank ┆ Home/Apparel/Men's/Men's-T-Shi… │\n",
       "└──────────┴────────────────┴───────────────────┴──────────────────┴───┴──────────┴───────────────┴────────────────────────────┴─────────────────────────────────┘"
      ]
     },
     "execution_count": 178,
     "metadata": {},
     "output_type": "execute_result"
    }
   ],
   "source": [
    "df.sample()"
   ]
  },
  {
   "cell_type": "code",
   "execution_count": 179,
   "metadata": {},
   "outputs": [
    {
     "data": {
      "text/html": [
       "<div><style>\n",
       ".dataframe > thead > tr,\n",
       ".dataframe > tbody > tr {\n",
       "  text-align: right;\n",
       "  white-space: pre-wrap;\n",
       "}\n",
       "</style>\n",
       "<small>shape: (9, 14)</small><table border=\"1\" class=\"dataframe\"><thead><tr><th>statistic</th><th>date</th><th>visitStartTime</th><th>fullVisitorId</th><th>subContinent</th><th>country</th><th>city</th><th>browser</th><th>operatingSystem</th><th>deviceCategory</th><th>source</th><th>transactionId</th><th>v2ProductName</th><th>v2ProductCategory</th></tr><tr><td>str</td><td>str</td><td>f64</td><td>str</td><td>str</td><td>str</td><td>str</td><td>str</td><td>str</td><td>str</td><td>str</td><td>str</td><td>str</td><td>str</td></tr></thead><tbody><tr><td>&quot;count&quot;</td><td>&quot;49512&quot;</td><td>49512.0</td><td>&quot;49512&quot;</td><td>&quot;49512&quot;</td><td>&quot;49512&quot;</td><td>&quot;49512&quot;</td><td>&quot;49512&quot;</td><td>&quot;49512&quot;</td><td>&quot;49512&quot;</td><td>&quot;49512&quot;</td><td>&quot;462&quot;</td><td>&quot;49512&quot;</td><td>&quot;49512&quot;</td></tr><tr><td>&quot;null_count&quot;</td><td>&quot;0&quot;</td><td>0.0</td><td>&quot;0&quot;</td><td>&quot;0&quot;</td><td>&quot;0&quot;</td><td>&quot;0&quot;</td><td>&quot;0&quot;</td><td>&quot;0&quot;</td><td>&quot;0&quot;</td><td>&quot;0&quot;</td><td>&quot;49050&quot;</td><td>&quot;0&quot;</td><td>&quot;0&quot;</td></tr><tr><td>&quot;mean&quot;</td><td>null</td><td>1.5015e9</td><td>null</td><td>null</td><td>null</td><td>null</td><td>null</td><td>null</td><td>null</td><td>null</td><td>null</td><td>null</td><td>null</td></tr><tr><td>&quot;std&quot;</td><td>null</td><td>21502.167394</td><td>null</td><td>null</td><td>null</td><td>null</td><td>null</td><td>null</td><td>null</td><td>null</td><td>null</td><td>null</td><td>null</td></tr><tr><td>&quot;min&quot;</td><td>&quot;20170731&quot;</td><td>1.5015e9</td><td>&quot;0002457163364254438&quot;</td><td>&quot;Australasia&quot;</td><td>&quot;Algeria&quot;</td><td>&quot;(not set)&quot;</td><td>&quot;Amazon Silk&quot;</td><td>&quot;(not set)&quot;</td><td>&quot;desktop&quot;</td><td>&quot;(direct)&quot;</td><td>&quot;ORD201707311786&quot;</td><td>&quot;1 oz Hand Sanitizer&quot;</td><td>&quot;${escCatTitle}&quot;</td></tr><tr><td>&quot;25%&quot;</td><td>null</td><td>1.5015e9</td><td>null</td><td>null</td><td>null</td><td>null</td><td>null</td><td>null</td><td>null</td><td>null</td><td>null</td><td>null</td><td>null</td></tr><tr><td>&quot;50%&quot;</td><td>null</td><td>1.5015e9</td><td>null</td><td>null</td><td>null</td><td>null</td><td>null</td><td>null</td><td>null</td><td>null</td><td>null</td><td>null</td><td>null</td></tr><tr><td>&quot;75%&quot;</td><td>null</td><td>1.5015e9</td><td>null</td><td>null</td><td>null</td><td>null</td><td>null</td><td>null</td><td>null</td><td>null</td><td>null</td><td>null</td><td>null</td></tr><tr><td>&quot;max&quot;</td><td>&quot;20170731&quot;</td><td>1.5016e9</td><td>&quot;9997362993085245352&quot;</td><td>&quot;Western Europe&quot;</td><td>&quot;Vietnam&quot;</td><td>&quot;not available in demo dataset&quot;</td><td>&quot;YaBrowser&quot;</td><td>&quot;iOS&quot;</td><td>&quot;tablet&quot;</td><td>&quot;youtube.com&quot;</td><td>&quot;ORD201707312663&quot;</td><td>&quot;YouTube Youth Short Sleeve Tee…</td><td>&quot;Wearables/Men&#x27;s T-Shirts/&quot;</td></tr></tbody></table></div>"
      ],
      "text/plain": [
       "shape: (9, 14)\n",
       "┌────────────┬──────────┬────────────────┬─────────────────────┬───┬─────────────┬─────────────────┬─────────────────────────────────┬───────────────────────────┐\n",
       "│ statistic  ┆ date     ┆ visitStartTime ┆ fullVisitorId       ┆ … ┆ source      ┆ transactionId   ┆ v2ProductName                   ┆ v2ProductCategory         │\n",
       "│ ---        ┆ ---      ┆ ---            ┆ ---                 ┆   ┆ ---         ┆ ---             ┆ ---                             ┆ ---                       │\n",
       "│ str        ┆ str      ┆ f64            ┆ str                 ┆   ┆ str         ┆ str             ┆ str                             ┆ str                       │\n",
       "╞════════════╪══════════╪════════════════╪═════════════════════╪═══╪═════════════╪═════════════════╪═════════════════════════════════╪═══════════════════════════╡\n",
       "│ count      ┆ 49512    ┆ 49512.0        ┆ 49512               ┆ … ┆ 49512       ┆ 462             ┆ 49512                           ┆ 49512                     │\n",
       "│ null_count ┆ 0        ┆ 0.0            ┆ 0                   ┆ … ┆ 0           ┆ 49050           ┆ 0                               ┆ 0                         │\n",
       "│ mean       ┆ null     ┆ 1.5015e9       ┆ null                ┆ … ┆ null        ┆ null            ┆ null                            ┆ null                      │\n",
       "│ std        ┆ null     ┆ 21502.167394   ┆ null                ┆ … ┆ null        ┆ null            ┆ null                            ┆ null                      │\n",
       "│ min        ┆ 20170731 ┆ 1.5015e9       ┆ 0002457163364254438 ┆ … ┆ (direct)    ┆ ORD201707311786 ┆ 1 oz Hand Sanitizer             ┆ ${escCatTitle}            │\n",
       "│ 25%        ┆ null     ┆ 1.5015e9       ┆ null                ┆ … ┆ null        ┆ null            ┆ null                            ┆ null                      │\n",
       "│ 50%        ┆ null     ┆ 1.5015e9       ┆ null                ┆ … ┆ null        ┆ null            ┆ null                            ┆ null                      │\n",
       "│ 75%        ┆ null     ┆ 1.5015e9       ┆ null                ┆ … ┆ null        ┆ null            ┆ null                            ┆ null                      │\n",
       "│ max        ┆ 20170731 ┆ 1.5016e9       ┆ 9997362993085245352 ┆ … ┆ youtube.com ┆ ORD201707312663 ┆ YouTube Youth Short Sleeve Tee… ┆ Wearables/Men's T-Shirts/ │\n",
       "└────────────┴──────────┴────────────────┴─────────────────────┴───┴─────────────┴─────────────────┴─────────────────────────────────┴───────────────────────────┘"
      ]
     },
     "execution_count": 179,
     "metadata": {},
     "output_type": "execute_result"
    }
   ],
   "source": [
    "df.describe()"
   ]
  },
  {
   "cell_type": "code",
   "execution_count": 180,
   "metadata": {},
   "outputs": [
    {
     "data": {
      "text/html": [
       "<div><style>\n",
       ".dataframe > thead > tr,\n",
       ".dataframe > tbody > tr {\n",
       "  text-align: right;\n",
       "  white-space: pre-wrap;\n",
       "}\n",
       "</style>\n",
       "<small>shape: (1, 13)</small><table border=\"1\" class=\"dataframe\"><thead><tr><th>date</th><th>visitStartTime</th><th>fullVisitorId</th><th>subContinent</th><th>country</th><th>city</th><th>browser</th><th>operatingSystem</th><th>deviceCategory</th><th>source</th><th>transactionId</th><th>v2ProductName</th><th>v2ProductCategory</th></tr><tr><td>u32</td><td>u32</td><td>u32</td><td>u32</td><td>u32</td><td>u32</td><td>u32</td><td>u32</td><td>u32</td><td>u32</td><td>u32</td><td>u32</td><td>u32</td></tr></thead><tbody><tr><td>0</td><td>0</td><td>0</td><td>0</td><td>0</td><td>0</td><td>0</td><td>0</td><td>0</td><td>0</td><td>49050</td><td>0</td><td>0</td></tr></tbody></table></div>"
      ],
      "text/plain": [
       "shape: (1, 13)\n",
       "┌──────┬────────────────┬───────────────┬──────────────┬───┬────────┬───────────────┬───────────────┬───────────────────┐\n",
       "│ date ┆ visitStartTime ┆ fullVisitorId ┆ subContinent ┆ … ┆ source ┆ transactionId ┆ v2ProductName ┆ v2ProductCategory │\n",
       "│ ---  ┆ ---            ┆ ---           ┆ ---          ┆   ┆ ---    ┆ ---           ┆ ---           ┆ ---               │\n",
       "│ u32  ┆ u32            ┆ u32           ┆ u32          ┆   ┆ u32    ┆ u32           ┆ u32           ┆ u32               │\n",
       "╞══════╪════════════════╪═══════════════╪══════════════╪═══╪════════╪═══════════════╪═══════════════╪═══════════════════╡\n",
       "│ 0    ┆ 0              ┆ 0             ┆ 0            ┆ … ┆ 0      ┆ 49050         ┆ 0             ┆ 0                 │\n",
       "└──────┴────────────────┴───────────────┴──────────────┴───┴────────┴───────────────┴───────────────┴───────────────────┘"
      ]
     },
     "execution_count": 180,
     "metadata": {},
     "output_type": "execute_result"
    }
   ],
   "source": [
    "df.select(pl.all().is_null().sum())"
   ]
  },
  {
   "cell_type": "code",
   "execution_count": 181,
   "metadata": {},
   "outputs": [
    {
     "data": {
      "text/html": [
       "<div><style>\n",
       ".dataframe > thead > tr,\n",
       ".dataframe > tbody > tr {\n",
       "  text-align: right;\n",
       "  white-space: pre-wrap;\n",
       "}\n",
       "</style>\n",
       "<small>shape: (462, 13)</small><table border=\"1\" class=\"dataframe\"><thead><tr><th>date</th><th>visitStartTime</th><th>fullVisitorId</th><th>subContinent</th><th>country</th><th>city</th><th>browser</th><th>operatingSystem</th><th>deviceCategory</th><th>source</th><th>transactionId</th><th>v2ProductName</th><th>v2ProductCategory</th></tr><tr><td>str</td><td>i64</td><td>str</td><td>str</td><td>str</td><td>str</td><td>str</td><td>str</td><td>str</td><td>str</td><td>str</td><td>str</td><td>str</td></tr></thead><tbody><tr><td>&quot;20170731&quot;</td><td>1501525374</td><td>&quot;186231215995844689&quot;</td><td>&quot;Northern America&quot;</td><td>&quot;United States&quot;</td><td>&quot;Mountain View&quot;</td><td>&quot;Chrome&quot;</td><td>&quot;Macintosh&quot;</td><td>&quot;desktop&quot;</td><td>&quot;(direct)&quot;</td><td>&quot;ORD201707311786&quot;</td><td>&quot;Google Men&#x27;s Bike Short Sleeve…</td><td>&quot;Apparel&quot;</td></tr><tr><td>&quot;20170731&quot;</td><td>1501525374</td><td>&quot;186231215995844689&quot;</td><td>&quot;Northern America&quot;</td><td>&quot;United States&quot;</td><td>&quot;Mountain View&quot;</td><td>&quot;Chrome&quot;</td><td>&quot;Macintosh&quot;</td><td>&quot;desktop&quot;</td><td>&quot;(direct)&quot;</td><td>&quot;ORD201707311786&quot;</td><td>&quot;Google Men&#x27;s Bike Short Sleeve…</td><td>&quot;Apparel&quot;</td></tr><tr><td>&quot;20170731&quot;</td><td>1501549028</td><td>&quot;0345672699449577691&quot;</td><td>&quot;Northern America&quot;</td><td>&quot;United States&quot;</td><td>&quot;Kirkland&quot;</td><td>&quot;Chrome&quot;</td><td>&quot;Chrome OS&quot;</td><td>&quot;desktop&quot;</td><td>&quot;(direct)&quot;</td><td>&quot;ORD201707312107&quot;</td><td>&quot;Google Blackout Cap&quot;</td><td>&quot;Headgear&quot;</td></tr><tr><td>&quot;20170731&quot;</td><td>1501549028</td><td>&quot;0345672699449577691&quot;</td><td>&quot;Northern America&quot;</td><td>&quot;United States&quot;</td><td>&quot;Kirkland&quot;</td><td>&quot;Chrome&quot;</td><td>&quot;Chrome OS&quot;</td><td>&quot;desktop&quot;</td><td>&quot;(direct)&quot;</td><td>&quot;ORD201707312107&quot;</td><td>&quot;Google Women&#x27;s Vintage Hero Te…</td><td>&quot;Apparel&quot;</td></tr><tr><td>&quot;20170731&quot;</td><td>1501549028</td><td>&quot;0345672699449577691&quot;</td><td>&quot;Northern America&quot;</td><td>&quot;United States&quot;</td><td>&quot;Kirkland&quot;</td><td>&quot;Chrome&quot;</td><td>&quot;Chrome OS&quot;</td><td>&quot;desktop&quot;</td><td>&quot;(direct)&quot;</td><td>&quot;ORD201707312107&quot;</td><td>&quot;Google Men&#x27;s Long &amp; Lean Tee C…</td><td>&quot;Apparel&quot;</td></tr><tr><td>&hellip;</td><td>&hellip;</td><td>&hellip;</td><td>&hellip;</td><td>&hellip;</td><td>&hellip;</td><td>&hellip;</td><td>&hellip;</td><td>&hellip;</td><td>&hellip;</td><td>&hellip;</td><td>&hellip;</td><td>&hellip;</td></tr><tr><td>&quot;20170731&quot;</td><td>1501537217</td><td>&quot;7483600664917507409&quot;</td><td>&quot;Northern America&quot;</td><td>&quot;United States&quot;</td><td>&quot;Mountain View&quot;</td><td>&quot;Chrome&quot;</td><td>&quot;Macintosh&quot;</td><td>&quot;desktop&quot;</td><td>&quot;(direct)&quot;</td><td>&quot;ORD201707312663&quot;</td><td>&quot;Google 25 oz Red Stainless Ste…</td><td>&quot;Drinkware&quot;</td></tr><tr><td>&quot;20170731&quot;</td><td>1501537217</td><td>&quot;7483600664917507409&quot;</td><td>&quot;Northern America&quot;</td><td>&quot;United States&quot;</td><td>&quot;Mountain View&quot;</td><td>&quot;Chrome&quot;</td><td>&quot;Macintosh&quot;</td><td>&quot;desktop&quot;</td><td>&quot;(direct)&quot;</td><td>&quot;ORD201707312663&quot;</td><td>&quot;Android 17oz Stainless Steel S…</td><td>&quot;Drinkware&quot;</td></tr><tr><td>&quot;20170731&quot;</td><td>1501537217</td><td>&quot;7483600664917507409&quot;</td><td>&quot;Northern America&quot;</td><td>&quot;United States&quot;</td><td>&quot;Mountain View&quot;</td><td>&quot;Chrome&quot;</td><td>&quot;Macintosh&quot;</td><td>&quot;desktop&quot;</td><td>&quot;(direct)&quot;</td><td>&quot;ORD201707312663&quot;</td><td>&quot;Android Men&#x27;s Short Sleeve Her…</td><td>&quot;Apparel&quot;</td></tr><tr><td>&quot;20170731&quot;</td><td>1501537217</td><td>&quot;7483600664917507409&quot;</td><td>&quot;Northern America&quot;</td><td>&quot;United States&quot;</td><td>&quot;Mountain View&quot;</td><td>&quot;Chrome&quot;</td><td>&quot;Macintosh&quot;</td><td>&quot;desktop&quot;</td><td>&quot;(direct)&quot;</td><td>&quot;ORD201707312663&quot;</td><td>&quot;Android Men&#x27;s Take Charge Shor…</td><td>&quot;Apparel&quot;</td></tr><tr><td>&quot;20170731&quot;</td><td>1501537217</td><td>&quot;7483600664917507409&quot;</td><td>&quot;Northern America&quot;</td><td>&quot;United States&quot;</td><td>&quot;Mountain View&quot;</td><td>&quot;Chrome&quot;</td><td>&quot;Macintosh&quot;</td><td>&quot;desktop&quot;</td><td>&quot;(direct)&quot;</td><td>&quot;ORD201707312663&quot;</td><td>&quot;Google Women&#x27;s Scoop Neck Tee …</td><td>&quot;Apparel&quot;</td></tr></tbody></table></div>"
      ],
      "text/plain": [
       "shape: (462, 13)\n",
       "┌──────────┬────────────────┬─────────────────────┬──────────────────┬───┬──────────┬─────────────────┬─────────────────────────────────┬───────────────────┐\n",
       "│ date     ┆ visitStartTime ┆ fullVisitorId       ┆ subContinent     ┆ … ┆ source   ┆ transactionId   ┆ v2ProductName                   ┆ v2ProductCategory │\n",
       "│ ---      ┆ ---            ┆ ---                 ┆ ---              ┆   ┆ ---      ┆ ---             ┆ ---                             ┆ ---               │\n",
       "│ str      ┆ i64            ┆ str                 ┆ str              ┆   ┆ str      ┆ str             ┆ str                             ┆ str               │\n",
       "╞══════════╪════════════════╪═════════════════════╪══════════════════╪═══╪══════════╪═════════════════╪═════════════════════════════════╪═══════════════════╡\n",
       "│ 20170731 ┆ 1501525374     ┆ 186231215995844689  ┆ Northern America ┆ … ┆ (direct) ┆ ORD201707311786 ┆ Google Men's Bike Short Sleeve… ┆ Apparel           │\n",
       "│ 20170731 ┆ 1501525374     ┆ 186231215995844689  ┆ Northern America ┆ … ┆ (direct) ┆ ORD201707311786 ┆ Google Men's Bike Short Sleeve… ┆ Apparel           │\n",
       "│ 20170731 ┆ 1501549028     ┆ 0345672699449577691 ┆ Northern America ┆ … ┆ (direct) ┆ ORD201707312107 ┆ Google Blackout Cap             ┆ Headgear          │\n",
       "│ 20170731 ┆ 1501549028     ┆ 0345672699449577691 ┆ Northern America ┆ … ┆ (direct) ┆ ORD201707312107 ┆ Google Women's Vintage Hero Te… ┆ Apparel           │\n",
       "│ 20170731 ┆ 1501549028     ┆ 0345672699449577691 ┆ Northern America ┆ … ┆ (direct) ┆ ORD201707312107 ┆ Google Men's Long & Lean Tee C… ┆ Apparel           │\n",
       "│ …        ┆ …              ┆ …                   ┆ …                ┆ … ┆ …        ┆ …               ┆ …                               ┆ …                 │\n",
       "│ 20170731 ┆ 1501537217     ┆ 7483600664917507409 ┆ Northern America ┆ … ┆ (direct) ┆ ORD201707312663 ┆ Google 25 oz Red Stainless Ste… ┆ Drinkware         │\n",
       "│ 20170731 ┆ 1501537217     ┆ 7483600664917507409 ┆ Northern America ┆ … ┆ (direct) ┆ ORD201707312663 ┆ Android 17oz Stainless Steel S… ┆ Drinkware         │\n",
       "│ 20170731 ┆ 1501537217     ┆ 7483600664917507409 ┆ Northern America ┆ … ┆ (direct) ┆ ORD201707312663 ┆ Android Men's Short Sleeve Her… ┆ Apparel           │\n",
       "│ 20170731 ┆ 1501537217     ┆ 7483600664917507409 ┆ Northern America ┆ … ┆ (direct) ┆ ORD201707312663 ┆ Android Men's Take Charge Shor… ┆ Apparel           │\n",
       "│ 20170731 ┆ 1501537217     ┆ 7483600664917507409 ┆ Northern America ┆ … ┆ (direct) ┆ ORD201707312663 ┆ Google Women's Scoop Neck Tee … ┆ Apparel           │\n",
       "└──────────┴────────────────┴─────────────────────┴──────────────────┴───┴──────────┴─────────────────┴─────────────────────────────────┴───────────────────┘"
      ]
     },
     "execution_count": 181,
     "metadata": {},
     "output_type": "execute_result"
    }
   ],
   "source": [
    "df.filter(pl.col('transactionId')!='null')"
   ]
  },
  {
   "cell_type": "code",
   "execution_count": 182,
   "metadata": {},
   "outputs": [
    {
     "data": {
      "text/html": [
       "<div><style>\n",
       ".dataframe > thead > tr,\n",
       ".dataframe > tbody > tr {\n",
       "  text-align: right;\n",
       "  white-space: pre-wrap;\n",
       "}\n",
       "</style>\n",
       "<small>shape: (5, 13)</small><table border=\"1\" class=\"dataframe\"><thead><tr><th>date</th><th>visitStartTime</th><th>fullVisitorId</th><th>subContinent</th><th>country</th><th>city</th><th>browser</th><th>operatingSystem</th><th>deviceCategory</th><th>source</th><th>transactionId</th><th>v2ProductName</th><th>v2ProductCategory</th></tr><tr><td>date</td><td>i64</td><td>str</td><td>str</td><td>str</td><td>str</td><td>str</td><td>str</td><td>str</td><td>str</td><td>str</td><td>str</td><td>str</td></tr></thead><tbody><tr><td>2017-07-31</td><td>1501520683</td><td>&quot;2219384770970157334&quot;</td><td>&quot;Eastern Europe&quot;</td><td>&quot;Slovakia&quot;</td><td>&quot;not available in demo dataset&quot;</td><td>&quot;Firefox&quot;</td><td>&quot;Windows&quot;</td><td>&quot;desktop&quot;</td><td>&quot;google&quot;</td><td>null</td><td>&quot;Google Lunch Bag&quot;</td><td>&quot;Home/Bags/More Bags/&quot;</td></tr><tr><td>2017-07-31</td><td>1501520683</td><td>&quot;2219384770970157334&quot;</td><td>&quot;Eastern Europe&quot;</td><td>&quot;Slovakia&quot;</td><td>&quot;not available in demo dataset&quot;</td><td>&quot;Firefox&quot;</td><td>&quot;Windows&quot;</td><td>&quot;desktop&quot;</td><td>&quot;google&quot;</td><td>null</td><td>&quot;Electronics Accessory Pouch&quot;</td><td>&quot;Home/Bags/More Bags/&quot;</td></tr><tr><td>2017-07-31</td><td>1501520683</td><td>&quot;2219384770970157334&quot;</td><td>&quot;Eastern Europe&quot;</td><td>&quot;Slovakia&quot;</td><td>&quot;not available in demo dataset&quot;</td><td>&quot;Firefox&quot;</td><td>&quot;Windows&quot;</td><td>&quot;desktop&quot;</td><td>&quot;google&quot;</td><td>null</td><td>&quot;Sport Bag&quot;</td><td>&quot;Home/Bags/More Bags/&quot;</td></tr><tr><td>2017-07-31</td><td>1501520683</td><td>&quot;2219384770970157334&quot;</td><td>&quot;Eastern Europe&quot;</td><td>&quot;Slovakia&quot;</td><td>&quot;not available in demo dataset&quot;</td><td>&quot;Firefox&quot;</td><td>&quot;Windows&quot;</td><td>&quot;desktop&quot;</td><td>&quot;google&quot;</td><td>null</td><td>&quot;Google Slim Utility Travel Bag&quot;</td><td>&quot;Home/Bags/More Bags/&quot;</td></tr><tr><td>2017-07-31</td><td>1501520683</td><td>&quot;2219384770970157334&quot;</td><td>&quot;Eastern Europe&quot;</td><td>&quot;Slovakia&quot;</td><td>&quot;not available in demo dataset&quot;</td><td>&quot;Firefox&quot;</td><td>&quot;Windows&quot;</td><td>&quot;desktop&quot;</td><td>&quot;google&quot;</td><td>null</td><td>&quot;Suitcase Organizer Cubes&quot;</td><td>&quot;Home/Bags/More Bags/&quot;</td></tr></tbody></table></div>"
      ],
      "text/plain": [
       "shape: (5, 13)\n",
       "┌────────────┬────────────────┬─────────────────────┬────────────────┬───┬────────┬───────────────┬────────────────────────────────┬──────────────────────┐\n",
       "│ date       ┆ visitStartTime ┆ fullVisitorId       ┆ subContinent   ┆ … ┆ source ┆ transactionId ┆ v2ProductName                  ┆ v2ProductCategory    │\n",
       "│ ---        ┆ ---            ┆ ---                 ┆ ---            ┆   ┆ ---    ┆ ---           ┆ ---                            ┆ ---                  │\n",
       "│ date       ┆ i64            ┆ str                 ┆ str            ┆   ┆ str    ┆ str           ┆ str                            ┆ str                  │\n",
       "╞════════════╪════════════════╪═════════════════════╪════════════════╪═══╪════════╪═══════════════╪════════════════════════════════╪══════════════════════╡\n",
       "│ 2017-07-31 ┆ 1501520683     ┆ 2219384770970157334 ┆ Eastern Europe ┆ … ┆ google ┆ null          ┆ Google Lunch Bag               ┆ Home/Bags/More Bags/ │\n",
       "│ 2017-07-31 ┆ 1501520683     ┆ 2219384770970157334 ┆ Eastern Europe ┆ … ┆ google ┆ null          ┆ Electronics Accessory Pouch    ┆ Home/Bags/More Bags/ │\n",
       "│ 2017-07-31 ┆ 1501520683     ┆ 2219384770970157334 ┆ Eastern Europe ┆ … ┆ google ┆ null          ┆ Sport Bag                      ┆ Home/Bags/More Bags/ │\n",
       "│ 2017-07-31 ┆ 1501520683     ┆ 2219384770970157334 ┆ Eastern Europe ┆ … ┆ google ┆ null          ┆ Google Slim Utility Travel Bag ┆ Home/Bags/More Bags/ │\n",
       "│ 2017-07-31 ┆ 1501520683     ┆ 2219384770970157334 ┆ Eastern Europe ┆ … ┆ google ┆ null          ┆ Suitcase Organizer Cubes       ┆ Home/Bags/More Bags/ │\n",
       "└────────────┴────────────────┴─────────────────────┴────────────────┴───┴────────┴───────────────┴────────────────────────────────┴──────────────────────┘"
      ]
     },
     "execution_count": 182,
     "metadata": {},
     "output_type": "execute_result"
    }
   ],
   "source": [
    "df_cleaned = df.with_columns(pl.col('date').str.strptime(pl.Date, format=\"%Y%m%d\"))\n",
    "df_cleaned.head()"
   ]
  },
  {
   "cell_type": "code",
   "execution_count": 183,
   "metadata": {},
   "outputs": [
    {
     "data": {
      "text/html": [
       "<div><style>\n",
       ".dataframe > thead > tr,\n",
       ".dataframe > tbody > tr {\n",
       "  text-align: right;\n",
       "  white-space: pre-wrap;\n",
       "}\n",
       "</style>\n",
       "<small>shape: (49_512, 13)</small><table border=\"1\" class=\"dataframe\"><thead><tr><th>date</th><th>visitStartTime</th><th>fullVisitorId</th><th>subContinent</th><th>country</th><th>city</th><th>browser</th><th>operatingSystem</th><th>deviceCategory</th><th>source</th><th>transactionId</th><th>v2ProductName</th><th>v2ProductCategory</th></tr><tr><td>date</td><td>i64</td><td>str</td><td>str</td><td>str</td><td>str</td><td>str</td><td>str</td><td>str</td><td>str</td><td>i32</td><td>str</td><td>str</td></tr></thead><tbody><tr><td>2017-07-31</td><td>1501520683</td><td>&quot;2219384770970157334&quot;</td><td>&quot;Eastern Europe&quot;</td><td>&quot;Slovakia&quot;</td><td>&quot;not available in demo dataset&quot;</td><td>&quot;Firefox&quot;</td><td>&quot;Windows&quot;</td><td>&quot;desktop&quot;</td><td>&quot;google&quot;</td><td>0</td><td>&quot;Google Lunch Bag&quot;</td><td>&quot;Home/Bags/More Bags/&quot;</td></tr><tr><td>2017-07-31</td><td>1501520683</td><td>&quot;2219384770970157334&quot;</td><td>&quot;Eastern Europe&quot;</td><td>&quot;Slovakia&quot;</td><td>&quot;not available in demo dataset&quot;</td><td>&quot;Firefox&quot;</td><td>&quot;Windows&quot;</td><td>&quot;desktop&quot;</td><td>&quot;google&quot;</td><td>0</td><td>&quot;Electronics Accessory Pouch&quot;</td><td>&quot;Home/Bags/More Bags/&quot;</td></tr><tr><td>2017-07-31</td><td>1501520683</td><td>&quot;2219384770970157334&quot;</td><td>&quot;Eastern Europe&quot;</td><td>&quot;Slovakia&quot;</td><td>&quot;not available in demo dataset&quot;</td><td>&quot;Firefox&quot;</td><td>&quot;Windows&quot;</td><td>&quot;desktop&quot;</td><td>&quot;google&quot;</td><td>0</td><td>&quot;Sport Bag&quot;</td><td>&quot;Home/Bags/More Bags/&quot;</td></tr><tr><td>2017-07-31</td><td>1501520683</td><td>&quot;2219384770970157334&quot;</td><td>&quot;Eastern Europe&quot;</td><td>&quot;Slovakia&quot;</td><td>&quot;not available in demo dataset&quot;</td><td>&quot;Firefox&quot;</td><td>&quot;Windows&quot;</td><td>&quot;desktop&quot;</td><td>&quot;google&quot;</td><td>0</td><td>&quot;Google Slim Utility Travel Bag&quot;</td><td>&quot;Home/Bags/More Bags/&quot;</td></tr><tr><td>2017-07-31</td><td>1501520683</td><td>&quot;2219384770970157334&quot;</td><td>&quot;Eastern Europe&quot;</td><td>&quot;Slovakia&quot;</td><td>&quot;not available in demo dataset&quot;</td><td>&quot;Firefox&quot;</td><td>&quot;Windows&quot;</td><td>&quot;desktop&quot;</td><td>&quot;google&quot;</td><td>0</td><td>&quot;Suitcase Organizer Cubes&quot;</td><td>&quot;Home/Bags/More Bags/&quot;</td></tr><tr><td>&hellip;</td><td>&hellip;</td><td>&hellip;</td><td>&hellip;</td><td>&hellip;</td><td>&hellip;</td><td>&hellip;</td><td>&hellip;</td><td>&hellip;</td><td>&hellip;</td><td>&hellip;</td><td>&hellip;</td><td>&hellip;</td></tr><tr><td>2017-07-31</td><td>1501537217</td><td>&quot;7483600664917507409&quot;</td><td>&quot;Northern America&quot;</td><td>&quot;United States&quot;</td><td>&quot;Mountain View&quot;</td><td>&quot;Chrome&quot;</td><td>&quot;Macintosh&quot;</td><td>&quot;desktop&quot;</td><td>&quot;(direct)&quot;</td><td>1</td><td>&quot;Android 17oz Stainless Steel S…</td><td>&quot;Drinkware&quot;</td></tr><tr><td>2017-07-31</td><td>1501537217</td><td>&quot;7483600664917507409&quot;</td><td>&quot;Northern America&quot;</td><td>&quot;United States&quot;</td><td>&quot;Mountain View&quot;</td><td>&quot;Chrome&quot;</td><td>&quot;Macintosh&quot;</td><td>&quot;desktop&quot;</td><td>&quot;(direct)&quot;</td><td>1</td><td>&quot;Android Men&#x27;s Short Sleeve Her…</td><td>&quot;Apparel&quot;</td></tr><tr><td>2017-07-31</td><td>1501537217</td><td>&quot;7483600664917507409&quot;</td><td>&quot;Northern America&quot;</td><td>&quot;United States&quot;</td><td>&quot;Mountain View&quot;</td><td>&quot;Chrome&quot;</td><td>&quot;Macintosh&quot;</td><td>&quot;desktop&quot;</td><td>&quot;(direct)&quot;</td><td>1</td><td>&quot;Android Men&#x27;s Take Charge Shor…</td><td>&quot;Apparel&quot;</td></tr><tr><td>2017-07-31</td><td>1501537217</td><td>&quot;7483600664917507409&quot;</td><td>&quot;Northern America&quot;</td><td>&quot;United States&quot;</td><td>&quot;Mountain View&quot;</td><td>&quot;Chrome&quot;</td><td>&quot;Macintosh&quot;</td><td>&quot;desktop&quot;</td><td>&quot;(direct)&quot;</td><td>1</td><td>&quot;Google Women&#x27;s Scoop Neck Tee …</td><td>&quot;Apparel&quot;</td></tr><tr><td>2017-07-31</td><td>1501537217</td><td>&quot;7483600664917507409&quot;</td><td>&quot;Northern America&quot;</td><td>&quot;United States&quot;</td><td>&quot;Mountain View&quot;</td><td>&quot;Chrome&quot;</td><td>&quot;Macintosh&quot;</td><td>&quot;desktop&quot;</td><td>&quot;(direct)&quot;</td><td>0</td><td>&quot;Google Men&#x27;s 100% Cotton Short…</td><td>&quot;(not set)&quot;</td></tr></tbody></table></div>"
      ],
      "text/plain": [
       "shape: (49_512, 13)\n",
       "┌────────────┬────────────────┬─────────────────────┬──────────────────┬───┬──────────┬───────────────┬─────────────────────────────────┬──────────────────────┐\n",
       "│ date       ┆ visitStartTime ┆ fullVisitorId       ┆ subContinent     ┆ … ┆ source   ┆ transactionId ┆ v2ProductName                   ┆ v2ProductCategory    │\n",
       "│ ---        ┆ ---            ┆ ---                 ┆ ---              ┆   ┆ ---      ┆ ---           ┆ ---                             ┆ ---                  │\n",
       "│ date       ┆ i64            ┆ str                 ┆ str              ┆   ┆ str      ┆ i32           ┆ str                             ┆ str                  │\n",
       "╞════════════╪════════════════╪═════════════════════╪══════════════════╪═══╪══════════╪═══════════════╪═════════════════════════════════╪══════════════════════╡\n",
       "│ 2017-07-31 ┆ 1501520683     ┆ 2219384770970157334 ┆ Eastern Europe   ┆ … ┆ google   ┆ 0             ┆ Google Lunch Bag                ┆ Home/Bags/More Bags/ │\n",
       "│ 2017-07-31 ┆ 1501520683     ┆ 2219384770970157334 ┆ Eastern Europe   ┆ … ┆ google   ┆ 0             ┆ Electronics Accessory Pouch     ┆ Home/Bags/More Bags/ │\n",
       "│ 2017-07-31 ┆ 1501520683     ┆ 2219384770970157334 ┆ Eastern Europe   ┆ … ┆ google   ┆ 0             ┆ Sport Bag                       ┆ Home/Bags/More Bags/ │\n",
       "│ 2017-07-31 ┆ 1501520683     ┆ 2219384770970157334 ┆ Eastern Europe   ┆ … ┆ google   ┆ 0             ┆ Google Slim Utility Travel Bag  ┆ Home/Bags/More Bags/ │\n",
       "│ 2017-07-31 ┆ 1501520683     ┆ 2219384770970157334 ┆ Eastern Europe   ┆ … ┆ google   ┆ 0             ┆ Suitcase Organizer Cubes        ┆ Home/Bags/More Bags/ │\n",
       "│ …          ┆ …              ┆ …                   ┆ …                ┆ … ┆ …        ┆ …             ┆ …                               ┆ …                    │\n",
       "│ 2017-07-31 ┆ 1501537217     ┆ 7483600664917507409 ┆ Northern America ┆ … ┆ (direct) ┆ 1             ┆ Android 17oz Stainless Steel S… ┆ Drinkware            │\n",
       "│ 2017-07-31 ┆ 1501537217     ┆ 7483600664917507409 ┆ Northern America ┆ … ┆ (direct) ┆ 1             ┆ Android Men's Short Sleeve Her… ┆ Apparel              │\n",
       "│ 2017-07-31 ┆ 1501537217     ┆ 7483600664917507409 ┆ Northern America ┆ … ┆ (direct) ┆ 1             ┆ Android Men's Take Charge Shor… ┆ Apparel              │\n",
       "│ 2017-07-31 ┆ 1501537217     ┆ 7483600664917507409 ┆ Northern America ┆ … ┆ (direct) ┆ 1             ┆ Google Women's Scoop Neck Tee … ┆ Apparel              │\n",
       "│ 2017-07-31 ┆ 1501537217     ┆ 7483600664917507409 ┆ Northern America ┆ … ┆ (direct) ┆ 0             ┆ Google Men's 100% Cotton Short… ┆ (not set)            │\n",
       "└────────────┴────────────────┴─────────────────────┴──────────────────┴───┴──────────┴───────────────┴─────────────────────────────────┴──────────────────────┘"
      ]
     },
     "execution_count": 183,
     "metadata": {},
     "output_type": "execute_result"
    }
   ],
   "source": [
    "df_cleaned = df_cleaned.with_columns(pl.when(pl.col('transactionId') != 'null').then(1).otherwise(0).alias(\"transactionId\"))\n",
    "df_cleaned"
   ]
  },
  {
   "cell_type": "code",
   "execution_count": 230,
   "metadata": {},
   "outputs": [
    {
     "data": {
      "text/html": [
       "<div><style>\n",
       ".dataframe > thead > tr,\n",
       ".dataframe > tbody > tr {\n",
       "  text-align: right;\n",
       "  white-space: pre-wrap;\n",
       "}\n",
       "</style>\n",
       "<small>shape: (31_582, 5)</small><table border=\"1\" class=\"dataframe\"><thead><tr><th>date</th><th>fullVisitorId</th><th>country</th><th>transactionId</th><th>v2ProductName</th></tr><tr><td>date</td><td>str</td><td>str</td><td>i32</td><td>str</td></tr></thead><tbody><tr><td>2017-07-31</td><td>&quot;9308310352918219134&quot;</td><td>&quot;United States&quot;</td><td>0</td><td>&quot;Google Snapback Hat Black&quot;</td></tr><tr><td>2017-07-31</td><td>&quot;9308310352918219134&quot;</td><td>&quot;United States&quot;</td><td>0</td><td>&quot;Android Wool Heather Cap Heath…</td></tr><tr><td>2017-07-31</td><td>&quot;9308310352918219134&quot;</td><td>&quot;United States&quot;</td><td>0</td><td>&quot;Google Blackout Cap&quot;</td></tr><tr><td>2017-07-31</td><td>&quot;9308310352918219134&quot;</td><td>&quot;United States&quot;</td><td>0</td><td>&quot;Google 5-Panel Snapback Cap&quot;</td></tr><tr><td>2017-07-31</td><td>&quot;9308310352918219134&quot;</td><td>&quot;United States&quot;</td><td>0</td><td>&quot;Android 5-Panel Low Cap&quot;</td></tr><tr><td>&hellip;</td><td>&hellip;</td><td>&hellip;</td><td>&hellip;</td><td>&hellip;</td></tr><tr><td>2017-07-31</td><td>&quot;7483600664917507409&quot;</td><td>&quot;United States&quot;</td><td>1</td><td>&quot;Android 17oz Stainless Steel S…</td></tr><tr><td>2017-07-31</td><td>&quot;7483600664917507409&quot;</td><td>&quot;United States&quot;</td><td>1</td><td>&quot;Android Men&#x27;s Short Sleeve Her…</td></tr><tr><td>2017-07-31</td><td>&quot;7483600664917507409&quot;</td><td>&quot;United States&quot;</td><td>1</td><td>&quot;Android Men&#x27;s Take Charge Shor…</td></tr><tr><td>2017-07-31</td><td>&quot;7483600664917507409&quot;</td><td>&quot;United States&quot;</td><td>1</td><td>&quot;Google Women&#x27;s Scoop Neck Tee …</td></tr><tr><td>2017-07-31</td><td>&quot;7483600664917507409&quot;</td><td>&quot;United States&quot;</td><td>0</td><td>&quot;Google Men&#x27;s 100% Cotton Short…</td></tr></tbody></table></div>"
      ],
      "text/plain": [
       "shape: (31_582, 5)\n",
       "┌────────────┬─────────────────────┬───────────────┬───────────────┬─────────────────────────────────┐\n",
       "│ date       ┆ fullVisitorId       ┆ country       ┆ transactionId ┆ v2ProductName                   │\n",
       "│ ---        ┆ ---                 ┆ ---           ┆ ---           ┆ ---                             │\n",
       "│ date       ┆ str                 ┆ str           ┆ i32           ┆ str                             │\n",
       "╞════════════╪═════════════════════╪═══════════════╪═══════════════╪═════════════════════════════════╡\n",
       "│ 2017-07-31 ┆ 9308310352918219134 ┆ United States ┆ 0             ┆ Google Snapback Hat Black       │\n",
       "│ 2017-07-31 ┆ 9308310352918219134 ┆ United States ┆ 0             ┆ Android Wool Heather Cap Heath… │\n",
       "│ 2017-07-31 ┆ 9308310352918219134 ┆ United States ┆ 0             ┆ Google Blackout Cap             │\n",
       "│ 2017-07-31 ┆ 9308310352918219134 ┆ United States ┆ 0             ┆ Google 5-Panel Snapback Cap     │\n",
       "│ 2017-07-31 ┆ 9308310352918219134 ┆ United States ┆ 0             ┆ Android 5-Panel Low Cap         │\n",
       "│ …          ┆ …                   ┆ …             ┆ …             ┆ …                               │\n",
       "│ 2017-07-31 ┆ 7483600664917507409 ┆ United States ┆ 1             ┆ Android 17oz Stainless Steel S… │\n",
       "│ 2017-07-31 ┆ 7483600664917507409 ┆ United States ┆ 1             ┆ Android Men's Short Sleeve Her… │\n",
       "│ 2017-07-31 ┆ 7483600664917507409 ┆ United States ┆ 1             ┆ Android Men's Take Charge Shor… │\n",
       "│ 2017-07-31 ┆ 7483600664917507409 ┆ United States ┆ 1             ┆ Google Women's Scoop Neck Tee … │\n",
       "│ 2017-07-31 ┆ 7483600664917507409 ┆ United States ┆ 0             ┆ Google Men's 100% Cotton Short… │\n",
       "└────────────┴─────────────────────┴───────────────┴───────────────┴─────────────────────────────────┘"
      ]
     },
     "execution_count": 230,
     "metadata": {},
     "output_type": "execute_result"
    }
   ],
   "source": [
    "encoding = df_cleaned.filter(pl.col('country') == \"United States\").select(\n",
    "    pl.col('date'),pl.col('fullVisitorId'),pl.col('country'),pl.col('transactionId'),pl.col('v2ProductName')\n",
    ")\n",
    "encoding"
   ]
  },
  {
   "cell_type": "code",
   "execution_count": 186,
   "metadata": {},
   "outputs": [],
   "source": [
    "# encoding = encoding.with_columns(pl.col('transactionId').mean().alias('transactionId'))"
   ]
  },
  {
   "cell_type": "code",
   "execution_count": 231,
   "metadata": {},
   "outputs": [
    {
     "data": {
      "text/html": [
       "<div><style>\n",
       ".dataframe > thead > tr,\n",
       ".dataframe > tbody > tr {\n",
       "  text-align: right;\n",
       "  white-space: pre-wrap;\n",
       "}\n",
       "</style>\n",
       "<small>shape: (1_114, 5)</small><table border=\"1\" class=\"dataframe\"><thead><tr><th>date</th><th>fullVisitorId</th><th>country</th><th>transactionId</th><th>v2ProductName</th></tr><tr><td>date</td><td>str</td><td>str</td><td>i32</td><td>str</td></tr></thead><tbody><tr><td>2017-07-31</td><td>&quot;6933896823600086395&quot;</td><td>&quot;Canada&quot;</td><td>0</td><td>&quot;Gift Card- $100.00&quot;</td></tr><tr><td>2017-07-31</td><td>&quot;6933896823600086395&quot;</td><td>&quot;Canada&quot;</td><td>0</td><td>&quot;Gift Card - $25.00&quot;</td></tr><tr><td>2017-07-31</td><td>&quot;6933896823600086395&quot;</td><td>&quot;Canada&quot;</td><td>0</td><td>&quot;Gift Card - $250.00&quot;</td></tr><tr><td>2017-07-31</td><td>&quot;6933896823600086395&quot;</td><td>&quot;Canada&quot;</td><td>0</td><td>&quot;Gift Card - $50.00&quot;</td></tr><tr><td>2017-07-31</td><td>&quot;7700062233308774111&quot;</td><td>&quot;Canada&quot;</td><td>0</td><td>&quot;Google Men&#x27;s Long Sleeve Ragla…</td></tr><tr><td>&hellip;</td><td>&hellip;</td><td>&hellip;</td><td>&hellip;</td><td>&hellip;</td></tr><tr><td>2017-07-31</td><td>&quot;7444499703471460562&quot;</td><td>&quot;Canada&quot;</td><td>0</td><td>&quot;Google Women&#x27;s Quilted Insulat…</td></tr><tr><td>2017-07-31</td><td>&quot;7444499703471460562&quot;</td><td>&quot;Canada&quot;</td><td>0</td><td>&quot;Google Women&#x27;s Quilted Insulat…</td></tr><tr><td>2017-07-31</td><td>&quot;7444499703471460562&quot;</td><td>&quot;Canada&quot;</td><td>0</td><td>&quot;Google Women&#x27;s 1/4 Zip Jacket …</td></tr><tr><td>2017-07-31</td><td>&quot;7444499703471460562&quot;</td><td>&quot;Canada&quot;</td><td>0</td><td>&quot;Google Women&#x27;s Performance Ful…</td></tr><tr><td>2017-07-31</td><td>&quot;7444499703471460562&quot;</td><td>&quot;Canada&quot;</td><td>0</td><td>&quot;Google Women&#x27;s Weatherblock Sh…</td></tr></tbody></table></div>"
      ],
      "text/plain": [
       "shape: (1_114, 5)\n",
       "┌────────────┬─────────────────────┬─────────┬───────────────┬─────────────────────────────────┐\n",
       "│ date       ┆ fullVisitorId       ┆ country ┆ transactionId ┆ v2ProductName                   │\n",
       "│ ---        ┆ ---                 ┆ ---     ┆ ---           ┆ ---                             │\n",
       "│ date       ┆ str                 ┆ str     ┆ i32           ┆ str                             │\n",
       "╞════════════╪═════════════════════╪═════════╪═══════════════╪═════════════════════════════════╡\n",
       "│ 2017-07-31 ┆ 6933896823600086395 ┆ Canada  ┆ 0             ┆ Gift Card- $100.00              │\n",
       "│ 2017-07-31 ┆ 6933896823600086395 ┆ Canada  ┆ 0             ┆ Gift Card - $25.00              │\n",
       "│ 2017-07-31 ┆ 6933896823600086395 ┆ Canada  ┆ 0             ┆ Gift Card - $250.00             │\n",
       "│ 2017-07-31 ┆ 6933896823600086395 ┆ Canada  ┆ 0             ┆ Gift Card - $50.00              │\n",
       "│ 2017-07-31 ┆ 7700062233308774111 ┆ Canada  ┆ 0             ┆ Google Men's Long Sleeve Ragla… │\n",
       "│ …          ┆ …                   ┆ …       ┆ …             ┆ …                               │\n",
       "│ 2017-07-31 ┆ 7444499703471460562 ┆ Canada  ┆ 0             ┆ Google Women's Quilted Insulat… │\n",
       "│ 2017-07-31 ┆ 7444499703471460562 ┆ Canada  ┆ 0             ┆ Google Women's Quilted Insulat… │\n",
       "│ 2017-07-31 ┆ 7444499703471460562 ┆ Canada  ┆ 0             ┆ Google Women's 1/4 Zip Jacket … │\n",
       "│ 2017-07-31 ┆ 7444499703471460562 ┆ Canada  ┆ 0             ┆ Google Women's Performance Ful… │\n",
       "│ 2017-07-31 ┆ 7444499703471460562 ┆ Canada  ┆ 0             ┆ Google Women's Weatherblock Sh… │\n",
       "└────────────┴─────────────────────┴─────────┴───────────────┴─────────────────────────────────┘"
      ]
     },
     "execution_count": 231,
     "metadata": {},
     "output_type": "execute_result"
    }
   ],
   "source": [
    "canada = df_cleaned.filter(pl.col('country') == \"Canada\").select(\n",
    "    pl.col('date'),pl.col('fullVisitorId'),pl.col('country'),pl.col('transactionId'),pl.col('v2ProductName')\n",
    ")\n",
    "# canada = canada.with_columns(pl.col('transactionId').mean().alias('transactionId'))\n",
    "canada"
   ]
  },
  {
   "cell_type": "code",
   "execution_count": 232,
   "metadata": {},
   "outputs": [
    {
     "data": {
      "text/html": [
       "<div><style>\n",
       ".dataframe > thead > tr,\n",
       ".dataframe > tbody > tr {\n",
       "  text-align: right;\n",
       "  white-space: pre-wrap;\n",
       "}\n",
       "</style>\n",
       "<small>shape: (32_696, 5)</small><table border=\"1\" class=\"dataframe\"><thead><tr><th>date</th><th>fullVisitorId</th><th>country</th><th>transactionId</th><th>v2ProductName</th></tr><tr><td>date</td><td>str</td><td>str</td><td>i32</td><td>str</td></tr></thead><tbody><tr><td>2017-07-31</td><td>&quot;9308310352918219134&quot;</td><td>&quot;United States&quot;</td><td>0</td><td>&quot;Google Snapback Hat Black&quot;</td></tr><tr><td>2017-07-31</td><td>&quot;9308310352918219134&quot;</td><td>&quot;United States&quot;</td><td>0</td><td>&quot;Android Wool Heather Cap Heath…</td></tr><tr><td>2017-07-31</td><td>&quot;9308310352918219134&quot;</td><td>&quot;United States&quot;</td><td>0</td><td>&quot;Google Blackout Cap&quot;</td></tr><tr><td>2017-07-31</td><td>&quot;9308310352918219134&quot;</td><td>&quot;United States&quot;</td><td>0</td><td>&quot;Google 5-Panel Snapback Cap&quot;</td></tr><tr><td>2017-07-31</td><td>&quot;9308310352918219134&quot;</td><td>&quot;United States&quot;</td><td>0</td><td>&quot;Android 5-Panel Low Cap&quot;</td></tr><tr><td>&hellip;</td><td>&hellip;</td><td>&hellip;</td><td>&hellip;</td><td>&hellip;</td></tr><tr><td>2017-07-31</td><td>&quot;7444499703471460562&quot;</td><td>&quot;Canada&quot;</td><td>0</td><td>&quot;Google Women&#x27;s Quilted Insulat…</td></tr><tr><td>2017-07-31</td><td>&quot;7444499703471460562&quot;</td><td>&quot;Canada&quot;</td><td>0</td><td>&quot;Google Women&#x27;s Quilted Insulat…</td></tr><tr><td>2017-07-31</td><td>&quot;7444499703471460562&quot;</td><td>&quot;Canada&quot;</td><td>0</td><td>&quot;Google Women&#x27;s 1/4 Zip Jacket …</td></tr><tr><td>2017-07-31</td><td>&quot;7444499703471460562&quot;</td><td>&quot;Canada&quot;</td><td>0</td><td>&quot;Google Women&#x27;s Performance Ful…</td></tr><tr><td>2017-07-31</td><td>&quot;7444499703471460562&quot;</td><td>&quot;Canada&quot;</td><td>0</td><td>&quot;Google Women&#x27;s Weatherblock Sh…</td></tr></tbody></table></div>"
      ],
      "text/plain": [
       "shape: (32_696, 5)\n",
       "┌────────────┬─────────────────────┬───────────────┬───────────────┬─────────────────────────────────┐\n",
       "│ date       ┆ fullVisitorId       ┆ country       ┆ transactionId ┆ v2ProductName                   │\n",
       "│ ---        ┆ ---                 ┆ ---           ┆ ---           ┆ ---                             │\n",
       "│ date       ┆ str                 ┆ str           ┆ i32           ┆ str                             │\n",
       "╞════════════╪═════════════════════╪═══════════════╪═══════════════╪═════════════════════════════════╡\n",
       "│ 2017-07-31 ┆ 9308310352918219134 ┆ United States ┆ 0             ┆ Google Snapback Hat Black       │\n",
       "│ 2017-07-31 ┆ 9308310352918219134 ┆ United States ┆ 0             ┆ Android Wool Heather Cap Heath… │\n",
       "│ 2017-07-31 ┆ 9308310352918219134 ┆ United States ┆ 0             ┆ Google Blackout Cap             │\n",
       "│ 2017-07-31 ┆ 9308310352918219134 ┆ United States ┆ 0             ┆ Google 5-Panel Snapback Cap     │\n",
       "│ 2017-07-31 ┆ 9308310352918219134 ┆ United States ┆ 0             ┆ Android 5-Panel Low Cap         │\n",
       "│ …          ┆ …                   ┆ …             ┆ …             ┆ …                               │\n",
       "│ 2017-07-31 ┆ 7444499703471460562 ┆ Canada        ┆ 0             ┆ Google Women's Quilted Insulat… │\n",
       "│ 2017-07-31 ┆ 7444499703471460562 ┆ Canada        ┆ 0             ┆ Google Women's Quilted Insulat… │\n",
       "│ 2017-07-31 ┆ 7444499703471460562 ┆ Canada        ┆ 0             ┆ Google Women's 1/4 Zip Jacket … │\n",
       "│ 2017-07-31 ┆ 7444499703471460562 ┆ Canada        ┆ 0             ┆ Google Women's Performance Ful… │\n",
       "│ 2017-07-31 ┆ 7444499703471460562 ┆ Canada        ┆ 0             ┆ Google Women's Weatherblock Sh… │\n",
       "└────────────┴─────────────────────┴───────────────┴───────────────┴─────────────────────────────────┘"
      ]
     },
     "execution_count": 232,
     "metadata": {},
     "output_type": "execute_result"
    }
   ],
   "source": [
    "new_df = encoding.vstack(canada)\n",
    "new_df"
   ]
  },
  {
   "cell_type": "code",
   "execution_count": 233,
   "metadata": {},
   "outputs": [
    {
     "data": {
      "text/html": [
       "<div><style>\n",
       ".dataframe > thead > tr,\n",
       ".dataframe > tbody > tr {\n",
       "  text-align: right;\n",
       "  white-space: pre-wrap;\n",
       "}\n",
       "</style>\n",
       "<small>shape: (32_696, 5)</small><table border=\"1\" class=\"dataframe\"><thead><tr><th>date</th><th>fullVisitorId</th><th>country</th><th>transactionId</th><th>v2ProductName</th></tr><tr><td>date</td><td>str</td><td>i32</td><td>i32</td><td>str</td></tr></thead><tbody><tr><td>2017-07-31</td><td>&quot;9308310352918219134&quot;</td><td>0</td><td>0</td><td>&quot;Google Snapback Hat Black&quot;</td></tr><tr><td>2017-07-31</td><td>&quot;9308310352918219134&quot;</td><td>0</td><td>0</td><td>&quot;Android Wool Heather Cap Heath…</td></tr><tr><td>2017-07-31</td><td>&quot;9308310352918219134&quot;</td><td>0</td><td>0</td><td>&quot;Google Blackout Cap&quot;</td></tr><tr><td>2017-07-31</td><td>&quot;9308310352918219134&quot;</td><td>0</td><td>0</td><td>&quot;Google 5-Panel Snapback Cap&quot;</td></tr><tr><td>2017-07-31</td><td>&quot;9308310352918219134&quot;</td><td>0</td><td>0</td><td>&quot;Android 5-Panel Low Cap&quot;</td></tr><tr><td>&hellip;</td><td>&hellip;</td><td>&hellip;</td><td>&hellip;</td><td>&hellip;</td></tr><tr><td>2017-07-31</td><td>&quot;7444499703471460562&quot;</td><td>1</td><td>0</td><td>&quot;Google Women&#x27;s Quilted Insulat…</td></tr><tr><td>2017-07-31</td><td>&quot;7444499703471460562&quot;</td><td>1</td><td>0</td><td>&quot;Google Women&#x27;s Quilted Insulat…</td></tr><tr><td>2017-07-31</td><td>&quot;7444499703471460562&quot;</td><td>1</td><td>0</td><td>&quot;Google Women&#x27;s 1/4 Zip Jacket …</td></tr><tr><td>2017-07-31</td><td>&quot;7444499703471460562&quot;</td><td>1</td><td>0</td><td>&quot;Google Women&#x27;s Performance Ful…</td></tr><tr><td>2017-07-31</td><td>&quot;7444499703471460562&quot;</td><td>1</td><td>0</td><td>&quot;Google Women&#x27;s Weatherblock Sh…</td></tr></tbody></table></div>"
      ],
      "text/plain": [
       "shape: (32_696, 5)\n",
       "┌────────────┬─────────────────────┬─────────┬───────────────┬─────────────────────────────────┐\n",
       "│ date       ┆ fullVisitorId       ┆ country ┆ transactionId ┆ v2ProductName                   │\n",
       "│ ---        ┆ ---                 ┆ ---     ┆ ---           ┆ ---                             │\n",
       "│ date       ┆ str                 ┆ i32     ┆ i32           ┆ str                             │\n",
       "╞════════════╪═════════════════════╪═════════╪═══════════════╪═════════════════════════════════╡\n",
       "│ 2017-07-31 ┆ 9308310352918219134 ┆ 0       ┆ 0             ┆ Google Snapback Hat Black       │\n",
       "│ 2017-07-31 ┆ 9308310352918219134 ┆ 0       ┆ 0             ┆ Android Wool Heather Cap Heath… │\n",
       "│ 2017-07-31 ┆ 9308310352918219134 ┆ 0       ┆ 0             ┆ Google Blackout Cap             │\n",
       "│ 2017-07-31 ┆ 9308310352918219134 ┆ 0       ┆ 0             ┆ Google 5-Panel Snapback Cap     │\n",
       "│ 2017-07-31 ┆ 9308310352918219134 ┆ 0       ┆ 0             ┆ Android 5-Panel Low Cap         │\n",
       "│ …          ┆ …                   ┆ …       ┆ …             ┆ …                               │\n",
       "│ 2017-07-31 ┆ 7444499703471460562 ┆ 1       ┆ 0             ┆ Google Women's Quilted Insulat… │\n",
       "│ 2017-07-31 ┆ 7444499703471460562 ┆ 1       ┆ 0             ┆ Google Women's Quilted Insulat… │\n",
       "│ 2017-07-31 ┆ 7444499703471460562 ┆ 1       ┆ 0             ┆ Google Women's 1/4 Zip Jacket … │\n",
       "│ 2017-07-31 ┆ 7444499703471460562 ┆ 1       ┆ 0             ┆ Google Women's Performance Ful… │\n",
       "│ 2017-07-31 ┆ 7444499703471460562 ┆ 1       ┆ 0             ┆ Google Women's Weatherblock Sh… │\n",
       "└────────────┴─────────────────────┴─────────┴───────────────┴─────────────────────────────────┘"
      ]
     },
     "execution_count": 233,
     "metadata": {},
     "output_type": "execute_result"
    }
   ],
   "source": [
    "new_df = new_df.with_columns(pl.when(pl.col('country') != 'United States').then(1).otherwise(0).alias(\"country\"))\n",
    "new_df"
   ]
  },
  {
   "cell_type": "code",
   "execution_count": 234,
   "metadata": {},
   "outputs": [
    {
     "data": {
      "text/html": [
       "<div><style>\n",
       ".dataframe > thead > tr,\n",
       ".dataframe > tbody > tr {\n",
       "  text-align: right;\n",
       "  white-space: pre-wrap;\n",
       "}\n",
       "</style>\n",
       "<small>shape: (229, 1)</small><table border=\"1\" class=\"dataframe\"><thead><tr><th>v2ProductName</th></tr><tr><td>str</td></tr></thead><tbody><tr><td>&quot;Google Toddler Short Sleeve Te…</td></tr><tr><td>&quot;Waze Baby on Board Window Deca…</td></tr><tr><td>&quot;Android RFID Journal&quot;</td></tr><tr><td>&quot;Nest® Learning Thermostat 3rd …</td></tr><tr><td>&quot;Google Onesie Red/Graphite&quot;</td></tr><tr><td>&hellip;</td></tr><tr><td>&quot;Google Vintage Henley Grey/Bla…</td></tr><tr><td>&quot;Google Lunch Bag&quot;</td></tr><tr><td>&quot;Android Men&#x27;s Take Charge Shor…</td></tr><tr><td>&quot;Google Leather Journal&quot;</td></tr><tr><td>&quot;SPF-15 Slim &amp; Slender Lip Balm&quot;</td></tr></tbody></table></div>"
      ],
      "text/plain": [
       "shape: (229, 1)\n",
       "┌─────────────────────────────────┐\n",
       "│ v2ProductName                   │\n",
       "│ ---                             │\n",
       "│ str                             │\n",
       "╞═════════════════════════════════╡\n",
       "│ Google Toddler Short Sleeve Te… │\n",
       "│ Waze Baby on Board Window Deca… │\n",
       "│ Android RFID Journal            │\n",
       "│ Nest® Learning Thermostat 3rd … │\n",
       "│ Google Onesie Red/Graphite      │\n",
       "│ …                               │\n",
       "│ Google Vintage Henley Grey/Bla… │\n",
       "│ Google Lunch Bag                │\n",
       "│ Android Men's Take Charge Shor… │\n",
       "│ Google Leather Journal          │\n",
       "│ SPF-15 Slim & Slender Lip Balm  │\n",
       "└─────────────────────────────────┘"
      ]
     },
     "execution_count": 234,
     "metadata": {},
     "output_type": "execute_result"
    }
   ],
   "source": [
    "new_df.select(pl.col('v2ProductName')).unique()"
   ]
  },
  {
   "cell_type": "code",
   "execution_count": 235,
   "metadata": {},
   "outputs": [
    {
     "data": {
      "text/html": [
       "<div><style>\n",
       ".dataframe > thead > tr,\n",
       ".dataframe > tbody > tr {\n",
       "  text-align: right;\n",
       "  white-space: pre-wrap;\n",
       "}\n",
       "</style>\n",
       "<small>shape: (32_696, 1)</small><table border=\"1\" class=\"dataframe\"><thead><tr><th>v2ProductName</th></tr><tr><td>str</td></tr></thead><tbody><tr><td>&quot;Google Snapback Hat Black&quot;</td></tr><tr><td>&quot;Android Wool Heather Cap Heath…</td></tr><tr><td>&quot;Google Blackout Cap&quot;</td></tr><tr><td>&quot;Google 5-Panel Snapback Cap&quot;</td></tr><tr><td>&quot;Android 5-Panel Low Cap&quot;</td></tr><tr><td>&hellip;</td></tr><tr><td>&quot;Google Women&#x27;s Quilted Insulat…</td></tr><tr><td>&quot;Google Women&#x27;s Quilted Insulat…</td></tr><tr><td>&quot;Google Women&#x27;s 1/4 Zip Jacket …</td></tr><tr><td>&quot;Google Women&#x27;s Performance Ful…</td></tr><tr><td>&quot;Google Women&#x27;s Weatherblock Sh…</td></tr></tbody></table></div>"
      ],
      "text/plain": [
       "shape: (32_696, 1)\n",
       "┌─────────────────────────────────┐\n",
       "│ v2ProductName                   │\n",
       "│ ---                             │\n",
       "│ str                             │\n",
       "╞═════════════════════════════════╡\n",
       "│ Google Snapback Hat Black       │\n",
       "│ Android Wool Heather Cap Heath… │\n",
       "│ Google Blackout Cap             │\n",
       "│ Google 5-Panel Snapback Cap     │\n",
       "│ Android 5-Panel Low Cap         │\n",
       "│ …                               │\n",
       "│ Google Women's Quilted Insulat… │\n",
       "│ Google Women's Quilted Insulat… │\n",
       "│ Google Women's 1/4 Zip Jacket … │\n",
       "│ Google Women's Performance Ful… │\n",
       "│ Google Women's Weatherblock Sh… │\n",
       "└─────────────────────────────────┘"
      ]
     },
     "execution_count": 235,
     "metadata": {},
     "output_type": "execute_result"
    }
   ],
   "source": [
    "new_df.select(pl.col('v2ProductName'))"
   ]
  },
  {
   "cell_type": "code",
   "execution_count": 216,
   "metadata": {},
   "outputs": [],
   "source": [
    "from sklearn.preprocessing import LabelEncoder"
   ]
  },
  {
   "cell_type": "code",
   "execution_count": 257,
   "metadata": {},
   "outputs": [
    {
     "name": "stderr",
     "output_type": "stream",
     "text": [
      "c:\\Users\\andre\\AppData\\Local\\Programs\\Python\\Python312\\Lib\\site-packages\\sklearn\\preprocessing\\_label.py:97: DataConversionWarning: A column-vector y was passed when a 1d array was expected. Please change the shape of y to (n_samples, ), for example using ravel().\n",
      "  y = column_or_1d(y, warn=True)\n"
     ]
    },
    {
     "data": {
      "text/html": [
       "<style>#sk-container-id-3 {\n",
       "  /* Definition of color scheme common for light and dark mode */\n",
       "  --sklearn-color-text: black;\n",
       "  --sklearn-color-line: gray;\n",
       "  /* Definition of color scheme for unfitted estimators */\n",
       "  --sklearn-color-unfitted-level-0: #fff5e6;\n",
       "  --sklearn-color-unfitted-level-1: #f6e4d2;\n",
       "  --sklearn-color-unfitted-level-2: #ffe0b3;\n",
       "  --sklearn-color-unfitted-level-3: chocolate;\n",
       "  /* Definition of color scheme for fitted estimators */\n",
       "  --sklearn-color-fitted-level-0: #f0f8ff;\n",
       "  --sklearn-color-fitted-level-1: #d4ebff;\n",
       "  --sklearn-color-fitted-level-2: #b3dbfd;\n",
       "  --sklearn-color-fitted-level-3: cornflowerblue;\n",
       "\n",
       "  /* Specific color for light theme */\n",
       "  --sklearn-color-text-on-default-background: var(--sg-text-color, var(--theme-code-foreground, var(--jp-content-font-color1, black)));\n",
       "  --sklearn-color-background: var(--sg-background-color, var(--theme-background, var(--jp-layout-color0, white)));\n",
       "  --sklearn-color-border-box: var(--sg-text-color, var(--theme-code-foreground, var(--jp-content-font-color1, black)));\n",
       "  --sklearn-color-icon: #696969;\n",
       "\n",
       "  @media (prefers-color-scheme: dark) {\n",
       "    /* Redefinition of color scheme for dark theme */\n",
       "    --sklearn-color-text-on-default-background: var(--sg-text-color, var(--theme-code-foreground, var(--jp-content-font-color1, white)));\n",
       "    --sklearn-color-background: var(--sg-background-color, var(--theme-background, var(--jp-layout-color0, #111)));\n",
       "    --sklearn-color-border-box: var(--sg-text-color, var(--theme-code-foreground, var(--jp-content-font-color1, white)));\n",
       "    --sklearn-color-icon: #878787;\n",
       "  }\n",
       "}\n",
       "\n",
       "#sk-container-id-3 {\n",
       "  color: var(--sklearn-color-text);\n",
       "}\n",
       "\n",
       "#sk-container-id-3 pre {\n",
       "  padding: 0;\n",
       "}\n",
       "\n",
       "#sk-container-id-3 input.sk-hidden--visually {\n",
       "  border: 0;\n",
       "  clip: rect(1px 1px 1px 1px);\n",
       "  clip: rect(1px, 1px, 1px, 1px);\n",
       "  height: 1px;\n",
       "  margin: -1px;\n",
       "  overflow: hidden;\n",
       "  padding: 0;\n",
       "  position: absolute;\n",
       "  width: 1px;\n",
       "}\n",
       "\n",
       "#sk-container-id-3 div.sk-dashed-wrapped {\n",
       "  border: 1px dashed var(--sklearn-color-line);\n",
       "  margin: 0 0.4em 0.5em 0.4em;\n",
       "  box-sizing: border-box;\n",
       "  padding-bottom: 0.4em;\n",
       "  background-color: var(--sklearn-color-background);\n",
       "}\n",
       "\n",
       "#sk-container-id-3 div.sk-container {\n",
       "  /* jupyter's `normalize.less` sets `[hidden] { display: none; }`\n",
       "     but bootstrap.min.css set `[hidden] { display: none !important; }`\n",
       "     so we also need the `!important` here to be able to override the\n",
       "     default hidden behavior on the sphinx rendered scikit-learn.org.\n",
       "     See: https://github.com/scikit-learn/scikit-learn/issues/21755 */\n",
       "  display: inline-block !important;\n",
       "  position: relative;\n",
       "}\n",
       "\n",
       "#sk-container-id-3 div.sk-text-repr-fallback {\n",
       "  display: none;\n",
       "}\n",
       "\n",
       "div.sk-parallel-item,\n",
       "div.sk-serial,\n",
       "div.sk-item {\n",
       "  /* draw centered vertical line to link estimators */\n",
       "  background-image: linear-gradient(var(--sklearn-color-text-on-default-background), var(--sklearn-color-text-on-default-background));\n",
       "  background-size: 2px 100%;\n",
       "  background-repeat: no-repeat;\n",
       "  background-position: center center;\n",
       "}\n",
       "\n",
       "/* Parallel-specific style estimator block */\n",
       "\n",
       "#sk-container-id-3 div.sk-parallel-item::after {\n",
       "  content: \"\";\n",
       "  width: 100%;\n",
       "  border-bottom: 2px solid var(--sklearn-color-text-on-default-background);\n",
       "  flex-grow: 1;\n",
       "}\n",
       "\n",
       "#sk-container-id-3 div.sk-parallel {\n",
       "  display: flex;\n",
       "  align-items: stretch;\n",
       "  justify-content: center;\n",
       "  background-color: var(--sklearn-color-background);\n",
       "  position: relative;\n",
       "}\n",
       "\n",
       "#sk-container-id-3 div.sk-parallel-item {\n",
       "  display: flex;\n",
       "  flex-direction: column;\n",
       "}\n",
       "\n",
       "#sk-container-id-3 div.sk-parallel-item:first-child::after {\n",
       "  align-self: flex-end;\n",
       "  width: 50%;\n",
       "}\n",
       "\n",
       "#sk-container-id-3 div.sk-parallel-item:last-child::after {\n",
       "  align-self: flex-start;\n",
       "  width: 50%;\n",
       "}\n",
       "\n",
       "#sk-container-id-3 div.sk-parallel-item:only-child::after {\n",
       "  width: 0;\n",
       "}\n",
       "\n",
       "/* Serial-specific style estimator block */\n",
       "\n",
       "#sk-container-id-3 div.sk-serial {\n",
       "  display: flex;\n",
       "  flex-direction: column;\n",
       "  align-items: center;\n",
       "  background-color: var(--sklearn-color-background);\n",
       "  padding-right: 1em;\n",
       "  padding-left: 1em;\n",
       "}\n",
       "\n",
       "\n",
       "/* Toggleable style: style used for estimator/Pipeline/ColumnTransformer box that is\n",
       "clickable and can be expanded/collapsed.\n",
       "- Pipeline and ColumnTransformer use this feature and define the default style\n",
       "- Estimators will overwrite some part of the style using the `sk-estimator` class\n",
       "*/\n",
       "\n",
       "/* Pipeline and ColumnTransformer style (default) */\n",
       "\n",
       "#sk-container-id-3 div.sk-toggleable {\n",
       "  /* Default theme specific background. It is overwritten whether we have a\n",
       "  specific estimator or a Pipeline/ColumnTransformer */\n",
       "  background-color: var(--sklearn-color-background);\n",
       "}\n",
       "\n",
       "/* Toggleable label */\n",
       "#sk-container-id-3 label.sk-toggleable__label {\n",
       "  cursor: pointer;\n",
       "  display: block;\n",
       "  width: 100%;\n",
       "  margin-bottom: 0;\n",
       "  padding: 0.5em;\n",
       "  box-sizing: border-box;\n",
       "  text-align: center;\n",
       "}\n",
       "\n",
       "#sk-container-id-3 label.sk-toggleable__label-arrow:before {\n",
       "  /* Arrow on the left of the label */\n",
       "  content: \"▸\";\n",
       "  float: left;\n",
       "  margin-right: 0.25em;\n",
       "  color: var(--sklearn-color-icon);\n",
       "}\n",
       "\n",
       "#sk-container-id-3 label.sk-toggleable__label-arrow:hover:before {\n",
       "  color: var(--sklearn-color-text);\n",
       "}\n",
       "\n",
       "/* Toggleable content - dropdown */\n",
       "\n",
       "#sk-container-id-3 div.sk-toggleable__content {\n",
       "  max-height: 0;\n",
       "  max-width: 0;\n",
       "  overflow: hidden;\n",
       "  text-align: left;\n",
       "  /* unfitted */\n",
       "  background-color: var(--sklearn-color-unfitted-level-0);\n",
       "}\n",
       "\n",
       "#sk-container-id-3 div.sk-toggleable__content.fitted {\n",
       "  /* fitted */\n",
       "  background-color: var(--sklearn-color-fitted-level-0);\n",
       "}\n",
       "\n",
       "#sk-container-id-3 div.sk-toggleable__content pre {\n",
       "  margin: 0.2em;\n",
       "  border-radius: 0.25em;\n",
       "  color: var(--sklearn-color-text);\n",
       "  /* unfitted */\n",
       "  background-color: var(--sklearn-color-unfitted-level-0);\n",
       "}\n",
       "\n",
       "#sk-container-id-3 div.sk-toggleable__content.fitted pre {\n",
       "  /* unfitted */\n",
       "  background-color: var(--sklearn-color-fitted-level-0);\n",
       "}\n",
       "\n",
       "#sk-container-id-3 input.sk-toggleable__control:checked~div.sk-toggleable__content {\n",
       "  /* Expand drop-down */\n",
       "  max-height: 200px;\n",
       "  max-width: 100%;\n",
       "  overflow: auto;\n",
       "}\n",
       "\n",
       "#sk-container-id-3 input.sk-toggleable__control:checked~label.sk-toggleable__label-arrow:before {\n",
       "  content: \"▾\";\n",
       "}\n",
       "\n",
       "/* Pipeline/ColumnTransformer-specific style */\n",
       "\n",
       "#sk-container-id-3 div.sk-label input.sk-toggleable__control:checked~label.sk-toggleable__label {\n",
       "  color: var(--sklearn-color-text);\n",
       "  background-color: var(--sklearn-color-unfitted-level-2);\n",
       "}\n",
       "\n",
       "#sk-container-id-3 div.sk-label.fitted input.sk-toggleable__control:checked~label.sk-toggleable__label {\n",
       "  background-color: var(--sklearn-color-fitted-level-2);\n",
       "}\n",
       "\n",
       "/* Estimator-specific style */\n",
       "\n",
       "/* Colorize estimator box */\n",
       "#sk-container-id-3 div.sk-estimator input.sk-toggleable__control:checked~label.sk-toggleable__label {\n",
       "  /* unfitted */\n",
       "  background-color: var(--sklearn-color-unfitted-level-2);\n",
       "}\n",
       "\n",
       "#sk-container-id-3 div.sk-estimator.fitted input.sk-toggleable__control:checked~label.sk-toggleable__label {\n",
       "  /* fitted */\n",
       "  background-color: var(--sklearn-color-fitted-level-2);\n",
       "}\n",
       "\n",
       "#sk-container-id-3 div.sk-label label.sk-toggleable__label,\n",
       "#sk-container-id-3 div.sk-label label {\n",
       "  /* The background is the default theme color */\n",
       "  color: var(--sklearn-color-text-on-default-background);\n",
       "}\n",
       "\n",
       "/* On hover, darken the color of the background */\n",
       "#sk-container-id-3 div.sk-label:hover label.sk-toggleable__label {\n",
       "  color: var(--sklearn-color-text);\n",
       "  background-color: var(--sklearn-color-unfitted-level-2);\n",
       "}\n",
       "\n",
       "/* Label box, darken color on hover, fitted */\n",
       "#sk-container-id-3 div.sk-label.fitted:hover label.sk-toggleable__label.fitted {\n",
       "  color: var(--sklearn-color-text);\n",
       "  background-color: var(--sklearn-color-fitted-level-2);\n",
       "}\n",
       "\n",
       "/* Estimator label */\n",
       "\n",
       "#sk-container-id-3 div.sk-label label {\n",
       "  font-family: monospace;\n",
       "  font-weight: bold;\n",
       "  display: inline-block;\n",
       "  line-height: 1.2em;\n",
       "}\n",
       "\n",
       "#sk-container-id-3 div.sk-label-container {\n",
       "  text-align: center;\n",
       "}\n",
       "\n",
       "/* Estimator-specific */\n",
       "#sk-container-id-3 div.sk-estimator {\n",
       "  font-family: monospace;\n",
       "  border: 1px dotted var(--sklearn-color-border-box);\n",
       "  border-radius: 0.25em;\n",
       "  box-sizing: border-box;\n",
       "  margin-bottom: 0.5em;\n",
       "  /* unfitted */\n",
       "  background-color: var(--sklearn-color-unfitted-level-0);\n",
       "}\n",
       "\n",
       "#sk-container-id-3 div.sk-estimator.fitted {\n",
       "  /* fitted */\n",
       "  background-color: var(--sklearn-color-fitted-level-0);\n",
       "}\n",
       "\n",
       "/* on hover */\n",
       "#sk-container-id-3 div.sk-estimator:hover {\n",
       "  /* unfitted */\n",
       "  background-color: var(--sklearn-color-unfitted-level-2);\n",
       "}\n",
       "\n",
       "#sk-container-id-3 div.sk-estimator.fitted:hover {\n",
       "  /* fitted */\n",
       "  background-color: var(--sklearn-color-fitted-level-2);\n",
       "}\n",
       "\n",
       "/* Specification for estimator info (e.g. \"i\" and \"?\") */\n",
       "\n",
       "/* Common style for \"i\" and \"?\" */\n",
       "\n",
       ".sk-estimator-doc-link,\n",
       "a:link.sk-estimator-doc-link,\n",
       "a:visited.sk-estimator-doc-link {\n",
       "  float: right;\n",
       "  font-size: smaller;\n",
       "  line-height: 1em;\n",
       "  font-family: monospace;\n",
       "  background-color: var(--sklearn-color-background);\n",
       "  border-radius: 1em;\n",
       "  height: 1em;\n",
       "  width: 1em;\n",
       "  text-decoration: none !important;\n",
       "  margin-left: 1ex;\n",
       "  /* unfitted */\n",
       "  border: var(--sklearn-color-unfitted-level-1) 1pt solid;\n",
       "  color: var(--sklearn-color-unfitted-level-1);\n",
       "}\n",
       "\n",
       ".sk-estimator-doc-link.fitted,\n",
       "a:link.sk-estimator-doc-link.fitted,\n",
       "a:visited.sk-estimator-doc-link.fitted {\n",
       "  /* fitted */\n",
       "  border: var(--sklearn-color-fitted-level-1) 1pt solid;\n",
       "  color: var(--sklearn-color-fitted-level-1);\n",
       "}\n",
       "\n",
       "/* On hover */\n",
       "div.sk-estimator:hover .sk-estimator-doc-link:hover,\n",
       ".sk-estimator-doc-link:hover,\n",
       "div.sk-label-container:hover .sk-estimator-doc-link:hover,\n",
       ".sk-estimator-doc-link:hover {\n",
       "  /* unfitted */\n",
       "  background-color: var(--sklearn-color-unfitted-level-3);\n",
       "  color: var(--sklearn-color-background);\n",
       "  text-decoration: none;\n",
       "}\n",
       "\n",
       "div.sk-estimator.fitted:hover .sk-estimator-doc-link.fitted:hover,\n",
       ".sk-estimator-doc-link.fitted:hover,\n",
       "div.sk-label-container:hover .sk-estimator-doc-link.fitted:hover,\n",
       ".sk-estimator-doc-link.fitted:hover {\n",
       "  /* fitted */\n",
       "  background-color: var(--sklearn-color-fitted-level-3);\n",
       "  color: var(--sklearn-color-background);\n",
       "  text-decoration: none;\n",
       "}\n",
       "\n",
       "/* Span, style for the box shown on hovering the info icon */\n",
       ".sk-estimator-doc-link span {\n",
       "  display: none;\n",
       "  z-index: 9999;\n",
       "  position: relative;\n",
       "  font-weight: normal;\n",
       "  right: .2ex;\n",
       "  padding: .5ex;\n",
       "  margin: .5ex;\n",
       "  width: min-content;\n",
       "  min-width: 20ex;\n",
       "  max-width: 50ex;\n",
       "  color: var(--sklearn-color-text);\n",
       "  box-shadow: 2pt 2pt 4pt #999;\n",
       "  /* unfitted */\n",
       "  background: var(--sklearn-color-unfitted-level-0);\n",
       "  border: .5pt solid var(--sklearn-color-unfitted-level-3);\n",
       "}\n",
       "\n",
       ".sk-estimator-doc-link.fitted span {\n",
       "  /* fitted */\n",
       "  background: var(--sklearn-color-fitted-level-0);\n",
       "  border: var(--sklearn-color-fitted-level-3);\n",
       "}\n",
       "\n",
       ".sk-estimator-doc-link:hover span {\n",
       "  display: block;\n",
       "}\n",
       "\n",
       "/* \"?\"-specific style due to the `<a>` HTML tag */\n",
       "\n",
       "#sk-container-id-3 a.estimator_doc_link {\n",
       "  float: right;\n",
       "  font-size: 1rem;\n",
       "  line-height: 1em;\n",
       "  font-family: monospace;\n",
       "  background-color: var(--sklearn-color-background);\n",
       "  border-radius: 1rem;\n",
       "  height: 1rem;\n",
       "  width: 1rem;\n",
       "  text-decoration: none;\n",
       "  /* unfitted */\n",
       "  color: var(--sklearn-color-unfitted-level-1);\n",
       "  border: var(--sklearn-color-unfitted-level-1) 1pt solid;\n",
       "}\n",
       "\n",
       "#sk-container-id-3 a.estimator_doc_link.fitted {\n",
       "  /* fitted */\n",
       "  border: var(--sklearn-color-fitted-level-1) 1pt solid;\n",
       "  color: var(--sklearn-color-fitted-level-1);\n",
       "}\n",
       "\n",
       "/* On hover */\n",
       "#sk-container-id-3 a.estimator_doc_link:hover {\n",
       "  /* unfitted */\n",
       "  background-color: var(--sklearn-color-unfitted-level-3);\n",
       "  color: var(--sklearn-color-background);\n",
       "  text-decoration: none;\n",
       "}\n",
       "\n",
       "#sk-container-id-3 a.estimator_doc_link.fitted:hover {\n",
       "  /* fitted */\n",
       "  background-color: var(--sklearn-color-fitted-level-3);\n",
       "}\n",
       "</style><div id=\"sk-container-id-3\" class=\"sk-top-container\"><div class=\"sk-text-repr-fallback\"><pre>LabelEncoder()</pre><b>In a Jupyter environment, please rerun this cell to show the HTML representation or trust the notebook. <br />On GitHub, the HTML representation is unable to render, please try loading this page with nbviewer.org.</b></div><div class=\"sk-container\" hidden><div class=\"sk-item\"><div class=\"sk-estimator fitted sk-toggleable\"><input class=\"sk-toggleable__control sk-hidden--visually\" id=\"sk-estimator-id-3\" type=\"checkbox\" checked><label for=\"sk-estimator-id-3\" class=\"sk-toggleable__label fitted sk-toggleable__label-arrow fitted\">&nbsp;&nbsp;LabelEncoder<a class=\"sk-estimator-doc-link fitted\" rel=\"noreferrer\" target=\"_blank\" href=\"https://scikit-learn.org/1.5/modules/generated/sklearn.preprocessing.LabelEncoder.html\">?<span>Documentation for LabelEncoder</span></a><span class=\"sk-estimator-doc-link fitted\">i<span>Fitted</span></span></label><div class=\"sk-toggleable__content fitted\"><pre>LabelEncoder()</pre></div> </div></div></div></div>"
      ],
      "text/plain": [
       "LabelEncoder()"
      ]
     },
     "execution_count": 257,
     "metadata": {},
     "output_type": "execute_result"
    }
   ],
   "source": [
    "le = LabelEncoder()\n",
    "le.fit(new_df.select(pl.col('v2ProductName')))"
   ]
  },
  {
   "cell_type": "code",
   "execution_count": 258,
   "metadata": {},
   "outputs": [
    {
     "name": "stderr",
     "output_type": "stream",
     "text": [
      "c:\\Users\\andre\\AppData\\Local\\Programs\\Python\\Python312\\Lib\\site-packages\\sklearn\\preprocessing\\_label.py:132: DataConversionWarning: A column-vector y was passed when a 1d array was expected. Please change the shape of y to (n_samples, ), for example using ravel().\n",
      "  y = column_or_1d(y, dtype=self.classes_.dtype, warn=True)\n"
     ]
    },
    {
     "data": {
      "text/plain": [
       "array([122,  37,  66, ..., 136, 145, 166], dtype=int64)"
      ]
     },
     "execution_count": 258,
     "metadata": {},
     "output_type": "execute_result"
    }
   ],
   "source": [
    "encoded_products = le.transform(new_df.select(pl.col('v2ProductName')))\n",
    "encoded_products"
   ]
  },
  {
   "cell_type": "code",
   "execution_count": 259,
   "metadata": {},
   "outputs": [
    {
     "data": {
      "text/html": [
       "<div><style>\n",
       ".dataframe > thead > tr,\n",
       ".dataframe > tbody > tr {\n",
       "  text-align: right;\n",
       "  white-space: pre-wrap;\n",
       "}\n",
       "</style>\n",
       "<small>shape: (32_696, 5)</small><table border=\"1\" class=\"dataframe\"><thead><tr><th>date</th><th>fullVisitorId</th><th>country</th><th>transactionId</th><th>v2ProductName</th></tr><tr><td>date</td><td>str</td><td>i32</td><td>i32</td><td>i64</td></tr></thead><tbody><tr><td>2017-07-31</td><td>&quot;9308310352918219134&quot;</td><td>0</td><td>0</td><td>122</td></tr><tr><td>2017-07-31</td><td>&quot;9308310352918219134&quot;</td><td>0</td><td>0</td><td>37</td></tr><tr><td>2017-07-31</td><td>&quot;9308310352918219134&quot;</td><td>0</td><td>0</td><td>66</td></tr><tr><td>2017-07-31</td><td>&quot;9308310352918219134&quot;</td><td>0</td><td>0</td><td>62</td></tr><tr><td>2017-07-31</td><td>&quot;9308310352918219134&quot;</td><td>0</td><td>0</td><td>9</td></tr><tr><td>&hellip;</td><td>&hellip;</td><td>&hellip;</td><td>&hellip;</td><td>&hellip;</td></tr><tr><td>2017-07-31</td><td>&quot;7444499703471460562&quot;</td><td>1</td><td>0</td><td>146</td></tr><tr><td>2017-07-31</td><td>&quot;7444499703471460562&quot;</td><td>1</td><td>0</td><td>147</td></tr><tr><td>2017-07-31</td><td>&quot;7444499703471460562&quot;</td><td>1</td><td>0</td><td>136</td></tr><tr><td>2017-07-31</td><td>&quot;7444499703471460562&quot;</td><td>1</td><td>0</td><td>145</td></tr><tr><td>2017-07-31</td><td>&quot;7444499703471460562&quot;</td><td>1</td><td>0</td><td>166</td></tr></tbody></table></div>"
      ],
      "text/plain": [
       "shape: (32_696, 5)\n",
       "┌────────────┬─────────────────────┬─────────┬───────────────┬───────────────┐\n",
       "│ date       ┆ fullVisitorId       ┆ country ┆ transactionId ┆ v2ProductName │\n",
       "│ ---        ┆ ---                 ┆ ---     ┆ ---           ┆ ---           │\n",
       "│ date       ┆ str                 ┆ i32     ┆ i32           ┆ i64           │\n",
       "╞════════════╪═════════════════════╪═════════╪═══════════════╪═══════════════╡\n",
       "│ 2017-07-31 ┆ 9308310352918219134 ┆ 0       ┆ 0             ┆ 122           │\n",
       "│ 2017-07-31 ┆ 9308310352918219134 ┆ 0       ┆ 0             ┆ 37            │\n",
       "│ 2017-07-31 ┆ 9308310352918219134 ┆ 0       ┆ 0             ┆ 66            │\n",
       "│ 2017-07-31 ┆ 9308310352918219134 ┆ 0       ┆ 0             ┆ 62            │\n",
       "│ 2017-07-31 ┆ 9308310352918219134 ┆ 0       ┆ 0             ┆ 9             │\n",
       "│ …          ┆ …                   ┆ …       ┆ …             ┆ …             │\n",
       "│ 2017-07-31 ┆ 7444499703471460562 ┆ 1       ┆ 0             ┆ 146           │\n",
       "│ 2017-07-31 ┆ 7444499703471460562 ┆ 1       ┆ 0             ┆ 147           │\n",
       "│ 2017-07-31 ┆ 7444499703471460562 ┆ 1       ┆ 0             ┆ 136           │\n",
       "│ 2017-07-31 ┆ 7444499703471460562 ┆ 1       ┆ 0             ┆ 145           │\n",
       "│ 2017-07-31 ┆ 7444499703471460562 ┆ 1       ┆ 0             ┆ 166           │\n",
       "└────────────┴─────────────────────┴─────────┴───────────────┴───────────────┘"
      ]
     },
     "execution_count": 259,
     "metadata": {},
     "output_type": "execute_result"
    }
   ],
   "source": [
    "new_df= new_df.with_columns(pl.Series('v2ProductName', encoded_products))\n",
    "new_df"
   ]
  },
  {
   "cell_type": "code",
   "execution_count": 260,
   "metadata": {},
   "outputs": [
    {
     "data": {
      "text/html": [
       "<div><style>\n",
       ".dataframe > thead > tr,\n",
       ".dataframe > tbody > tr {\n",
       "  text-align: right;\n",
       "  white-space: pre-wrap;\n",
       "}\n",
       "</style>\n",
       "<small>shape: (32_696, 5)</small><table border=\"1\" class=\"dataframe\"><thead><tr><th>date</th><th>fullVisitorId</th><th>country</th><th>transactionId</th><th>v2ProductName</th></tr><tr><td>date</td><td>str</td><td>i32</td><td>i32</td><td>i64</td></tr></thead><tbody><tr><td>2017-07-31</td><td>&quot;9308310352918219134&quot;</td><td>0</td><td>0</td><td>122</td></tr><tr><td>2017-07-31</td><td>&quot;9308310352918219134&quot;</td><td>0</td><td>0</td><td>37</td></tr><tr><td>2017-07-31</td><td>&quot;9308310352918219134&quot;</td><td>0</td><td>0</td><td>66</td></tr><tr><td>2017-07-31</td><td>&quot;9308310352918219134&quot;</td><td>0</td><td>0</td><td>62</td></tr><tr><td>2017-07-31</td><td>&quot;9308310352918219134&quot;</td><td>0</td><td>0</td><td>9</td></tr><tr><td>&hellip;</td><td>&hellip;</td><td>&hellip;</td><td>&hellip;</td><td>&hellip;</td></tr><tr><td>2017-07-31</td><td>&quot;7444499703471460562&quot;</td><td>1</td><td>0</td><td>146</td></tr><tr><td>2017-07-31</td><td>&quot;7444499703471460562&quot;</td><td>1</td><td>0</td><td>147</td></tr><tr><td>2017-07-31</td><td>&quot;7444499703471460562&quot;</td><td>1</td><td>0</td><td>136</td></tr><tr><td>2017-07-31</td><td>&quot;7444499703471460562&quot;</td><td>1</td><td>0</td><td>145</td></tr><tr><td>2017-07-31</td><td>&quot;7444499703471460562&quot;</td><td>1</td><td>0</td><td>166</td></tr></tbody></table></div>"
      ],
      "text/plain": [
       "shape: (32_696, 5)\n",
       "┌────────────┬─────────────────────┬─────────┬───────────────┬───────────────┐\n",
       "│ date       ┆ fullVisitorId       ┆ country ┆ transactionId ┆ v2ProductName │\n",
       "│ ---        ┆ ---                 ┆ ---     ┆ ---           ┆ ---           │\n",
       "│ date       ┆ str                 ┆ i32     ┆ i32           ┆ i64           │\n",
       "╞════════════╪═════════════════════╪═════════╪═══════════════╪═══════════════╡\n",
       "│ 2017-07-31 ┆ 9308310352918219134 ┆ 0       ┆ 0             ┆ 122           │\n",
       "│ 2017-07-31 ┆ 9308310352918219134 ┆ 0       ┆ 0             ┆ 37            │\n",
       "│ 2017-07-31 ┆ 9308310352918219134 ┆ 0       ┆ 0             ┆ 66            │\n",
       "│ 2017-07-31 ┆ 9308310352918219134 ┆ 0       ┆ 0             ┆ 62            │\n",
       "│ 2017-07-31 ┆ 9308310352918219134 ┆ 0       ┆ 0             ┆ 9             │\n",
       "│ …          ┆ …                   ┆ …       ┆ …             ┆ …             │\n",
       "│ 2017-07-31 ┆ 7444499703471460562 ┆ 1       ┆ 0             ┆ 146           │\n",
       "│ 2017-07-31 ┆ 7444499703471460562 ┆ 1       ┆ 0             ┆ 147           │\n",
       "│ 2017-07-31 ┆ 7444499703471460562 ┆ 1       ┆ 0             ┆ 136           │\n",
       "│ 2017-07-31 ┆ 7444499703471460562 ┆ 1       ┆ 0             ┆ 145           │\n",
       "│ 2017-07-31 ┆ 7444499703471460562 ┆ 1       ┆ 0             ┆ 166           │\n",
       "└────────────┴─────────────────────┴─────────┴───────────────┴───────────────┘"
      ]
     },
     "execution_count": 260,
     "metadata": {},
     "output_type": "execute_result"
    }
   ],
   "source": [
    "new_df"
   ]
  },
  {
   "cell_type": "code",
   "execution_count": 229,
   "metadata": {},
   "outputs": [
    {
     "ename": "ShapeError",
     "evalue": "unable to add a column of length 49512 to a DataFrame of height 32696",
     "output_type": "error",
     "traceback": [
      "\u001b[1;31m---------------------------------------------------------------------------\u001b[0m",
      "\u001b[1;31mShapeError\u001b[0m                                Traceback (most recent call last)",
      "Cell \u001b[1;32mIn[229], line 1\u001b[0m\n\u001b[1;32m----> 1\u001b[0m new_df \u001b[38;5;241m=\u001b[39m \u001b[43mnew_df\u001b[49m\u001b[38;5;241;43m.\u001b[39;49m\u001b[43mwith_columns\u001b[49m\u001b[43m(\u001b[49m\u001b[43mpl\u001b[49m\u001b[38;5;241;43m.\u001b[39;49m\u001b[43mDataFrame\u001b[49m\u001b[43m(\u001b[49m\u001b[43mtransformed\u001b[49m\u001b[43m)\u001b[49m\u001b[43m)\u001b[49m\u001b[38;5;241m.\u001b[39malias(\u001b[38;5;124m'\u001b[39m\u001b[38;5;124mv2ProductName\u001b[39m\u001b[38;5;124m'\u001b[39m)\n\u001b[0;32m      2\u001b[0m new_df\n",
      "File \u001b[1;32mc:\\Users\\andre\\AppData\\Local\\Programs\\Python\\Python312\\Lib\\site-packages\\polars\\dataframe\\frame.py:9183\u001b[0m, in \u001b[0;36mDataFrame.with_columns\u001b[1;34m(self, *exprs, **named_exprs)\u001b[0m\n\u001b[0;32m   9037\u001b[0m \u001b[38;5;28;01mdef\u001b[39;00m \u001b[38;5;21mwith_columns\u001b[39m(\n\u001b[0;32m   9038\u001b[0m     \u001b[38;5;28mself\u001b[39m,\n\u001b[0;32m   9039\u001b[0m     \u001b[38;5;241m*\u001b[39mexprs: IntoExpr \u001b[38;5;241m|\u001b[39m Iterable[IntoExpr],\n\u001b[0;32m   9040\u001b[0m     \u001b[38;5;241m*\u001b[39m\u001b[38;5;241m*\u001b[39mnamed_exprs: IntoExpr,\n\u001b[0;32m   9041\u001b[0m ) \u001b[38;5;241m-\u001b[39m\u001b[38;5;241m>\u001b[39m DataFrame:\n\u001b[0;32m   9042\u001b[0m \u001b[38;5;250m    \u001b[39m\u001b[38;5;124;03m\"\"\"\u001b[39;00m\n\u001b[0;32m   9043\u001b[0m \u001b[38;5;124;03m    Add columns to this DataFrame.\u001b[39;00m\n\u001b[0;32m   9044\u001b[0m \n\u001b[1;32m   (...)\u001b[0m\n\u001b[0;32m   9181\u001b[0m \u001b[38;5;124;03m    └─────┴──────┴─────────────┘\u001b[39;00m\n\u001b[0;32m   9182\u001b[0m \u001b[38;5;124;03m    \"\"\"\u001b[39;00m\n\u001b[1;32m-> 9183\u001b[0m     \u001b[38;5;28;01mreturn\u001b[39;00m \u001b[38;5;28;43mself\u001b[39;49m\u001b[38;5;241;43m.\u001b[39;49m\u001b[43mlazy\u001b[49m\u001b[43m(\u001b[49m\u001b[43m)\u001b[49m\u001b[38;5;241;43m.\u001b[39;49m\u001b[43mwith_columns\u001b[49m\u001b[43m(\u001b[49m\u001b[38;5;241;43m*\u001b[39;49m\u001b[43mexprs\u001b[49m\u001b[43m,\u001b[49m\u001b[43m \u001b[49m\u001b[38;5;241;43m*\u001b[39;49m\u001b[38;5;241;43m*\u001b[39;49m\u001b[43mnamed_exprs\u001b[49m\u001b[43m)\u001b[49m\u001b[38;5;241;43m.\u001b[39;49m\u001b[43mcollect\u001b[49m\u001b[43m(\u001b[49m\u001b[43m_eager\u001b[49m\u001b[38;5;241;43m=\u001b[39;49m\u001b[38;5;28;43;01mTrue\u001b[39;49;00m\u001b[43m)\u001b[49m\n",
      "File \u001b[1;32mc:\\Users\\andre\\AppData\\Local\\Programs\\Python\\Python312\\Lib\\site-packages\\polars\\lazyframe\\frame.py:2050\u001b[0m, in \u001b[0;36mLazyFrame.collect\u001b[1;34m(self, type_coercion, predicate_pushdown, projection_pushdown, simplify_expression, slice_pushdown, comm_subplan_elim, comm_subexpr_elim, cluster_with_columns, collapse_joins, no_optimization, streaming, engine, background, _eager, **_kwargs)\u001b[0m\n\u001b[0;32m   2048\u001b[0m \u001b[38;5;66;03m# Only for testing purposes\u001b[39;00m\n\u001b[0;32m   2049\u001b[0m callback \u001b[38;5;241m=\u001b[39m _kwargs\u001b[38;5;241m.\u001b[39mget(\u001b[38;5;124m\"\u001b[39m\u001b[38;5;124mpost_opt_callback\u001b[39m\u001b[38;5;124m\"\u001b[39m, callback)\n\u001b[1;32m-> 2050\u001b[0m \u001b[38;5;28;01mreturn\u001b[39;00m wrap_df(\u001b[43mldf\u001b[49m\u001b[38;5;241;43m.\u001b[39;49m\u001b[43mcollect\u001b[49m\u001b[43m(\u001b[49m\u001b[43mcallback\u001b[49m\u001b[43m)\u001b[49m)\n",
      "\u001b[1;31mShapeError\u001b[0m: unable to add a column of length 49512 to a DataFrame of height 32696"
     ]
    }
   ],
   "source": [
    "new_df = new_df.with_columns(pl.DataFrame(transformed)).alias('v2ProductName')\n",
    "new_df"
   ]
  },
  {
   "cell_type": "code",
   "execution_count": 205,
   "metadata": {},
   "outputs": [],
   "source": [
    "new_df.write_csv(\"../data/cleaned_google_analytics.csv\")"
   ]
  },
  {
   "cell_type": "code",
   "execution_count": null,
   "metadata": {},
   "outputs": [
    {
     "data": {
      "text/plain": [
       "4087"
      ]
     },
     "execution_count": 163,
     "metadata": {},
     "output_type": "execute_result"
    }
   ],
   "source": [
    "# Need to split the data into subsets & perform the target encoding... k fold target encoding\n",
    "# num_samples = len(new_df) // 8\n",
    "# num_samples\n",
    "# new_df = new_df.with_columns(pl.DataFrame({'kfold':np.repeat(np.arange(1, 9), num_samples)}))\n",
    "# new_df"
   ]
  },
  {
   "cell_type": "markdown",
   "metadata": {},
   "source": [
    "### Data Pre-processing Pipeline"
   ]
  },
  {
   "cell_type": "code",
   "execution_count": 202,
   "metadata": {},
   "outputs": [],
   "source": [
    "def preprocessing_pipeline(df: pl.DataFrame) -> pl.DataFrame:\n",
    "    \"\"\"\n",
    "    Args:\n",
    "        df : pl.DataFrame\n",
    "\n",
    "    Returns:\n",
    "        pl.DataFrames: pre-processed dataframe\n",
    "    \"\"\"\n",
    "\n",
    "    df = df.with_columns(pl.col('date').str.strptime(pl.Date, format=\"%Y%m%d\"))\n",
    "    df.write_csv(\"../data/cleaned_google_analytics.csv\")\n",
    "    return df "
   ]
  },
  {
   "cell_type": "code",
   "execution_count": 204,
   "metadata": {},
   "outputs": [
    {
     "data": {
      "text/html": [
       "<div><style>\n",
       ".dataframe > thead > tr,\n",
       ".dataframe > tbody > tr {\n",
       "  text-align: right;\n",
       "  white-space: pre-wrap;\n",
       "}\n",
       "</style>\n",
       "<small>shape: (49_512, 13)</small><table border=\"1\" class=\"dataframe\"><thead><tr><th>date</th><th>visitStartTime</th><th>fullVisitorId</th><th>subContinent</th><th>country</th><th>city</th><th>browser</th><th>operatingSystem</th><th>deviceCategory</th><th>source</th><th>transactionId</th><th>v2ProductName</th><th>v2ProductCategory</th></tr><tr><td>date</td><td>i64</td><td>str</td><td>str</td><td>str</td><td>str</td><td>str</td><td>str</td><td>str</td><td>str</td><td>str</td><td>str</td><td>str</td></tr></thead><tbody><tr><td>2017-07-31</td><td>1501520683</td><td>&quot;2219384770970157334&quot;</td><td>&quot;Eastern Europe&quot;</td><td>&quot;Slovakia&quot;</td><td>&quot;not available in demo dataset&quot;</td><td>&quot;Firefox&quot;</td><td>&quot;Windows&quot;</td><td>&quot;desktop&quot;</td><td>&quot;google&quot;</td><td>null</td><td>&quot;Google Lunch Bag&quot;</td><td>&quot;Home/Bags/More Bags/&quot;</td></tr><tr><td>2017-07-31</td><td>1501520683</td><td>&quot;2219384770970157334&quot;</td><td>&quot;Eastern Europe&quot;</td><td>&quot;Slovakia&quot;</td><td>&quot;not available in demo dataset&quot;</td><td>&quot;Firefox&quot;</td><td>&quot;Windows&quot;</td><td>&quot;desktop&quot;</td><td>&quot;google&quot;</td><td>null</td><td>&quot;Electronics Accessory Pouch&quot;</td><td>&quot;Home/Bags/More Bags/&quot;</td></tr><tr><td>2017-07-31</td><td>1501520683</td><td>&quot;2219384770970157334&quot;</td><td>&quot;Eastern Europe&quot;</td><td>&quot;Slovakia&quot;</td><td>&quot;not available in demo dataset&quot;</td><td>&quot;Firefox&quot;</td><td>&quot;Windows&quot;</td><td>&quot;desktop&quot;</td><td>&quot;google&quot;</td><td>null</td><td>&quot;Sport Bag&quot;</td><td>&quot;Home/Bags/More Bags/&quot;</td></tr><tr><td>2017-07-31</td><td>1501520683</td><td>&quot;2219384770970157334&quot;</td><td>&quot;Eastern Europe&quot;</td><td>&quot;Slovakia&quot;</td><td>&quot;not available in demo dataset&quot;</td><td>&quot;Firefox&quot;</td><td>&quot;Windows&quot;</td><td>&quot;desktop&quot;</td><td>&quot;google&quot;</td><td>null</td><td>&quot;Google Slim Utility Travel Bag&quot;</td><td>&quot;Home/Bags/More Bags/&quot;</td></tr><tr><td>2017-07-31</td><td>1501520683</td><td>&quot;2219384770970157334&quot;</td><td>&quot;Eastern Europe&quot;</td><td>&quot;Slovakia&quot;</td><td>&quot;not available in demo dataset&quot;</td><td>&quot;Firefox&quot;</td><td>&quot;Windows&quot;</td><td>&quot;desktop&quot;</td><td>&quot;google&quot;</td><td>null</td><td>&quot;Suitcase Organizer Cubes&quot;</td><td>&quot;Home/Bags/More Bags/&quot;</td></tr><tr><td>&hellip;</td><td>&hellip;</td><td>&hellip;</td><td>&hellip;</td><td>&hellip;</td><td>&hellip;</td><td>&hellip;</td><td>&hellip;</td><td>&hellip;</td><td>&hellip;</td><td>&hellip;</td><td>&hellip;</td><td>&hellip;</td></tr><tr><td>2017-07-31</td><td>1501537217</td><td>&quot;7483600664917507409&quot;</td><td>&quot;Northern America&quot;</td><td>&quot;United States&quot;</td><td>&quot;Mountain View&quot;</td><td>&quot;Chrome&quot;</td><td>&quot;Macintosh&quot;</td><td>&quot;desktop&quot;</td><td>&quot;(direct)&quot;</td><td>&quot;ORD201707312663&quot;</td><td>&quot;Android 17oz Stainless Steel S…</td><td>&quot;Drinkware&quot;</td></tr><tr><td>2017-07-31</td><td>1501537217</td><td>&quot;7483600664917507409&quot;</td><td>&quot;Northern America&quot;</td><td>&quot;United States&quot;</td><td>&quot;Mountain View&quot;</td><td>&quot;Chrome&quot;</td><td>&quot;Macintosh&quot;</td><td>&quot;desktop&quot;</td><td>&quot;(direct)&quot;</td><td>&quot;ORD201707312663&quot;</td><td>&quot;Android Men&#x27;s Short Sleeve Her…</td><td>&quot;Apparel&quot;</td></tr><tr><td>2017-07-31</td><td>1501537217</td><td>&quot;7483600664917507409&quot;</td><td>&quot;Northern America&quot;</td><td>&quot;United States&quot;</td><td>&quot;Mountain View&quot;</td><td>&quot;Chrome&quot;</td><td>&quot;Macintosh&quot;</td><td>&quot;desktop&quot;</td><td>&quot;(direct)&quot;</td><td>&quot;ORD201707312663&quot;</td><td>&quot;Android Men&#x27;s Take Charge Shor…</td><td>&quot;Apparel&quot;</td></tr><tr><td>2017-07-31</td><td>1501537217</td><td>&quot;7483600664917507409&quot;</td><td>&quot;Northern America&quot;</td><td>&quot;United States&quot;</td><td>&quot;Mountain View&quot;</td><td>&quot;Chrome&quot;</td><td>&quot;Macintosh&quot;</td><td>&quot;desktop&quot;</td><td>&quot;(direct)&quot;</td><td>&quot;ORD201707312663&quot;</td><td>&quot;Google Women&#x27;s Scoop Neck Tee …</td><td>&quot;Apparel&quot;</td></tr><tr><td>2017-07-31</td><td>1501537217</td><td>&quot;7483600664917507409&quot;</td><td>&quot;Northern America&quot;</td><td>&quot;United States&quot;</td><td>&quot;Mountain View&quot;</td><td>&quot;Chrome&quot;</td><td>&quot;Macintosh&quot;</td><td>&quot;desktop&quot;</td><td>&quot;(direct)&quot;</td><td>null</td><td>&quot;Google Men&#x27;s 100% Cotton Short…</td><td>&quot;(not set)&quot;</td></tr></tbody></table></div>"
      ],
      "text/plain": [
       "shape: (49_512, 13)\n",
       "┌────────────┬────────────────┬─────────────────────┬──────────────────┬───┬──────────┬─────────────────┬─────────────────────────────────┬──────────────────────┐\n",
       "│ date       ┆ visitStartTime ┆ fullVisitorId       ┆ subContinent     ┆ … ┆ source   ┆ transactionId   ┆ v2ProductName                   ┆ v2ProductCategory    │\n",
       "│ ---        ┆ ---            ┆ ---                 ┆ ---              ┆   ┆ ---      ┆ ---             ┆ ---                             ┆ ---                  │\n",
       "│ date       ┆ i64            ┆ str                 ┆ str              ┆   ┆ str      ┆ str             ┆ str                             ┆ str                  │\n",
       "╞════════════╪════════════════╪═════════════════════╪══════════════════╪═══╪══════════╪═════════════════╪═════════════════════════════════╪══════════════════════╡\n",
       "│ 2017-07-31 ┆ 1501520683     ┆ 2219384770970157334 ┆ Eastern Europe   ┆ … ┆ google   ┆ null            ┆ Google Lunch Bag                ┆ Home/Bags/More Bags/ │\n",
       "│ 2017-07-31 ┆ 1501520683     ┆ 2219384770970157334 ┆ Eastern Europe   ┆ … ┆ google   ┆ null            ┆ Electronics Accessory Pouch     ┆ Home/Bags/More Bags/ │\n",
       "│ 2017-07-31 ┆ 1501520683     ┆ 2219384770970157334 ┆ Eastern Europe   ┆ … ┆ google   ┆ null            ┆ Sport Bag                       ┆ Home/Bags/More Bags/ │\n",
       "│ 2017-07-31 ┆ 1501520683     ┆ 2219384770970157334 ┆ Eastern Europe   ┆ … ┆ google   ┆ null            ┆ Google Slim Utility Travel Bag  ┆ Home/Bags/More Bags/ │\n",
       "│ 2017-07-31 ┆ 1501520683     ┆ 2219384770970157334 ┆ Eastern Europe   ┆ … ┆ google   ┆ null            ┆ Suitcase Organizer Cubes        ┆ Home/Bags/More Bags/ │\n",
       "│ …          ┆ …              ┆ …                   ┆ …                ┆ … ┆ …        ┆ …               ┆ …                               ┆ …                    │\n",
       "│ 2017-07-31 ┆ 1501537217     ┆ 7483600664917507409 ┆ Northern America ┆ … ┆ (direct) ┆ ORD201707312663 ┆ Android 17oz Stainless Steel S… ┆ Drinkware            │\n",
       "│ 2017-07-31 ┆ 1501537217     ┆ 7483600664917507409 ┆ Northern America ┆ … ┆ (direct) ┆ ORD201707312663 ┆ Android Men's Short Sleeve Her… ┆ Apparel              │\n",
       "│ 2017-07-31 ┆ 1501537217     ┆ 7483600664917507409 ┆ Northern America ┆ … ┆ (direct) ┆ ORD201707312663 ┆ Android Men's Take Charge Shor… ┆ Apparel              │\n",
       "│ 2017-07-31 ┆ 1501537217     ┆ 7483600664917507409 ┆ Northern America ┆ … ┆ (direct) ┆ ORD201707312663 ┆ Google Women's Scoop Neck Tee … ┆ Apparel              │\n",
       "│ 2017-07-31 ┆ 1501537217     ┆ 7483600664917507409 ┆ Northern America ┆ … ┆ (direct) ┆ null            ┆ Google Men's 100% Cotton Short… ┆ (not set)            │\n",
       "└────────────┴────────────────┴─────────────────────┴──────────────────┴───┴──────────┴─────────────────┴─────────────────────────────────┴──────────────────────┘"
      ]
     },
     "execution_count": 204,
     "metadata": {},
     "output_type": "execute_result"
    }
   ],
   "source": [
    "preprocessing_pipeline(df)"
   ]
  },
  {
   "cell_type": "markdown",
   "metadata": {},
   "source": [
    "# Conclusions \n",
    "- "
   ]
  }
 ],
 "metadata": {
  "kernelspec": {
   "display_name": "Python 3",
   "language": "python",
   "name": "python3"
  },
  "language_info": {
   "codemirror_mode": {
    "name": "ipython",
    "version": 3
   },
   "file_extension": ".py",
   "mimetype": "text/x-python",
   "name": "python",
   "nbconvert_exporter": "python",
   "pygments_lexer": "ipython3",
   "version": "3.12.1"
  }
 },
 "nbformat": 4,
 "nbformat_minor": 2
}
