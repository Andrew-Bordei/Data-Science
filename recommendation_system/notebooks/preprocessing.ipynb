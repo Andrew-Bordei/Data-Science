{
 "cells": [
  {
   "cell_type": "markdown",
   "metadata": {},
   "source": [
    "# Dataset Cleaning "
   ]
  },
  {
   "cell_type": "markdown",
   "metadata": {},
   "source": [
    "The main objectives of this notebook are: \n",
    "- Import dataset \n",
    "- Get familiar with the data \n",
    "- Determine if there are data quality issues \n",
    "- Resolve any data quality issues "
   ]
  },
  {
   "cell_type": "code",
   "execution_count": 119,
   "metadata": {},
   "outputs": [],
   "source": [
    "import polars as pl \n",
    "import polars.selectors as cs \n",
    "from google.cloud import bigquery\n",
    "import numpy as np \n",
    "from sklearn.metrics.pairwise import cosine_similarity\n",
    "from sklearn.preprocessing import LabelEncoder\n",
    "import sys \n",
    "import os \n",
    "\n",
    "\n",
    "# Manually add path to read from another folder \n",
    "path2add = os.path.normpath(\n",
    "    os.path.abspath(os.path.join(os.path.dirname(\"__file__\"), os.path.pardir, \"utils\"))\n",
    ")\n",
    "if not (path2add in sys.path):\n",
    "    sys.path.append(path2add)\n",
    "\n",
    "from preprocessing import *"
   ]
  },
  {
   "cell_type": "code",
   "execution_count": 120,
   "metadata": {},
   "outputs": [
    {
     "data": {
      "text/plain": [
       "polars.config.Config"
      ]
     },
     "execution_count": 120,
     "metadata": {},
     "output_type": "execute_result"
    }
   ],
   "source": [
    "pl.Config.set_tbl_width_chars(200)"
   ]
  },
  {
   "cell_type": "code",
   "execution_count": 121,
   "metadata": {},
   "outputs": [],
   "source": [
    "# Create client object\n",
    "client = bigquery.Client()"
   ]
  },
  {
   "cell_type": "code",
   "execution_count": 122,
   "metadata": {},
   "outputs": [],
   "source": [
    "QUERY = (\"SELECT `date`, `visitStartTime`, `fullVisitorId`, `geoNetwork`.`subContinent`, `geoNetwork`.`country`,\"\n",
    "        \"`geoNetwork`.`city`,`device`.`browser`, `device`.`operatingSystem`,`device`.`deviceCategory`,\"\n",
    "        \"`trafficSource`.`source`, `h`.`item`.`transactionId`,`hp`.`v2ProductName`,`hp`.`v2ProductCategory` \"\n",
    "        \"FROM `bigquery-public-data.google_analytics_sample.ga_sessions_20170731`, UNNEST(hits) AS h,\"\n",
    "        \"UNNEST(h.product) AS hp;\")"
   ]
  },
  {
   "cell_type": "code",
   "execution_count": 123,
   "metadata": {},
   "outputs": [],
   "source": [
    "run_query = client.query(QUERY)"
   ]
  },
  {
   "cell_type": "code",
   "execution_count": 124,
   "metadata": {},
   "outputs": [
    {
     "name": "stderr",
     "output_type": "stream",
     "text": [
      "c:\\Users\\andre\\AppData\\Local\\Programs\\Python\\Python312\\Lib\\site-packages\\google\\cloud\\bigquery\\table.py:1727: UserWarning: BigQuery Storage module not found, fetch data with the REST endpoint instead.\n",
      "  warnings.warn(\n"
     ]
    }
   ],
   "source": [
    "df = pl.from_arrow(run_query.to_arrow())"
   ]
  },
  {
   "cell_type": "code",
   "execution_count": 125,
   "metadata": {},
   "outputs": [
    {
     "data": {
      "text/html": [
       "<div><style>\n",
       ".dataframe > thead > tr,\n",
       ".dataframe > tbody > tr {\n",
       "  text-align: right;\n",
       "  white-space: pre-wrap;\n",
       "}\n",
       "</style>\n",
       "<small>shape: (5, 13)</small><table border=\"1\" class=\"dataframe\"><thead><tr><th>date</th><th>visitStartTime</th><th>fullVisitorId</th><th>subContinent</th><th>country</th><th>city</th><th>browser</th><th>operatingSystem</th><th>deviceCategory</th><th>source</th><th>transactionId</th><th>v2ProductName</th><th>v2ProductCategory</th></tr><tr><td>str</td><td>i64</td><td>str</td><td>str</td><td>str</td><td>str</td><td>str</td><td>str</td><td>str</td><td>str</td><td>str</td><td>str</td><td>str</td></tr></thead><tbody><tr><td>&quot;20170731&quot;</td><td>1501520683</td><td>&quot;2219384770970157334&quot;</td><td>&quot;Eastern Europe&quot;</td><td>&quot;Slovakia&quot;</td><td>&quot;not available in demo dataset&quot;</td><td>&quot;Firefox&quot;</td><td>&quot;Windows&quot;</td><td>&quot;desktop&quot;</td><td>&quot;google&quot;</td><td>null</td><td>&quot;Google Lunch Bag&quot;</td><td>&quot;Home/Bags/More Bags/&quot;</td></tr><tr><td>&quot;20170731&quot;</td><td>1501520683</td><td>&quot;2219384770970157334&quot;</td><td>&quot;Eastern Europe&quot;</td><td>&quot;Slovakia&quot;</td><td>&quot;not available in demo dataset&quot;</td><td>&quot;Firefox&quot;</td><td>&quot;Windows&quot;</td><td>&quot;desktop&quot;</td><td>&quot;google&quot;</td><td>null</td><td>&quot;Electronics Accessory Pouch&quot;</td><td>&quot;Home/Bags/More Bags/&quot;</td></tr><tr><td>&quot;20170731&quot;</td><td>1501520683</td><td>&quot;2219384770970157334&quot;</td><td>&quot;Eastern Europe&quot;</td><td>&quot;Slovakia&quot;</td><td>&quot;not available in demo dataset&quot;</td><td>&quot;Firefox&quot;</td><td>&quot;Windows&quot;</td><td>&quot;desktop&quot;</td><td>&quot;google&quot;</td><td>null</td><td>&quot;Sport Bag&quot;</td><td>&quot;Home/Bags/More Bags/&quot;</td></tr><tr><td>&quot;20170731&quot;</td><td>1501520683</td><td>&quot;2219384770970157334&quot;</td><td>&quot;Eastern Europe&quot;</td><td>&quot;Slovakia&quot;</td><td>&quot;not available in demo dataset&quot;</td><td>&quot;Firefox&quot;</td><td>&quot;Windows&quot;</td><td>&quot;desktop&quot;</td><td>&quot;google&quot;</td><td>null</td><td>&quot;Google Slim Utility Travel Bag&quot;</td><td>&quot;Home/Bags/More Bags/&quot;</td></tr><tr><td>&quot;20170731&quot;</td><td>1501520683</td><td>&quot;2219384770970157334&quot;</td><td>&quot;Eastern Europe&quot;</td><td>&quot;Slovakia&quot;</td><td>&quot;not available in demo dataset&quot;</td><td>&quot;Firefox&quot;</td><td>&quot;Windows&quot;</td><td>&quot;desktop&quot;</td><td>&quot;google&quot;</td><td>null</td><td>&quot;Suitcase Organizer Cubes&quot;</td><td>&quot;Home/Bags/More Bags/&quot;</td></tr></tbody></table></div>"
      ],
      "text/plain": [
       "shape: (5, 13)\n",
       "┌──────────┬────────────────┬─────────────────────┬────────────────┬───┬────────┬───────────────┬────────────────────────────────┬──────────────────────┐\n",
       "│ date     ┆ visitStartTime ┆ fullVisitorId       ┆ subContinent   ┆ … ┆ source ┆ transactionId ┆ v2ProductName                  ┆ v2ProductCategory    │\n",
       "│ ---      ┆ ---            ┆ ---                 ┆ ---            ┆   ┆ ---    ┆ ---           ┆ ---                            ┆ ---                  │\n",
       "│ str      ┆ i64            ┆ str                 ┆ str            ┆   ┆ str    ┆ str           ┆ str                            ┆ str                  │\n",
       "╞══════════╪════════════════╪═════════════════════╪════════════════╪═══╪════════╪═══════════════╪════════════════════════════════╪══════════════════════╡\n",
       "│ 20170731 ┆ 1501520683     ┆ 2219384770970157334 ┆ Eastern Europe ┆ … ┆ google ┆ null          ┆ Google Lunch Bag               ┆ Home/Bags/More Bags/ │\n",
       "│ 20170731 ┆ 1501520683     ┆ 2219384770970157334 ┆ Eastern Europe ┆ … ┆ google ┆ null          ┆ Electronics Accessory Pouch    ┆ Home/Bags/More Bags/ │\n",
       "│ 20170731 ┆ 1501520683     ┆ 2219384770970157334 ┆ Eastern Europe ┆ … ┆ google ┆ null          ┆ Sport Bag                      ┆ Home/Bags/More Bags/ │\n",
       "│ 20170731 ┆ 1501520683     ┆ 2219384770970157334 ┆ Eastern Europe ┆ … ┆ google ┆ null          ┆ Google Slim Utility Travel Bag ┆ Home/Bags/More Bags/ │\n",
       "│ 20170731 ┆ 1501520683     ┆ 2219384770970157334 ┆ Eastern Europe ┆ … ┆ google ┆ null          ┆ Suitcase Organizer Cubes       ┆ Home/Bags/More Bags/ │\n",
       "└──────────┴────────────────┴─────────────────────┴────────────────┴───┴────────┴───────────────┴────────────────────────────────┴──────────────────────┘"
      ]
     },
     "execution_count": 125,
     "metadata": {},
     "output_type": "execute_result"
    }
   ],
   "source": [
    "df.head()"
   ]
  },
  {
   "cell_type": "code",
   "execution_count": 126,
   "metadata": {},
   "outputs": [
    {
     "data": {
      "text/plain": [
       "(49512, 13)"
      ]
     },
     "execution_count": 126,
     "metadata": {},
     "output_type": "execute_result"
    }
   ],
   "source": [
    "df.shape"
   ]
  },
  {
   "cell_type": "code",
   "execution_count": 127,
   "metadata": {},
   "outputs": [
    {
     "data": {
      "text/plain": [
       "['date',\n",
       " 'visitStartTime',\n",
       " 'fullVisitorId',\n",
       " 'subContinent',\n",
       " 'country',\n",
       " 'city',\n",
       " 'browser',\n",
       " 'operatingSystem',\n",
       " 'deviceCategory',\n",
       " 'source',\n",
       " 'transactionId',\n",
       " 'v2ProductName',\n",
       " 'v2ProductCategory']"
      ]
     },
     "execution_count": 127,
     "metadata": {},
     "output_type": "execute_result"
    }
   ],
   "source": [
    "df.columns"
   ]
  },
  {
   "cell_type": "code",
   "execution_count": 128,
   "metadata": {},
   "outputs": [
    {
     "data": {
      "text/html": [
       "<div><style>\n",
       ".dataframe > thead > tr,\n",
       ".dataframe > tbody > tr {\n",
       "  text-align: right;\n",
       "  white-space: pre-wrap;\n",
       "}\n",
       "</style>\n",
       "<small>shape: (1, 13)</small><table border=\"1\" class=\"dataframe\"><thead><tr><th>date</th><th>visitStartTime</th><th>fullVisitorId</th><th>subContinent</th><th>country</th><th>city</th><th>browser</th><th>operatingSystem</th><th>deviceCategory</th><th>source</th><th>transactionId</th><th>v2ProductName</th><th>v2ProductCategory</th></tr><tr><td>str</td><td>i64</td><td>str</td><td>str</td><td>str</td><td>str</td><td>str</td><td>str</td><td>str</td><td>str</td><td>str</td><td>str</td><td>str</td></tr></thead><tbody><tr><td>&quot;20170731&quot;</td><td>1501515689</td><td>&quot;4175687200071793448&quot;</td><td>&quot;Northern Europe&quot;</td><td>&quot;Ireland&quot;</td><td>&quot;Dublin&quot;</td><td>&quot;Chrome&quot;</td><td>&quot;Windows&quot;</td><td>&quot;desktop&quot;</td><td>&quot;google&quot;</td><td>null</td><td>&quot;Google Men&#x27;s 100% Cotton Short…</td><td>&quot;Home/Shop by Brand/Google/&quot;</td></tr></tbody></table></div>"
      ],
      "text/plain": [
       "shape: (1, 13)\n",
       "┌──────────┬────────────────┬─────────────────────┬─────────────────┬───┬────────┬───────────────┬─────────────────────────────────┬────────────────────────────┐\n",
       "│ date     ┆ visitStartTime ┆ fullVisitorId       ┆ subContinent    ┆ … ┆ source ┆ transactionId ┆ v2ProductName                   ┆ v2ProductCategory          │\n",
       "│ ---      ┆ ---            ┆ ---                 ┆ ---             ┆   ┆ ---    ┆ ---           ┆ ---                             ┆ ---                        │\n",
       "│ str      ┆ i64            ┆ str                 ┆ str             ┆   ┆ str    ┆ str           ┆ str                             ┆ str                        │\n",
       "╞══════════╪════════════════╪═════════════════════╪═════════════════╪═══╪════════╪═══════════════╪═════════════════════════════════╪════════════════════════════╡\n",
       "│ 20170731 ┆ 1501515689     ┆ 4175687200071793448 ┆ Northern Europe ┆ … ┆ google ┆ null          ┆ Google Men's 100% Cotton Short… ┆ Home/Shop by Brand/Google/ │\n",
       "└──────────┴────────────────┴─────────────────────┴─────────────────┴───┴────────┴───────────────┴─────────────────────────────────┴────────────────────────────┘"
      ]
     },
     "execution_count": 128,
     "metadata": {},
     "output_type": "execute_result"
    }
   ],
   "source": [
    "df.sample()"
   ]
  },
  {
   "cell_type": "code",
   "execution_count": 129,
   "metadata": {},
   "outputs": [
    {
     "data": {
      "text/html": [
       "<div><style>\n",
       ".dataframe > thead > tr,\n",
       ".dataframe > tbody > tr {\n",
       "  text-align: right;\n",
       "  white-space: pre-wrap;\n",
       "}\n",
       "</style>\n",
       "<small>shape: (9, 14)</small><table border=\"1\" class=\"dataframe\"><thead><tr><th>statistic</th><th>date</th><th>visitStartTime</th><th>fullVisitorId</th><th>subContinent</th><th>country</th><th>city</th><th>browser</th><th>operatingSystem</th><th>deviceCategory</th><th>source</th><th>transactionId</th><th>v2ProductName</th><th>v2ProductCategory</th></tr><tr><td>str</td><td>str</td><td>f64</td><td>str</td><td>str</td><td>str</td><td>str</td><td>str</td><td>str</td><td>str</td><td>str</td><td>str</td><td>str</td><td>str</td></tr></thead><tbody><tr><td>&quot;count&quot;</td><td>&quot;49512&quot;</td><td>49512.0</td><td>&quot;49512&quot;</td><td>&quot;49512&quot;</td><td>&quot;49512&quot;</td><td>&quot;49512&quot;</td><td>&quot;49512&quot;</td><td>&quot;49512&quot;</td><td>&quot;49512&quot;</td><td>&quot;49512&quot;</td><td>&quot;462&quot;</td><td>&quot;49512&quot;</td><td>&quot;49512&quot;</td></tr><tr><td>&quot;null_count&quot;</td><td>&quot;0&quot;</td><td>0.0</td><td>&quot;0&quot;</td><td>&quot;0&quot;</td><td>&quot;0&quot;</td><td>&quot;0&quot;</td><td>&quot;0&quot;</td><td>&quot;0&quot;</td><td>&quot;0&quot;</td><td>&quot;0&quot;</td><td>&quot;49050&quot;</td><td>&quot;0&quot;</td><td>&quot;0&quot;</td></tr><tr><td>&quot;mean&quot;</td><td>null</td><td>1.5015e9</td><td>null</td><td>null</td><td>null</td><td>null</td><td>null</td><td>null</td><td>null</td><td>null</td><td>null</td><td>null</td><td>null</td></tr><tr><td>&quot;std&quot;</td><td>null</td><td>21502.167394</td><td>null</td><td>null</td><td>null</td><td>null</td><td>null</td><td>null</td><td>null</td><td>null</td><td>null</td><td>null</td><td>null</td></tr><tr><td>&quot;min&quot;</td><td>&quot;20170731&quot;</td><td>1.5015e9</td><td>&quot;0002457163364254438&quot;</td><td>&quot;Australasia&quot;</td><td>&quot;Algeria&quot;</td><td>&quot;(not set)&quot;</td><td>&quot;Amazon Silk&quot;</td><td>&quot;(not set)&quot;</td><td>&quot;desktop&quot;</td><td>&quot;(direct)&quot;</td><td>&quot;ORD201707311786&quot;</td><td>&quot;1 oz Hand Sanitizer&quot;</td><td>&quot;${escCatTitle}&quot;</td></tr><tr><td>&quot;25%&quot;</td><td>null</td><td>1.5015e9</td><td>null</td><td>null</td><td>null</td><td>null</td><td>null</td><td>null</td><td>null</td><td>null</td><td>null</td><td>null</td><td>null</td></tr><tr><td>&quot;50%&quot;</td><td>null</td><td>1.5015e9</td><td>null</td><td>null</td><td>null</td><td>null</td><td>null</td><td>null</td><td>null</td><td>null</td><td>null</td><td>null</td><td>null</td></tr><tr><td>&quot;75%&quot;</td><td>null</td><td>1.5015e9</td><td>null</td><td>null</td><td>null</td><td>null</td><td>null</td><td>null</td><td>null</td><td>null</td><td>null</td><td>null</td><td>null</td></tr><tr><td>&quot;max&quot;</td><td>&quot;20170731&quot;</td><td>1.5016e9</td><td>&quot;9997362993085245352&quot;</td><td>&quot;Western Europe&quot;</td><td>&quot;Vietnam&quot;</td><td>&quot;not available in demo dataset&quot;</td><td>&quot;YaBrowser&quot;</td><td>&quot;iOS&quot;</td><td>&quot;tablet&quot;</td><td>&quot;youtube.com&quot;</td><td>&quot;ORD201707312663&quot;</td><td>&quot;YouTube Youth Short Sleeve Tee…</td><td>&quot;Wearables/Men&#x27;s T-Shirts/&quot;</td></tr></tbody></table></div>"
      ],
      "text/plain": [
       "shape: (9, 14)\n",
       "┌────────────┬──────────┬────────────────┬─────────────────────┬───┬─────────────┬─────────────────┬─────────────────────────────────┬───────────────────────────┐\n",
       "│ statistic  ┆ date     ┆ visitStartTime ┆ fullVisitorId       ┆ … ┆ source      ┆ transactionId   ┆ v2ProductName                   ┆ v2ProductCategory         │\n",
       "│ ---        ┆ ---      ┆ ---            ┆ ---                 ┆   ┆ ---         ┆ ---             ┆ ---                             ┆ ---                       │\n",
       "│ str        ┆ str      ┆ f64            ┆ str                 ┆   ┆ str         ┆ str             ┆ str                             ┆ str                       │\n",
       "╞════════════╪══════════╪════════════════╪═════════════════════╪═══╪═════════════╪═════════════════╪═════════════════════════════════╪═══════════════════════════╡\n",
       "│ count      ┆ 49512    ┆ 49512.0        ┆ 49512               ┆ … ┆ 49512       ┆ 462             ┆ 49512                           ┆ 49512                     │\n",
       "│ null_count ┆ 0        ┆ 0.0            ┆ 0                   ┆ … ┆ 0           ┆ 49050           ┆ 0                               ┆ 0                         │\n",
       "│ mean       ┆ null     ┆ 1.5015e9       ┆ null                ┆ … ┆ null        ┆ null            ┆ null                            ┆ null                      │\n",
       "│ std        ┆ null     ┆ 21502.167394   ┆ null                ┆ … ┆ null        ┆ null            ┆ null                            ┆ null                      │\n",
       "│ min        ┆ 20170731 ┆ 1.5015e9       ┆ 0002457163364254438 ┆ … ┆ (direct)    ┆ ORD201707311786 ┆ 1 oz Hand Sanitizer             ┆ ${escCatTitle}            │\n",
       "│ 25%        ┆ null     ┆ 1.5015e9       ┆ null                ┆ … ┆ null        ┆ null            ┆ null                            ┆ null                      │\n",
       "│ 50%        ┆ null     ┆ 1.5015e9       ┆ null                ┆ … ┆ null        ┆ null            ┆ null                            ┆ null                      │\n",
       "│ 75%        ┆ null     ┆ 1.5015e9       ┆ null                ┆ … ┆ null        ┆ null            ┆ null                            ┆ null                      │\n",
       "│ max        ┆ 20170731 ┆ 1.5016e9       ┆ 9997362993085245352 ┆ … ┆ youtube.com ┆ ORD201707312663 ┆ YouTube Youth Short Sleeve Tee… ┆ Wearables/Men's T-Shirts/ │\n",
       "└────────────┴──────────┴────────────────┴─────────────────────┴───┴─────────────┴─────────────────┴─────────────────────────────────┴───────────────────────────┘"
      ]
     },
     "execution_count": 129,
     "metadata": {},
     "output_type": "execute_result"
    }
   ],
   "source": [
    "df.describe()"
   ]
  },
  {
   "cell_type": "code",
   "execution_count": 130,
   "metadata": {},
   "outputs": [
    {
     "data": {
      "text/html": [
       "<div><style>\n",
       ".dataframe > thead > tr,\n",
       ".dataframe > tbody > tr {\n",
       "  text-align: right;\n",
       "  white-space: pre-wrap;\n",
       "}\n",
       "</style>\n",
       "<small>shape: (1, 13)</small><table border=\"1\" class=\"dataframe\"><thead><tr><th>date</th><th>visitStartTime</th><th>fullVisitorId</th><th>subContinent</th><th>country</th><th>city</th><th>browser</th><th>operatingSystem</th><th>deviceCategory</th><th>source</th><th>transactionId</th><th>v2ProductName</th><th>v2ProductCategory</th></tr><tr><td>u32</td><td>u32</td><td>u32</td><td>u32</td><td>u32</td><td>u32</td><td>u32</td><td>u32</td><td>u32</td><td>u32</td><td>u32</td><td>u32</td><td>u32</td></tr></thead><tbody><tr><td>0</td><td>0</td><td>0</td><td>0</td><td>0</td><td>0</td><td>0</td><td>0</td><td>0</td><td>0</td><td>49050</td><td>0</td><td>0</td></tr></tbody></table></div>"
      ],
      "text/plain": [
       "shape: (1, 13)\n",
       "┌──────┬────────────────┬───────────────┬──────────────┬───┬────────┬───────────────┬───────────────┬───────────────────┐\n",
       "│ date ┆ visitStartTime ┆ fullVisitorId ┆ subContinent ┆ … ┆ source ┆ transactionId ┆ v2ProductName ┆ v2ProductCategory │\n",
       "│ ---  ┆ ---            ┆ ---           ┆ ---          ┆   ┆ ---    ┆ ---           ┆ ---           ┆ ---               │\n",
       "│ u32  ┆ u32            ┆ u32           ┆ u32          ┆   ┆ u32    ┆ u32           ┆ u32           ┆ u32               │\n",
       "╞══════╪════════════════╪═══════════════╪══════════════╪═══╪════════╪═══════════════╪═══════════════╪═══════════════════╡\n",
       "│ 0    ┆ 0              ┆ 0             ┆ 0            ┆ … ┆ 0      ┆ 49050         ┆ 0             ┆ 0                 │\n",
       "└──────┴────────────────┴───────────────┴──────────────┴───┴────────┴───────────────┴───────────────┴───────────────────┘"
      ]
     },
     "execution_count": 130,
     "metadata": {},
     "output_type": "execute_result"
    }
   ],
   "source": [
    "df.select(pl.all().is_null().sum())"
   ]
  },
  {
   "cell_type": "code",
   "execution_count": 131,
   "metadata": {},
   "outputs": [
    {
     "data": {
      "text/html": [
       "<div><style>\n",
       ".dataframe > thead > tr,\n",
       ".dataframe > tbody > tr {\n",
       "  text-align: right;\n",
       "  white-space: pre-wrap;\n",
       "}\n",
       "</style>\n",
       "<small>shape: (462, 13)</small><table border=\"1\" class=\"dataframe\"><thead><tr><th>date</th><th>visitStartTime</th><th>fullVisitorId</th><th>subContinent</th><th>country</th><th>city</th><th>browser</th><th>operatingSystem</th><th>deviceCategory</th><th>source</th><th>transactionId</th><th>v2ProductName</th><th>v2ProductCategory</th></tr><tr><td>str</td><td>i64</td><td>str</td><td>str</td><td>str</td><td>str</td><td>str</td><td>str</td><td>str</td><td>str</td><td>str</td><td>str</td><td>str</td></tr></thead><tbody><tr><td>&quot;20170731&quot;</td><td>1501525374</td><td>&quot;186231215995844689&quot;</td><td>&quot;Northern America&quot;</td><td>&quot;United States&quot;</td><td>&quot;Mountain View&quot;</td><td>&quot;Chrome&quot;</td><td>&quot;Macintosh&quot;</td><td>&quot;desktop&quot;</td><td>&quot;(direct)&quot;</td><td>&quot;ORD201707311786&quot;</td><td>&quot;Google Men&#x27;s Bike Short Sleeve…</td><td>&quot;Apparel&quot;</td></tr><tr><td>&quot;20170731&quot;</td><td>1501525374</td><td>&quot;186231215995844689&quot;</td><td>&quot;Northern America&quot;</td><td>&quot;United States&quot;</td><td>&quot;Mountain View&quot;</td><td>&quot;Chrome&quot;</td><td>&quot;Macintosh&quot;</td><td>&quot;desktop&quot;</td><td>&quot;(direct)&quot;</td><td>&quot;ORD201707311786&quot;</td><td>&quot;Google Men&#x27;s Bike Short Sleeve…</td><td>&quot;Apparel&quot;</td></tr><tr><td>&quot;20170731&quot;</td><td>1501549028</td><td>&quot;0345672699449577691&quot;</td><td>&quot;Northern America&quot;</td><td>&quot;United States&quot;</td><td>&quot;Kirkland&quot;</td><td>&quot;Chrome&quot;</td><td>&quot;Chrome OS&quot;</td><td>&quot;desktop&quot;</td><td>&quot;(direct)&quot;</td><td>&quot;ORD201707312107&quot;</td><td>&quot;Google Blackout Cap&quot;</td><td>&quot;Headgear&quot;</td></tr><tr><td>&quot;20170731&quot;</td><td>1501549028</td><td>&quot;0345672699449577691&quot;</td><td>&quot;Northern America&quot;</td><td>&quot;United States&quot;</td><td>&quot;Kirkland&quot;</td><td>&quot;Chrome&quot;</td><td>&quot;Chrome OS&quot;</td><td>&quot;desktop&quot;</td><td>&quot;(direct)&quot;</td><td>&quot;ORD201707312107&quot;</td><td>&quot;Google Women&#x27;s Vintage Hero Te…</td><td>&quot;Apparel&quot;</td></tr><tr><td>&quot;20170731&quot;</td><td>1501549028</td><td>&quot;0345672699449577691&quot;</td><td>&quot;Northern America&quot;</td><td>&quot;United States&quot;</td><td>&quot;Kirkland&quot;</td><td>&quot;Chrome&quot;</td><td>&quot;Chrome OS&quot;</td><td>&quot;desktop&quot;</td><td>&quot;(direct)&quot;</td><td>&quot;ORD201707312107&quot;</td><td>&quot;Google Men&#x27;s Long &amp; Lean Tee C…</td><td>&quot;Apparel&quot;</td></tr><tr><td>&hellip;</td><td>&hellip;</td><td>&hellip;</td><td>&hellip;</td><td>&hellip;</td><td>&hellip;</td><td>&hellip;</td><td>&hellip;</td><td>&hellip;</td><td>&hellip;</td><td>&hellip;</td><td>&hellip;</td><td>&hellip;</td></tr><tr><td>&quot;20170731&quot;</td><td>1501537217</td><td>&quot;7483600664917507409&quot;</td><td>&quot;Northern America&quot;</td><td>&quot;United States&quot;</td><td>&quot;Mountain View&quot;</td><td>&quot;Chrome&quot;</td><td>&quot;Macintosh&quot;</td><td>&quot;desktop&quot;</td><td>&quot;(direct)&quot;</td><td>&quot;ORD201707312663&quot;</td><td>&quot;Google 25 oz Red Stainless Ste…</td><td>&quot;Drinkware&quot;</td></tr><tr><td>&quot;20170731&quot;</td><td>1501537217</td><td>&quot;7483600664917507409&quot;</td><td>&quot;Northern America&quot;</td><td>&quot;United States&quot;</td><td>&quot;Mountain View&quot;</td><td>&quot;Chrome&quot;</td><td>&quot;Macintosh&quot;</td><td>&quot;desktop&quot;</td><td>&quot;(direct)&quot;</td><td>&quot;ORD201707312663&quot;</td><td>&quot;Android 17oz Stainless Steel S…</td><td>&quot;Drinkware&quot;</td></tr><tr><td>&quot;20170731&quot;</td><td>1501537217</td><td>&quot;7483600664917507409&quot;</td><td>&quot;Northern America&quot;</td><td>&quot;United States&quot;</td><td>&quot;Mountain View&quot;</td><td>&quot;Chrome&quot;</td><td>&quot;Macintosh&quot;</td><td>&quot;desktop&quot;</td><td>&quot;(direct)&quot;</td><td>&quot;ORD201707312663&quot;</td><td>&quot;Android Men&#x27;s Short Sleeve Her…</td><td>&quot;Apparel&quot;</td></tr><tr><td>&quot;20170731&quot;</td><td>1501537217</td><td>&quot;7483600664917507409&quot;</td><td>&quot;Northern America&quot;</td><td>&quot;United States&quot;</td><td>&quot;Mountain View&quot;</td><td>&quot;Chrome&quot;</td><td>&quot;Macintosh&quot;</td><td>&quot;desktop&quot;</td><td>&quot;(direct)&quot;</td><td>&quot;ORD201707312663&quot;</td><td>&quot;Android Men&#x27;s Take Charge Shor…</td><td>&quot;Apparel&quot;</td></tr><tr><td>&quot;20170731&quot;</td><td>1501537217</td><td>&quot;7483600664917507409&quot;</td><td>&quot;Northern America&quot;</td><td>&quot;United States&quot;</td><td>&quot;Mountain View&quot;</td><td>&quot;Chrome&quot;</td><td>&quot;Macintosh&quot;</td><td>&quot;desktop&quot;</td><td>&quot;(direct)&quot;</td><td>&quot;ORD201707312663&quot;</td><td>&quot;Google Women&#x27;s Scoop Neck Tee …</td><td>&quot;Apparel&quot;</td></tr></tbody></table></div>"
      ],
      "text/plain": [
       "shape: (462, 13)\n",
       "┌──────────┬────────────────┬─────────────────────┬──────────────────┬───┬──────────┬─────────────────┬─────────────────────────────────┬───────────────────┐\n",
       "│ date     ┆ visitStartTime ┆ fullVisitorId       ┆ subContinent     ┆ … ┆ source   ┆ transactionId   ┆ v2ProductName                   ┆ v2ProductCategory │\n",
       "│ ---      ┆ ---            ┆ ---                 ┆ ---              ┆   ┆ ---      ┆ ---             ┆ ---                             ┆ ---               │\n",
       "│ str      ┆ i64            ┆ str                 ┆ str              ┆   ┆ str      ┆ str             ┆ str                             ┆ str               │\n",
       "╞══════════╪════════════════╪═════════════════════╪══════════════════╪═══╪══════════╪═════════════════╪═════════════════════════════════╪═══════════════════╡\n",
       "│ 20170731 ┆ 1501525374     ┆ 186231215995844689  ┆ Northern America ┆ … ┆ (direct) ┆ ORD201707311786 ┆ Google Men's Bike Short Sleeve… ┆ Apparel           │\n",
       "│ 20170731 ┆ 1501525374     ┆ 186231215995844689  ┆ Northern America ┆ … ┆ (direct) ┆ ORD201707311786 ┆ Google Men's Bike Short Sleeve… ┆ Apparel           │\n",
       "│ 20170731 ┆ 1501549028     ┆ 0345672699449577691 ┆ Northern America ┆ … ┆ (direct) ┆ ORD201707312107 ┆ Google Blackout Cap             ┆ Headgear          │\n",
       "│ 20170731 ┆ 1501549028     ┆ 0345672699449577691 ┆ Northern America ┆ … ┆ (direct) ┆ ORD201707312107 ┆ Google Women's Vintage Hero Te… ┆ Apparel           │\n",
       "│ 20170731 ┆ 1501549028     ┆ 0345672699449577691 ┆ Northern America ┆ … ┆ (direct) ┆ ORD201707312107 ┆ Google Men's Long & Lean Tee C… ┆ Apparel           │\n",
       "│ …        ┆ …              ┆ …                   ┆ …                ┆ … ┆ …        ┆ …               ┆ …                               ┆ …                 │\n",
       "│ 20170731 ┆ 1501537217     ┆ 7483600664917507409 ┆ Northern America ┆ … ┆ (direct) ┆ ORD201707312663 ┆ Google 25 oz Red Stainless Ste… ┆ Drinkware         │\n",
       "│ 20170731 ┆ 1501537217     ┆ 7483600664917507409 ┆ Northern America ┆ … ┆ (direct) ┆ ORD201707312663 ┆ Android 17oz Stainless Steel S… ┆ Drinkware         │\n",
       "│ 20170731 ┆ 1501537217     ┆ 7483600664917507409 ┆ Northern America ┆ … ┆ (direct) ┆ ORD201707312663 ┆ Android Men's Short Sleeve Her… ┆ Apparel           │\n",
       "│ 20170731 ┆ 1501537217     ┆ 7483600664917507409 ┆ Northern America ┆ … ┆ (direct) ┆ ORD201707312663 ┆ Android Men's Take Charge Shor… ┆ Apparel           │\n",
       "│ 20170731 ┆ 1501537217     ┆ 7483600664917507409 ┆ Northern America ┆ … ┆ (direct) ┆ ORD201707312663 ┆ Google Women's Scoop Neck Tee … ┆ Apparel           │\n",
       "└──────────┴────────────────┴─────────────────────┴──────────────────┴───┴──────────┴─────────────────┴─────────────────────────────────┴───────────────────┘"
      ]
     },
     "execution_count": 131,
     "metadata": {},
     "output_type": "execute_result"
    }
   ],
   "source": [
    "df.filter(pl.col('transactionId') != 'null')"
   ]
  },
  {
   "cell_type": "code",
   "execution_count": 132,
   "metadata": {},
   "outputs": [
    {
     "data": {
      "text/html": [
       "<div><style>\n",
       ".dataframe > thead > tr,\n",
       ".dataframe > tbody > tr {\n",
       "  text-align: right;\n",
       "  white-space: pre-wrap;\n",
       "}\n",
       "</style>\n",
       "<small>shape: (5, 13)</small><table border=\"1\" class=\"dataframe\"><thead><tr><th>date</th><th>visitStartTime</th><th>fullVisitorId</th><th>subContinent</th><th>country</th><th>city</th><th>browser</th><th>operatingSystem</th><th>deviceCategory</th><th>source</th><th>transactionId</th><th>v2ProductName</th><th>v2ProductCategory</th></tr><tr><td>date</td><td>i64</td><td>str</td><td>str</td><td>str</td><td>str</td><td>str</td><td>str</td><td>str</td><td>str</td><td>str</td><td>str</td><td>str</td></tr></thead><tbody><tr><td>2017-07-31</td><td>1501520683</td><td>&quot;2219384770970157334&quot;</td><td>&quot;Eastern Europe&quot;</td><td>&quot;Slovakia&quot;</td><td>&quot;not available in demo dataset&quot;</td><td>&quot;Firefox&quot;</td><td>&quot;Windows&quot;</td><td>&quot;desktop&quot;</td><td>&quot;google&quot;</td><td>null</td><td>&quot;Google Lunch Bag&quot;</td><td>&quot;Home/Bags/More Bags/&quot;</td></tr><tr><td>2017-07-31</td><td>1501520683</td><td>&quot;2219384770970157334&quot;</td><td>&quot;Eastern Europe&quot;</td><td>&quot;Slovakia&quot;</td><td>&quot;not available in demo dataset&quot;</td><td>&quot;Firefox&quot;</td><td>&quot;Windows&quot;</td><td>&quot;desktop&quot;</td><td>&quot;google&quot;</td><td>null</td><td>&quot;Electronics Accessory Pouch&quot;</td><td>&quot;Home/Bags/More Bags/&quot;</td></tr><tr><td>2017-07-31</td><td>1501520683</td><td>&quot;2219384770970157334&quot;</td><td>&quot;Eastern Europe&quot;</td><td>&quot;Slovakia&quot;</td><td>&quot;not available in demo dataset&quot;</td><td>&quot;Firefox&quot;</td><td>&quot;Windows&quot;</td><td>&quot;desktop&quot;</td><td>&quot;google&quot;</td><td>null</td><td>&quot;Sport Bag&quot;</td><td>&quot;Home/Bags/More Bags/&quot;</td></tr><tr><td>2017-07-31</td><td>1501520683</td><td>&quot;2219384770970157334&quot;</td><td>&quot;Eastern Europe&quot;</td><td>&quot;Slovakia&quot;</td><td>&quot;not available in demo dataset&quot;</td><td>&quot;Firefox&quot;</td><td>&quot;Windows&quot;</td><td>&quot;desktop&quot;</td><td>&quot;google&quot;</td><td>null</td><td>&quot;Google Slim Utility Travel Bag&quot;</td><td>&quot;Home/Bags/More Bags/&quot;</td></tr><tr><td>2017-07-31</td><td>1501520683</td><td>&quot;2219384770970157334&quot;</td><td>&quot;Eastern Europe&quot;</td><td>&quot;Slovakia&quot;</td><td>&quot;not available in demo dataset&quot;</td><td>&quot;Firefox&quot;</td><td>&quot;Windows&quot;</td><td>&quot;desktop&quot;</td><td>&quot;google&quot;</td><td>null</td><td>&quot;Suitcase Organizer Cubes&quot;</td><td>&quot;Home/Bags/More Bags/&quot;</td></tr></tbody></table></div>"
      ],
      "text/plain": [
       "shape: (5, 13)\n",
       "┌────────────┬────────────────┬─────────────────────┬────────────────┬───┬────────┬───────────────┬────────────────────────────────┬──────────────────────┐\n",
       "│ date       ┆ visitStartTime ┆ fullVisitorId       ┆ subContinent   ┆ … ┆ source ┆ transactionId ┆ v2ProductName                  ┆ v2ProductCategory    │\n",
       "│ ---        ┆ ---            ┆ ---                 ┆ ---            ┆   ┆ ---    ┆ ---           ┆ ---                            ┆ ---                  │\n",
       "│ date       ┆ i64            ┆ str                 ┆ str            ┆   ┆ str    ┆ str           ┆ str                            ┆ str                  │\n",
       "╞════════════╪════════════════╪═════════════════════╪════════════════╪═══╪════════╪═══════════════╪════════════════════════════════╪══════════════════════╡\n",
       "│ 2017-07-31 ┆ 1501520683     ┆ 2219384770970157334 ┆ Eastern Europe ┆ … ┆ google ┆ null          ┆ Google Lunch Bag               ┆ Home/Bags/More Bags/ │\n",
       "│ 2017-07-31 ┆ 1501520683     ┆ 2219384770970157334 ┆ Eastern Europe ┆ … ┆ google ┆ null          ┆ Electronics Accessory Pouch    ┆ Home/Bags/More Bags/ │\n",
       "│ 2017-07-31 ┆ 1501520683     ┆ 2219384770970157334 ┆ Eastern Europe ┆ … ┆ google ┆ null          ┆ Sport Bag                      ┆ Home/Bags/More Bags/ │\n",
       "│ 2017-07-31 ┆ 1501520683     ┆ 2219384770970157334 ┆ Eastern Europe ┆ … ┆ google ┆ null          ┆ Google Slim Utility Travel Bag ┆ Home/Bags/More Bags/ │\n",
       "│ 2017-07-31 ┆ 1501520683     ┆ 2219384770970157334 ┆ Eastern Europe ┆ … ┆ google ┆ null          ┆ Suitcase Organizer Cubes       ┆ Home/Bags/More Bags/ │\n",
       "└────────────┴────────────────┴─────────────────────┴────────────────┴───┴────────┴───────────────┴────────────────────────────────┴──────────────────────┘"
      ]
     },
     "execution_count": 132,
     "metadata": {},
     "output_type": "execute_result"
    }
   ],
   "source": [
    "df_cleaned = df.with_columns(pl.col('date').str.strptime(pl.Date, format=\"%Y%m%d\"))\n",
    "df_cleaned.head()"
   ]
  },
  {
   "cell_type": "code",
   "execution_count": 133,
   "metadata": {},
   "outputs": [
    {
     "ename": "SyntaxError",
     "evalue": "'break' outside loop (668683560.py, line 1)",
     "output_type": "error",
     "traceback": [
      "\u001b[1;36m  Cell \u001b[1;32mIn[133], line 1\u001b[1;36m\u001b[0m\n\u001b[1;33m    break\u001b[0m\n\u001b[1;37m    ^\u001b[0m\n\u001b[1;31mSyntaxError\u001b[0m\u001b[1;31m:\u001b[0m 'break' outside loop\n"
     ]
    }
   ],
   "source": [
    "break"
   ]
  },
  {
   "cell_type": "code",
   "execution_count": null,
   "metadata": {},
   "outputs": [
    {
     "data": {
      "text/html": [
       "<div><style>\n",
       ".dataframe > thead > tr,\n",
       ".dataframe > tbody > tr {\n",
       "  text-align: right;\n",
       "  white-space: pre-wrap;\n",
       "}\n",
       "</style>\n",
       "<small>shape: (49_512, 13)</small><table border=\"1\" class=\"dataframe\"><thead><tr><th>date</th><th>visitStartTime</th><th>fullVisitorId</th><th>subContinent</th><th>country</th><th>city</th><th>browser</th><th>operatingSystem</th><th>deviceCategory</th><th>source</th><th>transactionId</th><th>v2ProductName</th><th>v2ProductCategory</th></tr><tr><td>date</td><td>i64</td><td>str</td><td>str</td><td>str</td><td>str</td><td>str</td><td>str</td><td>str</td><td>str</td><td>i32</td><td>str</td><td>str</td></tr></thead><tbody><tr><td>2017-07-31</td><td>1501520683</td><td>&quot;2219384770970157334&quot;</td><td>&quot;Eastern Europe&quot;</td><td>&quot;Slovakia&quot;</td><td>&quot;not available in demo dataset&quot;</td><td>&quot;Firefox&quot;</td><td>&quot;Windows&quot;</td><td>&quot;desktop&quot;</td><td>&quot;google&quot;</td><td>0</td><td>&quot;Google Lunch Bag&quot;</td><td>&quot;Home/Bags/More Bags/&quot;</td></tr><tr><td>2017-07-31</td><td>1501520683</td><td>&quot;2219384770970157334&quot;</td><td>&quot;Eastern Europe&quot;</td><td>&quot;Slovakia&quot;</td><td>&quot;not available in demo dataset&quot;</td><td>&quot;Firefox&quot;</td><td>&quot;Windows&quot;</td><td>&quot;desktop&quot;</td><td>&quot;google&quot;</td><td>0</td><td>&quot;Electronics Accessory Pouch&quot;</td><td>&quot;Home/Bags/More Bags/&quot;</td></tr><tr><td>2017-07-31</td><td>1501520683</td><td>&quot;2219384770970157334&quot;</td><td>&quot;Eastern Europe&quot;</td><td>&quot;Slovakia&quot;</td><td>&quot;not available in demo dataset&quot;</td><td>&quot;Firefox&quot;</td><td>&quot;Windows&quot;</td><td>&quot;desktop&quot;</td><td>&quot;google&quot;</td><td>0</td><td>&quot;Sport Bag&quot;</td><td>&quot;Home/Bags/More Bags/&quot;</td></tr><tr><td>2017-07-31</td><td>1501520683</td><td>&quot;2219384770970157334&quot;</td><td>&quot;Eastern Europe&quot;</td><td>&quot;Slovakia&quot;</td><td>&quot;not available in demo dataset&quot;</td><td>&quot;Firefox&quot;</td><td>&quot;Windows&quot;</td><td>&quot;desktop&quot;</td><td>&quot;google&quot;</td><td>0</td><td>&quot;Google Slim Utility Travel Bag&quot;</td><td>&quot;Home/Bags/More Bags/&quot;</td></tr><tr><td>2017-07-31</td><td>1501520683</td><td>&quot;2219384770970157334&quot;</td><td>&quot;Eastern Europe&quot;</td><td>&quot;Slovakia&quot;</td><td>&quot;not available in demo dataset&quot;</td><td>&quot;Firefox&quot;</td><td>&quot;Windows&quot;</td><td>&quot;desktop&quot;</td><td>&quot;google&quot;</td><td>0</td><td>&quot;Suitcase Organizer Cubes&quot;</td><td>&quot;Home/Bags/More Bags/&quot;</td></tr><tr><td>&hellip;</td><td>&hellip;</td><td>&hellip;</td><td>&hellip;</td><td>&hellip;</td><td>&hellip;</td><td>&hellip;</td><td>&hellip;</td><td>&hellip;</td><td>&hellip;</td><td>&hellip;</td><td>&hellip;</td><td>&hellip;</td></tr><tr><td>2017-07-31</td><td>1501537217</td><td>&quot;7483600664917507409&quot;</td><td>&quot;Northern America&quot;</td><td>&quot;United States&quot;</td><td>&quot;Mountain View&quot;</td><td>&quot;Chrome&quot;</td><td>&quot;Macintosh&quot;</td><td>&quot;desktop&quot;</td><td>&quot;(direct)&quot;</td><td>1</td><td>&quot;Android 17oz Stainless Steel S…</td><td>&quot;Drinkware&quot;</td></tr><tr><td>2017-07-31</td><td>1501537217</td><td>&quot;7483600664917507409&quot;</td><td>&quot;Northern America&quot;</td><td>&quot;United States&quot;</td><td>&quot;Mountain View&quot;</td><td>&quot;Chrome&quot;</td><td>&quot;Macintosh&quot;</td><td>&quot;desktop&quot;</td><td>&quot;(direct)&quot;</td><td>1</td><td>&quot;Android Men&#x27;s Short Sleeve Her…</td><td>&quot;Apparel&quot;</td></tr><tr><td>2017-07-31</td><td>1501537217</td><td>&quot;7483600664917507409&quot;</td><td>&quot;Northern America&quot;</td><td>&quot;United States&quot;</td><td>&quot;Mountain View&quot;</td><td>&quot;Chrome&quot;</td><td>&quot;Macintosh&quot;</td><td>&quot;desktop&quot;</td><td>&quot;(direct)&quot;</td><td>1</td><td>&quot;Android Men&#x27;s Take Charge Shor…</td><td>&quot;Apparel&quot;</td></tr><tr><td>2017-07-31</td><td>1501537217</td><td>&quot;7483600664917507409&quot;</td><td>&quot;Northern America&quot;</td><td>&quot;United States&quot;</td><td>&quot;Mountain View&quot;</td><td>&quot;Chrome&quot;</td><td>&quot;Macintosh&quot;</td><td>&quot;desktop&quot;</td><td>&quot;(direct)&quot;</td><td>1</td><td>&quot;Google Women&#x27;s Scoop Neck Tee …</td><td>&quot;Apparel&quot;</td></tr><tr><td>2017-07-31</td><td>1501537217</td><td>&quot;7483600664917507409&quot;</td><td>&quot;Northern America&quot;</td><td>&quot;United States&quot;</td><td>&quot;Mountain View&quot;</td><td>&quot;Chrome&quot;</td><td>&quot;Macintosh&quot;</td><td>&quot;desktop&quot;</td><td>&quot;(direct)&quot;</td><td>0</td><td>&quot;Google Men&#x27;s 100% Cotton Short…</td><td>&quot;(not set)&quot;</td></tr></tbody></table></div>"
      ],
      "text/plain": [
       "shape: (49_512, 13)\n",
       "┌────────────┬────────────────┬─────────────────────┬──────────────────┬───┬──────────┬───────────────┬─────────────────────────────────┬──────────────────────┐\n",
       "│ date       ┆ visitStartTime ┆ fullVisitorId       ┆ subContinent     ┆ … ┆ source   ┆ transactionId ┆ v2ProductName                   ┆ v2ProductCategory    │\n",
       "│ ---        ┆ ---            ┆ ---                 ┆ ---              ┆   ┆ ---      ┆ ---           ┆ ---                             ┆ ---                  │\n",
       "│ date       ┆ i64            ┆ str                 ┆ str              ┆   ┆ str      ┆ i32           ┆ str                             ┆ str                  │\n",
       "╞════════════╪════════════════╪═════════════════════╪══════════════════╪═══╪══════════╪═══════════════╪═════════════════════════════════╪══════════════════════╡\n",
       "│ 2017-07-31 ┆ 1501520683     ┆ 2219384770970157334 ┆ Eastern Europe   ┆ … ┆ google   ┆ 0             ┆ Google Lunch Bag                ┆ Home/Bags/More Bags/ │\n",
       "│ 2017-07-31 ┆ 1501520683     ┆ 2219384770970157334 ┆ Eastern Europe   ┆ … ┆ google   ┆ 0             ┆ Electronics Accessory Pouch     ┆ Home/Bags/More Bags/ │\n",
       "│ 2017-07-31 ┆ 1501520683     ┆ 2219384770970157334 ┆ Eastern Europe   ┆ … ┆ google   ┆ 0             ┆ Sport Bag                       ┆ Home/Bags/More Bags/ │\n",
       "│ 2017-07-31 ┆ 1501520683     ┆ 2219384770970157334 ┆ Eastern Europe   ┆ … ┆ google   ┆ 0             ┆ Google Slim Utility Travel Bag  ┆ Home/Bags/More Bags/ │\n",
       "│ 2017-07-31 ┆ 1501520683     ┆ 2219384770970157334 ┆ Eastern Europe   ┆ … ┆ google   ┆ 0             ┆ Suitcase Organizer Cubes        ┆ Home/Bags/More Bags/ │\n",
       "│ …          ┆ …              ┆ …                   ┆ …                ┆ … ┆ …        ┆ …             ┆ …                               ┆ …                    │\n",
       "│ 2017-07-31 ┆ 1501537217     ┆ 7483600664917507409 ┆ Northern America ┆ … ┆ (direct) ┆ 1             ┆ Android 17oz Stainless Steel S… ┆ Drinkware            │\n",
       "│ 2017-07-31 ┆ 1501537217     ┆ 7483600664917507409 ┆ Northern America ┆ … ┆ (direct) ┆ 1             ┆ Android Men's Short Sleeve Her… ┆ Apparel              │\n",
       "│ 2017-07-31 ┆ 1501537217     ┆ 7483600664917507409 ┆ Northern America ┆ … ┆ (direct) ┆ 1             ┆ Android Men's Take Charge Shor… ┆ Apparel              │\n",
       "│ 2017-07-31 ┆ 1501537217     ┆ 7483600664917507409 ┆ Northern America ┆ … ┆ (direct) ┆ 1             ┆ Google Women's Scoop Neck Tee … ┆ Apparel              │\n",
       "│ 2017-07-31 ┆ 1501537217     ┆ 7483600664917507409 ┆ Northern America ┆ … ┆ (direct) ┆ 0             ┆ Google Men's 100% Cotton Short… ┆ (not set)            │\n",
       "└────────────┴────────────────┴─────────────────────┴──────────────────┴───┴──────────┴───────────────┴─────────────────────────────────┴──────────────────────┘"
      ]
     },
     "execution_count": 15,
     "metadata": {},
     "output_type": "execute_result"
    }
   ],
   "source": [
    "df_cleaned = df_cleaned.with_columns(pl.when(pl.col('transactionId') != 'null').then(1).otherwise(0).alias(\"transactionId\"))\n",
    "df_cleaned"
   ]
  },
  {
   "cell_type": "markdown",
   "metadata": {},
   "source": [
    "# Encoding the entire df  "
   ]
  },
  {
   "cell_type": "code",
   "execution_count": null,
   "metadata": {},
   "outputs": [
    {
     "data": {
      "text/html": [
       "<div><style>\n",
       ".dataframe > thead > tr,\n",
       ".dataframe > tbody > tr {\n",
       "  text-align: right;\n",
       "  white-space: pre-wrap;\n",
       "}\n",
       "</style>\n",
       "<small>shape: (49_512, 5)</small><table border=\"1\" class=\"dataframe\"><thead><tr><th>fullVisitorId</th><th>country</th><th>browser</th><th>transactionId</th><th>v2ProductName</th></tr><tr><td>str</td><td>str</td><td>str</td><td>i32</td><td>str</td></tr></thead><tbody><tr><td>&quot;2219384770970157334&quot;</td><td>&quot;Slovakia&quot;</td><td>&quot;Firefox&quot;</td><td>0</td><td>&quot;Google Lunch Bag&quot;</td></tr><tr><td>&quot;2219384770970157334&quot;</td><td>&quot;Slovakia&quot;</td><td>&quot;Firefox&quot;</td><td>0</td><td>&quot;Electronics Accessory Pouch&quot;</td></tr><tr><td>&quot;2219384770970157334&quot;</td><td>&quot;Slovakia&quot;</td><td>&quot;Firefox&quot;</td><td>0</td><td>&quot;Sport Bag&quot;</td></tr><tr><td>&quot;2219384770970157334&quot;</td><td>&quot;Slovakia&quot;</td><td>&quot;Firefox&quot;</td><td>0</td><td>&quot;Google Slim Utility Travel Bag&quot;</td></tr><tr><td>&quot;2219384770970157334&quot;</td><td>&quot;Slovakia&quot;</td><td>&quot;Firefox&quot;</td><td>0</td><td>&quot;Suitcase Organizer Cubes&quot;</td></tr><tr><td>&hellip;</td><td>&hellip;</td><td>&hellip;</td><td>&hellip;</td><td>&hellip;</td></tr><tr><td>&quot;7483600664917507409&quot;</td><td>&quot;United States&quot;</td><td>&quot;Chrome&quot;</td><td>1</td><td>&quot;Android 17oz Stainless Steel S…</td></tr><tr><td>&quot;7483600664917507409&quot;</td><td>&quot;United States&quot;</td><td>&quot;Chrome&quot;</td><td>1</td><td>&quot;Android Men&#x27;s Short Sleeve Her…</td></tr><tr><td>&quot;7483600664917507409&quot;</td><td>&quot;United States&quot;</td><td>&quot;Chrome&quot;</td><td>1</td><td>&quot;Android Men&#x27;s Take Charge Shor…</td></tr><tr><td>&quot;7483600664917507409&quot;</td><td>&quot;United States&quot;</td><td>&quot;Chrome&quot;</td><td>1</td><td>&quot;Google Women&#x27;s Scoop Neck Tee …</td></tr><tr><td>&quot;7483600664917507409&quot;</td><td>&quot;United States&quot;</td><td>&quot;Chrome&quot;</td><td>0</td><td>&quot;Google Men&#x27;s 100% Cotton Short…</td></tr></tbody></table></div>"
      ],
      "text/plain": [
       "shape: (49_512, 5)\n",
       "┌─────────────────────┬───────────────┬─────────┬───────────────┬─────────────────────────────────┐\n",
       "│ fullVisitorId       ┆ country       ┆ browser ┆ transactionId ┆ v2ProductName                   │\n",
       "│ ---                 ┆ ---           ┆ ---     ┆ ---           ┆ ---                             │\n",
       "│ str                 ┆ str           ┆ str     ┆ i32           ┆ str                             │\n",
       "╞═════════════════════╪═══════════════╪═════════╪═══════════════╪═════════════════════════════════╡\n",
       "│ 2219384770970157334 ┆ Slovakia      ┆ Firefox ┆ 0             ┆ Google Lunch Bag                │\n",
       "│ 2219384770970157334 ┆ Slovakia      ┆ Firefox ┆ 0             ┆ Electronics Accessory Pouch     │\n",
       "│ 2219384770970157334 ┆ Slovakia      ┆ Firefox ┆ 0             ┆ Sport Bag                       │\n",
       "│ 2219384770970157334 ┆ Slovakia      ┆ Firefox ┆ 0             ┆ Google Slim Utility Travel Bag  │\n",
       "│ 2219384770970157334 ┆ Slovakia      ┆ Firefox ┆ 0             ┆ Suitcase Organizer Cubes        │\n",
       "│ …                   ┆ …             ┆ …       ┆ …             ┆ …                               │\n",
       "│ 7483600664917507409 ┆ United States ┆ Chrome  ┆ 1             ┆ Android 17oz Stainless Steel S… │\n",
       "│ 7483600664917507409 ┆ United States ┆ Chrome  ┆ 1             ┆ Android Men's Short Sleeve Her… │\n",
       "│ 7483600664917507409 ┆ United States ┆ Chrome  ┆ 1             ┆ Android Men's Take Charge Shor… │\n",
       "│ 7483600664917507409 ┆ United States ┆ Chrome  ┆ 1             ┆ Google Women's Scoop Neck Tee … │\n",
       "│ 7483600664917507409 ┆ United States ┆ Chrome  ┆ 0             ┆ Google Men's 100% Cotton Short… │\n",
       "└─────────────────────┴───────────────┴─────────┴───────────────┴─────────────────────────────────┘"
      ]
     },
     "execution_count": 16,
     "metadata": {},
     "output_type": "execute_result"
    }
   ],
   "source": [
    "test_encoding = df_cleaned.select(pl.col('fullVisitorId'),pl.col('country'), \n",
    "                                  pl.col('browser'),pl.col('transactionId'),pl.col('v2ProductName'))\n",
    "test_encoding"
   ]
  },
  {
   "cell_type": "code",
   "execution_count": null,
   "metadata": {},
   "outputs": [
    {
     "data": {
      "text/html": [
       "<div><style>\n",
       ".dataframe > thead > tr,\n",
       ".dataframe > tbody > tr {\n",
       "  text-align: right;\n",
       "  white-space: pre-wrap;\n",
       "}\n",
       "</style>\n",
       "<small>shape: (462, 5)</small><table border=\"1\" class=\"dataframe\"><thead><tr><th>fullVisitorId</th><th>country</th><th>browser</th><th>transactionId</th><th>v2ProductName</th></tr><tr><td>str</td><td>str</td><td>str</td><td>i32</td><td>str</td></tr></thead><tbody><tr><td>&quot;186231215995844689&quot;</td><td>&quot;United States&quot;</td><td>&quot;Chrome&quot;</td><td>1</td><td>&quot;Google Men&#x27;s Bike Short Sleeve…</td></tr><tr><td>&quot;186231215995844689&quot;</td><td>&quot;United States&quot;</td><td>&quot;Chrome&quot;</td><td>1</td><td>&quot;Google Men&#x27;s Bike Short Sleeve…</td></tr><tr><td>&quot;0345672699449577691&quot;</td><td>&quot;United States&quot;</td><td>&quot;Chrome&quot;</td><td>1</td><td>&quot;Google Blackout Cap&quot;</td></tr><tr><td>&quot;0345672699449577691&quot;</td><td>&quot;United States&quot;</td><td>&quot;Chrome&quot;</td><td>1</td><td>&quot;Google Women&#x27;s Vintage Hero Te…</td></tr><tr><td>&quot;0345672699449577691&quot;</td><td>&quot;United States&quot;</td><td>&quot;Chrome&quot;</td><td>1</td><td>&quot;Google Men&#x27;s Long &amp; Lean Tee C…</td></tr><tr><td>&hellip;</td><td>&hellip;</td><td>&hellip;</td><td>&hellip;</td><td>&hellip;</td></tr><tr><td>&quot;7483600664917507409&quot;</td><td>&quot;United States&quot;</td><td>&quot;Chrome&quot;</td><td>1</td><td>&quot;Google 25 oz Red Stainless Ste…</td></tr><tr><td>&quot;7483600664917507409&quot;</td><td>&quot;United States&quot;</td><td>&quot;Chrome&quot;</td><td>1</td><td>&quot;Android 17oz Stainless Steel S…</td></tr><tr><td>&quot;7483600664917507409&quot;</td><td>&quot;United States&quot;</td><td>&quot;Chrome&quot;</td><td>1</td><td>&quot;Android Men&#x27;s Short Sleeve Her…</td></tr><tr><td>&quot;7483600664917507409&quot;</td><td>&quot;United States&quot;</td><td>&quot;Chrome&quot;</td><td>1</td><td>&quot;Android Men&#x27;s Take Charge Shor…</td></tr><tr><td>&quot;7483600664917507409&quot;</td><td>&quot;United States&quot;</td><td>&quot;Chrome&quot;</td><td>1</td><td>&quot;Google Women&#x27;s Scoop Neck Tee …</td></tr></tbody></table></div>"
      ],
      "text/plain": [
       "shape: (462, 5)\n",
       "┌─────────────────────┬───────────────┬─────────┬───────────────┬─────────────────────────────────┐\n",
       "│ fullVisitorId       ┆ country       ┆ browser ┆ transactionId ┆ v2ProductName                   │\n",
       "│ ---                 ┆ ---           ┆ ---     ┆ ---           ┆ ---                             │\n",
       "│ str                 ┆ str           ┆ str     ┆ i32           ┆ str                             │\n",
       "╞═════════════════════╪═══════════════╪═════════╪═══════════════╪═════════════════════════════════╡\n",
       "│ 186231215995844689  ┆ United States ┆ Chrome  ┆ 1             ┆ Google Men's Bike Short Sleeve… │\n",
       "│ 186231215995844689  ┆ United States ┆ Chrome  ┆ 1             ┆ Google Men's Bike Short Sleeve… │\n",
       "│ 0345672699449577691 ┆ United States ┆ Chrome  ┆ 1             ┆ Google Blackout Cap             │\n",
       "│ 0345672699449577691 ┆ United States ┆ Chrome  ┆ 1             ┆ Google Women's Vintage Hero Te… │\n",
       "│ 0345672699449577691 ┆ United States ┆ Chrome  ┆ 1             ┆ Google Men's Long & Lean Tee C… │\n",
       "│ …                   ┆ …             ┆ …       ┆ …             ┆ …                               │\n",
       "│ 7483600664917507409 ┆ United States ┆ Chrome  ┆ 1             ┆ Google 25 oz Red Stainless Ste… │\n",
       "│ 7483600664917507409 ┆ United States ┆ Chrome  ┆ 1             ┆ Android 17oz Stainless Steel S… │\n",
       "│ 7483600664917507409 ┆ United States ┆ Chrome  ┆ 1             ┆ Android Men's Short Sleeve Her… │\n",
       "│ 7483600664917507409 ┆ United States ┆ Chrome  ┆ 1             ┆ Android Men's Take Charge Shor… │\n",
       "│ 7483600664917507409 ┆ United States ┆ Chrome  ┆ 1             ┆ Google Women's Scoop Neck Tee … │\n",
       "└─────────────────────┴───────────────┴─────────┴───────────────┴─────────────────────────────────┘"
      ]
     },
     "execution_count": 17,
     "metadata": {},
     "output_type": "execute_result"
    }
   ],
   "source": [
    "test_encoding = test_encoding.filter(pl.col('transactionId') == 1)\n",
    "test_encoding"
   ]
  },
  {
   "cell_type": "code",
   "execution_count": null,
   "metadata": {},
   "outputs": [
    {
     "name": "stderr",
     "output_type": "stream",
     "text": [
      "c:\\Users\\andre\\AppData\\Local\\Programs\\Python\\Python312\\Lib\\site-packages\\sklearn\\preprocessing\\_label.py:97: DataConversionWarning: A column-vector y was passed when a 1d array was expected. Please change the shape of y to (n_samples, ), for example using ravel().\n",
      "  y = column_or_1d(y, warn=True)\n"
     ]
    },
    {
     "data": {
      "text/html": [
       "<style>#sk-container-id-1 {\n",
       "  /* Definition of color scheme common for light and dark mode */\n",
       "  --sklearn-color-text: black;\n",
       "  --sklearn-color-line: gray;\n",
       "  /* Definition of color scheme for unfitted estimators */\n",
       "  --sklearn-color-unfitted-level-0: #fff5e6;\n",
       "  --sklearn-color-unfitted-level-1: #f6e4d2;\n",
       "  --sklearn-color-unfitted-level-2: #ffe0b3;\n",
       "  --sklearn-color-unfitted-level-3: chocolate;\n",
       "  /* Definition of color scheme for fitted estimators */\n",
       "  --sklearn-color-fitted-level-0: #f0f8ff;\n",
       "  --sklearn-color-fitted-level-1: #d4ebff;\n",
       "  --sklearn-color-fitted-level-2: #b3dbfd;\n",
       "  --sklearn-color-fitted-level-3: cornflowerblue;\n",
       "\n",
       "  /* Specific color for light theme */\n",
       "  --sklearn-color-text-on-default-background: var(--sg-text-color, var(--theme-code-foreground, var(--jp-content-font-color1, black)));\n",
       "  --sklearn-color-background: var(--sg-background-color, var(--theme-background, var(--jp-layout-color0, white)));\n",
       "  --sklearn-color-border-box: var(--sg-text-color, var(--theme-code-foreground, var(--jp-content-font-color1, black)));\n",
       "  --sklearn-color-icon: #696969;\n",
       "\n",
       "  @media (prefers-color-scheme: dark) {\n",
       "    /* Redefinition of color scheme for dark theme */\n",
       "    --sklearn-color-text-on-default-background: var(--sg-text-color, var(--theme-code-foreground, var(--jp-content-font-color1, white)));\n",
       "    --sklearn-color-background: var(--sg-background-color, var(--theme-background, var(--jp-layout-color0, #111)));\n",
       "    --sklearn-color-border-box: var(--sg-text-color, var(--theme-code-foreground, var(--jp-content-font-color1, white)));\n",
       "    --sklearn-color-icon: #878787;\n",
       "  }\n",
       "}\n",
       "\n",
       "#sk-container-id-1 {\n",
       "  color: var(--sklearn-color-text);\n",
       "}\n",
       "\n",
       "#sk-container-id-1 pre {\n",
       "  padding: 0;\n",
       "}\n",
       "\n",
       "#sk-container-id-1 input.sk-hidden--visually {\n",
       "  border: 0;\n",
       "  clip: rect(1px 1px 1px 1px);\n",
       "  clip: rect(1px, 1px, 1px, 1px);\n",
       "  height: 1px;\n",
       "  margin: -1px;\n",
       "  overflow: hidden;\n",
       "  padding: 0;\n",
       "  position: absolute;\n",
       "  width: 1px;\n",
       "}\n",
       "\n",
       "#sk-container-id-1 div.sk-dashed-wrapped {\n",
       "  border: 1px dashed var(--sklearn-color-line);\n",
       "  margin: 0 0.4em 0.5em 0.4em;\n",
       "  box-sizing: border-box;\n",
       "  padding-bottom: 0.4em;\n",
       "  background-color: var(--sklearn-color-background);\n",
       "}\n",
       "\n",
       "#sk-container-id-1 div.sk-container {\n",
       "  /* jupyter's `normalize.less` sets `[hidden] { display: none; }`\n",
       "     but bootstrap.min.css set `[hidden] { display: none !important; }`\n",
       "     so we also need the `!important` here to be able to override the\n",
       "     default hidden behavior on the sphinx rendered scikit-learn.org.\n",
       "     See: https://github.com/scikit-learn/scikit-learn/issues/21755 */\n",
       "  display: inline-block !important;\n",
       "  position: relative;\n",
       "}\n",
       "\n",
       "#sk-container-id-1 div.sk-text-repr-fallback {\n",
       "  display: none;\n",
       "}\n",
       "\n",
       "div.sk-parallel-item,\n",
       "div.sk-serial,\n",
       "div.sk-item {\n",
       "  /* draw centered vertical line to link estimators */\n",
       "  background-image: linear-gradient(var(--sklearn-color-text-on-default-background), var(--sklearn-color-text-on-default-background));\n",
       "  background-size: 2px 100%;\n",
       "  background-repeat: no-repeat;\n",
       "  background-position: center center;\n",
       "}\n",
       "\n",
       "/* Parallel-specific style estimator block */\n",
       "\n",
       "#sk-container-id-1 div.sk-parallel-item::after {\n",
       "  content: \"\";\n",
       "  width: 100%;\n",
       "  border-bottom: 2px solid var(--sklearn-color-text-on-default-background);\n",
       "  flex-grow: 1;\n",
       "}\n",
       "\n",
       "#sk-container-id-1 div.sk-parallel {\n",
       "  display: flex;\n",
       "  align-items: stretch;\n",
       "  justify-content: center;\n",
       "  background-color: var(--sklearn-color-background);\n",
       "  position: relative;\n",
       "}\n",
       "\n",
       "#sk-container-id-1 div.sk-parallel-item {\n",
       "  display: flex;\n",
       "  flex-direction: column;\n",
       "}\n",
       "\n",
       "#sk-container-id-1 div.sk-parallel-item:first-child::after {\n",
       "  align-self: flex-end;\n",
       "  width: 50%;\n",
       "}\n",
       "\n",
       "#sk-container-id-1 div.sk-parallel-item:last-child::after {\n",
       "  align-self: flex-start;\n",
       "  width: 50%;\n",
       "}\n",
       "\n",
       "#sk-container-id-1 div.sk-parallel-item:only-child::after {\n",
       "  width: 0;\n",
       "}\n",
       "\n",
       "/* Serial-specific style estimator block */\n",
       "\n",
       "#sk-container-id-1 div.sk-serial {\n",
       "  display: flex;\n",
       "  flex-direction: column;\n",
       "  align-items: center;\n",
       "  background-color: var(--sklearn-color-background);\n",
       "  padding-right: 1em;\n",
       "  padding-left: 1em;\n",
       "}\n",
       "\n",
       "\n",
       "/* Toggleable style: style used for estimator/Pipeline/ColumnTransformer box that is\n",
       "clickable and can be expanded/collapsed.\n",
       "- Pipeline and ColumnTransformer use this feature and define the default style\n",
       "- Estimators will overwrite some part of the style using the `sk-estimator` class\n",
       "*/\n",
       "\n",
       "/* Pipeline and ColumnTransformer style (default) */\n",
       "\n",
       "#sk-container-id-1 div.sk-toggleable {\n",
       "  /* Default theme specific background. It is overwritten whether we have a\n",
       "  specific estimator or a Pipeline/ColumnTransformer */\n",
       "  background-color: var(--sklearn-color-background);\n",
       "}\n",
       "\n",
       "/* Toggleable label */\n",
       "#sk-container-id-1 label.sk-toggleable__label {\n",
       "  cursor: pointer;\n",
       "  display: block;\n",
       "  width: 100%;\n",
       "  margin-bottom: 0;\n",
       "  padding: 0.5em;\n",
       "  box-sizing: border-box;\n",
       "  text-align: center;\n",
       "}\n",
       "\n",
       "#sk-container-id-1 label.sk-toggleable__label-arrow:before {\n",
       "  /* Arrow on the left of the label */\n",
       "  content: \"▸\";\n",
       "  float: left;\n",
       "  margin-right: 0.25em;\n",
       "  color: var(--sklearn-color-icon);\n",
       "}\n",
       "\n",
       "#sk-container-id-1 label.sk-toggleable__label-arrow:hover:before {\n",
       "  color: var(--sklearn-color-text);\n",
       "}\n",
       "\n",
       "/* Toggleable content - dropdown */\n",
       "\n",
       "#sk-container-id-1 div.sk-toggleable__content {\n",
       "  max-height: 0;\n",
       "  max-width: 0;\n",
       "  overflow: hidden;\n",
       "  text-align: left;\n",
       "  /* unfitted */\n",
       "  background-color: var(--sklearn-color-unfitted-level-0);\n",
       "}\n",
       "\n",
       "#sk-container-id-1 div.sk-toggleable__content.fitted {\n",
       "  /* fitted */\n",
       "  background-color: var(--sklearn-color-fitted-level-0);\n",
       "}\n",
       "\n",
       "#sk-container-id-1 div.sk-toggleable__content pre {\n",
       "  margin: 0.2em;\n",
       "  border-radius: 0.25em;\n",
       "  color: var(--sklearn-color-text);\n",
       "  /* unfitted */\n",
       "  background-color: var(--sklearn-color-unfitted-level-0);\n",
       "}\n",
       "\n",
       "#sk-container-id-1 div.sk-toggleable__content.fitted pre {\n",
       "  /* unfitted */\n",
       "  background-color: var(--sklearn-color-fitted-level-0);\n",
       "}\n",
       "\n",
       "#sk-container-id-1 input.sk-toggleable__control:checked~div.sk-toggleable__content {\n",
       "  /* Expand drop-down */\n",
       "  max-height: 200px;\n",
       "  max-width: 100%;\n",
       "  overflow: auto;\n",
       "}\n",
       "\n",
       "#sk-container-id-1 input.sk-toggleable__control:checked~label.sk-toggleable__label-arrow:before {\n",
       "  content: \"▾\";\n",
       "}\n",
       "\n",
       "/* Pipeline/ColumnTransformer-specific style */\n",
       "\n",
       "#sk-container-id-1 div.sk-label input.sk-toggleable__control:checked~label.sk-toggleable__label {\n",
       "  color: var(--sklearn-color-text);\n",
       "  background-color: var(--sklearn-color-unfitted-level-2);\n",
       "}\n",
       "\n",
       "#sk-container-id-1 div.sk-label.fitted input.sk-toggleable__control:checked~label.sk-toggleable__label {\n",
       "  background-color: var(--sklearn-color-fitted-level-2);\n",
       "}\n",
       "\n",
       "/* Estimator-specific style */\n",
       "\n",
       "/* Colorize estimator box */\n",
       "#sk-container-id-1 div.sk-estimator input.sk-toggleable__control:checked~label.sk-toggleable__label {\n",
       "  /* unfitted */\n",
       "  background-color: var(--sklearn-color-unfitted-level-2);\n",
       "}\n",
       "\n",
       "#sk-container-id-1 div.sk-estimator.fitted input.sk-toggleable__control:checked~label.sk-toggleable__label {\n",
       "  /* fitted */\n",
       "  background-color: var(--sklearn-color-fitted-level-2);\n",
       "}\n",
       "\n",
       "#sk-container-id-1 div.sk-label label.sk-toggleable__label,\n",
       "#sk-container-id-1 div.sk-label label {\n",
       "  /* The background is the default theme color */\n",
       "  color: var(--sklearn-color-text-on-default-background);\n",
       "}\n",
       "\n",
       "/* On hover, darken the color of the background */\n",
       "#sk-container-id-1 div.sk-label:hover label.sk-toggleable__label {\n",
       "  color: var(--sklearn-color-text);\n",
       "  background-color: var(--sklearn-color-unfitted-level-2);\n",
       "}\n",
       "\n",
       "/* Label box, darken color on hover, fitted */\n",
       "#sk-container-id-1 div.sk-label.fitted:hover label.sk-toggleable__label.fitted {\n",
       "  color: var(--sklearn-color-text);\n",
       "  background-color: var(--sklearn-color-fitted-level-2);\n",
       "}\n",
       "\n",
       "/* Estimator label */\n",
       "\n",
       "#sk-container-id-1 div.sk-label label {\n",
       "  font-family: monospace;\n",
       "  font-weight: bold;\n",
       "  display: inline-block;\n",
       "  line-height: 1.2em;\n",
       "}\n",
       "\n",
       "#sk-container-id-1 div.sk-label-container {\n",
       "  text-align: center;\n",
       "}\n",
       "\n",
       "/* Estimator-specific */\n",
       "#sk-container-id-1 div.sk-estimator {\n",
       "  font-family: monospace;\n",
       "  border: 1px dotted var(--sklearn-color-border-box);\n",
       "  border-radius: 0.25em;\n",
       "  box-sizing: border-box;\n",
       "  margin-bottom: 0.5em;\n",
       "  /* unfitted */\n",
       "  background-color: var(--sklearn-color-unfitted-level-0);\n",
       "}\n",
       "\n",
       "#sk-container-id-1 div.sk-estimator.fitted {\n",
       "  /* fitted */\n",
       "  background-color: var(--sklearn-color-fitted-level-0);\n",
       "}\n",
       "\n",
       "/* on hover */\n",
       "#sk-container-id-1 div.sk-estimator:hover {\n",
       "  /* unfitted */\n",
       "  background-color: var(--sklearn-color-unfitted-level-2);\n",
       "}\n",
       "\n",
       "#sk-container-id-1 div.sk-estimator.fitted:hover {\n",
       "  /* fitted */\n",
       "  background-color: var(--sklearn-color-fitted-level-2);\n",
       "}\n",
       "\n",
       "/* Specification for estimator info (e.g. \"i\" and \"?\") */\n",
       "\n",
       "/* Common style for \"i\" and \"?\" */\n",
       "\n",
       ".sk-estimator-doc-link,\n",
       "a:link.sk-estimator-doc-link,\n",
       "a:visited.sk-estimator-doc-link {\n",
       "  float: right;\n",
       "  font-size: smaller;\n",
       "  line-height: 1em;\n",
       "  font-family: monospace;\n",
       "  background-color: var(--sklearn-color-background);\n",
       "  border-radius: 1em;\n",
       "  height: 1em;\n",
       "  width: 1em;\n",
       "  text-decoration: none !important;\n",
       "  margin-left: 1ex;\n",
       "  /* unfitted */\n",
       "  border: var(--sklearn-color-unfitted-level-1) 1pt solid;\n",
       "  color: var(--sklearn-color-unfitted-level-1);\n",
       "}\n",
       "\n",
       ".sk-estimator-doc-link.fitted,\n",
       "a:link.sk-estimator-doc-link.fitted,\n",
       "a:visited.sk-estimator-doc-link.fitted {\n",
       "  /* fitted */\n",
       "  border: var(--sklearn-color-fitted-level-1) 1pt solid;\n",
       "  color: var(--sklearn-color-fitted-level-1);\n",
       "}\n",
       "\n",
       "/* On hover */\n",
       "div.sk-estimator:hover .sk-estimator-doc-link:hover,\n",
       ".sk-estimator-doc-link:hover,\n",
       "div.sk-label-container:hover .sk-estimator-doc-link:hover,\n",
       ".sk-estimator-doc-link:hover {\n",
       "  /* unfitted */\n",
       "  background-color: var(--sklearn-color-unfitted-level-3);\n",
       "  color: var(--sklearn-color-background);\n",
       "  text-decoration: none;\n",
       "}\n",
       "\n",
       "div.sk-estimator.fitted:hover .sk-estimator-doc-link.fitted:hover,\n",
       ".sk-estimator-doc-link.fitted:hover,\n",
       "div.sk-label-container:hover .sk-estimator-doc-link.fitted:hover,\n",
       ".sk-estimator-doc-link.fitted:hover {\n",
       "  /* fitted */\n",
       "  background-color: var(--sklearn-color-fitted-level-3);\n",
       "  color: var(--sklearn-color-background);\n",
       "  text-decoration: none;\n",
       "}\n",
       "\n",
       "/* Span, style for the box shown on hovering the info icon */\n",
       ".sk-estimator-doc-link span {\n",
       "  display: none;\n",
       "  z-index: 9999;\n",
       "  position: relative;\n",
       "  font-weight: normal;\n",
       "  right: .2ex;\n",
       "  padding: .5ex;\n",
       "  margin: .5ex;\n",
       "  width: min-content;\n",
       "  min-width: 20ex;\n",
       "  max-width: 50ex;\n",
       "  color: var(--sklearn-color-text);\n",
       "  box-shadow: 2pt 2pt 4pt #999;\n",
       "  /* unfitted */\n",
       "  background: var(--sklearn-color-unfitted-level-0);\n",
       "  border: .5pt solid var(--sklearn-color-unfitted-level-3);\n",
       "}\n",
       "\n",
       ".sk-estimator-doc-link.fitted span {\n",
       "  /* fitted */\n",
       "  background: var(--sklearn-color-fitted-level-0);\n",
       "  border: var(--sklearn-color-fitted-level-3);\n",
       "}\n",
       "\n",
       ".sk-estimator-doc-link:hover span {\n",
       "  display: block;\n",
       "}\n",
       "\n",
       "/* \"?\"-specific style due to the `<a>` HTML tag */\n",
       "\n",
       "#sk-container-id-1 a.estimator_doc_link {\n",
       "  float: right;\n",
       "  font-size: 1rem;\n",
       "  line-height: 1em;\n",
       "  font-family: monospace;\n",
       "  background-color: var(--sklearn-color-background);\n",
       "  border-radius: 1rem;\n",
       "  height: 1rem;\n",
       "  width: 1rem;\n",
       "  text-decoration: none;\n",
       "  /* unfitted */\n",
       "  color: var(--sklearn-color-unfitted-level-1);\n",
       "  border: var(--sklearn-color-unfitted-level-1) 1pt solid;\n",
       "}\n",
       "\n",
       "#sk-container-id-1 a.estimator_doc_link.fitted {\n",
       "  /* fitted */\n",
       "  border: var(--sklearn-color-fitted-level-1) 1pt solid;\n",
       "  color: var(--sklearn-color-fitted-level-1);\n",
       "}\n",
       "\n",
       "/* On hover */\n",
       "#sk-container-id-1 a.estimator_doc_link:hover {\n",
       "  /* unfitted */\n",
       "  background-color: var(--sklearn-color-unfitted-level-3);\n",
       "  color: var(--sklearn-color-background);\n",
       "  text-decoration: none;\n",
       "}\n",
       "\n",
       "#sk-container-id-1 a.estimator_doc_link.fitted:hover {\n",
       "  /* fitted */\n",
       "  background-color: var(--sklearn-color-fitted-level-3);\n",
       "}\n",
       "</style><div id=\"sk-container-id-1\" class=\"sk-top-container\"><div class=\"sk-text-repr-fallback\"><pre>LabelEncoder()</pre><b>In a Jupyter environment, please rerun this cell to show the HTML representation or trust the notebook. <br />On GitHub, the HTML representation is unable to render, please try loading this page with nbviewer.org.</b></div><div class=\"sk-container\" hidden><div class=\"sk-item\"><div class=\"sk-estimator fitted sk-toggleable\"><input class=\"sk-toggleable__control sk-hidden--visually\" id=\"sk-estimator-id-1\" type=\"checkbox\" checked><label for=\"sk-estimator-id-1\" class=\"sk-toggleable__label fitted sk-toggleable__label-arrow fitted\">&nbsp;&nbsp;LabelEncoder<a class=\"sk-estimator-doc-link fitted\" rel=\"noreferrer\" target=\"_blank\" href=\"https://scikit-learn.org/1.5/modules/generated/sklearn.preprocessing.LabelEncoder.html\">?<span>Documentation for LabelEncoder</span></a><span class=\"sk-estimator-doc-link fitted\">i<span>Fitted</span></span></label><div class=\"sk-toggleable__content fitted\"><pre>LabelEncoder()</pre></div> </div></div></div></div>"
      ],
      "text/plain": [
       "LabelEncoder()"
      ]
     },
     "execution_count": 18,
     "metadata": {},
     "output_type": "execute_result"
    }
   ],
   "source": [
    "le = LabelEncoder()\n",
    "le.fit(test_encoding.select(pl.col('country')))"
   ]
  },
  {
   "cell_type": "code",
   "execution_count": null,
   "metadata": {},
   "outputs": [
    {
     "name": "stderr",
     "output_type": "stream",
     "text": [
      "c:\\Users\\andre\\AppData\\Local\\Programs\\Python\\Python312\\Lib\\site-packages\\sklearn\\preprocessing\\_label.py:132: DataConversionWarning: A column-vector y was passed when a 1d array was expected. Please change the shape of y to (n_samples, ), for example using ravel().\n",
      "  y = column_or_1d(y, dtype=self.classes_.dtype, warn=True)\n"
     ]
    },
    {
     "data": {
      "text/plain": [
       "array([2, 2, 2, 2, 2, 2, 2, 2, 2, 2, 2, 2, 2, 2, 2, 2, 2, 2, 2, 2, 2, 2,\n",
       "       2, 2, 2, 2, 2, 2, 2, 2, 2, 2, 2, 2, 2, 2, 2, 2, 2, 2, 2, 2, 2, 2,\n",
       "       2, 2, 2, 2, 2, 2, 2, 2, 2, 2, 2, 2, 2, 2, 2, 2, 2, 2, 2, 2, 2, 2,\n",
       "       2, 2, 2, 2, 2, 2, 2, 2, 2, 2, 2, 2, 2, 2, 2, 2, 2, 2, 1, 1, 1, 1,\n",
       "       2, 2, 0, 0, 0, 0, 2, 2, 2, 2, 2, 2, 2, 2, 2, 2, 2, 2, 2, 2, 2, 2,\n",
       "       2, 2, 1, 1, 2, 2, 2, 2, 2, 2, 2, 2, 2, 2, 2, 2, 2, 2, 2, 2, 2, 2,\n",
       "       2, 2, 2, 2, 2, 2, 2, 2, 2, 2, 2, 2, 2, 2, 2, 2, 2, 2, 2, 2, 2, 2,\n",
       "       2, 2, 2, 2, 2, 2, 2, 2, 2, 2, 2, 2, 2, 2, 2, 2, 2, 2, 2, 2, 2, 2,\n",
       "       2, 2, 2, 2, 2, 2, 2, 2, 2, 2, 2, 2, 2, 2, 2, 2, 2, 2, 2, 2, 2, 2,\n",
       "       2, 2, 2, 2, 2, 2, 2, 2, 2, 2, 2, 2, 2, 2, 2, 2, 2, 2, 2, 2, 2, 2,\n",
       "       2, 2, 2, 2, 2, 2, 2, 2, 2, 2, 2, 2, 2, 2, 2, 2, 2, 2, 2, 2, 2, 2,\n",
       "       2, 2, 2, 2, 2, 2, 2, 2, 2, 2, 2, 2, 2, 2, 2, 2, 2, 2, 2, 2, 2, 2,\n",
       "       2, 2, 2, 2, 2, 2, 2, 2, 2, 2, 2, 2, 2, 2, 2, 2, 2, 2, 2, 2, 2, 2,\n",
       "       2, 2, 2, 2, 2, 2, 2, 2, 2, 2, 2, 2, 2, 2, 2, 2, 2, 2, 2, 2, 2, 2,\n",
       "       2, 2, 2, 2, 2, 2, 2, 2, 2, 2, 2, 2, 2, 2, 2, 2, 2, 2, 2, 2, 2, 2,\n",
       "       2, 2, 2, 2, 2, 2, 2, 2, 2, 2, 2, 2, 2, 2, 2, 2, 2, 2, 2, 2, 2, 2,\n",
       "       2, 2, 2, 2, 2, 2, 2, 2, 2, 2, 2, 2, 2, 2, 2, 2, 2, 2, 2, 2, 2, 2,\n",
       "       2, 2, 2, 2, 2, 2, 2, 2, 2, 2, 2, 2, 2, 2, 2, 2, 2, 2, 2, 2, 2, 2,\n",
       "       2, 2, 2, 2, 2, 2, 2, 2, 2, 2, 2, 2, 2, 2, 2, 2, 2, 2, 2, 2, 2, 2,\n",
       "       2, 2, 2, 2, 2, 2, 2, 2, 2, 2, 2, 2, 2, 2, 2, 2, 2, 2, 2, 2, 2, 2,\n",
       "       2, 2, 2, 2, 2, 2, 2, 2, 2, 2, 2, 2, 2, 2, 2, 2, 2, 2, 2, 2, 2, 2])"
      ]
     },
     "execution_count": 19,
     "metadata": {},
     "output_type": "execute_result"
    }
   ],
   "source": [
    "encoded_countries = le.transform(test_encoding.select(pl.col('country')))\n",
    "encoded_countries"
   ]
  },
  {
   "cell_type": "code",
   "execution_count": null,
   "metadata": {},
   "outputs": [
    {
     "data": {
      "text/html": [
       "<div><style>\n",
       ".dataframe > thead > tr,\n",
       ".dataframe > tbody > tr {\n",
       "  text-align: right;\n",
       "  white-space: pre-wrap;\n",
       "}\n",
       "</style>\n",
       "<small>shape: (462, 5)</small><table border=\"1\" class=\"dataframe\"><thead><tr><th>fullVisitorId</th><th>country</th><th>browser</th><th>transactionId</th><th>v2ProductName</th></tr><tr><td>str</td><td>i32</td><td>str</td><td>i32</td><td>str</td></tr></thead><tbody><tr><td>&quot;186231215995844689&quot;</td><td>2</td><td>&quot;Chrome&quot;</td><td>1</td><td>&quot;Google Men&#x27;s Bike Short Sleeve…</td></tr><tr><td>&quot;186231215995844689&quot;</td><td>2</td><td>&quot;Chrome&quot;</td><td>1</td><td>&quot;Google Men&#x27;s Bike Short Sleeve…</td></tr><tr><td>&quot;0345672699449577691&quot;</td><td>2</td><td>&quot;Chrome&quot;</td><td>1</td><td>&quot;Google Blackout Cap&quot;</td></tr><tr><td>&quot;0345672699449577691&quot;</td><td>2</td><td>&quot;Chrome&quot;</td><td>1</td><td>&quot;Google Women&#x27;s Vintage Hero Te…</td></tr><tr><td>&quot;0345672699449577691&quot;</td><td>2</td><td>&quot;Chrome&quot;</td><td>1</td><td>&quot;Google Men&#x27;s Long &amp; Lean Tee C…</td></tr><tr><td>&hellip;</td><td>&hellip;</td><td>&hellip;</td><td>&hellip;</td><td>&hellip;</td></tr><tr><td>&quot;7483600664917507409&quot;</td><td>2</td><td>&quot;Chrome&quot;</td><td>1</td><td>&quot;Google 25 oz Red Stainless Ste…</td></tr><tr><td>&quot;7483600664917507409&quot;</td><td>2</td><td>&quot;Chrome&quot;</td><td>1</td><td>&quot;Android 17oz Stainless Steel S…</td></tr><tr><td>&quot;7483600664917507409&quot;</td><td>2</td><td>&quot;Chrome&quot;</td><td>1</td><td>&quot;Android Men&#x27;s Short Sleeve Her…</td></tr><tr><td>&quot;7483600664917507409&quot;</td><td>2</td><td>&quot;Chrome&quot;</td><td>1</td><td>&quot;Android Men&#x27;s Take Charge Shor…</td></tr><tr><td>&quot;7483600664917507409&quot;</td><td>2</td><td>&quot;Chrome&quot;</td><td>1</td><td>&quot;Google Women&#x27;s Scoop Neck Tee …</td></tr></tbody></table></div>"
      ],
      "text/plain": [
       "shape: (462, 5)\n",
       "┌─────────────────────┬─────────┬─────────┬───────────────┬─────────────────────────────────┐\n",
       "│ fullVisitorId       ┆ country ┆ browser ┆ transactionId ┆ v2ProductName                   │\n",
       "│ ---                 ┆ ---     ┆ ---     ┆ ---           ┆ ---                             │\n",
       "│ str                 ┆ i32     ┆ str     ┆ i32           ┆ str                             │\n",
       "╞═════════════════════╪═════════╪═════════╪═══════════════╪═════════════════════════════════╡\n",
       "│ 186231215995844689  ┆ 2       ┆ Chrome  ┆ 1             ┆ Google Men's Bike Short Sleeve… │\n",
       "│ 186231215995844689  ┆ 2       ┆ Chrome  ┆ 1             ┆ Google Men's Bike Short Sleeve… │\n",
       "│ 0345672699449577691 ┆ 2       ┆ Chrome  ┆ 1             ┆ Google Blackout Cap             │\n",
       "│ 0345672699449577691 ┆ 2       ┆ Chrome  ┆ 1             ┆ Google Women's Vintage Hero Te… │\n",
       "│ 0345672699449577691 ┆ 2       ┆ Chrome  ┆ 1             ┆ Google Men's Long & Lean Tee C… │\n",
       "│ …                   ┆ …       ┆ …       ┆ …             ┆ …                               │\n",
       "│ 7483600664917507409 ┆ 2       ┆ Chrome  ┆ 1             ┆ Google 25 oz Red Stainless Ste… │\n",
       "│ 7483600664917507409 ┆ 2       ┆ Chrome  ┆ 1             ┆ Android 17oz Stainless Steel S… │\n",
       "│ 7483600664917507409 ┆ 2       ┆ Chrome  ┆ 1             ┆ Android Men's Short Sleeve Her… │\n",
       "│ 7483600664917507409 ┆ 2       ┆ Chrome  ┆ 1             ┆ Android Men's Take Charge Shor… │\n",
       "│ 7483600664917507409 ┆ 2       ┆ Chrome  ┆ 1             ┆ Google Women's Scoop Neck Tee … │\n",
       "└─────────────────────┴─────────┴─────────┴───────────────┴─────────────────────────────────┘"
      ]
     },
     "execution_count": 20,
     "metadata": {},
     "output_type": "execute_result"
    }
   ],
   "source": [
    "test_encoding = test_encoding.with_columns(pl.Series('country', encoded_countries))\n",
    "test_encoding"
   ]
  },
  {
   "cell_type": "code",
   "execution_count": null,
   "metadata": {},
   "outputs": [
    {
     "name": "stderr",
     "output_type": "stream",
     "text": [
      "c:\\Users\\andre\\AppData\\Local\\Programs\\Python\\Python312\\Lib\\site-packages\\sklearn\\preprocessing\\_label.py:97: DataConversionWarning: A column-vector y was passed when a 1d array was expected. Please change the shape of y to (n_samples, ), for example using ravel().\n",
      "  y = column_or_1d(y, warn=True)\n",
      "c:\\Users\\andre\\AppData\\Local\\Programs\\Python\\Python312\\Lib\\site-packages\\sklearn\\preprocessing\\_label.py:132: DataConversionWarning: A column-vector y was passed when a 1d array was expected. Please change the shape of y to (n_samples, ), for example using ravel().\n",
      "  y = column_or_1d(y, dtype=self.classes_.dtype, warn=True)\n"
     ]
    },
    {
     "data": {
      "text/html": [
       "<div><style>\n",
       ".dataframe > thead > tr,\n",
       ".dataframe > tbody > tr {\n",
       "  text-align: right;\n",
       "  white-space: pre-wrap;\n",
       "}\n",
       "</style>\n",
       "<small>shape: (462, 5)</small><table border=\"1\" class=\"dataframe\"><thead><tr><th>fullVisitorId</th><th>country</th><th>browser</th><th>transactionId</th><th>v2ProductName</th></tr><tr><td>str</td><td>i32</td><td>str</td><td>i32</td><td>i32</td></tr></thead><tbody><tr><td>&quot;186231215995844689&quot;</td><td>2</td><td>&quot;Chrome&quot;</td><td>1</td><td>44</td></tr><tr><td>&quot;186231215995844689&quot;</td><td>2</td><td>&quot;Chrome&quot;</td><td>1</td><td>44</td></tr><tr><td>&quot;0345672699449577691&quot;</td><td>2</td><td>&quot;Chrome&quot;</td><td>1</td><td>26</td></tr><tr><td>&quot;0345672699449577691&quot;</td><td>2</td><td>&quot;Chrome&quot;</td><td>1</td><td>75</td></tr><tr><td>&quot;0345672699449577691&quot;</td><td>2</td><td>&quot;Chrome&quot;</td><td>1</td><td>46</td></tr><tr><td>&hellip;</td><td>&hellip;</td><td>&hellip;</td><td>&hellip;</td><td>&hellip;</td></tr><tr><td>&quot;7483600664917507409&quot;</td><td>2</td><td>&quot;Chrome&quot;</td><td>1</td><td>23</td></tr><tr><td>&quot;7483600664917507409&quot;</td><td>2</td><td>&quot;Chrome&quot;</td><td>1</td><td>5</td></tr><tr><td>&quot;7483600664917507409&quot;</td><td>2</td><td>&quot;Chrome&quot;</td><td>1</td><td>10</td></tr><tr><td>&quot;7483600664917507409&quot;</td><td>2</td><td>&quot;Chrome&quot;</td><td>1</td><td>11</td></tr><tr><td>&quot;7483600664917507409&quot;</td><td>2</td><td>&quot;Chrome&quot;</td><td>1</td><td>69</td></tr></tbody></table></div>"
      ],
      "text/plain": [
       "shape: (462, 5)\n",
       "┌─────────────────────┬─────────┬─────────┬───────────────┬───────────────┐\n",
       "│ fullVisitorId       ┆ country ┆ browser ┆ transactionId ┆ v2ProductName │\n",
       "│ ---                 ┆ ---     ┆ ---     ┆ ---           ┆ ---           │\n",
       "│ str                 ┆ i32     ┆ str     ┆ i32           ┆ i32           │\n",
       "╞═════════════════════╪═════════╪═════════╪═══════════════╪═══════════════╡\n",
       "│ 186231215995844689  ┆ 2       ┆ Chrome  ┆ 1             ┆ 44            │\n",
       "│ 186231215995844689  ┆ 2       ┆ Chrome  ┆ 1             ┆ 44            │\n",
       "│ 0345672699449577691 ┆ 2       ┆ Chrome  ┆ 1             ┆ 26            │\n",
       "│ 0345672699449577691 ┆ 2       ┆ Chrome  ┆ 1             ┆ 75            │\n",
       "│ 0345672699449577691 ┆ 2       ┆ Chrome  ┆ 1             ┆ 46            │\n",
       "│ …                   ┆ …       ┆ …       ┆ …             ┆ …             │\n",
       "│ 7483600664917507409 ┆ 2       ┆ Chrome  ┆ 1             ┆ 23            │\n",
       "│ 7483600664917507409 ┆ 2       ┆ Chrome  ┆ 1             ┆ 5             │\n",
       "│ 7483600664917507409 ┆ 2       ┆ Chrome  ┆ 1             ┆ 10            │\n",
       "│ 7483600664917507409 ┆ 2       ┆ Chrome  ┆ 1             ┆ 11            │\n",
       "│ 7483600664917507409 ┆ 2       ┆ Chrome  ┆ 1             ┆ 69            │\n",
       "└─────────────────────┴─────────┴─────────┴───────────────┴───────────────┘"
      ]
     },
     "execution_count": 21,
     "metadata": {},
     "output_type": "execute_result"
    }
   ],
   "source": [
    "le.fit(test_encoding.select(pl.col('v2ProductName')))\n",
    "encoded_products = le.transform(test_encoding.select(pl.col('v2ProductName')))\n",
    "test_encoding = test_encoding.with_columns(pl.Series('v2ProductName', encoded_products))\n",
    "test_encoding"
   ]
  },
  {
   "cell_type": "code",
   "execution_count": null,
   "metadata": {},
   "outputs": [
    {
     "name": "stderr",
     "output_type": "stream",
     "text": [
      "c:\\Users\\andre\\AppData\\Local\\Programs\\Python\\Python312\\Lib\\site-packages\\sklearn\\preprocessing\\_label.py:97: DataConversionWarning: A column-vector y was passed when a 1d array was expected. Please change the shape of y to (n_samples, ), for example using ravel().\n",
      "  y = column_or_1d(y, warn=True)\n",
      "c:\\Users\\andre\\AppData\\Local\\Programs\\Python\\Python312\\Lib\\site-packages\\sklearn\\preprocessing\\_label.py:132: DataConversionWarning: A column-vector y was passed when a 1d array was expected. Please change the shape of y to (n_samples, ), for example using ravel().\n",
      "  y = column_or_1d(y, dtype=self.classes_.dtype, warn=True)\n"
     ]
    },
    {
     "data": {
      "text/html": [
       "<div><style>\n",
       ".dataframe > thead > tr,\n",
       ".dataframe > tbody > tr {\n",
       "  text-align: right;\n",
       "  white-space: pre-wrap;\n",
       "}\n",
       "</style>\n",
       "<small>shape: (462, 5)</small><table border=\"1\" class=\"dataframe\"><thead><tr><th>fullVisitorId</th><th>country</th><th>browser</th><th>transactionId</th><th>v2ProductName</th></tr><tr><td>str</td><td>i32</td><td>i32</td><td>i32</td><td>i32</td></tr></thead><tbody><tr><td>&quot;186231215995844689&quot;</td><td>2</td><td>0</td><td>1</td><td>44</td></tr><tr><td>&quot;186231215995844689&quot;</td><td>2</td><td>0</td><td>1</td><td>44</td></tr><tr><td>&quot;0345672699449577691&quot;</td><td>2</td><td>0</td><td>1</td><td>26</td></tr><tr><td>&quot;0345672699449577691&quot;</td><td>2</td><td>0</td><td>1</td><td>75</td></tr><tr><td>&quot;0345672699449577691&quot;</td><td>2</td><td>0</td><td>1</td><td>46</td></tr><tr><td>&hellip;</td><td>&hellip;</td><td>&hellip;</td><td>&hellip;</td><td>&hellip;</td></tr><tr><td>&quot;7483600664917507409&quot;</td><td>2</td><td>0</td><td>1</td><td>23</td></tr><tr><td>&quot;7483600664917507409&quot;</td><td>2</td><td>0</td><td>1</td><td>5</td></tr><tr><td>&quot;7483600664917507409&quot;</td><td>2</td><td>0</td><td>1</td><td>10</td></tr><tr><td>&quot;7483600664917507409&quot;</td><td>2</td><td>0</td><td>1</td><td>11</td></tr><tr><td>&quot;7483600664917507409&quot;</td><td>2</td><td>0</td><td>1</td><td>69</td></tr></tbody></table></div>"
      ],
      "text/plain": [
       "shape: (462, 5)\n",
       "┌─────────────────────┬─────────┬─────────┬───────────────┬───────────────┐\n",
       "│ fullVisitorId       ┆ country ┆ browser ┆ transactionId ┆ v2ProductName │\n",
       "│ ---                 ┆ ---     ┆ ---     ┆ ---           ┆ ---           │\n",
       "│ str                 ┆ i32     ┆ i32     ┆ i32           ┆ i32           │\n",
       "╞═════════════════════╪═════════╪═════════╪═══════════════╪═══════════════╡\n",
       "│ 186231215995844689  ┆ 2       ┆ 0       ┆ 1             ┆ 44            │\n",
       "│ 186231215995844689  ┆ 2       ┆ 0       ┆ 1             ┆ 44            │\n",
       "│ 0345672699449577691 ┆ 2       ┆ 0       ┆ 1             ┆ 26            │\n",
       "│ 0345672699449577691 ┆ 2       ┆ 0       ┆ 1             ┆ 75            │\n",
       "│ 0345672699449577691 ┆ 2       ┆ 0       ┆ 1             ┆ 46            │\n",
       "│ …                   ┆ …       ┆ …       ┆ …             ┆ …             │\n",
       "│ 7483600664917507409 ┆ 2       ┆ 0       ┆ 1             ┆ 23            │\n",
       "│ 7483600664917507409 ┆ 2       ┆ 0       ┆ 1             ┆ 5             │\n",
       "│ 7483600664917507409 ┆ 2       ┆ 0       ┆ 1             ┆ 10            │\n",
       "│ 7483600664917507409 ┆ 2       ┆ 0       ┆ 1             ┆ 11            │\n",
       "│ 7483600664917507409 ┆ 2       ┆ 0       ┆ 1             ┆ 69            │\n",
       "└─────────────────────┴─────────┴─────────┴───────────────┴───────────────┘"
      ]
     },
     "execution_count": 22,
     "metadata": {},
     "output_type": "execute_result"
    }
   ],
   "source": [
    "le.fit(test_encoding.select(pl.col('browser')))\n",
    "encoded_browser = le.transform(test_encoding.select(pl.col('browser')))\n",
    "test_encoding = test_encoding.with_columns(pl.Series('browser', encoded_browser))\n",
    "test_encoding"
   ]
  },
  {
   "cell_type": "code",
   "execution_count": null,
   "metadata": {},
   "outputs": [
    {
     "data": {
      "text/html": [
       "<div><style>\n",
       ".dataframe > thead > tr,\n",
       ".dataframe > tbody > tr {\n",
       "  text-align: right;\n",
       "  white-space: pre-wrap;\n",
       "}\n",
       "</style>\n",
       "<small>shape: (60, 5)</small><table border=\"1\" class=\"dataframe\"><thead><tr><th>fullVisitorId</th><th>country</th><th>browser</th><th>transactionId</th><th>v2ProductName</th></tr><tr><td>str</td><td>list[i32]</td><td>list[i32]</td><td>list[i32]</td><td>list[i32]</td></tr></thead><tbody><tr><td>&quot;9687976620185337812&quot;</td><td>[0, 0, … 0]</td><td>[0, 0, … 0]</td><td>[1, 1, … 1]</td><td>[77, 82, … 82]</td></tr><tr><td>&quot;1921325710867532207&quot;</td><td>[2, 2, … 2]</td><td>[0, 0, … 0]</td><td>[1, 1, … 1]</td><td>[38, 69, … 97]</td></tr><tr><td>&quot;1681975491896946073&quot;</td><td>[2, 2, … 2]</td><td>[0, 0, … 0]</td><td>[1, 1, … 1]</td><td>[39, 41, … 39]</td></tr><tr><td>&quot;442359446750687328&quot;</td><td>[2, 2, … 2]</td><td>[0, 0, … 0]</td><td>[1, 1, … 1]</td><td>[14, 55, … 55]</td></tr><tr><td>&quot;7455554400123317161&quot;</td><td>[2, 2]</td><td>[0, 0]</td><td>[1, 1]</td><td>[28, 28]</td></tr><tr><td>&hellip;</td><td>&hellip;</td><td>&hellip;</td><td>&hellip;</td><td>&hellip;</td></tr><tr><td>&quot;7463172420271311409&quot;</td><td>[2, 2, … 2]</td><td>[0, 0, … 0]</td><td>[1, 1, … 1]</td><td>[27, 3, … 41]</td></tr><tr><td>&quot;4408662176448539530&quot;</td><td>[2, 2, … 2]</td><td>[0, 0, … 0]</td><td>[1, 1, … 1]</td><td>[79, 1, … 1]</td></tr><tr><td>&quot;5139927098906360724&quot;</td><td>[2, 2, … 2]</td><td>[0, 0, … 0]</td><td>[1, 1, … 1]</td><td>[43, 53, … 54]</td></tr><tr><td>&quot;4952396078130707023&quot;</td><td>[2, 2]</td><td>[0, 0]</td><td>[1, 1]</td><td>[34, 34]</td></tr><tr><td>&quot;2144335436738770147&quot;</td><td>[2, 2]</td><td>[0, 0]</td><td>[1, 1]</td><td>[85, 85]</td></tr></tbody></table></div>"
      ],
      "text/plain": [
       "shape: (60, 5)\n",
       "┌─────────────────────┬─────────────┬─────────────┬───────────────┬────────────────┐\n",
       "│ fullVisitorId       ┆ country     ┆ browser     ┆ transactionId ┆ v2ProductName  │\n",
       "│ ---                 ┆ ---         ┆ ---         ┆ ---           ┆ ---            │\n",
       "│ str                 ┆ list[i32]   ┆ list[i32]   ┆ list[i32]     ┆ list[i32]      │\n",
       "╞═════════════════════╪═════════════╪═════════════╪═══════════════╪════════════════╡\n",
       "│ 9687976620185337812 ┆ [0, 0, … 0] ┆ [0, 0, … 0] ┆ [1, 1, … 1]   ┆ [77, 82, … 82] │\n",
       "│ 1921325710867532207 ┆ [2, 2, … 2] ┆ [0, 0, … 0] ┆ [1, 1, … 1]   ┆ [38, 69, … 97] │\n",
       "│ 1681975491896946073 ┆ [2, 2, … 2] ┆ [0, 0, … 0] ┆ [1, 1, … 1]   ┆ [39, 41, … 39] │\n",
       "│ 442359446750687328  ┆ [2, 2, … 2] ┆ [0, 0, … 0] ┆ [1, 1, … 1]   ┆ [14, 55, … 55] │\n",
       "│ 7455554400123317161 ┆ [2, 2]      ┆ [0, 0]      ┆ [1, 1]        ┆ [28, 28]       │\n",
       "│ …                   ┆ …           ┆ …           ┆ …             ┆ …              │\n",
       "│ 7463172420271311409 ┆ [2, 2, … 2] ┆ [0, 0, … 0] ┆ [1, 1, … 1]   ┆ [27, 3, … 41]  │\n",
       "│ 4408662176448539530 ┆ [2, 2, … 2] ┆ [0, 0, … 0] ┆ [1, 1, … 1]   ┆ [79, 1, … 1]   │\n",
       "│ 5139927098906360724 ┆ [2, 2, … 2] ┆ [0, 0, … 0] ┆ [1, 1, … 1]   ┆ [43, 53, … 54] │\n",
       "│ 4952396078130707023 ┆ [2, 2]      ┆ [0, 0]      ┆ [1, 1]        ┆ [34, 34]       │\n",
       "│ 2144335436738770147 ┆ [2, 2]      ┆ [0, 0]      ┆ [1, 1]        ┆ [85, 85]       │\n",
       "└─────────────────────┴─────────────┴─────────────┴───────────────┴────────────────┘"
      ]
     },
     "execution_count": 23,
     "metadata": {},
     "output_type": "execute_result"
    }
   ],
   "source": [
    "user_profiles = test_encoding.group_by(pl.col('fullVisitorId')).agg(\n",
    "    pl.col('country'), pl.col('browser'),\n",
    "    pl.col('transactionId'), pl.col('v2ProductName')\n",
    ")\n",
    "user_profiles"
   ]
  },
  {
   "cell_type": "code",
   "execution_count": null,
   "metadata": {},
   "outputs": [
    {
     "data": {
      "text/plain": [
       "array(['20170731', 1501537217, '7483600664917507409', 'Northern America',\n",
       "       'United States', 'Mountain View', 'Chrome', 'Macintosh', 'desktop',\n",
       "       '(direct)', None,\n",
       "       \"Google Men's 100% Cotton Short Sleeve Hero Tee Navy\", '(not set)'],\n",
       "      dtype=object)"
      ]
     },
     "execution_count": 28,
     "metadata": {},
     "output_type": "execute_result"
    }
   ],
   "source": [
    "user_profiles_no_id = user_profiles.drop('fullVisitorId')\n",
    "user_profiles_no_id = user_profiles_no_id.to_numpy()\n",
    "active_users = df.drop('fullVisitorId')\n",
    "active_users = df.to_numpy()\n",
    "active_users"
   ]
  },
  {
   "cell_type": "code",
   "execution_count": null,
   "metadata": {},
   "outputs": [
    {
     "ename": "ValueError",
     "evalue": "could not convert string to float: 'Northern America'",
     "output_type": "error",
     "traceback": [
      "\u001b[1;31m---------------------------------------------------------------------------\u001b[0m",
      "\u001b[1;31mValueError\u001b[0m                                Traceback (most recent call last)",
      "Cell \u001b[1;32mIn[25], line 4\u001b[0m\n\u001b[0;32m      2\u001b[0m \u001b[38;5;28;01mfor\u001b[39;00m i \u001b[38;5;129;01min\u001b[39;00m \u001b[38;5;28mrange\u001b[39m(\u001b[38;5;241m0\u001b[39m,\u001b[38;5;28mlen\u001b[39m(user_profiles)):\n\u001b[0;32m      3\u001b[0m     test_user_profile \u001b[38;5;241m=\u001b[39m np\u001b[38;5;241m.\u001b[39mvstack(user_profiles_no_id[i])\u001b[38;5;241m.\u001b[39mT\n\u001b[1;32m----> 4\u001b[0m     avg_similarity \u001b[38;5;241m=\u001b[39m \u001b[43mcosine_similarity\u001b[49m\u001b[43m(\u001b[49m\u001b[43mtest_user_profile\u001b[49m\u001b[43m,\u001b[49m\u001b[43m \u001b[49m\u001b[43m[\u001b[49m\u001b[43mactive_users\u001b[49m\u001b[43m[\u001b[49m\u001b[38;5;241;43m-\u001b[39;49m\u001b[38;5;241;43m1\u001b[39;49m\u001b[43m]\u001b[49m\u001b[43m]\u001b[49m\u001b[43m)\u001b[49m\n\u001b[0;32m      5\u001b[0m     avg_similarity \u001b[38;5;241m=\u001b[39m avg_similarity\u001b[38;5;241m.\u001b[39mmean()\n\u001b[0;32m      6\u001b[0m     user_profile_avg_similarity_dict_test[\u001b[38;5;124mf\u001b[39m\u001b[38;5;124m'\u001b[39m\u001b[38;5;132;01m{\u001b[39;00muser_profiles[\u001b[38;5;124m'\u001b[39m\u001b[38;5;124mfullVisitorId\u001b[39m\u001b[38;5;124m'\u001b[39m][i]\u001b[38;5;132;01m}\u001b[39;00m\u001b[38;5;124m'\u001b[39m] \u001b[38;5;241m=\u001b[39m avg_similarity\n",
      "File \u001b[1;32mc:\\Users\\andre\\AppData\\Local\\Programs\\Python\\Python312\\Lib\\site-packages\\sklearn\\utils\\_param_validation.py:213\u001b[0m, in \u001b[0;36mvalidate_params.<locals>.decorator.<locals>.wrapper\u001b[1;34m(*args, **kwargs)\u001b[0m\n\u001b[0;32m    207\u001b[0m \u001b[38;5;28;01mtry\u001b[39;00m:\n\u001b[0;32m    208\u001b[0m     \u001b[38;5;28;01mwith\u001b[39;00m config_context(\n\u001b[0;32m    209\u001b[0m         skip_parameter_validation\u001b[38;5;241m=\u001b[39m(\n\u001b[0;32m    210\u001b[0m             prefer_skip_nested_validation \u001b[38;5;129;01mor\u001b[39;00m global_skip_validation\n\u001b[0;32m    211\u001b[0m         )\n\u001b[0;32m    212\u001b[0m     ):\n\u001b[1;32m--> 213\u001b[0m         \u001b[38;5;28;01mreturn\u001b[39;00m \u001b[43mfunc\u001b[49m\u001b[43m(\u001b[49m\u001b[38;5;241;43m*\u001b[39;49m\u001b[43margs\u001b[49m\u001b[43m,\u001b[49m\u001b[43m \u001b[49m\u001b[38;5;241;43m*\u001b[39;49m\u001b[38;5;241;43m*\u001b[39;49m\u001b[43mkwargs\u001b[49m\u001b[43m)\u001b[49m\n\u001b[0;32m    214\u001b[0m \u001b[38;5;28;01mexcept\u001b[39;00m InvalidParameterError \u001b[38;5;28;01mas\u001b[39;00m e:\n\u001b[0;32m    215\u001b[0m     \u001b[38;5;66;03m# When the function is just a wrapper around an estimator, we allow\u001b[39;00m\n\u001b[0;32m    216\u001b[0m     \u001b[38;5;66;03m# the function to delegate validation to the estimator, but we replace\u001b[39;00m\n\u001b[0;32m    217\u001b[0m     \u001b[38;5;66;03m# the name of the estimator by the name of the function in the error\u001b[39;00m\n\u001b[0;32m    218\u001b[0m     \u001b[38;5;66;03m# message to avoid confusion.\u001b[39;00m\n\u001b[0;32m    219\u001b[0m     msg \u001b[38;5;241m=\u001b[39m re\u001b[38;5;241m.\u001b[39msub(\n\u001b[0;32m    220\u001b[0m         \u001b[38;5;124mr\u001b[39m\u001b[38;5;124m\"\u001b[39m\u001b[38;5;124mparameter of \u001b[39m\u001b[38;5;124m\\\u001b[39m\u001b[38;5;124mw+ must be\u001b[39m\u001b[38;5;124m\"\u001b[39m,\n\u001b[0;32m    221\u001b[0m         \u001b[38;5;124mf\u001b[39m\u001b[38;5;124m\"\u001b[39m\u001b[38;5;124mparameter of \u001b[39m\u001b[38;5;132;01m{\u001b[39;00mfunc\u001b[38;5;241m.\u001b[39m\u001b[38;5;18m__qualname__\u001b[39m\u001b[38;5;132;01m}\u001b[39;00m\u001b[38;5;124m must be\u001b[39m\u001b[38;5;124m\"\u001b[39m,\n\u001b[0;32m    222\u001b[0m         \u001b[38;5;28mstr\u001b[39m(e),\n\u001b[0;32m    223\u001b[0m     )\n",
      "File \u001b[1;32mc:\\Users\\andre\\AppData\\Local\\Programs\\Python\\Python312\\Lib\\site-packages\\sklearn\\metrics\\pairwise.py:1668\u001b[0m, in \u001b[0;36mcosine_similarity\u001b[1;34m(X, Y, dense_output)\u001b[0m\n\u001b[0;32m   1624\u001b[0m \u001b[38;5;250m\u001b[39m\u001b[38;5;124;03m\"\"\"Compute cosine similarity between samples in X and Y.\u001b[39;00m\n\u001b[0;32m   1625\u001b[0m \n\u001b[0;32m   1626\u001b[0m \u001b[38;5;124;03mCosine similarity, or the cosine kernel, computes similarity as the\u001b[39;00m\n\u001b[1;32m   (...)\u001b[0m\n\u001b[0;32m   1664\u001b[0m \u001b[38;5;124;03m       [0.57..., 0.81...]])\u001b[39;00m\n\u001b[0;32m   1665\u001b[0m \u001b[38;5;124;03m\"\"\"\u001b[39;00m\n\u001b[0;32m   1666\u001b[0m \u001b[38;5;66;03m# to avoid recursive import\u001b[39;00m\n\u001b[1;32m-> 1668\u001b[0m X, Y \u001b[38;5;241m=\u001b[39m \u001b[43mcheck_pairwise_arrays\u001b[49m\u001b[43m(\u001b[49m\u001b[43mX\u001b[49m\u001b[43m,\u001b[49m\u001b[43m \u001b[49m\u001b[43mY\u001b[49m\u001b[43m)\u001b[49m\n\u001b[0;32m   1670\u001b[0m X_normalized \u001b[38;5;241m=\u001b[39m normalize(X, copy\u001b[38;5;241m=\u001b[39m\u001b[38;5;28;01mTrue\u001b[39;00m)\n\u001b[0;32m   1671\u001b[0m \u001b[38;5;28;01mif\u001b[39;00m X \u001b[38;5;129;01mis\u001b[39;00m Y:\n",
      "File \u001b[1;32mc:\\Users\\andre\\AppData\\Local\\Programs\\Python\\Python312\\Lib\\site-packages\\sklearn\\metrics\\pairwise.py:183\u001b[0m, in \u001b[0;36mcheck_pairwise_arrays\u001b[1;34m(X, Y, precomputed, dtype, accept_sparse, force_all_finite, ensure_2d, copy)\u001b[0m\n\u001b[0;32m    173\u001b[0m \u001b[38;5;28;01melse\u001b[39;00m:\n\u001b[0;32m    174\u001b[0m     X \u001b[38;5;241m=\u001b[39m check_array(\n\u001b[0;32m    175\u001b[0m         X,\n\u001b[0;32m    176\u001b[0m         accept_sparse\u001b[38;5;241m=\u001b[39maccept_sparse,\n\u001b[1;32m   (...)\u001b[0m\n\u001b[0;32m    181\u001b[0m         ensure_2d\u001b[38;5;241m=\u001b[39mensure_2d,\n\u001b[0;32m    182\u001b[0m     )\n\u001b[1;32m--> 183\u001b[0m     Y \u001b[38;5;241m=\u001b[39m \u001b[43mcheck_array\u001b[49m\u001b[43m(\u001b[49m\n\u001b[0;32m    184\u001b[0m \u001b[43m        \u001b[49m\u001b[43mY\u001b[49m\u001b[43m,\u001b[49m\n\u001b[0;32m    185\u001b[0m \u001b[43m        \u001b[49m\u001b[43maccept_sparse\u001b[49m\u001b[38;5;241;43m=\u001b[39;49m\u001b[43maccept_sparse\u001b[49m\u001b[43m,\u001b[49m\n\u001b[0;32m    186\u001b[0m \u001b[43m        \u001b[49m\u001b[43mdtype\u001b[49m\u001b[38;5;241;43m=\u001b[39;49m\u001b[43mdtype\u001b[49m\u001b[43m,\u001b[49m\n\u001b[0;32m    187\u001b[0m \u001b[43m        \u001b[49m\u001b[43mcopy\u001b[49m\u001b[38;5;241;43m=\u001b[39;49m\u001b[43mcopy\u001b[49m\u001b[43m,\u001b[49m\n\u001b[0;32m    188\u001b[0m \u001b[43m        \u001b[49m\u001b[43mforce_all_finite\u001b[49m\u001b[38;5;241;43m=\u001b[39;49m\u001b[43mforce_all_finite\u001b[49m\u001b[43m,\u001b[49m\n\u001b[0;32m    189\u001b[0m \u001b[43m        \u001b[49m\u001b[43mestimator\u001b[49m\u001b[38;5;241;43m=\u001b[39;49m\u001b[43mestimator\u001b[49m\u001b[43m,\u001b[49m\n\u001b[0;32m    190\u001b[0m \u001b[43m        \u001b[49m\u001b[43mensure_2d\u001b[49m\u001b[38;5;241;43m=\u001b[39;49m\u001b[43mensure_2d\u001b[49m\u001b[43m,\u001b[49m\n\u001b[0;32m    191\u001b[0m \u001b[43m    \u001b[49m\u001b[43m)\u001b[49m\n\u001b[0;32m    193\u001b[0m \u001b[38;5;28;01mif\u001b[39;00m precomputed:\n\u001b[0;32m    194\u001b[0m     \u001b[38;5;28;01mif\u001b[39;00m X\u001b[38;5;241m.\u001b[39mshape[\u001b[38;5;241m1\u001b[39m] \u001b[38;5;241m!=\u001b[39m Y\u001b[38;5;241m.\u001b[39mshape[\u001b[38;5;241m0\u001b[39m]:\n",
      "File \u001b[1;32mc:\\Users\\andre\\AppData\\Local\\Programs\\Python\\Python312\\Lib\\site-packages\\sklearn\\utils\\validation.py:1007\u001b[0m, in \u001b[0;36mcheck_array\u001b[1;34m(array, accept_sparse, accept_large_sparse, dtype, order, copy, force_all_finite, ensure_2d, allow_nd, ensure_min_samples, ensure_min_features, estimator, input_name)\u001b[0m\n\u001b[0;32m   1005\u001b[0m         array \u001b[38;5;241m=\u001b[39m xp\u001b[38;5;241m.\u001b[39mastype(array, dtype, copy\u001b[38;5;241m=\u001b[39m\u001b[38;5;28;01mFalse\u001b[39;00m)\n\u001b[0;32m   1006\u001b[0m     \u001b[38;5;28;01melse\u001b[39;00m:\n\u001b[1;32m-> 1007\u001b[0m         array \u001b[38;5;241m=\u001b[39m \u001b[43m_asarray_with_order\u001b[49m\u001b[43m(\u001b[49m\u001b[43marray\u001b[49m\u001b[43m,\u001b[49m\u001b[43m \u001b[49m\u001b[43morder\u001b[49m\u001b[38;5;241;43m=\u001b[39;49m\u001b[43morder\u001b[49m\u001b[43m,\u001b[49m\u001b[43m \u001b[49m\u001b[43mdtype\u001b[49m\u001b[38;5;241;43m=\u001b[39;49m\u001b[43mdtype\u001b[49m\u001b[43m,\u001b[49m\u001b[43m \u001b[49m\u001b[43mxp\u001b[49m\u001b[38;5;241;43m=\u001b[39;49m\u001b[43mxp\u001b[49m\u001b[43m)\u001b[49m\n\u001b[0;32m   1008\u001b[0m \u001b[38;5;28;01mexcept\u001b[39;00m ComplexWarning \u001b[38;5;28;01mas\u001b[39;00m complex_warning:\n\u001b[0;32m   1009\u001b[0m     \u001b[38;5;28;01mraise\u001b[39;00m \u001b[38;5;167;01mValueError\u001b[39;00m(\n\u001b[0;32m   1010\u001b[0m         \u001b[38;5;124m\"\u001b[39m\u001b[38;5;124mComplex data not supported\u001b[39m\u001b[38;5;130;01m\\n\u001b[39;00m\u001b[38;5;132;01m{}\u001b[39;00m\u001b[38;5;130;01m\\n\u001b[39;00m\u001b[38;5;124m\"\u001b[39m\u001b[38;5;241m.\u001b[39mformat(array)\n\u001b[0;32m   1011\u001b[0m     ) \u001b[38;5;28;01mfrom\u001b[39;00m \u001b[38;5;21;01mcomplex_warning\u001b[39;00m\n",
      "File \u001b[1;32mc:\\Users\\andre\\AppData\\Local\\Programs\\Python\\Python312\\Lib\\site-packages\\sklearn\\utils\\_array_api.py:746\u001b[0m, in \u001b[0;36m_asarray_with_order\u001b[1;34m(array, dtype, order, copy, xp, device)\u001b[0m\n\u001b[0;32m    744\u001b[0m     array \u001b[38;5;241m=\u001b[39m numpy\u001b[38;5;241m.\u001b[39marray(array, order\u001b[38;5;241m=\u001b[39morder, dtype\u001b[38;5;241m=\u001b[39mdtype)\n\u001b[0;32m    745\u001b[0m \u001b[38;5;28;01melse\u001b[39;00m:\n\u001b[1;32m--> 746\u001b[0m     array \u001b[38;5;241m=\u001b[39m \u001b[43mnumpy\u001b[49m\u001b[38;5;241;43m.\u001b[39;49m\u001b[43masarray\u001b[49m\u001b[43m(\u001b[49m\u001b[43marray\u001b[49m\u001b[43m,\u001b[49m\u001b[43m \u001b[49m\u001b[43morder\u001b[49m\u001b[38;5;241;43m=\u001b[39;49m\u001b[43morder\u001b[49m\u001b[43m,\u001b[49m\u001b[43m \u001b[49m\u001b[43mdtype\u001b[49m\u001b[38;5;241;43m=\u001b[39;49m\u001b[43mdtype\u001b[49m\u001b[43m)\u001b[49m\n\u001b[0;32m    748\u001b[0m \u001b[38;5;66;03m# At this point array is a NumPy ndarray. We convert it to an array\u001b[39;00m\n\u001b[0;32m    749\u001b[0m \u001b[38;5;66;03m# container that is consistent with the input's namespace.\u001b[39;00m\n\u001b[0;32m    750\u001b[0m \u001b[38;5;28;01mreturn\u001b[39;00m xp\u001b[38;5;241m.\u001b[39masarray(array)\n",
      "\u001b[1;31mValueError\u001b[0m: could not convert string to float: 'Northern America'"
     ]
    }
   ],
   "source": [
    "user_profile_avg_similarity_dict_test = {}\n",
    "for i in range(0,len(user_profiles)):\n",
    "    test_user_profile = np.vstack(user_profiles_no_id[i]).T\n",
    "    avg_similarity = cosine_similarity(test_user_profile, [active_users[-1]])\n",
    "    avg_similarity = avg_similarity.mean()\n",
    "    user_profile_avg_similarity_dict_test[f'{user_profiles['fullVisitorId'][i]}'] = avg_similarity\n",
    "print(user_profile_avg_similarity_dict_test)"
   ]
  },
  {
   "cell_type": "code",
   "execution_count": null,
   "metadata": {},
   "outputs": [
    {
     "data": {
      "text/plain": [
       "[('8321566838784998459', 0.999988213949983),\n",
       " ('0842088345978971117', 0.9999895880848787),\n",
       " ('1573919593896895308', 0.9999930220712488),\n",
       " ('813207140579582070', 0.9999985949965018),\n",
       " ('4064135835973062555', 0.9999989174633006)]"
      ]
     },
     "execution_count": 31,
     "metadata": {},
     "output_type": "execute_result"
    }
   ],
   "source": [
    "sorted_dict = sorted(user_profile_avg_similarity_dict_test.items(), key=lambda x: x[1])\n",
    "sorted_dict[-5:]"
   ]
  },
  {
   "cell_type": "code",
   "execution_count": null,
   "metadata": {},
   "outputs": [
    {
     "data": {
      "text/html": [
       "<div><style>\n",
       ".dataframe > thead > tr,\n",
       ".dataframe > tbody > tr {\n",
       "  text-align: right;\n",
       "  white-space: pre-wrap;\n",
       "}\n",
       "</style>\n",
       "<small>shape: (1, 1)</small><table border=\"1\" class=\"dataframe\"><thead><tr><th>v2ProductName</th></tr><tr><td>str</td></tr></thead><tbody><tr><td>&quot;Google Women&#x27;s Lightweight Mic…</td></tr></tbody></table></div>"
      ],
      "text/plain": [
       "shape: (1, 1)\n",
       "┌─────────────────────────────────┐\n",
       "│ v2ProductName                   │\n",
       "│ ---                             │\n",
       "│ str                             │\n",
       "╞═════════════════════════════════╡\n",
       "│ Google Women's Lightweight Mic… │\n",
       "└─────────────────────────────────┘"
      ]
     },
     "execution_count": 32,
     "metadata": {},
     "output_type": "execute_result"
    }
   ],
   "source": [
    "recommendations = df.filter((pl.col('fullVisitorId') == sorted_dict[-1][0]) & ((pl.col('transactionId') != \"null\")))\n",
    "recommendations = recommendations.select(pl.col('v2ProductName')).unique()\n",
    "recommendations"
   ]
  },
  {
   "cell_type": "code",
   "execution_count": null,
   "metadata": {},
   "outputs": [
    {
     "data": {
      "text/html": [
       "<div><style>\n",
       ".dataframe > thead > tr,\n",
       ".dataframe > tbody > tr {\n",
       "  text-align: right;\n",
       "  white-space: pre-wrap;\n",
       "}\n",
       "</style>\n",
       "<small>shape: (49_512, 13)</small><table border=\"1\" class=\"dataframe\"><thead><tr><th>date</th><th>visitStartTime</th><th>fullVisitorId</th><th>subContinent</th><th>country</th><th>city</th><th>browser</th><th>operatingSystem</th><th>deviceCategory</th><th>source</th><th>transactionId</th><th>v2ProductName</th><th>v2ProductCategory</th></tr><tr><td>str</td><td>i64</td><td>str</td><td>str</td><td>str</td><td>str</td><td>str</td><td>str</td><td>str</td><td>str</td><td>str</td><td>str</td><td>str</td></tr></thead><tbody><tr><td>&quot;20170731&quot;</td><td>1501520683</td><td>&quot;2219384770970157334&quot;</td><td>&quot;Eastern Europe&quot;</td><td>&quot;Slovakia&quot;</td><td>&quot;not available in demo dataset&quot;</td><td>&quot;Firefox&quot;</td><td>&quot;Windows&quot;</td><td>&quot;desktop&quot;</td><td>&quot;google&quot;</td><td>null</td><td>&quot;Google Lunch Bag&quot;</td><td>&quot;Home/Bags/More Bags/&quot;</td></tr><tr><td>&quot;20170731&quot;</td><td>1501520683</td><td>&quot;2219384770970157334&quot;</td><td>&quot;Eastern Europe&quot;</td><td>&quot;Slovakia&quot;</td><td>&quot;not available in demo dataset&quot;</td><td>&quot;Firefox&quot;</td><td>&quot;Windows&quot;</td><td>&quot;desktop&quot;</td><td>&quot;google&quot;</td><td>null</td><td>&quot;Electronics Accessory Pouch&quot;</td><td>&quot;Home/Bags/More Bags/&quot;</td></tr><tr><td>&quot;20170731&quot;</td><td>1501520683</td><td>&quot;2219384770970157334&quot;</td><td>&quot;Eastern Europe&quot;</td><td>&quot;Slovakia&quot;</td><td>&quot;not available in demo dataset&quot;</td><td>&quot;Firefox&quot;</td><td>&quot;Windows&quot;</td><td>&quot;desktop&quot;</td><td>&quot;google&quot;</td><td>null</td><td>&quot;Sport Bag&quot;</td><td>&quot;Home/Bags/More Bags/&quot;</td></tr><tr><td>&quot;20170731&quot;</td><td>1501520683</td><td>&quot;2219384770970157334&quot;</td><td>&quot;Eastern Europe&quot;</td><td>&quot;Slovakia&quot;</td><td>&quot;not available in demo dataset&quot;</td><td>&quot;Firefox&quot;</td><td>&quot;Windows&quot;</td><td>&quot;desktop&quot;</td><td>&quot;google&quot;</td><td>null</td><td>&quot;Google Slim Utility Travel Bag&quot;</td><td>&quot;Home/Bags/More Bags/&quot;</td></tr><tr><td>&quot;20170731&quot;</td><td>1501520683</td><td>&quot;2219384770970157334&quot;</td><td>&quot;Eastern Europe&quot;</td><td>&quot;Slovakia&quot;</td><td>&quot;not available in demo dataset&quot;</td><td>&quot;Firefox&quot;</td><td>&quot;Windows&quot;</td><td>&quot;desktop&quot;</td><td>&quot;google&quot;</td><td>null</td><td>&quot;Suitcase Organizer Cubes&quot;</td><td>&quot;Home/Bags/More Bags/&quot;</td></tr><tr><td>&hellip;</td><td>&hellip;</td><td>&hellip;</td><td>&hellip;</td><td>&hellip;</td><td>&hellip;</td><td>&hellip;</td><td>&hellip;</td><td>&hellip;</td><td>&hellip;</td><td>&hellip;</td><td>&hellip;</td><td>&hellip;</td></tr><tr><td>&quot;20170731&quot;</td><td>1501537217</td><td>&quot;7483600664917507409&quot;</td><td>&quot;Northern America&quot;</td><td>&quot;United States&quot;</td><td>&quot;Mountain View&quot;</td><td>&quot;Chrome&quot;</td><td>&quot;Macintosh&quot;</td><td>&quot;desktop&quot;</td><td>&quot;(direct)&quot;</td><td>&quot;ORD201707312663&quot;</td><td>&quot;Android 17oz Stainless Steel S…</td><td>&quot;Drinkware&quot;</td></tr><tr><td>&quot;20170731&quot;</td><td>1501537217</td><td>&quot;7483600664917507409&quot;</td><td>&quot;Northern America&quot;</td><td>&quot;United States&quot;</td><td>&quot;Mountain View&quot;</td><td>&quot;Chrome&quot;</td><td>&quot;Macintosh&quot;</td><td>&quot;desktop&quot;</td><td>&quot;(direct)&quot;</td><td>&quot;ORD201707312663&quot;</td><td>&quot;Android Men&#x27;s Short Sleeve Her…</td><td>&quot;Apparel&quot;</td></tr><tr><td>&quot;20170731&quot;</td><td>1501537217</td><td>&quot;7483600664917507409&quot;</td><td>&quot;Northern America&quot;</td><td>&quot;United States&quot;</td><td>&quot;Mountain View&quot;</td><td>&quot;Chrome&quot;</td><td>&quot;Macintosh&quot;</td><td>&quot;desktop&quot;</td><td>&quot;(direct)&quot;</td><td>&quot;ORD201707312663&quot;</td><td>&quot;Android Men&#x27;s Take Charge Shor…</td><td>&quot;Apparel&quot;</td></tr><tr><td>&quot;20170731&quot;</td><td>1501537217</td><td>&quot;7483600664917507409&quot;</td><td>&quot;Northern America&quot;</td><td>&quot;United States&quot;</td><td>&quot;Mountain View&quot;</td><td>&quot;Chrome&quot;</td><td>&quot;Macintosh&quot;</td><td>&quot;desktop&quot;</td><td>&quot;(direct)&quot;</td><td>&quot;ORD201707312663&quot;</td><td>&quot;Google Women&#x27;s Scoop Neck Tee …</td><td>&quot;Apparel&quot;</td></tr><tr><td>&quot;20170731&quot;</td><td>1501537217</td><td>&quot;7483600664917507409&quot;</td><td>&quot;Northern America&quot;</td><td>&quot;United States&quot;</td><td>&quot;Mountain View&quot;</td><td>&quot;Chrome&quot;</td><td>&quot;Macintosh&quot;</td><td>&quot;desktop&quot;</td><td>&quot;(direct)&quot;</td><td>null</td><td>&quot;Google Men&#x27;s 100% Cotton Short…</td><td>&quot;(not set)&quot;</td></tr></tbody></table></div>"
      ],
      "text/plain": [
       "shape: (49_512, 13)\n",
       "┌──────────┬────────────────┬─────────────────────┬──────────────────┬───┬──────────┬─────────────────┬─────────────────────────────────┬──────────────────────┐\n",
       "│ date     ┆ visitStartTime ┆ fullVisitorId       ┆ subContinent     ┆ … ┆ source   ┆ transactionId   ┆ v2ProductName                   ┆ v2ProductCategory    │\n",
       "│ ---      ┆ ---            ┆ ---                 ┆ ---              ┆   ┆ ---      ┆ ---             ┆ ---                             ┆ ---                  │\n",
       "│ str      ┆ i64            ┆ str                 ┆ str              ┆   ┆ str      ┆ str             ┆ str                             ┆ str                  │\n",
       "╞══════════╪════════════════╪═════════════════════╪══════════════════╪═══╪══════════╪═════════════════╪═════════════════════════════════╪══════════════════════╡\n",
       "│ 20170731 ┆ 1501520683     ┆ 2219384770970157334 ┆ Eastern Europe   ┆ … ┆ google   ┆ null            ┆ Google Lunch Bag                ┆ Home/Bags/More Bags/ │\n",
       "│ 20170731 ┆ 1501520683     ┆ 2219384770970157334 ┆ Eastern Europe   ┆ … ┆ google   ┆ null            ┆ Electronics Accessory Pouch     ┆ Home/Bags/More Bags/ │\n",
       "│ 20170731 ┆ 1501520683     ┆ 2219384770970157334 ┆ Eastern Europe   ┆ … ┆ google   ┆ null            ┆ Sport Bag                       ┆ Home/Bags/More Bags/ │\n",
       "│ 20170731 ┆ 1501520683     ┆ 2219384770970157334 ┆ Eastern Europe   ┆ … ┆ google   ┆ null            ┆ Google Slim Utility Travel Bag  ┆ Home/Bags/More Bags/ │\n",
       "│ 20170731 ┆ 1501520683     ┆ 2219384770970157334 ┆ Eastern Europe   ┆ … ┆ google   ┆ null            ┆ Suitcase Organizer Cubes        ┆ Home/Bags/More Bags/ │\n",
       "│ …        ┆ …              ┆ …                   ┆ …                ┆ … ┆ …        ┆ …               ┆ …                               ┆ …                    │\n",
       "│ 20170731 ┆ 1501537217     ┆ 7483600664917507409 ┆ Northern America ┆ … ┆ (direct) ┆ ORD201707312663 ┆ Android 17oz Stainless Steel S… ┆ Drinkware            │\n",
       "│ 20170731 ┆ 1501537217     ┆ 7483600664917507409 ┆ Northern America ┆ … ┆ (direct) ┆ ORD201707312663 ┆ Android Men's Short Sleeve Her… ┆ Apparel              │\n",
       "│ 20170731 ┆ 1501537217     ┆ 7483600664917507409 ┆ Northern America ┆ … ┆ (direct) ┆ ORD201707312663 ┆ Android Men's Take Charge Shor… ┆ Apparel              │\n",
       "│ 20170731 ┆ 1501537217     ┆ 7483600664917507409 ┆ Northern America ┆ … ┆ (direct) ┆ ORD201707312663 ┆ Google Women's Scoop Neck Tee … ┆ Apparel              │\n",
       "│ 20170731 ┆ 1501537217     ┆ 7483600664917507409 ┆ Northern America ┆ … ┆ (direct) ┆ null            ┆ Google Men's 100% Cotton Short… ┆ (not set)            │\n",
       "└──────────┴────────────────┴─────────────────────┴──────────────────┴───┴──────────┴─────────────────┴─────────────────────────────────┴──────────────────────┘"
      ]
     },
     "execution_count": 79,
     "metadata": {},
     "output_type": "execute_result"
    }
   ],
   "source": [
    "df"
   ]
  },
  {
   "cell_type": "code",
   "execution_count": null,
   "metadata": {},
   "outputs": [],
   "source": [
    "df = df.select(pl.col('fullVisitorId'),pl.col('country'), \n",
    "            pl.col('browser'),pl.col('transactionId'),\n",
    "            pl.col('v2ProductName'))\n",
    "\n",
    "df = df.with_columns(pl.when(pl.col('transactionId') != 'null').then(1).otherwise(0).alias(\"transactionId\"))"
   ]
  },
  {
   "cell_type": "code",
   "execution_count": null,
   "metadata": {},
   "outputs": [
    {
     "data": {
      "text/html": [
       "<div><style>\n",
       ".dataframe > thead > tr,\n",
       ".dataframe > tbody > tr {\n",
       "  text-align: right;\n",
       "  white-space: pre-wrap;\n",
       "}\n",
       "</style>\n",
       "<small>shape: (49_512, 5)</small><table border=\"1\" class=\"dataframe\"><thead><tr><th>fullVisitorId</th><th>country</th><th>browser</th><th>transactionId</th><th>v2ProductName</th></tr><tr><td>str</td><td>str</td><td>str</td><td>i32</td><td>str</td></tr></thead><tbody><tr><td>&quot;2219384770970157334&quot;</td><td>&quot;Slovakia&quot;</td><td>&quot;Firefox&quot;</td><td>0</td><td>&quot;Google Lunch Bag&quot;</td></tr><tr><td>&quot;2219384770970157334&quot;</td><td>&quot;Slovakia&quot;</td><td>&quot;Firefox&quot;</td><td>0</td><td>&quot;Electronics Accessory Pouch&quot;</td></tr><tr><td>&quot;2219384770970157334&quot;</td><td>&quot;Slovakia&quot;</td><td>&quot;Firefox&quot;</td><td>0</td><td>&quot;Sport Bag&quot;</td></tr><tr><td>&quot;2219384770970157334&quot;</td><td>&quot;Slovakia&quot;</td><td>&quot;Firefox&quot;</td><td>0</td><td>&quot;Google Slim Utility Travel Bag&quot;</td></tr><tr><td>&quot;2219384770970157334&quot;</td><td>&quot;Slovakia&quot;</td><td>&quot;Firefox&quot;</td><td>0</td><td>&quot;Suitcase Organizer Cubes&quot;</td></tr><tr><td>&hellip;</td><td>&hellip;</td><td>&hellip;</td><td>&hellip;</td><td>&hellip;</td></tr><tr><td>&quot;7483600664917507409&quot;</td><td>&quot;United States&quot;</td><td>&quot;Chrome&quot;</td><td>1</td><td>&quot;Android 17oz Stainless Steel S…</td></tr><tr><td>&quot;7483600664917507409&quot;</td><td>&quot;United States&quot;</td><td>&quot;Chrome&quot;</td><td>1</td><td>&quot;Android Men&#x27;s Short Sleeve Her…</td></tr><tr><td>&quot;7483600664917507409&quot;</td><td>&quot;United States&quot;</td><td>&quot;Chrome&quot;</td><td>1</td><td>&quot;Android Men&#x27;s Take Charge Shor…</td></tr><tr><td>&quot;7483600664917507409&quot;</td><td>&quot;United States&quot;</td><td>&quot;Chrome&quot;</td><td>1</td><td>&quot;Google Women&#x27;s Scoop Neck Tee …</td></tr><tr><td>&quot;7483600664917507409&quot;</td><td>&quot;United States&quot;</td><td>&quot;Chrome&quot;</td><td>0</td><td>&quot;Google Men&#x27;s 100% Cotton Short…</td></tr></tbody></table></div>"
      ],
      "text/plain": [
       "shape: (49_512, 5)\n",
       "┌─────────────────────┬───────────────┬─────────┬───────────────┬─────────────────────────────────┐\n",
       "│ fullVisitorId       ┆ country       ┆ browser ┆ transactionId ┆ v2ProductName                   │\n",
       "│ ---                 ┆ ---           ┆ ---     ┆ ---           ┆ ---                             │\n",
       "│ str                 ┆ str           ┆ str     ┆ i32           ┆ str                             │\n",
       "╞═════════════════════╪═══════════════╪═════════╪═══════════════╪═════════════════════════════════╡\n",
       "│ 2219384770970157334 ┆ Slovakia      ┆ Firefox ┆ 0             ┆ Google Lunch Bag                │\n",
       "│ 2219384770970157334 ┆ Slovakia      ┆ Firefox ┆ 0             ┆ Electronics Accessory Pouch     │\n",
       "│ 2219384770970157334 ┆ Slovakia      ┆ Firefox ┆ 0             ┆ Sport Bag                       │\n",
       "│ 2219384770970157334 ┆ Slovakia      ┆ Firefox ┆ 0             ┆ Google Slim Utility Travel Bag  │\n",
       "│ 2219384770970157334 ┆ Slovakia      ┆ Firefox ┆ 0             ┆ Suitcase Organizer Cubes        │\n",
       "│ …                   ┆ …             ┆ …       ┆ …             ┆ …                               │\n",
       "│ 7483600664917507409 ┆ United States ┆ Chrome  ┆ 1             ┆ Android 17oz Stainless Steel S… │\n",
       "│ 7483600664917507409 ┆ United States ┆ Chrome  ┆ 1             ┆ Android Men's Short Sleeve Her… │\n",
       "│ 7483600664917507409 ┆ United States ┆ Chrome  ┆ 1             ┆ Android Men's Take Charge Shor… │\n",
       "│ 7483600664917507409 ┆ United States ┆ Chrome  ┆ 1             ┆ Google Women's Scoop Neck Tee … │\n",
       "│ 7483600664917507409 ┆ United States ┆ Chrome  ┆ 0             ┆ Google Men's 100% Cotton Short… │\n",
       "└─────────────────────┴───────────────┴─────────┴───────────────┴─────────────────────────────────┘"
      ]
     },
     "execution_count": 112,
     "metadata": {},
     "output_type": "execute_result"
    }
   ],
   "source": [
    "df"
   ]
  },
  {
   "cell_type": "code",
   "execution_count": null,
   "metadata": {},
   "outputs": [
    {
     "data": {
      "text/html": [
       "<div><style>\n",
       ".dataframe > thead > tr,\n",
       ".dataframe > tbody > tr {\n",
       "  text-align: right;\n",
       "  white-space: pre-wrap;\n",
       "}\n",
       "</style>\n",
       "<small>shape: (462, 5)</small><table border=\"1\" class=\"dataframe\"><thead><tr><th>fullVisitorId</th><th>country</th><th>browser</th><th>transactionId</th><th>v2ProductName</th></tr><tr><td>str</td><td>str</td><td>str</td><td>i32</td><td>str</td></tr></thead><tbody><tr><td>&quot;186231215995844689&quot;</td><td>&quot;United States&quot;</td><td>&quot;Chrome&quot;</td><td>1</td><td>&quot;Google Men&#x27;s Bike Short Sleeve…</td></tr><tr><td>&quot;186231215995844689&quot;</td><td>&quot;United States&quot;</td><td>&quot;Chrome&quot;</td><td>1</td><td>&quot;Google Men&#x27;s Bike Short Sleeve…</td></tr><tr><td>&quot;0345672699449577691&quot;</td><td>&quot;United States&quot;</td><td>&quot;Chrome&quot;</td><td>1</td><td>&quot;Google Blackout Cap&quot;</td></tr><tr><td>&quot;0345672699449577691&quot;</td><td>&quot;United States&quot;</td><td>&quot;Chrome&quot;</td><td>1</td><td>&quot;Google Women&#x27;s Vintage Hero Te…</td></tr><tr><td>&quot;0345672699449577691&quot;</td><td>&quot;United States&quot;</td><td>&quot;Chrome&quot;</td><td>1</td><td>&quot;Google Men&#x27;s Long &amp; Lean Tee C…</td></tr><tr><td>&hellip;</td><td>&hellip;</td><td>&hellip;</td><td>&hellip;</td><td>&hellip;</td></tr><tr><td>&quot;7483600664917507409&quot;</td><td>&quot;United States&quot;</td><td>&quot;Chrome&quot;</td><td>1</td><td>&quot;Google 25 oz Red Stainless Ste…</td></tr><tr><td>&quot;7483600664917507409&quot;</td><td>&quot;United States&quot;</td><td>&quot;Chrome&quot;</td><td>1</td><td>&quot;Android 17oz Stainless Steel S…</td></tr><tr><td>&quot;7483600664917507409&quot;</td><td>&quot;United States&quot;</td><td>&quot;Chrome&quot;</td><td>1</td><td>&quot;Android Men&#x27;s Short Sleeve Her…</td></tr><tr><td>&quot;7483600664917507409&quot;</td><td>&quot;United States&quot;</td><td>&quot;Chrome&quot;</td><td>1</td><td>&quot;Android Men&#x27;s Take Charge Shor…</td></tr><tr><td>&quot;7483600664917507409&quot;</td><td>&quot;United States&quot;</td><td>&quot;Chrome&quot;</td><td>1</td><td>&quot;Google Women&#x27;s Scoop Neck Tee …</td></tr></tbody></table></div>"
      ],
      "text/plain": [
       "shape: (462, 5)\n",
       "┌─────────────────────┬───────────────┬─────────┬───────────────┬─────────────────────────────────┐\n",
       "│ fullVisitorId       ┆ country       ┆ browser ┆ transactionId ┆ v2ProductName                   │\n",
       "│ ---                 ┆ ---           ┆ ---     ┆ ---           ┆ ---                             │\n",
       "│ str                 ┆ str           ┆ str     ┆ i32           ┆ str                             │\n",
       "╞═════════════════════╪═══════════════╪═════════╪═══════════════╪═════════════════════════════════╡\n",
       "│ 186231215995844689  ┆ United States ┆ Chrome  ┆ 1             ┆ Google Men's Bike Short Sleeve… │\n",
       "│ 186231215995844689  ┆ United States ┆ Chrome  ┆ 1             ┆ Google Men's Bike Short Sleeve… │\n",
       "│ 0345672699449577691 ┆ United States ┆ Chrome  ┆ 1             ┆ Google Blackout Cap             │\n",
       "│ 0345672699449577691 ┆ United States ┆ Chrome  ┆ 1             ┆ Google Women's Vintage Hero Te… │\n",
       "│ 0345672699449577691 ┆ United States ┆ Chrome  ┆ 1             ┆ Google Men's Long & Lean Tee C… │\n",
       "│ …                   ┆ …             ┆ …       ┆ …             ┆ …                               │\n",
       "│ 7483600664917507409 ┆ United States ┆ Chrome  ┆ 1             ┆ Google 25 oz Red Stainless Ste… │\n",
       "│ 7483600664917507409 ┆ United States ┆ Chrome  ┆ 1             ┆ Android 17oz Stainless Steel S… │\n",
       "│ 7483600664917507409 ┆ United States ┆ Chrome  ┆ 1             ┆ Android Men's Short Sleeve Her… │\n",
       "│ 7483600664917507409 ┆ United States ┆ Chrome  ┆ 1             ┆ Android Men's Take Charge Shor… │\n",
       "│ 7483600664917507409 ┆ United States ┆ Chrome  ┆ 1             ┆ Google Women's Scoop Neck Tee … │\n",
       "└─────────────────────┴───────────────┴─────────┴───────────────┴─────────────────────────────────┘"
      ]
     },
     "execution_count": 113,
     "metadata": {},
     "output_type": "execute_result"
    }
   ],
   "source": [
    "purchases_df = df.filter(pl.col('transactionId') == 1)\n",
    "purchases_df"
   ]
  },
  {
   "cell_type": "code",
   "execution_count": null,
   "metadata": {},
   "outputs": [
    {
     "name": "stderr",
     "output_type": "stream",
     "text": [
      "c:\\Users\\andre\\AppData\\Local\\Programs\\Python\\Python312\\Lib\\site-packages\\sklearn\\preprocessing\\_label.py:97: DataConversionWarning: A column-vector y was passed when a 1d array was expected. Please change the shape of y to (n_samples, ), for example using ravel().\n",
      "  y = column_or_1d(y, warn=True)\n",
      "c:\\Users\\andre\\AppData\\Local\\Programs\\Python\\Python312\\Lib\\site-packages\\sklearn\\preprocessing\\_label.py:132: DataConversionWarning: A column-vector y was passed when a 1d array was expected. Please change the shape of y to (n_samples, ), for example using ravel().\n",
      "  y = column_or_1d(y, dtype=self.classes_.dtype, warn=True)\n",
      "c:\\Users\\andre\\AppData\\Local\\Programs\\Python\\Python312\\Lib\\site-packages\\sklearn\\preprocessing\\_label.py:97: DataConversionWarning: A column-vector y was passed when a 1d array was expected. Please change the shape of y to (n_samples, ), for example using ravel().\n",
      "  y = column_or_1d(y, warn=True)\n",
      "c:\\Users\\andre\\AppData\\Local\\Programs\\Python\\Python312\\Lib\\site-packages\\sklearn\\preprocessing\\_label.py:132: DataConversionWarning: A column-vector y was passed when a 1d array was expected. Please change the shape of y to (n_samples, ), for example using ravel().\n",
      "  y = column_or_1d(y, dtype=self.classes_.dtype, warn=True)\n",
      "c:\\Users\\andre\\AppData\\Local\\Programs\\Python\\Python312\\Lib\\site-packages\\sklearn\\preprocessing\\_label.py:97: DataConversionWarning: A column-vector y was passed when a 1d array was expected. Please change the shape of y to (n_samples, ), for example using ravel().\n",
      "  y = column_or_1d(y, warn=True)\n",
      "c:\\Users\\andre\\AppData\\Local\\Programs\\Python\\Python312\\Lib\\site-packages\\sklearn\\preprocessing\\_label.py:132: DataConversionWarning: A column-vector y was passed when a 1d array was expected. Please change the shape of y to (n_samples, ), for example using ravel().\n",
      "  y = column_or_1d(y, dtype=self.classes_.dtype, warn=True)\n",
      "c:\\Users\\andre\\AppData\\Local\\Programs\\Python\\Python312\\Lib\\site-packages\\sklearn\\preprocessing\\_label.py:97: DataConversionWarning: A column-vector y was passed when a 1d array was expected. Please change the shape of y to (n_samples, ), for example using ravel().\n",
      "  y = column_or_1d(y, warn=True)\n",
      "c:\\Users\\andre\\AppData\\Local\\Programs\\Python\\Python312\\Lib\\site-packages\\sklearn\\preprocessing\\_label.py:132: DataConversionWarning: A column-vector y was passed when a 1d array was expected. Please change the shape of y to (n_samples, ), for example using ravel().\n",
      "  y = column_or_1d(y, dtype=self.classes_.dtype, warn=True)\n"
     ]
    }
   ],
   "source": [
    "encoder = LabelEncoder()\n",
    "\n",
    "for i in purchases_df.columns:\n",
    "    if i == 'transactionId':\n",
    "        continue\n",
    "    encoder.fit(purchases_df.select(pl.col(f'{i}')))\n",
    "    encoded_data = encoder.transform(purchases_df.select(pl.col(f'{i}')))\n",
    "    purchases_df = purchases_df.with_columns(pl.Series(f'{i}', encoded_data))\n",
    "    "
   ]
  },
  {
   "cell_type": "code",
   "execution_count": null,
   "metadata": {},
   "outputs": [
    {
     "data": {
      "text/html": [
       "<div><style>\n",
       ".dataframe > thead > tr,\n",
       ".dataframe > tbody > tr {\n",
       "  text-align: right;\n",
       "  white-space: pre-wrap;\n",
       "}\n",
       "</style>\n",
       "<small>shape: (462, 5)</small><table border=\"1\" class=\"dataframe\"><thead><tr><th>fullVisitorId</th><th>country</th><th>browser</th><th>transactionId</th><th>v2ProductName</th></tr><tr><td>i32</td><td>i32</td><td>i32</td><td>i32</td><td>i32</td></tr></thead><tbody><tr><td>9</td><td>2</td><td>0</td><td>1</td><td>44</td></tr><tr><td>9</td><td>2</td><td>0</td><td>1</td><td>44</td></tr><tr><td>3</td><td>2</td><td>0</td><td>1</td><td>26</td></tr><tr><td>3</td><td>2</td><td>0</td><td>1</td><td>75</td></tr><tr><td>3</td><td>2</td><td>0</td><td>1</td><td>46</td></tr><tr><td>&hellip;</td><td>&hellip;</td><td>&hellip;</td><td>&hellip;</td><td>&hellip;</td></tr><tr><td>46</td><td>2</td><td>0</td><td>1</td><td>23</td></tr><tr><td>46</td><td>2</td><td>0</td><td>1</td><td>5</td></tr><tr><td>46</td><td>2</td><td>0</td><td>1</td><td>10</td></tr><tr><td>46</td><td>2</td><td>0</td><td>1</td><td>11</td></tr><tr><td>46</td><td>2</td><td>0</td><td>1</td><td>69</td></tr></tbody></table></div>"
      ],
      "text/plain": [
       "shape: (462, 5)\n",
       "┌───────────────┬─────────┬─────────┬───────────────┬───────────────┐\n",
       "│ fullVisitorId ┆ country ┆ browser ┆ transactionId ┆ v2ProductName │\n",
       "│ ---           ┆ ---     ┆ ---     ┆ ---           ┆ ---           │\n",
       "│ i32           ┆ i32     ┆ i32     ┆ i32           ┆ i32           │\n",
       "╞═══════════════╪═════════╪═════════╪═══════════════╪═══════════════╡\n",
       "│ 9             ┆ 2       ┆ 0       ┆ 1             ┆ 44            │\n",
       "│ 9             ┆ 2       ┆ 0       ┆ 1             ┆ 44            │\n",
       "│ 3             ┆ 2       ┆ 0       ┆ 1             ┆ 26            │\n",
       "│ 3             ┆ 2       ┆ 0       ┆ 1             ┆ 75            │\n",
       "│ 3             ┆ 2       ┆ 0       ┆ 1             ┆ 46            │\n",
       "│ …             ┆ …       ┆ …       ┆ …             ┆ …             │\n",
       "│ 46            ┆ 2       ┆ 0       ┆ 1             ┆ 23            │\n",
       "│ 46            ┆ 2       ┆ 0       ┆ 1             ┆ 5             │\n",
       "│ 46            ┆ 2       ┆ 0       ┆ 1             ┆ 10            │\n",
       "│ 46            ┆ 2       ┆ 0       ┆ 1             ┆ 11            │\n",
       "│ 46            ┆ 2       ┆ 0       ┆ 1             ┆ 69            │\n",
       "└───────────────┴─────────┴─────────┴───────────────┴───────────────┘"
      ]
     },
     "execution_count": 118,
     "metadata": {},
     "output_type": "execute_result"
    }
   ],
   "source": [
    "purchases_df"
   ]
  },
  {
   "cell_type": "code",
   "execution_count": 134,
   "metadata": {},
   "outputs": [
    {
     "ename": "ComputeError",
     "evalue": "cannot compare string with numeric type (i32)",
     "output_type": "error",
     "traceback": [
      "\u001b[1;31m---------------------------------------------------------------------------\u001b[0m",
      "\u001b[1;31mComputeError\u001b[0m                              Traceback (most recent call last)",
      "Cell \u001b[1;32mIn[134], line 1\u001b[0m\n\u001b[1;32m----> 1\u001b[0m \u001b[43mencoding\u001b[49m\u001b[43m(\u001b[49m\u001b[43mdf\u001b[49m\u001b[43m)\u001b[49m\n",
      "File \u001b[1;32mc:\\Users\\andre\\Desktop\\Code\\Data_Science\\recommendation_system\\utils\\preprocessing.py:20\u001b[0m, in \u001b[0;36mencoding\u001b[1;34m(df)\u001b[0m\n\u001b[0;32m      8\u001b[0m \u001b[38;5;250m\u001b[39m\u001b[38;5;124;03m\"\"\" \u001b[39;00m\n\u001b[0;32m      9\u001b[0m \u001b[38;5;124;03mArgs:\u001b[39;00m\n\u001b[0;32m     10\u001b[0m \u001b[38;5;124;03m     : \u001b[39;00m\n\u001b[1;32m   (...)\u001b[0m\n\u001b[0;32m     14\u001b[0m \u001b[38;5;124;03m    pl.DataFrame:  \u001b[39;00m\n\u001b[0;32m     15\u001b[0m \u001b[38;5;124;03m\"\"\"\u001b[39;00m\n\u001b[0;32m     16\u001b[0m df \u001b[38;5;241m=\u001b[39m df\u001b[38;5;241m.\u001b[39mselect(pl\u001b[38;5;241m.\u001b[39mcol(\u001b[38;5;124m'\u001b[39m\u001b[38;5;124mfullVisitorId\u001b[39m\u001b[38;5;124m'\u001b[39m),pl\u001b[38;5;241m.\u001b[39mcol(\u001b[38;5;124m'\u001b[39m\u001b[38;5;124mcountry\u001b[39m\u001b[38;5;124m'\u001b[39m), \n\u001b[0;32m     17\u001b[0m           pl\u001b[38;5;241m.\u001b[39mcol(\u001b[38;5;124m'\u001b[39m\u001b[38;5;124mbrowser\u001b[39m\u001b[38;5;124m'\u001b[39m),pl\u001b[38;5;241m.\u001b[39mcol(\u001b[38;5;124m'\u001b[39m\u001b[38;5;124mtransactionId\u001b[39m\u001b[38;5;124m'\u001b[39m),\n\u001b[0;32m     18\u001b[0m           pl\u001b[38;5;241m.\u001b[39mcol(\u001b[38;5;124m'\u001b[39m\u001b[38;5;124mv2ProductName\u001b[39m\u001b[38;5;124m'\u001b[39m))\n\u001b[1;32m---> 20\u001b[0m purchases_df \u001b[38;5;241m=\u001b[39m \u001b[43mdf\u001b[49m\u001b[38;5;241;43m.\u001b[39;49m\u001b[43mfilter\u001b[49m\u001b[43m(\u001b[49m\u001b[43mpl\u001b[49m\u001b[38;5;241;43m.\u001b[39;49m\u001b[43mcol\u001b[49m\u001b[43m(\u001b[49m\u001b[38;5;124;43m'\u001b[39;49m\u001b[38;5;124;43mtransactionId\u001b[39;49m\u001b[38;5;124;43m'\u001b[39;49m\u001b[43m)\u001b[49m\u001b[43m \u001b[49m\u001b[38;5;241;43m==\u001b[39;49m\u001b[43m \u001b[49m\u001b[38;5;241;43m1\u001b[39;49m\u001b[43m)\u001b[49m\n\u001b[0;32m     22\u001b[0m encoder \u001b[38;5;241m=\u001b[39m LabelEncoder()\n\u001b[0;32m     24\u001b[0m \u001b[38;5;28;01mfor\u001b[39;00m i \u001b[38;5;129;01min\u001b[39;00m purchases_df\u001b[38;5;241m.\u001b[39mcolumns:\n",
      "File \u001b[1;32mc:\\Users\\andre\\AppData\\Local\\Programs\\Python\\Python312\\Lib\\site-packages\\polars\\dataframe\\frame.py:4755\u001b[0m, in \u001b[0;36mDataFrame.filter\u001b[1;34m(self, *predicates, **constraints)\u001b[0m\n\u001b[0;32m   4601\u001b[0m \u001b[38;5;28;01mdef\u001b[39;00m \u001b[38;5;21mfilter\u001b[39m(\n\u001b[0;32m   4602\u001b[0m     \u001b[38;5;28mself\u001b[39m,\n\u001b[0;32m   4603\u001b[0m     \u001b[38;5;241m*\u001b[39mpredicates: (\n\u001b[1;32m   (...)\u001b[0m\n\u001b[0;32m   4610\u001b[0m     \u001b[38;5;241m*\u001b[39m\u001b[38;5;241m*\u001b[39mconstraints: Any,\n\u001b[0;32m   4611\u001b[0m ) \u001b[38;5;241m-\u001b[39m\u001b[38;5;241m>\u001b[39m DataFrame:\n\u001b[0;32m   4612\u001b[0m \u001b[38;5;250m    \u001b[39m\u001b[38;5;124;03m\"\"\"\u001b[39;00m\n\u001b[0;32m   4613\u001b[0m \u001b[38;5;124;03m    Filter the rows in the DataFrame based on one or more predicate expressions.\u001b[39;00m\n\u001b[0;32m   4614\u001b[0m \n\u001b[1;32m   (...)\u001b[0m\n\u001b[0;32m   4753\u001b[0m \n\u001b[0;32m   4754\u001b[0m \u001b[38;5;124;03m    \"\"\"\u001b[39;00m\n\u001b[1;32m-> 4755\u001b[0m     \u001b[38;5;28;01mreturn\u001b[39;00m \u001b[38;5;28;43mself\u001b[39;49m\u001b[38;5;241;43m.\u001b[39;49m\u001b[43mlazy\u001b[49m\u001b[43m(\u001b[49m\u001b[43m)\u001b[49m\u001b[38;5;241;43m.\u001b[39;49m\u001b[43mfilter\u001b[49m\u001b[43m(\u001b[49m\u001b[38;5;241;43m*\u001b[39;49m\u001b[43mpredicates\u001b[49m\u001b[43m,\u001b[49m\u001b[43m \u001b[49m\u001b[38;5;241;43m*\u001b[39;49m\u001b[38;5;241;43m*\u001b[39;49m\u001b[43mconstraints\u001b[49m\u001b[43m)\u001b[49m\u001b[38;5;241;43m.\u001b[39;49m\u001b[43mcollect\u001b[49m\u001b[43m(\u001b[49m\u001b[43m_eager\u001b[49m\u001b[38;5;241;43m=\u001b[39;49m\u001b[38;5;28;43;01mTrue\u001b[39;49;00m\u001b[43m)\u001b[49m\n",
      "File \u001b[1;32mc:\\Users\\andre\\AppData\\Local\\Programs\\Python\\Python312\\Lib\\site-packages\\polars\\lazyframe\\frame.py:2050\u001b[0m, in \u001b[0;36mLazyFrame.collect\u001b[1;34m(self, type_coercion, predicate_pushdown, projection_pushdown, simplify_expression, slice_pushdown, comm_subplan_elim, comm_subexpr_elim, cluster_with_columns, collapse_joins, no_optimization, streaming, engine, background, _eager, **_kwargs)\u001b[0m\n\u001b[0;32m   2048\u001b[0m \u001b[38;5;66;03m# Only for testing purposes\u001b[39;00m\n\u001b[0;32m   2049\u001b[0m callback \u001b[38;5;241m=\u001b[39m _kwargs\u001b[38;5;241m.\u001b[39mget(\u001b[38;5;124m\"\u001b[39m\u001b[38;5;124mpost_opt_callback\u001b[39m\u001b[38;5;124m\"\u001b[39m, callback)\n\u001b[1;32m-> 2050\u001b[0m \u001b[38;5;28;01mreturn\u001b[39;00m wrap_df(\u001b[43mldf\u001b[49m\u001b[38;5;241;43m.\u001b[39;49m\u001b[43mcollect\u001b[49m\u001b[43m(\u001b[49m\u001b[43mcallback\u001b[49m\u001b[43m)\u001b[49m)\n",
      "\u001b[1;31mComputeError\u001b[0m: cannot compare string with numeric type (i32)"
     ]
    }
   ],
   "source": [
    "encoding(df)"
   ]
  },
  {
   "cell_type": "code",
   "execution_count": null,
   "metadata": {},
   "outputs": [],
   "source": [
    "# Need to split the data into subsets & perform the target encoding... k fold target encoding\n",
    "# num_samples = len(new_df) // 8\n",
    "# num_samples\n",
    "# new_df = new_df.with_columns(pl.DataFrame({'kfold':np.repeat(np.arange(1, 9), num_samples)}))\n",
    "# new_df"
   ]
  },
  {
   "cell_type": "code",
   "execution_count": null,
   "metadata": {},
   "outputs": [],
   "source": [
    "df.write_csv(\"../data/cleaned_google_analytics.csv\")"
   ]
  },
  {
   "cell_type": "markdown",
   "metadata": {},
   "source": [
    "### Data Pre-processing Pipeline"
   ]
  },
  {
   "cell_type": "code",
   "execution_count": null,
   "metadata": {},
   "outputs": [],
   "source": [
    "def preprocessing_pipeline(df: pl.DataFrame) -> pl.DataFrame:\n",
    "    \"\"\"\n",
    "    Args:\n",
    "        df : pl.DataFrame\n",
    "\n",
    "    Returns:\n",
    "        pl.DataFrames: pre-processed dataframe\n",
    "    \"\"\"\n",
    "\n",
    "    df = df.with_columns(pl.col('date').str.strptime(pl.Date, format=\"%Y%m%d\"))\n",
    "    df.write_csv(\"../data/cleaned_google_analytics.csv\")\n",
    "    return df "
   ]
  },
  {
   "cell_type": "code",
   "execution_count": null,
   "metadata": {},
   "outputs": [
    {
     "data": {
      "text/html": [
       "<div><style>\n",
       ".dataframe > thead > tr,\n",
       ".dataframe > tbody > tr {\n",
       "  text-align: right;\n",
       "  white-space: pre-wrap;\n",
       "}\n",
       "</style>\n",
       "<small>shape: (49_512, 13)</small><table border=\"1\" class=\"dataframe\"><thead><tr><th>date</th><th>visitStartTime</th><th>fullVisitorId</th><th>subContinent</th><th>country</th><th>city</th><th>browser</th><th>operatingSystem</th><th>deviceCategory</th><th>source</th><th>transactionId</th><th>v2ProductName</th><th>v2ProductCategory</th></tr><tr><td>date</td><td>i64</td><td>str</td><td>str</td><td>str</td><td>str</td><td>str</td><td>str</td><td>str</td><td>str</td><td>str</td><td>str</td><td>str</td></tr></thead><tbody><tr><td>2017-07-31</td><td>1501520683</td><td>&quot;2219384770970157334&quot;</td><td>&quot;Eastern Europe&quot;</td><td>&quot;Slovakia&quot;</td><td>&quot;not available in demo dataset&quot;</td><td>&quot;Firefox&quot;</td><td>&quot;Windows&quot;</td><td>&quot;desktop&quot;</td><td>&quot;google&quot;</td><td>null</td><td>&quot;Google Lunch Bag&quot;</td><td>&quot;Home/Bags/More Bags/&quot;</td></tr><tr><td>2017-07-31</td><td>1501520683</td><td>&quot;2219384770970157334&quot;</td><td>&quot;Eastern Europe&quot;</td><td>&quot;Slovakia&quot;</td><td>&quot;not available in demo dataset&quot;</td><td>&quot;Firefox&quot;</td><td>&quot;Windows&quot;</td><td>&quot;desktop&quot;</td><td>&quot;google&quot;</td><td>null</td><td>&quot;Electronics Accessory Pouch&quot;</td><td>&quot;Home/Bags/More Bags/&quot;</td></tr><tr><td>2017-07-31</td><td>1501520683</td><td>&quot;2219384770970157334&quot;</td><td>&quot;Eastern Europe&quot;</td><td>&quot;Slovakia&quot;</td><td>&quot;not available in demo dataset&quot;</td><td>&quot;Firefox&quot;</td><td>&quot;Windows&quot;</td><td>&quot;desktop&quot;</td><td>&quot;google&quot;</td><td>null</td><td>&quot;Sport Bag&quot;</td><td>&quot;Home/Bags/More Bags/&quot;</td></tr><tr><td>2017-07-31</td><td>1501520683</td><td>&quot;2219384770970157334&quot;</td><td>&quot;Eastern Europe&quot;</td><td>&quot;Slovakia&quot;</td><td>&quot;not available in demo dataset&quot;</td><td>&quot;Firefox&quot;</td><td>&quot;Windows&quot;</td><td>&quot;desktop&quot;</td><td>&quot;google&quot;</td><td>null</td><td>&quot;Google Slim Utility Travel Bag&quot;</td><td>&quot;Home/Bags/More Bags/&quot;</td></tr><tr><td>2017-07-31</td><td>1501520683</td><td>&quot;2219384770970157334&quot;</td><td>&quot;Eastern Europe&quot;</td><td>&quot;Slovakia&quot;</td><td>&quot;not available in demo dataset&quot;</td><td>&quot;Firefox&quot;</td><td>&quot;Windows&quot;</td><td>&quot;desktop&quot;</td><td>&quot;google&quot;</td><td>null</td><td>&quot;Suitcase Organizer Cubes&quot;</td><td>&quot;Home/Bags/More Bags/&quot;</td></tr><tr><td>&hellip;</td><td>&hellip;</td><td>&hellip;</td><td>&hellip;</td><td>&hellip;</td><td>&hellip;</td><td>&hellip;</td><td>&hellip;</td><td>&hellip;</td><td>&hellip;</td><td>&hellip;</td><td>&hellip;</td><td>&hellip;</td></tr><tr><td>2017-07-31</td><td>1501537217</td><td>&quot;7483600664917507409&quot;</td><td>&quot;Northern America&quot;</td><td>&quot;United States&quot;</td><td>&quot;Mountain View&quot;</td><td>&quot;Chrome&quot;</td><td>&quot;Macintosh&quot;</td><td>&quot;desktop&quot;</td><td>&quot;(direct)&quot;</td><td>&quot;ORD201707312663&quot;</td><td>&quot;Android 17oz Stainless Steel S…</td><td>&quot;Drinkware&quot;</td></tr><tr><td>2017-07-31</td><td>1501537217</td><td>&quot;7483600664917507409&quot;</td><td>&quot;Northern America&quot;</td><td>&quot;United States&quot;</td><td>&quot;Mountain View&quot;</td><td>&quot;Chrome&quot;</td><td>&quot;Macintosh&quot;</td><td>&quot;desktop&quot;</td><td>&quot;(direct)&quot;</td><td>&quot;ORD201707312663&quot;</td><td>&quot;Android Men&#x27;s Short Sleeve Her…</td><td>&quot;Apparel&quot;</td></tr><tr><td>2017-07-31</td><td>1501537217</td><td>&quot;7483600664917507409&quot;</td><td>&quot;Northern America&quot;</td><td>&quot;United States&quot;</td><td>&quot;Mountain View&quot;</td><td>&quot;Chrome&quot;</td><td>&quot;Macintosh&quot;</td><td>&quot;desktop&quot;</td><td>&quot;(direct)&quot;</td><td>&quot;ORD201707312663&quot;</td><td>&quot;Android Men&#x27;s Take Charge Shor…</td><td>&quot;Apparel&quot;</td></tr><tr><td>2017-07-31</td><td>1501537217</td><td>&quot;7483600664917507409&quot;</td><td>&quot;Northern America&quot;</td><td>&quot;United States&quot;</td><td>&quot;Mountain View&quot;</td><td>&quot;Chrome&quot;</td><td>&quot;Macintosh&quot;</td><td>&quot;desktop&quot;</td><td>&quot;(direct)&quot;</td><td>&quot;ORD201707312663&quot;</td><td>&quot;Google Women&#x27;s Scoop Neck Tee …</td><td>&quot;Apparel&quot;</td></tr><tr><td>2017-07-31</td><td>1501537217</td><td>&quot;7483600664917507409&quot;</td><td>&quot;Northern America&quot;</td><td>&quot;United States&quot;</td><td>&quot;Mountain View&quot;</td><td>&quot;Chrome&quot;</td><td>&quot;Macintosh&quot;</td><td>&quot;desktop&quot;</td><td>&quot;(direct)&quot;</td><td>null</td><td>&quot;Google Men&#x27;s 100% Cotton Short…</td><td>&quot;(not set)&quot;</td></tr></tbody></table></div>"
      ],
      "text/plain": [
       "shape: (49_512, 13)\n",
       "┌────────────┬────────────────┬─────────────────────┬──────────────────┬───┬──────────┬─────────────────┬─────────────────────────────────┬──────────────────────┐\n",
       "│ date       ┆ visitStartTime ┆ fullVisitorId       ┆ subContinent     ┆ … ┆ source   ┆ transactionId   ┆ v2ProductName                   ┆ v2ProductCategory    │\n",
       "│ ---        ┆ ---            ┆ ---                 ┆ ---              ┆   ┆ ---      ┆ ---             ┆ ---                             ┆ ---                  │\n",
       "│ date       ┆ i64            ┆ str                 ┆ str              ┆   ┆ str      ┆ str             ┆ str                             ┆ str                  │\n",
       "╞════════════╪════════════════╪═════════════════════╪══════════════════╪═══╪══════════╪═════════════════╪═════════════════════════════════╪══════════════════════╡\n",
       "│ 2017-07-31 ┆ 1501520683     ┆ 2219384770970157334 ┆ Eastern Europe   ┆ … ┆ google   ┆ null            ┆ Google Lunch Bag                ┆ Home/Bags/More Bags/ │\n",
       "│ 2017-07-31 ┆ 1501520683     ┆ 2219384770970157334 ┆ Eastern Europe   ┆ … ┆ google   ┆ null            ┆ Electronics Accessory Pouch     ┆ Home/Bags/More Bags/ │\n",
       "│ 2017-07-31 ┆ 1501520683     ┆ 2219384770970157334 ┆ Eastern Europe   ┆ … ┆ google   ┆ null            ┆ Sport Bag                       ┆ Home/Bags/More Bags/ │\n",
       "│ 2017-07-31 ┆ 1501520683     ┆ 2219384770970157334 ┆ Eastern Europe   ┆ … ┆ google   ┆ null            ┆ Google Slim Utility Travel Bag  ┆ Home/Bags/More Bags/ │\n",
       "│ 2017-07-31 ┆ 1501520683     ┆ 2219384770970157334 ┆ Eastern Europe   ┆ … ┆ google   ┆ null            ┆ Suitcase Organizer Cubes        ┆ Home/Bags/More Bags/ │\n",
       "│ …          ┆ …              ┆ …                   ┆ …                ┆ … ┆ …        ┆ …               ┆ …                               ┆ …                    │\n",
       "│ 2017-07-31 ┆ 1501537217     ┆ 7483600664917507409 ┆ Northern America ┆ … ┆ (direct) ┆ ORD201707312663 ┆ Android 17oz Stainless Steel S… ┆ Drinkware            │\n",
       "│ 2017-07-31 ┆ 1501537217     ┆ 7483600664917507409 ┆ Northern America ┆ … ┆ (direct) ┆ ORD201707312663 ┆ Android Men's Short Sleeve Her… ┆ Apparel              │\n",
       "│ 2017-07-31 ┆ 1501537217     ┆ 7483600664917507409 ┆ Northern America ┆ … ┆ (direct) ┆ ORD201707312663 ┆ Android Men's Take Charge Shor… ┆ Apparel              │\n",
       "│ 2017-07-31 ┆ 1501537217     ┆ 7483600664917507409 ┆ Northern America ┆ … ┆ (direct) ┆ ORD201707312663 ┆ Google Women's Scoop Neck Tee … ┆ Apparel              │\n",
       "│ 2017-07-31 ┆ 1501537217     ┆ 7483600664917507409 ┆ Northern America ┆ … ┆ (direct) ┆ null            ┆ Google Men's 100% Cotton Short… ┆ (not set)            │\n",
       "└────────────┴────────────────┴─────────────────────┴──────────────────┴───┴──────────┴─────────────────┴─────────────────────────────────┴──────────────────────┘"
      ]
     },
     "execution_count": 233,
     "metadata": {},
     "output_type": "execute_result"
    }
   ],
   "source": [
    "preprocessing_pipeline(df)"
   ]
  },
  {
   "cell_type": "markdown",
   "metadata": {},
   "source": [
    "# Conclusions \n",
    "- "
   ]
  }
 ],
 "metadata": {
  "kernelspec": {
   "display_name": "Python 3",
   "language": "python",
   "name": "python3"
  },
  "language_info": {
   "codemirror_mode": {
    "name": "ipython",
    "version": 3
   },
   "file_extension": ".py",
   "mimetype": "text/x-python",
   "name": "python",
   "nbconvert_exporter": "python",
   "pygments_lexer": "ipython3",
   "version": "3.12.1"
  }
 },
 "nbformat": 4,
 "nbformat_minor": 2
}
