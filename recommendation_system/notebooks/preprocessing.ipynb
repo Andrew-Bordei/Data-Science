{
 "cells": [
  {
   "cell_type": "markdown",
   "metadata": {},
   "source": [
    "# Dataset Cleaning "
   ]
  },
  {
   "cell_type": "markdown",
   "metadata": {},
   "source": [
    "The main objectives of this notebook are: \n",
    "- Import dataset \n",
    "- Get familiar with the data \n",
    "- Determine if there are data quality issues \n",
    "- Resolve any data quality issues "
   ]
  },
  {
   "cell_type": "code",
   "execution_count": 64,
   "metadata": {},
   "outputs": [],
   "source": [
    "import polars as pl \n",
    "import polars.selectors as cs \n",
    "from google.cloud import bigquery"
   ]
  },
  {
   "cell_type": "code",
   "execution_count": 65,
   "metadata": {},
   "outputs": [
    {
     "data": {
      "text/plain": [
       "polars.config.Config"
      ]
     },
     "execution_count": 65,
     "metadata": {},
     "output_type": "execute_result"
    }
   ],
   "source": [
    "pl.Config.set_tbl_width_chars(200)"
   ]
  },
  {
   "cell_type": "code",
   "execution_count": 82,
   "metadata": {},
   "outputs": [],
   "source": [
    "# Create client object\n",
    "client = bigquery.Client()"
   ]
  },
  {
   "cell_type": "code",
   "execution_count": 83,
   "metadata": {},
   "outputs": [],
   "source": [
    "QUERY = (\"SELECT `date`, `visitId`,`visitNumber`,`visitStartTime`,`visitorId`,`userId`,\"\n",
    "         \"`trafficSource`.`referralPath`,`trafficSource`.`source`,`device`.`browser`,\"\n",
    "         \"`device`.`operatingSystem`,`device`.`isMobile`,`device`.`deviceCategory`,\"\n",
    "         \"`geoNetwork`.`continent`,`geoNetwork`.`subContinent`,`geoNetwork`.`country`,\"\n",
    "         \"`geoNetwork`.`region`,`geoNetwork`.`metro`,`geoNetwork`.`city`,`totals`.`visits`,\"\n",
    "         \"`totals`.`pageviews`,`totals`.`timeOnSite`,`totals`.`transactions`,`totals`.`transactionRevenue`,\"\n",
    "         \"`totals`.`totalTransactionRevenue`,\"\n",
    "         \"FROM`bigquery-public-data.google_analytics_sample.ga_sessions_20170801`;\")"
   ]
  },
  {
   "cell_type": "code",
   "execution_count": 84,
   "metadata": {},
   "outputs": [],
   "source": [
    "run_query = client.query(QUERY)"
   ]
  },
  {
   "cell_type": "code",
   "execution_count": 85,
   "metadata": {},
   "outputs": [
    {
     "name": "stderr",
     "output_type": "stream",
     "text": [
      "c:\\Users\\andre\\AppData\\Local\\Programs\\Python\\Python312\\Lib\\site-packages\\google\\cloud\\bigquery\\table.py:1727: UserWarning: BigQuery Storage module not found, fetch data with the REST endpoint instead.\n",
      "  warnings.warn(\n"
     ]
    }
   ],
   "source": [
    "df = pl.from_arrow(run_query.to_arrow())"
   ]
  },
  {
   "cell_type": "code",
   "execution_count": 86,
   "metadata": {},
   "outputs": [
    {
     "data": {
      "text/html": [
       "<div><style>\n",
       ".dataframe > thead > tr,\n",
       ".dataframe > tbody > tr {\n",
       "  text-align: right;\n",
       "  white-space: pre-wrap;\n",
       "}\n",
       "</style>\n",
       "<small>shape: (5, 24)</small><table border=\"1\" class=\"dataframe\"><thead><tr><th>date</th><th>visitId</th><th>visitNumber</th><th>visitStartTime</th><th>visitorId</th><th>userId</th><th>referralPath</th><th>source</th><th>browser</th><th>operatingSystem</th><th>isMobile</th><th>deviceCategory</th><th>continent</th><th>subContinent</th><th>country</th><th>region</th><th>metro</th><th>city</th><th>visits</th><th>pageviews</th><th>timeOnSite</th><th>transactions</th><th>transactionRevenue</th><th>totalTransactionRevenue</th></tr><tr><td>str</td><td>i64</td><td>i64</td><td>i64</td><td>i64</td><td>str</td><td>str</td><td>str</td><td>str</td><td>str</td><td>bool</td><td>str</td><td>str</td><td>str</td><td>str</td><td>str</td><td>str</td><td>str</td><td>i64</td><td>i64</td><td>i64</td><td>i64</td><td>i64</td><td>i64</td></tr></thead><tbody><tr><td>&quot;20170801&quot;</td><td>1501591568</td><td>1</td><td>1501591568</td><td>null</td><td>null</td><td>null</td><td>&quot;(direct)&quot;</td><td>&quot;Chrome&quot;</td><td>&quot;Windows&quot;</td><td>false</td><td>&quot;desktop&quot;</td><td>&quot;Europe&quot;</td><td>&quot;Southern Europe&quot;</td><td>&quot;Greece&quot;</td><td>&quot;not available in demo dataset&quot;</td><td>&quot;not available in demo dataset&quot;</td><td>&quot;not available in demo dataset&quot;</td><td>1</td><td>1</td><td>null</td><td>null</td><td>null</td><td>null</td></tr><tr><td>&quot;20170801&quot;</td><td>1501589647</td><td>2</td><td>1501589647</td><td>null</td><td>null</td><td>&quot;/analytics/web/&quot;</td><td>&quot;analytics.google.com&quot;</td><td>&quot;Chrome&quot;</td><td>&quot;Windows&quot;</td><td>false</td><td>&quot;desktop&quot;</td><td>&quot;Asia&quot;</td><td>&quot;Southern Asia&quot;</td><td>&quot;India&quot;</td><td>&quot;Maharashtra&quot;</td><td>&quot;(not set)&quot;</td><td>&quot;Mumbai&quot;</td><td>1</td><td>1</td><td>null</td><td>null</td><td>null</td><td>null</td></tr><tr><td>&quot;20170801&quot;</td><td>1501616621</td><td>1</td><td>1501616621</td><td>null</td><td>null</td><td>&quot;/analytics/web/&quot;</td><td>&quot;analytics.google.com&quot;</td><td>&quot;Chrome&quot;</td><td>&quot;Windows&quot;</td><td>false</td><td>&quot;desktop&quot;</td><td>&quot;Europe&quot;</td><td>&quot;Northern Europe&quot;</td><td>&quot;United Kingdom&quot;</td><td>&quot;not available in demo dataset&quot;</td><td>&quot;not available in demo dataset&quot;</td><td>&quot;not available in demo dataset&quot;</td><td>1</td><td>1</td><td>null</td><td>null</td><td>null</td><td>null</td></tr><tr><td>&quot;20170801&quot;</td><td>1501601200</td><td>1</td><td>1501601200</td><td>null</td><td>null</td><td>&quot;/analytics/web/&quot;</td><td>&quot;analytics.google.com&quot;</td><td>&quot;Firefox&quot;</td><td>&quot;Windows&quot;</td><td>false</td><td>&quot;desktop&quot;</td><td>&quot;Americas&quot;</td><td>&quot;Northern America&quot;</td><td>&quot;United States&quot;</td><td>&quot;Texas&quot;</td><td>&quot;Dallas-Ft. Worth TX&quot;</td><td>&quot;Dallas&quot;</td><td>1</td><td>1</td><td>null</td><td>null</td><td>null</td><td>null</td></tr><tr><td>&quot;20170801&quot;</td><td>1501615525</td><td>1</td><td>1501615525</td><td>null</td><td>null</td><td>&quot;/analytics/web/&quot;</td><td>&quot;adwords.google.com&quot;</td><td>&quot;Chrome&quot;</td><td>&quot;Windows&quot;</td><td>false</td><td>&quot;desktop&quot;</td><td>&quot;Americas&quot;</td><td>&quot;Northern America&quot;</td><td>&quot;United States&quot;</td><td>&quot;not available in demo dataset&quot;</td><td>&quot;not available in demo dataset&quot;</td><td>&quot;not available in demo dataset&quot;</td><td>1</td><td>1</td><td>null</td><td>null</td><td>null</td><td>null</td></tr></tbody></table></div>"
      ],
      "text/plain": [
       "shape: (5, 24)\n",
       "┌──────────┬────────────┬─────────────┬────────────────┬───┬────────────┬──────────────┬────────────────────┬─────────────────────────┐\n",
       "│ date     ┆ visitId    ┆ visitNumber ┆ visitStartTime ┆ … ┆ timeOnSite ┆ transactions ┆ transactionRevenue ┆ totalTransactionRevenue │\n",
       "│ ---      ┆ ---        ┆ ---         ┆ ---            ┆   ┆ ---        ┆ ---          ┆ ---                ┆ ---                     │\n",
       "│ str      ┆ i64        ┆ i64         ┆ i64            ┆   ┆ i64        ┆ i64          ┆ i64                ┆ i64                     │\n",
       "╞══════════╪════════════╪═════════════╪════════════════╪═══╪════════════╪══════════════╪════════════════════╪═════════════════════════╡\n",
       "│ 20170801 ┆ 1501591568 ┆ 1           ┆ 1501591568     ┆ … ┆ null       ┆ null         ┆ null               ┆ null                    │\n",
       "│ 20170801 ┆ 1501589647 ┆ 2           ┆ 1501589647     ┆ … ┆ null       ┆ null         ┆ null               ┆ null                    │\n",
       "│ 20170801 ┆ 1501616621 ┆ 1           ┆ 1501616621     ┆ … ┆ null       ┆ null         ┆ null               ┆ null                    │\n",
       "│ 20170801 ┆ 1501601200 ┆ 1           ┆ 1501601200     ┆ … ┆ null       ┆ null         ┆ null               ┆ null                    │\n",
       "│ 20170801 ┆ 1501615525 ┆ 1           ┆ 1501615525     ┆ … ┆ null       ┆ null         ┆ null               ┆ null                    │\n",
       "└──────────┴────────────┴─────────────┴────────────────┴───┴────────────┴──────────────┴────────────────────┴─────────────────────────┘"
      ]
     },
     "execution_count": 86,
     "metadata": {},
     "output_type": "execute_result"
    }
   ],
   "source": [
    "df.head()"
   ]
  },
  {
   "cell_type": "code",
   "execution_count": 71,
   "metadata": {},
   "outputs": [
    {
     "data": {
      "text/plain": [
       "(2556, 24)"
      ]
     },
     "execution_count": 71,
     "metadata": {},
     "output_type": "execute_result"
    }
   ],
   "source": [
    "df.shape"
   ]
  },
  {
   "cell_type": "code",
   "execution_count": 72,
   "metadata": {},
   "outputs": [
    {
     "data": {
      "text/plain": [
       "['date',\n",
       " 'visitId',\n",
       " 'visitNumber',\n",
       " 'visitStartTime',\n",
       " 'visitorId',\n",
       " 'userId',\n",
       " 'referralPath',\n",
       " 'source',\n",
       " 'browser',\n",
       " 'operatingSystem',\n",
       " 'isMobile',\n",
       " 'deviceCategory',\n",
       " 'continent',\n",
       " 'subContinent',\n",
       " 'country',\n",
       " 'region',\n",
       " 'metro',\n",
       " 'city',\n",
       " 'visits',\n",
       " 'pageviews',\n",
       " 'timeOnSite',\n",
       " 'transactions',\n",
       " 'transactionRevenue',\n",
       " 'totalTransactionRevenue']"
      ]
     },
     "execution_count": 72,
     "metadata": {},
     "output_type": "execute_result"
    }
   ],
   "source": [
    "df.columns"
   ]
  },
  {
   "cell_type": "code",
   "execution_count": 73,
   "metadata": {},
   "outputs": [
    {
     "data": {
      "text/html": [
       "<div><style>\n",
       ".dataframe > thead > tr,\n",
       ".dataframe > tbody > tr {\n",
       "  text-align: right;\n",
       "  white-space: pre-wrap;\n",
       "}\n",
       "</style>\n",
       "<small>shape: (1, 24)</small><table border=\"1\" class=\"dataframe\"><thead><tr><th>date</th><th>visitId</th><th>visitNumber</th><th>visitStartTime</th><th>visitorId</th><th>userId</th><th>referralPath</th><th>source</th><th>browser</th><th>operatingSystem</th><th>isMobile</th><th>deviceCategory</th><th>continent</th><th>subContinent</th><th>country</th><th>region</th><th>metro</th><th>city</th><th>visits</th><th>pageviews</th><th>timeOnSite</th><th>transactions</th><th>transactionRevenue</th><th>totalTransactionRevenue</th></tr><tr><td>str</td><td>i64</td><td>i64</td><td>i64</td><td>i64</td><td>str</td><td>str</td><td>str</td><td>str</td><td>str</td><td>bool</td><td>str</td><td>str</td><td>str</td><td>str</td><td>str</td><td>str</td><td>str</td><td>i64</td><td>i64</td><td>i64</td><td>i64</td><td>i64</td><td>i64</td></tr></thead><tbody><tr><td>&quot;20170801&quot;</td><td>1501606548</td><td>9</td><td>1501606548</td><td>null</td><td>null</td><td>null</td><td>&quot;(direct)&quot;</td><td>&quot;Chrome&quot;</td><td>&quot;Windows&quot;</td><td>false</td><td>&quot;desktop&quot;</td><td>&quot;Americas&quot;</td><td>&quot;Northern America&quot;</td><td>&quot;United States&quot;</td><td>&quot;not available in demo dataset&quot;</td><td>&quot;not available in demo dataset&quot;</td><td>&quot;not available in demo dataset&quot;</td><td>1</td><td>2</td><td>5</td><td>null</td><td>null</td><td>null</td></tr></tbody></table></div>"
      ],
      "text/plain": [
       "shape: (1, 24)\n",
       "┌──────────┬────────────┬─────────────┬────────────────┬───┬────────────┬──────────────┬────────────────────┬─────────────────────────┐\n",
       "│ date     ┆ visitId    ┆ visitNumber ┆ visitStartTime ┆ … ┆ timeOnSite ┆ transactions ┆ transactionRevenue ┆ totalTransactionRevenue │\n",
       "│ ---      ┆ ---        ┆ ---         ┆ ---            ┆   ┆ ---        ┆ ---          ┆ ---                ┆ ---                     │\n",
       "│ str      ┆ i64        ┆ i64         ┆ i64            ┆   ┆ i64        ┆ i64          ┆ i64                ┆ i64                     │\n",
       "╞══════════╪════════════╪═════════════╪════════════════╪═══╪════════════╪══════════════╪════════════════════╪═════════════════════════╡\n",
       "│ 20170801 ┆ 1501606548 ┆ 9           ┆ 1501606548     ┆ … ┆ 5          ┆ null         ┆ null               ┆ null                    │\n",
       "└──────────┴────────────┴─────────────┴────────────────┴───┴────────────┴──────────────┴────────────────────┴─────────────────────────┘"
      ]
     },
     "execution_count": 73,
     "metadata": {},
     "output_type": "execute_result"
    }
   ],
   "source": [
    "df.sample()"
   ]
  },
  {
   "cell_type": "code",
   "execution_count": 74,
   "metadata": {},
   "outputs": [
    {
     "data": {
      "text/html": [
       "<div><style>\n",
       ".dataframe > thead > tr,\n",
       ".dataframe > tbody > tr {\n",
       "  text-align: right;\n",
       "  white-space: pre-wrap;\n",
       "}\n",
       "</style>\n",
       "<small>shape: (9, 25)</small><table border=\"1\" class=\"dataframe\"><thead><tr><th>statistic</th><th>date</th><th>visitId</th><th>visitNumber</th><th>visitStartTime</th><th>visitorId</th><th>userId</th><th>referralPath</th><th>source</th><th>browser</th><th>operatingSystem</th><th>isMobile</th><th>deviceCategory</th><th>continent</th><th>subContinent</th><th>country</th><th>region</th><th>metro</th><th>city</th><th>visits</th><th>pageviews</th><th>timeOnSite</th><th>transactions</th><th>transactionRevenue</th><th>totalTransactionRevenue</th></tr><tr><td>str</td><td>str</td><td>f64</td><td>f64</td><td>f64</td><td>f64</td><td>str</td><td>str</td><td>str</td><td>str</td><td>str</td><td>f64</td><td>str</td><td>str</td><td>str</td><td>str</td><td>str</td><td>str</td><td>str</td><td>f64</td><td>f64</td><td>f64</td><td>f64</td><td>f64</td><td>f64</td></tr></thead><tbody><tr><td>&quot;count&quot;</td><td>&quot;2556&quot;</td><td>2556.0</td><td>2556.0</td><td>2556.0</td><td>0.0</td><td>&quot;0&quot;</td><td>&quot;649&quot;</td><td>&quot;2556&quot;</td><td>&quot;2556&quot;</td><td>&quot;2556&quot;</td><td>2556.0</td><td>&quot;2556&quot;</td><td>&quot;2556&quot;</td><td>&quot;2556&quot;</td><td>&quot;2556&quot;</td><td>&quot;2556&quot;</td><td>&quot;2556&quot;</td><td>&quot;2556&quot;</td><td>2556.0</td><td>2556.0</td><td>1310.0</td><td>43.0</td><td>43.0</td><td>43.0</td></tr><tr><td>&quot;null_count&quot;</td><td>&quot;0&quot;</td><td>0.0</td><td>0.0</td><td>0.0</td><td>2556.0</td><td>&quot;2556&quot;</td><td>&quot;1907&quot;</td><td>&quot;0&quot;</td><td>&quot;0&quot;</td><td>&quot;0&quot;</td><td>0.0</td><td>&quot;0&quot;</td><td>&quot;0&quot;</td><td>&quot;0&quot;</td><td>&quot;0&quot;</td><td>&quot;0&quot;</td><td>&quot;0&quot;</td><td>&quot;0&quot;</td><td>0.0</td><td>0.0</td><td>1246.0</td><td>2513.0</td><td>2513.0</td><td>2513.0</td></tr><tr><td>&quot;mean&quot;</td><td>null</td><td>1.5016e9</td><td>2.661189</td><td>1.5016e9</td><td>null</td><td>null</td><td>null</td><td>null</td><td>null</td><td>null</td><td>0.318858</td><td>null</td><td>null</td><td>null</td><td>null</td><td>null</td><td>null</td><td>null</td><td>1.0</td><td>4.279734</td><td>325.051908</td><td>1.046512</td><td>1.9314e8</td><td>2.0674e8</td></tr><tr><td>&quot;std&quot;</td><td>null</td><td>22804.553787</td><td>12.0222</td><td>22804.234297</td><td>null</td><td>null</td><td>null</td><td>null</td><td>null</td><td>null</td><td>null</td><td>null</td><td>null</td><td>null</td><td>null</td><td>null</td><td>null</td><td>null</td><td>0.0</td><td>7.966343</td><td>592.411724</td><td>0.213083</td><td>4.7870e8</td><td>4.7852e8</td></tr><tr><td>&quot;min&quot;</td><td>&quot;20170801&quot;</td><td>1.5016e9</td><td>1.0</td><td>1.5016e9</td><td>null</td><td>null</td><td>&quot;/&quot;</td><td>&quot;(direct)&quot;</td><td>&quot;Android Browser&quot;</td><td>&quot;(not set)&quot;</td><td>0.0</td><td>&quot;desktop&quot;</td><td>&quot;(not set)&quot;</td><td>&quot;(not set)&quot;</td><td>&quot;(not set)&quot;</td><td>&quot;(not set)&quot;</td><td>&quot;(not set)&quot;</td><td>&quot;(not set)&quot;</td><td>1.0</td><td>1.0</td><td>1.0</td><td>1.0</td><td>1.99e6</td><td>2.99e6</td></tr><tr><td>&quot;25%&quot;</td><td>null</td><td>1.5016e9</td><td>1.0</td><td>1.5016e9</td><td>null</td><td>null</td><td>null</td><td>null</td><td>null</td><td>null</td><td>null</td><td>null</td><td>null</td><td>null</td><td>null</td><td>null</td><td>null</td><td>null</td><td>1.0</td><td>1.0</td><td>32.0</td><td>1.0</td><td>2.958e7</td><td>3.479e7</td></tr><tr><td>&quot;50%&quot;</td><td>null</td><td>1.5016e9</td><td>1.0</td><td>1.5016e9</td><td>null</td><td>null</td><td>null</td><td>null</td><td>null</td><td>null</td><td>null</td><td>null</td><td>null</td><td>null</td><td>null</td><td>null</td><td>null</td><td>null</td><td>1.0</td><td>2.0</td><td>97.0</td><td>1.0</td><td>4.567e7</td><td>5.079e7</td></tr><tr><td>&quot;75%&quot;</td><td>null</td><td>1.5016e9</td><td>2.0</td><td>1.5016e9</td><td>null</td><td>null</td><td>null</td><td>null</td><td>null</td><td>null</td><td>null</td><td>null</td><td>null</td><td>null</td><td>null</td><td>null</td><td>null</td><td>null</td><td>1.0</td><td>4.0</td><td>337.0</td><td>1.0</td><td>1.5714e8</td><td>1.739e8</td></tr><tr><td>&quot;max&quot;</td><td>&quot;20170801&quot;</td><td>1.5017e9</td><td>326.0</td><td>1.5017e9</td><td>null</td><td>null</td><td>&quot;/yt/about/press/&quot;</td><td>&quot;youtube.com&quot;</td><td>&quot;YaBrowser&quot;</td><td>&quot;iOS&quot;</td><td>1.0</td><td>&quot;tablet&quot;</td><td>&quot;Oceania&quot;</td><td>&quot;Western Europe&quot;</td><td>&quot;Vietnam&quot;</td><td>&quot;not available in demo dataset&quot;</td><td>&quot;not available in demo dataset&quot;</td><td>&quot;not available in demo dataset&quot;</td><td>1.0</td><td>155.0</td><td>5455.0</td><td>2.0</td><td>2.9336e9</td><td>2.9356e9</td></tr></tbody></table></div>"
      ],
      "text/plain": [
       "shape: (9, 25)\n",
       "┌────────────┬──────────┬──────────────┬─────────────┬───┬────────────┬──────────────┬────────────────────┬─────────────────────────┐\n",
       "│ statistic  ┆ date     ┆ visitId      ┆ visitNumber ┆ … ┆ timeOnSite ┆ transactions ┆ transactionRevenue ┆ totalTransactionRevenue │\n",
       "│ ---        ┆ ---      ┆ ---          ┆ ---         ┆   ┆ ---        ┆ ---          ┆ ---                ┆ ---                     │\n",
       "│ str        ┆ str      ┆ f64          ┆ f64         ┆   ┆ f64        ┆ f64          ┆ f64                ┆ f64                     │\n",
       "╞════════════╪══════════╪══════════════╪═════════════╪═══╪════════════╪══════════════╪════════════════════╪═════════════════════════╡\n",
       "│ count      ┆ 2556     ┆ 2556.0       ┆ 2556.0      ┆ … ┆ 1310.0     ┆ 43.0         ┆ 43.0               ┆ 43.0                    │\n",
       "│ null_count ┆ 0        ┆ 0.0          ┆ 0.0         ┆ … ┆ 1246.0     ┆ 2513.0       ┆ 2513.0             ┆ 2513.0                  │\n",
       "│ mean       ┆ null     ┆ 1.5016e9     ┆ 2.661189    ┆ … ┆ 325.051908 ┆ 1.046512     ┆ 1.9314e8           ┆ 2.0674e8                │\n",
       "│ std        ┆ null     ┆ 22804.553787 ┆ 12.0222     ┆ … ┆ 592.411724 ┆ 0.213083     ┆ 4.7870e8           ┆ 4.7852e8                │\n",
       "│ min        ┆ 20170801 ┆ 1.5016e9     ┆ 1.0         ┆ … ┆ 1.0        ┆ 1.0          ┆ 1.99e6             ┆ 2.99e6                  │\n",
       "│ 25%        ┆ null     ┆ 1.5016e9     ┆ 1.0         ┆ … ┆ 32.0       ┆ 1.0          ┆ 2.958e7            ┆ 3.479e7                 │\n",
       "│ 50%        ┆ null     ┆ 1.5016e9     ┆ 1.0         ┆ … ┆ 97.0       ┆ 1.0          ┆ 4.567e7            ┆ 5.079e7                 │\n",
       "│ 75%        ┆ null     ┆ 1.5016e9     ┆ 2.0         ┆ … ┆ 337.0      ┆ 1.0          ┆ 1.5714e8           ┆ 1.739e8                 │\n",
       "│ max        ┆ 20170801 ┆ 1.5017e9     ┆ 326.0       ┆ … ┆ 5455.0     ┆ 2.0          ┆ 2.9336e9           ┆ 2.9356e9                │\n",
       "└────────────┴──────────┴──────────────┴─────────────┴───┴────────────┴──────────────┴────────────────────┴─────────────────────────┘"
      ]
     },
     "execution_count": 74,
     "metadata": {},
     "output_type": "execute_result"
    }
   ],
   "source": [
    "df.describe()"
   ]
  },
  {
   "cell_type": "code",
   "execution_count": 75,
   "metadata": {},
   "outputs": [
    {
     "data": {
      "text/html": [
       "<div><style>\n",
       ".dataframe > thead > tr,\n",
       ".dataframe > tbody > tr {\n",
       "  text-align: right;\n",
       "  white-space: pre-wrap;\n",
       "}\n",
       "</style>\n",
       "<small>shape: (43, 24)</small><table border=\"1\" class=\"dataframe\"><thead><tr><th>date</th><th>visitId</th><th>visitNumber</th><th>visitStartTime</th><th>visitorId</th><th>userId</th><th>referralPath</th><th>source</th><th>browser</th><th>operatingSystem</th><th>isMobile</th><th>deviceCategory</th><th>continent</th><th>subContinent</th><th>country</th><th>region</th><th>metro</th><th>city</th><th>visits</th><th>pageviews</th><th>timeOnSite</th><th>transactions</th><th>transactionRevenue</th><th>totalTransactionRevenue</th></tr><tr><td>str</td><td>i64</td><td>i64</td><td>i64</td><td>i64</td><td>str</td><td>str</td><td>str</td><td>str</td><td>str</td><td>bool</td><td>str</td><td>str</td><td>str</td><td>str</td><td>str</td><td>str</td><td>str</td><td>i64</td><td>i64</td><td>i64</td><td>i64</td><td>i64</td><td>i64</td></tr></thead><tbody><tr><td>&quot;20170801&quot;</td><td>1501621191</td><td>4</td><td>1501621191</td><td>null</td><td>null</td><td>null</td><td>&quot;(direct)&quot;</td><td>&quot;Chrome&quot;</td><td>&quot;Macintosh&quot;</td><td>false</td><td>&quot;desktop&quot;</td><td>&quot;Americas&quot;</td><td>&quot;Northern America&quot;</td><td>&quot;United States&quot;</td><td>&quot;California&quot;</td><td>&quot;San Francisco-Oakland-San Jose…</td><td>&quot;Mountain View&quot;</td><td>1</td><td>5</td><td>56</td><td>1</td><td>35290000</td><td>40290000</td></tr><tr><td>&quot;20170801&quot;</td><td>1501612542</td><td>6</td><td>1501612542</td><td>null</td><td>null</td><td>&quot;/&quot;</td><td>&quot;(direct)&quot;</td><td>&quot;Chrome&quot;</td><td>&quot;Macintosh&quot;</td><td>false</td><td>&quot;desktop&quot;</td><td>&quot;Americas&quot;</td><td>&quot;Northern America&quot;</td><td>&quot;United States&quot;</td><td>&quot;California&quot;</td><td>&quot;San Francisco-Oakland-San Jose…</td><td>&quot;Mountain View&quot;</td><td>1</td><td>11</td><td>212</td><td>1</td><td>27430000</td><td>30430000</td></tr><tr><td>&quot;20170801&quot;</td><td>1501599317</td><td>1</td><td>1501599317</td><td>null</td><td>null</td><td>null</td><td>&quot;(direct)&quot;</td><td>&quot;Chrome&quot;</td><td>&quot;Macintosh&quot;</td><td>false</td><td>&quot;desktop&quot;</td><td>&quot;Americas&quot;</td><td>&quot;Northern America&quot;</td><td>&quot;United States&quot;</td><td>&quot;not available in demo dataset&quot;</td><td>&quot;not available in demo dataset&quot;</td><td>&quot;not available in demo dataset&quot;</td><td>1</td><td>14</td><td>559</td><td>1</td><td>1990000</td><td>2990000</td></tr><tr><td>&quot;20170801&quot;</td><td>1501620679</td><td>3</td><td>1501620679</td><td>null</td><td>null</td><td>null</td><td>&quot;(direct)&quot;</td><td>&quot;Safari&quot;</td><td>&quot;Macintosh&quot;</td><td>false</td><td>&quot;desktop&quot;</td><td>&quot;Americas&quot;</td><td>&quot;Northern America&quot;</td><td>&quot;United States&quot;</td><td>&quot;not available in demo dataset&quot;</td><td>&quot;not available in demo dataset&quot;</td><td>&quot;not available in demo dataset&quot;</td><td>1</td><td>14</td><td>237</td><td>1</td><td>13290000</td><td>22290000</td></tr><tr><td>&quot;20170801&quot;</td><td>1501595478</td><td>3</td><td>1501595478</td><td>null</td><td>null</td><td>&quot;/mail/ca/u/0/&quot;</td><td>&quot;mail.google.com&quot;</td><td>&quot;Chrome&quot;</td><td>&quot;Macintosh&quot;</td><td>false</td><td>&quot;desktop&quot;</td><td>&quot;Americas&quot;</td><td>&quot;Northern America&quot;</td><td>&quot;United States&quot;</td><td>&quot;New York&quot;</td><td>&quot;New York NY&quot;</td><td>&quot;New York&quot;</td><td>1</td><td>16</td><td>1474</td><td>1</td><td>11960000</td><td>17960000</td></tr><tr><td>&hellip;</td><td>&hellip;</td><td>&hellip;</td><td>&hellip;</td><td>&hellip;</td><td>&hellip;</td><td>&hellip;</td><td>&hellip;</td><td>&hellip;</td><td>&hellip;</td><td>&hellip;</td><td>&hellip;</td><td>&hellip;</td><td>&hellip;</td><td>&hellip;</td><td>&hellip;</td><td>&hellip;</td><td>&hellip;</td><td>&hellip;</td><td>&hellip;</td><td>&hellip;</td><td>&hellip;</td><td>&hellip;</td><td>&hellip;</td></tr><tr><td>&quot;20170801&quot;</td><td>1501628356</td><td>8</td><td>1501628356</td><td>null</td><td>null</td><td>&quot;/&quot;</td><td>&quot;(direct)&quot;</td><td>&quot;Chrome&quot;</td><td>&quot;Macintosh&quot;</td><td>false</td><td>&quot;desktop&quot;</td><td>&quot;Americas&quot;</td><td>&quot;Northern America&quot;</td><td>&quot;United States&quot;</td><td>&quot;Illinois&quot;</td><td>&quot;Chicago IL&quot;</td><td>&quot;Chicago&quot;</td><td>1</td><td>48</td><td>1827</td><td>2</td><td>126680000</td><td>400960000</td></tr><tr><td>&quot;20170801&quot;</td><td>1501647149</td><td>1</td><td>1501647149</td><td>null</td><td>null</td><td>null</td><td>&quot;(direct)&quot;</td><td>&quot;Chrome&quot;</td><td>&quot;Windows&quot;</td><td>false</td><td>&quot;desktop&quot;</td><td>&quot;Americas&quot;</td><td>&quot;Northern America&quot;</td><td>&quot;United States&quot;</td><td>&quot;not available in demo dataset&quot;</td><td>&quot;not available in demo dataset&quot;</td><td>&quot;not available in demo dataset&quot;</td><td>1</td><td>58</td><td>1685</td><td>1</td><td>4990000</td><td>6990000</td></tr><tr><td>&quot;20170801&quot;</td><td>1501608078</td><td>8</td><td>1501608078</td><td>null</td><td>null</td><td>&quot;/&quot;</td><td>&quot;(direct)&quot;</td><td>&quot;Chrome&quot;</td><td>&quot;Macintosh&quot;</td><td>false</td><td>&quot;desktop&quot;</td><td>&quot;Americas&quot;</td><td>&quot;Northern America&quot;</td><td>&quot;United States&quot;</td><td>&quot;California&quot;</td><td>&quot;San Francisco-Oakland-San Jose…</td><td>&quot;San Francisco&quot;</td><td>1</td><td>55</td><td>1572</td><td>1</td><td>2933610000</td><td>2935610000</td></tr><tr><td>&quot;20170801&quot;</td><td>1501627131</td><td>16</td><td>1501627131</td><td>null</td><td>null</td><td>null</td><td>&quot;(direct)&quot;</td><td>&quot;Chrome&quot;</td><td>&quot;Windows&quot;</td><td>false</td><td>&quot;desktop&quot;</td><td>&quot;Americas&quot;</td><td>&quot;Northern America&quot;</td><td>&quot;United States&quot;</td><td>&quot;New York&quot;</td><td>&quot;New York NY&quot;</td><td>&quot;New York&quot;</td><td>1</td><td>112</td><td>4444</td><td>1</td><td>400210000</td><td>406210000</td></tr><tr><td>&quot;20170801&quot;</td><td>1501623575</td><td>2</td><td>1501623575</td><td>null</td><td>null</td><td>&quot;/&quot;</td><td>&quot;(direct)&quot;</td><td>&quot;Chrome&quot;</td><td>&quot;Macintosh&quot;</td><td>false</td><td>&quot;desktop&quot;</td><td>&quot;Americas&quot;</td><td>&quot;Northern America&quot;</td><td>&quot;United States&quot;</td><td>&quot;California&quot;</td><td>&quot;San Francisco-Oakland-San Jose…</td><td>&quot;Sunnyvale&quot;</td><td>1</td><td>106</td><td>3316</td><td>2</td><td>27180000</td><td>131960000</td></tr></tbody></table></div>"
      ],
      "text/plain": [
       "shape: (43, 24)\n",
       "┌──────────┬────────────┬─────────────┬────────────────┬───┬────────────┬──────────────┬────────────────────┬─────────────────────────┐\n",
       "│ date     ┆ visitId    ┆ visitNumber ┆ visitStartTime ┆ … ┆ timeOnSite ┆ transactions ┆ transactionRevenue ┆ totalTransactionRevenue │\n",
       "│ ---      ┆ ---        ┆ ---         ┆ ---            ┆   ┆ ---        ┆ ---          ┆ ---                ┆ ---                     │\n",
       "│ str      ┆ i64        ┆ i64         ┆ i64            ┆   ┆ i64        ┆ i64          ┆ i64                ┆ i64                     │\n",
       "╞══════════╪════════════╪═════════════╪════════════════╪═══╪════════════╪══════════════╪════════════════════╪═════════════════════════╡\n",
       "│ 20170801 ┆ 1501621191 ┆ 4           ┆ 1501621191     ┆ … ┆ 56         ┆ 1            ┆ 35290000           ┆ 40290000                │\n",
       "│ 20170801 ┆ 1501612542 ┆ 6           ┆ 1501612542     ┆ … ┆ 212        ┆ 1            ┆ 27430000           ┆ 30430000                │\n",
       "│ 20170801 ┆ 1501599317 ┆ 1           ┆ 1501599317     ┆ … ┆ 559        ┆ 1            ┆ 1990000            ┆ 2990000                 │\n",
       "│ 20170801 ┆ 1501620679 ┆ 3           ┆ 1501620679     ┆ … ┆ 237        ┆ 1            ┆ 13290000           ┆ 22290000                │\n",
       "│ 20170801 ┆ 1501595478 ┆ 3           ┆ 1501595478     ┆ … ┆ 1474       ┆ 1            ┆ 11960000           ┆ 17960000                │\n",
       "│ …        ┆ …          ┆ …           ┆ …              ┆ … ┆ …          ┆ …            ┆ …                  ┆ …                       │\n",
       "│ 20170801 ┆ 1501628356 ┆ 8           ┆ 1501628356     ┆ … ┆ 1827       ┆ 2            ┆ 126680000          ┆ 400960000               │\n",
       "│ 20170801 ┆ 1501647149 ┆ 1           ┆ 1501647149     ┆ … ┆ 1685       ┆ 1            ┆ 4990000            ┆ 6990000                 │\n",
       "│ 20170801 ┆ 1501608078 ┆ 8           ┆ 1501608078     ┆ … ┆ 1572       ┆ 1            ┆ 2933610000         ┆ 2935610000              │\n",
       "│ 20170801 ┆ 1501627131 ┆ 16          ┆ 1501627131     ┆ … ┆ 4444       ┆ 1            ┆ 400210000          ┆ 406210000               │\n",
       "│ 20170801 ┆ 1501623575 ┆ 2           ┆ 1501623575     ┆ … ┆ 3316       ┆ 2            ┆ 27180000           ┆ 131960000               │\n",
       "└──────────┴────────────┴─────────────┴────────────────┴───┴────────────┴──────────────┴────────────────────┴─────────────────────────┘"
      ]
     },
     "execution_count": 75,
     "metadata": {},
     "output_type": "execute_result"
    }
   ],
   "source": [
    "df.filter(pl.col('transactionRevenue') > 0)"
   ]
  },
  {
   "cell_type": "code",
   "execution_count": 76,
   "metadata": {},
   "outputs": [
    {
     "data": {
      "text/html": [
       "<div><style>\n",
       ".dataframe > thead > tr,\n",
       ".dataframe > tbody > tr {\n",
       "  text-align: right;\n",
       "  white-space: pre-wrap;\n",
       "}\n",
       "</style>\n",
       "<small>shape: (1, 24)</small><table border=\"1\" class=\"dataframe\"><thead><tr><th>date</th><th>visitId</th><th>visitNumber</th><th>visitStartTime</th><th>visitorId</th><th>userId</th><th>referralPath</th><th>source</th><th>browser</th><th>operatingSystem</th><th>isMobile</th><th>deviceCategory</th><th>continent</th><th>subContinent</th><th>country</th><th>region</th><th>metro</th><th>city</th><th>visits</th><th>pageviews</th><th>timeOnSite</th><th>transactions</th><th>transactionRevenue</th><th>totalTransactionRevenue</th></tr><tr><td>u32</td><td>u32</td><td>u32</td><td>u32</td><td>u32</td><td>u32</td><td>u32</td><td>u32</td><td>u32</td><td>u32</td><td>u32</td><td>u32</td><td>u32</td><td>u32</td><td>u32</td><td>u32</td><td>u32</td><td>u32</td><td>u32</td><td>u32</td><td>u32</td><td>u32</td><td>u32</td><td>u32</td></tr></thead><tbody><tr><td>0</td><td>0</td><td>0</td><td>0</td><td>2556</td><td>2556</td><td>1907</td><td>0</td><td>0</td><td>0</td><td>0</td><td>0</td><td>0</td><td>0</td><td>0</td><td>0</td><td>0</td><td>0</td><td>0</td><td>0</td><td>1246</td><td>2513</td><td>2513</td><td>2513</td></tr></tbody></table></div>"
      ],
      "text/plain": [
       "shape: (1, 24)\n",
       "┌──────┬─────────┬─────────────┬────────────────┬───┬────────────┬──────────────┬────────────────────┬─────────────────────────┐\n",
       "│ date ┆ visitId ┆ visitNumber ┆ visitStartTime ┆ … ┆ timeOnSite ┆ transactions ┆ transactionRevenue ┆ totalTransactionRevenue │\n",
       "│ ---  ┆ ---     ┆ ---         ┆ ---            ┆   ┆ ---        ┆ ---          ┆ ---                ┆ ---                     │\n",
       "│ u32  ┆ u32     ┆ u32         ┆ u32            ┆   ┆ u32        ┆ u32          ┆ u32                ┆ u32                     │\n",
       "╞══════╪═════════╪═════════════╪════════════════╪═══╪════════════╪══════════════╪════════════════════╪═════════════════════════╡\n",
       "│ 0    ┆ 0       ┆ 0           ┆ 0              ┆ … ┆ 1246       ┆ 2513         ┆ 2513               ┆ 2513                    │\n",
       "└──────┴─────────┴─────────────┴────────────────┴───┴────────────┴──────────────┴────────────────────┴─────────────────────────┘"
      ]
     },
     "execution_count": 76,
     "metadata": {},
     "output_type": "execute_result"
    }
   ],
   "source": [
    "df.select(pl.all().is_null().sum())"
   ]
  },
  {
   "cell_type": "code",
   "execution_count": 77,
   "metadata": {},
   "outputs": [
    {
     "data": {
      "text/html": [
       "<div><style>\n",
       ".dataframe > thead > tr,\n",
       ".dataframe > tbody > tr {\n",
       "  text-align: right;\n",
       "  white-space: pre-wrap;\n",
       "}\n",
       "</style>\n",
       "<small>shape: (5, 24)</small><table border=\"1\" class=\"dataframe\"><thead><tr><th>date</th><th>visitId</th><th>visitNumber</th><th>visitStartTime</th><th>visitorId</th><th>userId</th><th>referralPath</th><th>source</th><th>browser</th><th>operatingSystem</th><th>isMobile</th><th>deviceCategory</th><th>continent</th><th>subContinent</th><th>country</th><th>region</th><th>metro</th><th>city</th><th>visits</th><th>pageviews</th><th>timeOnSite</th><th>transactions</th><th>transactionRevenue</th><th>totalTransactionRevenue</th></tr><tr><td>str</td><td>i64</td><td>i64</td><td>i64</td><td>i64</td><td>str</td><td>str</td><td>str</td><td>str</td><td>str</td><td>bool</td><td>str</td><td>str</td><td>str</td><td>str</td><td>str</td><td>str</td><td>str</td><td>i64</td><td>i64</td><td>i64</td><td>i64</td><td>i64</td><td>i64</td></tr></thead><tbody><tr><td>&quot;20170801&quot;</td><td>1501591568</td><td>1</td><td>1501591568</td><td>null</td><td>null</td><td>null</td><td>&quot;(direct)&quot;</td><td>&quot;Chrome&quot;</td><td>&quot;Windows&quot;</td><td>false</td><td>&quot;desktop&quot;</td><td>&quot;Europe&quot;</td><td>&quot;Southern Europe&quot;</td><td>&quot;Greece&quot;</td><td>&quot;not available in demo dataset&quot;</td><td>&quot;not available in demo dataset&quot;</td><td>&quot;not available in demo dataset&quot;</td><td>1</td><td>1</td><td>null</td><td>null</td><td>null</td><td>null</td></tr><tr><td>&quot;20170801&quot;</td><td>1501589647</td><td>2</td><td>1501589647</td><td>null</td><td>null</td><td>&quot;/analytics/web/&quot;</td><td>&quot;analytics.google.com&quot;</td><td>&quot;Chrome&quot;</td><td>&quot;Windows&quot;</td><td>false</td><td>&quot;desktop&quot;</td><td>&quot;Asia&quot;</td><td>&quot;Southern Asia&quot;</td><td>&quot;India&quot;</td><td>&quot;Maharashtra&quot;</td><td>&quot;(not set)&quot;</td><td>&quot;Mumbai&quot;</td><td>1</td><td>1</td><td>null</td><td>null</td><td>null</td><td>null</td></tr><tr><td>&quot;20170801&quot;</td><td>1501616621</td><td>1</td><td>1501616621</td><td>null</td><td>null</td><td>&quot;/analytics/web/&quot;</td><td>&quot;analytics.google.com&quot;</td><td>&quot;Chrome&quot;</td><td>&quot;Windows&quot;</td><td>false</td><td>&quot;desktop&quot;</td><td>&quot;Europe&quot;</td><td>&quot;Northern Europe&quot;</td><td>&quot;United Kingdom&quot;</td><td>&quot;not available in demo dataset&quot;</td><td>&quot;not available in demo dataset&quot;</td><td>&quot;not available in demo dataset&quot;</td><td>1</td><td>1</td><td>null</td><td>null</td><td>null</td><td>null</td></tr><tr><td>&quot;20170801&quot;</td><td>1501601200</td><td>1</td><td>1501601200</td><td>null</td><td>null</td><td>&quot;/analytics/web/&quot;</td><td>&quot;analytics.google.com&quot;</td><td>&quot;Firefox&quot;</td><td>&quot;Windows&quot;</td><td>false</td><td>&quot;desktop&quot;</td><td>&quot;Americas&quot;</td><td>&quot;Northern America&quot;</td><td>&quot;United States&quot;</td><td>&quot;Texas&quot;</td><td>&quot;Dallas-Ft. Worth TX&quot;</td><td>&quot;Dallas&quot;</td><td>1</td><td>1</td><td>null</td><td>null</td><td>null</td><td>null</td></tr><tr><td>&quot;20170801&quot;</td><td>1501615525</td><td>1</td><td>1501615525</td><td>null</td><td>null</td><td>&quot;/analytics/web/&quot;</td><td>&quot;adwords.google.com&quot;</td><td>&quot;Chrome&quot;</td><td>&quot;Windows&quot;</td><td>false</td><td>&quot;desktop&quot;</td><td>&quot;Americas&quot;</td><td>&quot;Northern America&quot;</td><td>&quot;United States&quot;</td><td>&quot;not available in demo dataset&quot;</td><td>&quot;not available in demo dataset&quot;</td><td>&quot;not available in demo dataset&quot;</td><td>1</td><td>1</td><td>null</td><td>null</td><td>null</td><td>null</td></tr></tbody></table></div>"
      ],
      "text/plain": [
       "shape: (5, 24)\n",
       "┌──────────┬────────────┬─────────────┬────────────────┬───┬────────────┬──────────────┬────────────────────┬─────────────────────────┐\n",
       "│ date     ┆ visitId    ┆ visitNumber ┆ visitStartTime ┆ … ┆ timeOnSite ┆ transactions ┆ transactionRevenue ┆ totalTransactionRevenue │\n",
       "│ ---      ┆ ---        ┆ ---         ┆ ---            ┆   ┆ ---        ┆ ---          ┆ ---                ┆ ---                     │\n",
       "│ str      ┆ i64        ┆ i64         ┆ i64            ┆   ┆ i64        ┆ i64          ┆ i64                ┆ i64                     │\n",
       "╞══════════╪════════════╪═════════════╪════════════════╪═══╪════════════╪══════════════╪════════════════════╪═════════════════════════╡\n",
       "│ 20170801 ┆ 1501591568 ┆ 1           ┆ 1501591568     ┆ … ┆ null       ┆ null         ┆ null               ┆ null                    │\n",
       "│ 20170801 ┆ 1501589647 ┆ 2           ┆ 1501589647     ┆ … ┆ null       ┆ null         ┆ null               ┆ null                    │\n",
       "│ 20170801 ┆ 1501616621 ┆ 1           ┆ 1501616621     ┆ … ┆ null       ┆ null         ┆ null               ┆ null                    │\n",
       "│ 20170801 ┆ 1501601200 ┆ 1           ┆ 1501601200     ┆ … ┆ null       ┆ null         ┆ null               ┆ null                    │\n",
       "│ 20170801 ┆ 1501615525 ┆ 1           ┆ 1501615525     ┆ … ┆ null       ┆ null         ┆ null               ┆ null                    │\n",
       "└──────────┴────────────┴─────────────┴────────────────┴───┴────────────┴──────────────┴────────────────────┴─────────────────────────┘"
      ]
     },
     "execution_count": 77,
     "metadata": {},
     "output_type": "execute_result"
    }
   ],
   "source": [
    "df.head()"
   ]
  },
  {
   "cell_type": "code",
   "execution_count": null,
   "metadata": {},
   "outputs": [
    {
     "data": {
      "text/html": [
       "<div><style>\n",
       ".dataframe > thead > tr,\n",
       ".dataframe > tbody > tr {\n",
       "  text-align: right;\n",
       "  white-space: pre-wrap;\n",
       "}\n",
       "</style>\n",
       "<small>shape: (5, 22)</small><table border=\"1\" class=\"dataframe\"><thead><tr><th>date</th><th>visitId</th><th>visitNumber</th><th>visitStartTime</th><th>referralPath</th><th>source</th><th>browser</th><th>operatingSystem</th><th>isMobile</th><th>deviceCategory</th><th>continent</th><th>subContinent</th><th>country</th><th>region</th><th>metro</th><th>city</th><th>visits</th><th>pageviews</th><th>timeOnSite</th><th>transactions</th><th>transactionRevenue</th><th>totalTransactionRevenue</th></tr><tr><td>str</td><td>i64</td><td>i64</td><td>i64</td><td>str</td><td>str</td><td>str</td><td>str</td><td>bool</td><td>str</td><td>str</td><td>str</td><td>str</td><td>str</td><td>str</td><td>str</td><td>i64</td><td>i64</td><td>i64</td><td>i64</td><td>i64</td><td>i64</td></tr></thead><tbody><tr><td>&quot;20170801&quot;</td><td>1501591568</td><td>1</td><td>1501591568</td><td>null</td><td>&quot;(direct)&quot;</td><td>&quot;Chrome&quot;</td><td>&quot;Windows&quot;</td><td>false</td><td>&quot;desktop&quot;</td><td>&quot;Europe&quot;</td><td>&quot;Southern Europe&quot;</td><td>&quot;Greece&quot;</td><td>&quot;not available in demo dataset&quot;</td><td>&quot;not available in demo dataset&quot;</td><td>&quot;not available in demo dataset&quot;</td><td>1</td><td>1</td><td>null</td><td>null</td><td>null</td><td>null</td></tr><tr><td>&quot;20170801&quot;</td><td>1501589647</td><td>2</td><td>1501589647</td><td>&quot;/analytics/web/&quot;</td><td>&quot;analytics.google.com&quot;</td><td>&quot;Chrome&quot;</td><td>&quot;Windows&quot;</td><td>false</td><td>&quot;desktop&quot;</td><td>&quot;Asia&quot;</td><td>&quot;Southern Asia&quot;</td><td>&quot;India&quot;</td><td>&quot;Maharashtra&quot;</td><td>&quot;(not set)&quot;</td><td>&quot;Mumbai&quot;</td><td>1</td><td>1</td><td>null</td><td>null</td><td>null</td><td>null</td></tr><tr><td>&quot;20170801&quot;</td><td>1501616621</td><td>1</td><td>1501616621</td><td>&quot;/analytics/web/&quot;</td><td>&quot;analytics.google.com&quot;</td><td>&quot;Chrome&quot;</td><td>&quot;Windows&quot;</td><td>false</td><td>&quot;desktop&quot;</td><td>&quot;Europe&quot;</td><td>&quot;Northern Europe&quot;</td><td>&quot;United Kingdom&quot;</td><td>&quot;not available in demo dataset&quot;</td><td>&quot;not available in demo dataset&quot;</td><td>&quot;not available in demo dataset&quot;</td><td>1</td><td>1</td><td>null</td><td>null</td><td>null</td><td>null</td></tr><tr><td>&quot;20170801&quot;</td><td>1501601200</td><td>1</td><td>1501601200</td><td>&quot;/analytics/web/&quot;</td><td>&quot;analytics.google.com&quot;</td><td>&quot;Firefox&quot;</td><td>&quot;Windows&quot;</td><td>false</td><td>&quot;desktop&quot;</td><td>&quot;Americas&quot;</td><td>&quot;Northern America&quot;</td><td>&quot;United States&quot;</td><td>&quot;Texas&quot;</td><td>&quot;Dallas-Ft. Worth TX&quot;</td><td>&quot;Dallas&quot;</td><td>1</td><td>1</td><td>null</td><td>null</td><td>null</td><td>null</td></tr><tr><td>&quot;20170801&quot;</td><td>1501615525</td><td>1</td><td>1501615525</td><td>&quot;/analytics/web/&quot;</td><td>&quot;adwords.google.com&quot;</td><td>&quot;Chrome&quot;</td><td>&quot;Windows&quot;</td><td>false</td><td>&quot;desktop&quot;</td><td>&quot;Americas&quot;</td><td>&quot;Northern America&quot;</td><td>&quot;United States&quot;</td><td>&quot;not available in demo dataset&quot;</td><td>&quot;not available in demo dataset&quot;</td><td>&quot;not available in demo dataset&quot;</td><td>1</td><td>1</td><td>null</td><td>null</td><td>null</td><td>null</td></tr></tbody></table></div>"
      ],
      "text/plain": [
       "shape: (5, 22)\n",
       "┌──────────┬────────────┬─────────────┬────────────────┬───┬────────────┬──────────────┬────────────────────┬─────────────────────────┐\n",
       "│ date     ┆ visitId    ┆ visitNumber ┆ visitStartTime ┆ … ┆ timeOnSite ┆ transactions ┆ transactionRevenue ┆ totalTransactionRevenue │\n",
       "│ ---      ┆ ---        ┆ ---         ┆ ---            ┆   ┆ ---        ┆ ---          ┆ ---                ┆ ---                     │\n",
       "│ str      ┆ i64        ┆ i64         ┆ i64            ┆   ┆ i64        ┆ i64          ┆ i64                ┆ i64                     │\n",
       "╞══════════╪════════════╪═════════════╪════════════════╪═══╪════════════╪══════════════╪════════════════════╪═════════════════════════╡\n",
       "│ 20170801 ┆ 1501591568 ┆ 1           ┆ 1501591568     ┆ … ┆ null       ┆ null         ┆ null               ┆ null                    │\n",
       "│ 20170801 ┆ 1501589647 ┆ 2           ┆ 1501589647     ┆ … ┆ null       ┆ null         ┆ null               ┆ null                    │\n",
       "│ 20170801 ┆ 1501616621 ┆ 1           ┆ 1501616621     ┆ … ┆ null       ┆ null         ┆ null               ┆ null                    │\n",
       "│ 20170801 ┆ 1501601200 ┆ 1           ┆ 1501601200     ┆ … ┆ null       ┆ null         ┆ null               ┆ null                    │\n",
       "│ 20170801 ┆ 1501615525 ┆ 1           ┆ 1501615525     ┆ … ┆ null       ┆ null         ┆ null               ┆ null                    │\n",
       "└──────────┴────────────┴─────────────┴────────────────┴───┴────────────┴──────────────┴────────────────────┴─────────────────────────┘"
      ]
     },
     "execution_count": 78,
     "metadata": {},
     "output_type": "execute_result"
    }
   ],
   "source": [
    "df_cleaned = df.drop(pl.col('visitorId','userId'))\n",
    "df_cleaned.head()"
   ]
  },
  {
   "cell_type": "code",
   "execution_count": null,
   "metadata": {},
   "outputs": [
    {
     "data": {
      "text/html": [
       "<div><style>\n",
       ".dataframe > thead > tr,\n",
       ".dataframe > tbody > tr {\n",
       "  text-align: right;\n",
       "  white-space: pre-wrap;\n",
       "}\n",
       "</style>\n",
       "<small>shape: (5, 22)</small><table border=\"1\" class=\"dataframe\"><thead><tr><th>date</th><th>visitId</th><th>visitNumber</th><th>visitStartTime</th><th>referralPath</th><th>source</th><th>browser</th><th>operatingSystem</th><th>isMobile</th><th>deviceCategory</th><th>continent</th><th>subContinent</th><th>country</th><th>region</th><th>metro</th><th>city</th><th>visits</th><th>pageviews</th><th>timeOnSite</th><th>transactions</th><th>transactionRevenue</th><th>totalTransactionRevenue</th></tr><tr><td>date</td><td>i64</td><td>i64</td><td>i64</td><td>str</td><td>str</td><td>str</td><td>str</td><td>bool</td><td>str</td><td>str</td><td>str</td><td>str</td><td>str</td><td>str</td><td>str</td><td>i64</td><td>i64</td><td>i64</td><td>i64</td><td>i64</td><td>i64</td></tr></thead><tbody><tr><td>2017-08-01</td><td>1501591568</td><td>1</td><td>1501591568</td><td>null</td><td>&quot;(direct)&quot;</td><td>&quot;Chrome&quot;</td><td>&quot;Windows&quot;</td><td>false</td><td>&quot;desktop&quot;</td><td>&quot;Europe&quot;</td><td>&quot;Southern Europe&quot;</td><td>&quot;Greece&quot;</td><td>&quot;not available in demo dataset&quot;</td><td>&quot;not available in demo dataset&quot;</td><td>&quot;not available in demo dataset&quot;</td><td>1</td><td>1</td><td>null</td><td>null</td><td>null</td><td>null</td></tr><tr><td>2017-08-01</td><td>1501589647</td><td>2</td><td>1501589647</td><td>&quot;/analytics/web/&quot;</td><td>&quot;analytics.google.com&quot;</td><td>&quot;Chrome&quot;</td><td>&quot;Windows&quot;</td><td>false</td><td>&quot;desktop&quot;</td><td>&quot;Asia&quot;</td><td>&quot;Southern Asia&quot;</td><td>&quot;India&quot;</td><td>&quot;Maharashtra&quot;</td><td>&quot;(not set)&quot;</td><td>&quot;Mumbai&quot;</td><td>1</td><td>1</td><td>null</td><td>null</td><td>null</td><td>null</td></tr><tr><td>2017-08-01</td><td>1501616621</td><td>1</td><td>1501616621</td><td>&quot;/analytics/web/&quot;</td><td>&quot;analytics.google.com&quot;</td><td>&quot;Chrome&quot;</td><td>&quot;Windows&quot;</td><td>false</td><td>&quot;desktop&quot;</td><td>&quot;Europe&quot;</td><td>&quot;Northern Europe&quot;</td><td>&quot;United Kingdom&quot;</td><td>&quot;not available in demo dataset&quot;</td><td>&quot;not available in demo dataset&quot;</td><td>&quot;not available in demo dataset&quot;</td><td>1</td><td>1</td><td>null</td><td>null</td><td>null</td><td>null</td></tr><tr><td>2017-08-01</td><td>1501601200</td><td>1</td><td>1501601200</td><td>&quot;/analytics/web/&quot;</td><td>&quot;analytics.google.com&quot;</td><td>&quot;Firefox&quot;</td><td>&quot;Windows&quot;</td><td>false</td><td>&quot;desktop&quot;</td><td>&quot;Americas&quot;</td><td>&quot;Northern America&quot;</td><td>&quot;United States&quot;</td><td>&quot;Texas&quot;</td><td>&quot;Dallas-Ft. Worth TX&quot;</td><td>&quot;Dallas&quot;</td><td>1</td><td>1</td><td>null</td><td>null</td><td>null</td><td>null</td></tr><tr><td>2017-08-01</td><td>1501615525</td><td>1</td><td>1501615525</td><td>&quot;/analytics/web/&quot;</td><td>&quot;adwords.google.com&quot;</td><td>&quot;Chrome&quot;</td><td>&quot;Windows&quot;</td><td>false</td><td>&quot;desktop&quot;</td><td>&quot;Americas&quot;</td><td>&quot;Northern America&quot;</td><td>&quot;United States&quot;</td><td>&quot;not available in demo dataset&quot;</td><td>&quot;not available in demo dataset&quot;</td><td>&quot;not available in demo dataset&quot;</td><td>1</td><td>1</td><td>null</td><td>null</td><td>null</td><td>null</td></tr></tbody></table></div>"
      ],
      "text/plain": [
       "shape: (5, 22)\n",
       "┌────────────┬────────────┬─────────────┬────────────────┬───┬────────────┬──────────────┬────────────────────┬─────────────────────────┐\n",
       "│ date       ┆ visitId    ┆ visitNumber ┆ visitStartTime ┆ … ┆ timeOnSite ┆ transactions ┆ transactionRevenue ┆ totalTransactionRevenue │\n",
       "│ ---        ┆ ---        ┆ ---         ┆ ---            ┆   ┆ ---        ┆ ---          ┆ ---                ┆ ---                     │\n",
       "│ date       ┆ i64        ┆ i64         ┆ i64            ┆   ┆ i64        ┆ i64          ┆ i64                ┆ i64                     │\n",
       "╞════════════╪════════════╪═════════════╪════════════════╪═══╪════════════╪══════════════╪════════════════════╪═════════════════════════╡\n",
       "│ 2017-08-01 ┆ 1501591568 ┆ 1           ┆ 1501591568     ┆ … ┆ null       ┆ null         ┆ null               ┆ null                    │\n",
       "│ 2017-08-01 ┆ 1501589647 ┆ 2           ┆ 1501589647     ┆ … ┆ null       ┆ null         ┆ null               ┆ null                    │\n",
       "│ 2017-08-01 ┆ 1501616621 ┆ 1           ┆ 1501616621     ┆ … ┆ null       ┆ null         ┆ null               ┆ null                    │\n",
       "│ 2017-08-01 ┆ 1501601200 ┆ 1           ┆ 1501601200     ┆ … ┆ null       ┆ null         ┆ null               ┆ null                    │\n",
       "│ 2017-08-01 ┆ 1501615525 ┆ 1           ┆ 1501615525     ┆ … ┆ null       ┆ null         ┆ null               ┆ null                    │\n",
       "└────────────┴────────────┴─────────────┴────────────────┴───┴────────────┴──────────────┴────────────────────┴─────────────────────────┘"
      ]
     },
     "execution_count": 79,
     "metadata": {},
     "output_type": "execute_result"
    }
   ],
   "source": [
    "df_cleaned = df.with_columns(pl.col('date').str.strptime(pl.Date, format=\"%Y%m%d\"))\n",
    "df_cleaned.head()"
   ]
  },
  {
   "cell_type": "markdown",
   "metadata": {},
   "source": [
    "### Data Pre-processing Pipeline"
   ]
  },
  {
   "cell_type": "code",
   "execution_count": null,
   "metadata": {},
   "outputs": [],
   "source": [
    "def preprocessing_pipeline(df: pl.DataFrame) -> pl.DataFrame:\n",
    "    \"\"\"\n",
    "    Args:\n",
    "        df : pl.DataFrame\n",
    "\n",
    "    Returns:\n",
    "        pl.DataFrames: pre-processed dataframe\n",
    "    \"\"\"\n",
    "\n",
    "    df = df.drop(pl.col('visitorId','userId'))\n",
    "    df = df.with_columns(pl.col('date').str.strptime(pl.Date, format=\"%Y%m%d\"))\n",
    "    return df "
   ]
  },
  {
   "cell_type": "code",
   "execution_count": 81,
   "metadata": {},
   "outputs": [
    {
     "ename": "ColumnNotFoundError",
     "evalue": "\"userId\" not found\n\nResolved plan until failure:\n\n\t---> FAILED HERE RESOLVING THIS_NODE <---\nDF [\"date\", \"visitId\", \"visitNumber\", \"visitStartTime\"]; PROJECT */22 COLUMNS; SELECTION: None",
     "output_type": "error",
     "traceback": [
      "\u001b[1;31m---------------------------------------------------------------------------\u001b[0m",
      "\u001b[1;31mColumnNotFoundError\u001b[0m                       Traceback (most recent call last)",
      "Cell \u001b[1;32mIn[81], line 1\u001b[0m\n\u001b[1;32m----> 1\u001b[0m \u001b[43mpreprocessing_pipeline\u001b[49m\u001b[43m(\u001b[49m\u001b[43mdf\u001b[49m\u001b[43m)\u001b[49m\n",
      "Cell \u001b[1;32mIn[80], line 10\u001b[0m, in \u001b[0;36mpreprocessing_pipeline\u001b[1;34m(df)\u001b[0m\n\u001b[0;32m      1\u001b[0m \u001b[38;5;28;01mdef\u001b[39;00m \u001b[38;5;21mpreprocessing_pipeline\u001b[39m(df: pl\u001b[38;5;241m.\u001b[39mDataFrame) \u001b[38;5;241m-\u001b[39m\u001b[38;5;241m>\u001b[39m pl\u001b[38;5;241m.\u001b[39mDataFrame:\n\u001b[0;32m      2\u001b[0m \u001b[38;5;250m    \u001b[39m\u001b[38;5;124;03m\"\"\"\u001b[39;00m\n\u001b[0;32m      3\u001b[0m \u001b[38;5;124;03m    Args:\u001b[39;00m\n\u001b[0;32m      4\u001b[0m \u001b[38;5;124;03m        df : pl.DataFrame\u001b[39;00m\n\u001b[1;32m   (...)\u001b[0m\n\u001b[0;32m      7\u001b[0m \u001b[38;5;124;03m        pl.DataFrames: pre-processed dataframe\u001b[39;00m\n\u001b[0;32m      8\u001b[0m \u001b[38;5;124;03m    \"\"\"\u001b[39;00m\n\u001b[1;32m---> 10\u001b[0m     df \u001b[38;5;241m=\u001b[39m \u001b[43mdf\u001b[49m\u001b[38;5;241;43m.\u001b[39;49m\u001b[43mdrop\u001b[49m\u001b[43m(\u001b[49m\u001b[43mpl\u001b[49m\u001b[38;5;241;43m.\u001b[39;49m\u001b[43mcol\u001b[49m\u001b[43m(\u001b[49m\u001b[38;5;124;43m'\u001b[39;49m\u001b[38;5;124;43mvisitorId\u001b[39;49m\u001b[38;5;124;43m'\u001b[39;49m\u001b[43m,\u001b[49m\u001b[38;5;124;43m'\u001b[39;49m\u001b[38;5;124;43muserId\u001b[39;49m\u001b[38;5;124;43m'\u001b[39;49m\u001b[43m)\u001b[49m\u001b[43m)\u001b[49m\n\u001b[0;32m     11\u001b[0m     df \u001b[38;5;241m=\u001b[39m df\u001b[38;5;241m.\u001b[39mwith_columns(pl\u001b[38;5;241m.\u001b[39mcol(\u001b[38;5;124m'\u001b[39m\u001b[38;5;124mdate\u001b[39m\u001b[38;5;124m'\u001b[39m)\u001b[38;5;241m.\u001b[39mstr\u001b[38;5;241m.\u001b[39mstrptime(pl\u001b[38;5;241m.\u001b[39mDate, \u001b[38;5;28mformat\u001b[39m\u001b[38;5;241m=\u001b[39m\u001b[38;5;124m\"\u001b[39m\u001b[38;5;124m%\u001b[39m\u001b[38;5;124mY\u001b[39m\u001b[38;5;124m%\u001b[39m\u001b[38;5;124mm\u001b[39m\u001b[38;5;132;01m%d\u001b[39;00m\u001b[38;5;124m\"\u001b[39m))\n\u001b[0;32m     12\u001b[0m     \u001b[38;5;28;01mreturn\u001b[39;00m df\n",
      "File \u001b[1;32mc:\\Users\\andre\\AppData\\Local\\Programs\\Python\\Python312\\Lib\\site-packages\\polars\\dataframe\\frame.py:7571\u001b[0m, in \u001b[0;36mDataFrame.drop\u001b[1;34m(self, strict, *columns)\u001b[0m\n\u001b[0;32m   7488\u001b[0m \u001b[38;5;28;01mdef\u001b[39;00m \u001b[38;5;21mdrop\u001b[39m(\n\u001b[0;32m   7489\u001b[0m     \u001b[38;5;28mself\u001b[39m,\n\u001b[0;32m   7490\u001b[0m     \u001b[38;5;241m*\u001b[39mcolumns: ColumnNameOrSelector \u001b[38;5;241m|\u001b[39m Iterable[ColumnNameOrSelector],\n\u001b[0;32m   7491\u001b[0m     strict: \u001b[38;5;28mbool\u001b[39m \u001b[38;5;241m=\u001b[39m \u001b[38;5;28;01mTrue\u001b[39;00m,\n\u001b[0;32m   7492\u001b[0m ) \u001b[38;5;241m-\u001b[39m\u001b[38;5;241m>\u001b[39m DataFrame:\n\u001b[0;32m   7493\u001b[0m \u001b[38;5;250m    \u001b[39m\u001b[38;5;124;03m\"\"\"\u001b[39;00m\n\u001b[0;32m   7494\u001b[0m \u001b[38;5;124;03m    Remove columns from the dataframe.\u001b[39;00m\n\u001b[0;32m   7495\u001b[0m \n\u001b[1;32m   (...)\u001b[0m\n\u001b[0;32m   7569\u001b[0m \u001b[38;5;124;03m    └─────┘\u001b[39;00m\n\u001b[0;32m   7570\u001b[0m \u001b[38;5;124;03m    \"\"\"\u001b[39;00m\n\u001b[1;32m-> 7571\u001b[0m     \u001b[38;5;28;01mreturn\u001b[39;00m \u001b[38;5;28;43mself\u001b[39;49m\u001b[38;5;241;43m.\u001b[39;49m\u001b[43mlazy\u001b[49m\u001b[43m(\u001b[49m\u001b[43m)\u001b[49m\u001b[38;5;241;43m.\u001b[39;49m\u001b[43mdrop\u001b[49m\u001b[43m(\u001b[49m\u001b[38;5;241;43m*\u001b[39;49m\u001b[43mcolumns\u001b[49m\u001b[43m,\u001b[49m\u001b[43m \u001b[49m\u001b[43mstrict\u001b[49m\u001b[38;5;241;43m=\u001b[39;49m\u001b[43mstrict\u001b[49m\u001b[43m)\u001b[49m\u001b[38;5;241;43m.\u001b[39;49m\u001b[43mcollect\u001b[49m\u001b[43m(\u001b[49m\u001b[43m_eager\u001b[49m\u001b[38;5;241;43m=\u001b[39;49m\u001b[38;5;28;43;01mTrue\u001b[39;49;00m\u001b[43m)\u001b[49m\n",
      "File \u001b[1;32mc:\\Users\\andre\\AppData\\Local\\Programs\\Python\\Python312\\Lib\\site-packages\\polars\\lazyframe\\frame.py:2050\u001b[0m, in \u001b[0;36mLazyFrame.collect\u001b[1;34m(self, type_coercion, predicate_pushdown, projection_pushdown, simplify_expression, slice_pushdown, comm_subplan_elim, comm_subexpr_elim, cluster_with_columns, collapse_joins, no_optimization, streaming, engine, background, _eager, **_kwargs)\u001b[0m\n\u001b[0;32m   2048\u001b[0m \u001b[38;5;66;03m# Only for testing purposes\u001b[39;00m\n\u001b[0;32m   2049\u001b[0m callback \u001b[38;5;241m=\u001b[39m _kwargs\u001b[38;5;241m.\u001b[39mget(\u001b[38;5;124m\"\u001b[39m\u001b[38;5;124mpost_opt_callback\u001b[39m\u001b[38;5;124m\"\u001b[39m, callback)\n\u001b[1;32m-> 2050\u001b[0m \u001b[38;5;28;01mreturn\u001b[39;00m wrap_df(\u001b[43mldf\u001b[49m\u001b[38;5;241;43m.\u001b[39;49m\u001b[43mcollect\u001b[49m\u001b[43m(\u001b[49m\u001b[43mcallback\u001b[49m\u001b[43m)\u001b[49m)\n",
      "\u001b[1;31mColumnNotFoundError\u001b[0m: \"userId\" not found\n\nResolved plan until failure:\n\n\t---> FAILED HERE RESOLVING THIS_NODE <---\nDF [\"date\", \"visitId\", \"visitNumber\", \"visitStartTime\"]; PROJECT */22 COLUMNS; SELECTION: None"
     ]
    }
   ],
   "source": [
    "preprocessing_pipeline(df)"
   ]
  },
  {
   "cell_type": "markdown",
   "metadata": {},
   "source": [
    "# Conclusions \n",
    "- "
   ]
  },
  {
   "cell_type": "code",
   "execution_count": null,
   "metadata": {},
   "outputs": [],
   "source": []
  }
 ],
 "metadata": {
  "kernelspec": {
   "display_name": "Python 3",
   "language": "python",
   "name": "python3"
  },
  "language_info": {
   "codemirror_mode": {
    "name": "ipython",
    "version": 3
   },
   "file_extension": ".py",
   "mimetype": "text/x-python",
   "name": "python",
   "nbconvert_exporter": "python",
   "pygments_lexer": "ipython3",
   "version": "3.12.1"
  }
 },
 "nbformat": 4,
 "nbformat_minor": 2
}
