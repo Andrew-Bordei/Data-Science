{
 "cells": [
  {
   "cell_type": "markdown",
   "metadata": {},
   "source": [
    "# Dataset Cleaning "
   ]
  },
  {
   "cell_type": "markdown",
   "metadata": {},
   "source": [
    "The main objectives of this notebook are: \n",
    "- Import and merge together multiple datasets into a features df \n",
    "- Get familiar with the features df \n",
    "- Determine if there are data quality issues \n",
    "- Resolve any data quality issues "
   ]
  },
  {
   "cell_type": "code",
   "execution_count": 1,
   "metadata": {},
   "outputs": [],
   "source": [
    "import polars as pl \n",
    "import polars.selectors as cs "
   ]
  },
  {
   "cell_type": "code",
   "execution_count": 2,
   "metadata": {},
   "outputs": [
    {
     "data": {
      "text/plain": [
       "polars.config.Config"
      ]
     },
     "execution_count": 2,
     "metadata": {},
     "output_type": "execute_result"
    }
   ],
   "source": [
    "pl.Config.set_tbl_width_chars(200)"
   ]
  },
  {
   "cell_type": "code",
   "execution_count": 3,
   "metadata": {},
   "outputs": [],
   "source": [
    "df = pl.read_csv(\"../data/2019-Nov.csv\")"
   ]
  },
  {
   "cell_type": "code",
   "execution_count": 4,
   "metadata": {},
   "outputs": [
    {
     "data": {
      "text/html": [
       "<div><style>\n",
       ".dataframe > thead > tr,\n",
       ".dataframe > tbody > tr {\n",
       "  text-align: right;\n",
       "  white-space: pre-wrap;\n",
       "}\n",
       "</style>\n",
       "<small>shape: (5, 9)</small><table border=\"1\" class=\"dataframe\"><thead><tr><th>event_time</th><th>event_type</th><th>product_id</th><th>category_id</th><th>category_code</th><th>brand</th><th>price</th><th>user_id</th><th>user_session</th></tr><tr><td>str</td><td>str</td><td>i64</td><td>i64</td><td>str</td><td>str</td><td>f64</td><td>i64</td><td>str</td></tr></thead><tbody><tr><td>&quot;2019-11-01 00:00:00 UTC&quot;</td><td>&quot;view&quot;</td><td>1003461</td><td>2053013555631882655</td><td>&quot;electronics.smartphone&quot;</td><td>&quot;xiaomi&quot;</td><td>489.07</td><td>520088904</td><td>&quot;4d3b30da-a5e4-49df-b1a8-ba5943…</td></tr><tr><td>&quot;2019-11-01 00:00:00 UTC&quot;</td><td>&quot;view&quot;</td><td>5000088</td><td>2053013566100866035</td><td>&quot;appliances.sewing_machine&quot;</td><td>&quot;janome&quot;</td><td>293.65</td><td>530496790</td><td>&quot;8e5f4f83-366c-4f70-860e-ca7417…</td></tr><tr><td>&quot;2019-11-01 00:00:01 UTC&quot;</td><td>&quot;view&quot;</td><td>17302664</td><td>2053013553853497655</td><td>null</td><td>&quot;creed&quot;</td><td>28.31</td><td>561587266</td><td>&quot;755422e7-9040-477b-9bd2-6a6e8f…</td></tr><tr><td>&quot;2019-11-01 00:00:01 UTC&quot;</td><td>&quot;view&quot;</td><td>3601530</td><td>2053013563810775923</td><td>&quot;appliances.kitchen.washer&quot;</td><td>&quot;lg&quot;</td><td>712.87</td><td>518085591</td><td>&quot;3bfb58cd-7892-48cc-8020-2f17e6…</td></tr><tr><td>&quot;2019-11-01 00:00:01 UTC&quot;</td><td>&quot;view&quot;</td><td>1004775</td><td>2053013555631882655</td><td>&quot;electronics.smartphone&quot;</td><td>&quot;xiaomi&quot;</td><td>183.27</td><td>558856683</td><td>&quot;313628f1-68b8-460d-84f6-cec7a8…</td></tr></tbody></table></div>"
      ],
      "text/plain": [
       "shape: (5, 9)\n",
       "┌─────────────────────────┬────────────┬────────────┬─────────────────────┬───┬────────┬────────┬───────────┬─────────────────────────────────┐\n",
       "│ event_time              ┆ event_type ┆ product_id ┆ category_id         ┆ … ┆ brand  ┆ price  ┆ user_id   ┆ user_session                    │\n",
       "│ ---                     ┆ ---        ┆ ---        ┆ ---                 ┆   ┆ ---    ┆ ---    ┆ ---       ┆ ---                             │\n",
       "│ str                     ┆ str        ┆ i64        ┆ i64                 ┆   ┆ str    ┆ f64    ┆ i64       ┆ str                             │\n",
       "╞═════════════════════════╪════════════╪════════════╪═════════════════════╪═══╪════════╪════════╪═══════════╪═════════════════════════════════╡\n",
       "│ 2019-11-01 00:00:00 UTC ┆ view       ┆ 1003461    ┆ 2053013555631882655 ┆ … ┆ xiaomi ┆ 489.07 ┆ 520088904 ┆ 4d3b30da-a5e4-49df-b1a8-ba5943… │\n",
       "│ 2019-11-01 00:00:00 UTC ┆ view       ┆ 5000088    ┆ 2053013566100866035 ┆ … ┆ janome ┆ 293.65 ┆ 530496790 ┆ 8e5f4f83-366c-4f70-860e-ca7417… │\n",
       "│ 2019-11-01 00:00:01 UTC ┆ view       ┆ 17302664   ┆ 2053013553853497655 ┆ … ┆ creed  ┆ 28.31  ┆ 561587266 ┆ 755422e7-9040-477b-9bd2-6a6e8f… │\n",
       "│ 2019-11-01 00:00:01 UTC ┆ view       ┆ 3601530    ┆ 2053013563810775923 ┆ … ┆ lg     ┆ 712.87 ┆ 518085591 ┆ 3bfb58cd-7892-48cc-8020-2f17e6… │\n",
       "│ 2019-11-01 00:00:01 UTC ┆ view       ┆ 1004775    ┆ 2053013555631882655 ┆ … ┆ xiaomi ┆ 183.27 ┆ 558856683 ┆ 313628f1-68b8-460d-84f6-cec7a8… │\n",
       "└─────────────────────────┴────────────┴────────────┴─────────────────────┴───┴────────┴────────┴───────────┴─────────────────────────────────┘"
      ]
     },
     "execution_count": 4,
     "metadata": {},
     "output_type": "execute_result"
    }
   ],
   "source": [
    "df.head()"
   ]
  },
  {
   "cell_type": "code",
   "execution_count": 5,
   "metadata": {},
   "outputs": [
    {
     "data": {
      "text/plain": [
       "(67501979, 9)"
      ]
     },
     "execution_count": 5,
     "metadata": {},
     "output_type": "execute_result"
    }
   ],
   "source": [
    "df.shape"
   ]
  },
  {
   "cell_type": "code",
   "execution_count": 6,
   "metadata": {},
   "outputs": [
    {
     "data": {
      "text/plain": [
       "<bound method DataFrame.sample of shape: (67_501_979, 9)\n",
       "┌─────────────────────────┬────────────┬────────────┬─────────────────────┬───┬─────────┬─────────┬───────────┬─────────────────────────────────┐\n",
       "│ event_time              ┆ event_type ┆ product_id ┆ category_id         ┆ … ┆ brand   ┆ price   ┆ user_id   ┆ user_session                    │\n",
       "│ ---                     ┆ ---        ┆ ---        ┆ ---                 ┆   ┆ ---     ┆ ---     ┆ ---       ┆ ---                             │\n",
       "│ str                     ┆ str        ┆ i64        ┆ i64                 ┆   ┆ str     ┆ f64     ┆ i64       ┆ str                             │\n",
       "╞═════════════════════════╪════════════╪════════════╪═════════════════════╪═══╪═════════╪═════════╪═══════════╪═════════════════════════════════╡\n",
       "│ 2019-11-01 00:00:00 UTC ┆ view       ┆ 1003461    ┆ 2053013555631882655 ┆ … ┆ xiaomi  ┆ 489.07  ┆ 520088904 ┆ 4d3b30da-a5e4-49df-b1a8-ba5943… │\n",
       "│ 2019-11-01 00:00:00 UTC ┆ view       ┆ 5000088    ┆ 2053013566100866035 ┆ … ┆ janome  ┆ 293.65  ┆ 530496790 ┆ 8e5f4f83-366c-4f70-860e-ca7417… │\n",
       "│ 2019-11-01 00:00:01 UTC ┆ view       ┆ 17302664   ┆ 2053013553853497655 ┆ … ┆ creed   ┆ 28.31   ┆ 561587266 ┆ 755422e7-9040-477b-9bd2-6a6e8f… │\n",
       "│ 2019-11-01 00:00:01 UTC ┆ view       ┆ 3601530    ┆ 2053013563810775923 ┆ … ┆ lg      ┆ 712.87  ┆ 518085591 ┆ 3bfb58cd-7892-48cc-8020-2f17e6… │\n",
       "│ 2019-11-01 00:00:01 UTC ┆ view       ┆ 1004775    ┆ 2053013555631882655 ┆ … ┆ xiaomi  ┆ 183.27  ┆ 558856683 ┆ 313628f1-68b8-460d-84f6-cec7a8… │\n",
       "│ …                       ┆ …          ┆ …          ┆ …                   ┆ … ┆ …       ┆ …       ┆ …         ┆ …                               │\n",
       "│ 2019-11-30 23:59:58 UTC ┆ view       ┆ 15700137   ┆ 2053013559733912211 ┆ … ┆ null    ┆ 277.74  ┆ 532714000 ┆ 02b4131c-0112-4231-aafa-ceaa08… │\n",
       "│ 2019-11-30 23:59:58 UTC ┆ view       ┆ 28719425   ┆ 2053013565639492569 ┆ … ┆ baden   ┆ 62.81   ┆ 545223467 ┆ 734c5eef-0742-4f8b-9d22-48f75b… │\n",
       "│ 2019-11-30 23:59:59 UTC ┆ view       ┆ 1004833    ┆ 2053013555631882655 ┆ … ┆ samsung ┆ 167.03  ┆ 557794415 ┆ 6fecf566-ebb0-4e70-a243-cdc13c… │\n",
       "│ 2019-11-30 23:59:59 UTC ┆ view       ┆ 2701706    ┆ 2053013563911439225 ┆ … ┆ samsung ┆ 566.27  ┆ 531607492 ┆ 368ddc8b-5db9-40fb-b7ff-b6582a… │\n",
       "│ 2019-11-30 23:59:59 UTC ┆ view       ┆ 1004233    ┆ 2053013555631882655 ┆ … ┆ apple   ┆ 1312.52 ┆ 579969851 ┆ 90aca71c-ed8a-4670-866a-761eba… │\n",
       "└─────────────────────────┴────────────┴────────────┴─────────────────────┴───┴─────────┴─────────┴───────────┴─────────────────────────────────┘>"
      ]
     },
     "execution_count": 6,
     "metadata": {},
     "output_type": "execute_result"
    }
   ],
   "source": [
    "df.sample"
   ]
  },
  {
   "cell_type": "code",
   "execution_count": 7,
   "metadata": {},
   "outputs": [
    {
     "data": {
      "text/plain": [
       "['event_time',\n",
       " 'event_type',\n",
       " 'product_id',\n",
       " 'category_id',\n",
       " 'category_code',\n",
       " 'brand',\n",
       " 'price',\n",
       " 'user_id',\n",
       " 'user_session']"
      ]
     },
     "execution_count": 7,
     "metadata": {},
     "output_type": "execute_result"
    }
   ],
   "source": [
    "df.columns"
   ]
  },
  {
   "cell_type": "markdown",
   "metadata": {},
   "source": [
    "# Column Selection"
   ]
  },
  {
   "cell_type": "code",
   "execution_count": 8,
   "metadata": {},
   "outputs": [
    {
     "data": {
      "text/html": [
       "<div><style>\n",
       ".dataframe > thead > tr,\n",
       ".dataframe > tbody > tr {\n",
       "  text-align: right;\n",
       "  white-space: pre-wrap;\n",
       "}\n",
       "</style>\n",
       "<small>shape: (67_501_979, 2)</small><table border=\"1\" class=\"dataframe\"><thead><tr><th>event_type</th><th>brand</th></tr><tr><td>str</td><td>str</td></tr></thead><tbody><tr><td>&quot;view&quot;</td><td>&quot;xiaomi&quot;</td></tr><tr><td>&quot;view&quot;</td><td>&quot;janome&quot;</td></tr><tr><td>&quot;view&quot;</td><td>&quot;creed&quot;</td></tr><tr><td>&quot;view&quot;</td><td>&quot;lg&quot;</td></tr><tr><td>&quot;view&quot;</td><td>&quot;xiaomi&quot;</td></tr><tr><td>&hellip;</td><td>&hellip;</td></tr><tr><td>&quot;view&quot;</td><td>null</td></tr><tr><td>&quot;view&quot;</td><td>&quot;baden&quot;</td></tr><tr><td>&quot;view&quot;</td><td>&quot;samsung&quot;</td></tr><tr><td>&quot;view&quot;</td><td>&quot;samsung&quot;</td></tr><tr><td>&quot;view&quot;</td><td>&quot;apple&quot;</td></tr></tbody></table></div>"
      ],
      "text/plain": [
       "shape: (67_501_979, 2)\n",
       "┌────────────┬─────────┐\n",
       "│ event_type ┆ brand   │\n",
       "│ ---        ┆ ---     │\n",
       "│ str        ┆ str     │\n",
       "╞════════════╪═════════╡\n",
       "│ view       ┆ xiaomi  │\n",
       "│ view       ┆ janome  │\n",
       "│ view       ┆ creed   │\n",
       "│ view       ┆ lg      │\n",
       "│ view       ┆ xiaomi  │\n",
       "│ …          ┆ …       │\n",
       "│ view       ┆ null    │\n",
       "│ view       ┆ baden   │\n",
       "│ view       ┆ samsung │\n",
       "│ view       ┆ samsung │\n",
       "│ view       ┆ apple   │\n",
       "└────────────┴─────────┘"
      ]
     },
     "execution_count": 8,
     "metadata": {},
     "output_type": "execute_result"
    }
   ],
   "source": [
    "df.select(\n",
    "    pl.col('event_type'),\n",
    "    pl.col('brand')\n",
    "    )"
   ]
  },
  {
   "cell_type": "markdown",
   "metadata": {},
   "source": [
    "# Row selection"
   ]
  },
  {
   "cell_type": "code",
   "execution_count": 9,
   "metadata": {},
   "outputs": [
    {
     "data": {
      "text/html": [
       "<div><style>\n",
       ".dataframe > thead > tr,\n",
       ".dataframe > tbody > tr {\n",
       "  text-align: right;\n",
       "  white-space: pre-wrap;\n",
       "}\n",
       "</style>\n",
       "<small>shape: (3_301_021, 9)</small><table border=\"1\" class=\"dataframe\"><thead><tr><th>event_time</th><th>event_type</th><th>product_id</th><th>category_id</th><th>category_code</th><th>brand</th><th>price</th><th>user_id</th><th>user_session</th></tr><tr><td>str</td><td>str</td><td>i64</td><td>i64</td><td>str</td><td>str</td><td>f64</td><td>i64</td><td>str</td></tr></thead><tbody><tr><td>&quot;2019-11-01 00:00:27 UTC&quot;</td><td>&quot;view&quot;</td><td>1004237</td><td>2053013555631882655</td><td>&quot;electronics.smartphone&quot;</td><td>&quot;apple&quot;</td><td>1091.33</td><td>565404816</td><td>&quot;d9cf0ac4-c3ec-4e1f-83aa-326b1e…</td></tr><tr><td>&quot;2019-11-01 00:00:40 UTC&quot;</td><td>&quot;view&quot;</td><td>1005116</td><td>2053013555631882655</td><td>&quot;electronics.smartphone&quot;</td><td>&quot;apple&quot;</td><td>1013.86</td><td>532647354</td><td>&quot;d2d3d2c6-631d-489e-9fb5-06f340…</td></tr><tr><td>&quot;2019-11-01 00:00:41 UTC&quot;</td><td>&quot;view&quot;</td><td>1004241</td><td>2053013555631882655</td><td>&quot;electronics.smartphone&quot;</td><td>&quot;apple&quot;</td><td>1173.6</td><td>565404816</td><td>&quot;d9cf0ac4-c3ec-4e1f-83aa-326b1e…</td></tr><tr><td>&quot;2019-11-01 00:00:41 UTC&quot;</td><td>&quot;view&quot;</td><td>1004237</td><td>2053013555631882655</td><td>&quot;electronics.smartphone&quot;</td><td>&quot;apple&quot;</td><td>1091.33</td><td>519277091</td><td>&quot;62fadce6-aa4a-4dde-92fc-c04c22…</td></tr><tr><td>&quot;2019-11-01 00:00:51 UTC&quot;</td><td>&quot;view&quot;</td><td>1307012</td><td>2053013558920217191</td><td>&quot;computers.notebook&quot;</td><td>&quot;apple&quot;</td><td>2342.15</td><td>530857208</td><td>&quot;c69f9c63-7098-426c-97d9-8cb94a…</td></tr><tr><td>&hellip;</td><td>&hellip;</td><td>&hellip;</td><td>&hellip;</td><td>&hellip;</td><td>&hellip;</td><td>&hellip;</td><td>&hellip;</td><td>&hellip;</td></tr><tr><td>&quot;2019-11-30 23:59:17 UTC&quot;</td><td>&quot;view&quot;</td><td>1005124</td><td>2053013555631882655</td><td>&quot;electronics.smartphone&quot;</td><td>&quot;apple&quot;</td><td>1436.56</td><td>571072384</td><td>&quot;8f414ee3-5bf5-48ce-a57c-f19a9b…</td></tr><tr><td>&quot;2019-11-30 23:59:29 UTC&quot;</td><td>&quot;view&quot;</td><td>1005105</td><td>2053013555631882655</td><td>&quot;electronics.smartphone&quot;</td><td>&quot;apple&quot;</td><td>1302.48</td><td>556695836</td><td>&quot;ca5eefc5-11f9-450c-91ed-380285…</td></tr><tr><td>&quot;2019-11-30 23:59:38 UTC&quot;</td><td>&quot;view&quot;</td><td>1005105</td><td>2053013555631882655</td><td>&quot;electronics.smartphone&quot;</td><td>&quot;apple&quot;</td><td>1302.48</td><td>561181104</td><td>&quot;b2c61552-576c-4532-8d1e-ad2a0a…</td></tr><tr><td>&quot;2019-11-30 23:59:55 UTC&quot;</td><td>&quot;view&quot;</td><td>16800304</td><td>2053013558316237377</td><td>&quot;furniture.kitchen.table&quot;</td><td>&quot;aero&quot;</td><td>1106.85</td><td>579175262</td><td>&quot;b8ff34a9-41be-4497-b373-408c6e…</td></tr><tr><td>&quot;2019-11-30 23:59:59 UTC&quot;</td><td>&quot;view&quot;</td><td>1004233</td><td>2053013555631882655</td><td>&quot;electronics.smartphone&quot;</td><td>&quot;apple&quot;</td><td>1312.52</td><td>579969851</td><td>&quot;90aca71c-ed8a-4670-866a-761eba…</td></tr></tbody></table></div>"
      ],
      "text/plain": [
       "shape: (3_301_021, 9)\n",
       "┌─────────────────────────┬────────────┬────────────┬─────────────────────┬───┬───────┬─────────┬───────────┬─────────────────────────────────┐\n",
       "│ event_time              ┆ event_type ┆ product_id ┆ category_id         ┆ … ┆ brand ┆ price   ┆ user_id   ┆ user_session                    │\n",
       "│ ---                     ┆ ---        ┆ ---        ┆ ---                 ┆   ┆ ---   ┆ ---     ┆ ---       ┆ ---                             │\n",
       "│ str                     ┆ str        ┆ i64        ┆ i64                 ┆   ┆ str   ┆ f64     ┆ i64       ┆ str                             │\n",
       "╞═════════════════════════╪════════════╪════════════╪═════════════════════╪═══╪═══════╪═════════╪═══════════╪═════════════════════════════════╡\n",
       "│ 2019-11-01 00:00:27 UTC ┆ view       ┆ 1004237    ┆ 2053013555631882655 ┆ … ┆ apple ┆ 1091.33 ┆ 565404816 ┆ d9cf0ac4-c3ec-4e1f-83aa-326b1e… │\n",
       "│ 2019-11-01 00:00:40 UTC ┆ view       ┆ 1005116    ┆ 2053013555631882655 ┆ … ┆ apple ┆ 1013.86 ┆ 532647354 ┆ d2d3d2c6-631d-489e-9fb5-06f340… │\n",
       "│ 2019-11-01 00:00:41 UTC ┆ view       ┆ 1004241    ┆ 2053013555631882655 ┆ … ┆ apple ┆ 1173.6  ┆ 565404816 ┆ d9cf0ac4-c3ec-4e1f-83aa-326b1e… │\n",
       "│ 2019-11-01 00:00:41 UTC ┆ view       ┆ 1004237    ┆ 2053013555631882655 ┆ … ┆ apple ┆ 1091.33 ┆ 519277091 ┆ 62fadce6-aa4a-4dde-92fc-c04c22… │\n",
       "│ 2019-11-01 00:00:51 UTC ┆ view       ┆ 1307012    ┆ 2053013558920217191 ┆ … ┆ apple ┆ 2342.15 ┆ 530857208 ┆ c69f9c63-7098-426c-97d9-8cb94a… │\n",
       "│ …                       ┆ …          ┆ …          ┆ …                   ┆ … ┆ …     ┆ …       ┆ …         ┆ …                               │\n",
       "│ 2019-11-30 23:59:17 UTC ┆ view       ┆ 1005124    ┆ 2053013555631882655 ┆ … ┆ apple ┆ 1436.56 ┆ 571072384 ┆ 8f414ee3-5bf5-48ce-a57c-f19a9b… │\n",
       "│ 2019-11-30 23:59:29 UTC ┆ view       ┆ 1005105    ┆ 2053013555631882655 ┆ … ┆ apple ┆ 1302.48 ┆ 556695836 ┆ ca5eefc5-11f9-450c-91ed-380285… │\n",
       "│ 2019-11-30 23:59:38 UTC ┆ view       ┆ 1005105    ┆ 2053013555631882655 ┆ … ┆ apple ┆ 1302.48 ┆ 561181104 ┆ b2c61552-576c-4532-8d1e-ad2a0a… │\n",
       "│ 2019-11-30 23:59:55 UTC ┆ view       ┆ 16800304   ┆ 2053013558316237377 ┆ … ┆ aero  ┆ 1106.85 ┆ 579175262 ┆ b8ff34a9-41be-4497-b373-408c6e… │\n",
       "│ 2019-11-30 23:59:59 UTC ┆ view       ┆ 1004233    ┆ 2053013555631882655 ┆ … ┆ apple ┆ 1312.52 ┆ 579969851 ┆ 90aca71c-ed8a-4670-866a-761eba… │\n",
       "└─────────────────────────┴────────────┴────────────┴─────────────────────┴───┴───────┴─────────┴───────────┴─────────────────────────────────┘"
      ]
     },
     "execution_count": 9,
     "metadata": {},
     "output_type": "execute_result"
    }
   ],
   "source": [
    "df.filter(pl.col('price') > 1000)"
   ]
  },
  {
   "cell_type": "code",
   "execution_count": 10,
   "metadata": {},
   "outputs": [
    {
     "data": {
      "text/html": [
       "<div><style>\n",
       ".dataframe > thead > tr,\n",
       ".dataframe > tbody > tr {\n",
       "  text-align: right;\n",
       "  white-space: pre-wrap;\n",
       "}\n",
       "</style>\n",
       "<small>shape: (1, 9)</small><table border=\"1\" class=\"dataframe\"><thead><tr><th>event_time</th><th>event_type</th><th>product_id</th><th>category_id</th><th>category_code</th><th>brand</th><th>price</th><th>user_id</th><th>user_session</th></tr><tr><td>u32</td><td>u32</td><td>u32</td><td>u32</td><td>u32</td><td>u32</td><td>u32</td><td>u32</td><td>u32</td></tr></thead><tbody><tr><td>0</td><td>0</td><td>0</td><td>0</td><td>21898171</td><td>9218235</td><td>0</td><td>0</td><td>10</td></tr></tbody></table></div>"
      ],
      "text/plain": [
       "shape: (1, 9)\n",
       "┌────────────┬────────────┬────────────┬─────────────┬───┬─────────┬───────┬─────────┬──────────────┐\n",
       "│ event_time ┆ event_type ┆ product_id ┆ category_id ┆ … ┆ brand   ┆ price ┆ user_id ┆ user_session │\n",
       "│ ---        ┆ ---        ┆ ---        ┆ ---         ┆   ┆ ---     ┆ ---   ┆ ---     ┆ ---          │\n",
       "│ u32        ┆ u32        ┆ u32        ┆ u32         ┆   ┆ u32     ┆ u32   ┆ u32     ┆ u32          │\n",
       "╞════════════╪════════════╪════════════╪═════════════╪═══╪═════════╪═══════╪═════════╪══════════════╡\n",
       "│ 0          ┆ 0          ┆ 0          ┆ 0           ┆ … ┆ 9218235 ┆ 0     ┆ 0       ┆ 10           │\n",
       "└────────────┴────────────┴────────────┴─────────────┴───┴─────────┴───────┴─────────┴──────────────┘"
      ]
     },
     "execution_count": 10,
     "metadata": {},
     "output_type": "execute_result"
    }
   ],
   "source": [
    "df.select(pl.all().is_null().sum())"
   ]
  },
  {
   "cell_type": "code",
   "execution_count": 15,
   "metadata": {},
   "outputs": [
    {
     "data": {
      "text/html": [
       "<div><style>\n",
       ".dataframe > thead > tr,\n",
       ".dataframe > tbody > tr {\n",
       "  text-align: right;\n",
       "  white-space: pre-wrap;\n",
       "}\n",
       "</style>\n",
       "<small>shape: (916_939, 9)</small><table border=\"1\" class=\"dataframe\"><thead><tr><th>event_time</th><th>event_type</th><th>product_id</th><th>category_id</th><th>category_code</th><th>brand</th><th>price</th><th>user_id</th><th>user_session</th></tr><tr><td>str</td><td>str</td><td>i64</td><td>i64</td><td>str</td><td>str</td><td>f64</td><td>i64</td><td>str</td></tr></thead><tbody><tr><td>&quot;2019-11-01 00:00:41 UTC&quot;</td><td>&quot;purchase&quot;</td><td>13200605</td><td>2053013557192163841</td><td>&quot;furniture.bedroom.bed&quot;</td><td>null</td><td>566.3</td><td>559368633</td><td>&quot;d6034fa2-41fb-4ac0-9051-55ea9f…</td></tr><tr><td>&quot;2019-11-01 00:01:04 UTC&quot;</td><td>&quot;purchase&quot;</td><td>1005161</td><td>2053013555631882655</td><td>&quot;electronics.smartphone&quot;</td><td>&quot;xiaomi&quot;</td><td>211.92</td><td>513351129</td><td>&quot;e6b7ce9b-1938-4e20-976c-8b4163…</td></tr><tr><td>&quot;2019-11-01 00:04:51 UTC&quot;</td><td>&quot;purchase&quot;</td><td>1004856</td><td>2053013555631882655</td><td>&quot;electronics.smartphone&quot;</td><td>&quot;samsung&quot;</td><td>128.42</td><td>562958505</td><td>&quot;0f039697-fedc-40fa-8830-39c1a0…</td></tr><tr><td>&quot;2019-11-01 00:05:34 UTC&quot;</td><td>&quot;purchase&quot;</td><td>26401669</td><td>2053013563651392361</td><td>null</td><td>&quot;lucente&quot;</td><td>109.66</td><td>541854711</td><td>&quot;c41c44d5-ef9b-41b9-9cd6-8d96dd…</td></tr><tr><td>&quot;2019-11-01 00:06:33 UTC&quot;</td><td>&quot;purchase&quot;</td><td>1801881</td><td>2053013554415534427</td><td>&quot;electronics.video.tv&quot;</td><td>&quot;samsung&quot;</td><td>488.8</td><td>557746614</td><td>&quot;4d76d6d3-fff5-4880-8327-e9e57b…</td></tr><tr><td>&hellip;</td><td>&hellip;</td><td>&hellip;</td><td>&hellip;</td><td>&hellip;</td><td>&hellip;</td><td>&hellip;</td><td>&hellip;</td><td>&hellip;</td></tr><tr><td>&quot;2019-11-30 23:58:14 UTC&quot;</td><td>&quot;purchase&quot;</td><td>1004874</td><td>2053013555631882655</td><td>&quot;electronics.smartphone&quot;</td><td>&quot;samsung&quot;</td><td>346.7</td><td>547804983</td><td>&quot;717566cf-ef93-4078-ba8f-169a3a…</td></tr><tr><td>&quot;2019-11-30 23:58:22 UTC&quot;</td><td>&quot;purchase&quot;</td><td>1005130</td><td>2053013555631882655</td><td>&quot;electronics.smartphone&quot;</td><td>&quot;apple&quot;</td><td>1437.02</td><td>515582054</td><td>&quot;829c20b5-696e-4a8a-8a9f-171014…</td></tr><tr><td>&quot;2019-11-30 23:58:57 UTC&quot;</td><td>&quot;purchase&quot;</td><td>1004767</td><td>2053013555631882655</td><td>&quot;electronics.smartphone&quot;</td><td>&quot;samsung&quot;</td><td>235.6</td><td>579876821</td><td>&quot;ca50e291-43f3-4ca2-9e13-20ee6b…</td></tr><tr><td>&quot;2019-11-30 23:59:15 UTC&quot;</td><td>&quot;purchase&quot;</td><td>3701309</td><td>2053013565983425517</td><td>&quot;appliances.environment.vacuum&quot;</td><td>&quot;polaris&quot;</td><td>89.32</td><td>543733099</td><td>&quot;a65116f4-ac53-4a41-ad68-660678…</td></tr><tr><td>&quot;2019-11-30 23:59:44 UTC&quot;</td><td>&quot;purchase&quot;</td><td>26205399</td><td>2053013563693335403</td><td>null</td><td>null</td><td>179.16</td><td>553345124</td><td>&quot;58c692ff-c7a9-4e35-9ec4-58598f…</td></tr></tbody></table></div>"
      ],
      "text/plain": [
       "shape: (916_939, 9)\n",
       "┌─────────────────────────┬────────────┬────────────┬─────────────────────┬───┬─────────┬─────────┬───────────┬─────────────────────────────────┐\n",
       "│ event_time              ┆ event_type ┆ product_id ┆ category_id         ┆ … ┆ brand   ┆ price   ┆ user_id   ┆ user_session                    │\n",
       "│ ---                     ┆ ---        ┆ ---        ┆ ---                 ┆   ┆ ---     ┆ ---     ┆ ---       ┆ ---                             │\n",
       "│ str                     ┆ str        ┆ i64        ┆ i64                 ┆   ┆ str     ┆ f64     ┆ i64       ┆ str                             │\n",
       "╞═════════════════════════╪════════════╪════════════╪═════════════════════╪═══╪═════════╪═════════╪═══════════╪═════════════════════════════════╡\n",
       "│ 2019-11-01 00:00:41 UTC ┆ purchase   ┆ 13200605   ┆ 2053013557192163841 ┆ … ┆ null    ┆ 566.3   ┆ 559368633 ┆ d6034fa2-41fb-4ac0-9051-55ea9f… │\n",
       "│ 2019-11-01 00:01:04 UTC ┆ purchase   ┆ 1005161    ┆ 2053013555631882655 ┆ … ┆ xiaomi  ┆ 211.92  ┆ 513351129 ┆ e6b7ce9b-1938-4e20-976c-8b4163… │\n",
       "│ 2019-11-01 00:04:51 UTC ┆ purchase   ┆ 1004856    ┆ 2053013555631882655 ┆ … ┆ samsung ┆ 128.42  ┆ 562958505 ┆ 0f039697-fedc-40fa-8830-39c1a0… │\n",
       "│ 2019-11-01 00:05:34 UTC ┆ purchase   ┆ 26401669   ┆ 2053013563651392361 ┆ … ┆ lucente ┆ 109.66  ┆ 541854711 ┆ c41c44d5-ef9b-41b9-9cd6-8d96dd… │\n",
       "│ 2019-11-01 00:06:33 UTC ┆ purchase   ┆ 1801881    ┆ 2053013554415534427 ┆ … ┆ samsung ┆ 488.8   ┆ 557746614 ┆ 4d76d6d3-fff5-4880-8327-e9e57b… │\n",
       "│ …                       ┆ …          ┆ …          ┆ …                   ┆ … ┆ …       ┆ …       ┆ …         ┆ …                               │\n",
       "│ 2019-11-30 23:58:14 UTC ┆ purchase   ┆ 1004874    ┆ 2053013555631882655 ┆ … ┆ samsung ┆ 346.7   ┆ 547804983 ┆ 717566cf-ef93-4078-ba8f-169a3a… │\n",
       "│ 2019-11-30 23:58:22 UTC ┆ purchase   ┆ 1005130    ┆ 2053013555631882655 ┆ … ┆ apple   ┆ 1437.02 ┆ 515582054 ┆ 829c20b5-696e-4a8a-8a9f-171014… │\n",
       "│ 2019-11-30 23:58:57 UTC ┆ purchase   ┆ 1004767    ┆ 2053013555631882655 ┆ … ┆ samsung ┆ 235.6   ┆ 579876821 ┆ ca50e291-43f3-4ca2-9e13-20ee6b… │\n",
       "│ 2019-11-30 23:59:15 UTC ┆ purchase   ┆ 3701309    ┆ 2053013565983425517 ┆ … ┆ polaris ┆ 89.32   ┆ 543733099 ┆ a65116f4-ac53-4a41-ad68-660678… │\n",
       "│ 2019-11-30 23:59:44 UTC ┆ purchase   ┆ 26205399   ┆ 2053013563693335403 ┆ … ┆ null    ┆ 179.16  ┆ 553345124 ┆ 58c692ff-c7a9-4e35-9ec4-58598f… │\n",
       "└─────────────────────────┴────────────┴────────────┴─────────────────────┴───┴─────────┴─────────┴───────────┴─────────────────────────────────┘"
      ]
     },
     "execution_count": 15,
     "metadata": {},
     "output_type": "execute_result"
    }
   ],
   "source": [
    "df.filter(pl.col('event_type') == 'purchase')"
   ]
  },
  {
   "cell_type": "code",
   "execution_count": null,
   "metadata": {},
   "outputs": [],
   "source": []
  }
 ],
 "metadata": {
  "kernelspec": {
   "display_name": "Python 3",
   "language": "python",
   "name": "python3"
  },
  "language_info": {
   "codemirror_mode": {
    "name": "ipython",
    "version": 3
   },
   "file_extension": ".py",
   "mimetype": "text/x-python",
   "name": "python",
   "nbconvert_exporter": "python",
   "pygments_lexer": "ipython3",
   "version": "3.12.1"
  }
 },
 "nbformat": 4,
 "nbformat_minor": 2
}
