{
 "cells": [
  {
   "cell_type": "markdown",
   "metadata": {},
   "source": [
    "# Dataset Cleaning "
   ]
  },
  {
   "cell_type": "markdown",
   "metadata": {},
   "source": [
    "The main objectives of this notebook are: \n",
    "- Import dataset \n",
    "- Get familiar with the data \n",
    "- Determine if there are data quality issues \n",
    "- Resolve any data quality issues "
   ]
  },
  {
   "cell_type": "code",
   "execution_count": 228,
   "metadata": {},
   "outputs": [],
   "source": [
    "import polars as pl \n",
    "import polars.selectors as cs \n",
    "from google.cloud import bigquery\n",
    "import numpy as np \n",
    "from sklearn.metrics.pairwise import cosine_similarity\n",
    "from sklearn.preprocessing import LabelEncoder"
   ]
  },
  {
   "cell_type": "code",
   "execution_count": 229,
   "metadata": {},
   "outputs": [
    {
     "data": {
      "text/plain": [
       "polars.config.Config"
      ]
     },
     "execution_count": 229,
     "metadata": {},
     "output_type": "execute_result"
    }
   ],
   "source": [
    "pl.Config.set_tbl_width_chars(200)"
   ]
  },
  {
   "cell_type": "code",
   "execution_count": 230,
   "metadata": {},
   "outputs": [],
   "source": [
    "# Create client object\n",
    "client = bigquery.Client()"
   ]
  },
  {
   "cell_type": "code",
   "execution_count": 231,
   "metadata": {},
   "outputs": [],
   "source": [
    "QUERY = (\"SELECT `date`, `visitStartTime`, `fullVisitorId`, `geoNetwork`.`subContinent`, `geoNetwork`.`country`,\"\n",
    "        \"`geoNetwork`.`city`,`device`.`browser`, `device`.`operatingSystem`,`device`.`deviceCategory`,\"\n",
    "        \"`trafficSource`.`source`, `h`.`item`.`transactionId`,`hp`.`v2ProductName`,`hp`.`v2ProductCategory` \"\n",
    "        \"FROM `bigquery-public-data.google_analytics_sample.ga_sessions_20170731`, UNNEST(hits) AS h,\"\n",
    "        \"UNNEST(h.product) AS hp;\")"
   ]
  },
  {
   "cell_type": "code",
   "execution_count": 232,
   "metadata": {},
   "outputs": [],
   "source": [
    "run_query = client.query(QUERY)"
   ]
  },
  {
   "cell_type": "code",
   "execution_count": 233,
   "metadata": {},
   "outputs": [
    {
     "name": "stderr",
     "output_type": "stream",
     "text": [
      "c:\\Users\\andre\\AppData\\Local\\Programs\\Python\\Python312\\Lib\\site-packages\\google\\cloud\\bigquery\\table.py:1727: UserWarning: BigQuery Storage module not found, fetch data with the REST endpoint instead.\n",
      "  warnings.warn(\n"
     ]
    }
   ],
   "source": [
    "df = pl.from_arrow(run_query.to_arrow())"
   ]
  },
  {
   "cell_type": "code",
   "execution_count": 234,
   "metadata": {},
   "outputs": [
    {
     "data": {
      "text/html": [
       "<div><style>\n",
       ".dataframe > thead > tr,\n",
       ".dataframe > tbody > tr {\n",
       "  text-align: right;\n",
       "  white-space: pre-wrap;\n",
       "}\n",
       "</style>\n",
       "<small>shape: (5, 13)</small><table border=\"1\" class=\"dataframe\"><thead><tr><th>date</th><th>visitStartTime</th><th>fullVisitorId</th><th>subContinent</th><th>country</th><th>city</th><th>browser</th><th>operatingSystem</th><th>deviceCategory</th><th>source</th><th>transactionId</th><th>v2ProductName</th><th>v2ProductCategory</th></tr><tr><td>str</td><td>i64</td><td>str</td><td>str</td><td>str</td><td>str</td><td>str</td><td>str</td><td>str</td><td>str</td><td>str</td><td>str</td><td>str</td></tr></thead><tbody><tr><td>&quot;20170731&quot;</td><td>1501520683</td><td>&quot;2219384770970157334&quot;</td><td>&quot;Eastern Europe&quot;</td><td>&quot;Slovakia&quot;</td><td>&quot;not available in demo dataset&quot;</td><td>&quot;Firefox&quot;</td><td>&quot;Windows&quot;</td><td>&quot;desktop&quot;</td><td>&quot;google&quot;</td><td>null</td><td>&quot;Google Lunch Bag&quot;</td><td>&quot;Home/Bags/More Bags/&quot;</td></tr><tr><td>&quot;20170731&quot;</td><td>1501520683</td><td>&quot;2219384770970157334&quot;</td><td>&quot;Eastern Europe&quot;</td><td>&quot;Slovakia&quot;</td><td>&quot;not available in demo dataset&quot;</td><td>&quot;Firefox&quot;</td><td>&quot;Windows&quot;</td><td>&quot;desktop&quot;</td><td>&quot;google&quot;</td><td>null</td><td>&quot;Electronics Accessory Pouch&quot;</td><td>&quot;Home/Bags/More Bags/&quot;</td></tr><tr><td>&quot;20170731&quot;</td><td>1501520683</td><td>&quot;2219384770970157334&quot;</td><td>&quot;Eastern Europe&quot;</td><td>&quot;Slovakia&quot;</td><td>&quot;not available in demo dataset&quot;</td><td>&quot;Firefox&quot;</td><td>&quot;Windows&quot;</td><td>&quot;desktop&quot;</td><td>&quot;google&quot;</td><td>null</td><td>&quot;Sport Bag&quot;</td><td>&quot;Home/Bags/More Bags/&quot;</td></tr><tr><td>&quot;20170731&quot;</td><td>1501520683</td><td>&quot;2219384770970157334&quot;</td><td>&quot;Eastern Europe&quot;</td><td>&quot;Slovakia&quot;</td><td>&quot;not available in demo dataset&quot;</td><td>&quot;Firefox&quot;</td><td>&quot;Windows&quot;</td><td>&quot;desktop&quot;</td><td>&quot;google&quot;</td><td>null</td><td>&quot;Google Slim Utility Travel Bag&quot;</td><td>&quot;Home/Bags/More Bags/&quot;</td></tr><tr><td>&quot;20170731&quot;</td><td>1501520683</td><td>&quot;2219384770970157334&quot;</td><td>&quot;Eastern Europe&quot;</td><td>&quot;Slovakia&quot;</td><td>&quot;not available in demo dataset&quot;</td><td>&quot;Firefox&quot;</td><td>&quot;Windows&quot;</td><td>&quot;desktop&quot;</td><td>&quot;google&quot;</td><td>null</td><td>&quot;Suitcase Organizer Cubes&quot;</td><td>&quot;Home/Bags/More Bags/&quot;</td></tr></tbody></table></div>"
      ],
      "text/plain": [
       "shape: (5, 13)\n",
       "┌──────────┬────────────────┬─────────────────────┬────────────────┬───┬────────┬───────────────┬────────────────────────────────┬──────────────────────┐\n",
       "│ date     ┆ visitStartTime ┆ fullVisitorId       ┆ subContinent   ┆ … ┆ source ┆ transactionId ┆ v2ProductName                  ┆ v2ProductCategory    │\n",
       "│ ---      ┆ ---            ┆ ---                 ┆ ---            ┆   ┆ ---    ┆ ---           ┆ ---                            ┆ ---                  │\n",
       "│ str      ┆ i64            ┆ str                 ┆ str            ┆   ┆ str    ┆ str           ┆ str                            ┆ str                  │\n",
       "╞══════════╪════════════════╪═════════════════════╪════════════════╪═══╪════════╪═══════════════╪════════════════════════════════╪══════════════════════╡\n",
       "│ 20170731 ┆ 1501520683     ┆ 2219384770970157334 ┆ Eastern Europe ┆ … ┆ google ┆ null          ┆ Google Lunch Bag               ┆ Home/Bags/More Bags/ │\n",
       "│ 20170731 ┆ 1501520683     ┆ 2219384770970157334 ┆ Eastern Europe ┆ … ┆ google ┆ null          ┆ Electronics Accessory Pouch    ┆ Home/Bags/More Bags/ │\n",
       "│ 20170731 ┆ 1501520683     ┆ 2219384770970157334 ┆ Eastern Europe ┆ … ┆ google ┆ null          ┆ Sport Bag                      ┆ Home/Bags/More Bags/ │\n",
       "│ 20170731 ┆ 1501520683     ┆ 2219384770970157334 ┆ Eastern Europe ┆ … ┆ google ┆ null          ┆ Google Slim Utility Travel Bag ┆ Home/Bags/More Bags/ │\n",
       "│ 20170731 ┆ 1501520683     ┆ 2219384770970157334 ┆ Eastern Europe ┆ … ┆ google ┆ null          ┆ Suitcase Organizer Cubes       ┆ Home/Bags/More Bags/ │\n",
       "└──────────┴────────────────┴─────────────────────┴────────────────┴───┴────────┴───────────────┴────────────────────────────────┴──────────────────────┘"
      ]
     },
     "execution_count": 234,
     "metadata": {},
     "output_type": "execute_result"
    }
   ],
   "source": [
    "df.head()"
   ]
  },
  {
   "cell_type": "code",
   "execution_count": 235,
   "metadata": {},
   "outputs": [
    {
     "data": {
      "text/plain": [
       "(49512, 13)"
      ]
     },
     "execution_count": 235,
     "metadata": {},
     "output_type": "execute_result"
    }
   ],
   "source": [
    "df.shape"
   ]
  },
  {
   "cell_type": "code",
   "execution_count": 236,
   "metadata": {},
   "outputs": [
    {
     "data": {
      "text/plain": [
       "['date',\n",
       " 'visitStartTime',\n",
       " 'fullVisitorId',\n",
       " 'subContinent',\n",
       " 'country',\n",
       " 'city',\n",
       " 'browser',\n",
       " 'operatingSystem',\n",
       " 'deviceCategory',\n",
       " 'source',\n",
       " 'transactionId',\n",
       " 'v2ProductName',\n",
       " 'v2ProductCategory']"
      ]
     },
     "execution_count": 236,
     "metadata": {},
     "output_type": "execute_result"
    }
   ],
   "source": [
    "df.columns"
   ]
  },
  {
   "cell_type": "code",
   "execution_count": 237,
   "metadata": {},
   "outputs": [
    {
     "data": {
      "text/html": [
       "<div><style>\n",
       ".dataframe > thead > tr,\n",
       ".dataframe > tbody > tr {\n",
       "  text-align: right;\n",
       "  white-space: pre-wrap;\n",
       "}\n",
       "</style>\n",
       "<small>shape: (1, 13)</small><table border=\"1\" class=\"dataframe\"><thead><tr><th>date</th><th>visitStartTime</th><th>fullVisitorId</th><th>subContinent</th><th>country</th><th>city</th><th>browser</th><th>operatingSystem</th><th>deviceCategory</th><th>source</th><th>transactionId</th><th>v2ProductName</th><th>v2ProductCategory</th></tr><tr><td>str</td><td>i64</td><td>str</td><td>str</td><td>str</td><td>str</td><td>str</td><td>str</td><td>str</td><td>str</td><td>str</td><td>str</td><td>str</td></tr></thead><tbody><tr><td>&quot;20170731&quot;</td><td>1501515851</td><td>&quot;5262537537052927353&quot;</td><td>&quot;Northern America&quot;</td><td>&quot;United States&quot;</td><td>&quot;San Jose&quot;</td><td>&quot;Chrome&quot;</td><td>&quot;Android&quot;</td><td>&quot;mobile&quot;</td><td>&quot;(direct)&quot;</td><td>null</td><td>&quot;Micro Wireless Earbud&quot;</td><td>&quot;Home/Electronics/&quot;</td></tr></tbody></table></div>"
      ],
      "text/plain": [
       "shape: (1, 13)\n",
       "┌──────────┬────────────────┬─────────────────────┬──────────────────┬───┬──────────┬───────────────┬───────────────────────┬───────────────────┐\n",
       "│ date     ┆ visitStartTime ┆ fullVisitorId       ┆ subContinent     ┆ … ┆ source   ┆ transactionId ┆ v2ProductName         ┆ v2ProductCategory │\n",
       "│ ---      ┆ ---            ┆ ---                 ┆ ---              ┆   ┆ ---      ┆ ---           ┆ ---                   ┆ ---               │\n",
       "│ str      ┆ i64            ┆ str                 ┆ str              ┆   ┆ str      ┆ str           ┆ str                   ┆ str               │\n",
       "╞══════════╪════════════════╪═════════════════════╪══════════════════╪═══╪══════════╪═══════════════╪═══════════════════════╪═══════════════════╡\n",
       "│ 20170731 ┆ 1501515851     ┆ 5262537537052927353 ┆ Northern America ┆ … ┆ (direct) ┆ null          ┆ Micro Wireless Earbud ┆ Home/Electronics/ │\n",
       "└──────────┴────────────────┴─────────────────────┴──────────────────┴───┴──────────┴───────────────┴───────────────────────┴───────────────────┘"
      ]
     },
     "execution_count": 237,
     "metadata": {},
     "output_type": "execute_result"
    }
   ],
   "source": [
    "df.sample()"
   ]
  },
  {
   "cell_type": "code",
   "execution_count": 238,
   "metadata": {},
   "outputs": [
    {
     "data": {
      "text/html": [
       "<div><style>\n",
       ".dataframe > thead > tr,\n",
       ".dataframe > tbody > tr {\n",
       "  text-align: right;\n",
       "  white-space: pre-wrap;\n",
       "}\n",
       "</style>\n",
       "<small>shape: (9, 14)</small><table border=\"1\" class=\"dataframe\"><thead><tr><th>statistic</th><th>date</th><th>visitStartTime</th><th>fullVisitorId</th><th>subContinent</th><th>country</th><th>city</th><th>browser</th><th>operatingSystem</th><th>deviceCategory</th><th>source</th><th>transactionId</th><th>v2ProductName</th><th>v2ProductCategory</th></tr><tr><td>str</td><td>str</td><td>f64</td><td>str</td><td>str</td><td>str</td><td>str</td><td>str</td><td>str</td><td>str</td><td>str</td><td>str</td><td>str</td><td>str</td></tr></thead><tbody><tr><td>&quot;count&quot;</td><td>&quot;49512&quot;</td><td>49512.0</td><td>&quot;49512&quot;</td><td>&quot;49512&quot;</td><td>&quot;49512&quot;</td><td>&quot;49512&quot;</td><td>&quot;49512&quot;</td><td>&quot;49512&quot;</td><td>&quot;49512&quot;</td><td>&quot;49512&quot;</td><td>&quot;462&quot;</td><td>&quot;49512&quot;</td><td>&quot;49512&quot;</td></tr><tr><td>&quot;null_count&quot;</td><td>&quot;0&quot;</td><td>0.0</td><td>&quot;0&quot;</td><td>&quot;0&quot;</td><td>&quot;0&quot;</td><td>&quot;0&quot;</td><td>&quot;0&quot;</td><td>&quot;0&quot;</td><td>&quot;0&quot;</td><td>&quot;0&quot;</td><td>&quot;49050&quot;</td><td>&quot;0&quot;</td><td>&quot;0&quot;</td></tr><tr><td>&quot;mean&quot;</td><td>null</td><td>1.5015e9</td><td>null</td><td>null</td><td>null</td><td>null</td><td>null</td><td>null</td><td>null</td><td>null</td><td>null</td><td>null</td><td>null</td></tr><tr><td>&quot;std&quot;</td><td>null</td><td>21502.167394</td><td>null</td><td>null</td><td>null</td><td>null</td><td>null</td><td>null</td><td>null</td><td>null</td><td>null</td><td>null</td><td>null</td></tr><tr><td>&quot;min&quot;</td><td>&quot;20170731&quot;</td><td>1.5015e9</td><td>&quot;0002457163364254438&quot;</td><td>&quot;Australasia&quot;</td><td>&quot;Algeria&quot;</td><td>&quot;(not set)&quot;</td><td>&quot;Amazon Silk&quot;</td><td>&quot;(not set)&quot;</td><td>&quot;desktop&quot;</td><td>&quot;(direct)&quot;</td><td>&quot;ORD201707311786&quot;</td><td>&quot;1 oz Hand Sanitizer&quot;</td><td>&quot;${escCatTitle}&quot;</td></tr><tr><td>&quot;25%&quot;</td><td>null</td><td>1.5015e9</td><td>null</td><td>null</td><td>null</td><td>null</td><td>null</td><td>null</td><td>null</td><td>null</td><td>null</td><td>null</td><td>null</td></tr><tr><td>&quot;50%&quot;</td><td>null</td><td>1.5015e9</td><td>null</td><td>null</td><td>null</td><td>null</td><td>null</td><td>null</td><td>null</td><td>null</td><td>null</td><td>null</td><td>null</td></tr><tr><td>&quot;75%&quot;</td><td>null</td><td>1.5015e9</td><td>null</td><td>null</td><td>null</td><td>null</td><td>null</td><td>null</td><td>null</td><td>null</td><td>null</td><td>null</td><td>null</td></tr><tr><td>&quot;max&quot;</td><td>&quot;20170731&quot;</td><td>1.5016e9</td><td>&quot;9997362993085245352&quot;</td><td>&quot;Western Europe&quot;</td><td>&quot;Vietnam&quot;</td><td>&quot;not available in demo dataset&quot;</td><td>&quot;YaBrowser&quot;</td><td>&quot;iOS&quot;</td><td>&quot;tablet&quot;</td><td>&quot;youtube.com&quot;</td><td>&quot;ORD201707312663&quot;</td><td>&quot;YouTube Youth Short Sleeve Tee…</td><td>&quot;Wearables/Men&#x27;s T-Shirts/&quot;</td></tr></tbody></table></div>"
      ],
      "text/plain": [
       "shape: (9, 14)\n",
       "┌────────────┬──────────┬────────────────┬─────────────────────┬───┬─────────────┬─────────────────┬─────────────────────────────────┬───────────────────────────┐\n",
       "│ statistic  ┆ date     ┆ visitStartTime ┆ fullVisitorId       ┆ … ┆ source      ┆ transactionId   ┆ v2ProductName                   ┆ v2ProductCategory         │\n",
       "│ ---        ┆ ---      ┆ ---            ┆ ---                 ┆   ┆ ---         ┆ ---             ┆ ---                             ┆ ---                       │\n",
       "│ str        ┆ str      ┆ f64            ┆ str                 ┆   ┆ str         ┆ str             ┆ str                             ┆ str                       │\n",
       "╞════════════╪══════════╪════════════════╪═════════════════════╪═══╪═════════════╪═════════════════╪═════════════════════════════════╪═══════════════════════════╡\n",
       "│ count      ┆ 49512    ┆ 49512.0        ┆ 49512               ┆ … ┆ 49512       ┆ 462             ┆ 49512                           ┆ 49512                     │\n",
       "│ null_count ┆ 0        ┆ 0.0            ┆ 0                   ┆ … ┆ 0           ┆ 49050           ┆ 0                               ┆ 0                         │\n",
       "│ mean       ┆ null     ┆ 1.5015e9       ┆ null                ┆ … ┆ null        ┆ null            ┆ null                            ┆ null                      │\n",
       "│ std        ┆ null     ┆ 21502.167394   ┆ null                ┆ … ┆ null        ┆ null            ┆ null                            ┆ null                      │\n",
       "│ min        ┆ 20170731 ┆ 1.5015e9       ┆ 0002457163364254438 ┆ … ┆ (direct)    ┆ ORD201707311786 ┆ 1 oz Hand Sanitizer             ┆ ${escCatTitle}            │\n",
       "│ 25%        ┆ null     ┆ 1.5015e9       ┆ null                ┆ … ┆ null        ┆ null            ┆ null                            ┆ null                      │\n",
       "│ 50%        ┆ null     ┆ 1.5015e9       ┆ null                ┆ … ┆ null        ┆ null            ┆ null                            ┆ null                      │\n",
       "│ 75%        ┆ null     ┆ 1.5015e9       ┆ null                ┆ … ┆ null        ┆ null            ┆ null                            ┆ null                      │\n",
       "│ max        ┆ 20170731 ┆ 1.5016e9       ┆ 9997362993085245352 ┆ … ┆ youtube.com ┆ ORD201707312663 ┆ YouTube Youth Short Sleeve Tee… ┆ Wearables/Men's T-Shirts/ │\n",
       "└────────────┴──────────┴────────────────┴─────────────────────┴───┴─────────────┴─────────────────┴─────────────────────────────────┴───────────────────────────┘"
      ]
     },
     "execution_count": 238,
     "metadata": {},
     "output_type": "execute_result"
    }
   ],
   "source": [
    "df.describe()"
   ]
  },
  {
   "cell_type": "code",
   "execution_count": 239,
   "metadata": {},
   "outputs": [
    {
     "data": {
      "text/html": [
       "<div><style>\n",
       ".dataframe > thead > tr,\n",
       ".dataframe > tbody > tr {\n",
       "  text-align: right;\n",
       "  white-space: pre-wrap;\n",
       "}\n",
       "</style>\n",
       "<small>shape: (1, 13)</small><table border=\"1\" class=\"dataframe\"><thead><tr><th>date</th><th>visitStartTime</th><th>fullVisitorId</th><th>subContinent</th><th>country</th><th>city</th><th>browser</th><th>operatingSystem</th><th>deviceCategory</th><th>source</th><th>transactionId</th><th>v2ProductName</th><th>v2ProductCategory</th></tr><tr><td>u32</td><td>u32</td><td>u32</td><td>u32</td><td>u32</td><td>u32</td><td>u32</td><td>u32</td><td>u32</td><td>u32</td><td>u32</td><td>u32</td><td>u32</td></tr></thead><tbody><tr><td>0</td><td>0</td><td>0</td><td>0</td><td>0</td><td>0</td><td>0</td><td>0</td><td>0</td><td>0</td><td>49050</td><td>0</td><td>0</td></tr></tbody></table></div>"
      ],
      "text/plain": [
       "shape: (1, 13)\n",
       "┌──────┬────────────────┬───────────────┬──────────────┬───┬────────┬───────────────┬───────────────┬───────────────────┐\n",
       "│ date ┆ visitStartTime ┆ fullVisitorId ┆ subContinent ┆ … ┆ source ┆ transactionId ┆ v2ProductName ┆ v2ProductCategory │\n",
       "│ ---  ┆ ---            ┆ ---           ┆ ---          ┆   ┆ ---    ┆ ---           ┆ ---           ┆ ---               │\n",
       "│ u32  ┆ u32            ┆ u32           ┆ u32          ┆   ┆ u32    ┆ u32           ┆ u32           ┆ u32               │\n",
       "╞══════╪════════════════╪═══════════════╪══════════════╪═══╪════════╪═══════════════╪═══════════════╪═══════════════════╡\n",
       "│ 0    ┆ 0              ┆ 0             ┆ 0            ┆ … ┆ 0      ┆ 49050         ┆ 0             ┆ 0                 │\n",
       "└──────┴────────────────┴───────────────┴──────────────┴───┴────────┴───────────────┴───────────────┴───────────────────┘"
      ]
     },
     "execution_count": 239,
     "metadata": {},
     "output_type": "execute_result"
    }
   ],
   "source": [
    "df.select(pl.all().is_null().sum())"
   ]
  },
  {
   "cell_type": "code",
   "execution_count": 240,
   "metadata": {},
   "outputs": [
    {
     "data": {
      "text/html": [
       "<div><style>\n",
       ".dataframe > thead > tr,\n",
       ".dataframe > tbody > tr {\n",
       "  text-align: right;\n",
       "  white-space: pre-wrap;\n",
       "}\n",
       "</style>\n",
       "<small>shape: (462, 13)</small><table border=\"1\" class=\"dataframe\"><thead><tr><th>date</th><th>visitStartTime</th><th>fullVisitorId</th><th>subContinent</th><th>country</th><th>city</th><th>browser</th><th>operatingSystem</th><th>deviceCategory</th><th>source</th><th>transactionId</th><th>v2ProductName</th><th>v2ProductCategory</th></tr><tr><td>str</td><td>i64</td><td>str</td><td>str</td><td>str</td><td>str</td><td>str</td><td>str</td><td>str</td><td>str</td><td>str</td><td>str</td><td>str</td></tr></thead><tbody><tr><td>&quot;20170731&quot;</td><td>1501525374</td><td>&quot;186231215995844689&quot;</td><td>&quot;Northern America&quot;</td><td>&quot;United States&quot;</td><td>&quot;Mountain View&quot;</td><td>&quot;Chrome&quot;</td><td>&quot;Macintosh&quot;</td><td>&quot;desktop&quot;</td><td>&quot;(direct)&quot;</td><td>&quot;ORD201707311786&quot;</td><td>&quot;Google Men&#x27;s Bike Short Sleeve…</td><td>&quot;Apparel&quot;</td></tr><tr><td>&quot;20170731&quot;</td><td>1501525374</td><td>&quot;186231215995844689&quot;</td><td>&quot;Northern America&quot;</td><td>&quot;United States&quot;</td><td>&quot;Mountain View&quot;</td><td>&quot;Chrome&quot;</td><td>&quot;Macintosh&quot;</td><td>&quot;desktop&quot;</td><td>&quot;(direct)&quot;</td><td>&quot;ORD201707311786&quot;</td><td>&quot;Google Men&#x27;s Bike Short Sleeve…</td><td>&quot;Apparel&quot;</td></tr><tr><td>&quot;20170731&quot;</td><td>1501549028</td><td>&quot;0345672699449577691&quot;</td><td>&quot;Northern America&quot;</td><td>&quot;United States&quot;</td><td>&quot;Kirkland&quot;</td><td>&quot;Chrome&quot;</td><td>&quot;Chrome OS&quot;</td><td>&quot;desktop&quot;</td><td>&quot;(direct)&quot;</td><td>&quot;ORD201707312107&quot;</td><td>&quot;Google Blackout Cap&quot;</td><td>&quot;Headgear&quot;</td></tr><tr><td>&quot;20170731&quot;</td><td>1501549028</td><td>&quot;0345672699449577691&quot;</td><td>&quot;Northern America&quot;</td><td>&quot;United States&quot;</td><td>&quot;Kirkland&quot;</td><td>&quot;Chrome&quot;</td><td>&quot;Chrome OS&quot;</td><td>&quot;desktop&quot;</td><td>&quot;(direct)&quot;</td><td>&quot;ORD201707312107&quot;</td><td>&quot;Google Women&#x27;s Vintage Hero Te…</td><td>&quot;Apparel&quot;</td></tr><tr><td>&quot;20170731&quot;</td><td>1501549028</td><td>&quot;0345672699449577691&quot;</td><td>&quot;Northern America&quot;</td><td>&quot;United States&quot;</td><td>&quot;Kirkland&quot;</td><td>&quot;Chrome&quot;</td><td>&quot;Chrome OS&quot;</td><td>&quot;desktop&quot;</td><td>&quot;(direct)&quot;</td><td>&quot;ORD201707312107&quot;</td><td>&quot;Google Men&#x27;s Long &amp; Lean Tee C…</td><td>&quot;Apparel&quot;</td></tr><tr><td>&hellip;</td><td>&hellip;</td><td>&hellip;</td><td>&hellip;</td><td>&hellip;</td><td>&hellip;</td><td>&hellip;</td><td>&hellip;</td><td>&hellip;</td><td>&hellip;</td><td>&hellip;</td><td>&hellip;</td><td>&hellip;</td></tr><tr><td>&quot;20170731&quot;</td><td>1501537217</td><td>&quot;7483600664917507409&quot;</td><td>&quot;Northern America&quot;</td><td>&quot;United States&quot;</td><td>&quot;Mountain View&quot;</td><td>&quot;Chrome&quot;</td><td>&quot;Macintosh&quot;</td><td>&quot;desktop&quot;</td><td>&quot;(direct)&quot;</td><td>&quot;ORD201707312663&quot;</td><td>&quot;Google 25 oz Red Stainless Ste…</td><td>&quot;Drinkware&quot;</td></tr><tr><td>&quot;20170731&quot;</td><td>1501537217</td><td>&quot;7483600664917507409&quot;</td><td>&quot;Northern America&quot;</td><td>&quot;United States&quot;</td><td>&quot;Mountain View&quot;</td><td>&quot;Chrome&quot;</td><td>&quot;Macintosh&quot;</td><td>&quot;desktop&quot;</td><td>&quot;(direct)&quot;</td><td>&quot;ORD201707312663&quot;</td><td>&quot;Android 17oz Stainless Steel S…</td><td>&quot;Drinkware&quot;</td></tr><tr><td>&quot;20170731&quot;</td><td>1501537217</td><td>&quot;7483600664917507409&quot;</td><td>&quot;Northern America&quot;</td><td>&quot;United States&quot;</td><td>&quot;Mountain View&quot;</td><td>&quot;Chrome&quot;</td><td>&quot;Macintosh&quot;</td><td>&quot;desktop&quot;</td><td>&quot;(direct)&quot;</td><td>&quot;ORD201707312663&quot;</td><td>&quot;Android Men&#x27;s Short Sleeve Her…</td><td>&quot;Apparel&quot;</td></tr><tr><td>&quot;20170731&quot;</td><td>1501537217</td><td>&quot;7483600664917507409&quot;</td><td>&quot;Northern America&quot;</td><td>&quot;United States&quot;</td><td>&quot;Mountain View&quot;</td><td>&quot;Chrome&quot;</td><td>&quot;Macintosh&quot;</td><td>&quot;desktop&quot;</td><td>&quot;(direct)&quot;</td><td>&quot;ORD201707312663&quot;</td><td>&quot;Android Men&#x27;s Take Charge Shor…</td><td>&quot;Apparel&quot;</td></tr><tr><td>&quot;20170731&quot;</td><td>1501537217</td><td>&quot;7483600664917507409&quot;</td><td>&quot;Northern America&quot;</td><td>&quot;United States&quot;</td><td>&quot;Mountain View&quot;</td><td>&quot;Chrome&quot;</td><td>&quot;Macintosh&quot;</td><td>&quot;desktop&quot;</td><td>&quot;(direct)&quot;</td><td>&quot;ORD201707312663&quot;</td><td>&quot;Google Women&#x27;s Scoop Neck Tee …</td><td>&quot;Apparel&quot;</td></tr></tbody></table></div>"
      ],
      "text/plain": [
       "shape: (462, 13)\n",
       "┌──────────┬────────────────┬─────────────────────┬──────────────────┬───┬──────────┬─────────────────┬─────────────────────────────────┬───────────────────┐\n",
       "│ date     ┆ visitStartTime ┆ fullVisitorId       ┆ subContinent     ┆ … ┆ source   ┆ transactionId   ┆ v2ProductName                   ┆ v2ProductCategory │\n",
       "│ ---      ┆ ---            ┆ ---                 ┆ ---              ┆   ┆ ---      ┆ ---             ┆ ---                             ┆ ---               │\n",
       "│ str      ┆ i64            ┆ str                 ┆ str              ┆   ┆ str      ┆ str             ┆ str                             ┆ str               │\n",
       "╞══════════╪════════════════╪═════════════════════╪══════════════════╪═══╪══════════╪═════════════════╪═════════════════════════════════╪═══════════════════╡\n",
       "│ 20170731 ┆ 1501525374     ┆ 186231215995844689  ┆ Northern America ┆ … ┆ (direct) ┆ ORD201707311786 ┆ Google Men's Bike Short Sleeve… ┆ Apparel           │\n",
       "│ 20170731 ┆ 1501525374     ┆ 186231215995844689  ┆ Northern America ┆ … ┆ (direct) ┆ ORD201707311786 ┆ Google Men's Bike Short Sleeve… ┆ Apparel           │\n",
       "│ 20170731 ┆ 1501549028     ┆ 0345672699449577691 ┆ Northern America ┆ … ┆ (direct) ┆ ORD201707312107 ┆ Google Blackout Cap             ┆ Headgear          │\n",
       "│ 20170731 ┆ 1501549028     ┆ 0345672699449577691 ┆ Northern America ┆ … ┆ (direct) ┆ ORD201707312107 ┆ Google Women's Vintage Hero Te… ┆ Apparel           │\n",
       "│ 20170731 ┆ 1501549028     ┆ 0345672699449577691 ┆ Northern America ┆ … ┆ (direct) ┆ ORD201707312107 ┆ Google Men's Long & Lean Tee C… ┆ Apparel           │\n",
       "│ …        ┆ …              ┆ …                   ┆ …                ┆ … ┆ …        ┆ …               ┆ …                               ┆ …                 │\n",
       "│ 20170731 ┆ 1501537217     ┆ 7483600664917507409 ┆ Northern America ┆ … ┆ (direct) ┆ ORD201707312663 ┆ Google 25 oz Red Stainless Ste… ┆ Drinkware         │\n",
       "│ 20170731 ┆ 1501537217     ┆ 7483600664917507409 ┆ Northern America ┆ … ┆ (direct) ┆ ORD201707312663 ┆ Android 17oz Stainless Steel S… ┆ Drinkware         │\n",
       "│ 20170731 ┆ 1501537217     ┆ 7483600664917507409 ┆ Northern America ┆ … ┆ (direct) ┆ ORD201707312663 ┆ Android Men's Short Sleeve Her… ┆ Apparel           │\n",
       "│ 20170731 ┆ 1501537217     ┆ 7483600664917507409 ┆ Northern America ┆ … ┆ (direct) ┆ ORD201707312663 ┆ Android Men's Take Charge Shor… ┆ Apparel           │\n",
       "│ 20170731 ┆ 1501537217     ┆ 7483600664917507409 ┆ Northern America ┆ … ┆ (direct) ┆ ORD201707312663 ┆ Google Women's Scoop Neck Tee … ┆ Apparel           │\n",
       "└──────────┴────────────────┴─────────────────────┴──────────────────┴───┴──────────┴─────────────────┴─────────────────────────────────┴───────────────────┘"
      ]
     },
     "execution_count": 240,
     "metadata": {},
     "output_type": "execute_result"
    }
   ],
   "source": [
    "df.filter(pl.col('transactionId')!='null')"
   ]
  },
  {
   "cell_type": "code",
   "execution_count": 241,
   "metadata": {},
   "outputs": [
    {
     "data": {
      "text/html": [
       "<div><style>\n",
       ".dataframe > thead > tr,\n",
       ".dataframe > tbody > tr {\n",
       "  text-align: right;\n",
       "  white-space: pre-wrap;\n",
       "}\n",
       "</style>\n",
       "<small>shape: (5, 13)</small><table border=\"1\" class=\"dataframe\"><thead><tr><th>date</th><th>visitStartTime</th><th>fullVisitorId</th><th>subContinent</th><th>country</th><th>city</th><th>browser</th><th>operatingSystem</th><th>deviceCategory</th><th>source</th><th>transactionId</th><th>v2ProductName</th><th>v2ProductCategory</th></tr><tr><td>date</td><td>i64</td><td>str</td><td>str</td><td>str</td><td>str</td><td>str</td><td>str</td><td>str</td><td>str</td><td>str</td><td>str</td><td>str</td></tr></thead><tbody><tr><td>2017-07-31</td><td>1501520683</td><td>&quot;2219384770970157334&quot;</td><td>&quot;Eastern Europe&quot;</td><td>&quot;Slovakia&quot;</td><td>&quot;not available in demo dataset&quot;</td><td>&quot;Firefox&quot;</td><td>&quot;Windows&quot;</td><td>&quot;desktop&quot;</td><td>&quot;google&quot;</td><td>null</td><td>&quot;Google Lunch Bag&quot;</td><td>&quot;Home/Bags/More Bags/&quot;</td></tr><tr><td>2017-07-31</td><td>1501520683</td><td>&quot;2219384770970157334&quot;</td><td>&quot;Eastern Europe&quot;</td><td>&quot;Slovakia&quot;</td><td>&quot;not available in demo dataset&quot;</td><td>&quot;Firefox&quot;</td><td>&quot;Windows&quot;</td><td>&quot;desktop&quot;</td><td>&quot;google&quot;</td><td>null</td><td>&quot;Electronics Accessory Pouch&quot;</td><td>&quot;Home/Bags/More Bags/&quot;</td></tr><tr><td>2017-07-31</td><td>1501520683</td><td>&quot;2219384770970157334&quot;</td><td>&quot;Eastern Europe&quot;</td><td>&quot;Slovakia&quot;</td><td>&quot;not available in demo dataset&quot;</td><td>&quot;Firefox&quot;</td><td>&quot;Windows&quot;</td><td>&quot;desktop&quot;</td><td>&quot;google&quot;</td><td>null</td><td>&quot;Sport Bag&quot;</td><td>&quot;Home/Bags/More Bags/&quot;</td></tr><tr><td>2017-07-31</td><td>1501520683</td><td>&quot;2219384770970157334&quot;</td><td>&quot;Eastern Europe&quot;</td><td>&quot;Slovakia&quot;</td><td>&quot;not available in demo dataset&quot;</td><td>&quot;Firefox&quot;</td><td>&quot;Windows&quot;</td><td>&quot;desktop&quot;</td><td>&quot;google&quot;</td><td>null</td><td>&quot;Google Slim Utility Travel Bag&quot;</td><td>&quot;Home/Bags/More Bags/&quot;</td></tr><tr><td>2017-07-31</td><td>1501520683</td><td>&quot;2219384770970157334&quot;</td><td>&quot;Eastern Europe&quot;</td><td>&quot;Slovakia&quot;</td><td>&quot;not available in demo dataset&quot;</td><td>&quot;Firefox&quot;</td><td>&quot;Windows&quot;</td><td>&quot;desktop&quot;</td><td>&quot;google&quot;</td><td>null</td><td>&quot;Suitcase Organizer Cubes&quot;</td><td>&quot;Home/Bags/More Bags/&quot;</td></tr></tbody></table></div>"
      ],
      "text/plain": [
       "shape: (5, 13)\n",
       "┌────────────┬────────────────┬─────────────────────┬────────────────┬───┬────────┬───────────────┬────────────────────────────────┬──────────────────────┐\n",
       "│ date       ┆ visitStartTime ┆ fullVisitorId       ┆ subContinent   ┆ … ┆ source ┆ transactionId ┆ v2ProductName                  ┆ v2ProductCategory    │\n",
       "│ ---        ┆ ---            ┆ ---                 ┆ ---            ┆   ┆ ---    ┆ ---           ┆ ---                            ┆ ---                  │\n",
       "│ date       ┆ i64            ┆ str                 ┆ str            ┆   ┆ str    ┆ str           ┆ str                            ┆ str                  │\n",
       "╞════════════╪════════════════╪═════════════════════╪════════════════╪═══╪════════╪═══════════════╪════════════════════════════════╪══════════════════════╡\n",
       "│ 2017-07-31 ┆ 1501520683     ┆ 2219384770970157334 ┆ Eastern Europe ┆ … ┆ google ┆ null          ┆ Google Lunch Bag               ┆ Home/Bags/More Bags/ │\n",
       "│ 2017-07-31 ┆ 1501520683     ┆ 2219384770970157334 ┆ Eastern Europe ┆ … ┆ google ┆ null          ┆ Electronics Accessory Pouch    ┆ Home/Bags/More Bags/ │\n",
       "│ 2017-07-31 ┆ 1501520683     ┆ 2219384770970157334 ┆ Eastern Europe ┆ … ┆ google ┆ null          ┆ Sport Bag                      ┆ Home/Bags/More Bags/ │\n",
       "│ 2017-07-31 ┆ 1501520683     ┆ 2219384770970157334 ┆ Eastern Europe ┆ … ┆ google ┆ null          ┆ Google Slim Utility Travel Bag ┆ Home/Bags/More Bags/ │\n",
       "│ 2017-07-31 ┆ 1501520683     ┆ 2219384770970157334 ┆ Eastern Europe ┆ … ┆ google ┆ null          ┆ Suitcase Organizer Cubes       ┆ Home/Bags/More Bags/ │\n",
       "└────────────┴────────────────┴─────────────────────┴────────────────┴───┴────────┴───────────────┴────────────────────────────────┴──────────────────────┘"
      ]
     },
     "execution_count": 241,
     "metadata": {},
     "output_type": "execute_result"
    }
   ],
   "source": [
    "df_cleaned = df.with_columns(pl.col('date').str.strptime(pl.Date, format=\"%Y%m%d\"))\n",
    "df_cleaned.head()"
   ]
  },
  {
   "cell_type": "code",
   "execution_count": 242,
   "metadata": {},
   "outputs": [
    {
     "data": {
      "text/html": [
       "<div><style>\n",
       ".dataframe > thead > tr,\n",
       ".dataframe > tbody > tr {\n",
       "  text-align: right;\n",
       "  white-space: pre-wrap;\n",
       "}\n",
       "</style>\n",
       "<small>shape: (49_512, 13)</small><table border=\"1\" class=\"dataframe\"><thead><tr><th>date</th><th>visitStartTime</th><th>fullVisitorId</th><th>subContinent</th><th>country</th><th>city</th><th>browser</th><th>operatingSystem</th><th>deviceCategory</th><th>source</th><th>transactionId</th><th>v2ProductName</th><th>v2ProductCategory</th></tr><tr><td>date</td><td>i64</td><td>str</td><td>str</td><td>str</td><td>str</td><td>str</td><td>str</td><td>str</td><td>str</td><td>i32</td><td>str</td><td>str</td></tr></thead><tbody><tr><td>2017-07-31</td><td>1501520683</td><td>&quot;2219384770970157334&quot;</td><td>&quot;Eastern Europe&quot;</td><td>&quot;Slovakia&quot;</td><td>&quot;not available in demo dataset&quot;</td><td>&quot;Firefox&quot;</td><td>&quot;Windows&quot;</td><td>&quot;desktop&quot;</td><td>&quot;google&quot;</td><td>0</td><td>&quot;Google Lunch Bag&quot;</td><td>&quot;Home/Bags/More Bags/&quot;</td></tr><tr><td>2017-07-31</td><td>1501520683</td><td>&quot;2219384770970157334&quot;</td><td>&quot;Eastern Europe&quot;</td><td>&quot;Slovakia&quot;</td><td>&quot;not available in demo dataset&quot;</td><td>&quot;Firefox&quot;</td><td>&quot;Windows&quot;</td><td>&quot;desktop&quot;</td><td>&quot;google&quot;</td><td>0</td><td>&quot;Electronics Accessory Pouch&quot;</td><td>&quot;Home/Bags/More Bags/&quot;</td></tr><tr><td>2017-07-31</td><td>1501520683</td><td>&quot;2219384770970157334&quot;</td><td>&quot;Eastern Europe&quot;</td><td>&quot;Slovakia&quot;</td><td>&quot;not available in demo dataset&quot;</td><td>&quot;Firefox&quot;</td><td>&quot;Windows&quot;</td><td>&quot;desktop&quot;</td><td>&quot;google&quot;</td><td>0</td><td>&quot;Sport Bag&quot;</td><td>&quot;Home/Bags/More Bags/&quot;</td></tr><tr><td>2017-07-31</td><td>1501520683</td><td>&quot;2219384770970157334&quot;</td><td>&quot;Eastern Europe&quot;</td><td>&quot;Slovakia&quot;</td><td>&quot;not available in demo dataset&quot;</td><td>&quot;Firefox&quot;</td><td>&quot;Windows&quot;</td><td>&quot;desktop&quot;</td><td>&quot;google&quot;</td><td>0</td><td>&quot;Google Slim Utility Travel Bag&quot;</td><td>&quot;Home/Bags/More Bags/&quot;</td></tr><tr><td>2017-07-31</td><td>1501520683</td><td>&quot;2219384770970157334&quot;</td><td>&quot;Eastern Europe&quot;</td><td>&quot;Slovakia&quot;</td><td>&quot;not available in demo dataset&quot;</td><td>&quot;Firefox&quot;</td><td>&quot;Windows&quot;</td><td>&quot;desktop&quot;</td><td>&quot;google&quot;</td><td>0</td><td>&quot;Suitcase Organizer Cubes&quot;</td><td>&quot;Home/Bags/More Bags/&quot;</td></tr><tr><td>&hellip;</td><td>&hellip;</td><td>&hellip;</td><td>&hellip;</td><td>&hellip;</td><td>&hellip;</td><td>&hellip;</td><td>&hellip;</td><td>&hellip;</td><td>&hellip;</td><td>&hellip;</td><td>&hellip;</td><td>&hellip;</td></tr><tr><td>2017-07-31</td><td>1501537217</td><td>&quot;7483600664917507409&quot;</td><td>&quot;Northern America&quot;</td><td>&quot;United States&quot;</td><td>&quot;Mountain View&quot;</td><td>&quot;Chrome&quot;</td><td>&quot;Macintosh&quot;</td><td>&quot;desktop&quot;</td><td>&quot;(direct)&quot;</td><td>1</td><td>&quot;Android 17oz Stainless Steel S…</td><td>&quot;Drinkware&quot;</td></tr><tr><td>2017-07-31</td><td>1501537217</td><td>&quot;7483600664917507409&quot;</td><td>&quot;Northern America&quot;</td><td>&quot;United States&quot;</td><td>&quot;Mountain View&quot;</td><td>&quot;Chrome&quot;</td><td>&quot;Macintosh&quot;</td><td>&quot;desktop&quot;</td><td>&quot;(direct)&quot;</td><td>1</td><td>&quot;Android Men&#x27;s Short Sleeve Her…</td><td>&quot;Apparel&quot;</td></tr><tr><td>2017-07-31</td><td>1501537217</td><td>&quot;7483600664917507409&quot;</td><td>&quot;Northern America&quot;</td><td>&quot;United States&quot;</td><td>&quot;Mountain View&quot;</td><td>&quot;Chrome&quot;</td><td>&quot;Macintosh&quot;</td><td>&quot;desktop&quot;</td><td>&quot;(direct)&quot;</td><td>1</td><td>&quot;Android Men&#x27;s Take Charge Shor…</td><td>&quot;Apparel&quot;</td></tr><tr><td>2017-07-31</td><td>1501537217</td><td>&quot;7483600664917507409&quot;</td><td>&quot;Northern America&quot;</td><td>&quot;United States&quot;</td><td>&quot;Mountain View&quot;</td><td>&quot;Chrome&quot;</td><td>&quot;Macintosh&quot;</td><td>&quot;desktop&quot;</td><td>&quot;(direct)&quot;</td><td>1</td><td>&quot;Google Women&#x27;s Scoop Neck Tee …</td><td>&quot;Apparel&quot;</td></tr><tr><td>2017-07-31</td><td>1501537217</td><td>&quot;7483600664917507409&quot;</td><td>&quot;Northern America&quot;</td><td>&quot;United States&quot;</td><td>&quot;Mountain View&quot;</td><td>&quot;Chrome&quot;</td><td>&quot;Macintosh&quot;</td><td>&quot;desktop&quot;</td><td>&quot;(direct)&quot;</td><td>0</td><td>&quot;Google Men&#x27;s 100% Cotton Short…</td><td>&quot;(not set)&quot;</td></tr></tbody></table></div>"
      ],
      "text/plain": [
       "shape: (49_512, 13)\n",
       "┌────────────┬────────────────┬─────────────────────┬──────────────────┬───┬──────────┬───────────────┬─────────────────────────────────┬──────────────────────┐\n",
       "│ date       ┆ visitStartTime ┆ fullVisitorId       ┆ subContinent     ┆ … ┆ source   ┆ transactionId ┆ v2ProductName                   ┆ v2ProductCategory    │\n",
       "│ ---        ┆ ---            ┆ ---                 ┆ ---              ┆   ┆ ---      ┆ ---           ┆ ---                             ┆ ---                  │\n",
       "│ date       ┆ i64            ┆ str                 ┆ str              ┆   ┆ str      ┆ i32           ┆ str                             ┆ str                  │\n",
       "╞════════════╪════════════════╪═════════════════════╪══════════════════╪═══╪══════════╪═══════════════╪═════════════════════════════════╪══════════════════════╡\n",
       "│ 2017-07-31 ┆ 1501520683     ┆ 2219384770970157334 ┆ Eastern Europe   ┆ … ┆ google   ┆ 0             ┆ Google Lunch Bag                ┆ Home/Bags/More Bags/ │\n",
       "│ 2017-07-31 ┆ 1501520683     ┆ 2219384770970157334 ┆ Eastern Europe   ┆ … ┆ google   ┆ 0             ┆ Electronics Accessory Pouch     ┆ Home/Bags/More Bags/ │\n",
       "│ 2017-07-31 ┆ 1501520683     ┆ 2219384770970157334 ┆ Eastern Europe   ┆ … ┆ google   ┆ 0             ┆ Sport Bag                       ┆ Home/Bags/More Bags/ │\n",
       "│ 2017-07-31 ┆ 1501520683     ┆ 2219384770970157334 ┆ Eastern Europe   ┆ … ┆ google   ┆ 0             ┆ Google Slim Utility Travel Bag  ┆ Home/Bags/More Bags/ │\n",
       "│ 2017-07-31 ┆ 1501520683     ┆ 2219384770970157334 ┆ Eastern Europe   ┆ … ┆ google   ┆ 0             ┆ Suitcase Organizer Cubes        ┆ Home/Bags/More Bags/ │\n",
       "│ …          ┆ …              ┆ …                   ┆ …                ┆ … ┆ …        ┆ …             ┆ …                               ┆ …                    │\n",
       "│ 2017-07-31 ┆ 1501537217     ┆ 7483600664917507409 ┆ Northern America ┆ … ┆ (direct) ┆ 1             ┆ Android 17oz Stainless Steel S… ┆ Drinkware            │\n",
       "│ 2017-07-31 ┆ 1501537217     ┆ 7483600664917507409 ┆ Northern America ┆ … ┆ (direct) ┆ 1             ┆ Android Men's Short Sleeve Her… ┆ Apparel              │\n",
       "│ 2017-07-31 ┆ 1501537217     ┆ 7483600664917507409 ┆ Northern America ┆ … ┆ (direct) ┆ 1             ┆ Android Men's Take Charge Shor… ┆ Apparel              │\n",
       "│ 2017-07-31 ┆ 1501537217     ┆ 7483600664917507409 ┆ Northern America ┆ … ┆ (direct) ┆ 1             ┆ Google Women's Scoop Neck Tee … ┆ Apparel              │\n",
       "│ 2017-07-31 ┆ 1501537217     ┆ 7483600664917507409 ┆ Northern America ┆ … ┆ (direct) ┆ 0             ┆ Google Men's 100% Cotton Short… ┆ (not set)            │\n",
       "└────────────┴────────────────┴─────────────────────┴──────────────────┴───┴──────────┴───────────────┴─────────────────────────────────┴──────────────────────┘"
      ]
     },
     "execution_count": 242,
     "metadata": {},
     "output_type": "execute_result"
    }
   ],
   "source": [
    "df_cleaned = df_cleaned.with_columns(pl.when(pl.col('transactionId') != 'null').then(1).otherwise(0).alias(\"transactionId\"))\n",
    "df_cleaned"
   ]
  },
  {
   "cell_type": "code",
   "execution_count": 243,
   "metadata": {},
   "outputs": [
    {
     "data": {
      "text/html": [
       "<div><style>\n",
       ".dataframe > thead > tr,\n",
       ".dataframe > tbody > tr {\n",
       "  text-align: right;\n",
       "  white-space: pre-wrap;\n",
       "}\n",
       "</style>\n",
       "<small>shape: (31_582, 5)</small><table border=\"1\" class=\"dataframe\"><thead><tr><th>fullVisitorId</th><th>country</th><th>browser</th><th>transactionId</th><th>v2ProductName</th></tr><tr><td>str</td><td>str</td><td>str</td><td>i32</td><td>str</td></tr></thead><tbody><tr><td>&quot;9308310352918219134&quot;</td><td>&quot;United States&quot;</td><td>&quot;Chrome&quot;</td><td>0</td><td>&quot;Google Snapback Hat Black&quot;</td></tr><tr><td>&quot;9308310352918219134&quot;</td><td>&quot;United States&quot;</td><td>&quot;Chrome&quot;</td><td>0</td><td>&quot;Android Wool Heather Cap Heath…</td></tr><tr><td>&quot;9308310352918219134&quot;</td><td>&quot;United States&quot;</td><td>&quot;Chrome&quot;</td><td>0</td><td>&quot;Google Blackout Cap&quot;</td></tr><tr><td>&quot;9308310352918219134&quot;</td><td>&quot;United States&quot;</td><td>&quot;Chrome&quot;</td><td>0</td><td>&quot;Google 5-Panel Snapback Cap&quot;</td></tr><tr><td>&quot;9308310352918219134&quot;</td><td>&quot;United States&quot;</td><td>&quot;Chrome&quot;</td><td>0</td><td>&quot;Android 5-Panel Low Cap&quot;</td></tr><tr><td>&hellip;</td><td>&hellip;</td><td>&hellip;</td><td>&hellip;</td><td>&hellip;</td></tr><tr><td>&quot;7483600664917507409&quot;</td><td>&quot;United States&quot;</td><td>&quot;Chrome&quot;</td><td>1</td><td>&quot;Android 17oz Stainless Steel S…</td></tr><tr><td>&quot;7483600664917507409&quot;</td><td>&quot;United States&quot;</td><td>&quot;Chrome&quot;</td><td>1</td><td>&quot;Android Men&#x27;s Short Sleeve Her…</td></tr><tr><td>&quot;7483600664917507409&quot;</td><td>&quot;United States&quot;</td><td>&quot;Chrome&quot;</td><td>1</td><td>&quot;Android Men&#x27;s Take Charge Shor…</td></tr><tr><td>&quot;7483600664917507409&quot;</td><td>&quot;United States&quot;</td><td>&quot;Chrome&quot;</td><td>1</td><td>&quot;Google Women&#x27;s Scoop Neck Tee …</td></tr><tr><td>&quot;7483600664917507409&quot;</td><td>&quot;United States&quot;</td><td>&quot;Chrome&quot;</td><td>0</td><td>&quot;Google Men&#x27;s 100% Cotton Short…</td></tr></tbody></table></div>"
      ],
      "text/plain": [
       "shape: (31_582, 5)\n",
       "┌─────────────────────┬───────────────┬─────────┬───────────────┬─────────────────────────────────┐\n",
       "│ fullVisitorId       ┆ country       ┆ browser ┆ transactionId ┆ v2ProductName                   │\n",
       "│ ---                 ┆ ---           ┆ ---     ┆ ---           ┆ ---                             │\n",
       "│ str                 ┆ str           ┆ str     ┆ i32           ┆ str                             │\n",
       "╞═════════════════════╪═══════════════╪═════════╪═══════════════╪═════════════════════════════════╡\n",
       "│ 9308310352918219134 ┆ United States ┆ Chrome  ┆ 0             ┆ Google Snapback Hat Black       │\n",
       "│ 9308310352918219134 ┆ United States ┆ Chrome  ┆ 0             ┆ Android Wool Heather Cap Heath… │\n",
       "│ 9308310352918219134 ┆ United States ┆ Chrome  ┆ 0             ┆ Google Blackout Cap             │\n",
       "│ 9308310352918219134 ┆ United States ┆ Chrome  ┆ 0             ┆ Google 5-Panel Snapback Cap     │\n",
       "│ 9308310352918219134 ┆ United States ┆ Chrome  ┆ 0             ┆ Android 5-Panel Low Cap         │\n",
       "│ …                   ┆ …             ┆ …       ┆ …             ┆ …                               │\n",
       "│ 7483600664917507409 ┆ United States ┆ Chrome  ┆ 1             ┆ Android 17oz Stainless Steel S… │\n",
       "│ 7483600664917507409 ┆ United States ┆ Chrome  ┆ 1             ┆ Android Men's Short Sleeve Her… │\n",
       "│ 7483600664917507409 ┆ United States ┆ Chrome  ┆ 1             ┆ Android Men's Take Charge Shor… │\n",
       "│ 7483600664917507409 ┆ United States ┆ Chrome  ┆ 1             ┆ Google Women's Scoop Neck Tee … │\n",
       "│ 7483600664917507409 ┆ United States ┆ Chrome  ┆ 0             ┆ Google Men's 100% Cotton Short… │\n",
       "└─────────────────────┴───────────────┴─────────┴───────────────┴─────────────────────────────────┘"
      ]
     },
     "execution_count": 243,
     "metadata": {},
     "output_type": "execute_result"
    }
   ],
   "source": [
    "encoding = df_cleaned.filter(pl.col('country') == \"United States\").select(\n",
    "    pl.col('fullVisitorId'),pl.col('country'), pl.col('browser'),\n",
    "    pl.col('transactionId'),pl.col('v2ProductName')\n",
    ")\n",
    "encoding"
   ]
  },
  {
   "cell_type": "code",
   "execution_count": 244,
   "metadata": {},
   "outputs": [
    {
     "data": {
      "text/html": [
       "<div><style>\n",
       ".dataframe > thead > tr,\n",
       ".dataframe > tbody > tr {\n",
       "  text-align: right;\n",
       "  white-space: pre-wrap;\n",
       "}\n",
       "</style>\n",
       "<small>shape: (1_114, 5)</small><table border=\"1\" class=\"dataframe\"><thead><tr><th>fullVisitorId</th><th>country</th><th>browser</th><th>transactionId</th><th>v2ProductName</th></tr><tr><td>str</td><td>str</td><td>str</td><td>i32</td><td>str</td></tr></thead><tbody><tr><td>&quot;6933896823600086395&quot;</td><td>&quot;Canada&quot;</td><td>&quot;Chrome&quot;</td><td>0</td><td>&quot;Gift Card- $100.00&quot;</td></tr><tr><td>&quot;6933896823600086395&quot;</td><td>&quot;Canada&quot;</td><td>&quot;Chrome&quot;</td><td>0</td><td>&quot;Gift Card - $25.00&quot;</td></tr><tr><td>&quot;6933896823600086395&quot;</td><td>&quot;Canada&quot;</td><td>&quot;Chrome&quot;</td><td>0</td><td>&quot;Gift Card - $250.00&quot;</td></tr><tr><td>&quot;6933896823600086395&quot;</td><td>&quot;Canada&quot;</td><td>&quot;Chrome&quot;</td><td>0</td><td>&quot;Gift Card - $50.00&quot;</td></tr><tr><td>&quot;7700062233308774111&quot;</td><td>&quot;Canada&quot;</td><td>&quot;Chrome&quot;</td><td>0</td><td>&quot;Google Men&#x27;s Long Sleeve Ragla…</td></tr><tr><td>&hellip;</td><td>&hellip;</td><td>&hellip;</td><td>&hellip;</td><td>&hellip;</td></tr><tr><td>&quot;7444499703471460562&quot;</td><td>&quot;Canada&quot;</td><td>&quot;Chrome&quot;</td><td>0</td><td>&quot;Google Women&#x27;s Quilted Insulat…</td></tr><tr><td>&quot;7444499703471460562&quot;</td><td>&quot;Canada&quot;</td><td>&quot;Chrome&quot;</td><td>0</td><td>&quot;Google Women&#x27;s Quilted Insulat…</td></tr><tr><td>&quot;7444499703471460562&quot;</td><td>&quot;Canada&quot;</td><td>&quot;Chrome&quot;</td><td>0</td><td>&quot;Google Women&#x27;s 1/4 Zip Jacket …</td></tr><tr><td>&quot;7444499703471460562&quot;</td><td>&quot;Canada&quot;</td><td>&quot;Chrome&quot;</td><td>0</td><td>&quot;Google Women&#x27;s Performance Ful…</td></tr><tr><td>&quot;7444499703471460562&quot;</td><td>&quot;Canada&quot;</td><td>&quot;Chrome&quot;</td><td>0</td><td>&quot;Google Women&#x27;s Weatherblock Sh…</td></tr></tbody></table></div>"
      ],
      "text/plain": [
       "shape: (1_114, 5)\n",
       "┌─────────────────────┬─────────┬─────────┬───────────────┬─────────────────────────────────┐\n",
       "│ fullVisitorId       ┆ country ┆ browser ┆ transactionId ┆ v2ProductName                   │\n",
       "│ ---                 ┆ ---     ┆ ---     ┆ ---           ┆ ---                             │\n",
       "│ str                 ┆ str     ┆ str     ┆ i32           ┆ str                             │\n",
       "╞═════════════════════╪═════════╪═════════╪═══════════════╪═════════════════════════════════╡\n",
       "│ 6933896823600086395 ┆ Canada  ┆ Chrome  ┆ 0             ┆ Gift Card- $100.00              │\n",
       "│ 6933896823600086395 ┆ Canada  ┆ Chrome  ┆ 0             ┆ Gift Card - $25.00              │\n",
       "│ 6933896823600086395 ┆ Canada  ┆ Chrome  ┆ 0             ┆ Gift Card - $250.00             │\n",
       "│ 6933896823600086395 ┆ Canada  ┆ Chrome  ┆ 0             ┆ Gift Card - $50.00              │\n",
       "│ 7700062233308774111 ┆ Canada  ┆ Chrome  ┆ 0             ┆ Google Men's Long Sleeve Ragla… │\n",
       "│ …                   ┆ …       ┆ …       ┆ …             ┆ …                               │\n",
       "│ 7444499703471460562 ┆ Canada  ┆ Chrome  ┆ 0             ┆ Google Women's Quilted Insulat… │\n",
       "│ 7444499703471460562 ┆ Canada  ┆ Chrome  ┆ 0             ┆ Google Women's Quilted Insulat… │\n",
       "│ 7444499703471460562 ┆ Canada  ┆ Chrome  ┆ 0             ┆ Google Women's 1/4 Zip Jacket … │\n",
       "│ 7444499703471460562 ┆ Canada  ┆ Chrome  ┆ 0             ┆ Google Women's Performance Ful… │\n",
       "│ 7444499703471460562 ┆ Canada  ┆ Chrome  ┆ 0             ┆ Google Women's Weatherblock Sh… │\n",
       "└─────────────────────┴─────────┴─────────┴───────────────┴─────────────────────────────────┘"
      ]
     },
     "execution_count": 244,
     "metadata": {},
     "output_type": "execute_result"
    }
   ],
   "source": [
    "canada = df_cleaned.filter(pl.col('country') == \"Canada\").select(\n",
    "    pl.col('fullVisitorId'),pl.col('country'), pl.col('browser'),\n",
    "    pl.col('transactionId'),pl.col('v2ProductName')\n",
    ")\n",
    "# canada = canada.with_columns(pl.col('transactionId').mean().alias('transactionId'))\n",
    "canada"
   ]
  },
  {
   "cell_type": "code",
   "execution_count": 245,
   "metadata": {},
   "outputs": [
    {
     "data": {
      "text/html": [
       "<div><style>\n",
       ".dataframe > thead > tr,\n",
       ".dataframe > tbody > tr {\n",
       "  text-align: right;\n",
       "  white-space: pre-wrap;\n",
       "}\n",
       "</style>\n",
       "<small>shape: (32_696, 5)</small><table border=\"1\" class=\"dataframe\"><thead><tr><th>fullVisitorId</th><th>country</th><th>browser</th><th>transactionId</th><th>v2ProductName</th></tr><tr><td>str</td><td>str</td><td>str</td><td>i32</td><td>str</td></tr></thead><tbody><tr><td>&quot;9308310352918219134&quot;</td><td>&quot;United States&quot;</td><td>&quot;Chrome&quot;</td><td>0</td><td>&quot;Google Snapback Hat Black&quot;</td></tr><tr><td>&quot;9308310352918219134&quot;</td><td>&quot;United States&quot;</td><td>&quot;Chrome&quot;</td><td>0</td><td>&quot;Android Wool Heather Cap Heath…</td></tr><tr><td>&quot;9308310352918219134&quot;</td><td>&quot;United States&quot;</td><td>&quot;Chrome&quot;</td><td>0</td><td>&quot;Google Blackout Cap&quot;</td></tr><tr><td>&quot;9308310352918219134&quot;</td><td>&quot;United States&quot;</td><td>&quot;Chrome&quot;</td><td>0</td><td>&quot;Google 5-Panel Snapback Cap&quot;</td></tr><tr><td>&quot;9308310352918219134&quot;</td><td>&quot;United States&quot;</td><td>&quot;Chrome&quot;</td><td>0</td><td>&quot;Android 5-Panel Low Cap&quot;</td></tr><tr><td>&hellip;</td><td>&hellip;</td><td>&hellip;</td><td>&hellip;</td><td>&hellip;</td></tr><tr><td>&quot;7444499703471460562&quot;</td><td>&quot;Canada&quot;</td><td>&quot;Chrome&quot;</td><td>0</td><td>&quot;Google Women&#x27;s Quilted Insulat…</td></tr><tr><td>&quot;7444499703471460562&quot;</td><td>&quot;Canada&quot;</td><td>&quot;Chrome&quot;</td><td>0</td><td>&quot;Google Women&#x27;s Quilted Insulat…</td></tr><tr><td>&quot;7444499703471460562&quot;</td><td>&quot;Canada&quot;</td><td>&quot;Chrome&quot;</td><td>0</td><td>&quot;Google Women&#x27;s 1/4 Zip Jacket …</td></tr><tr><td>&quot;7444499703471460562&quot;</td><td>&quot;Canada&quot;</td><td>&quot;Chrome&quot;</td><td>0</td><td>&quot;Google Women&#x27;s Performance Ful…</td></tr><tr><td>&quot;7444499703471460562&quot;</td><td>&quot;Canada&quot;</td><td>&quot;Chrome&quot;</td><td>0</td><td>&quot;Google Women&#x27;s Weatherblock Sh…</td></tr></tbody></table></div>"
      ],
      "text/plain": [
       "shape: (32_696, 5)\n",
       "┌─────────────────────┬───────────────┬─────────┬───────────────┬─────────────────────────────────┐\n",
       "│ fullVisitorId       ┆ country       ┆ browser ┆ transactionId ┆ v2ProductName                   │\n",
       "│ ---                 ┆ ---           ┆ ---     ┆ ---           ┆ ---                             │\n",
       "│ str                 ┆ str           ┆ str     ┆ i32           ┆ str                             │\n",
       "╞═════════════════════╪═══════════════╪═════════╪═══════════════╪═════════════════════════════════╡\n",
       "│ 9308310352918219134 ┆ United States ┆ Chrome  ┆ 0             ┆ Google Snapback Hat Black       │\n",
       "│ 9308310352918219134 ┆ United States ┆ Chrome  ┆ 0             ┆ Android Wool Heather Cap Heath… │\n",
       "│ 9308310352918219134 ┆ United States ┆ Chrome  ┆ 0             ┆ Google Blackout Cap             │\n",
       "│ 9308310352918219134 ┆ United States ┆ Chrome  ┆ 0             ┆ Google 5-Panel Snapback Cap     │\n",
       "│ 9308310352918219134 ┆ United States ┆ Chrome  ┆ 0             ┆ Android 5-Panel Low Cap         │\n",
       "│ …                   ┆ …             ┆ …       ┆ …             ┆ …                               │\n",
       "│ 7444499703471460562 ┆ Canada        ┆ Chrome  ┆ 0             ┆ Google Women's Quilted Insulat… │\n",
       "│ 7444499703471460562 ┆ Canada        ┆ Chrome  ┆ 0             ┆ Google Women's Quilted Insulat… │\n",
       "│ 7444499703471460562 ┆ Canada        ┆ Chrome  ┆ 0             ┆ Google Women's 1/4 Zip Jacket … │\n",
       "│ 7444499703471460562 ┆ Canada        ┆ Chrome  ┆ 0             ┆ Google Women's Performance Ful… │\n",
       "│ 7444499703471460562 ┆ Canada        ┆ Chrome  ┆ 0             ┆ Google Women's Weatherblock Sh… │\n",
       "└─────────────────────┴───────────────┴─────────┴───────────────┴─────────────────────────────────┘"
      ]
     },
     "execution_count": 245,
     "metadata": {},
     "output_type": "execute_result"
    }
   ],
   "source": [
    "new_df = encoding.vstack(canada)\n",
    "new_df"
   ]
  },
  {
   "cell_type": "code",
   "execution_count": 246,
   "metadata": {},
   "outputs": [
    {
     "data": {
      "text/html": [
       "<div><style>\n",
       ".dataframe > thead > tr,\n",
       ".dataframe > tbody > tr {\n",
       "  text-align: right;\n",
       "  white-space: pre-wrap;\n",
       "}\n",
       "</style>\n",
       "<small>shape: (32_696, 5)</small><table border=\"1\" class=\"dataframe\"><thead><tr><th>fullVisitorId</th><th>country</th><th>browser</th><th>transactionId</th><th>v2ProductName</th></tr><tr><td>str</td><td>i32</td><td>str</td><td>i32</td><td>str</td></tr></thead><tbody><tr><td>&quot;9308310352918219134&quot;</td><td>0</td><td>&quot;Chrome&quot;</td><td>0</td><td>&quot;Google Snapback Hat Black&quot;</td></tr><tr><td>&quot;9308310352918219134&quot;</td><td>0</td><td>&quot;Chrome&quot;</td><td>0</td><td>&quot;Android Wool Heather Cap Heath…</td></tr><tr><td>&quot;9308310352918219134&quot;</td><td>0</td><td>&quot;Chrome&quot;</td><td>0</td><td>&quot;Google Blackout Cap&quot;</td></tr><tr><td>&quot;9308310352918219134&quot;</td><td>0</td><td>&quot;Chrome&quot;</td><td>0</td><td>&quot;Google 5-Panel Snapback Cap&quot;</td></tr><tr><td>&quot;9308310352918219134&quot;</td><td>0</td><td>&quot;Chrome&quot;</td><td>0</td><td>&quot;Android 5-Panel Low Cap&quot;</td></tr><tr><td>&hellip;</td><td>&hellip;</td><td>&hellip;</td><td>&hellip;</td><td>&hellip;</td></tr><tr><td>&quot;7444499703471460562&quot;</td><td>1</td><td>&quot;Chrome&quot;</td><td>0</td><td>&quot;Google Women&#x27;s Quilted Insulat…</td></tr><tr><td>&quot;7444499703471460562&quot;</td><td>1</td><td>&quot;Chrome&quot;</td><td>0</td><td>&quot;Google Women&#x27;s Quilted Insulat…</td></tr><tr><td>&quot;7444499703471460562&quot;</td><td>1</td><td>&quot;Chrome&quot;</td><td>0</td><td>&quot;Google Women&#x27;s 1/4 Zip Jacket …</td></tr><tr><td>&quot;7444499703471460562&quot;</td><td>1</td><td>&quot;Chrome&quot;</td><td>0</td><td>&quot;Google Women&#x27;s Performance Ful…</td></tr><tr><td>&quot;7444499703471460562&quot;</td><td>1</td><td>&quot;Chrome&quot;</td><td>0</td><td>&quot;Google Women&#x27;s Weatherblock Sh…</td></tr></tbody></table></div>"
      ],
      "text/plain": [
       "shape: (32_696, 5)\n",
       "┌─────────────────────┬─────────┬─────────┬───────────────┬─────────────────────────────────┐\n",
       "│ fullVisitorId       ┆ country ┆ browser ┆ transactionId ┆ v2ProductName                   │\n",
       "│ ---                 ┆ ---     ┆ ---     ┆ ---           ┆ ---                             │\n",
       "│ str                 ┆ i32     ┆ str     ┆ i32           ┆ str                             │\n",
       "╞═════════════════════╪═════════╪═════════╪═══════════════╪═════════════════════════════════╡\n",
       "│ 9308310352918219134 ┆ 0       ┆ Chrome  ┆ 0             ┆ Google Snapback Hat Black       │\n",
       "│ 9308310352918219134 ┆ 0       ┆ Chrome  ┆ 0             ┆ Android Wool Heather Cap Heath… │\n",
       "│ 9308310352918219134 ┆ 0       ┆ Chrome  ┆ 0             ┆ Google Blackout Cap             │\n",
       "│ 9308310352918219134 ┆ 0       ┆ Chrome  ┆ 0             ┆ Google 5-Panel Snapback Cap     │\n",
       "│ 9308310352918219134 ┆ 0       ┆ Chrome  ┆ 0             ┆ Android 5-Panel Low Cap         │\n",
       "│ …                   ┆ …       ┆ …       ┆ …             ┆ …                               │\n",
       "│ 7444499703471460562 ┆ 1       ┆ Chrome  ┆ 0             ┆ Google Women's Quilted Insulat… │\n",
       "│ 7444499703471460562 ┆ 1       ┆ Chrome  ┆ 0             ┆ Google Women's Quilted Insulat… │\n",
       "│ 7444499703471460562 ┆ 1       ┆ Chrome  ┆ 0             ┆ Google Women's 1/4 Zip Jacket … │\n",
       "│ 7444499703471460562 ┆ 1       ┆ Chrome  ┆ 0             ┆ Google Women's Performance Ful… │\n",
       "│ 7444499703471460562 ┆ 1       ┆ Chrome  ┆ 0             ┆ Google Women's Weatherblock Sh… │\n",
       "└─────────────────────┴─────────┴─────────┴───────────────┴─────────────────────────────────┘"
      ]
     },
     "execution_count": 246,
     "metadata": {},
     "output_type": "execute_result"
    }
   ],
   "source": [
    "new_df = new_df.with_columns(pl.when(pl.col('country') != 'United States').then(1).otherwise(0).alias(\"country\"))\n",
    "new_df"
   ]
  },
  {
   "cell_type": "code",
   "execution_count": 247,
   "metadata": {},
   "outputs": [
    {
     "data": {
      "text/html": [
       "<div><style>\n",
       ".dataframe > thead > tr,\n",
       ".dataframe > tbody > tr {\n",
       "  text-align: right;\n",
       "  white-space: pre-wrap;\n",
       "}\n",
       "</style>\n",
       "<small>shape: (229, 1)</small><table border=\"1\" class=\"dataframe\"><thead><tr><th>v2ProductName</th></tr><tr><td>str</td></tr></thead><tbody><tr><td>&quot;Google G Noise-reducing Blueto…</td></tr><tr><td>&quot;Google Toddler Short Sleeve Te…</td></tr><tr><td>&quot;Google Men&#x27;s Vintage Badge Tee…</td></tr><tr><td>&quot;Foam Can and Bottle Cooler&quot;</td></tr><tr><td>&quot;25L Classic Rucksack&quot;</td></tr><tr><td>&hellip;</td></tr><tr><td>&quot;YouTube Men&#x27;s Short Sleeve Her…</td></tr><tr><td>&quot;Google Women&#x27;s 1/4 Zip Jacket …</td></tr><tr><td>&quot;Spiral Notebook and Pen Set&quot;</td></tr><tr><td>&quot;Windup Android&quot;</td></tr><tr><td>&quot;Google Metallic Notebook Set&quot;</td></tr></tbody></table></div>"
      ],
      "text/plain": [
       "shape: (229, 1)\n",
       "┌─────────────────────────────────┐\n",
       "│ v2ProductName                   │\n",
       "│ ---                             │\n",
       "│ str                             │\n",
       "╞═════════════════════════════════╡\n",
       "│ Google G Noise-reducing Blueto… │\n",
       "│ Google Toddler Short Sleeve Te… │\n",
       "│ Google Men's Vintage Badge Tee… │\n",
       "│ Foam Can and Bottle Cooler      │\n",
       "│ 25L Classic Rucksack            │\n",
       "│ …                               │\n",
       "│ YouTube Men's Short Sleeve Her… │\n",
       "│ Google Women's 1/4 Zip Jacket … │\n",
       "│ Spiral Notebook and Pen Set     │\n",
       "│ Windup Android                  │\n",
       "│ Google Metallic Notebook Set    │\n",
       "└─────────────────────────────────┘"
      ]
     },
     "execution_count": 247,
     "metadata": {},
     "output_type": "execute_result"
    }
   ],
   "source": [
    "new_df.select(pl.col('v2ProductName')).unique()"
   ]
  },
  {
   "cell_type": "code",
   "execution_count": 248,
   "metadata": {},
   "outputs": [
    {
     "name": "stderr",
     "output_type": "stream",
     "text": [
      "c:\\Users\\andre\\AppData\\Local\\Programs\\Python\\Python312\\Lib\\site-packages\\sklearn\\preprocessing\\_label.py:97: DataConversionWarning: A column-vector y was passed when a 1d array was expected. Please change the shape of y to (n_samples, ), for example using ravel().\n",
      "  y = column_or_1d(y, warn=True)\n"
     ]
    },
    {
     "data": {
      "text/html": [
       "<style>#sk-container-id-13 {\n",
       "  /* Definition of color scheme common for light and dark mode */\n",
       "  --sklearn-color-text: black;\n",
       "  --sklearn-color-line: gray;\n",
       "  /* Definition of color scheme for unfitted estimators */\n",
       "  --sklearn-color-unfitted-level-0: #fff5e6;\n",
       "  --sklearn-color-unfitted-level-1: #f6e4d2;\n",
       "  --sklearn-color-unfitted-level-2: #ffe0b3;\n",
       "  --sklearn-color-unfitted-level-3: chocolate;\n",
       "  /* Definition of color scheme for fitted estimators */\n",
       "  --sklearn-color-fitted-level-0: #f0f8ff;\n",
       "  --sklearn-color-fitted-level-1: #d4ebff;\n",
       "  --sklearn-color-fitted-level-2: #b3dbfd;\n",
       "  --sklearn-color-fitted-level-3: cornflowerblue;\n",
       "\n",
       "  /* Specific color for light theme */\n",
       "  --sklearn-color-text-on-default-background: var(--sg-text-color, var(--theme-code-foreground, var(--jp-content-font-color1, black)));\n",
       "  --sklearn-color-background: var(--sg-background-color, var(--theme-background, var(--jp-layout-color0, white)));\n",
       "  --sklearn-color-border-box: var(--sg-text-color, var(--theme-code-foreground, var(--jp-content-font-color1, black)));\n",
       "  --sklearn-color-icon: #696969;\n",
       "\n",
       "  @media (prefers-color-scheme: dark) {\n",
       "    /* Redefinition of color scheme for dark theme */\n",
       "    --sklearn-color-text-on-default-background: var(--sg-text-color, var(--theme-code-foreground, var(--jp-content-font-color1, white)));\n",
       "    --sklearn-color-background: var(--sg-background-color, var(--theme-background, var(--jp-layout-color0, #111)));\n",
       "    --sklearn-color-border-box: var(--sg-text-color, var(--theme-code-foreground, var(--jp-content-font-color1, white)));\n",
       "    --sklearn-color-icon: #878787;\n",
       "  }\n",
       "}\n",
       "\n",
       "#sk-container-id-13 {\n",
       "  color: var(--sklearn-color-text);\n",
       "}\n",
       "\n",
       "#sk-container-id-13 pre {\n",
       "  padding: 0;\n",
       "}\n",
       "\n",
       "#sk-container-id-13 input.sk-hidden--visually {\n",
       "  border: 0;\n",
       "  clip: rect(1px 1px 1px 1px);\n",
       "  clip: rect(1px, 1px, 1px, 1px);\n",
       "  height: 1px;\n",
       "  margin: -1px;\n",
       "  overflow: hidden;\n",
       "  padding: 0;\n",
       "  position: absolute;\n",
       "  width: 1px;\n",
       "}\n",
       "\n",
       "#sk-container-id-13 div.sk-dashed-wrapped {\n",
       "  border: 1px dashed var(--sklearn-color-line);\n",
       "  margin: 0 0.4em 0.5em 0.4em;\n",
       "  box-sizing: border-box;\n",
       "  padding-bottom: 0.4em;\n",
       "  background-color: var(--sklearn-color-background);\n",
       "}\n",
       "\n",
       "#sk-container-id-13 div.sk-container {\n",
       "  /* jupyter's `normalize.less` sets `[hidden] { display: none; }`\n",
       "     but bootstrap.min.css set `[hidden] { display: none !important; }`\n",
       "     so we also need the `!important` here to be able to override the\n",
       "     default hidden behavior on the sphinx rendered scikit-learn.org.\n",
       "     See: https://github.com/scikit-learn/scikit-learn/issues/21755 */\n",
       "  display: inline-block !important;\n",
       "  position: relative;\n",
       "}\n",
       "\n",
       "#sk-container-id-13 div.sk-text-repr-fallback {\n",
       "  display: none;\n",
       "}\n",
       "\n",
       "div.sk-parallel-item,\n",
       "div.sk-serial,\n",
       "div.sk-item {\n",
       "  /* draw centered vertical line to link estimators */\n",
       "  background-image: linear-gradient(var(--sklearn-color-text-on-default-background), var(--sklearn-color-text-on-default-background));\n",
       "  background-size: 2px 100%;\n",
       "  background-repeat: no-repeat;\n",
       "  background-position: center center;\n",
       "}\n",
       "\n",
       "/* Parallel-specific style estimator block */\n",
       "\n",
       "#sk-container-id-13 div.sk-parallel-item::after {\n",
       "  content: \"\";\n",
       "  width: 100%;\n",
       "  border-bottom: 2px solid var(--sklearn-color-text-on-default-background);\n",
       "  flex-grow: 1;\n",
       "}\n",
       "\n",
       "#sk-container-id-13 div.sk-parallel {\n",
       "  display: flex;\n",
       "  align-items: stretch;\n",
       "  justify-content: center;\n",
       "  background-color: var(--sklearn-color-background);\n",
       "  position: relative;\n",
       "}\n",
       "\n",
       "#sk-container-id-13 div.sk-parallel-item {\n",
       "  display: flex;\n",
       "  flex-direction: column;\n",
       "}\n",
       "\n",
       "#sk-container-id-13 div.sk-parallel-item:first-child::after {\n",
       "  align-self: flex-end;\n",
       "  width: 50%;\n",
       "}\n",
       "\n",
       "#sk-container-id-13 div.sk-parallel-item:last-child::after {\n",
       "  align-self: flex-start;\n",
       "  width: 50%;\n",
       "}\n",
       "\n",
       "#sk-container-id-13 div.sk-parallel-item:only-child::after {\n",
       "  width: 0;\n",
       "}\n",
       "\n",
       "/* Serial-specific style estimator block */\n",
       "\n",
       "#sk-container-id-13 div.sk-serial {\n",
       "  display: flex;\n",
       "  flex-direction: column;\n",
       "  align-items: center;\n",
       "  background-color: var(--sklearn-color-background);\n",
       "  padding-right: 1em;\n",
       "  padding-left: 1em;\n",
       "}\n",
       "\n",
       "\n",
       "/* Toggleable style: style used for estimator/Pipeline/ColumnTransformer box that is\n",
       "clickable and can be expanded/collapsed.\n",
       "- Pipeline and ColumnTransformer use this feature and define the default style\n",
       "- Estimators will overwrite some part of the style using the `sk-estimator` class\n",
       "*/\n",
       "\n",
       "/* Pipeline and ColumnTransformer style (default) */\n",
       "\n",
       "#sk-container-id-13 div.sk-toggleable {\n",
       "  /* Default theme specific background. It is overwritten whether we have a\n",
       "  specific estimator or a Pipeline/ColumnTransformer */\n",
       "  background-color: var(--sklearn-color-background);\n",
       "}\n",
       "\n",
       "/* Toggleable label */\n",
       "#sk-container-id-13 label.sk-toggleable__label {\n",
       "  cursor: pointer;\n",
       "  display: block;\n",
       "  width: 100%;\n",
       "  margin-bottom: 0;\n",
       "  padding: 0.5em;\n",
       "  box-sizing: border-box;\n",
       "  text-align: center;\n",
       "}\n",
       "\n",
       "#sk-container-id-13 label.sk-toggleable__label-arrow:before {\n",
       "  /* Arrow on the left of the label */\n",
       "  content: \"▸\";\n",
       "  float: left;\n",
       "  margin-right: 0.25em;\n",
       "  color: var(--sklearn-color-icon);\n",
       "}\n",
       "\n",
       "#sk-container-id-13 label.sk-toggleable__label-arrow:hover:before {\n",
       "  color: var(--sklearn-color-text);\n",
       "}\n",
       "\n",
       "/* Toggleable content - dropdown */\n",
       "\n",
       "#sk-container-id-13 div.sk-toggleable__content {\n",
       "  max-height: 0;\n",
       "  max-width: 0;\n",
       "  overflow: hidden;\n",
       "  text-align: left;\n",
       "  /* unfitted */\n",
       "  background-color: var(--sklearn-color-unfitted-level-0);\n",
       "}\n",
       "\n",
       "#sk-container-id-13 div.sk-toggleable__content.fitted {\n",
       "  /* fitted */\n",
       "  background-color: var(--sklearn-color-fitted-level-0);\n",
       "}\n",
       "\n",
       "#sk-container-id-13 div.sk-toggleable__content pre {\n",
       "  margin: 0.2em;\n",
       "  border-radius: 0.25em;\n",
       "  color: var(--sklearn-color-text);\n",
       "  /* unfitted */\n",
       "  background-color: var(--sklearn-color-unfitted-level-0);\n",
       "}\n",
       "\n",
       "#sk-container-id-13 div.sk-toggleable__content.fitted pre {\n",
       "  /* unfitted */\n",
       "  background-color: var(--sklearn-color-fitted-level-0);\n",
       "}\n",
       "\n",
       "#sk-container-id-13 input.sk-toggleable__control:checked~div.sk-toggleable__content {\n",
       "  /* Expand drop-down */\n",
       "  max-height: 200px;\n",
       "  max-width: 100%;\n",
       "  overflow: auto;\n",
       "}\n",
       "\n",
       "#sk-container-id-13 input.sk-toggleable__control:checked~label.sk-toggleable__label-arrow:before {\n",
       "  content: \"▾\";\n",
       "}\n",
       "\n",
       "/* Pipeline/ColumnTransformer-specific style */\n",
       "\n",
       "#sk-container-id-13 div.sk-label input.sk-toggleable__control:checked~label.sk-toggleable__label {\n",
       "  color: var(--sklearn-color-text);\n",
       "  background-color: var(--sklearn-color-unfitted-level-2);\n",
       "}\n",
       "\n",
       "#sk-container-id-13 div.sk-label.fitted input.sk-toggleable__control:checked~label.sk-toggleable__label {\n",
       "  background-color: var(--sklearn-color-fitted-level-2);\n",
       "}\n",
       "\n",
       "/* Estimator-specific style */\n",
       "\n",
       "/* Colorize estimator box */\n",
       "#sk-container-id-13 div.sk-estimator input.sk-toggleable__control:checked~label.sk-toggleable__label {\n",
       "  /* unfitted */\n",
       "  background-color: var(--sklearn-color-unfitted-level-2);\n",
       "}\n",
       "\n",
       "#sk-container-id-13 div.sk-estimator.fitted input.sk-toggleable__control:checked~label.sk-toggleable__label {\n",
       "  /* fitted */\n",
       "  background-color: var(--sklearn-color-fitted-level-2);\n",
       "}\n",
       "\n",
       "#sk-container-id-13 div.sk-label label.sk-toggleable__label,\n",
       "#sk-container-id-13 div.sk-label label {\n",
       "  /* The background is the default theme color */\n",
       "  color: var(--sklearn-color-text-on-default-background);\n",
       "}\n",
       "\n",
       "/* On hover, darken the color of the background */\n",
       "#sk-container-id-13 div.sk-label:hover label.sk-toggleable__label {\n",
       "  color: var(--sklearn-color-text);\n",
       "  background-color: var(--sklearn-color-unfitted-level-2);\n",
       "}\n",
       "\n",
       "/* Label box, darken color on hover, fitted */\n",
       "#sk-container-id-13 div.sk-label.fitted:hover label.sk-toggleable__label.fitted {\n",
       "  color: var(--sklearn-color-text);\n",
       "  background-color: var(--sklearn-color-fitted-level-2);\n",
       "}\n",
       "\n",
       "/* Estimator label */\n",
       "\n",
       "#sk-container-id-13 div.sk-label label {\n",
       "  font-family: monospace;\n",
       "  font-weight: bold;\n",
       "  display: inline-block;\n",
       "  line-height: 1.2em;\n",
       "}\n",
       "\n",
       "#sk-container-id-13 div.sk-label-container {\n",
       "  text-align: center;\n",
       "}\n",
       "\n",
       "/* Estimator-specific */\n",
       "#sk-container-id-13 div.sk-estimator {\n",
       "  font-family: monospace;\n",
       "  border: 1px dotted var(--sklearn-color-border-box);\n",
       "  border-radius: 0.25em;\n",
       "  box-sizing: border-box;\n",
       "  margin-bottom: 0.5em;\n",
       "  /* unfitted */\n",
       "  background-color: var(--sklearn-color-unfitted-level-0);\n",
       "}\n",
       "\n",
       "#sk-container-id-13 div.sk-estimator.fitted {\n",
       "  /* fitted */\n",
       "  background-color: var(--sklearn-color-fitted-level-0);\n",
       "}\n",
       "\n",
       "/* on hover */\n",
       "#sk-container-id-13 div.sk-estimator:hover {\n",
       "  /* unfitted */\n",
       "  background-color: var(--sklearn-color-unfitted-level-2);\n",
       "}\n",
       "\n",
       "#sk-container-id-13 div.sk-estimator.fitted:hover {\n",
       "  /* fitted */\n",
       "  background-color: var(--sklearn-color-fitted-level-2);\n",
       "}\n",
       "\n",
       "/* Specification for estimator info (e.g. \"i\" and \"?\") */\n",
       "\n",
       "/* Common style for \"i\" and \"?\" */\n",
       "\n",
       ".sk-estimator-doc-link,\n",
       "a:link.sk-estimator-doc-link,\n",
       "a:visited.sk-estimator-doc-link {\n",
       "  float: right;\n",
       "  font-size: smaller;\n",
       "  line-height: 1em;\n",
       "  font-family: monospace;\n",
       "  background-color: var(--sklearn-color-background);\n",
       "  border-radius: 1em;\n",
       "  height: 1em;\n",
       "  width: 1em;\n",
       "  text-decoration: none !important;\n",
       "  margin-left: 1ex;\n",
       "  /* unfitted */\n",
       "  border: var(--sklearn-color-unfitted-level-1) 1pt solid;\n",
       "  color: var(--sklearn-color-unfitted-level-1);\n",
       "}\n",
       "\n",
       ".sk-estimator-doc-link.fitted,\n",
       "a:link.sk-estimator-doc-link.fitted,\n",
       "a:visited.sk-estimator-doc-link.fitted {\n",
       "  /* fitted */\n",
       "  border: var(--sklearn-color-fitted-level-1) 1pt solid;\n",
       "  color: var(--sklearn-color-fitted-level-1);\n",
       "}\n",
       "\n",
       "/* On hover */\n",
       "div.sk-estimator:hover .sk-estimator-doc-link:hover,\n",
       ".sk-estimator-doc-link:hover,\n",
       "div.sk-label-container:hover .sk-estimator-doc-link:hover,\n",
       ".sk-estimator-doc-link:hover {\n",
       "  /* unfitted */\n",
       "  background-color: var(--sklearn-color-unfitted-level-3);\n",
       "  color: var(--sklearn-color-background);\n",
       "  text-decoration: none;\n",
       "}\n",
       "\n",
       "div.sk-estimator.fitted:hover .sk-estimator-doc-link.fitted:hover,\n",
       ".sk-estimator-doc-link.fitted:hover,\n",
       "div.sk-label-container:hover .sk-estimator-doc-link.fitted:hover,\n",
       ".sk-estimator-doc-link.fitted:hover {\n",
       "  /* fitted */\n",
       "  background-color: var(--sklearn-color-fitted-level-3);\n",
       "  color: var(--sklearn-color-background);\n",
       "  text-decoration: none;\n",
       "}\n",
       "\n",
       "/* Span, style for the box shown on hovering the info icon */\n",
       ".sk-estimator-doc-link span {\n",
       "  display: none;\n",
       "  z-index: 9999;\n",
       "  position: relative;\n",
       "  font-weight: normal;\n",
       "  right: .2ex;\n",
       "  padding: .5ex;\n",
       "  margin: .5ex;\n",
       "  width: min-content;\n",
       "  min-width: 20ex;\n",
       "  max-width: 50ex;\n",
       "  color: var(--sklearn-color-text);\n",
       "  box-shadow: 2pt 2pt 4pt #999;\n",
       "  /* unfitted */\n",
       "  background: var(--sklearn-color-unfitted-level-0);\n",
       "  border: .5pt solid var(--sklearn-color-unfitted-level-3);\n",
       "}\n",
       "\n",
       ".sk-estimator-doc-link.fitted span {\n",
       "  /* fitted */\n",
       "  background: var(--sklearn-color-fitted-level-0);\n",
       "  border: var(--sklearn-color-fitted-level-3);\n",
       "}\n",
       "\n",
       ".sk-estimator-doc-link:hover span {\n",
       "  display: block;\n",
       "}\n",
       "\n",
       "/* \"?\"-specific style due to the `<a>` HTML tag */\n",
       "\n",
       "#sk-container-id-13 a.estimator_doc_link {\n",
       "  float: right;\n",
       "  font-size: 1rem;\n",
       "  line-height: 1em;\n",
       "  font-family: monospace;\n",
       "  background-color: var(--sklearn-color-background);\n",
       "  border-radius: 1rem;\n",
       "  height: 1rem;\n",
       "  width: 1rem;\n",
       "  text-decoration: none;\n",
       "  /* unfitted */\n",
       "  color: var(--sklearn-color-unfitted-level-1);\n",
       "  border: var(--sklearn-color-unfitted-level-1) 1pt solid;\n",
       "}\n",
       "\n",
       "#sk-container-id-13 a.estimator_doc_link.fitted {\n",
       "  /* fitted */\n",
       "  border: var(--sklearn-color-fitted-level-1) 1pt solid;\n",
       "  color: var(--sklearn-color-fitted-level-1);\n",
       "}\n",
       "\n",
       "/* On hover */\n",
       "#sk-container-id-13 a.estimator_doc_link:hover {\n",
       "  /* unfitted */\n",
       "  background-color: var(--sklearn-color-unfitted-level-3);\n",
       "  color: var(--sklearn-color-background);\n",
       "  text-decoration: none;\n",
       "}\n",
       "\n",
       "#sk-container-id-13 a.estimator_doc_link.fitted:hover {\n",
       "  /* fitted */\n",
       "  background-color: var(--sklearn-color-fitted-level-3);\n",
       "}\n",
       "</style><div id=\"sk-container-id-13\" class=\"sk-top-container\"><div class=\"sk-text-repr-fallback\"><pre>LabelEncoder()</pre><b>In a Jupyter environment, please rerun this cell to show the HTML representation or trust the notebook. <br />On GitHub, the HTML representation is unable to render, please try loading this page with nbviewer.org.</b></div><div class=\"sk-container\" hidden><div class=\"sk-item\"><div class=\"sk-estimator fitted sk-toggleable\"><input class=\"sk-toggleable__control sk-hidden--visually\" id=\"sk-estimator-id-13\" type=\"checkbox\" checked><label for=\"sk-estimator-id-13\" class=\"sk-toggleable__label fitted sk-toggleable__label-arrow fitted\">&nbsp;&nbsp;LabelEncoder<a class=\"sk-estimator-doc-link fitted\" rel=\"noreferrer\" target=\"_blank\" href=\"https://scikit-learn.org/1.5/modules/generated/sklearn.preprocessing.LabelEncoder.html\">?<span>Documentation for LabelEncoder</span></a><span class=\"sk-estimator-doc-link fitted\">i<span>Fitted</span></span></label><div class=\"sk-toggleable__content fitted\"><pre>LabelEncoder()</pre></div> </div></div></div></div>"
      ],
      "text/plain": [
       "LabelEncoder()"
      ]
     },
     "execution_count": 248,
     "metadata": {},
     "output_type": "execute_result"
    }
   ],
   "source": [
    "le = LabelEncoder()\n",
    "le.fit(new_df.select(pl.col('v2ProductName')))"
   ]
  },
  {
   "cell_type": "code",
   "execution_count": 249,
   "metadata": {},
   "outputs": [
    {
     "name": "stderr",
     "output_type": "stream",
     "text": [
      "c:\\Users\\andre\\AppData\\Local\\Programs\\Python\\Python312\\Lib\\site-packages\\sklearn\\preprocessing\\_label.py:132: DataConversionWarning: A column-vector y was passed when a 1d array was expected. Please change the shape of y to (n_samples, ), for example using ravel().\n",
      "  y = column_or_1d(y, dtype=self.classes_.dtype, warn=True)\n"
     ]
    },
    {
     "data": {
      "text/plain": [
       "array([122,  37,  66, ..., 136, 145, 166])"
      ]
     },
     "execution_count": 249,
     "metadata": {},
     "output_type": "execute_result"
    }
   ],
   "source": [
    "encoded_products = le.transform(new_df.select(pl.col('v2ProductName')))\n",
    "encoded_products"
   ]
  },
  {
   "cell_type": "code",
   "execution_count": 250,
   "metadata": {},
   "outputs": [
    {
     "data": {
      "text/html": [
       "<div><style>\n",
       ".dataframe > thead > tr,\n",
       ".dataframe > tbody > tr {\n",
       "  text-align: right;\n",
       "  white-space: pre-wrap;\n",
       "}\n",
       "</style>\n",
       "<small>shape: (32_696, 5)</small><table border=\"1\" class=\"dataframe\"><thead><tr><th>fullVisitorId</th><th>country</th><th>browser</th><th>transactionId</th><th>v2ProductName</th></tr><tr><td>str</td><td>i32</td><td>str</td><td>i32</td><td>i32</td></tr></thead><tbody><tr><td>&quot;9308310352918219134&quot;</td><td>0</td><td>&quot;Chrome&quot;</td><td>0</td><td>122</td></tr><tr><td>&quot;9308310352918219134&quot;</td><td>0</td><td>&quot;Chrome&quot;</td><td>0</td><td>37</td></tr><tr><td>&quot;9308310352918219134&quot;</td><td>0</td><td>&quot;Chrome&quot;</td><td>0</td><td>66</td></tr><tr><td>&quot;9308310352918219134&quot;</td><td>0</td><td>&quot;Chrome&quot;</td><td>0</td><td>62</td></tr><tr><td>&quot;9308310352918219134&quot;</td><td>0</td><td>&quot;Chrome&quot;</td><td>0</td><td>9</td></tr><tr><td>&hellip;</td><td>&hellip;</td><td>&hellip;</td><td>&hellip;</td><td>&hellip;</td></tr><tr><td>&quot;7444499703471460562&quot;</td><td>1</td><td>&quot;Chrome&quot;</td><td>0</td><td>146</td></tr><tr><td>&quot;7444499703471460562&quot;</td><td>1</td><td>&quot;Chrome&quot;</td><td>0</td><td>147</td></tr><tr><td>&quot;7444499703471460562&quot;</td><td>1</td><td>&quot;Chrome&quot;</td><td>0</td><td>136</td></tr><tr><td>&quot;7444499703471460562&quot;</td><td>1</td><td>&quot;Chrome&quot;</td><td>0</td><td>145</td></tr><tr><td>&quot;7444499703471460562&quot;</td><td>1</td><td>&quot;Chrome&quot;</td><td>0</td><td>166</td></tr></tbody></table></div>"
      ],
      "text/plain": [
       "shape: (32_696, 5)\n",
       "┌─────────────────────┬─────────┬─────────┬───────────────┬───────────────┐\n",
       "│ fullVisitorId       ┆ country ┆ browser ┆ transactionId ┆ v2ProductName │\n",
       "│ ---                 ┆ ---     ┆ ---     ┆ ---           ┆ ---           │\n",
       "│ str                 ┆ i32     ┆ str     ┆ i32           ┆ i32           │\n",
       "╞═════════════════════╪═════════╪═════════╪═══════════════╪═══════════════╡\n",
       "│ 9308310352918219134 ┆ 0       ┆ Chrome  ┆ 0             ┆ 122           │\n",
       "│ 9308310352918219134 ┆ 0       ┆ Chrome  ┆ 0             ┆ 37            │\n",
       "│ 9308310352918219134 ┆ 0       ┆ Chrome  ┆ 0             ┆ 66            │\n",
       "│ 9308310352918219134 ┆ 0       ┆ Chrome  ┆ 0             ┆ 62            │\n",
       "│ 9308310352918219134 ┆ 0       ┆ Chrome  ┆ 0             ┆ 9             │\n",
       "│ …                   ┆ …       ┆ …       ┆ …             ┆ …             │\n",
       "│ 7444499703471460562 ┆ 1       ┆ Chrome  ┆ 0             ┆ 146           │\n",
       "│ 7444499703471460562 ┆ 1       ┆ Chrome  ┆ 0             ┆ 147           │\n",
       "│ 7444499703471460562 ┆ 1       ┆ Chrome  ┆ 0             ┆ 136           │\n",
       "│ 7444499703471460562 ┆ 1       ┆ Chrome  ┆ 0             ┆ 145           │\n",
       "│ 7444499703471460562 ┆ 1       ┆ Chrome  ┆ 0             ┆ 166           │\n",
       "└─────────────────────┴─────────┴─────────┴───────────────┴───────────────┘"
      ]
     },
     "execution_count": 250,
     "metadata": {},
     "output_type": "execute_result"
    }
   ],
   "source": [
    "new_df= new_df.with_columns(pl.Series('v2ProductName', encoded_products))\n",
    "new_df"
   ]
  },
  {
   "cell_type": "code",
   "execution_count": 251,
   "metadata": {},
   "outputs": [
    {
     "name": "stderr",
     "output_type": "stream",
     "text": [
      "c:\\Users\\andre\\AppData\\Local\\Programs\\Python\\Python312\\Lib\\site-packages\\sklearn\\preprocessing\\_label.py:97: DataConversionWarning: A column-vector y was passed when a 1d array was expected. Please change the shape of y to (n_samples, ), for example using ravel().\n",
      "  y = column_or_1d(y, warn=True)\n"
     ]
    },
    {
     "data": {
      "text/html": [
       "<style>#sk-container-id-14 {\n",
       "  /* Definition of color scheme common for light and dark mode */\n",
       "  --sklearn-color-text: black;\n",
       "  --sklearn-color-line: gray;\n",
       "  /* Definition of color scheme for unfitted estimators */\n",
       "  --sklearn-color-unfitted-level-0: #fff5e6;\n",
       "  --sklearn-color-unfitted-level-1: #f6e4d2;\n",
       "  --sklearn-color-unfitted-level-2: #ffe0b3;\n",
       "  --sklearn-color-unfitted-level-3: chocolate;\n",
       "  /* Definition of color scheme for fitted estimators */\n",
       "  --sklearn-color-fitted-level-0: #f0f8ff;\n",
       "  --sklearn-color-fitted-level-1: #d4ebff;\n",
       "  --sklearn-color-fitted-level-2: #b3dbfd;\n",
       "  --sklearn-color-fitted-level-3: cornflowerblue;\n",
       "\n",
       "  /* Specific color for light theme */\n",
       "  --sklearn-color-text-on-default-background: var(--sg-text-color, var(--theme-code-foreground, var(--jp-content-font-color1, black)));\n",
       "  --sklearn-color-background: var(--sg-background-color, var(--theme-background, var(--jp-layout-color0, white)));\n",
       "  --sklearn-color-border-box: var(--sg-text-color, var(--theme-code-foreground, var(--jp-content-font-color1, black)));\n",
       "  --sklearn-color-icon: #696969;\n",
       "\n",
       "  @media (prefers-color-scheme: dark) {\n",
       "    /* Redefinition of color scheme for dark theme */\n",
       "    --sklearn-color-text-on-default-background: var(--sg-text-color, var(--theme-code-foreground, var(--jp-content-font-color1, white)));\n",
       "    --sklearn-color-background: var(--sg-background-color, var(--theme-background, var(--jp-layout-color0, #111)));\n",
       "    --sklearn-color-border-box: var(--sg-text-color, var(--theme-code-foreground, var(--jp-content-font-color1, white)));\n",
       "    --sklearn-color-icon: #878787;\n",
       "  }\n",
       "}\n",
       "\n",
       "#sk-container-id-14 {\n",
       "  color: var(--sklearn-color-text);\n",
       "}\n",
       "\n",
       "#sk-container-id-14 pre {\n",
       "  padding: 0;\n",
       "}\n",
       "\n",
       "#sk-container-id-14 input.sk-hidden--visually {\n",
       "  border: 0;\n",
       "  clip: rect(1px 1px 1px 1px);\n",
       "  clip: rect(1px, 1px, 1px, 1px);\n",
       "  height: 1px;\n",
       "  margin: -1px;\n",
       "  overflow: hidden;\n",
       "  padding: 0;\n",
       "  position: absolute;\n",
       "  width: 1px;\n",
       "}\n",
       "\n",
       "#sk-container-id-14 div.sk-dashed-wrapped {\n",
       "  border: 1px dashed var(--sklearn-color-line);\n",
       "  margin: 0 0.4em 0.5em 0.4em;\n",
       "  box-sizing: border-box;\n",
       "  padding-bottom: 0.4em;\n",
       "  background-color: var(--sklearn-color-background);\n",
       "}\n",
       "\n",
       "#sk-container-id-14 div.sk-container {\n",
       "  /* jupyter's `normalize.less` sets `[hidden] { display: none; }`\n",
       "     but bootstrap.min.css set `[hidden] { display: none !important; }`\n",
       "     so we also need the `!important` here to be able to override the\n",
       "     default hidden behavior on the sphinx rendered scikit-learn.org.\n",
       "     See: https://github.com/scikit-learn/scikit-learn/issues/21755 */\n",
       "  display: inline-block !important;\n",
       "  position: relative;\n",
       "}\n",
       "\n",
       "#sk-container-id-14 div.sk-text-repr-fallback {\n",
       "  display: none;\n",
       "}\n",
       "\n",
       "div.sk-parallel-item,\n",
       "div.sk-serial,\n",
       "div.sk-item {\n",
       "  /* draw centered vertical line to link estimators */\n",
       "  background-image: linear-gradient(var(--sklearn-color-text-on-default-background), var(--sklearn-color-text-on-default-background));\n",
       "  background-size: 2px 100%;\n",
       "  background-repeat: no-repeat;\n",
       "  background-position: center center;\n",
       "}\n",
       "\n",
       "/* Parallel-specific style estimator block */\n",
       "\n",
       "#sk-container-id-14 div.sk-parallel-item::after {\n",
       "  content: \"\";\n",
       "  width: 100%;\n",
       "  border-bottom: 2px solid var(--sklearn-color-text-on-default-background);\n",
       "  flex-grow: 1;\n",
       "}\n",
       "\n",
       "#sk-container-id-14 div.sk-parallel {\n",
       "  display: flex;\n",
       "  align-items: stretch;\n",
       "  justify-content: center;\n",
       "  background-color: var(--sklearn-color-background);\n",
       "  position: relative;\n",
       "}\n",
       "\n",
       "#sk-container-id-14 div.sk-parallel-item {\n",
       "  display: flex;\n",
       "  flex-direction: column;\n",
       "}\n",
       "\n",
       "#sk-container-id-14 div.sk-parallel-item:first-child::after {\n",
       "  align-self: flex-end;\n",
       "  width: 50%;\n",
       "}\n",
       "\n",
       "#sk-container-id-14 div.sk-parallel-item:last-child::after {\n",
       "  align-self: flex-start;\n",
       "  width: 50%;\n",
       "}\n",
       "\n",
       "#sk-container-id-14 div.sk-parallel-item:only-child::after {\n",
       "  width: 0;\n",
       "}\n",
       "\n",
       "/* Serial-specific style estimator block */\n",
       "\n",
       "#sk-container-id-14 div.sk-serial {\n",
       "  display: flex;\n",
       "  flex-direction: column;\n",
       "  align-items: center;\n",
       "  background-color: var(--sklearn-color-background);\n",
       "  padding-right: 1em;\n",
       "  padding-left: 1em;\n",
       "}\n",
       "\n",
       "\n",
       "/* Toggleable style: style used for estimator/Pipeline/ColumnTransformer box that is\n",
       "clickable and can be expanded/collapsed.\n",
       "- Pipeline and ColumnTransformer use this feature and define the default style\n",
       "- Estimators will overwrite some part of the style using the `sk-estimator` class\n",
       "*/\n",
       "\n",
       "/* Pipeline and ColumnTransformer style (default) */\n",
       "\n",
       "#sk-container-id-14 div.sk-toggleable {\n",
       "  /* Default theme specific background. It is overwritten whether we have a\n",
       "  specific estimator or a Pipeline/ColumnTransformer */\n",
       "  background-color: var(--sklearn-color-background);\n",
       "}\n",
       "\n",
       "/* Toggleable label */\n",
       "#sk-container-id-14 label.sk-toggleable__label {\n",
       "  cursor: pointer;\n",
       "  display: block;\n",
       "  width: 100%;\n",
       "  margin-bottom: 0;\n",
       "  padding: 0.5em;\n",
       "  box-sizing: border-box;\n",
       "  text-align: center;\n",
       "}\n",
       "\n",
       "#sk-container-id-14 label.sk-toggleable__label-arrow:before {\n",
       "  /* Arrow on the left of the label */\n",
       "  content: \"▸\";\n",
       "  float: left;\n",
       "  margin-right: 0.25em;\n",
       "  color: var(--sklearn-color-icon);\n",
       "}\n",
       "\n",
       "#sk-container-id-14 label.sk-toggleable__label-arrow:hover:before {\n",
       "  color: var(--sklearn-color-text);\n",
       "}\n",
       "\n",
       "/* Toggleable content - dropdown */\n",
       "\n",
       "#sk-container-id-14 div.sk-toggleable__content {\n",
       "  max-height: 0;\n",
       "  max-width: 0;\n",
       "  overflow: hidden;\n",
       "  text-align: left;\n",
       "  /* unfitted */\n",
       "  background-color: var(--sklearn-color-unfitted-level-0);\n",
       "}\n",
       "\n",
       "#sk-container-id-14 div.sk-toggleable__content.fitted {\n",
       "  /* fitted */\n",
       "  background-color: var(--sklearn-color-fitted-level-0);\n",
       "}\n",
       "\n",
       "#sk-container-id-14 div.sk-toggleable__content pre {\n",
       "  margin: 0.2em;\n",
       "  border-radius: 0.25em;\n",
       "  color: var(--sklearn-color-text);\n",
       "  /* unfitted */\n",
       "  background-color: var(--sklearn-color-unfitted-level-0);\n",
       "}\n",
       "\n",
       "#sk-container-id-14 div.sk-toggleable__content.fitted pre {\n",
       "  /* unfitted */\n",
       "  background-color: var(--sklearn-color-fitted-level-0);\n",
       "}\n",
       "\n",
       "#sk-container-id-14 input.sk-toggleable__control:checked~div.sk-toggleable__content {\n",
       "  /* Expand drop-down */\n",
       "  max-height: 200px;\n",
       "  max-width: 100%;\n",
       "  overflow: auto;\n",
       "}\n",
       "\n",
       "#sk-container-id-14 input.sk-toggleable__control:checked~label.sk-toggleable__label-arrow:before {\n",
       "  content: \"▾\";\n",
       "}\n",
       "\n",
       "/* Pipeline/ColumnTransformer-specific style */\n",
       "\n",
       "#sk-container-id-14 div.sk-label input.sk-toggleable__control:checked~label.sk-toggleable__label {\n",
       "  color: var(--sklearn-color-text);\n",
       "  background-color: var(--sklearn-color-unfitted-level-2);\n",
       "}\n",
       "\n",
       "#sk-container-id-14 div.sk-label.fitted input.sk-toggleable__control:checked~label.sk-toggleable__label {\n",
       "  background-color: var(--sklearn-color-fitted-level-2);\n",
       "}\n",
       "\n",
       "/* Estimator-specific style */\n",
       "\n",
       "/* Colorize estimator box */\n",
       "#sk-container-id-14 div.sk-estimator input.sk-toggleable__control:checked~label.sk-toggleable__label {\n",
       "  /* unfitted */\n",
       "  background-color: var(--sklearn-color-unfitted-level-2);\n",
       "}\n",
       "\n",
       "#sk-container-id-14 div.sk-estimator.fitted input.sk-toggleable__control:checked~label.sk-toggleable__label {\n",
       "  /* fitted */\n",
       "  background-color: var(--sklearn-color-fitted-level-2);\n",
       "}\n",
       "\n",
       "#sk-container-id-14 div.sk-label label.sk-toggleable__label,\n",
       "#sk-container-id-14 div.sk-label label {\n",
       "  /* The background is the default theme color */\n",
       "  color: var(--sklearn-color-text-on-default-background);\n",
       "}\n",
       "\n",
       "/* On hover, darken the color of the background */\n",
       "#sk-container-id-14 div.sk-label:hover label.sk-toggleable__label {\n",
       "  color: var(--sklearn-color-text);\n",
       "  background-color: var(--sklearn-color-unfitted-level-2);\n",
       "}\n",
       "\n",
       "/* Label box, darken color on hover, fitted */\n",
       "#sk-container-id-14 div.sk-label.fitted:hover label.sk-toggleable__label.fitted {\n",
       "  color: var(--sklearn-color-text);\n",
       "  background-color: var(--sklearn-color-fitted-level-2);\n",
       "}\n",
       "\n",
       "/* Estimator label */\n",
       "\n",
       "#sk-container-id-14 div.sk-label label {\n",
       "  font-family: monospace;\n",
       "  font-weight: bold;\n",
       "  display: inline-block;\n",
       "  line-height: 1.2em;\n",
       "}\n",
       "\n",
       "#sk-container-id-14 div.sk-label-container {\n",
       "  text-align: center;\n",
       "}\n",
       "\n",
       "/* Estimator-specific */\n",
       "#sk-container-id-14 div.sk-estimator {\n",
       "  font-family: monospace;\n",
       "  border: 1px dotted var(--sklearn-color-border-box);\n",
       "  border-radius: 0.25em;\n",
       "  box-sizing: border-box;\n",
       "  margin-bottom: 0.5em;\n",
       "  /* unfitted */\n",
       "  background-color: var(--sklearn-color-unfitted-level-0);\n",
       "}\n",
       "\n",
       "#sk-container-id-14 div.sk-estimator.fitted {\n",
       "  /* fitted */\n",
       "  background-color: var(--sklearn-color-fitted-level-0);\n",
       "}\n",
       "\n",
       "/* on hover */\n",
       "#sk-container-id-14 div.sk-estimator:hover {\n",
       "  /* unfitted */\n",
       "  background-color: var(--sklearn-color-unfitted-level-2);\n",
       "}\n",
       "\n",
       "#sk-container-id-14 div.sk-estimator.fitted:hover {\n",
       "  /* fitted */\n",
       "  background-color: var(--sklearn-color-fitted-level-2);\n",
       "}\n",
       "\n",
       "/* Specification for estimator info (e.g. \"i\" and \"?\") */\n",
       "\n",
       "/* Common style for \"i\" and \"?\" */\n",
       "\n",
       ".sk-estimator-doc-link,\n",
       "a:link.sk-estimator-doc-link,\n",
       "a:visited.sk-estimator-doc-link {\n",
       "  float: right;\n",
       "  font-size: smaller;\n",
       "  line-height: 1em;\n",
       "  font-family: monospace;\n",
       "  background-color: var(--sklearn-color-background);\n",
       "  border-radius: 1em;\n",
       "  height: 1em;\n",
       "  width: 1em;\n",
       "  text-decoration: none !important;\n",
       "  margin-left: 1ex;\n",
       "  /* unfitted */\n",
       "  border: var(--sklearn-color-unfitted-level-1) 1pt solid;\n",
       "  color: var(--sklearn-color-unfitted-level-1);\n",
       "}\n",
       "\n",
       ".sk-estimator-doc-link.fitted,\n",
       "a:link.sk-estimator-doc-link.fitted,\n",
       "a:visited.sk-estimator-doc-link.fitted {\n",
       "  /* fitted */\n",
       "  border: var(--sklearn-color-fitted-level-1) 1pt solid;\n",
       "  color: var(--sklearn-color-fitted-level-1);\n",
       "}\n",
       "\n",
       "/* On hover */\n",
       "div.sk-estimator:hover .sk-estimator-doc-link:hover,\n",
       ".sk-estimator-doc-link:hover,\n",
       "div.sk-label-container:hover .sk-estimator-doc-link:hover,\n",
       ".sk-estimator-doc-link:hover {\n",
       "  /* unfitted */\n",
       "  background-color: var(--sklearn-color-unfitted-level-3);\n",
       "  color: var(--sklearn-color-background);\n",
       "  text-decoration: none;\n",
       "}\n",
       "\n",
       "div.sk-estimator.fitted:hover .sk-estimator-doc-link.fitted:hover,\n",
       ".sk-estimator-doc-link.fitted:hover,\n",
       "div.sk-label-container:hover .sk-estimator-doc-link.fitted:hover,\n",
       ".sk-estimator-doc-link.fitted:hover {\n",
       "  /* fitted */\n",
       "  background-color: var(--sklearn-color-fitted-level-3);\n",
       "  color: var(--sklearn-color-background);\n",
       "  text-decoration: none;\n",
       "}\n",
       "\n",
       "/* Span, style for the box shown on hovering the info icon */\n",
       ".sk-estimator-doc-link span {\n",
       "  display: none;\n",
       "  z-index: 9999;\n",
       "  position: relative;\n",
       "  font-weight: normal;\n",
       "  right: .2ex;\n",
       "  padding: .5ex;\n",
       "  margin: .5ex;\n",
       "  width: min-content;\n",
       "  min-width: 20ex;\n",
       "  max-width: 50ex;\n",
       "  color: var(--sklearn-color-text);\n",
       "  box-shadow: 2pt 2pt 4pt #999;\n",
       "  /* unfitted */\n",
       "  background: var(--sklearn-color-unfitted-level-0);\n",
       "  border: .5pt solid var(--sklearn-color-unfitted-level-3);\n",
       "}\n",
       "\n",
       ".sk-estimator-doc-link.fitted span {\n",
       "  /* fitted */\n",
       "  background: var(--sklearn-color-fitted-level-0);\n",
       "  border: var(--sklearn-color-fitted-level-3);\n",
       "}\n",
       "\n",
       ".sk-estimator-doc-link:hover span {\n",
       "  display: block;\n",
       "}\n",
       "\n",
       "/* \"?\"-specific style due to the `<a>` HTML tag */\n",
       "\n",
       "#sk-container-id-14 a.estimator_doc_link {\n",
       "  float: right;\n",
       "  font-size: 1rem;\n",
       "  line-height: 1em;\n",
       "  font-family: monospace;\n",
       "  background-color: var(--sklearn-color-background);\n",
       "  border-radius: 1rem;\n",
       "  height: 1rem;\n",
       "  width: 1rem;\n",
       "  text-decoration: none;\n",
       "  /* unfitted */\n",
       "  color: var(--sklearn-color-unfitted-level-1);\n",
       "  border: var(--sklearn-color-unfitted-level-1) 1pt solid;\n",
       "}\n",
       "\n",
       "#sk-container-id-14 a.estimator_doc_link.fitted {\n",
       "  /* fitted */\n",
       "  border: var(--sklearn-color-fitted-level-1) 1pt solid;\n",
       "  color: var(--sklearn-color-fitted-level-1);\n",
       "}\n",
       "\n",
       "/* On hover */\n",
       "#sk-container-id-14 a.estimator_doc_link:hover {\n",
       "  /* unfitted */\n",
       "  background-color: var(--sklearn-color-unfitted-level-3);\n",
       "  color: var(--sklearn-color-background);\n",
       "  text-decoration: none;\n",
       "}\n",
       "\n",
       "#sk-container-id-14 a.estimator_doc_link.fitted:hover {\n",
       "  /* fitted */\n",
       "  background-color: var(--sklearn-color-fitted-level-3);\n",
       "}\n",
       "</style><div id=\"sk-container-id-14\" class=\"sk-top-container\"><div class=\"sk-text-repr-fallback\"><pre>LabelEncoder()</pre><b>In a Jupyter environment, please rerun this cell to show the HTML representation or trust the notebook. <br />On GitHub, the HTML representation is unable to render, please try loading this page with nbviewer.org.</b></div><div class=\"sk-container\" hidden><div class=\"sk-item\"><div class=\"sk-estimator fitted sk-toggleable\"><input class=\"sk-toggleable__control sk-hidden--visually\" id=\"sk-estimator-id-14\" type=\"checkbox\" checked><label for=\"sk-estimator-id-14\" class=\"sk-toggleable__label fitted sk-toggleable__label-arrow fitted\">&nbsp;&nbsp;LabelEncoder<a class=\"sk-estimator-doc-link fitted\" rel=\"noreferrer\" target=\"_blank\" href=\"https://scikit-learn.org/1.5/modules/generated/sklearn.preprocessing.LabelEncoder.html\">?<span>Documentation for LabelEncoder</span></a><span class=\"sk-estimator-doc-link fitted\">i<span>Fitted</span></span></label><div class=\"sk-toggleable__content fitted\"><pre>LabelEncoder()</pre></div> </div></div></div></div>"
      ],
      "text/plain": [
       "LabelEncoder()"
      ]
     },
     "execution_count": 251,
     "metadata": {},
     "output_type": "execute_result"
    }
   ],
   "source": [
    "le.fit(df.select(pl.col('browser')))"
   ]
  },
  {
   "cell_type": "code",
   "execution_count": 252,
   "metadata": {},
   "outputs": [
    {
     "name": "stderr",
     "output_type": "stream",
     "text": [
      "c:\\Users\\andre\\AppData\\Local\\Programs\\Python\\Python312\\Lib\\site-packages\\sklearn\\preprocessing\\_label.py:132: DataConversionWarning: A column-vector y was passed when a 1d array was expected. Please change the shape of y to (n_samples, ), for example using ravel().\n",
      "  y = column_or_1d(y, dtype=self.classes_.dtype, warn=True)\n"
     ]
    },
    {
     "data": {
      "text/plain": [
       "array([2, 2, 2, ..., 2, 2, 2])"
      ]
     },
     "execution_count": 252,
     "metadata": {},
     "output_type": "execute_result"
    }
   ],
   "source": [
    "encoded_products = le.transform(new_df.select(pl.col('browser')))\n",
    "encoded_products"
   ]
  },
  {
   "cell_type": "code",
   "execution_count": 253,
   "metadata": {},
   "outputs": [
    {
     "data": {
      "text/html": [
       "<div><style>\n",
       ".dataframe > thead > tr,\n",
       ".dataframe > tbody > tr {\n",
       "  text-align: right;\n",
       "  white-space: pre-wrap;\n",
       "}\n",
       "</style>\n",
       "<small>shape: (32_696, 5)</small><table border=\"1\" class=\"dataframe\"><thead><tr><th>fullVisitorId</th><th>country</th><th>browser</th><th>transactionId</th><th>v2ProductName</th></tr><tr><td>str</td><td>i32</td><td>i32</td><td>i32</td><td>i32</td></tr></thead><tbody><tr><td>&quot;9308310352918219134&quot;</td><td>0</td><td>2</td><td>0</td><td>122</td></tr><tr><td>&quot;9308310352918219134&quot;</td><td>0</td><td>2</td><td>0</td><td>37</td></tr><tr><td>&quot;9308310352918219134&quot;</td><td>0</td><td>2</td><td>0</td><td>66</td></tr><tr><td>&quot;9308310352918219134&quot;</td><td>0</td><td>2</td><td>0</td><td>62</td></tr><tr><td>&quot;9308310352918219134&quot;</td><td>0</td><td>2</td><td>0</td><td>9</td></tr><tr><td>&hellip;</td><td>&hellip;</td><td>&hellip;</td><td>&hellip;</td><td>&hellip;</td></tr><tr><td>&quot;7444499703471460562&quot;</td><td>1</td><td>2</td><td>0</td><td>146</td></tr><tr><td>&quot;7444499703471460562&quot;</td><td>1</td><td>2</td><td>0</td><td>147</td></tr><tr><td>&quot;7444499703471460562&quot;</td><td>1</td><td>2</td><td>0</td><td>136</td></tr><tr><td>&quot;7444499703471460562&quot;</td><td>1</td><td>2</td><td>0</td><td>145</td></tr><tr><td>&quot;7444499703471460562&quot;</td><td>1</td><td>2</td><td>0</td><td>166</td></tr></tbody></table></div>"
      ],
      "text/plain": [
       "shape: (32_696, 5)\n",
       "┌─────────────────────┬─────────┬─────────┬───────────────┬───────────────┐\n",
       "│ fullVisitorId       ┆ country ┆ browser ┆ transactionId ┆ v2ProductName │\n",
       "│ ---                 ┆ ---     ┆ ---     ┆ ---           ┆ ---           │\n",
       "│ str                 ┆ i32     ┆ i32     ┆ i32           ┆ i32           │\n",
       "╞═════════════════════╪═════════╪═════════╪═══════════════╪═══════════════╡\n",
       "│ 9308310352918219134 ┆ 0       ┆ 2       ┆ 0             ┆ 122           │\n",
       "│ 9308310352918219134 ┆ 0       ┆ 2       ┆ 0             ┆ 37            │\n",
       "│ 9308310352918219134 ┆ 0       ┆ 2       ┆ 0             ┆ 66            │\n",
       "│ 9308310352918219134 ┆ 0       ┆ 2       ┆ 0             ┆ 62            │\n",
       "│ 9308310352918219134 ┆ 0       ┆ 2       ┆ 0             ┆ 9             │\n",
       "│ …                   ┆ …       ┆ …       ┆ …             ┆ …             │\n",
       "│ 7444499703471460562 ┆ 1       ┆ 2       ┆ 0             ┆ 146           │\n",
       "│ 7444499703471460562 ┆ 1       ┆ 2       ┆ 0             ┆ 147           │\n",
       "│ 7444499703471460562 ┆ 1       ┆ 2       ┆ 0             ┆ 136           │\n",
       "│ 7444499703471460562 ┆ 1       ┆ 2       ┆ 0             ┆ 145           │\n",
       "│ 7444499703471460562 ┆ 1       ┆ 2       ┆ 0             ┆ 166           │\n",
       "└─────────────────────┴─────────┴─────────┴───────────────┴───────────────┘"
      ]
     },
     "execution_count": 253,
     "metadata": {},
     "output_type": "execute_result"
    }
   ],
   "source": [
    "product_vector= new_df.with_columns(pl.Series('browser', encoded_products))\n",
    "product_vector"
   ]
  },
  {
   "cell_type": "code",
   "execution_count": 254,
   "metadata": {},
   "outputs": [
    {
     "data": {
      "text/html": [
       "<div><style>\n",
       ".dataframe > thead > tr,\n",
       ".dataframe > tbody > tr {\n",
       "  text-align: right;\n",
       "  white-space: pre-wrap;\n",
       "}\n",
       "</style>\n",
       "<small>shape: (901, 5)</small><table border=\"1\" class=\"dataframe\"><thead><tr><th>fullVisitorId</th><th>country</th><th>browser</th><th>transactionId</th><th>v2ProductName</th></tr><tr><td>str</td><td>list[i32]</td><td>list[i32]</td><td>list[i32]</td><td>list[i32]</td></tr></thead><tbody><tr><td>&quot;6644155147493409979&quot;</td><td>[0, 0, … 0]</td><td>[2, 2, … 2]</td><td>[0, 0, … 0]</td><td>[7, 28, … 4]</td></tr><tr><td>&quot;1620301366808724575&quot;</td><td>[0, 0, … 0]</td><td>[2, 2, … 2]</td><td>[0, 0, … 0]</td><td>[15, 27, … 127]</td></tr><tr><td>&quot;0970171844996020850&quot;</td><td>[0, 0, … 0]</td><td>[10, 10, … 10]</td><td>[0, 0, … 0]</td><td>[84, 120, … 122]</td></tr><tr><td>&quot;007321944065479730&quot;</td><td>[0, 0, … 0]</td><td>[10, 10, … 10]</td><td>[0, 0, … 0]</td><td>[216, 2, … 28]</td></tr><tr><td>&quot;9457134774547028649&quot;</td><td>[0, 0, 0]</td><td>[2, 2, 2]</td><td>[0, 0, 0]</td><td>[143, 14, 5]</td></tr><tr><td>&hellip;</td><td>&hellip;</td><td>&hellip;</td><td>&hellip;</td><td>&hellip;</td></tr><tr><td>&quot;4550925942700572899&quot;</td><td>[0, 0, … 0]</td><td>[10, 10, … 10]</td><td>[0, 0, … 0]</td><td>[216, 2, … 215]</td></tr><tr><td>&quot;3328488251150384116&quot;</td><td>[0, 0]</td><td>[2, 2]</td><td>[0, 0]</td><td>[154, 11]</td></tr><tr><td>&quot;4928740700828840933&quot;</td><td>[0, 0, … 0]</td><td>[2, 2, … 2]</td><td>[0, 0, … 0]</td><td>[37, 122, … 185]</td></tr><tr><td>&quot;5097087346105463693&quot;</td><td>[0, 0, … 0]</td><td>[2, 2, … 2]</td><td>[0, 0, … 0]</td><td>[48, 74, … 154]</td></tr><tr><td>&quot;4402753241425423157&quot;</td><td>[0, 0, … 0]</td><td>[2, 2, … 2]</td><td>[0, 0, … 0]</td><td>[95, 16, … 35]</td></tr></tbody></table></div>"
      ],
      "text/plain": [
       "shape: (901, 5)\n",
       "┌─────────────────────┬─────────────┬────────────────┬───────────────┬──────────────────┐\n",
       "│ fullVisitorId       ┆ country     ┆ browser        ┆ transactionId ┆ v2ProductName    │\n",
       "│ ---                 ┆ ---         ┆ ---            ┆ ---           ┆ ---              │\n",
       "│ str                 ┆ list[i32]   ┆ list[i32]      ┆ list[i32]     ┆ list[i32]        │\n",
       "╞═════════════════════╪═════════════╪════════════════╪═══════════════╪══════════════════╡\n",
       "│ 6644155147493409979 ┆ [0, 0, … 0] ┆ [2, 2, … 2]    ┆ [0, 0, … 0]   ┆ [7, 28, … 4]     │\n",
       "│ 1620301366808724575 ┆ [0, 0, … 0] ┆ [2, 2, … 2]    ┆ [0, 0, … 0]   ┆ [15, 27, … 127]  │\n",
       "│ 0970171844996020850 ┆ [0, 0, … 0] ┆ [10, 10, … 10] ┆ [0, 0, … 0]   ┆ [84, 120, … 122] │\n",
       "│ 007321944065479730  ┆ [0, 0, … 0] ┆ [10, 10, … 10] ┆ [0, 0, … 0]   ┆ [216, 2, … 28]   │\n",
       "│ 9457134774547028649 ┆ [0, 0, 0]   ┆ [2, 2, 2]      ┆ [0, 0, 0]     ┆ [143, 14, 5]     │\n",
       "│ …                   ┆ …           ┆ …              ┆ …             ┆ …                │\n",
       "│ 4550925942700572899 ┆ [0, 0, … 0] ┆ [10, 10, … 10] ┆ [0, 0, … 0]   ┆ [216, 2, … 215]  │\n",
       "│ 3328488251150384116 ┆ [0, 0]      ┆ [2, 2]         ┆ [0, 0]        ┆ [154, 11]        │\n",
       "│ 4928740700828840933 ┆ [0, 0, … 0] ┆ [2, 2, … 2]    ┆ [0, 0, … 0]   ┆ [37, 122, … 185] │\n",
       "│ 5097087346105463693 ┆ [0, 0, … 0] ┆ [2, 2, … 2]    ┆ [0, 0, … 0]   ┆ [48, 74, … 154]  │\n",
       "│ 4402753241425423157 ┆ [0, 0, … 0] ┆ [2, 2, … 2]    ┆ [0, 0, … 0]   ┆ [95, 16, … 35]   │\n",
       "└─────────────────────┴─────────────┴────────────────┴───────────────┴──────────────────┘"
      ]
     },
     "execution_count": 254,
     "metadata": {},
     "output_type": "execute_result"
    }
   ],
   "source": [
    "user_profiles = product_vector.group_by(pl.col('fullVisitorId')).agg(\n",
    "    pl.col('country'), pl.col('browser'),\n",
    "    pl.col('transactionId'), pl.col('v2ProductName')\n",
    ")\n",
    "user_profiles"
   ]
  },
  {
   "cell_type": "code",
   "execution_count": 255,
   "metadata": {},
   "outputs": [
    {
     "data": {
      "text/html": [
       "<div><style>\n",
       ".dataframe > thead > tr,\n",
       ".dataframe > tbody > tr {\n",
       "  text-align: right;\n",
       "  white-space: pre-wrap;\n",
       "}\n",
       "</style>\n",
       "<small>shape: (901, 4)</small><table border=\"1\" class=\"dataframe\"><thead><tr><th>country</th><th>browser</th><th>transactionId</th><th>v2ProductName</th></tr><tr><td>list[i32]</td><td>list[i32]</td><td>list[i32]</td><td>list[i32]</td></tr></thead><tbody><tr><td>[0, 0, … 0]</td><td>[2, 2, … 2]</td><td>[0, 0, … 0]</td><td>[7, 28, … 4]</td></tr><tr><td>[0, 0, … 0]</td><td>[2, 2, … 2]</td><td>[0, 0, … 0]</td><td>[15, 27, … 127]</td></tr><tr><td>[0, 0, … 0]</td><td>[10, 10, … 10]</td><td>[0, 0, … 0]</td><td>[84, 120, … 122]</td></tr><tr><td>[0, 0, … 0]</td><td>[10, 10, … 10]</td><td>[0, 0, … 0]</td><td>[216, 2, … 28]</td></tr><tr><td>[0, 0, 0]</td><td>[2, 2, 2]</td><td>[0, 0, 0]</td><td>[143, 14, 5]</td></tr><tr><td>&hellip;</td><td>&hellip;</td><td>&hellip;</td><td>&hellip;</td></tr><tr><td>[0, 0, … 0]</td><td>[10, 10, … 10]</td><td>[0, 0, … 0]</td><td>[216, 2, … 215]</td></tr><tr><td>[0, 0]</td><td>[2, 2]</td><td>[0, 0]</td><td>[154, 11]</td></tr><tr><td>[0, 0, … 0]</td><td>[2, 2, … 2]</td><td>[0, 0, … 0]</td><td>[37, 122, … 185]</td></tr><tr><td>[0, 0, … 0]</td><td>[2, 2, … 2]</td><td>[0, 0, … 0]</td><td>[48, 74, … 154]</td></tr><tr><td>[0, 0, … 0]</td><td>[2, 2, … 2]</td><td>[0, 0, … 0]</td><td>[95, 16, … 35]</td></tr></tbody></table></div>"
      ],
      "text/plain": [
       "shape: (901, 4)\n",
       "┌─────────────┬────────────────┬───────────────┬──────────────────┐\n",
       "│ country     ┆ browser        ┆ transactionId ┆ v2ProductName    │\n",
       "│ ---         ┆ ---            ┆ ---           ┆ ---              │\n",
       "│ list[i32]   ┆ list[i32]      ┆ list[i32]     ┆ list[i32]        │\n",
       "╞═════════════╪════════════════╪═══════════════╪══════════════════╡\n",
       "│ [0, 0, … 0] ┆ [2, 2, … 2]    ┆ [0, 0, … 0]   ┆ [7, 28, … 4]     │\n",
       "│ [0, 0, … 0] ┆ [2, 2, … 2]    ┆ [0, 0, … 0]   ┆ [15, 27, … 127]  │\n",
       "│ [0, 0, … 0] ┆ [10, 10, … 10] ┆ [0, 0, … 0]   ┆ [84, 120, … 122] │\n",
       "│ [0, 0, … 0] ┆ [10, 10, … 10] ┆ [0, 0, … 0]   ┆ [216, 2, … 28]   │\n",
       "│ [0, 0, 0]   ┆ [2, 2, 2]      ┆ [0, 0, 0]     ┆ [143, 14, 5]     │\n",
       "│ …           ┆ …              ┆ …             ┆ …                │\n",
       "│ [0, 0, … 0] ┆ [10, 10, … 10] ┆ [0, 0, … 0]   ┆ [216, 2, … 215]  │\n",
       "│ [0, 0]      ┆ [2, 2]         ┆ [0, 0]        ┆ [154, 11]        │\n",
       "│ [0, 0, … 0] ┆ [2, 2, … 2]    ┆ [0, 0, … 0]   ┆ [37, 122, … 185] │\n",
       "│ [0, 0, … 0] ┆ [2, 2, … 2]    ┆ [0, 0, … 0]   ┆ [48, 74, … 154]  │\n",
       "│ [0, 0, … 0] ┆ [2, 2, … 2]    ┆ [0, 0, … 0]   ┆ [95, 16, … 35]   │\n",
       "└─────────────┴────────────────┴───────────────┴──────────────────┘"
      ]
     },
     "execution_count": 255,
     "metadata": {},
     "output_type": "execute_result"
    }
   ],
   "source": [
    "user_profiles = user_profiles.drop('fullVisitorId')\n",
    "user_profiles"
   ]
  },
  {
   "cell_type": "code",
   "execution_count": 256,
   "metadata": {},
   "outputs": [
    {
     "data": {
      "text/plain": [
       "array([[array([0, 0, 0, 0, 0, 0, 0, 0, 0, 0, 0, 0, 0, 0, 0, 0, 0, 0, 0, 0, 0, 0,\n",
       "               0, 0, 0, 0, 0, 0, 0, 0, 0, 0, 0, 0, 0, 0, 0, 0])                 ,\n",
       "        array([2, 2, 2, 2, 2, 2, 2, 2, 2, 2, 2, 2, 2, 2, 2, 2, 2, 2, 2, 2, 2, 2,\n",
       "               2, 2, 2, 2, 2, 2, 2, 2, 2, 2, 2, 2, 2, 2, 2, 2])                 ,\n",
       "        array([0, 0, 0, 0, 0, 0, 0, 0, 0, 0, 0, 0, 0, 0, 0, 0, 0, 0, 0, 0, 0, 0,\n",
       "               0, 0, 0, 0, 0, 0, 0, 0, 0, 0, 0, 0, 0, 0, 0, 0])                 ,\n",
       "        array([  7,  28, 174,  85,  72, 216, 202, 207, 209, 208, 210, 178,  75,\n",
       "                48,  46, 186,  51,  68,  71,  70, 206,  27, 188, 213, 191,   0,\n",
       "               196, 193,  83, 197,  89,  14, 127,  84, 120, 200,  63,   4])    ],\n",
       "       [array([0, 0, 0, 0, 0, 0, 0, 0, 0, 0, 0, 0, 0, 0, 0, 0, 0, 0, 0, 0, 0, 0]),\n",
       "        array([2, 2, 2, 2, 2, 2, 2, 2, 2, 2, 2, 2, 2, 2, 2, 2, 2, 2, 2, 2, 2, 2]),\n",
       "        array([0, 0, 0, 0, 0, 0, 0, 0, 0, 0, 0, 0, 0, 0, 0, 0, 0, 0, 0, 0, 0, 0]),\n",
       "        array([ 15,  27,  28, 213,   1,  37,   8,  26,  11,  14,  23,  24, 213,\n",
       "               191,   0, 196, 193,  83, 197,  89,  14, 127])                   ],\n",
       "       [array([0, 0, 0, 0, 0, 0]), array([10, 10, 10, 10, 10, 10]),\n",
       "        array([0, 0, 0, 0, 0, 0]), array([ 84, 120, 200,  63,   4, 122])],\n",
       "       ...,\n",
       "       [array([0, 0, 0, 0, 0, 0, 0, 0, 0, 0, 0, 0, 0, 0, 0, 0, 0, 0, 0, 0, 0, 0]),\n",
       "        array([2, 2, 2, 2, 2, 2, 2, 2, 2, 2, 2, 2, 2, 2, 2, 2, 2, 2, 2, 2, 2, 2]),\n",
       "        array([0, 0, 0, 0, 0, 0, 0, 0, 0, 0, 0, 0, 0, 0, 0, 0, 0, 0, 0, 0, 0, 0]),\n",
       "        array([ 37, 122, 224, 134,  32,  61,  66,  62,  29,  30,  48,  74, 178,\n",
       "                68, 174,  70,  71,  58,  60,  41, 189, 185])                   ],\n",
       "       [array([0, 0, 0, 0, 0, 0, 0, 0, 0, 0, 0, 0, 0, 0, 0, 0]),\n",
       "        array([2, 2, 2, 2, 2, 2, 2, 2, 2, 2, 2, 2, 2, 2, 2, 2]),\n",
       "        array([0, 0, 0, 0, 0, 0, 0, 0, 0, 0, 0, 0, 0, 0, 0, 0]),\n",
       "        array([ 48,  74, 178,  68, 174,  70,  71,  58,  60,  41, 189, 185, 178,\n",
       "               178, 178, 154])                                                 ],\n",
       "       [array([0, 0, 0, 0, 0, 0, 0, 0, 0, 0, 0, 0, 0, 0, 0, 0, 0, 0, 0, 0, 0, 0,\n",
       "               0, 0, 0, 0, 0, 0, 0, 0, 0, 0, 0, 0, 0, 0, 0, 0, 0, 0, 0, 0, 0, 0]),\n",
       "        array([2, 2, 2, 2, 2, 2, 2, 2, 2, 2, 2, 2, 2, 2, 2, 2, 2, 2, 2, 2, 2, 2,\n",
       "               2, 2, 2, 2, 2, 2, 2, 2, 2, 2, 2, 2, 2, 2, 2, 2, 2, 2, 2, 2, 2, 2]),\n",
       "        array([0, 0, 0, 0, 0, 0, 0, 0, 0, 0, 0, 0, 0, 0, 0, 0, 0, 0, 0, 0, 0, 0,\n",
       "               0, 0, 0, 0, 0, 0, 0, 0, 0, 0, 0, 0, 0, 0, 0, 0, 0, 0, 0, 0, 0, 0]),\n",
       "        array([ 95,  16, 113, 222,  23, 135, 223,  24,  18,  21,  20,  17,  91,\n",
       "                92, 103,  95,  16, 113, 222,  23, 135, 223,  24,  18,  21,  20,\n",
       "                17, 113, 113, 113, 142, 132, 154, 164, 165, 162, 149, 150, 148,\n",
       "               163, 139, 144,  36,  35])                                       ]],\n",
       "      dtype=object)"
      ]
     },
     "execution_count": 256,
     "metadata": {},
     "output_type": "execute_result"
    }
   ],
   "source": [
    "user_profiles = user_profiles.to_numpy()\n",
    "user_profiles"
   ]
  },
  {
   "cell_type": "code",
   "execution_count": 257,
   "metadata": {},
   "outputs": [
    {
     "data": {
      "text/html": [
       "<div><style>\n",
       ".dataframe > thead > tr,\n",
       ".dataframe > tbody > tr {\n",
       "  text-align: right;\n",
       "  white-space: pre-wrap;\n",
       "}\n",
       "</style>\n",
       "<small>shape: (32_696, 4)</small><table border=\"1\" class=\"dataframe\"><thead><tr><th>country</th><th>browser</th><th>transactionId</th><th>v2ProductName</th></tr><tr><td>i32</td><td>i32</td><td>i32</td><td>i32</td></tr></thead><tbody><tr><td>0</td><td>2</td><td>0</td><td>122</td></tr><tr><td>0</td><td>2</td><td>0</td><td>37</td></tr><tr><td>0</td><td>2</td><td>0</td><td>66</td></tr><tr><td>0</td><td>2</td><td>0</td><td>62</td></tr><tr><td>0</td><td>2</td><td>0</td><td>9</td></tr><tr><td>&hellip;</td><td>&hellip;</td><td>&hellip;</td><td>&hellip;</td></tr><tr><td>1</td><td>2</td><td>0</td><td>146</td></tr><tr><td>1</td><td>2</td><td>0</td><td>147</td></tr><tr><td>1</td><td>2</td><td>0</td><td>136</td></tr><tr><td>1</td><td>2</td><td>0</td><td>145</td></tr><tr><td>1</td><td>2</td><td>0</td><td>166</td></tr></tbody></table></div>"
      ],
      "text/plain": [
       "shape: (32_696, 4)\n",
       "┌─────────┬─────────┬───────────────┬───────────────┐\n",
       "│ country ┆ browser ┆ transactionId ┆ v2ProductName │\n",
       "│ ---     ┆ ---     ┆ ---           ┆ ---           │\n",
       "│ i32     ┆ i32     ┆ i32           ┆ i32           │\n",
       "╞═════════╪═════════╪═══════════════╪═══════════════╡\n",
       "│ 0       ┆ 2       ┆ 0             ┆ 122           │\n",
       "│ 0       ┆ 2       ┆ 0             ┆ 37            │\n",
       "│ 0       ┆ 2       ┆ 0             ┆ 66            │\n",
       "│ 0       ┆ 2       ┆ 0             ┆ 62            │\n",
       "│ 0       ┆ 2       ┆ 0             ┆ 9             │\n",
       "│ …       ┆ …       ┆ …             ┆ …             │\n",
       "│ 1       ┆ 2       ┆ 0             ┆ 146           │\n",
       "│ 1       ┆ 2       ┆ 0             ┆ 147           │\n",
       "│ 1       ┆ 2       ┆ 0             ┆ 136           │\n",
       "│ 1       ┆ 2       ┆ 0             ┆ 145           │\n",
       "│ 1       ┆ 2       ┆ 0             ┆ 166           │\n",
       "└─────────┴─────────┴───────────────┴───────────────┘"
      ]
     },
     "execution_count": 257,
     "metadata": {},
     "output_type": "execute_result"
    }
   ],
   "source": [
    "product_vector = product_vector.drop('fullVisitorId')\n",
    "product_vector"
   ]
  },
  {
   "cell_type": "code",
   "execution_count": 259,
   "metadata": {},
   "outputs": [
    {
     "data": {
      "text/plain": [
       "array([[  0,   2,   0, 122],\n",
       "       [  0,   2,   0,  37],\n",
       "       [  0,   2,   0,  66],\n",
       "       ...,\n",
       "       [  1,   2,   0, 136],\n",
       "       [  1,   2,   0, 145],\n",
       "       [  1,   2,   0, 166]])"
      ]
     },
     "execution_count": 259,
     "metadata": {},
     "output_type": "execute_result"
    }
   ],
   "source": [
    "product_vector = product_vector.to_numpy()\n",
    "product_vector"
   ]
  },
  {
   "cell_type": "code",
   "execution_count": 260,
   "metadata": {},
   "outputs": [
    {
     "data": {
      "text/plain": [
       "array([[  0,   2,   0,   7],\n",
       "       [  0,   2,   0,  28],\n",
       "       [  0,   2,   0, 174],\n",
       "       [  0,   2,   0,  85],\n",
       "       [  0,   2,   0,  72],\n",
       "       [  0,   2,   0, 216],\n",
       "       [  0,   2,   0, 202],\n",
       "       [  0,   2,   0, 207],\n",
       "       [  0,   2,   0, 209],\n",
       "       [  0,   2,   0, 208],\n",
       "       [  0,   2,   0, 210],\n",
       "       [  0,   2,   0, 178],\n",
       "       [  0,   2,   0,  75],\n",
       "       [  0,   2,   0,  48],\n",
       "       [  0,   2,   0,  46],\n",
       "       [  0,   2,   0, 186],\n",
       "       [  0,   2,   0,  51],\n",
       "       [  0,   2,   0,  68],\n",
       "       [  0,   2,   0,  71],\n",
       "       [  0,   2,   0,  70],\n",
       "       [  0,   2,   0, 206],\n",
       "       [  0,   2,   0,  27],\n",
       "       [  0,   2,   0, 188],\n",
       "       [  0,   2,   0, 213],\n",
       "       [  0,   2,   0, 191],\n",
       "       [  0,   2,   0,   0],\n",
       "       [  0,   2,   0, 196],\n",
       "       [  0,   2,   0, 193],\n",
       "       [  0,   2,   0,  83],\n",
       "       [  0,   2,   0, 197],\n",
       "       [  0,   2,   0,  89],\n",
       "       [  0,   2,   0,  14],\n",
       "       [  0,   2,   0, 127],\n",
       "       [  0,   2,   0,  84],\n",
       "       [  0,   2,   0, 120],\n",
       "       [  0,   2,   0, 200],\n",
       "       [  0,   2,   0,  63],\n",
       "       [  0,   2,   0,   4]])"
      ]
     },
     "execution_count": 260,
     "metadata": {},
     "output_type": "execute_result"
    }
   ],
   "source": [
    "first_user_profile  = np.vstack(user_profiles[0]).T\n",
    "first_user_profile"
   ]
  },
  {
   "cell_type": "code",
   "execution_count": 312,
   "metadata": {},
   "outputs": [
    {
     "name": "stdout",
     "output_type": "stream",
     "text": [
      "[0.9700354992738827, 0.926926711850442, 0.8934282884290998, 0.9573033323040789, 0.9748033464638738, 0.9993967623258488, 0.9393858608668095, 0.979877089496678, 0.9982655363299526, 0.989558787384225, 0.9978813701905098, 0.9999677099554465, 0.9730486455773891, 0.9995755842239724, 0.9681189509705864, 0.9995869338411795, 0.9762760255937826, 0.9985794461794915, 0.9334705172925682, 0.9986305841463631, 0.9724533964297029, 0.9855202973034652, 0.946649327342377, 0.9978115950994871, 0.9990487238359491, 0.9992771431082017, 0.9969523490914095, 0.9966001552182858, 0.9880406138579184, 0.9525167578604667, 0.9132098553186605, 0.9999670621028999, 0.9736805846976351, 0.9970968653603773, 0.9985884763940194, 0.9918063561349143, 0.9996936085695031, 0.9762760255937826, 0.9730486455773891, 0.9999045009982694, 0.9982779454014843, 0.9998536970961198, 0.9998180728362769, 0.9334705172925682, 0.9990309650593208, 0.9697204906292932, 0.9994135537975347, 0.9374178189119503, 0.9762760255937826, 0.9999810497760843, 0.9907499744502977, 0.9334524027500729, 0.9998989937432744, 0.9900388669521418, 0.9999100379786856, 0.9334524027500729, 0.9954664075405238, 0.9810162265493491, 0.9775905272127927, 0.9608513052560665, 0.9773351620358106, 0.9987144036481208, 0.999977044833326, 0.9832036622539618, 0.9976662196217722, 0.9988169819047158, 0.9993422135552094, 0.9973613785579163, 0.9572027966048946, 0.9334524027500729, 0.999029448393338, 0.9763968809630917, 0.9847066892499363, 0.9846590465476462, 0.9985627542147555, 0.9288505188429513, 0.9771734111404982, 0.9998248075008356, 0.9222994146512321, 0.9762760255937826, 0.9971370796834584, 0.9132098553186605, 0.9874125061871987, 0.9999793585403347, 0.9637696560237927, 0.9999667640788685, 0.9990240472541965, 0.9999693962850861, 0.9832049974312331, 0.9744470026837897, 0.9924371555068981, 0.9854920601434376, 0.9715760099631922, 0.9981549003050879, 0.9891335333518815, 0.9829970410838378, 0.9912059631726634, 0.9991747605527274, 0.9812436228071281, 0.9334705172925682, 0.9999586079335528, 0.9838981831259568, 0.9374178189119502, 0.985233603891151, 0.9998951183407506, 0.9089630074404296, 0.9334705172925682, 0.9014542967697721, 0.9977590596029906, 0.9991424986783509, 0.9762760255937826, 0.9912059631726634, 0.9998169989921609, 0.9986780571913648, 0.9900830441869422, 0.9978259338944273, 0.9988744503091227, 0.9763249631757136, 0.9997190169355674, 0.979877089496678, 0.9997668845913128, 0.9977025140144629, 0.9962991497384153, 0.9501967331651057, 0.9762760255937826, 0.9999037420866963, 0.9991824310404057, 0.8142298823209803, 0.994068794755017, 0.9961464144471647, 0.9597358639403764, 0.9466661379908621, 0.9901362745400566, 0.9975380415464525, 0.9967990018291456, 0.9438475717148581, 0.7692918475160947, 0.9881518974414462, 0.9222991216803921, 0.9966563795527045, 0.999972657594129, 0.9930883099724667, 0.9809819089594543, 0.9985019499649777, 0.9836338255422066, 0.9989059064932168, 0.9225057719588592, 0.9998729071557418, 0.99920014441434, 0.9998729071557418, 0.9616392693403726, 0.9995164644929263, 0.9762760255937826, 0.9779771491660656, 0.9975380415464525, 0.9095116340847582, 0.9999550950143075, 0.9334705172925682, 0.9090533497391319, 0.9775532067859924, 0.9998638618417205, 0.9916633962541511, 0.9937544109154771, 0.998813786693825, 0.9334705172925682, 0.9878284475700296, 0.9999630090081434, 0.9980366245167189, 0.9334705172925682, 0.9162381710625004, 0.9762760255937826, 0.9887077267723378, 0.9334705172925682, 0.9998204416493349, 0.9993967623258488, 0.9879190748863524, 0.9997724438816832, 0.9726176088463448, 0.9974944372177507, 0.980427637955331, 0.8864107547718723, 0.9843080398035237, 0.9998196590284947, 0.9998274014761321, 0.9608414295582524, 0.8555970136642045, 0.979125056933101, 0.9985111776252366, 0.9975380415464525, 0.9997058632043072, 0.9796620176724259, 0.9730486455773891, 0.9334705172925682, 0.9888068774820389, 0.9996088619061698, 0.999909519645785, 0.9940852501104165, 0.9998390546388981, 0.900498058345328, 0.9984786435898454, 0.9383167690760639, 0.9705956262609119, 0.998721125753946, 0.9998873836035433, 0.9292436609623473, 0.9951490302549385, 0.9547955033062386, 0.959897620342624, 0.9975240781792994, 0.9278069698814089, 0.9721274394697368, 0.9999814755489208, 0.9709989877162075, 0.9374178189119502, 0.9828222838147617, 0.9998835142259429, 0.9762760255937826, 0.9999165783913398, 0.8993613737638395, 0.9762760255937826, 0.9975380415464525, 0.9997381331647266, 0.9003322021763417, 0.9997803132660462, 0.97220332233465, 0.9967795605398061, 0.9762760255937826, 0.998885885165132, 0.9998052021220544, 0.9719772599580633, 0.999396762325849, 0.9984369856250795, 0.9993967623258488, 0.9380139394325412, 0.9997678828279818, 0.9838280754348724, 0.9997190169355675, 0.9999499255110238, 0.9975380415464525, 0.9762760255937826, 0.9466596173491754, 0.9912593355673069, 0.9877442637317421, 0.9999614078476071, 0.9988699282496145, 0.9999965150667732, 0.9750254637384445, 0.9203914468096717, 0.9241725624605875, 0.9778987628055892, 0.9758040202942532, 0.9949294556018465, 0.9998729071557418, 0.994068794755017, 0.9998857896003331, 0.9949188665719353, 0.9954664075405238, 0.9994069730174843, 0.9999102950841507, 0.9334705172925682, 0.9334705172925682, 0.9999547193903991, 0.9762760255937826, 0.9374178189119502, 0.9987301289144953, 0.9964829430118001, 0.9623602144121065, 0.9481624805888781, 0.9999793585403348, 0.9827312388353224, 0.9370419145141619, 0.9998943764137755, 0.9887077267723378, 0.9334705172925682, 0.9998499615535484, 0.9999025795234774, 0.9939439925263555, 0.999806819773154, 0.9971370796834584, 0.9994246994428387, 0.978541233680111, 0.9976406659656833, 0.9940919323931324, 0.9996507244589596, 0.9516160691020239, 0.9998052021220544, 0.9999810528508328, 0.9533151820575237, 0.9875156256178762, 0.9645644145807448, 0.9697204906292932, 0.9960053313620433, 0.9374178189119502, 0.9991228764300948, 0.9987802191575216, 0.8807541139882489, 0.9857571667204517, 0.9695905754617691, 0.9552253843567867, 0.998802536328507, 0.9893783756864573, 0.9334705172925682, 0.9937917596353785, 0.9334705172925682, 0.9890712929730746, 0.999345975991831, 0.9995050509339501, 0.9885811528199727, 0.9446171420632836, 0.8174224438565987, 0.9602342837880202, 0.9987297395720148, 0.9999667640788685, 0.9695289124384373, 0.9999750926607829, 0.9822012120639255, 0.9334705172925682, 0.9999283122603517, 0.9857535310015679, 0.9762760255937826, 0.9954791701684194, 0.9971969382438759, 0.9997190169355675, 0.9523793472382951, 0.9095116340847582, 0.9780961133227023, 0.9999618409255353, 0.9997190169355674, 0.9761506469701411, 0.9997268149270896, 0.9455969511533434, 0.9998180728362769, 0.9334705172925682, 0.9961464144471645, 0.9903783851650123, 0.9998052021220544, 0.9199530231457594, 0.9730486455773891, 0.9790493451317008, 0.9998944904180915, 0.9943726392834449, 0.9763209183136382, 0.9762760255937826, 0.9561349630606389, 0.7141778227666093, 0.936828727482372, 0.9994783037657703, 0.9334705172925682, 0.9591970290951194, 0.9747528282471685, 0.9954664075405238, 0.9762760255937826, 0.9762760356892385, 0.9998052021220545, 0.9971370796834584, 0.8726036903049819, 0.9997991701251205, 0.9985000876502246, 0.9912059631726634, 0.9994145873375758, 0.99342920778099, 0.9762760255937826, 0.9983825036950676, 0.9542135663511231, 0.9973188741246217, 0.9993276473953244, 0.9762760255937826, 0.996452208475975, 0.9822840981646546, 0.9998943764137755, 0.9999572630278535, 0.9334705172925682, 0.9851976700303406, 0.9730486455773891, 0.9856207100009817, 0.998071851255207, 0.9978963321093062, 0.9762760255937826, 0.9547955033062386, 0.9993375108101019, 0.9762760255937826, 0.9887077267723378, 0.9998347989821065, 0.9911573946735595, 0.9785666667018825, 0.979125056933101, 0.9368384949046081, 0.9998701150601562, 0.9688638120572988, 0.979527035615405, 0.9819532735259048, 0.9981785431871865, 0.9334705172925682, 0.9988408553434893, 0.999954928088617, 0.9993967623258488, 0.9999681239396783, 0.9762760255937826, 0.9934517711718421, 0.9762760255937826, 0.9987753479921966, 0.9762760255937826, 0.9988638123195352, 0.9334705172925682, 0.9984321256840895, 0.9629680918405787, 0.9982885098921044, 0.9965384766989134, 0.9610891220324532, 0.9438475717148581, 0.9997190169355675, 0.9997546076231256, 0.9762760255937826, 0.8849016975888404, 0.949088803245525, 0.9657548756525413, 0.9960515093414108, 0.9984867476641635, 0.9986324282367711, 0.9865552941278688, 0.8915220332665825, 0.9989790664028297, 0.9998052021220544, 0.9438475717148581, 0.9951270187341196, 0.9762760255937826, 0.9334705172925682, 0.9997954085091868, 0.9975380415464525, 0.9334705172925682, 0.9762760255937826, 0.9996523990835222, 0.9762760255937826, 0.9700689051978579, 0.9996579057542351, 0.9999762015241719, 0.9833907559781561, 0.9334705172925682, 0.9971534528756408, 0.9986295810663863, 0.9765254916571766, 0.9334705172925682, 0.9887077267723378, 0.9970791214833832, 0.9998052021220544, 0.9762760255937826, 0.9975380415464525, 0.9967459991667643, 0.9762760255937826, 0.9975380415464525, 0.9975380415464525, 0.9999810552183914, 0.9620483742689029, 0.9245399888390833, 0.9999681958188714, 0.9975380415464525, 0.9982781056235238, 0.9973444046688467, 0.8177057539749457, 0.9695047144722707, 0.9846115720908116, 0.9993373394237601, 0.9986102569917795, 0.999369927076478, 0.9334705172925682, 0.9999775686207473, 0.9999534668910985, 0.9692151234427216, 0.9999861570381408, 0.9962991355812697, 0.999964839698852, 0.9975380415464525, 0.9991197692178982, 0.9982092576551657, 0.9334705172925682, 0.9347826436638058, 0.9919261367851187, 0.9043612007275803, 0.9822001497424615, 0.9999828339598629, 0.9283264486215796, 0.9980126863977369, 0.978298674395696, 0.9997289842349195, 0.9750254637384445, 0.9988190448279202, 0.9762760255937826, 0.9374178189119502, 0.9628352818662043, 0.9601784165781891, 0.999955579993046, 0.9977095571938881, 0.9582701827898185, 0.9998070676381591, 0.9775945330867493, 0.9999667640788685, 0.9334705172925682, 0.9374178189119503, 0.9989826977476474, 0.9997190169355674, 0.9821355436076308, 0.9334705172925682, 0.9839946666954669, 0.99997820114469, 0.9988018021391638, 0.9132098553186605, 0.9762760255937826, 0.9990817147555869, 0.9995849414631376, 0.8594486930250257, 0.9995141782688834, 0.9990286626840986, 0.9887077267723378, 0.9994013822676167, 0.9925697053138073, 0.9919061449429062, 0.9999547193903991, 0.9992466751835369, 0.9547955033062386, 0.9856207100009817, 0.9998052021220544, 0.9986950605158181, 0.9670008081612199, 0.9996805329728972, 0.9758040202942532, 0.9803075650555101, 0.9998371656642824, 0.9547955033062386, 0.9998849352230615, 0.9989333442801541, 0.9927818215653276, 0.9715545367279502, 0.9555000665432053, 0.9740830954624433, 0.864646529769679, 0.9975380415464525, 0.8878513450474207, 0.9999585194508567, 0.997374758355668, 0.9334524027500729, 0.9417838666688171, 0.9841490565094383, 0.9819112657596294, 0.9762760255937826, 0.9762760255937826, 0.9882266707468025, 0.9997455890847683, 0.9539374104201618, 0.9555000665432054, 0.9744919607931378, 0.9998482565595974, 0.9334705172925682, 0.7816045800674816, 0.9748033464638738, 0.9915104764655522, 0.9256052610431498, 0.9334705172925682, 0.9952517315220832, 0.9973139472005502, 0.9334705172925682, 0.938543402072718, 0.9607128117877509, 0.9998903648516573, 0.9610891220324532, 0.9998768334010864, 0.9997973075376826, 0.9527481933153306, 0.9762760255937826, 0.8571850151745569, 0.9570949825834255, 0.9334685469319147, 0.9334524027500729, 0.9334705172925682, 0.9999572630278535, 0.9762760255937826, 0.9691537443285713, 0.9914415479309188, 0.9976083009982516, 0.9987552256419696, 0.999469119603798, 0.9899291115977399, 0.9762760255937826, 0.9658610586888865, 0.9438475717148581, 0.9762760255937826, 0.9722407376395742, 0.9996120129124256, 0.9334705172925682, 0.9927658249704104, 0.9882698303994678, 0.9975380415464525, 0.981016226549349, 0.9996403553270535, 0.9870030042448049, 0.9762760255937826, 0.9971096276025229, 0.9998729071557418, 0.9997190169355675, 0.9762760255937826, 0.9539434655463054, 0.9542314660900052, 0.9976826527529697, 0.9856015616088614, 0.9934591242472436, 0.9978191173467186, 0.9999615576732535, 0.9986195183546084, 0.9762760255937826, 0.9997991701251205, 0.9762760255937826, 0.9132098553186605, 0.9998729071557418, 0.9998831352735721, 0.9997913884012393, 0.9999801505007438, 0.9602932125683492, 0.9887077267723378, 0.9999693752654712, 0.9996848168136598, 0.9746376392339489, 0.9975380415464525, 0.9547955033062386, 0.9985855469586573, 0.9999371660697377, 0.9653512885604069, 0.9848419101489558, 0.9994660279912781, 0.9762760255937826, 0.9997850895954472, 0.9987552256419696, 0.9998880121919791, 0.9985512066574403, 0.9999549203746546, 0.9856723691927947, 0.985356315329261, 0.9904089236389223, 0.999606460261935, 0.9966001552182856, 0.9762760255937826, 0.9990959579463852, 0.9827405840080876, 0.9565377572467191, 0.9988102770960643, 0.9967459991667643, 0.9999681958188714, 0.9610891220324532, 0.929338072474707, 0.9334705172925682, 0.9984679933760001, 0.9998180728362769, 0.9536217972531336, 0.9554642297838574, 0.9550023066187646, 0.9742308589465437, 0.9861418340300248, 0.99979478257663, 0.9855153383920663, 0.9940852501104165, 0.9553739484325566, 0.9762760255937826, 0.9730486455773891, 0.9405161542051096, 0.9712231268136773, 0.9958712271578953, 0.952595435194056, 0.9999802534459108, 0.977646196371566, 0.9997913884012393, 0.9762760255937826, 0.9635218964644978, 0.9999745315434568, 0.9984575286258769, 0.9334705172925682, 0.9762760255937826, 0.918471010456227, 0.9666306289031094, 0.9330101785512676, 0.9975364124950996, 0.9975380415464525, 0.9742920913122497, 0.9762760255937826, 0.9768968986804886, 0.9625377736374678, 0.998738786335026, 0.9821999134773793, 0.9334705172925682, 0.9786006224276825, 0.9730486455773891, 0.9762760255937826, 0.9762760255937826, 0.9999615651675006, 0.9983829146279966, 0.9975380415464525, 0.938545487479955, 0.9762760255937826, 0.9998788244556261, 0.999976103705768, 0.999601955634183, 0.9334705172925682, 0.9998052021220544, 0.9999283122603517, 0.9334705172925682, 0.9581629274449531, 0.9965735872961947, 0.9999581559564867, 0.9334705172925682, 0.9984215101484333, 0.91554733740709, 0.9260569743029926, 0.9958568893731055, 0.9980314376445862, 0.9993378833351632, 0.9968977741599433, 0.9977023750381417, 0.9840146011882428, 0.9988190448279202, 0.9983281075296325, 0.9997266838781265, 0.9443423726853656, 0.8634226935593756, 0.9892483100542873, 0.9998052021220544, 0.9961464144471645, 0.9999572630278535, 0.9730486455773891, 0.9975380415464525, 0.9334705172925682, 0.9988190448279202, 0.9751795662583893, 0.9983307725003949, 0.9997913884012393, 0.9997791455540452, 0.9762760255937826, 0.9967459991667643, 0.9993967623258488, 0.9997480971300948, 0.9762760255937826, 0.7095764867527113, 0.9990146157699593, 0.9940919323931324, 0.9998724813942731, 0.8916605803903981, 0.9999543389188952, 0.9773740334951581, 0.9995543634337952, 0.6612501431061419, 0.9998812993279163, 0.9999807424512039, 0.9975380415464525, 0.998121119776257, 0.986321946783232, 0.999976103705768, 0.9999667640788685, 0.9964717904780123, 0.9975380415464525, 0.9874477719741955, 0.9840903560410443, 0.9762760255937826, 0.9299272099684658, 0.9996412556411026, 0.9999572630278535, 0.967684208276359, 0.9897032497186503, 0.9717386351330286, 0.9730486455773891, 0.9911737779767333, 0.9459112045209689, 0.9636518104595115, 0.9801567888521665, 0.9971370796834584, 0.9975380415464525, 0.9982564829890265, 0.9498331353512034, 0.9740339326999868, 0.9985779070087935, 0.9647478170343751, 0.9999697891132464, 0.9998638618417205, 0.9873798201521906, 0.9762760255937826, 0.9998638618417205, 0.9998180728362769, 0.9772285452904316, 0.979718460155699, 0.9997190169355675, 0.979877089496678, 0.9573466792266879, 0.9334705172925682, 0.9975380415464525, 0.9998052021220544, 0.999146471857912, 0.9975380415464525, 0.9998820422336633, 0.9991941036512658, 0.9833153570336984, 0.948477115670328, 0.9334705172925682, 0.9997905814752636, 0.9969430272401564, 0.997794242202746, 0.9913108354426956, 0.9998052021220544, 0.9859683996772408, 0.9966001552182856, 0.9169401539718156, 0.9986853283584255, 0.9841755891228665, 0.9987856716911532, 0.9374178189119502, 0.9334524027500729, 0.9975380415464525, 0.9998242467905603, 0.9948489890215293, 0.9810153236997444, 0.9999421613745338, 0.9977564991492722, 0.9334705172925682, 0.9853917151729109, 0.9740228783435283, 0.9878897027975783, 0.9762760255937826, 0.9999106707495183, 0.909511634084758, 0.9940919323931324, 0.9998180728362769, 0.8726036903049816, 0.9748033464638738, 0.9691070308358744, 0.9822707128829778, 0.9649848411445645, 0.9932721732320989, 0.9796132426405687, 0.9982637099672408, 0.9762760255937826, 0.8726036903049816, 0.9999092880013373, 0.9993886612365196, 0.9988422565629387, 0.9173382424715648, 0.9971370796834584, 0.9989371353263398, 0.9656890274175985, 0.98411808947531, 0.9968503680591799, 0.9982205724752582, 0.9374178189119502, 0.9997516414555211, 0.9767082605789597, 0.9132098553186605, 0.9965008858869566, 0.9860988080981961, 0.7702383348617032, 0.9428874715590551, 0.9998180728362769, 0.9850096224336751, 0.9999681958188714, 0.9999810591167646, 0.8968226511329, 0.964311891042307, 0.9958982968602208, 0.9987255709508213, 0.9334524027500729, 0.9565835734514125, 0.98392093793131, 0.9998279957256041, 0.9374178189119502, 0.9762760255937826, 0.9787828767723773, 0.9993287261356945, 0.9957287406579073, 0.9660874118141674, 0.979831792365763, 0.9555000665432054, 0.9998488051857977, 0.9997190169355675, 0.9334705172925682, 0.9144520396822612, 0.9998655362428734, 0.9999441419209185, 0.948477115670328, 0.9762760255937826, 0.9998052021220544, 0.9910942021884028, 0.9998869769714702, 0.999798368780159, 0.9874938360288568, 0.9916023829578916, 0.9867909576899345, 0.9987143616238632, 0.9992401010380814, 0.9984110504279158, 0.9716595252259613, 0.9885795588770143, 0.9893262936458092, 0.9851460607226127, 0.9855612063957835, 0.9334705172925682, 0.9929585648718262, 0.9996195476692337, 0.9998492767902849, 0.9986001508392025]\n"
     ]
    }
   ],
   "source": [
    "user_profile_avg_similarity = []\n",
    "for i in range(0,len(user_profiles)):\n",
    "    test_user_profile = np.vstack(user_profiles[i]).T\n",
    "    avg_similarity = cosine_similarity(test_user_profile, [product_vector[-1]])\n",
    "    avg_similarity = avg_similarity.mean()\n",
    "    user_profile_avg_similarity.append(avg_similarity)\n",
    "print(user_profile_avg_similarity)"
   ]
  },
  {
   "cell_type": "code",
   "execution_count": 318,
   "metadata": {},
   "outputs": [
    {
     "data": {
      "text/plain": [
       "array([0.66125014, 0.70957649, 0.71417782, 0.76929185, 0.77023833,\n",
       "       0.78160458, 0.81422988, 0.81742244, 0.81770575, 0.85559701,\n",
       "       0.85718502, 0.85944869, 0.86342269, 0.86464653, 0.87260369,\n",
       "       0.87260369, 0.87260369, 0.88075411, 0.8849017 , 0.88641075,\n",
       "       0.88785135, 0.89152203, 0.89166058, 0.89342829, 0.89682265,\n",
       "       0.89936137, 0.9003322 , 0.90049806, 0.9014543 , 0.9043612 ,\n",
       "       0.90896301, 0.90905335, 0.90951163, 0.90951163, 0.90951163,\n",
       "       0.91320986, 0.91320986, 0.91320986, 0.91320986, 0.91320986,\n",
       "       0.91445204, 0.91554734, 0.91623817, 0.91694015, 0.91733824,\n",
       "       0.91847101, 0.91995302, 0.92039145, 0.92229912, 0.92229941,\n",
       "       0.92250577, 0.92417256, 0.92453999, 0.92560526, 0.92605697,\n",
       "       0.92692671, 0.92780697, 0.92832645, 0.92885052, 0.92924366,\n",
       "       0.92933807, 0.92992721, 0.93301018, 0.9334524 , 0.9334524 ,\n",
       "       0.9334524 , 0.9334524 , 0.9334524 , 0.9334524 , 0.9334524 ,\n",
       "       0.93346855, 0.93347052, 0.93347052, 0.93347052, 0.93347052,\n",
       "       0.93347052, 0.93347052, 0.93347052, 0.93347052, 0.93347052,\n",
       "       0.93347052, 0.93347052, 0.93347052, 0.93347052, 0.93347052,\n",
       "       0.93347052, 0.93347052, 0.93347052, 0.93347052, 0.93347052,\n",
       "       0.93347052, 0.93347052, 0.93347052, 0.93347052, 0.93347052,\n",
       "       0.93347052, 0.93347052, 0.93347052, 0.93347052, 0.93347052,\n",
       "       0.93347052, 0.93347052, 0.93347052, 0.93347052, 0.93347052,\n",
       "       0.93347052, 0.93347052, 0.93347052, 0.93347052, 0.93347052,\n",
       "       0.93347052, 0.93347052, 0.93347052, 0.93347052, 0.93347052,\n",
       "       0.93347052, 0.93478264, 0.93682873, 0.93683849, 0.93704191,\n",
       "       0.93741782, 0.93741782, 0.93741782, 0.93741782, 0.93741782,\n",
       "       0.93741782, 0.93741782, 0.93741782, 0.93741782, 0.93741782,\n",
       "       0.93801394, 0.93831677, 0.9385434 , 0.93854549, 0.93938586,\n",
       "       0.94051615, 0.94178387, 0.94288747, 0.94384757, 0.94384757,\n",
       "       0.94384757, 0.94384757, 0.94434237, 0.94461714, 0.94559695,\n",
       "       0.9459112 , 0.94664933, 0.94665962, 0.94666614, 0.94816248,\n",
       "       0.94847712, 0.94847712, 0.9490888 , 0.94983314, 0.95019673,\n",
       "       0.95161607, 0.95237935, 0.95251676, 0.95259544, 0.95274819,\n",
       "       0.95331518, 0.9536218 , 0.95393741, 0.95394347, 0.95421357,\n",
       "       0.95423147, 0.9547955 , 0.9547955 , 0.9547955 , 0.9547955 ,\n",
       "       0.9547955 , 0.95500231, 0.95522538, 0.95537395, 0.95546423,\n",
       "       0.95550007, 0.95550007, 0.95550007, 0.95613496, 0.95653776,\n",
       "       0.95658357, 0.95709498, 0.9572028 , 0.95730333, 0.95734668,\n",
       "       0.95816293, 0.95827018, 0.95919703, 0.95973586, 0.95989762,\n",
       "       0.96017842, 0.96023428, 0.96029321, 0.96071281, 0.96084143,\n",
       "       0.96085131, 0.96108912, 0.96108912, 0.96108912, 0.96163927,\n",
       "       0.96204837, 0.96236021, 0.96253777, 0.96283528, 0.96296809,\n",
       "       0.9635219 , 0.96365181, 0.96376966, 0.96431189, 0.96456441,\n",
       "       0.96474782, 0.96498484, 0.96535129, 0.96568903, 0.96575488,\n",
       "       0.96586106, 0.96608741, 0.96663063, 0.96700081, 0.96768421,\n",
       "       0.96811895, 0.96886381, 0.96910703, 0.96915374, 0.96921512,\n",
       "       0.96950471, 0.96952891, 0.96959058, 0.96972049, 0.96972049,\n",
       "       0.9700355 , 0.97006891, 0.97059563, 0.97099899, 0.97122313,\n",
       "       0.97155454, 0.97157601, 0.97165953, 0.97173864, 0.97197726,\n",
       "       0.97212744, 0.97220332, 0.97224074, 0.9724534 , 0.97261761,\n",
       "       0.97304865, 0.97304865, 0.97304865, 0.97304865, 0.97304865,\n",
       "       0.97304865, 0.97304865, 0.97304865, 0.97304865, 0.97368058,\n",
       "       0.97402288, 0.97403393, 0.9740831 , 0.97423086, 0.97429209,\n",
       "       0.974447  , 0.97449196, 0.97463764, 0.97475283, 0.97480335,\n",
       "       0.97480335, 0.97480335, 0.97502546, 0.97502546, 0.97517957,\n",
       "       0.97580402, 0.97580402, 0.97615065, 0.97627603, 0.97627603,\n",
       "       0.97627603, 0.97627603, 0.97627603, 0.97627603, 0.97627603,\n",
       "       0.97627603, 0.97627603, 0.97627603, 0.97627603, 0.97627603,\n",
       "       0.97627603, 0.97627603, 0.97627603, 0.97627603, 0.97627603,\n",
       "       0.97627603, 0.97627603, 0.97627603, 0.97627603, 0.97627603,\n",
       "       0.97627603, 0.97627603, 0.97627603, 0.97627603, 0.97627603,\n",
       "       0.97627603, 0.97627603, 0.97627603, 0.97627603, 0.97627603,\n",
       "       0.97627603, 0.97627603, 0.97627603, 0.97627603, 0.97627603,\n",
       "       0.97627603, 0.97627603, 0.97627603, 0.97627603, 0.97627603,\n",
       "       0.97627603, 0.97627603, 0.97627603, 0.97627603, 0.97627603,\n",
       "       0.97627603, 0.97627603, 0.97627603, 0.97627603, 0.97627603,\n",
       "       0.97627603, 0.97627603, 0.97627603, 0.97627603, 0.97627603,\n",
       "       0.97627603, 0.97627604, 0.97632092, 0.97632496, 0.97639688,\n",
       "       0.97652549, 0.97670826, 0.9768969 , 0.97717341, 0.97722855,\n",
       "       0.97733516, 0.97737403, 0.97755321, 0.97759053, 0.97759453,\n",
       "       0.9776462 , 0.97789876, 0.97797715, 0.97809611, 0.97829867,\n",
       "       0.97854123, 0.97856667, 0.97860062, 0.97878288, 0.97904935,\n",
       "       0.97912506, 0.97912506, 0.97952704, 0.97961324, 0.97966202,\n",
       "       0.97971846, 0.97983179, 0.97987709, 0.97987709, 0.97987709,\n",
       "       0.98015679, 0.98030757, 0.98042764, 0.98098191, 0.98101532,\n",
       "       0.98101623, 0.98101623, 0.98124362, 0.98191127, 0.98195327,\n",
       "       0.98213554, 0.98219991, 0.98220015, 0.98220121, 0.98227071,\n",
       "       0.9822841 , 0.98273124, 0.98274058, 0.98282228, 0.98299704,\n",
       "       0.98320366, 0.983205  , 0.98331536, 0.98339076, 0.98363383,\n",
       "       0.98382808, 0.98389818, 0.98392094, 0.98399467, 0.9840146 ,\n",
       "       0.98409036, 0.98411809, 0.98414906, 0.98417559, 0.98430804,\n",
       "       0.98461157, 0.98465905, 0.98470669, 0.98484191, 0.98500962,\n",
       "       0.98514606, 0.98519767, 0.9852336 , 0.98535632, 0.98539172,\n",
       "       0.98549206, 0.98551534, 0.9855203 , 0.98556121, 0.98560156,\n",
       "       0.98562071, 0.98562071, 0.98567237, 0.98575353, 0.98575717,\n",
       "       0.9859684 , 0.98609881, 0.98614183, 0.98632195, 0.98655529,\n",
       "       0.98679096, 0.987003  , 0.98737982, 0.98741251, 0.98744777,\n",
       "       0.98749384, 0.98751563, 0.98774426, 0.98782845, 0.9878897 ,\n",
       "       0.98791907, 0.98804061, 0.9881519 , 0.98822667, 0.98826983,\n",
       "       0.98857956, 0.98858115, 0.98870773, 0.98870773, 0.98870773,\n",
       "       0.98870773, 0.98870773, 0.98870773, 0.98880688, 0.98907129,\n",
       "       0.98913353, 0.98924831, 0.98932629, 0.98937838, 0.98955879,\n",
       "       0.98970325, 0.98992911, 0.99003887, 0.99008304, 0.99013627,\n",
       "       0.99037839, 0.99040892, 0.99074997, 0.9910942 , 0.99115739,\n",
       "       0.99117378, 0.99120596, 0.99120596, 0.99120596, 0.99125934,\n",
       "       0.99131084, 0.99144155, 0.99151048, 0.99160238, 0.9916634 ,\n",
       "       0.99180636, 0.99190614, 0.99192614, 0.99243716, 0.99256971,\n",
       "       0.99276582, 0.99278182, 0.99295856, 0.99308831, 0.99327217,\n",
       "       0.99342921, 0.99345177, 0.99345912, 0.99375441, 0.99379176,\n",
       "       0.99394399, 0.99406879, 0.99406879, 0.99408525, 0.99408525,\n",
       "       0.99409193, 0.99409193, 0.99409193, 0.99437264, 0.99484899,\n",
       "       0.99491887, 0.99492946, 0.99512702, 0.99514903, 0.99525173,\n",
       "       0.99546641, 0.99546641, 0.99546641, 0.99547917, 0.99572874,\n",
       "       0.99585689, 0.99587123, 0.9958983 , 0.99600533, 0.99605151,\n",
       "       0.99614641, 0.99614641, 0.99614641, 0.99629914, 0.99629915,\n",
       "       0.99645221, 0.99647179, 0.99648294, 0.99650089, 0.99653848,\n",
       "       0.99657359, 0.99660016, 0.99660016, 0.99660016, 0.99665638,\n",
       "       0.996746  , 0.996746  , 0.996746  , 0.99677956, 0.996799  ,\n",
       "       0.99685037, 0.99689777, 0.99694303, 0.99695235, 0.99707912,\n",
       "       0.99709687, 0.99710963, 0.99713708, 0.99713708, 0.99713708,\n",
       "       0.99713708, 0.99713708, 0.99715345, 0.99719694, 0.99731395,\n",
       "       0.99731887, 0.9973444 , 0.99736138, 0.99737476, 0.99749444,\n",
       "       0.99752408, 0.99753641, 0.99753804, 0.99753804, 0.99753804,\n",
       "       0.99753804, 0.99753804, 0.99753804, 0.99753804, 0.99753804,\n",
       "       0.99753804, 0.99753804, 0.99753804, 0.99753804, 0.99753804,\n",
       "       0.99753804, 0.99753804, 0.99753804, 0.99753804, 0.99753804,\n",
       "       0.99753804, 0.99753804, 0.99753804, 0.99753804, 0.99753804,\n",
       "       0.9976083 , 0.99764067, 0.99766622, 0.99768265, 0.99770238,\n",
       "       0.99770251, 0.99770956, 0.9977565 , 0.99775906, 0.99779424,\n",
       "       0.9978116 , 0.99781912, 0.99782593, 0.99788137, 0.99789633,\n",
       "       0.99801269, 0.99803144, 0.99803662, 0.99807185, 0.99812112,\n",
       "       0.9981549 , 0.99817854, 0.99820926, 0.99822057, 0.99825648,\n",
       "       0.99826371, 0.99826554, 0.99827795, 0.99827811, 0.99828851,\n",
       "       0.99832811, 0.99833077, 0.9983825 , 0.99838291, 0.99841105,\n",
       "       0.99842151, 0.99843213, 0.99843699, 0.99845753, 0.99846799,\n",
       "       0.99847864, 0.99848675, 0.99850009, 0.99850195, 0.99851118,\n",
       "       0.99855121, 0.99856275, 0.99857791, 0.99857945, 0.99858555,\n",
       "       0.99858848, 0.99860015, 0.99861026, 0.99861952, 0.99862958,\n",
       "       0.99863058, 0.99863243, 0.99867806, 0.99868533, 0.99869506,\n",
       "       0.99871436, 0.9987144 , 0.99872113, 0.99872557, 0.99872974,\n",
       "       0.99873013, 0.99873879, 0.99875523, 0.99875523, 0.99877535,\n",
       "       0.99878022, 0.99878567, 0.9988018 , 0.99880254, 0.99881028,\n",
       "       0.99881379, 0.99881698, 0.99881904, 0.99881904, 0.99881904,\n",
       "       0.99884086, 0.99884226, 0.99886381, 0.99886993, 0.99887445,\n",
       "       0.99888589, 0.99890591, 0.99893334, 0.99893714, 0.99897907,\n",
       "       0.9989827 , 0.99901462, 0.99902405, 0.99902866, 0.99902945,\n",
       "       0.99903097, 0.99904872, 0.99908171, 0.99909596, 0.99911977,\n",
       "       0.99912288, 0.9991425 , 0.99914647, 0.99917476, 0.99918243,\n",
       "       0.9991941 , 0.99920014, 0.9992401 , 0.99924668, 0.99927714,\n",
       "       0.99932765, 0.99932873, 0.99933734, 0.99933751, 0.99933788,\n",
       "       0.99934221, 0.99934598, 0.99936993, 0.99938866, 0.99939676,\n",
       "       0.99939676, 0.99939676, 0.99939676, 0.99939676, 0.99939676,\n",
       "       0.99940138, 0.99940697, 0.99941355, 0.99941459, 0.9994247 ,\n",
       "       0.99946603, 0.99946912, 0.9994783 , 0.99950505, 0.99951418,\n",
       "       0.99951646, 0.99955436, 0.99957558, 0.99958494, 0.99958693,\n",
       "       0.99960196, 0.99960646, 0.99960886, 0.99961201, 0.99961955,\n",
       "       0.99964036, 0.99964126, 0.99965072, 0.9996524 , 0.99965791,\n",
       "       0.99968053, 0.99968482, 0.99969361, 0.99970586, 0.99971902,\n",
       "       0.99971902, 0.99971902, 0.99971902, 0.99971902, 0.99971902,\n",
       "       0.99971902, 0.99971902, 0.99971902, 0.99972668, 0.99972681,\n",
       "       0.99972898, 0.99973813, 0.99974559, 0.9997481 , 0.99975164,\n",
       "       0.99975461, 0.99976688, 0.99976788, 0.99977244, 0.99977915,\n",
       "       0.99978031, 0.99978509, 0.99979058, 0.99979139, 0.99979139,\n",
       "       0.99979139, 0.99979478, 0.99979541, 0.99979731, 0.99979837,\n",
       "       0.99979917, 0.99979917, 0.9998052 , 0.9998052 , 0.9998052 ,\n",
       "       0.9998052 , 0.9998052 , 0.9998052 , 0.9998052 , 0.9998052 ,\n",
       "       0.9998052 , 0.9998052 , 0.9998052 , 0.9998052 , 0.99980682,\n",
       "       0.99980707, 0.999817  , 0.99981807, 0.99981807, 0.99981807,\n",
       "       0.99981807, 0.99981807, 0.99981807, 0.99981966, 0.99982044,\n",
       "       0.99982425, 0.99982481, 0.9998274 , 0.999828  , 0.9998348 ,\n",
       "       0.99983717, 0.99983905, 0.99984826, 0.99984881, 0.99984928,\n",
       "       0.99984996, 0.9998537 , 0.99986386, 0.99986386, 0.99986386,\n",
       "       0.99986554, 0.99987012, 0.99987248, 0.99987291, 0.99987291,\n",
       "       0.99987291, 0.99987291, 0.99987291, 0.99987683, 0.99987882,\n",
       "       0.9998813 , 0.99988204, 0.99988314, 0.99988351, 0.99988494,\n",
       "       0.99988579, 0.99988698, 0.99988738, 0.99988801, 0.99989036,\n",
       "       0.99989438, 0.99989438, 0.99989449, 0.99989512, 0.99989899,\n",
       "       0.99990258, 0.99990374, 0.9999045 , 0.99990929, 0.99990952,\n",
       "       0.99991004, 0.9999103 , 0.99991067, 0.99991658, 0.99992831,\n",
       "       0.99992831, 0.99993717, 0.99994216, 0.99994414, 0.99994993,\n",
       "       0.99995347, 0.99995434, 0.99995472, 0.99995472, 0.99995492,\n",
       "       0.99995493, 0.9999551 , 0.99995558, 0.99995726, 0.99995726,\n",
       "       0.99995726, 0.99995726, 0.99995816, 0.99995852, 0.99995861,\n",
       "       0.99996141, 0.99996156, 0.99996157, 0.99996184, 0.99996301,\n",
       "       0.99996484, 0.99996676, 0.99996676, 0.99996676, 0.99996676,\n",
       "       0.99996706, 0.99996771, 0.99996812, 0.9999682 , 0.9999682 ,\n",
       "       0.9999682 , 0.99996938, 0.9999694 , 0.99996979, 0.99997266,\n",
       "       0.99997453, 0.99997509, 0.9999761 , 0.9999761 , 0.9999762 ,\n",
       "       0.99997704, 0.99997757, 0.9999782 , 0.99997936, 0.99997936,\n",
       "       0.99998015, 0.99998025, 0.99998074, 0.99998105, 0.99998105,\n",
       "       0.99998106, 0.99998106, 0.99998148, 0.99998283, 0.99998616,\n",
       "       0.99999652])"
      ]
     },
     "execution_count": 318,
     "metadata": {},
     "output_type": "execute_result"
    }
   ],
   "source": [
    "sorted_arr = np.sort(user_profile_avg_similarity)\n",
    "sorted_arr"
   ]
  },
  {
   "cell_type": "code",
   "execution_count": 322,
   "metadata": {},
   "outputs": [
    {
     "data": {
      "text/plain": [
       "array([0.99998106, 0.99998148, 0.99998283, 0.99998616, 0.99999652])"
      ]
     },
     "execution_count": 322,
     "metadata": {},
     "output_type": "execute_result"
    }
   ],
   "source": [
    "sorted_arr[-5:]"
   ]
  },
  {
   "cell_type": "code",
   "execution_count": 263,
   "metadata": {},
   "outputs": [],
   "source": [
    "new_df.write_csv(\"../data/cleaned_google_analytics.csv\")"
   ]
  },
  {
   "cell_type": "code",
   "execution_count": 264,
   "metadata": {},
   "outputs": [],
   "source": [
    "# Need to split the data into subsets & perform the target encoding... k fold target encoding\n",
    "# num_samples = len(new_df) // 8\n",
    "# num_samples\n",
    "# new_df = new_df.with_columns(pl.DataFrame({'kfold':np.repeat(np.arange(1, 9), num_samples)}))\n",
    "# new_df"
   ]
  },
  {
   "cell_type": "markdown",
   "metadata": {},
   "source": [
    "### Data Pre-processing Pipeline"
   ]
  },
  {
   "cell_type": "code",
   "execution_count": 265,
   "metadata": {},
   "outputs": [],
   "source": [
    "def preprocessing_pipeline(df: pl.DataFrame) -> pl.DataFrame:\n",
    "    \"\"\"\n",
    "    Args:\n",
    "        df : pl.DataFrame\n",
    "\n",
    "    Returns:\n",
    "        pl.DataFrames: pre-processed dataframe\n",
    "    \"\"\"\n",
    "\n",
    "    df = df.with_columns(pl.col('date').str.strptime(pl.Date, format=\"%Y%m%d\"))\n",
    "    df.write_csv(\"../data/cleaned_google_analytics.csv\")\n",
    "    return df "
   ]
  },
  {
   "cell_type": "code",
   "execution_count": 266,
   "metadata": {},
   "outputs": [
    {
     "data": {
      "text/html": [
       "<div><style>\n",
       ".dataframe > thead > tr,\n",
       ".dataframe > tbody > tr {\n",
       "  text-align: right;\n",
       "  white-space: pre-wrap;\n",
       "}\n",
       "</style>\n",
       "<small>shape: (49_512, 13)</small><table border=\"1\" class=\"dataframe\"><thead><tr><th>date</th><th>visitStartTime</th><th>fullVisitorId</th><th>subContinent</th><th>country</th><th>city</th><th>browser</th><th>operatingSystem</th><th>deviceCategory</th><th>source</th><th>transactionId</th><th>v2ProductName</th><th>v2ProductCategory</th></tr><tr><td>date</td><td>i64</td><td>str</td><td>str</td><td>str</td><td>str</td><td>str</td><td>str</td><td>str</td><td>str</td><td>str</td><td>str</td><td>str</td></tr></thead><tbody><tr><td>2017-07-31</td><td>1501520683</td><td>&quot;2219384770970157334&quot;</td><td>&quot;Eastern Europe&quot;</td><td>&quot;Slovakia&quot;</td><td>&quot;not available in demo dataset&quot;</td><td>&quot;Firefox&quot;</td><td>&quot;Windows&quot;</td><td>&quot;desktop&quot;</td><td>&quot;google&quot;</td><td>null</td><td>&quot;Google Lunch Bag&quot;</td><td>&quot;Home/Bags/More Bags/&quot;</td></tr><tr><td>2017-07-31</td><td>1501520683</td><td>&quot;2219384770970157334&quot;</td><td>&quot;Eastern Europe&quot;</td><td>&quot;Slovakia&quot;</td><td>&quot;not available in demo dataset&quot;</td><td>&quot;Firefox&quot;</td><td>&quot;Windows&quot;</td><td>&quot;desktop&quot;</td><td>&quot;google&quot;</td><td>null</td><td>&quot;Electronics Accessory Pouch&quot;</td><td>&quot;Home/Bags/More Bags/&quot;</td></tr><tr><td>2017-07-31</td><td>1501520683</td><td>&quot;2219384770970157334&quot;</td><td>&quot;Eastern Europe&quot;</td><td>&quot;Slovakia&quot;</td><td>&quot;not available in demo dataset&quot;</td><td>&quot;Firefox&quot;</td><td>&quot;Windows&quot;</td><td>&quot;desktop&quot;</td><td>&quot;google&quot;</td><td>null</td><td>&quot;Sport Bag&quot;</td><td>&quot;Home/Bags/More Bags/&quot;</td></tr><tr><td>2017-07-31</td><td>1501520683</td><td>&quot;2219384770970157334&quot;</td><td>&quot;Eastern Europe&quot;</td><td>&quot;Slovakia&quot;</td><td>&quot;not available in demo dataset&quot;</td><td>&quot;Firefox&quot;</td><td>&quot;Windows&quot;</td><td>&quot;desktop&quot;</td><td>&quot;google&quot;</td><td>null</td><td>&quot;Google Slim Utility Travel Bag&quot;</td><td>&quot;Home/Bags/More Bags/&quot;</td></tr><tr><td>2017-07-31</td><td>1501520683</td><td>&quot;2219384770970157334&quot;</td><td>&quot;Eastern Europe&quot;</td><td>&quot;Slovakia&quot;</td><td>&quot;not available in demo dataset&quot;</td><td>&quot;Firefox&quot;</td><td>&quot;Windows&quot;</td><td>&quot;desktop&quot;</td><td>&quot;google&quot;</td><td>null</td><td>&quot;Suitcase Organizer Cubes&quot;</td><td>&quot;Home/Bags/More Bags/&quot;</td></tr><tr><td>&hellip;</td><td>&hellip;</td><td>&hellip;</td><td>&hellip;</td><td>&hellip;</td><td>&hellip;</td><td>&hellip;</td><td>&hellip;</td><td>&hellip;</td><td>&hellip;</td><td>&hellip;</td><td>&hellip;</td><td>&hellip;</td></tr><tr><td>2017-07-31</td><td>1501537217</td><td>&quot;7483600664917507409&quot;</td><td>&quot;Northern America&quot;</td><td>&quot;United States&quot;</td><td>&quot;Mountain View&quot;</td><td>&quot;Chrome&quot;</td><td>&quot;Macintosh&quot;</td><td>&quot;desktop&quot;</td><td>&quot;(direct)&quot;</td><td>&quot;ORD201707312663&quot;</td><td>&quot;Android 17oz Stainless Steel S…</td><td>&quot;Drinkware&quot;</td></tr><tr><td>2017-07-31</td><td>1501537217</td><td>&quot;7483600664917507409&quot;</td><td>&quot;Northern America&quot;</td><td>&quot;United States&quot;</td><td>&quot;Mountain View&quot;</td><td>&quot;Chrome&quot;</td><td>&quot;Macintosh&quot;</td><td>&quot;desktop&quot;</td><td>&quot;(direct)&quot;</td><td>&quot;ORD201707312663&quot;</td><td>&quot;Android Men&#x27;s Short Sleeve Her…</td><td>&quot;Apparel&quot;</td></tr><tr><td>2017-07-31</td><td>1501537217</td><td>&quot;7483600664917507409&quot;</td><td>&quot;Northern America&quot;</td><td>&quot;United States&quot;</td><td>&quot;Mountain View&quot;</td><td>&quot;Chrome&quot;</td><td>&quot;Macintosh&quot;</td><td>&quot;desktop&quot;</td><td>&quot;(direct)&quot;</td><td>&quot;ORD201707312663&quot;</td><td>&quot;Android Men&#x27;s Take Charge Shor…</td><td>&quot;Apparel&quot;</td></tr><tr><td>2017-07-31</td><td>1501537217</td><td>&quot;7483600664917507409&quot;</td><td>&quot;Northern America&quot;</td><td>&quot;United States&quot;</td><td>&quot;Mountain View&quot;</td><td>&quot;Chrome&quot;</td><td>&quot;Macintosh&quot;</td><td>&quot;desktop&quot;</td><td>&quot;(direct)&quot;</td><td>&quot;ORD201707312663&quot;</td><td>&quot;Google Women&#x27;s Scoop Neck Tee …</td><td>&quot;Apparel&quot;</td></tr><tr><td>2017-07-31</td><td>1501537217</td><td>&quot;7483600664917507409&quot;</td><td>&quot;Northern America&quot;</td><td>&quot;United States&quot;</td><td>&quot;Mountain View&quot;</td><td>&quot;Chrome&quot;</td><td>&quot;Macintosh&quot;</td><td>&quot;desktop&quot;</td><td>&quot;(direct)&quot;</td><td>null</td><td>&quot;Google Men&#x27;s 100% Cotton Short…</td><td>&quot;(not set)&quot;</td></tr></tbody></table></div>"
      ],
      "text/plain": [
       "shape: (49_512, 13)\n",
       "┌────────────┬────────────────┬─────────────────────┬──────────────────┬───┬──────────┬─────────────────┬─────────────────────────────────┬──────────────────────┐\n",
       "│ date       ┆ visitStartTime ┆ fullVisitorId       ┆ subContinent     ┆ … ┆ source   ┆ transactionId   ┆ v2ProductName                   ┆ v2ProductCategory    │\n",
       "│ ---        ┆ ---            ┆ ---                 ┆ ---              ┆   ┆ ---      ┆ ---             ┆ ---                             ┆ ---                  │\n",
       "│ date       ┆ i64            ┆ str                 ┆ str              ┆   ┆ str      ┆ str             ┆ str                             ┆ str                  │\n",
       "╞════════════╪════════════════╪═════════════════════╪══════════════════╪═══╪══════════╪═════════════════╪═════════════════════════════════╪══════════════════════╡\n",
       "│ 2017-07-31 ┆ 1501520683     ┆ 2219384770970157334 ┆ Eastern Europe   ┆ … ┆ google   ┆ null            ┆ Google Lunch Bag                ┆ Home/Bags/More Bags/ │\n",
       "│ 2017-07-31 ┆ 1501520683     ┆ 2219384770970157334 ┆ Eastern Europe   ┆ … ┆ google   ┆ null            ┆ Electronics Accessory Pouch     ┆ Home/Bags/More Bags/ │\n",
       "│ 2017-07-31 ┆ 1501520683     ┆ 2219384770970157334 ┆ Eastern Europe   ┆ … ┆ google   ┆ null            ┆ Sport Bag                       ┆ Home/Bags/More Bags/ │\n",
       "│ 2017-07-31 ┆ 1501520683     ┆ 2219384770970157334 ┆ Eastern Europe   ┆ … ┆ google   ┆ null            ┆ Google Slim Utility Travel Bag  ┆ Home/Bags/More Bags/ │\n",
       "│ 2017-07-31 ┆ 1501520683     ┆ 2219384770970157334 ┆ Eastern Europe   ┆ … ┆ google   ┆ null            ┆ Suitcase Organizer Cubes        ┆ Home/Bags/More Bags/ │\n",
       "│ …          ┆ …              ┆ …                   ┆ …                ┆ … ┆ …        ┆ …               ┆ …                               ┆ …                    │\n",
       "│ 2017-07-31 ┆ 1501537217     ┆ 7483600664917507409 ┆ Northern America ┆ … ┆ (direct) ┆ ORD201707312663 ┆ Android 17oz Stainless Steel S… ┆ Drinkware            │\n",
       "│ 2017-07-31 ┆ 1501537217     ┆ 7483600664917507409 ┆ Northern America ┆ … ┆ (direct) ┆ ORD201707312663 ┆ Android Men's Short Sleeve Her… ┆ Apparel              │\n",
       "│ 2017-07-31 ┆ 1501537217     ┆ 7483600664917507409 ┆ Northern America ┆ … ┆ (direct) ┆ ORD201707312663 ┆ Android Men's Take Charge Shor… ┆ Apparel              │\n",
       "│ 2017-07-31 ┆ 1501537217     ┆ 7483600664917507409 ┆ Northern America ┆ … ┆ (direct) ┆ ORD201707312663 ┆ Google Women's Scoop Neck Tee … ┆ Apparel              │\n",
       "│ 2017-07-31 ┆ 1501537217     ┆ 7483600664917507409 ┆ Northern America ┆ … ┆ (direct) ┆ null            ┆ Google Men's 100% Cotton Short… ┆ (not set)            │\n",
       "└────────────┴────────────────┴─────────────────────┴──────────────────┴───┴──────────┴─────────────────┴─────────────────────────────────┴──────────────────────┘"
      ]
     },
     "execution_count": 266,
     "metadata": {},
     "output_type": "execute_result"
    }
   ],
   "source": [
    "preprocessing_pipeline(df)"
   ]
  },
  {
   "cell_type": "markdown",
   "metadata": {},
   "source": [
    "# Conclusions \n",
    "- "
   ]
  }
 ],
 "metadata": {
  "kernelspec": {
   "display_name": "Python 3",
   "language": "python",
   "name": "python3"
  },
  "language_info": {
   "codemirror_mode": {
    "name": "ipython",
    "version": 3
   },
   "file_extension": ".py",
   "mimetype": "text/x-python",
   "name": "python",
   "nbconvert_exporter": "python",
   "pygments_lexer": "ipython3",
   "version": "3.12.1"
  }
 },
 "nbformat": 4,
 "nbformat_minor": 2
}
