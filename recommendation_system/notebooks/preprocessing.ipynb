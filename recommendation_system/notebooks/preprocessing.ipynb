{
 "cells": [
  {
   "cell_type": "markdown",
   "metadata": {},
   "source": [
    "# Dataset Cleaning "
   ]
  },
  {
   "cell_type": "markdown",
   "metadata": {},
   "source": [
    "The main objectives of this notebook are: \n",
    "- Import dataset \n",
    "- Get familiar with the data \n",
    "- Determine if there are data quality issues \n",
    "- Resolve any data quality issues "
   ]
  },
  {
   "cell_type": "code",
   "execution_count": 29,
   "metadata": {},
   "outputs": [],
   "source": [
    "import polars as pl \n",
    "import polars.selectors as cs "
   ]
  },
  {
   "cell_type": "code",
   "execution_count": 30,
   "metadata": {},
   "outputs": [
    {
     "data": {
      "text/plain": [
       "polars.config.Config"
      ]
     },
     "execution_count": 30,
     "metadata": {},
     "output_type": "execute_result"
    }
   ],
   "source": [
    "pl.Config.set_tbl_width_chars(200)"
   ]
  },
  {
   "cell_type": "code",
   "execution_count": 46,
   "metadata": {},
   "outputs": [],
   "source": [
    "# Read in the files \n",
    "events_df = pl.read_csv(\"../data/events.csv\")\n",
    "category_tree_df = pl.read_csv(\"../data/category_tree.csv\")\n",
    "item1 = pl.read_csv(\"../data/item_properties_part1.csv\")\n",
    "item2 = pl.read_csv(\"../data/item_properties_part2.csv\")"
   ]
  },
  {
   "cell_type": "code",
   "execution_count": 54,
   "metadata": {},
   "outputs": [],
   "source": [
    "# Concat & save the item property files \n",
    "item_df = pl.concat([item1, item2])\n",
    "item_df.write_csv(\"../data/item_properties.csv\")"
   ]
  },
  {
   "cell_type": "code",
   "execution_count": 32,
   "metadata": {},
   "outputs": [
    {
     "data": {
      "text/html": [
       "<div><style>\n",
       ".dataframe > thead > tr,\n",
       ".dataframe > tbody > tr {\n",
       "  text-align: right;\n",
       "  white-space: pre-wrap;\n",
       "}\n",
       "</style>\n",
       "<small>shape: (5, 5)</small><table border=\"1\" class=\"dataframe\"><thead><tr><th>timestamp</th><th>visitorid</th><th>event</th><th>itemid</th><th>transactionid</th></tr><tr><td>i64</td><td>i64</td><td>str</td><td>i64</td><td>str</td></tr></thead><tbody><tr><td>1433221332117</td><td>257597</td><td>&quot;view&quot;</td><td>355908</td><td>null</td></tr><tr><td>1433224214164</td><td>992329</td><td>&quot;view&quot;</td><td>248676</td><td>null</td></tr><tr><td>1433221999827</td><td>111016</td><td>&quot;view&quot;</td><td>318965</td><td>null</td></tr><tr><td>1433221955914</td><td>483717</td><td>&quot;view&quot;</td><td>253185</td><td>null</td></tr><tr><td>1433221337106</td><td>951259</td><td>&quot;view&quot;</td><td>367447</td><td>null</td></tr></tbody></table></div>"
      ],
      "text/plain": [
       "shape: (5, 5)\n",
       "┌───────────────┬───────────┬───────┬────────┬───────────────┐\n",
       "│ timestamp     ┆ visitorid ┆ event ┆ itemid ┆ transactionid │\n",
       "│ ---           ┆ ---       ┆ ---   ┆ ---    ┆ ---           │\n",
       "│ i64           ┆ i64       ┆ str   ┆ i64    ┆ str           │\n",
       "╞═══════════════╪═══════════╪═══════╪════════╪═══════════════╡\n",
       "│ 1433221332117 ┆ 257597    ┆ view  ┆ 355908 ┆ null          │\n",
       "│ 1433224214164 ┆ 992329    ┆ view  ┆ 248676 ┆ null          │\n",
       "│ 1433221999827 ┆ 111016    ┆ view  ┆ 318965 ┆ null          │\n",
       "│ 1433221955914 ┆ 483717    ┆ view  ┆ 253185 ┆ null          │\n",
       "│ 1433221337106 ┆ 951259    ┆ view  ┆ 367447 ┆ null          │\n",
       "└───────────────┴───────────┴───────┴────────┴───────────────┘"
      ]
     },
     "execution_count": 32,
     "metadata": {},
     "output_type": "execute_result"
    }
   ],
   "source": [
    "events_df.head()"
   ]
  },
  {
   "cell_type": "code",
   "execution_count": 33,
   "metadata": {},
   "outputs": [
    {
     "data": {
      "text/plain": [
       "(2756101, 5)"
      ]
     },
     "execution_count": 33,
     "metadata": {},
     "output_type": "execute_result"
    }
   ],
   "source": [
    "events_df.shape"
   ]
  },
  {
   "cell_type": "code",
   "execution_count": 35,
   "metadata": {},
   "outputs": [
    {
     "data": {
      "text/plain": [
       "['timestamp', 'visitorid', 'event', 'itemid', 'transactionid']"
      ]
     },
     "execution_count": 35,
     "metadata": {},
     "output_type": "execute_result"
    }
   ],
   "source": [
    "events_df.columns"
   ]
  },
  {
   "cell_type": "code",
   "execution_count": 38,
   "metadata": {},
   "outputs": [
    {
     "data": {
      "text/html": [
       "<div><style>\n",
       ".dataframe > thead > tr,\n",
       ".dataframe > tbody > tr {\n",
       "  text-align: right;\n",
       "  white-space: pre-wrap;\n",
       "}\n",
       "</style>\n",
       "<small>shape: (1, 5)</small><table border=\"1\" class=\"dataframe\"><thead><tr><th>timestamp</th><th>visitorid</th><th>event</th><th>itemid</th><th>transactionid</th></tr><tr><td>u32</td><td>u32</td><td>u32</td><td>u32</td><td>u32</td></tr></thead><tbody><tr><td>0</td><td>0</td><td>0</td><td>0</td><td>2733644</td></tr></tbody></table></div>"
      ],
      "text/plain": [
       "shape: (1, 5)\n",
       "┌───────────┬───────────┬───────┬────────┬───────────────┐\n",
       "│ timestamp ┆ visitorid ┆ event ┆ itemid ┆ transactionid │\n",
       "│ ---       ┆ ---       ┆ ---   ┆ ---    ┆ ---           │\n",
       "│ u32       ┆ u32       ┆ u32   ┆ u32    ┆ u32           │\n",
       "╞═══════════╪═══════════╪═══════╪════════╪═══════════════╡\n",
       "│ 0         ┆ 0         ┆ 0     ┆ 0      ┆ 2733644       │\n",
       "└───────────┴───────────┴───────┴────────┴───────────────┘"
      ]
     },
     "execution_count": 38,
     "metadata": {},
     "output_type": "execute_result"
    }
   ],
   "source": [
    "events_df.select(pl.all().is_null().sum())"
   ]
  },
  {
   "cell_type": "markdown",
   "metadata": {},
   "source": [
    "### Data Pre-processing Pipeline"
   ]
  },
  {
   "cell_type": "code",
   "execution_count": 64,
   "metadata": {},
   "outputs": [],
   "source": [
    "def preprocessing_pipeline(df: pl.DataFrame):\n",
    "    \"\"\"\n",
    "    Args:\n",
    "        df : pl.DataFrame\n",
    "\n",
    "    Returns:\n",
    "        pl.DataFrames: dataframe insights \n",
    "    \"\"\"\n",
    "\n",
    "    print(\"Dataframe first 5 rows\")\n",
    "    print(df.head())\n",
    "    print(\" \")\n",
    "    print(\"Dataframe shape\")\n",
    "    print(df.shape)\n",
    "    print(\" \")\n",
    "    print(\"Dataframe columns\")\n",
    "    print(df.columns)\n",
    "    print(\" \")\n",
    "    print(\"Dataframe null values\")\n",
    "    print(df.select(pl.all().is_null().sum()))"
   ]
  },
  {
   "cell_type": "code",
   "execution_count": 66,
   "metadata": {},
   "outputs": [
    {
     "name": "stdout",
     "output_type": "stream",
     "text": [
      "Dataframe first 5 rows\n",
      "shape: (5, 2)\n",
      "┌────────────┬──────────┐\n",
      "│ categoryid ┆ parentid │\n",
      "│ ---        ┆ ---      │\n",
      "│ i64        ┆ i64      │\n",
      "╞════════════╪══════════╡\n",
      "│ 1016       ┆ 213      │\n",
      "│ 809        ┆ 169      │\n",
      "│ 570        ┆ 9        │\n",
      "│ 1691       ┆ 885      │\n",
      "│ 536        ┆ 1691     │\n",
      "└────────────┴──────────┘\n",
      " \n",
      "Dataframe shape\n",
      "(1669, 2)\n",
      " \n",
      "Dataframe columns\n",
      "['categoryid', 'parentid']\n",
      " \n",
      "Dataframe null values\n",
      "shape: (1, 2)\n",
      "┌────────────┬──────────┐\n",
      "│ categoryid ┆ parentid │\n",
      "│ ---        ┆ ---      │\n",
      "│ u32        ┆ u32      │\n",
      "╞════════════╪══════════╡\n",
      "│ 0          ┆ 25       │\n",
      "└────────────┴──────────┘\n"
     ]
    }
   ],
   "source": [
    "preprocessing_pipeline(category_tree_df)"
   ]
  },
  {
   "cell_type": "code",
   "execution_count": 67,
   "metadata": {},
   "outputs": [
    {
     "name": "stdout",
     "output_type": "stream",
     "text": [
      "Dataframe first 5 rows\n",
      "shape: (5, 4)\n",
      "┌───────────────┬────────┬────────────┬─────────────────────────────────┐\n",
      "│ timestamp     ┆ itemid ┆ property   ┆ value                           │\n",
      "│ ---           ┆ ---    ┆ ---        ┆ ---                             │\n",
      "│ i64           ┆ i64    ┆ str        ┆ str                             │\n",
      "╞═══════════════╪════════╪════════════╪═════════════════════════════════╡\n",
      "│ 1435460400000 ┆ 460429 ┆ categoryid ┆ 1338                            │\n",
      "│ 1441508400000 ┆ 206783 ┆ 888        ┆ 1116713 960601 n277.200         │\n",
      "│ 1439089200000 ┆ 395014 ┆ 400        ┆ n552.000 639502 n720.000 42456… │\n",
      "│ 1431226800000 ┆ 59481  ┆ 790        ┆ n15360.000                      │\n",
      "│ 1431831600000 ┆ 156781 ┆ 917        ┆ 828513                          │\n",
      "└───────────────┴────────┴────────────┴─────────────────────────────────┘\n",
      " \n",
      "Dataframe shape\n",
      "(20275902, 4)\n",
      " \n",
      "Dataframe columns\n",
      "['timestamp', 'itemid', 'property', 'value']\n",
      " \n",
      "Dataframe null values\n",
      "shape: (1, 4)\n",
      "┌───────────┬────────┬──────────┬───────┐\n",
      "│ timestamp ┆ itemid ┆ property ┆ value │\n",
      "│ ---       ┆ ---    ┆ ---      ┆ ---   │\n",
      "│ u32       ┆ u32    ┆ u32      ┆ u32   │\n",
      "╞═══════════╪════════╪══════════╪═══════╡\n",
      "│ 0         ┆ 0      ┆ 0        ┆ 0     │\n",
      "└───────────┴────────┴──────────┴───────┘\n"
     ]
    }
   ],
   "source": [
    "preprocessing_pipeline(item_df)"
   ]
  },
  {
   "cell_type": "markdown",
   "metadata": {},
   "source": [
    "### Conclusions \n",
    "- The datasets are very clean with virtually no null values. \n",
    "- Consequently they will not require any cleaning "
   ]
  },
  {
   "cell_type": "code",
   "execution_count": null,
   "metadata": {},
   "outputs": [],
   "source": []
  }
 ],
 "metadata": {
  "kernelspec": {
   "display_name": "Python 3",
   "language": "python",
   "name": "python3"
  },
  "language_info": {
   "codemirror_mode": {
    "name": "ipython",
    "version": 3
   },
   "file_extension": ".py",
   "mimetype": "text/x-python",
   "name": "python",
   "nbconvert_exporter": "python",
   "pygments_lexer": "ipython3",
   "version": "3.12.1"
  }
 },
 "nbformat": 4,
 "nbformat_minor": 2
}
